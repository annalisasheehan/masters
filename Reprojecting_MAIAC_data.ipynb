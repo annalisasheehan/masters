{
 "cells": [
  {
   "cell_type": "markdown",
   "metadata": {},
   "source": [
    "# Import relevant libraries"
   ]
  },
  {
   "cell_type": "code",
   "execution_count": 1,
   "metadata": {
    "collapsed": false
   },
   "outputs": [],
   "source": [
    "import os\n",
    "import gdal\n",
    "import glob\n",
    "import datetime\n",
    "from convert_to_pm25 import convert_to_pm25"
   ]
  },
  {
   "cell_type": "markdown",
   "metadata": {},
   "source": [
    "## Specify my variables"
   ]
  },
  {
   "cell_type": "markdown",
   "metadata": {
    "collapsed": false
   },
   "source": [
    "# Arguments of the function\n",
    "input_folder= r'D:\\MAIAC_Data\\Europe\\h00v01'\n",
    "output_folder = r'D:\\MAIAC_Data\\Europe\\h00v01\\Projected'\n",
    "glob_string = '????\\MAIAC?AOT*.hdf'"
   ]
  },
  {
   "cell_type": "markdown",
   "metadata": {},
   "source": [
    "# Test arguments"
   ]
  },
  {
   "cell_type": "code",
   "execution_count": 2,
   "metadata": {
    "collapsed": true
   },
   "outputs": [],
   "source": [
    "# Arguments of the function\n",
    "input_folder= r'D:\\Annies_Dissertation\\MAIAC_Test\\subset'\n",
    "output_folder = r'D:\\Annies_Dissertation\\MAIAC_Test\\subset\\Projected'\n",
    "glob_string = '????\\MAIAC?AOT*.hdf'\n",
    "eta_Monthly = r'D:\\Annies_Dissertation\\MAIAC_Test\\vanDs\\eta_Monthly.tif'"
   ]
  },
  {
   "cell_type": "markdown",
   "metadata": {},
   "source": [
    "# Translate Lat and Lon files\n",
    "- Find out information about the lat lon file\n",
    "- Using the gdal_translate tool convert the lat and lon hdr files into vrt format"
   ]
  },
  {
   "cell_type": "markdown",
   "metadata": {
    "collapsed": false,
    "scrolled": false
   },
   "source": [
    "latlon_info = gdal.Info(r'D:\\MAIAC_Data\\Europe\\MAIACLatlon.h00v01.hdf')\n",
    "print(latlon_info)\n",
    "\n",
    "gdal.Translate(r\"D:\\MAIAC_Data\\Europe\\h00v01\\h00v01_lat.vrt\", \n",
    "               r'HDF4_EOS:EOS_GRID:\"D:\\MAIAC_Data\\Europe\\MAIACLatlon.h00v01.hdf\":latlon:lat', format = 'VRT' )\n",
    "\n",
    "gdal.Translate(r\"D:\\MAIAC_Data\\Europe\\h00v01\\h00v01_lon.vrt\", \n",
    "               r'HDF4_EOS:EOS_GRID:\"D:\\MAIAC_Data\\Europe\\MAIACLatlon.h00v01.hdf\":latlon:lon', format = 'VRT' )"
   ]
  },
  {
   "cell_type": "markdown",
   "metadata": {},
   "source": [
    "# Warp the AOT images\n",
    "- get a list of names of HDF files\n",
    "- for each file name in list write data.vrt (change file name in data.vrt for each of the files)\n",
    "    - use os.system or os.path to write a 'data.vrt' text file in xml language \n",
    "    - open(\"data.vrt\")\n",
    "- run gdal_warp and rename projected*.tif"
   ]
  },
  {
   "cell_type": "markdown",
   "metadata": {},
   "source": [
    "## Create geoloc.vrt"
   ]
  },
  {
   "cell_type": "code",
   "execution_count": 3,
   "metadata": {
    "collapsed": true
   },
   "outputs": [],
   "source": [
    "geoloc_xml = \"\"\"<VRTDataset rasterXSize=\"1200\" rasterYSize=\"1200\">\n",
    "  <Metadata domain=\"GEOLOCATION\">\n",
    "     <mdi key=\"X_DATASET\">h00v01_lon.vrt</mdi>\n",
    "     <mdi key=\"X_BAND\">1</mdi>\n",
    "     <mdi key=\"Y_DATASET\">h00v01_lat.vrt</mdi>\n",
    "     <mdi key=\"Y_BAND\">1</mdi>\n",
    "     <mdi key=\"PIXEL_OFFSET\">0</mdi>\n",
    "     <mdi key=\"LINE_OFFSET\">0</mdi>\n",
    "     <mdi key=\"PIXEL_STEP\">1</mdi>\n",
    "     <mdi key=\"LINE_STEP\">1</mdi>\n",
    "  </Metadata>\n",
    "  <VRTRasterBand dataType=\"Float32\" band=\"1\">\n",
    "    <ColorInterp>Gray</ColorInterp>\n",
    "    <SimpleSource>\n",
    "      <SourceFilename relativeToVRT=\"0\">HDF4_EOS:EOS_GRID:\"{fname}\":grid1km:Optical_Depth_Land</SourceFilename>\n",
    "      <SourceBand>1</SourceBand>\n",
    "      <SourceProperties RasterXSize=\"1200\" RasterYSize=\"1200\" DataType=\"Float32\" BlockXSize=\"1200\" BlockYSize=\"1200\" />\n",
    "      <SrcRect xOff=\"0\" yOff=\"0\" xSize=\"1200\" ySize=\"1200\" />\n",
    "      <DstRect xOff=\"0\" yOff=\"0\" xSize=\"1200\" ySize=\"1200\" />\n",
    "    </SimpleSource>\n",
    "  </VRTRasterBand>\n",
    "</VRTDataset>\n",
    "\"\"\""
   ]
  },
  {
   "cell_type": "markdown",
   "metadata": {},
   "source": [
    "## Function which takes a MAIAC AOT file and performs geolocation using the associated MAIAC Lat and Lon files, and then warps to specified co-ordinate system"
   ]
  },
  {
   "cell_type": "code",
   "execution_count": 4,
   "metadata": {
    "collapsed": true
   },
   "outputs": [],
   "source": [
    "def geolocate_and_warp(input_filename, output_filename, output_crs='EPSG:27700'):\n",
    "    with open(r'geoloc_test.vrt', 'w') as myfile:\n",
    "        myfile.write(geoloc_xml.format(fname=input_filename))\n",
    "    gdal.Warp(output_filename,\n",
    "             r'geoloc_test.vrt',\n",
    "             geoloc = True, srcSRS = 'EPSG:4326', dstSRS = output_crs, \n",
    "              srcNodata = -28672, dstNodata = -28672)"
   ]
  },
  {
   "cell_type": "markdown",
   "metadata": {},
   "source": [
    "## Get the list of all files in the input folder that match the glob string"
   ]
  },
  {
   "cell_type": "code",
   "execution_count": 5,
   "metadata": {
    "collapsed": true
   },
   "outputs": [],
   "source": [
    "filenames = glob.glob(os.path.join(input_folder, glob_string))"
   ]
  },
  {
   "cell_type": "markdown",
   "metadata": {},
   "source": [
    "## Month variable for AOT_toPM2.5"
   ]
  },
  {
   "cell_type": "code",
   "execution_count": 6,
   "metadata": {
    "collapsed": true
   },
   "outputs": [],
   "source": [
    "def month(AOT_filename):\n",
    "       \n",
    "    time_str = os.path.basename(AOT_filename)[17:28]\n",
    "    time_obj = datetime.datetime.strptime(time_str, '%Y%j%H%M')\n",
    "    mth = time_obj.month\n",
    "    int_mth = int(mth)\n",
    "\n",
    "    return int_mth"
   ]
  },
  {
   "cell_type": "markdown",
   "metadata": {},
   "source": [
    "## For statement which loops over each file and produces the geoloc.vrt and projects the image"
   ]
  },
  {
   "cell_type": "code",
   "execution_count": 8,
   "metadata": {
    "collapsed": false
   },
   "outputs": [
    {
     "name": "stdout",
     "output_type": "stream",
     "text": [
      "Processing D:\\Annies_Dissertation\\MAIAC_Test\\subset\\2000\\MAIACTAOT.h00v01.20000611110.hdf\n"
     ]
    },
    {
     "ename": "PermissionError",
     "evalue": "[WinError 32] The process cannot access the file because it is being used by another process: 'C:\\\\Users\\\\ans1g15\\\\AppData\\\\Local\\\\Temp\\\\hotbar6kw66rw7'",
     "output_type": "error",
     "traceback": [
      "\u001b[1;31m---------------------------------------------------------------------------\u001b[0m",
      "\u001b[1;31mPermissionError\u001b[0m                           Traceback (most recent call last)",
      "\u001b[1;32m<ipython-input-8-0182370d3594>\u001b[0m in \u001b[0;36m<module>\u001b[1;34m()\u001b[0m\n\u001b[0;32m     13\u001b[0m \u001b[1;33m\u001b[0m\u001b[0m\n\u001b[0;32m     14\u001b[0m     convert_to_pm25(AOT_filename, eta_Monthly, month(AOT_filename), \n\u001b[1;32m---> 15\u001b[1;33m                     output_basename + \"_PM25.tif\", 0.001)\n\u001b[0m",
      "\u001b[1;32mD:\\Annies_Dissertation\\code\\convert_to_pm25.py\u001b[0m in \u001b[0;36mconvert_to_pm25\u001b[1;34m(aot_filename, eta_filename, month, dest_filename, aot_scale_factor)\u001b[0m\n\u001b[0;32m     82\u001b[0m     \u001b[0maot_data\u001b[0m\u001b[1;33m[\u001b[0m\u001b[0maot_data\u001b[0m \u001b[1;33m==\u001b[0m \u001b[0maot_nodata_value\u001b[0m\u001b[1;33m]\u001b[0m \u001b[1;33m=\u001b[0m \u001b[0mnp\u001b[0m\u001b[1;33m.\u001b[0m\u001b[0mnan\u001b[0m\u001b[1;33m\u001b[0m\u001b[0m\n\u001b[0;32m     83\u001b[0m \u001b[1;33m\u001b[0m\u001b[0m\n\u001b[1;32m---> 84\u001b[1;33m     \u001b[0meta_data\u001b[0m \u001b[1;33m=\u001b[0m \u001b[0mget_eta_data\u001b[0m\u001b[1;33m(\u001b[0m\u001b[0maot_filename\u001b[0m\u001b[1;33m,\u001b[0m \u001b[0meta_filename\u001b[0m\u001b[1;33m,\u001b[0m \u001b[0mmonth\u001b[0m\u001b[1;33m)\u001b[0m\u001b[1;33m\u001b[0m\u001b[0m\n\u001b[0m\u001b[0;32m     85\u001b[0m \u001b[1;33m\u001b[0m\u001b[0m\n\u001b[0;32m     86\u001b[0m     \u001b[0mpm25_data\u001b[0m \u001b[1;33m=\u001b[0m \u001b[0maot_data\u001b[0m \u001b[1;33m*\u001b[0m \u001b[0maot_scale_factor\u001b[0m \u001b[1;33m*\u001b[0m \u001b[0meta_data\u001b[0m\u001b[1;33m\u001b[0m\u001b[0m\n",
      "\u001b[1;32mD:\\Annies_Dissertation\\code\\convert_to_pm25.py\u001b[0m in \u001b[0;36mget_eta_data\u001b[1;34m(aot_filename, eta_filename, month)\u001b[0m\n\u001b[0;32m     41\u001b[0m     result = get_eta_data_wrapper(aot_filename, eta_filename, month,\n\u001b[0;32m     42\u001b[0m                                   \u001b[0maot_im\u001b[0m\u001b[1;33m.\u001b[0m\u001b[0mGetGeoTransform\u001b[0m\u001b[1;33m(\u001b[0m\u001b[1;33m)\u001b[0m\u001b[1;33m,\u001b[0m\u001b[1;33m\u001b[0m\u001b[0m\n\u001b[1;32m---> 43\u001b[1;33m                                   aot_im.GetProjection())\n\u001b[0m\u001b[0;32m     44\u001b[0m     \u001b[0maot_im\u001b[0m \u001b[1;33m=\u001b[0m \u001b[1;32mNone\u001b[0m\u001b[1;33m\u001b[0m\u001b[0m\n\u001b[0;32m     45\u001b[0m \u001b[1;33m\u001b[0m\u001b[0m\n",
      "\u001b[1;32mD:\\Annies_Dissertation\\code\\convert_to_pm25.py\u001b[0m in \u001b[0;36mget_eta_data_wrapper\u001b[1;34m(aot_filename, eta_filename, month, geotransform, proj)\u001b[0m\n\u001b[0;32m     31\u001b[0m     \u001b[1;31m# Delete temporary files\u001b[0m\u001b[1;33m\u001b[0m\u001b[1;33m\u001b[0m\u001b[0m\n\u001b[0;32m     32\u001b[0m     \u001b[0mos\u001b[0m\u001b[1;33m.\u001b[0m\u001b[0mremove\u001b[0m\u001b[1;33m(\u001b[0m\u001b[0meta_band\u001b[0m\u001b[1;33m)\u001b[0m\u001b[1;33m\u001b[0m\u001b[0m\n\u001b[1;32m---> 33\u001b[1;33m     \u001b[0mos\u001b[0m\u001b[1;33m.\u001b[0m\u001b[0mremove\u001b[0m\u001b[1;33m(\u001b[0m\u001b[0meta_band_resampled\u001b[0m\u001b[1;33m)\u001b[0m\u001b[1;33m\u001b[0m\u001b[0m\n\u001b[0m\u001b[0;32m     34\u001b[0m \u001b[1;33m\u001b[0m\u001b[0m\n\u001b[0;32m     35\u001b[0m     \u001b[1;32mreturn\u001b[0m \u001b[0meta_data\u001b[0m\u001b[1;33m\u001b[0m\u001b[0m\n",
      "\u001b[1;31mPermissionError\u001b[0m: [WinError 32] The process cannot access the file because it is being used by another process: 'C:\\\\Users\\\\ans1g15\\\\AppData\\\\Local\\\\Temp\\\\hotbar6kw66rw7'"
     ]
    }
   ],
   "source": [
    "for filename in filenames:\n",
    "    print ('Processing {fname}'.format(fname=filename))\n",
    "    output_basename = os.path.join(output_folder,\n",
    "                                  os.path.relpath(filename,\n",
    "                                                 start = input_folder))\n",
    "    output_dir = os.path.dirname(output_basename)\n",
    "    AOT_filename = output_basename + \"_proj.tif\"\n",
    "    \n",
    "    if not os.path.exists(output_dir):\n",
    "        os.makedirs(output_dir)\n",
    "        \n",
    "    geolocate_and_warp(filename, AOT_filename)\n",
    "    \n",
    "    convert_to_pm25(AOT_filename, eta_Monthly, month(AOT_filename), \n",
    "                    output_basename + \"_PM25.tif\", 0.001)"
   ]
  },
  {
   "cell_type": "code",
   "execution_count": null,
   "metadata": {
    "collapsed": true
   },
   "outputs": [],
   "source": []
  }
 ],
 "metadata": {
  "kernelspec": {
   "display_name": "Python 3",
   "language": "python",
   "name": "python3"
  },
  "language_info": {
   "codemirror_mode": {
    "name": "ipython",
    "version": 3
   },
   "file_extension": ".py",
   "mimetype": "text/x-python",
   "name": "python",
   "nbconvert_exporter": "python",
   "pygments_lexer": "ipython3",
   "version": "3.5.1"
  }
 },
 "nbformat": 4,
 "nbformat_minor": 0
}
