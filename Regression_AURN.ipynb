{
 "cells": [
  {
   "cell_type": "code",
   "execution_count": 72,
   "metadata": {
    "collapsed": true
   },
   "outputs": [],
   "source": [
    "import numpy as np\n",
    "import xarray as xr\n",
    "import rasterio\n",
    "%matplotlib inline\n",
    "from matplotlib.pyplot import *\n",
    "from glob import glob\n",
    "import glob\n",
    "import os\n",
    "import datetime\n",
    "import pandas as pd\n",
    "from rasterio_to_xarray import rasterio_to_xarray, xarray_to_rasterio\n",
    "from statsmodels.formula.api import ols"
   ]
  },
  {
   "cell_type": "code",
   "execution_count": 23,
   "metadata": {
    "collapsed": true
   },
   "outputs": [],
   "source": [
    "AURN_Soton = pd.read_csv(r'D:\\Annies_Dissertation\\Methodology\\Validation\\AURN\\Southampton\\AURN_Soton.csv')"
   ]
  },
  {
   "cell_type": "code",
   "execution_count": 34,
   "metadata": {
    "collapsed": false
   },
   "outputs": [
    {
     "data": {
      "text/html": [
       "<div>\n",
       "<table border=\"1\" class=\"dataframe\">\n",
       "  <thead>\n",
       "    <tr style=\"text-align: right;\">\n",
       "      <th></th>\n",
       "      <th>timestamp</th>\n",
       "      <th>PM25</th>\n",
       "      <th>month</th>\n",
       "      <th>year</th>\n",
       "    </tr>\n",
       "  </thead>\n",
       "  <tbody>\n",
       "    <tr>\n",
       "      <th>0</th>\n",
       "      <td>2008-11-06 01:00:00</td>\n",
       "      <td>26.0</td>\n",
       "      <td>11</td>\n",
       "      <td>2008</td>\n",
       "    </tr>\n",
       "    <tr>\n",
       "      <th>1</th>\n",
       "      <td>2008-11-06 02:00:00</td>\n",
       "      <td>18.0</td>\n",
       "      <td>11</td>\n",
       "      <td>2008</td>\n",
       "    </tr>\n",
       "    <tr>\n",
       "      <th>2</th>\n",
       "      <td>2008-11-06 03:00:00</td>\n",
       "      <td>19.0</td>\n",
       "      <td>11</td>\n",
       "      <td>2008</td>\n",
       "    </tr>\n",
       "    <tr>\n",
       "      <th>3</th>\n",
       "      <td>2008-11-06 04:00:00</td>\n",
       "      <td>22.0</td>\n",
       "      <td>11</td>\n",
       "      <td>2008</td>\n",
       "    </tr>\n",
       "    <tr>\n",
       "      <th>4</th>\n",
       "      <td>2008-11-06 05:00:00</td>\n",
       "      <td>25.0</td>\n",
       "      <td>11</td>\n",
       "      <td>2008</td>\n",
       "    </tr>\n",
       "  </tbody>\n",
       "</table>\n",
       "</div>"
      ],
      "text/plain": [
       "             timestamp  PM25 month  year\n",
       "0  2008-11-06 01:00:00  26.0    11  2008\n",
       "1  2008-11-06 02:00:00  18.0    11  2008\n",
       "2  2008-11-06 03:00:00  19.0    11  2008\n",
       "3  2008-11-06 04:00:00  22.0    11  2008\n",
       "4  2008-11-06 05:00:00  25.0    11  2008"
      ]
     },
     "execution_count": 34,
     "metadata": {},
     "output_type": "execute_result"
    }
   ],
   "source": [
    "AURN_Soton[:5]"
   ]
  },
  {
   "cell_type": "code",
   "execution_count": 25,
   "metadata": {
    "collapsed": false
   },
   "outputs": [],
   "source": [
    "AURN_Soton['month'] = AURN_Soton.timestamp.str[5:7]"
   ]
  },
  {
   "cell_type": "code",
   "execution_count": 28,
   "metadata": {
    "collapsed": true
   },
   "outputs": [],
   "source": [
    "AURN_Soton['year'] = AURN_Soton.timestamp.str[:4]"
   ]
  },
  {
   "cell_type": "code",
   "execution_count": 31,
   "metadata": {
    "collapsed": true
   },
   "outputs": [],
   "source": [
    "AURN_Soton = AURN_Soton.rename(columns={'PM2.5_Soton_Centre': 'PM25'})"
   ]
  },
  {
   "cell_type": "code",
   "execution_count": 33,
   "metadata": {
    "collapsed": true
   },
   "outputs": [],
   "source": [
    "AURN_Soton = AURN_Soton[['timestamp', 'PM25', 'month', 'year']].dropna()"
   ]
  },
  {
   "cell_type": "code",
   "execution_count": 38,
   "metadata": {
    "collapsed": false
   },
   "outputs": [],
   "source": [
    "AURN_Soton_mth = AURN_Soton.groupby(['year','month']).mean()"
   ]
  },
  {
   "cell_type": "code",
   "execution_count": 40,
   "metadata": {
    "collapsed": false
   },
   "outputs": [
    {
     "data": {
      "text/html": [
       "<div>\n",
       "<table border=\"1\" class=\"dataframe\">\n",
       "  <thead>\n",
       "    <tr style=\"text-align: right;\">\n",
       "      <th></th>\n",
       "      <th></th>\n",
       "      <th>PM25</th>\n",
       "    </tr>\n",
       "    <tr>\n",
       "      <th>year</th>\n",
       "      <th>month</th>\n",
       "      <th></th>\n",
       "    </tr>\n",
       "  </thead>\n",
       "  <tbody>\n",
       "    <tr>\n",
       "      <th rowspan=\"2\" valign=\"top\">2008</th>\n",
       "      <th>11</th>\n",
       "      <td>10.478114</td>\n",
       "    </tr>\n",
       "    <tr>\n",
       "      <th>12</th>\n",
       "      <td>19.876178</td>\n",
       "    </tr>\n",
       "    <tr>\n",
       "      <th rowspan=\"3\" valign=\"top\">2009</th>\n",
       "      <th>01</th>\n",
       "      <td>22.959072</td>\n",
       "    </tr>\n",
       "    <tr>\n",
       "      <th>02</th>\n",
       "      <td>16.287692</td>\n",
       "    </tr>\n",
       "    <tr>\n",
       "      <th>03</th>\n",
       "      <td>14.958092</td>\n",
       "    </tr>\n",
       "  </tbody>\n",
       "</table>\n",
       "</div>"
      ],
      "text/plain": [
       "                 PM25\n",
       "year month           \n",
       "2008 11     10.478114\n",
       "     12     19.876178\n",
       "2009 01     22.959072\n",
       "     02     16.287692\n",
       "     03     14.958092"
      ]
     },
     "execution_count": 40,
     "metadata": {},
     "output_type": "execute_result"
    }
   ],
   "source": [
    "AURN_Soton_mth[:5]"
   ]
  },
  {
   "cell_type": "code",
   "execution_count": 41,
   "metadata": {
    "collapsed": true
   },
   "outputs": [],
   "source": [
    "Circulatory_mth = pd.read_csv(r'D:\\Annies_Dissertation\\Analysis\\Regression\\HES\\AllCirculatory_monthly_all.csv')"
   ]
  },
  {
   "cell_type": "code",
   "execution_count": 45,
   "metadata": {
    "collapsed": false
   },
   "outputs": [
    {
     "data": {
      "text/html": [
       "<div>\n",
       "<table border=\"1\" class=\"dataframe\">\n",
       "  <thead>\n",
       "    <tr style=\"text-align: right;\">\n",
       "      <th></th>\n",
       "      <th>Disease</th>\n",
       "      <th>year</th>\n",
       "      <th>month</th>\n",
       "      <th>lsoa11</th>\n",
       "      <th>n</th>\n",
       "      <th>DSR</th>\n",
       "      <th>lcl</th>\n",
       "      <th>ucl</th>\n",
       "      <th>score</th>\n",
       "      <th>rank</th>\n",
       "      <th>decile</th>\n",
       "    </tr>\n",
       "  </thead>\n",
       "  <tbody>\n",
       "    <tr>\n",
       "      <th>8</th>\n",
       "      <td>All Circulatory</td>\n",
       "      <td>2009</td>\n",
       "      <td>1</td>\n",
       "      <td>E01015282</td>\n",
       "      <td>5.0</td>\n",
       "      <td>887.141540</td>\n",
       "      <td>75.347672</td>\n",
       "      <td>2490.366455</td>\n",
       "      <td>71.160004</td>\n",
       "      <td>226</td>\n",
       "      <td>1</td>\n",
       "    </tr>\n",
       "    <tr>\n",
       "      <th>16</th>\n",
       "      <td>All Circulatory</td>\n",
       "      <td>2009</td>\n",
       "      <td>1</td>\n",
       "      <td>E01015291</td>\n",
       "      <td>7.0</td>\n",
       "      <td>216.578567</td>\n",
       "      <td>82.616661</td>\n",
       "      <td>454.142334</td>\n",
       "      <td>17.190001</td>\n",
       "      <td>16593</td>\n",
       "      <td>6</td>\n",
       "    </tr>\n",
       "    <tr>\n",
       "      <th>22</th>\n",
       "      <td>All Circulatory</td>\n",
       "      <td>2009</td>\n",
       "      <td>1</td>\n",
       "      <td>E01015298</td>\n",
       "      <td>6.0</td>\n",
       "      <td>191.004242</td>\n",
       "      <td>64.210968</td>\n",
       "      <td>426.672730</td>\n",
       "      <td>10.750000</td>\n",
       "      <td>23309</td>\n",
       "      <td>8</td>\n",
       "    </tr>\n",
       "    <tr>\n",
       "      <th>24</th>\n",
       "      <td>All Circulatory</td>\n",
       "      <td>2009</td>\n",
       "      <td>1</td>\n",
       "      <td>E01015300</td>\n",
       "      <td>5.0</td>\n",
       "      <td>257.656281</td>\n",
       "      <td>81.810043</td>\n",
       "      <td>604.937927</td>\n",
       "      <td>6.780000</td>\n",
       "      <td>28266</td>\n",
       "      <td>9</td>\n",
       "    </tr>\n",
       "    <tr>\n",
       "      <th>43</th>\n",
       "      <td>All Circulatory</td>\n",
       "      <td>2009</td>\n",
       "      <td>1</td>\n",
       "      <td>E01015320</td>\n",
       "      <td>10.0</td>\n",
       "      <td>771.911560</td>\n",
       "      <td>344.309540</td>\n",
       "      <td>1461.249023</td>\n",
       "      <td>8.580000</td>\n",
       "      <td>26015</td>\n",
       "      <td>8</td>\n",
       "    </tr>\n",
       "  </tbody>\n",
       "</table>\n",
       "</div>"
      ],
      "text/plain": [
       "            Disease  year  month     lsoa11     n         DSR         lcl  \\\n",
       "8   All Circulatory  2009      1  E01015282   5.0  887.141540   75.347672   \n",
       "16  All Circulatory  2009      1  E01015291   7.0  216.578567   82.616661   \n",
       "22  All Circulatory  2009      1  E01015298   6.0  191.004242   64.210968   \n",
       "24  All Circulatory  2009      1  E01015300   5.0  257.656281   81.810043   \n",
       "43  All Circulatory  2009      1  E01015320  10.0  771.911560  344.309540   \n",
       "\n",
       "            ucl      score   rank  decile  \n",
       "8   2490.366455  71.160004    226       1  \n",
       "16   454.142334  17.190001  16593       6  \n",
       "22   426.672730  10.750000  23309       8  \n",
       "24   604.937927   6.780000  28266       9  \n",
       "43  1461.249023   8.580000  26015       8  "
      ]
     },
     "execution_count": 45,
     "metadata": {},
     "output_type": "execute_result"
    }
   ],
   "source": [
    "Circulatory_mth[:5]"
   ]
  },
  {
   "cell_type": "code",
   "execution_count": 44,
   "metadata": {
    "collapsed": true
   },
   "outputs": [],
   "source": [
    "Circulatory_mth = Circulatory_mth[['Disease', 'year', 'month', 'lsoa11', 'n', 'DSR','lcl','ucl','score','rank','decile']].dropna()"
   ]
  },
  {
   "cell_type": "code",
   "execution_count": 46,
   "metadata": {
    "collapsed": true
   },
   "outputs": [],
   "source": [
    "Soton_Circ = Circulatory_mth.loc[Circulatory_mth['lsoa11'] == 'E01017153']"
   ]
  },
  {
   "cell_type": "code",
   "execution_count": 47,
   "metadata": {
    "collapsed": false
   },
   "outputs": [
    {
     "data": {
      "text/html": [
       "<div>\n",
       "<table border=\"1\" class=\"dataframe\">\n",
       "  <thead>\n",
       "    <tr style=\"text-align: right;\">\n",
       "      <th></th>\n",
       "      <th>Disease</th>\n",
       "      <th>year</th>\n",
       "      <th>month</th>\n",
       "      <th>lsoa11</th>\n",
       "      <th>n</th>\n",
       "      <th>DSR</th>\n",
       "      <th>lcl</th>\n",
       "      <th>ucl</th>\n",
       "      <th>score</th>\n",
       "      <th>rank</th>\n",
       "      <th>decile</th>\n",
       "    </tr>\n",
       "  </thead>\n",
       "  <tbody>\n",
       "    <tr>\n",
       "      <th>7112</th>\n",
       "      <td>All Circulatory</td>\n",
       "      <td>2009</td>\n",
       "      <td>6</td>\n",
       "      <td>E01017153</td>\n",
       "      <td>7.0</td>\n",
       "      <td>1610.695068</td>\n",
       "      <td>558.276733</td>\n",
       "      <td>3477.020264</td>\n",
       "      <td>43.07</td>\n",
       "      <td>3635</td>\n",
       "      <td>2</td>\n",
       "    </tr>\n",
       "    <tr>\n",
       "      <th>16473</th>\n",
       "      <td>All Circulatory</td>\n",
       "      <td>2010</td>\n",
       "      <td>1</td>\n",
       "      <td>E01017153</td>\n",
       "      <td>5.0</td>\n",
       "      <td>799.468689</td>\n",
       "      <td>141.352127</td>\n",
       "      <td>2099.193848</td>\n",
       "      <td>43.07</td>\n",
       "      <td>3635</td>\n",
       "      <td>2</td>\n",
       "    </tr>\n",
       "  </tbody>\n",
       "</table>\n",
       "</div>"
      ],
      "text/plain": [
       "               Disease  year  month     lsoa11    n          DSR         lcl  \\\n",
       "7112   All Circulatory  2009      6  E01017153  7.0  1610.695068  558.276733   \n",
       "16473  All Circulatory  2010      1  E01017153  5.0   799.468689  141.352127   \n",
       "\n",
       "               ucl  score  rank  decile  \n",
       "7112   3477.020264  43.07  3635       2  \n",
       "16473  2099.193848  43.07  3635       2  "
      ]
     },
     "execution_count": 47,
     "metadata": {},
     "output_type": "execute_result"
    }
   ],
   "source": [
    "Soton_Circ"
   ]
  },
  {
   "cell_type": "markdown",
   "metadata": {},
   "source": [
    "# Bournemouth"
   ]
  },
  {
   "cell_type": "code",
   "execution_count": 50,
   "metadata": {
    "collapsed": true
   },
   "outputs": [],
   "source": [
    "AURN_Bmth = pd.read_csv(r'D:\\Annies_Dissertation\\Methodology\\Validation\\AURN\\Bournemouth\\Bournemouth2008_2014.csv')"
   ]
  },
  {
   "cell_type": "code",
   "execution_count": 55,
   "metadata": {
    "collapsed": true
   },
   "outputs": [],
   "source": [
    "AURN_Bmth = AURN_Bmth.rename(columns={'PM2.5 particulate matter (Daily measured)':'PM25'})"
   ]
  },
  {
   "cell_type": "code",
   "execution_count": 58,
   "metadata": {
    "collapsed": false
   },
   "outputs": [
    {
     "data": {
      "text/html": [
       "<div>\n",
       "<table border=\"1\" class=\"dataframe\">\n",
       "  <thead>\n",
       "    <tr style=\"text-align: right;\">\n",
       "      <th></th>\n",
       "      <th>Date</th>\n",
       "      <th>PM25</th>\n",
       "      <th>Status</th>\n",
       "      <th>month</th>\n",
       "      <th>year</th>\n",
       "    </tr>\n",
       "  </thead>\n",
       "  <tbody>\n",
       "    <tr>\n",
       "      <th>0</th>\n",
       "      <td>12/03/2009</td>\n",
       "      <td>0.0</td>\n",
       "      <td>V ugm-3 (GRAV EMFAB)</td>\n",
       "      <td>03</td>\n",
       "      <td>2009</td>\n",
       "    </tr>\n",
       "    <tr>\n",
       "      <th>1</th>\n",
       "      <td>30/11/2009</td>\n",
       "      <td>0.0</td>\n",
       "      <td>V ugm-3 (GRAV EMFAB)</td>\n",
       "      <td>11</td>\n",
       "      <td>2009</td>\n",
       "    </tr>\n",
       "    <tr>\n",
       "      <th>2</th>\n",
       "      <td>25/12/2013</td>\n",
       "      <td>0.0</td>\n",
       "      <td>V ugm-3 (GRAV EMFAB)</td>\n",
       "      <td>12</td>\n",
       "      <td>2013</td>\n",
       "    </tr>\n",
       "    <tr>\n",
       "      <th>3</th>\n",
       "      <td>27/12/2009</td>\n",
       "      <td>1.0</td>\n",
       "      <td>V ugm-3 (GRAV EMFAB)</td>\n",
       "      <td>12</td>\n",
       "      <td>2009</td>\n",
       "    </tr>\n",
       "    <tr>\n",
       "      <th>4</th>\n",
       "      <td>16/02/2010</td>\n",
       "      <td>1.0</td>\n",
       "      <td>V ugm-3 (GRAV EMFAB)</td>\n",
       "      <td>02</td>\n",
       "      <td>2010</td>\n",
       "    </tr>\n",
       "  </tbody>\n",
       "</table>\n",
       "</div>"
      ],
      "text/plain": [
       "         Date  PM25                Status month  year\n",
       "0  12/03/2009   0.0  V ugm-3 (GRAV EMFAB)    03  2009\n",
       "1  30/11/2009   0.0  V ugm-3 (GRAV EMFAB)    11  2009\n",
       "2  25/12/2013   0.0  V ugm-3 (GRAV EMFAB)    12  2013\n",
       "3  27/12/2009   1.0  V ugm-3 (GRAV EMFAB)    12  2009\n",
       "4  16/02/2010   1.0  V ugm-3 (GRAV EMFAB)    02  2010"
      ]
     },
     "execution_count": 58,
     "metadata": {},
     "output_type": "execute_result"
    }
   ],
   "source": [
    "AURN_Bmth[:5]"
   ]
  },
  {
   "cell_type": "code",
   "execution_count": 53,
   "metadata": {
    "collapsed": false
   },
   "outputs": [],
   "source": [
    "AURN_Bmth['month'] = AURN_Bmth.Date.str[3:5]"
   ]
  },
  {
   "cell_type": "code",
   "execution_count": 57,
   "metadata": {
    "collapsed": true
   },
   "outputs": [],
   "source": [
    "AURN_Bmth['year'] = AURN_Bmth.Date.str[6:]"
   ]
  },
  {
   "cell_type": "code",
   "execution_count": 59,
   "metadata": {
    "collapsed": true
   },
   "outputs": [],
   "source": [
    "AURN_Bmth_mth = AURN_Bmth.groupby(['year','month']).mean()"
   ]
  },
  {
   "cell_type": "code",
   "execution_count": 66,
   "metadata": {
    "collapsed": false
   },
   "outputs": [
    {
     "data": {
      "text/html": [
       "<div>\n",
       "<table border=\"1\" class=\"dataframe\">\n",
       "  <thead>\n",
       "    <tr style=\"text-align: right;\">\n",
       "      <th></th>\n",
       "      <th>year</th>\n",
       "      <th>month</th>\n",
       "      <th>PM25</th>\n",
       "    </tr>\n",
       "  </thead>\n",
       "  <tbody>\n",
       "    <tr>\n",
       "      <th>0</th>\n",
       "      <td>2009</td>\n",
       "      <td>1</td>\n",
       "      <td>21.354839</td>\n",
       "    </tr>\n",
       "    <tr>\n",
       "      <th>1</th>\n",
       "      <td>2009</td>\n",
       "      <td>2</td>\n",
       "      <td>13.884615</td>\n",
       "    </tr>\n",
       "    <tr>\n",
       "      <th>2</th>\n",
       "      <td>2009</td>\n",
       "      <td>3</td>\n",
       "      <td>11.193548</td>\n",
       "    </tr>\n",
       "    <tr>\n",
       "      <th>3</th>\n",
       "      <td>2009</td>\n",
       "      <td>4</td>\n",
       "      <td>14.000000</td>\n",
       "    </tr>\n",
       "    <tr>\n",
       "      <th>4</th>\n",
       "      <td>2009</td>\n",
       "      <td>5</td>\n",
       "      <td>5.964286</td>\n",
       "    </tr>\n",
       "  </tbody>\n",
       "</table>\n",
       "</div>"
      ],
      "text/plain": [
       "   year  month       PM25\n",
       "0  2009      1  21.354839\n",
       "1  2009      2  13.884615\n",
       "2  2009      3  11.193548\n",
       "3  2009      4  14.000000\n",
       "4  2009      5   5.964286"
      ]
     },
     "execution_count": 66,
     "metadata": {},
     "output_type": "execute_result"
    }
   ],
   "source": [
    "AURN_Bmth_mth[:5]"
   ]
  },
  {
   "cell_type": "code",
   "execution_count": 64,
   "metadata": {
    "collapsed": true
   },
   "outputs": [],
   "source": [
    "AURN_Bmth_mth.to_csv(r'D:\\Annies_Dissertation\\Analysis\\Regression\\Validation\\AURN\\AURN_Bmth_mth')"
   ]
  },
  {
   "cell_type": "code",
   "execution_count": 65,
   "metadata": {
    "collapsed": true
   },
   "outputs": [],
   "source": [
    "AURN_Bmth_mth = pd.read_csv(r'D:\\Annies_Dissertation\\Analysis\\Regression\\Validation\\AURN\\AURN_Bmth_mth')"
   ]
  },
  {
   "cell_type": "code",
   "execution_count": 48,
   "metadata": {
    "collapsed": true
   },
   "outputs": [],
   "source": [
    "Bmth_Circ = Circulatory_mth.loc[Circulatory_mth['lsoa11'] == 'E01015315']"
   ]
  },
  {
   "cell_type": "code",
   "execution_count": 62,
   "metadata": {
    "collapsed": false
   },
   "outputs": [
    {
     "data": {
      "text/html": [
       "<div>\n",
       "<table border=\"1\" class=\"dataframe\">\n",
       "  <thead>\n",
       "    <tr style=\"text-align: right;\">\n",
       "      <th></th>\n",
       "      <th>Disease</th>\n",
       "      <th>year</th>\n",
       "      <th>month</th>\n",
       "      <th>lsoa11</th>\n",
       "      <th>n</th>\n",
       "      <th>DSR</th>\n",
       "      <th>lcl</th>\n",
       "      <th>ucl</th>\n",
       "      <th>score</th>\n",
       "      <th>rank</th>\n",
       "      <th>decile</th>\n",
       "    </tr>\n",
       "  </thead>\n",
       "  <tbody>\n",
       "    <tr>\n",
       "      <th>5509</th>\n",
       "      <td>All Circulatory</td>\n",
       "      <td>2009</td>\n",
       "      <td>5</td>\n",
       "      <td>E01015315</td>\n",
       "      <td>5.0</td>\n",
       "      <td>270.068390</td>\n",
       "      <td>82.931976</td>\n",
       "      <td>639.647156</td>\n",
       "      <td>3.95</td>\n",
       "      <td>31334</td>\n",
       "      <td>10</td>\n",
       "    </tr>\n",
       "    <tr>\n",
       "      <th>9594</th>\n",
       "      <td>All Circulatory</td>\n",
       "      <td>2009</td>\n",
       "      <td>8</td>\n",
       "      <td>E01015315</td>\n",
       "      <td>9.0</td>\n",
       "      <td>528.581482</td>\n",
       "      <td>231.195541</td>\n",
       "      <td>1020.800598</td>\n",
       "      <td>3.95</td>\n",
       "      <td>31334</td>\n",
       "      <td>10</td>\n",
       "    </tr>\n",
       "  </tbody>\n",
       "</table>\n",
       "</div>"
      ],
      "text/plain": [
       "              Disease  year  month     lsoa11    n         DSR         lcl  \\\n",
       "5509  All Circulatory  2009      5  E01015315  5.0  270.068390   82.931976   \n",
       "9594  All Circulatory  2009      8  E01015315  9.0  528.581482  231.195541   \n",
       "\n",
       "              ucl  score   rank  decile  \n",
       "5509   639.647156   3.95  31334      10  \n",
       "9594  1020.800598   3.95  31334      10  "
      ]
     },
     "execution_count": 62,
     "metadata": {},
     "output_type": "execute_result"
    }
   ],
   "source": [
    "Bmth_Circ[:2]"
   ]
  },
  {
   "cell_type": "code",
   "execution_count": 67,
   "metadata": {
    "collapsed": false
   },
   "outputs": [],
   "source": [
    "AURN_HES_Bmth = pd.merge(Bmth_Circ, AURN_Bmth_mth, on=['year', 'month'], how='inner')"
   ]
  },
  {
   "cell_type": "code",
   "execution_count": 70,
   "metadata": {
    "collapsed": false
   },
   "outputs": [
    {
     "data": {
      "text/html": [
       "<div>\n",
       "<table border=\"1\" class=\"dataframe\">\n",
       "  <thead>\n",
       "    <tr style=\"text-align: right;\">\n",
       "      <th></th>\n",
       "      <th>Disease</th>\n",
       "      <th>year</th>\n",
       "      <th>month</th>\n",
       "      <th>lsoa11</th>\n",
       "      <th>n</th>\n",
       "      <th>DSR</th>\n",
       "      <th>lcl</th>\n",
       "      <th>ucl</th>\n",
       "      <th>score</th>\n",
       "      <th>rank</th>\n",
       "      <th>decile</th>\n",
       "      <th>PM25</th>\n",
       "    </tr>\n",
       "  </thead>\n",
       "  <tbody>\n",
       "    <tr>\n",
       "      <th>0</th>\n",
       "      <td>All Circulatory</td>\n",
       "      <td>2009</td>\n",
       "      <td>5</td>\n",
       "      <td>E01015315</td>\n",
       "      <td>5.0</td>\n",
       "      <td>270.068390</td>\n",
       "      <td>82.931976</td>\n",
       "      <td>639.647156</td>\n",
       "      <td>3.95</td>\n",
       "      <td>31334</td>\n",
       "      <td>10</td>\n",
       "      <td>5.964286</td>\n",
       "    </tr>\n",
       "    <tr>\n",
       "      <th>1</th>\n",
       "      <td>All Circulatory</td>\n",
       "      <td>2009</td>\n",
       "      <td>8</td>\n",
       "      <td>E01015315</td>\n",
       "      <td>9.0</td>\n",
       "      <td>528.581482</td>\n",
       "      <td>231.195541</td>\n",
       "      <td>1020.800598</td>\n",
       "      <td>3.95</td>\n",
       "      <td>31334</td>\n",
       "      <td>10</td>\n",
       "      <td>4.433333</td>\n",
       "    </tr>\n",
       "    <tr>\n",
       "      <th>2</th>\n",
       "      <td>All Circulatory</td>\n",
       "      <td>2010</td>\n",
       "      <td>4</td>\n",
       "      <td>E01015315</td>\n",
       "      <td>5.0</td>\n",
       "      <td>230.563004</td>\n",
       "      <td>74.709770</td>\n",
       "      <td>538.360107</td>\n",
       "      <td>3.95</td>\n",
       "      <td>31334</td>\n",
       "      <td>10</td>\n",
       "      <td>5.500000</td>\n",
       "    </tr>\n",
       "    <tr>\n",
       "      <th>3</th>\n",
       "      <td>All Circulatory</td>\n",
       "      <td>2010</td>\n",
       "      <td>12</td>\n",
       "      <td>E01015315</td>\n",
       "      <td>6.0</td>\n",
       "      <td>337.809937</td>\n",
       "      <td>121.351570</td>\n",
       "      <td>740.137390</td>\n",
       "      <td>3.95</td>\n",
       "      <td>31334</td>\n",
       "      <td>10</td>\n",
       "      <td>14.535714</td>\n",
       "    </tr>\n",
       "    <tr>\n",
       "      <th>4</th>\n",
       "      <td>All Circulatory</td>\n",
       "      <td>2011</td>\n",
       "      <td>1</td>\n",
       "      <td>E01015315</td>\n",
       "      <td>7.0</td>\n",
       "      <td>392.443512</td>\n",
       "      <td>144.611053</td>\n",
       "      <td>831.941711</td>\n",
       "      <td>3.95</td>\n",
       "      <td>31334</td>\n",
       "      <td>10</td>\n",
       "      <td>7.368421</td>\n",
       "    </tr>\n",
       "  </tbody>\n",
       "</table>\n",
       "</div>"
      ],
      "text/plain": [
       "           Disease  year  month     lsoa11    n         DSR         lcl  \\\n",
       "0  All Circulatory  2009      5  E01015315  5.0  270.068390   82.931976   \n",
       "1  All Circulatory  2009      8  E01015315  9.0  528.581482  231.195541   \n",
       "2  All Circulatory  2010      4  E01015315  5.0  230.563004   74.709770   \n",
       "3  All Circulatory  2010     12  E01015315  6.0  337.809937  121.351570   \n",
       "4  All Circulatory  2011      1  E01015315  7.0  392.443512  144.611053   \n",
       "\n",
       "           ucl  score   rank  decile       PM25  \n",
       "0   639.647156   3.95  31334      10   5.964286  \n",
       "1  1020.800598   3.95  31334      10   4.433333  \n",
       "2   538.360107   3.95  31334      10   5.500000  \n",
       "3   740.137390   3.95  31334      10  14.535714  \n",
       "4   831.941711   3.95  31334      10   7.368421  "
      ]
     },
     "execution_count": 70,
     "metadata": {},
     "output_type": "execute_result"
    }
   ],
   "source": [
    "AURN_HES_Bmth[:5]"
   ]
  },
  {
   "cell_type": "code",
   "execution_count": 69,
   "metadata": {
    "collapsed": false,
    "scrolled": true
   },
   "outputs": [
    {
     "data": {
      "text/html": [
       "<div>\n",
       "<table border=\"1\" class=\"dataframe\">\n",
       "  <thead>\n",
       "    <tr style=\"text-align: right;\">\n",
       "      <th></th>\n",
       "      <th>year</th>\n",
       "      <th>month</th>\n",
       "      <th>n</th>\n",
       "      <th>DSR</th>\n",
       "      <th>lcl</th>\n",
       "      <th>ucl</th>\n",
       "      <th>score</th>\n",
       "      <th>rank</th>\n",
       "      <th>decile</th>\n",
       "      <th>PM25</th>\n",
       "    </tr>\n",
       "  </thead>\n",
       "  <tbody>\n",
       "    <tr>\n",
       "      <th>year</th>\n",
       "      <td>1.000000</td>\n",
       "      <td>-0.342087</td>\n",
       "      <td>-0.306666</td>\n",
       "      <td>-0.316394</td>\n",
       "      <td>-0.315187</td>\n",
       "      <td>-0.313453</td>\n",
       "      <td>NaN</td>\n",
       "      <td>NaN</td>\n",
       "      <td>NaN</td>\n",
       "      <td>0.148944</td>\n",
       "    </tr>\n",
       "    <tr>\n",
       "      <th>month</th>\n",
       "      <td>-0.342087</td>\n",
       "      <td>1.000000</td>\n",
       "      <td>0.015763</td>\n",
       "      <td>0.094473</td>\n",
       "      <td>0.082277</td>\n",
       "      <td>0.116981</td>\n",
       "      <td>NaN</td>\n",
       "      <td>NaN</td>\n",
       "      <td>NaN</td>\n",
       "      <td>-0.226039</td>\n",
       "    </tr>\n",
       "    <tr>\n",
       "      <th>n</th>\n",
       "      <td>-0.306666</td>\n",
       "      <td>0.015763</td>\n",
       "      <td>1.000000</td>\n",
       "      <td>0.977751</td>\n",
       "      <td>0.988894</td>\n",
       "      <td>0.952001</td>\n",
       "      <td>NaN</td>\n",
       "      <td>NaN</td>\n",
       "      <td>NaN</td>\n",
       "      <td>0.290746</td>\n",
       "    </tr>\n",
       "    <tr>\n",
       "      <th>DSR</th>\n",
       "      <td>-0.316394</td>\n",
       "      <td>0.094473</td>\n",
       "      <td>0.977751</td>\n",
       "      <td>1.000000</td>\n",
       "      <td>0.994511</td>\n",
       "      <td>0.994241</td>\n",
       "      <td>NaN</td>\n",
       "      <td>NaN</td>\n",
       "      <td>NaN</td>\n",
       "      <td>0.235374</td>\n",
       "    </tr>\n",
       "    <tr>\n",
       "      <th>lcl</th>\n",
       "      <td>-0.315187</td>\n",
       "      <td>0.082277</td>\n",
       "      <td>0.988894</td>\n",
       "      <td>0.994511</td>\n",
       "      <td>1.000000</td>\n",
       "      <td>0.978024</td>\n",
       "      <td>NaN</td>\n",
       "      <td>NaN</td>\n",
       "      <td>NaN</td>\n",
       "      <td>0.252596</td>\n",
       "    </tr>\n",
       "    <tr>\n",
       "      <th>ucl</th>\n",
       "      <td>-0.313453</td>\n",
       "      <td>0.116981</td>\n",
       "      <td>0.952001</td>\n",
       "      <td>0.994241</td>\n",
       "      <td>0.978024</td>\n",
       "      <td>1.000000</td>\n",
       "      <td>NaN</td>\n",
       "      <td>NaN</td>\n",
       "      <td>NaN</td>\n",
       "      <td>0.214269</td>\n",
       "    </tr>\n",
       "    <tr>\n",
       "      <th>score</th>\n",
       "      <td>NaN</td>\n",
       "      <td>NaN</td>\n",
       "      <td>NaN</td>\n",
       "      <td>NaN</td>\n",
       "      <td>NaN</td>\n",
       "      <td>NaN</td>\n",
       "      <td>NaN</td>\n",
       "      <td>NaN</td>\n",
       "      <td>NaN</td>\n",
       "      <td>NaN</td>\n",
       "    </tr>\n",
       "    <tr>\n",
       "      <th>rank</th>\n",
       "      <td>NaN</td>\n",
       "      <td>NaN</td>\n",
       "      <td>NaN</td>\n",
       "      <td>NaN</td>\n",
       "      <td>NaN</td>\n",
       "      <td>NaN</td>\n",
       "      <td>NaN</td>\n",
       "      <td>NaN</td>\n",
       "      <td>NaN</td>\n",
       "      <td>NaN</td>\n",
       "    </tr>\n",
       "    <tr>\n",
       "      <th>decile</th>\n",
       "      <td>NaN</td>\n",
       "      <td>NaN</td>\n",
       "      <td>NaN</td>\n",
       "      <td>NaN</td>\n",
       "      <td>NaN</td>\n",
       "      <td>NaN</td>\n",
       "      <td>NaN</td>\n",
       "      <td>NaN</td>\n",
       "      <td>NaN</td>\n",
       "      <td>NaN</td>\n",
       "    </tr>\n",
       "    <tr>\n",
       "      <th>PM25</th>\n",
       "      <td>0.148944</td>\n",
       "      <td>-0.226039</td>\n",
       "      <td>0.290746</td>\n",
       "      <td>0.235374</td>\n",
       "      <td>0.252596</td>\n",
       "      <td>0.214269</td>\n",
       "      <td>NaN</td>\n",
       "      <td>NaN</td>\n",
       "      <td>NaN</td>\n",
       "      <td>1.000000</td>\n",
       "    </tr>\n",
       "  </tbody>\n",
       "</table>\n",
       "</div>"
      ],
      "text/plain": [
       "            year     month         n       DSR       lcl       ucl  score  \\\n",
       "year    1.000000 -0.342087 -0.306666 -0.316394 -0.315187 -0.313453    NaN   \n",
       "month  -0.342087  1.000000  0.015763  0.094473  0.082277  0.116981    NaN   \n",
       "n      -0.306666  0.015763  1.000000  0.977751  0.988894  0.952001    NaN   \n",
       "DSR    -0.316394  0.094473  0.977751  1.000000  0.994511  0.994241    NaN   \n",
       "lcl    -0.315187  0.082277  0.988894  0.994511  1.000000  0.978024    NaN   \n",
       "ucl    -0.313453  0.116981  0.952001  0.994241  0.978024  1.000000    NaN   \n",
       "score        NaN       NaN       NaN       NaN       NaN       NaN    NaN   \n",
       "rank         NaN       NaN       NaN       NaN       NaN       NaN    NaN   \n",
       "decile       NaN       NaN       NaN       NaN       NaN       NaN    NaN   \n",
       "PM25    0.148944 -0.226039  0.290746  0.235374  0.252596  0.214269    NaN   \n",
       "\n",
       "        rank  decile      PM25  \n",
       "year     NaN     NaN  0.148944  \n",
       "month    NaN     NaN -0.226039  \n",
       "n        NaN     NaN  0.290746  \n",
       "DSR      NaN     NaN  0.235374  \n",
       "lcl      NaN     NaN  0.252596  \n",
       "ucl      NaN     NaN  0.214269  \n",
       "score    NaN     NaN       NaN  \n",
       "rank     NaN     NaN       NaN  \n",
       "decile   NaN     NaN       NaN  \n",
       "PM25     NaN     NaN  1.000000  "
      ]
     },
     "execution_count": 69,
     "metadata": {},
     "output_type": "execute_result"
    }
   ],
   "source": [
    "AURN_HES_Bmth.corr()"
   ]
  },
  {
   "cell_type": "code",
   "execution_count": 73,
   "metadata": {
    "collapsed": false
   },
   "outputs": [
    {
     "name": "stderr",
     "output_type": "stream",
     "text": [
      "D:\\Anaconda3\\lib\\site-packages\\scipy\\stats\\stats.py:1557: UserWarning: kurtosistest only valid for n>=20 ... continuing anyway, n=15\n",
      "  \"anyway, n=%i\" % int(n))\n"
     ]
    },
    {
     "data": {
      "text/html": [
       "<table class=\"simpletable\">\n",
       "<caption>OLS Regression Results</caption>\n",
       "<tr>\n",
       "  <th>Dep. Variable:</th>           <td>DSR</td>       <th>  R-squared:         </th> <td>   0.055</td>\n",
       "</tr>\n",
       "<tr>\n",
       "  <th>Model:</th>                   <td>OLS</td>       <th>  Adj. R-squared:    </th> <td>  -0.017</td>\n",
       "</tr>\n",
       "<tr>\n",
       "  <th>Method:</th>             <td>Least Squares</td>  <th>  F-statistic:       </th> <td>  0.7625</td>\n",
       "</tr>\n",
       "<tr>\n",
       "  <th>Date:</th>             <td>Tue, 23 Aug 2016</td> <th>  Prob (F-statistic):</th>  <td> 0.398</td> \n",
       "</tr>\n",
       "<tr>\n",
       "  <th>Time:</th>                 <td>18:39:23</td>     <th>  Log-Likelihood:    </th> <td> -85.966</td>\n",
       "</tr>\n",
       "<tr>\n",
       "  <th>No. Observations:</th>      <td>    15</td>      <th>  AIC:               </th> <td>   175.9</td>\n",
       "</tr>\n",
       "<tr>\n",
       "  <th>Df Residuals:</th>          <td>    13</td>      <th>  BIC:               </th> <td>   177.3</td>\n",
       "</tr>\n",
       "<tr>\n",
       "  <th>Df Model:</th>              <td>     1</td>      <th>                     </th>     <td> </td>   \n",
       "</tr>\n",
       "<tr>\n",
       "  <th>Covariance Type:</th>      <td>nonrobust</td>    <th>                     </th>     <td> </td>   \n",
       "</tr>\n",
       "</table>\n",
       "<table class=\"simpletable\">\n",
       "<tr>\n",
       "      <td></td>         <th>coef</th>     <th>std err</th>      <th>t</th>      <th>P>|t|</th> <th>[95.0% Conf. Int.]</th> \n",
       "</tr>\n",
       "<tr>\n",
       "  <th>Intercept</th> <td>  292.8880</td> <td>   41.077</td> <td>    7.130</td> <td> 0.000</td> <td>  204.147   381.629</td>\n",
       "</tr>\n",
       "<tr>\n",
       "  <th>PM25</th>      <td>    3.7486</td> <td>    4.293</td> <td>    0.873</td> <td> 0.398</td> <td>   -5.526    13.023</td>\n",
       "</tr>\n",
       "</table>\n",
       "<table class=\"simpletable\">\n",
       "<tr>\n",
       "  <th>Omnibus:</th>       <td>13.141</td> <th>  Durbin-Watson:     </th> <td>   2.685</td>\n",
       "</tr>\n",
       "<tr>\n",
       "  <th>Prob(Omnibus):</th> <td> 0.001</td> <th>  Jarque-Bera (JB):  </th> <td>   9.366</td>\n",
       "</tr>\n",
       "<tr>\n",
       "  <th>Skew:</th>          <td> 1.572</td> <th>  Prob(JB):          </th> <td> 0.00925</td>\n",
       "</tr>\n",
       "<tr>\n",
       "  <th>Kurtosis:</th>      <td> 5.260</td> <th>  Cond. No.          </th> <td>    19.2</td>\n",
       "</tr>\n",
       "</table>"
      ],
      "text/plain": [
       "<class 'statsmodels.iolib.summary.Summary'>\n",
       "\"\"\"\n",
       "                            OLS Regression Results                            \n",
       "==============================================================================\n",
       "Dep. Variable:                    DSR   R-squared:                       0.055\n",
       "Model:                            OLS   Adj. R-squared:                 -0.017\n",
       "Method:                 Least Squares   F-statistic:                    0.7625\n",
       "Date:                Tue, 23 Aug 2016   Prob (F-statistic):              0.398\n",
       "Time:                        18:39:23   Log-Likelihood:                -85.966\n",
       "No. Observations:                  15   AIC:                             175.9\n",
       "Df Residuals:                      13   BIC:                             177.3\n",
       "Df Model:                           1                                         \n",
       "Covariance Type:            nonrobust                                         \n",
       "==============================================================================\n",
       "                 coef    std err          t      P>|t|      [95.0% Conf. Int.]\n",
       "------------------------------------------------------------------------------\n",
       "Intercept    292.8880     41.077      7.130      0.000       204.147   381.629\n",
       "PM25           3.7486      4.293      0.873      0.398        -5.526    13.023\n",
       "==============================================================================\n",
       "Omnibus:                       13.141   Durbin-Watson:                   2.685\n",
       "Prob(Omnibus):                  0.001   Jarque-Bera (JB):                9.366\n",
       "Skew:                           1.572   Prob(JB):                      0.00925\n",
       "Kurtosis:                       5.260   Cond. No.                         19.2\n",
       "==============================================================================\n",
       "\n",
       "Warnings:\n",
       "[1] Standard Errors assume that the covariance matrix of the errors is correctly specified.\n",
       "\"\"\""
      ]
     },
     "execution_count": 73,
     "metadata": {},
     "output_type": "execute_result"
    }
   ],
   "source": [
    "model = ols(\"DSR ~ PM25\", data=AURN_HES_Bmth)\n",
    "Circulatory_results = model.fit()\n",
    "Circulatory_results.summary()"
   ]
  },
  {
   "cell_type": "code",
   "execution_count": null,
   "metadata": {
    "collapsed": true
   },
   "outputs": [],
   "source": []
  }
 ],
 "metadata": {
  "kernelspec": {
   "display_name": "Python 3",
   "language": "python",
   "name": "python3"
  },
  "language_info": {
   "codemirror_mode": {
    "name": "ipython",
    "version": 3
   },
   "file_extension": ".py",
   "mimetype": "text/x-python",
   "name": "python",
   "nbconvert_exporter": "python",
   "pygments_lexer": "ipython3",
   "version": "3.5.1"
  }
 },
 "nbformat": 4,
 "nbformat_minor": 0
}
