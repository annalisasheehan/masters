{
 "cells": [
  {
   "cell_type": "markdown",
   "metadata": {},
   "source": [
    "# Get some data in"
   ]
  },
  {
   "cell_type": "markdown",
   "metadata": {},
   "source": [
    "## Set libraries"
   ]
  },
  {
   "cell_type": "code",
   "execution_count": 21,
   "metadata": {
    "collapsed": true
   },
   "outputs": [],
   "source": [
    "import numpy as np\n",
    "import xarray as xr\n",
    "import rasterio\n",
    "%matplotlib inline\n",
    "from matplotlib.pyplot import *\n",
    "from glob import glob\n",
    "import os\n",
    "import datetime\n",
    "import pandas as pd\n",
    "from rasterio_to_xarray import rasterio_to_xarray, xarray_to_rasterio"
   ]
  },
  {
   "cell_type": "markdown",
   "metadata": {},
   "source": [
    "## Function to read in the MAIAC files into a data array"
   ]
  },
  {
   "cell_type": "code",
   "execution_count": 22,
   "metadata": {
    "collapsed": true
   },
   "outputs": [],
   "source": [
    "def maiac_file_to_da(filename):\n",
    "    da = rasterio_to_xarray(filename)\n",
    "    \n",
    "    time_str = os.path.basename(filename)[17:-13]\n",
    "    time_obj = datetime.datetime.strptime(time_str, '%Y%j%H%M')\n",
    "    da.coords['time'] = time_obj\n",
    "    \n",
    "    return da"
   ]
  },
  {
   "cell_type": "code",
   "execution_count": 23,
   "metadata": {
    "collapsed": true
   },
   "outputs": [],
   "source": [
    "files = glob(r'D:\\MAIAC_Data\\Europe\\h00v01\\Projected\\2005\\*_proj.tif')"
   ]
  },
  {
   "cell_type": "markdown",
   "metadata": {},
   "source": [
    "## Map runs function on every element of a list... creating a list of 2D arrays (the date)"
   ]
  },
  {
   "cell_type": "code",
   "execution_count": 24,
   "metadata": {
    "collapsed": true
   },
   "outputs": [],
   "source": [
    "list_of_das = map(maiac_file_to_da, files)"
   ]
  },
  {
   "cell_type": "markdown",
   "metadata": {},
   "source": [
    "## Make the dataset 3D over the dimension time"
   ]
  },
  {
   "cell_type": "code",
   "execution_count": 25,
   "metadata": {
    "collapsed": false
   },
   "outputs": [],
   "source": [
    "MAIAC_AOT = xr.concat(list_of_das, 'time')"
   ]
  },
  {
   "cell_type": "code",
   "execution_count": 17,
   "metadata": {
    "collapsed": true
   },
   "outputs": [],
   "source": [
    "MAIAC_AOT.attrs.clear()"
   ]
  },
  {
   "cell_type": "markdown",
   "metadata": {},
   "source": [
    "## Reorder time- because the A and T mess the time variable up and resampling wont work otherwise"
   ]
  },
  {
   "cell_type": "code",
   "execution_count": 26,
   "metadata": {
    "collapsed": true
   },
   "outputs": [],
   "source": [
    "reordered_MAIAC_AOT = MAIAC_AOT.isel(time=np.argsort(MAIAC_AOT.time))"
   ]
  },
  {
   "cell_type": "markdown",
   "metadata": {},
   "source": [
    "## Put into DASK"
   ]
  },
  {
   "cell_type": "code",
   "execution_count": 19,
   "metadata": {
    "collapsed": false
   },
   "outputs": [
    {
     "ename": "RuntimeError",
     "evalue": "Unknown error",
     "output_type": "error",
     "traceback": [
      "\u001b[1;31m---------------------------------------------------------------------------\u001b[0m",
      "\u001b[1;31mRuntimeError\u001b[0m                              Traceback (most recent call last)",
      "\u001b[1;32m<ipython-input-19-6c279f65ab69>\u001b[0m in \u001b[0;36m<module>\u001b[1;34m()\u001b[0m\n\u001b[0;32m      1\u001b[0m \u001b[0mds\u001b[0m \u001b[1;33m=\u001b[0m \u001b[0mreordered_MAIAC_AOT\u001b[0m\u001b[1;33m.\u001b[0m\u001b[0mto_dataset\u001b[0m\u001b[1;33m(\u001b[0m\u001b[0mname\u001b[0m\u001b[1;33m=\u001b[0m\u001b[1;34m'data'\u001b[0m\u001b[1;33m)\u001b[0m\u001b[1;33m\u001b[0m\u001b[0m\n\u001b[0;32m      2\u001b[0m \u001b[0mds\u001b[0m\u001b[1;33m.\u001b[0m\u001b[0mto_netcdf\u001b[0m\u001b[1;33m(\u001b[0m\u001b[1;34mr'D:\\Annies_Dissertation\\Methodology\\Validation\\AERONET\\Test\\test_year.nc'\u001b[0m\u001b[1;33m)\u001b[0m\u001b[1;33m\u001b[0m\u001b[0m\n\u001b[1;32m----> 3\u001b[1;33m \u001b[0mall_data\u001b[0m \u001b[1;33m=\u001b[0m \u001b[0mxr\u001b[0m\u001b[1;33m.\u001b[0m\u001b[0mopen_mfdataset\u001b[0m\u001b[1;33m(\u001b[0m\u001b[1;34mr'D:\\Annies_Dissertation\\Methodology\\Validation\\AERONET\\Test\\*.nc'\u001b[0m\u001b[1;33m,\u001b[0m \u001b[0mchunks\u001b[0m\u001b[1;33m=\u001b[0m\u001b[1;33m{\u001b[0m\u001b[1;34m'time'\u001b[0m\u001b[1;33m:\u001b[0m\u001b[1;36m10\u001b[0m\u001b[1;33m}\u001b[0m\u001b[1;33m)\u001b[0m\u001b[1;33m\u001b[0m\u001b[0m\n\u001b[0m\u001b[0;32m      4\u001b[0m \u001b[0malldata\u001b[0m \u001b[1;33m=\u001b[0m \u001b[0mall_data\u001b[0m\u001b[1;33m[\u001b[0m\u001b[1;34m'data'\u001b[0m\u001b[1;33m]\u001b[0m\u001b[1;33m\u001b[0m\u001b[0m\n",
      "\u001b[1;32mD:\\Anaconda3\\lib\\site-packages\\xarray\\backends\\api.py\u001b[0m in \u001b[0;36mopen_mfdataset\u001b[1;34m(paths, chunks, concat_dim, preprocess, engine, lock, **kwargs)\u001b[0m\n\u001b[0;32m    300\u001b[0m         \u001b[0mlock\u001b[0m \u001b[1;33m=\u001b[0m \u001b[0m_default_lock\u001b[0m\u001b[1;33m(\u001b[0m\u001b[0mpaths\u001b[0m\u001b[1;33m[\u001b[0m\u001b[1;36m0\u001b[0m\u001b[1;33m]\u001b[0m\u001b[1;33m,\u001b[0m \u001b[0mengine\u001b[0m\u001b[1;33m)\u001b[0m\u001b[1;33m\u001b[0m\u001b[0m\n\u001b[0;32m    301\u001b[0m     datasets = [open_dataset(p, engine=engine, chunks=chunks or {}, lock=lock,\n\u001b[1;32m--> 302\u001b[1;33m                              **kwargs) for p in paths]\n\u001b[0m\u001b[0;32m    303\u001b[0m     \u001b[0mfile_objs\u001b[0m \u001b[1;33m=\u001b[0m \u001b[1;33m[\u001b[0m\u001b[0mds\u001b[0m\u001b[1;33m.\u001b[0m\u001b[0m_file_obj\u001b[0m \u001b[1;32mfor\u001b[0m \u001b[0mds\u001b[0m \u001b[1;32min\u001b[0m \u001b[0mdatasets\u001b[0m\u001b[1;33m]\u001b[0m\u001b[1;33m\u001b[0m\u001b[0m\n\u001b[0;32m    304\u001b[0m \u001b[1;33m\u001b[0m\u001b[0m\n",
      "\u001b[1;32mD:\\Anaconda3\\lib\\site-packages\\xarray\\backends\\api.py\u001b[0m in \u001b[0;36m<listcomp>\u001b[1;34m(.0)\u001b[0m\n\u001b[0;32m    300\u001b[0m         \u001b[0mlock\u001b[0m \u001b[1;33m=\u001b[0m \u001b[0m_default_lock\u001b[0m\u001b[1;33m(\u001b[0m\u001b[0mpaths\u001b[0m\u001b[1;33m[\u001b[0m\u001b[1;36m0\u001b[0m\u001b[1;33m]\u001b[0m\u001b[1;33m,\u001b[0m \u001b[0mengine\u001b[0m\u001b[1;33m)\u001b[0m\u001b[1;33m\u001b[0m\u001b[0m\n\u001b[0;32m    301\u001b[0m     datasets = [open_dataset(p, engine=engine, chunks=chunks or {}, lock=lock,\n\u001b[1;32m--> 302\u001b[1;33m                              **kwargs) for p in paths]\n\u001b[0m\u001b[0;32m    303\u001b[0m     \u001b[0mfile_objs\u001b[0m \u001b[1;33m=\u001b[0m \u001b[1;33m[\u001b[0m\u001b[0mds\u001b[0m\u001b[1;33m.\u001b[0m\u001b[0m_file_obj\u001b[0m \u001b[1;32mfor\u001b[0m \u001b[0mds\u001b[0m \u001b[1;32min\u001b[0m \u001b[0mdatasets\u001b[0m\u001b[1;33m]\u001b[0m\u001b[1;33m\u001b[0m\u001b[0m\n\u001b[0;32m    304\u001b[0m \u001b[1;33m\u001b[0m\u001b[0m\n",
      "\u001b[1;32mD:\\Anaconda3\\lib\\site-packages\\xarray\\backends\\api.py\u001b[0m in \u001b[0;36mopen_dataset\u001b[1;34m(filename_or_obj, group, decode_cf, mask_and_scale, decode_times, concat_characters, decode_coords, engine, chunks, lock, drop_variables)\u001b[0m\n\u001b[0;32m    210\u001b[0m                                              allow_remote=True)\n\u001b[0;32m    211\u001b[0m             \u001b[1;32mif\u001b[0m \u001b[0mengine\u001b[0m \u001b[1;33m==\u001b[0m \u001b[1;34m'netcdf4'\u001b[0m\u001b[1;33m:\u001b[0m\u001b[1;33m\u001b[0m\u001b[0m\n\u001b[1;32m--> 212\u001b[1;33m                 \u001b[0mstore\u001b[0m \u001b[1;33m=\u001b[0m \u001b[0mbackends\u001b[0m\u001b[1;33m.\u001b[0m\u001b[0mNetCDF4DataStore\u001b[0m\u001b[1;33m(\u001b[0m\u001b[0mfilename_or_obj\u001b[0m\u001b[1;33m,\u001b[0m \u001b[0mgroup\u001b[0m\u001b[1;33m=\u001b[0m\u001b[0mgroup\u001b[0m\u001b[1;33m)\u001b[0m\u001b[1;33m\u001b[0m\u001b[0m\n\u001b[0m\u001b[0;32m    213\u001b[0m             \u001b[1;32melif\u001b[0m \u001b[0mengine\u001b[0m \u001b[1;33m==\u001b[0m \u001b[1;34m'scipy'\u001b[0m\u001b[1;33m:\u001b[0m\u001b[1;33m\u001b[0m\u001b[0m\n\u001b[0;32m    214\u001b[0m                 \u001b[0mstore\u001b[0m \u001b[1;33m=\u001b[0m \u001b[0mbackends\u001b[0m\u001b[1;33m.\u001b[0m\u001b[0mScipyDataStore\u001b[0m\u001b[1;33m(\u001b[0m\u001b[0mfilename_or_obj\u001b[0m\u001b[1;33m)\u001b[0m\u001b[1;33m\u001b[0m\u001b[0m\n",
      "\u001b[1;32mD:\\Anaconda3\\lib\\site-packages\\xarray\\backends\\netCDF4_.py\u001b[0m in \u001b[0;36m__init__\u001b[1;34m(self, filename, mode, format, group, writer, clobber, diskless, persist)\u001b[0m\n\u001b[0;32m    180\u001b[0m         ds = nc4.Dataset(filename, mode=mode, clobber=clobber,\n\u001b[0;32m    181\u001b[0m                          \u001b[0mdiskless\u001b[0m\u001b[1;33m=\u001b[0m\u001b[0mdiskless\u001b[0m\u001b[1;33m,\u001b[0m \u001b[0mpersist\u001b[0m\u001b[1;33m=\u001b[0m\u001b[0mpersist\u001b[0m\u001b[1;33m,\u001b[0m\u001b[1;33m\u001b[0m\u001b[0m\n\u001b[1;32m--> 182\u001b[1;33m                          format=format)\n\u001b[0m\u001b[0;32m    183\u001b[0m         \u001b[1;32mwith\u001b[0m \u001b[0mclose_on_error\u001b[0m\u001b[1;33m(\u001b[0m\u001b[0mds\u001b[0m\u001b[1;33m)\u001b[0m\u001b[1;33m:\u001b[0m\u001b[1;33m\u001b[0m\u001b[0m\n\u001b[0;32m    184\u001b[0m             \u001b[0mself\u001b[0m\u001b[1;33m.\u001b[0m\u001b[0mds\u001b[0m \u001b[1;33m=\u001b[0m \u001b[0m_nc4_group\u001b[0m\u001b[1;33m(\u001b[0m\u001b[0mds\u001b[0m\u001b[1;33m,\u001b[0m \u001b[0mgroup\u001b[0m\u001b[1;33m,\u001b[0m \u001b[0mmode\u001b[0m\u001b[1;33m)\u001b[0m\u001b[1;33m\u001b[0m\u001b[0m\n",
      "\u001b[1;32mnetCDF4\\_netCDF4.pyx\u001b[0m in \u001b[0;36mnetCDF4._netCDF4.Dataset.__init__ (netCDF4\\_netCDF4.c:12278)\u001b[1;34m()\u001b[0m\n",
      "\u001b[1;31mRuntimeError\u001b[0m: Unknown error"
     ]
    }
   ],
   "source": [
    "ds = reordered_MAIAC_AOT.to_dataset(name='data')\n",
    "ds.to_netcdf(r'D:\\Annies_Dissertation\\Methodology\\Validation\\AERONET\\Test\\test_year.nc')\n",
    "all_data = xr.open_mfdataset(r'D:\\Annies_Dissertation\\Methodology\\Validation\\AERONET\\Test\\*.nc', chunks={'time':10})\n",
    "alldata = all_data['data']"
   ]
  },
  {
   "cell_type": "code",
   "execution_count": null,
   "metadata": {
    "collapsed": true
   },
   "outputs": [],
   "source": [
    "all_data.chunks"
   ]
  },
  {
   "cell_type": "code",
   "execution_count": 46,
   "metadata": {
    "collapsed": true
   },
   "outputs": [],
   "source": [
    "Daily_MAIAC_AOT = MAIAC_AOT.resample('D', dim='time', how='max')"
   ]
  },
  {
   "cell_type": "code",
   "execution_count": null,
   "metadata": {
    "collapsed": false
   },
   "outputs": [],
   "source": [
    "Daily_MAIAC_AOT"
   ]
  },
  {
   "cell_type": "markdown",
   "metadata": {},
   "source": [
    "# Get AOT values for all of the years for Chilbolton pixel from MAIAC data"
   ]
  },
  {
   "cell_type": "markdown",
   "metadata": {},
   "source": [
    "- find location of chilbolton pixel\n",
    " - get OS co-ordinates from https://www.ordnancesurvey.co.uk/gps/transformation\n",
    " - convert Lat and Long into Easting and Northing\n",
    " - Put Easting and Northing in and use attributes to convert into projection that the images are in to find cell row and column\n",
    " - extract data for that pixel"
   ]
  },
  {
   "cell_type": "code",
   "execution_count": 27,
   "metadata": {
    "collapsed": false
   },
   "outputs": [],
   "source": [
    "a = reordered_MAIAC_AOT.attrs['affine']"
   ]
  },
  {
   "cell_type": "code",
   "execution_count": 28,
   "metadata": {
    "collapsed": false
   },
   "outputs": [
    {
     "ename": "TypeError",
     "evalue": "bad operand type for unary ~: 'tuple'",
     "output_type": "error",
     "traceback": [
      "\u001b[1;31m---------------------------------------------------------------------------\u001b[0m",
      "\u001b[1;31mTypeError\u001b[0m                                 Traceback (most recent call last)",
      "\u001b[1;32m<ipython-input-28-4fcebb4bab57>\u001b[0m in \u001b[0;36m<module>\u001b[1;34m()\u001b[0m\n\u001b[1;32m----> 1\u001b[1;33m \u001b[1;33m~\u001b[0m\u001b[0ma\u001b[0m \u001b[1;33m*\u001b[0m \u001b[1;33m(\u001b[0m\u001b[1;36m439480.737\u001b[0m\u001b[1;33m,\u001b[0m \u001b[1;36m138506.177\u001b[0m\u001b[1;33m)\u001b[0m\u001b[1;33m\u001b[0m\u001b[0m\n\u001b[0m",
      "\u001b[1;31mTypeError\u001b[0m: bad operand type for unary ~: 'tuple'"
     ]
    }
   ],
   "source": [
    "~a * (439480.737, 138506.177)"
   ]
  },
  {
   "cell_type": "code",
   "execution_count": 50,
   "metadata": {
    "collapsed": false
   },
   "outputs": [],
   "source": [
    "Measurements = Daily_MAIAC_AOT.isel(x=1103, y=1027).dropna('time').to_dataframe(name='MAIAC_AOT')"
   ]
  },
  {
   "cell_type": "code",
   "execution_count": 51,
   "metadata": {
    "collapsed": false
   },
   "outputs": [],
   "source": [
    "Measurements.to_csv(r'D:\\Annies_Dissertation\\Methodology\\Validation\\Comparision\\MAIAC\\ALL_MAIAC_2005.csv')"
   ]
  },
  {
   "cell_type": "markdown",
   "metadata": {},
   "source": [
    "- loop through all of the years data and save as csv of the AOT measurements (or appending if better)"
   ]
  },
  {
   "cell_type": "code",
   "execution_count": null,
   "metadata": {
    "collapsed": true
   },
   "outputs": [],
   "source": []
  },
  {
   "cell_type": "code",
   "execution_count": null,
   "metadata": {
    "collapsed": true
   },
   "outputs": [],
   "source": []
  },
  {
   "cell_type": "code",
   "execution_count": null,
   "metadata": {
    "collapsed": true
   },
   "outputs": [],
   "source": []
  },
  {
   "cell_type": "code",
   "execution_count": null,
   "metadata": {
    "collapsed": true
   },
   "outputs": [],
   "source": []
  },
  {
   "cell_type": "code",
   "execution_count": null,
   "metadata": {
    "collapsed": true
   },
   "outputs": [],
   "source": []
  },
  {
   "cell_type": "code",
   "execution_count": null,
   "metadata": {
    "collapsed": true
   },
   "outputs": [],
   "source": []
  },
  {
   "cell_type": "markdown",
   "metadata": {},
   "source": [
    "# Read in AERONET data file into pandas DataFrame"
   ]
  },
  {
   "cell_type": "code",
   "execution_count": 1,
   "metadata": {
    "collapsed": true
   },
   "outputs": [],
   "source": [
    "import pandas as pd"
   ]
  },
  {
   "cell_type": "code",
   "execution_count": 2,
   "metadata": {
    "collapsed": true
   },
   "outputs": [],
   "source": [
    "def read_aeronet(filename):\n",
    "    \"\"\"Read a given AERONET AOT data file, and return it as a dataframe.\n",
    "    \n",
    "    This returns a DataFrame containing the AERONET data, with the index\n",
    "    set to the timestamp of the AERONET observations. Rows or columns\n",
    "    consisting entirely of missing data are removed. All other columns\n",
    "    are left as-is.\n",
    "    \"\"\"\n",
    "    dateparse = lambda x: pd.datetime.strptime(x, \"%d:%m:%Y %H:%M:%S\")\n",
    "    aeronet = pd.read_csv(filename, skiprows=4, na_values=['N/A'],\n",
    "                          parse_dates={'times':[0,1]},\n",
    "                          date_parser=dateparse)\n",
    "\n",
    "    aeronet = aeronet.set_index('times')\n",
    "    del aeronet['Julian_Day']\n",
    "    \n",
    "    # Drop any rows that are all NaN and any cols that are all NaN\n",
    "    # & then sort by the index\n",
    "    an = (aeronet.dropna(axis=1, how='all')\n",
    "                .dropna(axis=0, how='all')\n",
    "                .rename(columns={'Last_Processing_Date(dd/mm/yyyy)': 'Last_Processing_Date'})\n",
    "                .sort_index())\n",
    "\n",
    "    return an"
   ]
  },
  {
   "cell_type": "code",
   "execution_count": 3,
   "metadata": {
    "collapsed": true
   },
   "outputs": [],
   "source": [
    "Aeronet = read_aeronet(r'D:\\Annies_Dissertation\\Methodology\\Validation\\Comparision\\050101_140630_Chilbolton.lev20')"
   ]
  },
  {
   "cell_type": "code",
   "execution_count": 4,
   "metadata": {
    "collapsed": false
   },
   "outputs": [
    {
     "data": {
      "text/html": [
       "<div>\n",
       "<table border=\"1\" class=\"dataframe\">\n",
       "  <thead>\n",
       "    <tr style=\"text-align: right;\">\n",
       "      <th></th>\n",
       "      <th>AOT_1640</th>\n",
       "      <th>AOT_1020</th>\n",
       "      <th>AOT_870</th>\n",
       "      <th>AOT_675</th>\n",
       "      <th>AOT_500</th>\n",
       "      <th>AOT_440</th>\n",
       "      <th>AOT_380</th>\n",
       "      <th>AOT_340</th>\n",
       "      <th>Water(cm)</th>\n",
       "      <th>440-870Angstrom</th>\n",
       "      <th>...</th>\n",
       "      <th>N[AOT_500]</th>\n",
       "      <th>N[AOT_440]</th>\n",
       "      <th>N[AOT_380]</th>\n",
       "      <th>N[AOT_340]</th>\n",
       "      <th>N[Water(cm)]</th>\n",
       "      <th>N[440-870Angstrom]</th>\n",
       "      <th>N[380-500Angstrom]</th>\n",
       "      <th>N[440-675Angstrom]</th>\n",
       "      <th>N[500-870Angstrom]</th>\n",
       "      <th>N[340-440Angstrom]</th>\n",
       "    </tr>\n",
       "    <tr>\n",
       "      <th>times</th>\n",
       "      <th></th>\n",
       "      <th></th>\n",
       "      <th></th>\n",
       "      <th></th>\n",
       "      <th></th>\n",
       "      <th></th>\n",
       "      <th></th>\n",
       "      <th></th>\n",
       "      <th></th>\n",
       "      <th></th>\n",
       "      <th></th>\n",
       "      <th></th>\n",
       "      <th></th>\n",
       "      <th></th>\n",
       "      <th></th>\n",
       "      <th></th>\n",
       "      <th></th>\n",
       "      <th></th>\n",
       "      <th></th>\n",
       "      <th></th>\n",
       "      <th></th>\n",
       "    </tr>\n",
       "  </thead>\n",
       "  <tbody>\n",
       "    <tr>\n",
       "      <th>2005-10-10</th>\n",
       "      <td>NaN</td>\n",
       "      <td>0.086215</td>\n",
       "      <td>0.101031</td>\n",
       "      <td>0.158985</td>\n",
       "      <td>0.273962</td>\n",
       "      <td>0.334494</td>\n",
       "      <td>0.414908</td>\n",
       "      <td>0.478670</td>\n",
       "      <td>1.985016</td>\n",
       "      <td>1.776144</td>\n",
       "      <td>...</td>\n",
       "      <td>13</td>\n",
       "      <td>13</td>\n",
       "      <td>13</td>\n",
       "      <td>13</td>\n",
       "      <td>13</td>\n",
       "      <td>13</td>\n",
       "      <td>13</td>\n",
       "      <td>13</td>\n",
       "      <td>13</td>\n",
       "      <td>13</td>\n",
       "    </tr>\n",
       "    <tr>\n",
       "      <th>2005-10-11</th>\n",
       "      <td>NaN</td>\n",
       "      <td>0.181416</td>\n",
       "      <td>0.190722</td>\n",
       "      <td>0.239113</td>\n",
       "      <td>0.332206</td>\n",
       "      <td>0.377564</td>\n",
       "      <td>0.434911</td>\n",
       "      <td>0.479563</td>\n",
       "      <td>2.838769</td>\n",
       "      <td>1.015444</td>\n",
       "      <td>...</td>\n",
       "      <td>4</td>\n",
       "      <td>4</td>\n",
       "      <td>4</td>\n",
       "      <td>4</td>\n",
       "      <td>4</td>\n",
       "      <td>4</td>\n",
       "      <td>4</td>\n",
       "      <td>4</td>\n",
       "      <td>4</td>\n",
       "      <td>4</td>\n",
       "    </tr>\n",
       "    <tr>\n",
       "      <th>2005-10-15</th>\n",
       "      <td>NaN</td>\n",
       "      <td>0.089029</td>\n",
       "      <td>0.106889</td>\n",
       "      <td>0.160082</td>\n",
       "      <td>0.235446</td>\n",
       "      <td>0.266397</td>\n",
       "      <td>0.297522</td>\n",
       "      <td>0.317088</td>\n",
       "      <td>1.122777</td>\n",
       "      <td>1.403509</td>\n",
       "      <td>...</td>\n",
       "      <td>21</td>\n",
       "      <td>21</td>\n",
       "      <td>21</td>\n",
       "      <td>21</td>\n",
       "      <td>21</td>\n",
       "      <td>21</td>\n",
       "      <td>21</td>\n",
       "      <td>21</td>\n",
       "      <td>21</td>\n",
       "      <td>21</td>\n",
       "    </tr>\n",
       "    <tr>\n",
       "      <th>2005-10-16</th>\n",
       "      <td>NaN</td>\n",
       "      <td>0.104994</td>\n",
       "      <td>0.118630</td>\n",
       "      <td>0.173252</td>\n",
       "      <td>0.248879</td>\n",
       "      <td>0.278775</td>\n",
       "      <td>0.310195</td>\n",
       "      <td>0.331838</td>\n",
       "      <td>1.657206</td>\n",
       "      <td>1.260693</td>\n",
       "      <td>...</td>\n",
       "      <td>6</td>\n",
       "      <td>6</td>\n",
       "      <td>6</td>\n",
       "      <td>6</td>\n",
       "      <td>6</td>\n",
       "      <td>6</td>\n",
       "      <td>6</td>\n",
       "      <td>6</td>\n",
       "      <td>6</td>\n",
       "      <td>6</td>\n",
       "    </tr>\n",
       "    <tr>\n",
       "      <th>2005-10-17</th>\n",
       "      <td>NaN</td>\n",
       "      <td>0.079702</td>\n",
       "      <td>0.095950</td>\n",
       "      <td>0.151347</td>\n",
       "      <td>0.258691</td>\n",
       "      <td>0.313295</td>\n",
       "      <td>0.383490</td>\n",
       "      <td>0.435075</td>\n",
       "      <td>1.867112</td>\n",
       "      <td>1.762484</td>\n",
       "      <td>...</td>\n",
       "      <td>7</td>\n",
       "      <td>7</td>\n",
       "      <td>7</td>\n",
       "      <td>7</td>\n",
       "      <td>7</td>\n",
       "      <td>7</td>\n",
       "      <td>7</td>\n",
       "      <td>7</td>\n",
       "      <td>7</td>\n",
       "      <td>7</td>\n",
       "    </tr>\n",
       "    <tr>\n",
       "      <th>2005-10-25</th>\n",
       "      <td>NaN</td>\n",
       "      <td>0.098682</td>\n",
       "      <td>0.087635</td>\n",
       "      <td>0.091231</td>\n",
       "      <td>0.098083</td>\n",
       "      <td>0.099108</td>\n",
       "      <td>0.105640</td>\n",
       "      <td>0.113873</td>\n",
       "      <td>1.484080</td>\n",
       "      <td>0.192620</td>\n",
       "      <td>...</td>\n",
       "      <td>3</td>\n",
       "      <td>3</td>\n",
       "      <td>3</td>\n",
       "      <td>3</td>\n",
       "      <td>3</td>\n",
       "      <td>3</td>\n",
       "      <td>3</td>\n",
       "      <td>3</td>\n",
       "      <td>3</td>\n",
       "      <td>3</td>\n",
       "    </tr>\n",
       "    <tr>\n",
       "      <th>2005-10-27</th>\n",
       "      <td>NaN</td>\n",
       "      <td>0.047911</td>\n",
       "      <td>0.047767</td>\n",
       "      <td>0.065196</td>\n",
       "      <td>0.105974</td>\n",
       "      <td>0.126841</td>\n",
       "      <td>0.154790</td>\n",
       "      <td>0.176768</td>\n",
       "      <td>1.822174</td>\n",
       "      <td>1.456694</td>\n",
       "      <td>...</td>\n",
       "      <td>16</td>\n",
       "      <td>16</td>\n",
       "      <td>16</td>\n",
       "      <td>16</td>\n",
       "      <td>16</td>\n",
       "      <td>16</td>\n",
       "      <td>16</td>\n",
       "      <td>16</td>\n",
       "      <td>16</td>\n",
       "      <td>16</td>\n",
       "    </tr>\n",
       "    <tr>\n",
       "      <th>2005-10-31</th>\n",
       "      <td>NaN</td>\n",
       "      <td>0.070198</td>\n",
       "      <td>0.063919</td>\n",
       "      <td>0.067750</td>\n",
       "      <td>0.080819</td>\n",
       "      <td>0.086297</td>\n",
       "      <td>0.096940</td>\n",
       "      <td>0.107747</td>\n",
       "      <td>1.432144</td>\n",
       "      <td>0.460244</td>\n",
       "      <td>...</td>\n",
       "      <td>4</td>\n",
       "      <td>4</td>\n",
       "      <td>4</td>\n",
       "      <td>4</td>\n",
       "      <td>4</td>\n",
       "      <td>4</td>\n",
       "      <td>4</td>\n",
       "      <td>4</td>\n",
       "      <td>4</td>\n",
       "      <td>4</td>\n",
       "    </tr>\n",
       "    <tr>\n",
       "      <th>2005-11-01</th>\n",
       "      <td>NaN</td>\n",
       "      <td>0.041190</td>\n",
       "      <td>0.030583</td>\n",
       "      <td>0.035815</td>\n",
       "      <td>0.043239</td>\n",
       "      <td>0.043858</td>\n",
       "      <td>0.047812</td>\n",
       "      <td>0.053201</td>\n",
       "      <td>1.173914</td>\n",
       "      <td>0.569022</td>\n",
       "      <td>...</td>\n",
       "      <td>19</td>\n",
       "      <td>19</td>\n",
       "      <td>19</td>\n",
       "      <td>19</td>\n",
       "      <td>19</td>\n",
       "      <td>19</td>\n",
       "      <td>19</td>\n",
       "      <td>19</td>\n",
       "      <td>19</td>\n",
       "      <td>19</td>\n",
       "    </tr>\n",
       "    <tr>\n",
       "      <th>2005-11-04</th>\n",
       "      <td>NaN</td>\n",
       "      <td>0.064642</td>\n",
       "      <td>0.055690</td>\n",
       "      <td>0.064839</td>\n",
       "      <td>0.078933</td>\n",
       "      <td>0.083392</td>\n",
       "      <td>0.092768</td>\n",
       "      <td>0.104083</td>\n",
       "      <td>1.052412</td>\n",
       "      <td>0.609375</td>\n",
       "      <td>...</td>\n",
       "      <td>23</td>\n",
       "      <td>23</td>\n",
       "      <td>23</td>\n",
       "      <td>23</td>\n",
       "      <td>23</td>\n",
       "      <td>23</td>\n",
       "      <td>23</td>\n",
       "      <td>23</td>\n",
       "      <td>23</td>\n",
       "      <td>23</td>\n",
       "    </tr>\n",
       "  </tbody>\n",
       "</table>\n",
       "<p>10 rows × 28 columns</p>\n",
       "</div>"
      ],
      "text/plain": [
       "            AOT_1640  AOT_1020   AOT_870   AOT_675   AOT_500   AOT_440  \\\n",
       "times                                                                    \n",
       "2005-10-10       NaN  0.086215  0.101031  0.158985  0.273962  0.334494   \n",
       "2005-10-11       NaN  0.181416  0.190722  0.239113  0.332206  0.377564   \n",
       "2005-10-15       NaN  0.089029  0.106889  0.160082  0.235446  0.266397   \n",
       "2005-10-16       NaN  0.104994  0.118630  0.173252  0.248879  0.278775   \n",
       "2005-10-17       NaN  0.079702  0.095950  0.151347  0.258691  0.313295   \n",
       "2005-10-25       NaN  0.098682  0.087635  0.091231  0.098083  0.099108   \n",
       "2005-10-27       NaN  0.047911  0.047767  0.065196  0.105974  0.126841   \n",
       "2005-10-31       NaN  0.070198  0.063919  0.067750  0.080819  0.086297   \n",
       "2005-11-01       NaN  0.041190  0.030583  0.035815  0.043239  0.043858   \n",
       "2005-11-04       NaN  0.064642  0.055690  0.064839  0.078933  0.083392   \n",
       "\n",
       "             AOT_380   AOT_340  Water(cm)  440-870Angstrom  \\\n",
       "times                                                        \n",
       "2005-10-10  0.414908  0.478670   1.985016         1.776144   \n",
       "2005-10-11  0.434911  0.479563   2.838769         1.015444   \n",
       "2005-10-15  0.297522  0.317088   1.122777         1.403509   \n",
       "2005-10-16  0.310195  0.331838   1.657206         1.260693   \n",
       "2005-10-17  0.383490  0.435075   1.867112         1.762484   \n",
       "2005-10-25  0.105640  0.113873   1.484080         0.192620   \n",
       "2005-10-27  0.154790  0.176768   1.822174         1.456694   \n",
       "2005-10-31  0.096940  0.107747   1.432144         0.460244   \n",
       "2005-11-01  0.047812  0.053201   1.173914         0.569022   \n",
       "2005-11-04  0.092768  0.104083   1.052412         0.609375   \n",
       "\n",
       "                   ...          N[AOT_500]  N[AOT_440]  N[AOT_380]  \\\n",
       "times              ...                                               \n",
       "2005-10-10         ...                  13          13          13   \n",
       "2005-10-11         ...                   4           4           4   \n",
       "2005-10-15         ...                  21          21          21   \n",
       "2005-10-16         ...                   6           6           6   \n",
       "2005-10-17         ...                   7           7           7   \n",
       "2005-10-25         ...                   3           3           3   \n",
       "2005-10-27         ...                  16          16          16   \n",
       "2005-10-31         ...                   4           4           4   \n",
       "2005-11-01         ...                  19          19          19   \n",
       "2005-11-04         ...                  23          23          23   \n",
       "\n",
       "            N[AOT_340]  N[Water(cm)]  N[440-870Angstrom]  N[380-500Angstrom]  \\\n",
       "times                                                                          \n",
       "2005-10-10          13            13                  13                  13   \n",
       "2005-10-11           4             4                   4                   4   \n",
       "2005-10-15          21            21                  21                  21   \n",
       "2005-10-16           6             6                   6                   6   \n",
       "2005-10-17           7             7                   7                   7   \n",
       "2005-10-25           3             3                   3                   3   \n",
       "2005-10-27          16            16                  16                  16   \n",
       "2005-10-31           4             4                   4                   4   \n",
       "2005-11-01          19            19                  19                  19   \n",
       "2005-11-04          23            23                  23                  23   \n",
       "\n",
       "            N[440-675Angstrom]  N[500-870Angstrom]  N[340-440Angstrom]  \n",
       "times                                                                   \n",
       "2005-10-10                  13                  13                  13  \n",
       "2005-10-11                   4                   4                   4  \n",
       "2005-10-15                  21                  21                  21  \n",
       "2005-10-16                   6                   6                   6  \n",
       "2005-10-17                   7                   7                   7  \n",
       "2005-10-25                   3                   3                   3  \n",
       "2005-10-27                  16                  16                  16  \n",
       "2005-10-31                   4                   4                   4  \n",
       "2005-11-01                  19                  19                  19  \n",
       "2005-11-04                  23                  23                  23  \n",
       "\n",
       "[10 rows x 28 columns]"
      ]
     },
     "execution_count": 4,
     "metadata": {},
     "output_type": "execute_result"
    }
   ],
   "source": [
    "Aeronet[:10]"
   ]
  },
  {
   "cell_type": "code",
   "execution_count": null,
   "metadata": {
    "collapsed": true
   },
   "outputs": [],
   "source": []
  }
 ],
 "metadata": {
  "kernelspec": {
   "display_name": "Python 3",
   "language": "python",
   "name": "python3"
  },
  "language_info": {
   "codemirror_mode": {
    "name": "ipython",
    "version": 3
   },
   "file_extension": ".py",
   "mimetype": "text/x-python",
   "name": "python",
   "nbconvert_exporter": "python",
   "pygments_lexer": "ipython3",
   "version": "3.5.1"
  }
 },
 "nbformat": 4,
 "nbformat_minor": 0
}
