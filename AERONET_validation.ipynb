{
 "cells": [
  {
   "cell_type": "markdown",
   "metadata": {},
   "source": [
    "# Get some data in"
   ]
  },
  {
   "cell_type": "markdown",
   "metadata": {},
   "source": [
    "## Set libraries"
   ]
  },
  {
   "cell_type": "code",
   "execution_count": 1,
   "metadata": {
    "collapsed": true
   },
   "outputs": [],
   "source": [
    "import numpy as np\n",
    "import xarray as xr\n",
    "import rasterio\n",
    "%matplotlib inline\n",
    "from matplotlib.pyplot import *\n",
    "from glob import glob\n",
    "import os\n",
    "import datetime\n",
    "import pandas as pd\n",
    "from rasterio_to_xarray import rasterio_to_xarray, xarray_to_rasterio"
   ]
  },
  {
   "cell_type": "markdown",
   "metadata": {},
   "source": [
    "## Function to read in the MAIAC files into a data array"
   ]
  },
  {
   "cell_type": "code",
   "execution_count": 2,
   "metadata": {
    "collapsed": true
   },
   "outputs": [],
   "source": [
    "def maiac_file_to_da(filename):\n",
    "    da = rasterio_to_xarray(filename)\n",
    "    \n",
    "    time_str = os.path.basename(filename)[17:-13]\n",
    "    time_obj = datetime.datetime.strptime(time_str, '%Y%j%H%M')\n",
    "    da.coords['time'] = time_obj\n",
    "    \n",
    "    return da"
   ]
  },
  {
   "cell_type": "code",
   "execution_count": 3,
   "metadata": {
    "collapsed": true
   },
   "outputs": [],
   "source": [
    "files = glob(r'D:\\Annies_Dissertation\\MAIAC_Test\\Projected\\2014\\*_proj.tif')"
   ]
  },
  {
   "cell_type": "markdown",
   "metadata": {},
   "source": [
    "## Map runs function on every element of a list... creating a list of 2D arrays (the date)"
   ]
  },
  {
   "cell_type": "code",
   "execution_count": 4,
   "metadata": {
    "collapsed": true
   },
   "outputs": [],
   "source": [
    "list_of_das = map(maiac_file_to_da, files)"
   ]
  },
  {
   "cell_type": "markdown",
   "metadata": {},
   "source": [
    "## Make the dataset 3D over the dimension time"
   ]
  },
  {
   "cell_type": "code",
   "execution_count": 5,
   "metadata": {
    "collapsed": false
   },
   "outputs": [],
   "source": [
    "MAIAC_AOT = xr.concat(list_of_das, 'time')"
   ]
  },
  {
   "cell_type": "markdown",
   "metadata": {},
   "source": [
    "## Reorder time- because the A and T mess the time variable up and resampling wont work otherwise"
   ]
  },
  {
   "cell_type": "code",
   "execution_count": 6,
   "metadata": {
    "collapsed": true
   },
   "outputs": [],
   "source": [
    "reordered_MAIAC_AOT = MAIAC_AOT.isel(time=np.argsort(MAIAC_AOT.time))"
   ]
  },
  {
   "cell_type": "markdown",
   "metadata": {},
   "source": [
    "## Put into DASK"
   ]
  },
  {
   "cell_type": "code",
   "execution_count": 7,
   "metadata": {
    "collapsed": false,
    "scrolled": true
   },
   "outputs": [],
   "source": [
    "ds = reordered_MAIAC_AOT.to_dataset(name='data')\n",
    "ds.to_netcdf(r'D:\\Annies_Dissertation\\Methodology\\Validation\\AERONET\\Test\\test17.nc')\n",
    "all_data = xr.open_mfdataset(r'D:\\Annies_Dissertation\\Methodology\\Validation\\AERONET\\Test\\test17.nc', \n",
    "                             chunks={'time':10}, concat_dim= 'time')\n",
    "all_data = all_data['data']"
   ]
  },
  {
   "cell_type": "code",
   "execution_count": 8,
   "metadata": {
    "collapsed": false
   },
   "outputs": [
    {
     "data": {
      "text/plain": [
       "((10, 10, 3), (1162,), (1240,))"
      ]
     },
     "execution_count": 8,
     "metadata": {},
     "output_type": "execute_result"
    }
   ],
   "source": [
    "all_data.chunks"
   ]
  },
  {
   "cell_type": "code",
   "execution_count": 9,
   "metadata": {
    "collapsed": false
   },
   "outputs": [
    {
     "data": {
      "text/plain": [
       "<xarray.DataArray 'data' (y: 1162, x: 1240)>\n",
       "dask.array<mean_ag..., shape=(1162, 1240), dtype=float32, chunksize=(1162, 1240)>\n",
       "Coordinates:\n",
       "  * y        (y) float64 1.429e+06 1.428e+06 1.427e+06 1.426e+06 1.424e+06 ...\n",
       "  * x        (x) float64 -9.476e+05 -9.464e+05 -9.451e+05 -9.439e+05 ..."
      ]
     },
     "execution_count": 9,
     "metadata": {},
     "output_type": "execute_result"
    }
   ],
   "source": [
    "all_data.mean(dim='time')"
   ]
  },
  {
   "cell_type": "code",
   "execution_count": null,
   "metadata": {
    "collapsed": false
   },
   "outputs": [],
   "source": [
    "type(all_data.mean(dim='time'))"
   ]
  },
  {
   "cell_type": "markdown",
   "metadata": {
    "collapsed": false
   },
   "source": [
    "all_data.mean(dim='time').dtype"
   ]
  },
  {
   "cell_type": "code",
   "execution_count": 10,
   "metadata": {
    "collapsed": false,
    "scrolled": true
   },
   "outputs": [
    {
     "name": "stderr",
     "output_type": "stream",
     "text": [
      "D:\\Anaconda3\\lib\\site-packages\\dask\\array\\numpy_compat.py:45: RuntimeWarning: invalid value encountered in true_divide\n",
      "  x = np.divide(x1, x2, out)\n"
     ]
    }
   ],
   "source": [
    "xarray_to_rasterio(all_data.mean(dim='time', keep_attrs=True), \n",
    "                   r'D:\\Annies_Dissertation\\Methodology\\Validation\\AERONET\\Test\\test_dask_overallmean17.tif')"
   ]
  },
  {
   "cell_type": "code",
   "execution_count": null,
   "metadata": {
    "collapsed": true
   },
   "outputs": [],
   "source": [
    "Daily_MAIAC_AOT = MAIAC_AOT.resample('D', dim='time', how='max')"
   ]
  },
  {
   "cell_type": "code",
   "execution_count": null,
   "metadata": {
    "collapsed": false
   },
   "outputs": [],
   "source": [
    "Daily_MAIAC_AOT"
   ]
  },
  {
   "cell_type": "markdown",
   "metadata": {},
   "source": [
    "# Get AOT values for all of the years for Chilbolton pixel from MAIAC data"
   ]
  },
  {
   "cell_type": "markdown",
   "metadata": {},
   "source": [
    "- find location of chilbolton pixel\n",
    " - get OS co-ordinates from https://www.ordnancesurvey.co.uk/gps/transformation\n",
    " - convert Lat and Long into Easting and Northing\n",
    " - Put Easting and Northing in and use attributes to convert into projection that the images are in to find cell row and column\n",
    " - extract data for that pixel"
   ]
  },
  {
   "cell_type": "code",
   "execution_count": null,
   "metadata": {
    "collapsed": false
   },
   "outputs": [],
   "source": [
    "a = reordered_MAIAC_AOT.attrs['affine']"
   ]
  },
  {
   "cell_type": "code",
   "execution_count": null,
   "metadata": {
    "collapsed": false,
    "scrolled": true
   },
   "outputs": [],
   "source": [
    "~a * (439480.737, 138506.177)"
   ]
  },
  {
   "cell_type": "code",
   "execution_count": null,
   "metadata": {
    "collapsed": false
   },
   "outputs": [],
   "source": [
    "Measurements = Daily_MAIAC_AOT.isel(x=1103, y=1027).dropna('time').to_dataframe(name='MAIAC_AOT')"
   ]
  },
  {
   "cell_type": "code",
   "execution_count": null,
   "metadata": {
    "collapsed": false
   },
   "outputs": [],
   "source": [
    "Measurements.to_csv(r'D:\\Annies_Dissertation\\Methodology\\Validation\\Comparision\\MAIAC\\ALL_MAIAC_2005.csv')"
   ]
  },
  {
   "cell_type": "markdown",
   "metadata": {},
   "source": [
    "- loop through all of the years data and save as csv of the AOT measurements (or appending if better)"
   ]
  },
  {
   "cell_type": "code",
   "execution_count": null,
   "metadata": {
    "collapsed": true
   },
   "outputs": [],
   "source": []
  },
  {
   "cell_type": "code",
   "execution_count": null,
   "metadata": {
    "collapsed": true
   },
   "outputs": [],
   "source": []
  },
  {
   "cell_type": "code",
   "execution_count": null,
   "metadata": {
    "collapsed": true
   },
   "outputs": [],
   "source": []
  },
  {
   "cell_type": "code",
   "execution_count": null,
   "metadata": {
    "collapsed": true
   },
   "outputs": [],
   "source": []
  },
  {
   "cell_type": "code",
   "execution_count": null,
   "metadata": {
    "collapsed": true
   },
   "outputs": [],
   "source": []
  },
  {
   "cell_type": "code",
   "execution_count": null,
   "metadata": {
    "collapsed": true
   },
   "outputs": [],
   "source": []
  },
  {
   "cell_type": "markdown",
   "metadata": {},
   "source": [
    "# Read in AERONET data file into pandas DataFrame"
   ]
  },
  {
   "cell_type": "code",
   "execution_count": null,
   "metadata": {
    "collapsed": true
   },
   "outputs": [],
   "source": [
    "import pandas as pd"
   ]
  },
  {
   "cell_type": "code",
   "execution_count": null,
   "metadata": {
    "collapsed": true
   },
   "outputs": [],
   "source": [
    "def read_aeronet(filename):\n",
    "    \"\"\"Read a given AERONET AOT data file, and return it as a dataframe.\n",
    "    \n",
    "    This returns a DataFrame containing the AERONET data, with the index\n",
    "    set to the timestamp of the AERONET observations. Rows or columns\n",
    "    consisting entirely of missing data are removed. All other columns\n",
    "    are left as-is.\n",
    "    \"\"\"\n",
    "    dateparse = lambda x: pd.datetime.strptime(x, \"%d:%m:%Y %H:%M:%S\")\n",
    "    aeronet = pd.read_csv(filename, skiprows=4, na_values=['N/A'],\n",
    "                          parse_dates={'times':[0,1]},\n",
    "                          date_parser=dateparse)\n",
    "\n",
    "    aeronet = aeronet.set_index('times')\n",
    "    del aeronet['Julian_Day']\n",
    "    \n",
    "    # Drop any rows that are all NaN and any cols that are all NaN\n",
    "    # & then sort by the index\n",
    "    an = (aeronet.dropna(axis=1, how='all')\n",
    "                .dropna(axis=0, how='all')\n",
    "                .rename(columns={'Last_Processing_Date(dd/mm/yyyy)': 'Last_Processing_Date'})\n",
    "                .sort_index())\n",
    "\n",
    "    return an"
   ]
  },
  {
   "cell_type": "code",
   "execution_count": null,
   "metadata": {
    "collapsed": true
   },
   "outputs": [],
   "source": [
    "Aeronet = read_aeronet(r'D:\\Annies_Dissertation\\Methodology\\Validation\\Comparision\\050101_140630_Chilbolton.lev20')"
   ]
  },
  {
   "cell_type": "code",
   "execution_count": null,
   "metadata": {
    "collapsed": false
   },
   "outputs": [],
   "source": [
    "Aeronet[:10]"
   ]
  },
  {
   "cell_type": "code",
   "execution_count": null,
   "metadata": {
    "collapsed": true
   },
   "outputs": [],
   "source": []
  }
 ],
 "metadata": {
  "kernelspec": {
   "display_name": "Python 3",
   "language": "python",
   "name": "python3"
  },
  "language_info": {
   "codemirror_mode": {
    "name": "ipython",
    "version": 3
   },
   "file_extension": ".py",
   "mimetype": "text/x-python",
   "name": "python",
   "nbconvert_exporter": "python",
   "pygments_lexer": "ipython3",
   "version": "3.5.1"
  }
 },
 "nbformat": 4,
 "nbformat_minor": 0
}
