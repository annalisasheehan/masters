{
 "cells": [
  {
   "cell_type": "markdown",
   "metadata": {},
   "source": [
    "# Importing Libraries and loading in data"
   ]
  },
  {
   "cell_type": "code",
   "execution_count": 1,
   "metadata": {
    "collapsed": true
   },
   "outputs": [],
   "source": [
    "import numpy as np\n",
    "import xarray as xr\n",
    "import rasterio\n",
    "%matplotlib inline\n",
    "from matplotlib.pyplot import *\n",
    "from glob import glob\n",
    "import glob\n",
    "import os\n",
    "import datetime\n",
    "import pandas as pd\n",
    "from rasterio_to_xarray import rasterio_to_xarray, xarray_to_rasterio"
   ]
  },
  {
   "cell_type": "code",
   "execution_count": 2,
   "metadata": {
    "collapsed": true
   },
   "outputs": [],
   "source": [
    "def maiac_file_to_da(filename):\n",
    "    da = rasterio_to_xarray(filename)\n",
    "    \n",
    "    time_str = os.path.basename(filename)[17:-13]\n",
    "    time_obj = datetime.datetime.strptime(time_str, '%Y%j%H%M')\n",
    "    da.coords['time'] = time_obj\n",
    "    \n",
    "    return da"
   ]
  },
  {
   "cell_type": "code",
   "execution_count": 3,
   "metadata": {
    "collapsed": false
   },
   "outputs": [],
   "source": [
    "files = glob.glob(r'D:\\MAIAC_Data\\Europe\\h00v01\\Projected\\2014\\*_PM25.tif')"
   ]
  },
  {
   "cell_type": "code",
   "execution_count": 4,
   "metadata": {
    "collapsed": false
   },
   "outputs": [],
   "source": [
    "list_of_das = map(maiac_file_to_da, files)\n",
    "MAIAC_PM25 = xr.concat(list_of_das, 'time')"
   ]
  },
  {
   "cell_type": "markdown",
   "metadata": {},
   "source": [
    "# Validating Southampton Centre"
   ]
  },
  {
   "cell_type": "code",
   "execution_count": 5,
   "metadata": {
    "collapsed": false
   },
   "outputs": [
    {
     "data": {
      "text/plain": [
       "(1106.3836110057598, 1048.137442006313)"
      ]
     },
     "execution_count": 5,
     "metadata": {},
     "output_type": "execute_result"
    }
   ],
   "source": [
    "a = MAIAC_PM25.attrs['affine']\n",
    "a = rasterio.Affine.from_gdal(*a)\n",
    "~a * (442579, 112248)"
   ]
  },
  {
   "cell_type": "code",
   "execution_count": 6,
   "metadata": {
    "collapsed": true
   },
   "outputs": [],
   "source": [
    "folders = glob.glob(r'D:\\MAIAC_Data\\Europe\\h00v01\\Projected\\20*')"
   ]
  },
  {
   "cell_type": "code",
   "execution_count": 7,
   "metadata": {
    "collapsed": false
   },
   "outputs": [
    {
     "name": "stdout",
     "output_type": "stream",
     "text": [
      "Processed D:\\MAIAC_Data\\Europe\\h00v01\\Projected\\2000\n",
      "Processed D:\\MAIAC_Data\\Europe\\h00v01\\Projected\\2001\n",
      "Processed D:\\MAIAC_Data\\Europe\\h00v01\\Projected\\2002\n",
      "Processed D:\\MAIAC_Data\\Europe\\h00v01\\Projected\\2003\n",
      "Processed D:\\MAIAC_Data\\Europe\\h00v01\\Projected\\2004\n",
      "Processed D:\\MAIAC_Data\\Europe\\h00v01\\Projected\\2005\n",
      "Processed D:\\MAIAC_Data\\Europe\\h00v01\\Projected\\2006\n",
      "Processed D:\\MAIAC_Data\\Europe\\h00v01\\Projected\\2007\n",
      "Processed D:\\MAIAC_Data\\Europe\\h00v01\\Projected\\2008\n",
      "Processed D:\\MAIAC_Data\\Europe\\h00v01\\Projected\\2009\n",
      "Processed D:\\MAIAC_Data\\Europe\\h00v01\\Projected\\2010\n",
      "Processed D:\\MAIAC_Data\\Europe\\h00v01\\Projected\\2011\n",
      "Processed D:\\MAIAC_Data\\Europe\\h00v01\\Projected\\2012\n",
      "Processed D:\\MAIAC_Data\\Europe\\h00v01\\Projected\\2013\n",
      "Processed D:\\MAIAC_Data\\Europe\\h00v01\\Projected\\2014\n"
     ]
    }
   ],
   "source": [
    "for folder in folders:\n",
    "    files = glob.glob(r'{fname}\\*_PM25.tif'.format(fname=folder))\n",
    "    list_of_das = map(maiac_file_to_da, files)\n",
    "    MAIAC_PM25 = xr.concat(list_of_das, 'time')\n",
    "    reordered_MAIAC_PM25 = MAIAC_PM25.isel(time=np.argsort(MAIAC_PM25.time))\n",
    "    Measurements = reordered_MAIAC_PM25.isel(x=1106, y=1048).dropna('time').to_dataframe(name='MAIAC_PM25')\n",
    "    Measurements.to_csv(r'D:\\Annies_Dissertation\\Methodology\\Validation\\AURN\\Southampton\\Soton_MAIAC_PM25.csv', mode='a')\n",
    "    print('Processed {fname}'.format(fname=folder))"
   ]
  },
  {
   "cell_type": "markdown",
   "metadata": {
    "collapsed": true
   },
   "source": [
    "# Validating Bournemouth"
   ]
  },
  {
   "cell_type": "code",
   "execution_count": 8,
   "metadata": {
    "collapsed": false
   },
   "outputs": [
    {
     "data": {
      "text/plain": [
       "(1082.3040538889738, 1063.182688636608)"
      ]
     },
     "execution_count": 8,
     "metadata": {},
     "output_type": "execute_result"
    }
   ],
   "source": [
    "a = MAIAC_PM25.attrs['affine']\n",
    "a = rasterio.Affine.from_gdal(*a)\n",
    "~a * (412322, 93343)"
   ]
  },
  {
   "cell_type": "code",
   "execution_count": 9,
   "metadata": {
    "collapsed": false
   },
   "outputs": [
    {
     "name": "stdout",
     "output_type": "stream",
     "text": [
      "Processed D:\\MAIAC_Data\\Europe\\h00v01\\Projected\\2000\n",
      "Processed D:\\MAIAC_Data\\Europe\\h00v01\\Projected\\2001\n",
      "Processed D:\\MAIAC_Data\\Europe\\h00v01\\Projected\\2002\n",
      "Processed D:\\MAIAC_Data\\Europe\\h00v01\\Projected\\2003\n",
      "Processed D:\\MAIAC_Data\\Europe\\h00v01\\Projected\\2004\n",
      "Processed D:\\MAIAC_Data\\Europe\\h00v01\\Projected\\2005\n",
      "Processed D:\\MAIAC_Data\\Europe\\h00v01\\Projected\\2006\n",
      "Processed D:\\MAIAC_Data\\Europe\\h00v01\\Projected\\2007\n",
      "Processed D:\\MAIAC_Data\\Europe\\h00v01\\Projected\\2008\n",
      "Processed D:\\MAIAC_Data\\Europe\\h00v01\\Projected\\2009\n",
      "Processed D:\\MAIAC_Data\\Europe\\h00v01\\Projected\\2010\n",
      "Processed D:\\MAIAC_Data\\Europe\\h00v01\\Projected\\2011\n",
      "Processed D:\\MAIAC_Data\\Europe\\h00v01\\Projected\\2012\n",
      "Processed D:\\MAIAC_Data\\Europe\\h00v01\\Projected\\2013\n",
      "Processed D:\\MAIAC_Data\\Europe\\h00v01\\Projected\\2014\n"
     ]
    }
   ],
   "source": [
    "for folder in folders:\n",
    "    files = glob.glob(r'{fname}\\*_PM25.tif'.format(fname=folder))\n",
    "    list_of_das = map(maiac_file_to_da, files)\n",
    "    MAIAC_PM25 = xr.concat(list_of_das, 'time')\n",
    "    reordered_MAIAC_PM25 = MAIAC_PM25.isel(time=np.argsort(MAIAC_PM25.time))\n",
    "    Measurements = reordered_MAIAC_PM25.isel(x=1082, y=1063).dropna('time').to_dataframe(name='MAIAC_PM25')\n",
    "    Measurements.to_csv(r'D:\\Annies_Dissertation\\Methodology\\Validation\\AURN\\Bournemouth\\Bmth_MAIAC_PM25.csv', mode='a')\n",
    "    print('Processed {fname}'.format(fname=folder))"
   ]
  },
  {
   "cell_type": "code",
   "execution_count": null,
   "metadata": {
    "collapsed": true
   },
   "outputs": [],
   "source": []
  }
 ],
 "metadata": {
  "kernelspec": {
   "display_name": "Python 3",
   "language": "python",
   "name": "python3"
  },
  "language_info": {
   "codemirror_mode": {
    "name": "ipython",
    "version": 3
   },
   "file_extension": ".py",
   "mimetype": "text/x-python",
   "name": "python",
   "nbconvert_exporter": "python",
   "pygments_lexer": "ipython3",
   "version": "3.5.1"
  }
 },
 "nbformat": 4,
 "nbformat_minor": 0
}
