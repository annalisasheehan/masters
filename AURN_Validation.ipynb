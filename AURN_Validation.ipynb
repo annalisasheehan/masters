{
 "cells": [
  {
   "cell_type": "markdown",
   "metadata": {},
   "source": [
    "# Importing Libraries and loading in data"
   ]
  },
  {
   "cell_type": "code",
   "execution_count": 2,
   "metadata": {
    "collapsed": true
   },
   "outputs": [],
   "source": [
    "import numpy as np\n",
    "import xarray as xr\n",
    "import rasterio\n",
    "%matplotlib inline\n",
    "from matplotlib.pyplot import *\n",
    "from glob import glob\n",
    "import glob\n",
    "import os\n",
    "import datetime\n",
    "import pandas as pd\n",
    "from rasterio_to_xarray import rasterio_to_xarray, xarray_to_rasterio"
   ]
  },
  {
   "cell_type": "code",
   "execution_count": 2,
   "metadata": {
    "collapsed": true
   },
   "outputs": [],
   "source": [
    "def maiac_file_to_da(filename):\n",
    "    da = rasterio_to_xarray(filename)\n",
    "    \n",
    "    time_str = os.path.basename(filename)[17:-13]\n",
    "    time_obj = datetime.datetime.strptime(time_str, '%Y%j%H%M')\n",
    "    da.coords['time'] = time_obj\n",
    "    \n",
    "    return da"
   ]
  },
  {
   "cell_type": "code",
   "execution_count": 3,
   "metadata": {
    "collapsed": false
   },
   "outputs": [],
   "source": [
    "files = glob.glob(r'D:\\MAIAC_Data\\Europe\\h00v01\\Projected\\2014\\*_PM25.tif')"
   ]
  },
  {
   "cell_type": "code",
   "execution_count": 4,
   "metadata": {
    "collapsed": false
   },
   "outputs": [],
   "source": [
    "list_of_das = map(maiac_file_to_da, files)\n",
    "MAIAC_PM25 = xr.concat(list_of_das, 'time')"
   ]
  },
  {
   "cell_type": "markdown",
   "metadata": {},
   "source": [
    "# Validating Southampton Centre\n",
    "## Extracting data at the ground site"
   ]
  },
  {
   "cell_type": "code",
   "execution_count": 5,
   "metadata": {
    "collapsed": false
   },
   "outputs": [
    {
     "data": {
      "text/plain": [
       "(1106.3836110057598, 1048.137442006313)"
      ]
     },
     "execution_count": 5,
     "metadata": {},
     "output_type": "execute_result"
    }
   ],
   "source": [
    "a = MAIAC_PM25.attrs['affine']\n",
    "a = rasterio.Affine.from_gdal(*a)\n",
    "~a * (442579, 112248)"
   ]
  },
  {
   "cell_type": "code",
   "execution_count": 6,
   "metadata": {
    "collapsed": true
   },
   "outputs": [],
   "source": [
    "folders = glob.glob(r'D:\\MAIAC_Data\\Europe\\h00v01\\Projected\\20*')"
   ]
  },
  {
   "cell_type": "code",
   "execution_count": 7,
   "metadata": {
    "collapsed": false
   },
   "outputs": [
    {
     "name": "stdout",
     "output_type": "stream",
     "text": [
      "Processed D:\\MAIAC_Data\\Europe\\h00v01\\Projected\\2000\n",
      "Processed D:\\MAIAC_Data\\Europe\\h00v01\\Projected\\2001\n",
      "Processed D:\\MAIAC_Data\\Europe\\h00v01\\Projected\\2002\n",
      "Processed D:\\MAIAC_Data\\Europe\\h00v01\\Projected\\2003\n",
      "Processed D:\\MAIAC_Data\\Europe\\h00v01\\Projected\\2004\n",
      "Processed D:\\MAIAC_Data\\Europe\\h00v01\\Projected\\2005\n",
      "Processed D:\\MAIAC_Data\\Europe\\h00v01\\Projected\\2006\n",
      "Processed D:\\MAIAC_Data\\Europe\\h00v01\\Projected\\2007\n",
      "Processed D:\\MAIAC_Data\\Europe\\h00v01\\Projected\\2008\n",
      "Processed D:\\MAIAC_Data\\Europe\\h00v01\\Projected\\2009\n",
      "Processed D:\\MAIAC_Data\\Europe\\h00v01\\Projected\\2010\n",
      "Processed D:\\MAIAC_Data\\Europe\\h00v01\\Projected\\2011\n",
      "Processed D:\\MAIAC_Data\\Europe\\h00v01\\Projected\\2012\n",
      "Processed D:\\MAIAC_Data\\Europe\\h00v01\\Projected\\2013\n",
      "Processed D:\\MAIAC_Data\\Europe\\h00v01\\Projected\\2014\n"
     ]
    }
   ],
   "source": [
    "for folder in folders:\n",
    "    files = glob.glob(r'{fname}\\*_PM25.tif'.format(fname=folder))\n",
    "    list_of_das = map(maiac_file_to_da, files)\n",
    "    MAIAC_PM25 = xr.concat(list_of_das, 'time')\n",
    "    reordered_MAIAC_PM25 = MAIAC_PM25.isel(time=np.argsort(MAIAC_PM25.time))\n",
    "    Measurements = reordered_MAIAC_PM25.isel(x=1106, y=1048).dropna('time').to_dataframe(name='MAIAC_PM25')\n",
    "    Measurements.to_csv(r'D:\\Annies_Dissertation\\Methodology\\Validation\\AURN\\Southampton\\Soton_MAIAC_PM25.csv', mode='a')\n",
    "    print('Processed {fname}'.format(fname=folder))"
   ]
  },
  {
   "cell_type": "markdown",
   "metadata": {},
   "source": [
    "## Comparing the MAIAC and groundbased data"
   ]
  },
  {
   "cell_type": "code",
   "execution_count": 15,
   "metadata": {
    "collapsed": true
   },
   "outputs": [],
   "source": [
    "AURN_Soton = pd.read_csv(r'D:\\Annies_Dissertation\\Methodology\\Validation\\AURN\\Southampton\\Southampton2008_2014.csv', \n",
    "                         parse_dates = [['Date', 'Time']])"
   ]
  },
  {
   "cell_type": "code",
   "execution_count": 16,
   "metadata": {
    "collapsed": false
   },
   "outputs": [
    {
     "data": {
      "text/html": [
       "<div>\n",
       "<table border=\"1\" class=\"dataframe\">\n",
       "  <thead>\n",
       "    <tr style=\"text-align: right;\">\n",
       "      <th></th>\n",
       "      <th>Date_Time</th>\n",
       "      <th>PM2.5_Soton_Centre</th>\n",
       "      <th>Status</th>\n",
       "    </tr>\n",
       "  </thead>\n",
       "  <tbody>\n",
       "    <tr>\n",
       "      <th>0</th>\n",
       "      <td>06/11/2008 01:00:00</td>\n",
       "      <td>26</td>\n",
       "      <td>V ugm-3 (TEOM FDMS)</td>\n",
       "    </tr>\n",
       "    <tr>\n",
       "      <th>1</th>\n",
       "      <td>06/11/2008 02:00:00</td>\n",
       "      <td>18</td>\n",
       "      <td>V ugm-3 (TEOM FDMS)</td>\n",
       "    </tr>\n",
       "    <tr>\n",
       "      <th>2</th>\n",
       "      <td>06/11/2008 03:00:00</td>\n",
       "      <td>19</td>\n",
       "      <td>V ugm-3 (TEOM FDMS)</td>\n",
       "    </tr>\n",
       "    <tr>\n",
       "      <th>3</th>\n",
       "      <td>06/11/2008 04:00:00</td>\n",
       "      <td>22</td>\n",
       "      <td>V ugm-3 (TEOM FDMS)</td>\n",
       "    </tr>\n",
       "    <tr>\n",
       "      <th>4</th>\n",
       "      <td>06/11/2008 05:00:00</td>\n",
       "      <td>25</td>\n",
       "      <td>V ugm-3 (TEOM FDMS)</td>\n",
       "    </tr>\n",
       "    <tr>\n",
       "      <th>5</th>\n",
       "      <td>06/11/2008 06:00:00</td>\n",
       "      <td>36</td>\n",
       "      <td>V ugm-3 (TEOM FDMS)</td>\n",
       "    </tr>\n",
       "    <tr>\n",
       "      <th>6</th>\n",
       "      <td>06/11/2008 07:00:00</td>\n",
       "      <td>39</td>\n",
       "      <td>V ugm-3 (TEOM FDMS)</td>\n",
       "    </tr>\n",
       "    <tr>\n",
       "      <th>7</th>\n",
       "      <td>06/11/2008 08:00:00</td>\n",
       "      <td>37</td>\n",
       "      <td>V ugm-3 (TEOM FDMS)</td>\n",
       "    </tr>\n",
       "    <tr>\n",
       "      <th>8</th>\n",
       "      <td>06/11/2008 09:00:00</td>\n",
       "      <td>41</td>\n",
       "      <td>V ugm-3 (TEOM FDMS)</td>\n",
       "    </tr>\n",
       "    <tr>\n",
       "      <th>9</th>\n",
       "      <td>06/11/2008 10:00:00</td>\n",
       "      <td>32</td>\n",
       "      <td>V ugm-3 (TEOM FDMS)</td>\n",
       "    </tr>\n",
       "  </tbody>\n",
       "</table>\n",
       "</div>"
      ],
      "text/plain": [
       "             Date_Time PM2.5_Soton_Centre               Status\n",
       "0  06/11/2008 01:00:00                 26  V ugm-3 (TEOM FDMS)\n",
       "1  06/11/2008 02:00:00                 18  V ugm-3 (TEOM FDMS)\n",
       "2  06/11/2008 03:00:00                 19  V ugm-3 (TEOM FDMS)\n",
       "3  06/11/2008 04:00:00                 22  V ugm-3 (TEOM FDMS)\n",
       "4  06/11/2008 05:00:00                 25  V ugm-3 (TEOM FDMS)\n",
       "5  06/11/2008 06:00:00                 36  V ugm-3 (TEOM FDMS)\n",
       "6  06/11/2008 07:00:00                 39  V ugm-3 (TEOM FDMS)\n",
       "7  06/11/2008 08:00:00                 37  V ugm-3 (TEOM FDMS)\n",
       "8  06/11/2008 09:00:00                 41  V ugm-3 (TEOM FDMS)\n",
       "9  06/11/2008 10:00:00                 32  V ugm-3 (TEOM FDMS)"
      ]
     },
     "execution_count": 16,
     "metadata": {},
     "output_type": "execute_result"
    }
   ],
   "source": [
    "AURN_Soton[:10]"
   ]
  },
  {
   "cell_type": "code",
   "execution_count": 17,
   "metadata": {
    "collapsed": true
   },
   "outputs": [],
   "source": [
    "MAIAC_Soton = pd.read_csv(r'D:\\Annies_Dissertation\\Methodology\\Validation\\AURN\\Southampton\\Soton_MAIAC_PM25.csv')"
   ]
  },
  {
   "cell_type": "code",
   "execution_count": 18,
   "metadata": {
    "collapsed": false
   },
   "outputs": [
    {
     "data": {
      "text/html": [
       "<div>\n",
       "<table border=\"1\" class=\"dataframe\">\n",
       "  <thead>\n",
       "    <tr style=\"text-align: right;\">\n",
       "      <th></th>\n",
       "      <th>time</th>\n",
       "      <th>x</th>\n",
       "      <th>y</th>\n",
       "      <th>MAIAC_PM25</th>\n",
       "    </tr>\n",
       "  </thead>\n",
       "  <tbody>\n",
       "    <tr>\n",
       "      <th>0</th>\n",
       "      <td>25/02/2000 10:50</td>\n",
       "      <td>442096.9763</td>\n",
       "      <td>112420.7018</td>\n",
       "      <td>23.026955</td>\n",
       "    </tr>\n",
       "    <tr>\n",
       "      <th>1</th>\n",
       "      <td>28/02/2000 11:25</td>\n",
       "      <td>442096.9763</td>\n",
       "      <td>112420.7018</td>\n",
       "      <td>36.062874</td>\n",
       "    </tr>\n",
       "    <tr>\n",
       "      <th>2</th>\n",
       "      <td>03/03/2000 12:35</td>\n",
       "      <td>442096.9763</td>\n",
       "      <td>112420.7018</td>\n",
       "      <td>20.079552</td>\n",
       "    </tr>\n",
       "    <tr>\n",
       "      <th>3</th>\n",
       "      <td>12/03/2000 12:30</td>\n",
       "      <td>442096.9763</td>\n",
       "      <td>112420.7018</td>\n",
       "      <td>25.816568</td>\n",
       "    </tr>\n",
       "    <tr>\n",
       "      <th>4</th>\n",
       "      <td>08/04/2000 10:35</td>\n",
       "      <td>442096.9763</td>\n",
       "      <td>112420.7018</td>\n",
       "      <td>27.164116</td>\n",
       "    </tr>\n",
       "    <tr>\n",
       "      <th>5</th>\n",
       "      <td>10/04/2000 10:20</td>\n",
       "      <td>442096.9763</td>\n",
       "      <td>112420.7018</td>\n",
       "      <td>14.609890</td>\n",
       "    </tr>\n",
       "    <tr>\n",
       "      <th>6</th>\n",
       "      <td>10/04/2000 12:00</td>\n",
       "      <td>442096.9763</td>\n",
       "      <td>112420.7018</td>\n",
       "      <td>23.419872</td>\n",
       "    </tr>\n",
       "    <tr>\n",
       "      <th>7</th>\n",
       "      <td>01/05/2000 12:20</td>\n",
       "      <td>442096.9763</td>\n",
       "      <td>112420.7018</td>\n",
       "      <td>16.667433</td>\n",
       "    </tr>\n",
       "    <tr>\n",
       "      <th>8</th>\n",
       "      <td>20/05/2000 11:10</td>\n",
       "      <td>442096.9763</td>\n",
       "      <td>112420.7018</td>\n",
       "      <td>0.000000</td>\n",
       "    </tr>\n",
       "    <tr>\n",
       "      <th>9</th>\n",
       "      <td>25/05/2000 11:30</td>\n",
       "      <td>442096.9763</td>\n",
       "      <td>112420.7018</td>\n",
       "      <td>0.000000</td>\n",
       "    </tr>\n",
       "  </tbody>\n",
       "</table>\n",
       "</div>"
      ],
      "text/plain": [
       "               time            x            y  MAIAC_PM25\n",
       "0  25/02/2000 10:50  442096.9763  112420.7018   23.026955\n",
       "1  28/02/2000 11:25  442096.9763  112420.7018   36.062874\n",
       "2  03/03/2000 12:35  442096.9763  112420.7018   20.079552\n",
       "3  12/03/2000 12:30  442096.9763  112420.7018   25.816568\n",
       "4  08/04/2000 10:35  442096.9763  112420.7018   27.164116\n",
       "5  10/04/2000 10:20  442096.9763  112420.7018   14.609890\n",
       "6  10/04/2000 12:00  442096.9763  112420.7018   23.419872\n",
       "7  01/05/2000 12:20  442096.9763  112420.7018   16.667433\n",
       "8  20/05/2000 11:10  442096.9763  112420.7018    0.000000\n",
       "9  25/05/2000 11:30  442096.9763  112420.7018    0.000000"
      ]
     },
     "execution_count": 18,
     "metadata": {},
     "output_type": "execute_result"
    }
   ],
   "source": [
    "MAIAC_Soton[:10]"
   ]
  },
  {
   "cell_type": "code",
   "execution_count": 19,
   "metadata": {
    "collapsed": true
   },
   "outputs": [],
   "source": [
    "merged_inner = AURN_Soton.merge(MAIAC_Soton, left_on='Date_Time', right_on='time', how='inner')"
   ]
  },
  {
   "cell_type": "code",
   "execution_count": 21,
   "metadata": {
    "collapsed": false
   },
   "outputs": [
    {
     "data": {
      "text/html": [
       "<div>\n",
       "<table border=\"1\" class=\"dataframe\">\n",
       "  <thead>\n",
       "    <tr style=\"text-align: right;\">\n",
       "      <th></th>\n",
       "      <th>Date_Time</th>\n",
       "      <th>PM2.5_Soton_Centre</th>\n",
       "      <th>Status</th>\n",
       "      <th>time</th>\n",
       "      <th>x</th>\n",
       "      <th>y</th>\n",
       "      <th>MAIAC_PM25</th>\n",
       "    </tr>\n",
       "  </thead>\n",
       "  <tbody>\n",
       "  </tbody>\n",
       "</table>\n",
       "</div>"
      ],
      "text/plain": [
       "Empty DataFrame\n",
       "Columns: [Date_Time, PM2.5_Soton_Centre, Status, time, x, y, MAIAC_PM25]\n",
       "Index: []"
      ]
     },
     "execution_count": 21,
     "metadata": {},
     "output_type": "execute_result"
    }
   ],
   "source": [
    "merged_inner"
   ]
  },
  {
   "cell_type": "markdown",
   "metadata": {
    "collapsed": true
   },
   "source": [
    "# Validating Bournemouth"
   ]
  },
  {
   "cell_type": "code",
   "execution_count": 8,
   "metadata": {
    "collapsed": false
   },
   "outputs": [
    {
     "data": {
      "text/plain": [
       "(1082.3040538889738, 1063.182688636608)"
      ]
     },
     "execution_count": 8,
     "metadata": {},
     "output_type": "execute_result"
    }
   ],
   "source": [
    "a = MAIAC_PM25.attrs['affine']\n",
    "a = rasterio.Affine.from_gdal(*a)\n",
    "~a * (412322, 93343)"
   ]
  },
  {
   "cell_type": "code",
   "execution_count": 9,
   "metadata": {
    "collapsed": false
   },
   "outputs": [
    {
     "name": "stdout",
     "output_type": "stream",
     "text": [
      "Processed D:\\MAIAC_Data\\Europe\\h00v01\\Projected\\2000\n",
      "Processed D:\\MAIAC_Data\\Europe\\h00v01\\Projected\\2001\n",
      "Processed D:\\MAIAC_Data\\Europe\\h00v01\\Projected\\2002\n",
      "Processed D:\\MAIAC_Data\\Europe\\h00v01\\Projected\\2003\n",
      "Processed D:\\MAIAC_Data\\Europe\\h00v01\\Projected\\2004\n",
      "Processed D:\\MAIAC_Data\\Europe\\h00v01\\Projected\\2005\n",
      "Processed D:\\MAIAC_Data\\Europe\\h00v01\\Projected\\2006\n",
      "Processed D:\\MAIAC_Data\\Europe\\h00v01\\Projected\\2007\n",
      "Processed D:\\MAIAC_Data\\Europe\\h00v01\\Projected\\2008\n",
      "Processed D:\\MAIAC_Data\\Europe\\h00v01\\Projected\\2009\n",
      "Processed D:\\MAIAC_Data\\Europe\\h00v01\\Projected\\2010\n",
      "Processed D:\\MAIAC_Data\\Europe\\h00v01\\Projected\\2011\n",
      "Processed D:\\MAIAC_Data\\Europe\\h00v01\\Projected\\2012\n",
      "Processed D:\\MAIAC_Data\\Europe\\h00v01\\Projected\\2013\n",
      "Processed D:\\MAIAC_Data\\Europe\\h00v01\\Projected\\2014\n"
     ]
    }
   ],
   "source": [
    "for folder in folders:\n",
    "    files = glob.glob(r'{fname}\\*_PM25.tif'.format(fname=folder))\n",
    "    list_of_das = map(maiac_file_to_da, files)\n",
    "    MAIAC_PM25 = xr.concat(list_of_das, 'time')\n",
    "    reordered_MAIAC_PM25 = MAIAC_PM25.isel(time=np.argsort(MAIAC_PM25.time))\n",
    "    Measurements = reordered_MAIAC_PM25.isel(x=1082, y=1063).dropna('time').to_dataframe(name='MAIAC_PM25')\n",
    "    Measurements.to_csv(r'D:\\Annies_Dissertation\\Methodology\\Validation\\AURN\\Bournemouth\\Bmth_MAIAC_PM25.csv', mode='a')\n",
    "    print('Processed {fname}'.format(fname=folder))"
   ]
  },
  {
   "cell_type": "code",
   "execution_count": 23,
   "metadata": {
    "collapsed": false
   },
   "outputs": [],
   "source": [
    "AURN_Bmth = pd.read_csv(r'D:\\Annies_Dissertation\\Methodology\\Validation\\AURN\\Bournemouth\\Bournemouth2008_2014.csv')"
   ]
  },
  {
   "cell_type": "code",
   "execution_count": null,
   "metadata": {
    "collapsed": true
   },
   "outputs": [],
   "source": []
  }
 ],
 "metadata": {
  "kernelspec": {
   "display_name": "Python 3",
   "language": "python",
   "name": "python3"
  },
  "language_info": {
   "codemirror_mode": {
    "name": "ipython",
    "version": 3
   },
   "file_extension": ".py",
   "mimetype": "text/x-python",
   "name": "python",
   "nbconvert_exporter": "python",
   "pygments_lexer": "ipython3",
   "version": "3.5.1"
  }
 },
 "nbformat": 4,
 "nbformat_minor": 0
}
