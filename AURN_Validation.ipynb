{
 "cells": [
  {
   "cell_type": "code",
   "execution_count": 1,
   "metadata": {
    "collapsed": true
   },
   "outputs": [],
   "source": [
    "import numpy as np\n",
    "import xarray as xr\n",
    "import rasterio\n",
    "%matplotlib inline\n",
    "from matplotlib.pyplot import *\n",
    "from glob import glob\n",
    "import glob\n",
    "import os\n",
    "import datetime\n",
    "import pandas as pd\n",
    "from rasterio_to_xarray import rasterio_to_xarray, xarray_to_rasterio"
   ]
  },
  {
   "cell_type": "code",
   "execution_count": 2,
   "metadata": {
    "collapsed": true
   },
   "outputs": [],
   "source": [
    "def maiac_file_to_da(filename):\n",
    "    da = rasterio_to_xarray(filename)\n",
    "    \n",
    "    time_str = os.path.basename(filename)[17:-13]\n",
    "    time_obj = datetime.datetime.strptime(time_str, '%Y%j%H%M')\n",
    "    da.coords['time'] = time_obj\n",
    "    \n",
    "    return da"
   ]
  },
  {
   "cell_type": "code",
   "execution_count": 3,
   "metadata": {
    "collapsed": false
   },
   "outputs": [],
   "source": [
    "test_files = glob.glob(r'D:\\MAIAC_Data\\Europe\\h00v01\\Projected\\2014\\*_PM25.tif')"
   ]
  },
  {
   "cell_type": "code",
   "execution_count": 4,
   "metadata": {
    "collapsed": false
   },
   "outputs": [],
   "source": [
    "list_of_das = map(maiac_file_to_da, test_files)\n",
    "MAIAC_AOT = xr.concat(list_of_das, 'time')"
   ]
  },
  {
   "cell_type": "code",
   "execution_count": 5,
   "metadata": {
    "collapsed": false
   },
   "outputs": [],
   "source": [
    "a = MAIAC_AOT.attrs['affine']"
   ]
  },
  {
   "cell_type": "code",
   "execution_count": 6,
   "metadata": {
    "collapsed": false,
    "scrolled": true
   },
   "outputs": [
    {
     "ename": "TypeError",
     "evalue": "bad operand type for unary ~: 'tuple'",
     "output_type": "error",
     "traceback": [
      "\u001b[1;31m---------------------------------------------------------------------------\u001b[0m",
      "\u001b[1;31mTypeError\u001b[0m                                 Traceback (most recent call last)",
      "\u001b[1;32m<ipython-input-6-db80d01fffb1>\u001b[0m in \u001b[0;36m<module>\u001b[1;34m()\u001b[0m\n\u001b[1;32m----> 1\u001b[1;33m \u001b[1;33m~\u001b[0m\u001b[0ma\u001b[0m \u001b[1;33m*\u001b[0m \u001b[1;33m(\u001b[0m\u001b[1;36m442579\u001b[0m\u001b[1;33m,\u001b[0m \u001b[1;36m112248\u001b[0m\u001b[1;33m)\u001b[0m\u001b[1;33m\u001b[0m\u001b[0m\n\u001b[0m",
      "\u001b[1;31mTypeError\u001b[0m: bad operand type for unary ~: 'tuple'"
     ]
    }
   ],
   "source": [
    "~a * (442579, 112248)"
   ]
  },
  {
   "cell_type": "code",
   "execution_count": null,
   "metadata": {
    "collapsed": true
   },
   "outputs": [],
   "source": [
    "folders = glob.glob(r'D:\\MAIAC_Data\\Europe\\h00v01\\Projected\\20*')"
   ]
  },
  {
   "cell_type": "code",
   "execution_count": null,
   "metadata": {
    "collapsed": true
   },
   "outputs": [],
   "source": [
    "for folder in folders:\n",
    "    files = glob.glob(r'{fname}\\*_proj.tif'.format(fname=folder))\n",
    "    list_of_das = map(maiac_file_to_da, files)\n",
    "    MAIAC_AOT = xr.concat(list_of_das, 'time')\n",
    "    MAIAC_AOT.attrs.clear()\n",
    "    reordered_MAIAC_AOT = MAIAC_AOT.isel(time=np.argsort(MAIAC_AOT.time))\n",
    "    Measurements = reordered_MAIAC_AOT.isel(x=1103, y=1027).dropna('time').to_dataframe(name='MAIAC_AOT')\n",
    "    Measurements.to_csv(r'D:\\Annies_Dissertation\\Methodology\\Validation\\AERONET\\Test\\Alldata.csv', mode='a')\n",
    "    print('Processed {fname}'.format(fname=folder))"
   ]
  },
  {
   "cell_type": "code",
   "execution_count": null,
   "metadata": {
    "collapsed": true
   },
   "outputs": [],
   "source": []
  }
 ],
 "metadata": {
  "kernelspec": {
   "display_name": "Python 3",
   "language": "python",
   "name": "python3"
  },
  "language_info": {
   "codemirror_mode": {
    "name": "ipython",
    "version": 3
   },
   "file_extension": ".py",
   "mimetype": "text/x-python",
   "name": "python",
   "nbconvert_exporter": "python",
   "pygments_lexer": "ipython3",
   "version": "3.5.1"
  }
 },
 "nbformat": 4,
 "nbformat_minor": 0
}
