{
 "cells": [
  {
   "cell_type": "markdown",
   "metadata": {},
   "source": [
    "# Importing Libraries and loading in data"
   ]
  },
  {
   "cell_type": "code",
   "execution_count": 1,
   "metadata": {
    "collapsed": true
   },
   "outputs": [],
   "source": [
    "import numpy as np\n",
    "import xarray as xr\n",
    "import rasterio\n",
    "%matplotlib inline\n",
    "from matplotlib.pyplot import *\n",
    "from glob import glob\n",
    "import glob\n",
    "import os\n",
    "import datetime\n",
    "import pandas as pd\n",
    "from rasterio_to_xarray import rasterio_to_xarray, xarray_to_rasterio"
   ]
  },
  {
   "cell_type": "code",
   "execution_count": 2,
   "metadata": {
    "collapsed": true
   },
   "outputs": [],
   "source": [
    "def maiac_file_to_da(filename):\n",
    "    da = rasterio_to_xarray(filename)\n",
    "    \n",
    "    time_str = os.path.basename(filename)[17:-13]\n",
    "    time_obj = datetime.datetime.strptime(time_str, '%Y%j%H%M')\n",
    "    da.coords['time'] = time_obj\n",
    "    \n",
    "    return da"
   ]
  },
  {
   "cell_type": "markdown",
   "metadata": {},
   "source": [
    "# Validating Southampton Centre\n",
    "## Extracting data at the ground site"
   ]
  },
  {
   "cell_type": "code",
   "execution_count": 5,
   "metadata": {
    "collapsed": false
   },
   "outputs": [
    {
     "data": {
      "text/plain": [
       "(1106.3836110057598, 1048.137442006313)"
      ]
     },
     "execution_count": 5,
     "metadata": {},
     "output_type": "execute_result"
    }
   ],
   "source": [
    "a = MAIAC_PM25.attrs['affine']\n",
    "a = rasterio.Affine.from_gdal(*a)\n",
    "~a * (442579, 112248)"
   ]
  },
  {
   "cell_type": "code",
   "execution_count": 6,
   "metadata": {
    "collapsed": true
   },
   "outputs": [],
   "source": [
    "folders = glob.glob(r'D:\\MAIAC_Data\\Europe\\h00v01\\Projected\\20*')"
   ]
  },
  {
   "cell_type": "code",
   "execution_count": 7,
   "metadata": {
    "collapsed": false
   },
   "outputs": [
    {
     "name": "stdout",
     "output_type": "stream",
     "text": [
      "Processed D:\\MAIAC_Data\\Europe\\h00v01\\Projected\\2000\n",
      "Processed D:\\MAIAC_Data\\Europe\\h00v01\\Projected\\2001\n",
      "Processed D:\\MAIAC_Data\\Europe\\h00v01\\Projected\\2002\n",
      "Processed D:\\MAIAC_Data\\Europe\\h00v01\\Projected\\2003\n",
      "Processed D:\\MAIAC_Data\\Europe\\h00v01\\Projected\\2004\n",
      "Processed D:\\MAIAC_Data\\Europe\\h00v01\\Projected\\2005\n",
      "Processed D:\\MAIAC_Data\\Europe\\h00v01\\Projected\\2006\n",
      "Processed D:\\MAIAC_Data\\Europe\\h00v01\\Projected\\2007\n",
      "Processed D:\\MAIAC_Data\\Europe\\h00v01\\Projected\\2008\n",
      "Processed D:\\MAIAC_Data\\Europe\\h00v01\\Projected\\2009\n",
      "Processed D:\\MAIAC_Data\\Europe\\h00v01\\Projected\\2010\n",
      "Processed D:\\MAIAC_Data\\Europe\\h00v01\\Projected\\2011\n",
      "Processed D:\\MAIAC_Data\\Europe\\h00v01\\Projected\\2012\n",
      "Processed D:\\MAIAC_Data\\Europe\\h00v01\\Projected\\2013\n",
      "Processed D:\\MAIAC_Data\\Europe\\h00v01\\Projected\\2014\n"
     ]
    }
   ],
   "source": [
    "for folder in folders:\n",
    "    files = glob.glob(r'{fname}\\*_PM25.tif'.format(fname=folder))\n",
    "    list_of_das = map(maiac_file_to_da, files)\n",
    "    MAIAC_PM25 = xr.concat(list_of_das, 'time')\n",
    "    reordered_MAIAC_PM25 = MAIAC_PM25.isel(time=np.argsort(MAIAC_PM25.time))\n",
    "    Measurements = reordered_MAIAC_PM25.isel(x=1106, y=1048).dropna('time').to_dataframe(name='MAIAC_PM25')\n",
    "    Measurements.to_csv(r'D:\\Annies_Dissertation\\Methodology\\Validation\\AURN\\Southampton\\Soton_MAIAC_PM25.csv', mode='a')\n",
    "    print('Processed {fname}'.format(fname=folder))"
   ]
  },
  {
   "cell_type": "markdown",
   "metadata": {},
   "source": [
    "## Comparing the MAIAC and groundbased data"
   ]
  },
  {
   "cell_type": "code",
   "execution_count": 3,
   "metadata": {
    "collapsed": false
   },
   "outputs": [
    {
     "name": "stdout",
     "output_type": "stream",
     "text": [
      "Date,Time,PM2.5_Soton_Centre,Status\n",
      "06/11/2008,01:00:00,26,V ugm-3 (TEOM FDMS)\n",
      "06/11/2008,02:00:00,18,V ugm-3 (TEOM FDMS)\n",
      "06/11/2008,03:00:00,19,V ugm-3 (TEOM FDMS)\n",
      "06/11/2008,04:00:00,22,V ugm-3 (TEOM FDMS)\n",
      "06/11/2008,05:00:00,25,V ugm-3 (TEOM FDMS)\n",
      "06/11/2008,06:00:00,36,V ugm-3 (TEOM FDMS)\n",
      "06/11/2008,07:00:00,39,V ugm-3 (TEOM FDMS)\n",
      "06/11/2008,08:00:00,37,V ugm-3 (TEOM FDMS)\n",
      "06/11/2008,09:00:00,41,V ugm-3 (TEOM FDMS)\n",
      "06/11/2008,10:00:00,32,V ugm-3 (TEOM FDMS)\n",
      "06/11/2008,11:00:00,31,V ugm-3 (TEOM FDMS)\n",
      "06/11/2008,12:00:00,36,V ugm-3 (TEOM FDMS)\n",
      "06/11/2008,13:00:00,33,V ugm-3 (TEOM FDMS)\n",
      "06/11/2008,14:00:00,25,V ugm-3 (TEOM FDMS)\n",
      "06/11/2008,15:00:00,30,V ugm-3 (TEOM FDMS)\n",
      "06/11/2008,16:00:00,28,V ugm-3 (TEOM FDMS)\n",
      "06/11/2008,17:00:00,26,V ugm-3 (TEOM FDMS)\n",
      "06/11/2008,18:00:00,32,V ugm-3 (TEOM FDMS)\n",
      "06/11/2008,19:00:00,36,V ugm-3 (TEOM FDMS)\n",
      "06/11/2008,20:00:00,38,V ugm-3 (TEOM FDMS)\n",
      "06/11/2008,21:00:00,34,V ugm-3 (TEOM FDMS)\n",
      "06/11/2008,22:00:00,32,V ugm-3 (TEOM FDMS)\n",
      "06/11/2008,23:00:00,30,V ugm-3 (TEOM FDMS)\n",
      "06/11/2008,24:00:00,15,V ugm-3 (TEOM FDMS)\n",
      "07/11/2008,01:00:00,16,V ugm-3 (TEOM FDMS)\n",
      "07/11/2008,02:00:00,18,V ugm-3 (TEOM FDMS)\n",
      "07/11/2008,03:00:00,17,V ugm-3 (TEOM FDMS)\n",
      "07/11/2008,04:00:00,16,V ugm-3 (TEOM FDMS)\n",
      "07/11/2008,05:00:00,8,V ugm-3 (TEOM FDMS)\n"
     ]
    }
   ],
   "source": [
    "!head -n 30 'D:\\Annies_Dissertation\\Methodology\\Validation\\AURN\\Southampton\\Southampton2008_2014.csv'"
   ]
  },
  {
   "cell_type": "code",
   "execution_count": 4,
   "metadata": {
    "collapsed": true
   },
   "outputs": [],
   "source": [
    "AURN_Soton = pd.read_csv(r'D:\\Annies_Dissertation\\Methodology\\Validation\\AURN\\Southampton\\Southampton2008_2014.csv', \n",
    "                         parse_dates = {'timestamp': ['Date', 'Time']}, infer_datetime_format=True, dayfirst=True, na_values=['No data'])"
   ]
  },
  {
   "cell_type": "code",
   "execution_count": 5,
   "metadata": {
    "collapsed": true
   },
   "outputs": [],
   "source": [
    "from dateutil.parser import parse"
   ]
  },
  {
   "cell_type": "code",
   "execution_count": 6,
   "metadata": {
    "collapsed": false
   },
   "outputs": [],
   "source": [
    "AURN_Soton['Had24'] = AURN_Soton.timestamp.str.contains(' 24:')"
   ]
  },
  {
   "cell_type": "code",
   "execution_count": 7,
   "metadata": {
    "collapsed": false
   },
   "outputs": [],
   "source": [
    "AURN_Soton['timestamp'] = AURN_Soton.timestamp.str.replace(' 24:', ' 00:')"
   ]
  },
  {
   "cell_type": "code",
   "execution_count": 8,
   "metadata": {
    "collapsed": false
   },
   "outputs": [],
   "source": [
    "AURN_Soton['timestamp'] = pd.to_datetime(AURN_Soton.timestamp, format='%d/%m/%Y %H:%M:%S')"
   ]
  },
  {
   "cell_type": "code",
   "execution_count": 9,
   "metadata": {
    "collapsed": false
   },
   "outputs": [],
   "source": [
    "AURN_Soton.loc[AURN_Soton.Had24, 'timestamp'] = AURN_Soton.query('Had24 == True').timestamp + pd.Timedelta('1d')"
   ]
  },
  {
   "cell_type": "code",
   "execution_count": 10,
   "metadata": {
    "collapsed": true
   },
   "outputs": [],
   "source": [
    "AURN_Soton = AURN_Soton.set_index('timestamp')"
   ]
  },
  {
   "cell_type": "code",
   "execution_count": 11,
   "metadata": {
    "collapsed": false
   },
   "outputs": [
    {
     "data": {
      "text/html": [
       "<div>\n",
       "<table border=\"1\" class=\"dataframe\">\n",
       "  <thead>\n",
       "    <tr style=\"text-align: right;\">\n",
       "      <th></th>\n",
       "      <th>PM2.5_Soton_Centre</th>\n",
       "      <th>Status</th>\n",
       "      <th>Had24</th>\n",
       "    </tr>\n",
       "    <tr>\n",
       "      <th>timestamp</th>\n",
       "      <th></th>\n",
       "      <th></th>\n",
       "      <th></th>\n",
       "    </tr>\n",
       "  </thead>\n",
       "  <tbody>\n",
       "    <tr>\n",
       "      <th>2008-11-06 01:00:00</th>\n",
       "      <td>26.0</td>\n",
       "      <td>V ugm-3 (TEOM FDMS)</td>\n",
       "      <td>False</td>\n",
       "    </tr>\n",
       "    <tr>\n",
       "      <th>2008-11-06 02:00:00</th>\n",
       "      <td>18.0</td>\n",
       "      <td>V ugm-3 (TEOM FDMS)</td>\n",
       "      <td>False</td>\n",
       "    </tr>\n",
       "    <tr>\n",
       "      <th>2008-11-06 03:00:00</th>\n",
       "      <td>19.0</td>\n",
       "      <td>V ugm-3 (TEOM FDMS)</td>\n",
       "      <td>False</td>\n",
       "    </tr>\n",
       "    <tr>\n",
       "      <th>2008-11-06 04:00:00</th>\n",
       "      <td>22.0</td>\n",
       "      <td>V ugm-3 (TEOM FDMS)</td>\n",
       "      <td>False</td>\n",
       "    </tr>\n",
       "    <tr>\n",
       "      <th>2008-11-06 05:00:00</th>\n",
       "      <td>25.0</td>\n",
       "      <td>V ugm-3 (TEOM FDMS)</td>\n",
       "      <td>False</td>\n",
       "    </tr>\n",
       "  </tbody>\n",
       "</table>\n",
       "</div>"
      ],
      "text/plain": [
       "                     PM2.5_Soton_Centre               Status  Had24\n",
       "timestamp                                                          \n",
       "2008-11-06 01:00:00                26.0  V ugm-3 (TEOM FDMS)  False\n",
       "2008-11-06 02:00:00                18.0  V ugm-3 (TEOM FDMS)  False\n",
       "2008-11-06 03:00:00                19.0  V ugm-3 (TEOM FDMS)  False\n",
       "2008-11-06 04:00:00                22.0  V ugm-3 (TEOM FDMS)  False\n",
       "2008-11-06 05:00:00                25.0  V ugm-3 (TEOM FDMS)  False"
      ]
     },
     "execution_count": 11,
     "metadata": {},
     "output_type": "execute_result"
    }
   ],
   "source": [
    "AURN_Soton.head()"
   ]
  },
  {
   "cell_type": "code",
   "execution_count": 12,
   "metadata": {
    "collapsed": true
   },
   "outputs": [],
   "source": [
    "AURN_Soton.to_csv(r'D:\\Annies_Dissertation\\Methodology\\Validation\\AURN\\Southampton\\AURN_Soton.csv')"
   ]
  },
  {
   "cell_type": "code",
   "execution_count": 13,
   "metadata": {
    "collapsed": true
   },
   "outputs": [],
   "source": [
    "MAIAC_Soton = pd.read_csv(r'D:\\Annies_Dissertation\\Methodology\\Validation\\AURN\\Southampton\\Soton_MAIAC_PM25.csv', parse_dates=['time'])"
   ]
  },
  {
   "cell_type": "code",
   "execution_count": 14,
   "metadata": {
    "collapsed": false
   },
   "outputs": [],
   "source": [
    "MAIAC_Soton = MAIAC_Soton.set_index('time')"
   ]
  },
  {
   "cell_type": "code",
   "execution_count": 15,
   "metadata": {
    "collapsed": false
   },
   "outputs": [
    {
     "data": {
      "text/html": [
       "<div>\n",
       "<table border=\"1\" class=\"dataframe\">\n",
       "  <thead>\n",
       "    <tr style=\"text-align: right;\">\n",
       "      <th></th>\n",
       "      <th>x</th>\n",
       "      <th>y</th>\n",
       "      <th>MAIAC_PM25</th>\n",
       "    </tr>\n",
       "    <tr>\n",
       "      <th>time</th>\n",
       "      <th></th>\n",
       "      <th></th>\n",
       "      <th></th>\n",
       "    </tr>\n",
       "  </thead>\n",
       "  <tbody>\n",
       "    <tr>\n",
       "      <th>2000-02-25 10:50:00</th>\n",
       "      <td>442096.9763</td>\n",
       "      <td>112420.7018</td>\n",
       "      <td>23.026955</td>\n",
       "    </tr>\n",
       "    <tr>\n",
       "      <th>2000-02-28 11:25:00</th>\n",
       "      <td>442096.9763</td>\n",
       "      <td>112420.7018</td>\n",
       "      <td>36.062874</td>\n",
       "    </tr>\n",
       "    <tr>\n",
       "      <th>2000-03-03 12:35:00</th>\n",
       "      <td>442096.9763</td>\n",
       "      <td>112420.7018</td>\n",
       "      <td>20.079552</td>\n",
       "    </tr>\n",
       "    <tr>\n",
       "      <th>2000-12-03 12:30:00</th>\n",
       "      <td>442096.9763</td>\n",
       "      <td>112420.7018</td>\n",
       "      <td>25.816568</td>\n",
       "    </tr>\n",
       "    <tr>\n",
       "      <th>2000-08-04 10:35:00</th>\n",
       "      <td>442096.9763</td>\n",
       "      <td>112420.7018</td>\n",
       "      <td>27.164116</td>\n",
       "    </tr>\n",
       "  </tbody>\n",
       "</table>\n",
       "</div>"
      ],
      "text/plain": [
       "                               x            y  MAIAC_PM25\n",
       "time                                                     \n",
       "2000-02-25 10:50:00  442096.9763  112420.7018   23.026955\n",
       "2000-02-28 11:25:00  442096.9763  112420.7018   36.062874\n",
       "2000-03-03 12:35:00  442096.9763  112420.7018   20.079552\n",
       "2000-12-03 12:30:00  442096.9763  112420.7018   25.816568\n",
       "2000-08-04 10:35:00  442096.9763  112420.7018   27.164116"
      ]
     },
     "execution_count": 15,
     "metadata": {},
     "output_type": "execute_result"
    }
   ],
   "source": [
    "MAIAC_Soton.head()"
   ]
  },
  {
   "cell_type": "code",
   "execution_count": 16,
   "metadata": {
    "collapsed": true
   },
   "outputs": [],
   "source": [
    "MAIAC_Soton['time'] = MAIAC_Soton.index"
   ]
  },
  {
   "cell_type": "code",
   "execution_count": 17,
   "metadata": {
    "collapsed": false
   },
   "outputs": [],
   "source": [
    "MAIAC_Soton = MAIAC_Soton.drop_duplicates(subset='time')"
   ]
  },
  {
   "cell_type": "code",
   "execution_count": 18,
   "metadata": {
    "collapsed": false
   },
   "outputs": [],
   "source": [
    "MAIAC_Soton = MAIAC_Soton.sort_index()"
   ]
  },
  {
   "cell_type": "code",
   "execution_count": 19,
   "metadata": {
    "collapsed": false
   },
   "outputs": [],
   "source": [
    "indexed = MAIAC_Soton.reindex(AURN_Soton.index, method='nearest', tolerance='10Min').dropna()"
   ]
  },
  {
   "cell_type": "code",
   "execution_count": 20,
   "metadata": {
    "collapsed": false
   },
   "outputs": [],
   "source": [
    "result = pd.merge(AURN_Soton, indexed, left_index=True, right_index=True).reset_index().rename(columns={'time':'AURN_Time', 'timestamp':'MAIAC_Time'})"
   ]
  },
  {
   "cell_type": "code",
   "execution_count": 21,
   "metadata": {
    "collapsed": false
   },
   "outputs": [],
   "source": [
    "result = result[['MAIAC_Time', 'AURN_Time', 'PM2.5_Soton_Centre', 'MAIAC_PM25']].dropna()"
   ]
  },
  {
   "cell_type": "code",
   "execution_count": 22,
   "metadata": {
    "collapsed": false
   },
   "outputs": [
    {
     "data": {
      "text/plain": [
       "MAIAC_Time            0\n",
       "AURN_Time             0\n",
       "PM2.5_Soton_Centre    0\n",
       "MAIAC_PM25            0\n",
       "dtype: int64"
      ]
     },
     "execution_count": 22,
     "metadata": {},
     "output_type": "execute_result"
    }
   ],
   "source": [
    "result.isnull().sum()"
   ]
  },
  {
   "cell_type": "code",
   "execution_count": 23,
   "metadata": {
    "collapsed": true
   },
   "outputs": [],
   "source": [
    "%matplotlib inline"
   ]
  },
  {
   "cell_type": "code",
   "execution_count": 24,
   "metadata": {
    "collapsed": false
   },
   "outputs": [
    {
     "data": {
      "image/png": "[encoded data removed]",
      "text/plain": [
       "<matplotlib.figure.Figure at 0x1f6d2c7b38>"
      ]
     },
     "metadata": {},
     "output_type": "display_data"
    }
   ],
   "source": [
    "result.plot(figsize=(20, 8))\n",
    "savefig(r'D:\\Annies_Dissertation\\Analysis\\Soton_validation_graph.jpeg')"
   ]
  },
  {
   "cell_type": "code",
   "execution_count": 24,
   "metadata": {
    "collapsed": true
   },
   "outputs": [],
   "source": [
    "result['error'] = result['PM2.5_Soton_Centre'] - result['MAIAC_PM25']"
   ]
  },
  {
   "cell_type": "code",
   "execution_count": 25,
   "metadata": {
    "collapsed": false
   },
   "outputs": [
    {
     "data": {
      "text/plain": [
       "count    362.000000\n",
       "mean       8.059675\n",
       "std        8.499346\n",
       "min        0.038878\n",
       "25%        2.281614\n",
       "50%        5.484178\n",
       "75%       10.943085\n",
       "max       57.245951\n",
       "Name: error, dtype: float64"
      ]
     },
     "execution_count": 25,
     "metadata": {},
     "output_type": "execute_result"
    }
   ],
   "source": [
    "result.error.abs().describe()"
   ]
  },
  {
   "cell_type": "code",
   "execution_count": 26,
   "metadata": {
    "collapsed": false
   },
   "outputs": [
    {
     "data": {
      "text/plain": [
       "23"
      ]
     },
     "execution_count": 26,
     "metadata": {},
     "output_type": "execute_result"
    }
   ],
   "source": [
    "(result.error > 20).sum()"
   ]
  },
  {
   "cell_type": "code",
   "execution_count": 27,
   "metadata": {
    "collapsed": false
   },
   "outputs": [
    {
     "data": {
      "text/plain": [
       "362"
      ]
     },
     "execution_count": 27,
     "metadata": {},
     "output_type": "execute_result"
    }
   ],
   "source": [
    "len(result)"
   ]
  },
  {
   "cell_type": "code",
   "execution_count": 28,
   "metadata": {
    "collapsed": false
   },
   "outputs": [
    {
     "data": {
      "text/html": [
       "<div>\n",
       "<table border=\"1\" class=\"dataframe\">\n",
       "  <thead>\n",
       "    <tr style=\"text-align: right;\">\n",
       "      <th></th>\n",
       "      <th>MAIAC_Time</th>\n",
       "      <th>AURN_Time</th>\n",
       "      <th>PM2.5_Soton_Centre</th>\n",
       "      <th>MAIAC_PM25</th>\n",
       "      <th>error</th>\n",
       "    </tr>\n",
       "  </thead>\n",
       "  <tbody>\n",
       "    <tr>\n",
       "      <th>6</th>\n",
       "      <td>2008-12-04 12:00:00</td>\n",
       "      <td>2008-12-04 12:10:00</td>\n",
       "      <td>6.0</td>\n",
       "      <td>20.042711</td>\n",
       "      <td>-14.042711</td>\n",
       "    </tr>\n",
       "    <tr>\n",
       "      <th>7</th>\n",
       "      <td>2008-12-04 14:00:00</td>\n",
       "      <td>2008-12-04 14:00:00</td>\n",
       "      <td>6.0</td>\n",
       "      <td>20.336378</td>\n",
       "      <td>-14.336378</td>\n",
       "    </tr>\n",
       "    <tr>\n",
       "      <th>14</th>\n",
       "      <td>2009-01-09 12:00:00</td>\n",
       "      <td>2009-01-09 12:05:00</td>\n",
       "      <td>29.0</td>\n",
       "      <td>28.123997</td>\n",
       "      <td>0.876003</td>\n",
       "    </tr>\n",
       "    <tr>\n",
       "      <th>18</th>\n",
       "      <td>2009-01-27 12:00:00</td>\n",
       "      <td>2009-01-27 12:00:00</td>\n",
       "      <td>27.0</td>\n",
       "      <td>16.513691</td>\n",
       "      <td>10.486309</td>\n",
       "    </tr>\n",
       "    <tr>\n",
       "      <th>21</th>\n",
       "      <td>2009-02-03 12:00:00</td>\n",
       "      <td>2009-02-03 12:00:00</td>\n",
       "      <td>4.0</td>\n",
       "      <td>18.376377</td>\n",
       "      <td>-14.376377</td>\n",
       "    </tr>\n",
       "    <tr>\n",
       "      <th>22</th>\n",
       "      <td>2009-02-04 11:00:00</td>\n",
       "      <td>2009-02-04 11:05:00</td>\n",
       "      <td>12.0</td>\n",
       "      <td>32.596939</td>\n",
       "      <td>-20.596939</td>\n",
       "    </tr>\n",
       "    <tr>\n",
       "      <th>23</th>\n",
       "      <td>2009-02-04 13:00:00</td>\n",
       "      <td>2009-02-04 12:55:00</td>\n",
       "      <td>14.0</td>\n",
       "      <td>22.685707</td>\n",
       "      <td>-8.685707</td>\n",
       "    </tr>\n",
       "    <tr>\n",
       "      <th>37</th>\n",
       "      <td>2009-04-04 11:00:00</td>\n",
       "      <td>2009-04-04 10:50:00</td>\n",
       "      <td>9.0</td>\n",
       "      <td>16.812386</td>\n",
       "      <td>-7.812386</td>\n",
       "    </tr>\n",
       "    <tr>\n",
       "      <th>41</th>\n",
       "      <td>2009-04-19 10:00:00</td>\n",
       "      <td>2009-04-19 10:05:00</td>\n",
       "      <td>14.0</td>\n",
       "      <td>27.457783</td>\n",
       "      <td>-13.457783</td>\n",
       "    </tr>\n",
       "    <tr>\n",
       "      <th>42</th>\n",
       "      <td>2009-04-20 11:00:00</td>\n",
       "      <td>2009-04-20 10:50:00</td>\n",
       "      <td>27.0</td>\n",
       "      <td>26.723618</td>\n",
       "      <td>0.276382</td>\n",
       "    </tr>\n",
       "    <tr>\n",
       "      <th>44</th>\n",
       "      <td>2009-05-29 13:00:00</td>\n",
       "      <td>2009-05-29 12:50:00</td>\n",
       "      <td>17.0</td>\n",
       "      <td>18.302727</td>\n",
       "      <td>-1.302727</td>\n",
       "    </tr>\n",
       "    <tr>\n",
       "      <th>48</th>\n",
       "      <td>2009-06-27 12:00:00</td>\n",
       "      <td>2009-06-27 12:05:00</td>\n",
       "      <td>16.0</td>\n",
       "      <td>19.847792</td>\n",
       "      <td>-3.847792</td>\n",
       "    </tr>\n",
       "    <tr>\n",
       "      <th>49</th>\n",
       "      <td>2009-06-29 12:00:00</td>\n",
       "      <td>2009-06-29 12:05:00</td>\n",
       "      <td>24.0</td>\n",
       "      <td>17.672691</td>\n",
       "      <td>6.327309</td>\n",
       "    </tr>\n",
       "    <tr>\n",
       "      <th>57</th>\n",
       "      <td>2009-08-22 13:00:00</td>\n",
       "      <td>2009-08-22 13:05:00</td>\n",
       "      <td>7.0</td>\n",
       "      <td>29.930033</td>\n",
       "      <td>-22.930033</td>\n",
       "    </tr>\n",
       "    <tr>\n",
       "      <th>63</th>\n",
       "      <td>2009-09-03 12:00:00</td>\n",
       "      <td>2009-09-03 11:50:00</td>\n",
       "      <td>5.0</td>\n",
       "      <td>15.687151</td>\n",
       "      <td>-10.687151</td>\n",
       "    </tr>\n",
       "    <tr>\n",
       "      <th>64</th>\n",
       "      <td>2009-09-17 12:00:00</td>\n",
       "      <td>2009-09-17 11:50:00</td>\n",
       "      <td>5.0</td>\n",
       "      <td>17.548761</td>\n",
       "      <td>-12.548761</td>\n",
       "    </tr>\n",
       "    <tr>\n",
       "      <th>72</th>\n",
       "      <td>2009-10-10 12:00:00</td>\n",
       "      <td>2009-10-10 11:55:00</td>\n",
       "      <td>9.0</td>\n",
       "      <td>15.188611</td>\n",
       "      <td>-6.188611</td>\n",
       "    </tr>\n",
       "    <tr>\n",
       "      <th>76</th>\n",
       "      <td>2009-10-24 14:00:00</td>\n",
       "      <td>2009-10-24 14:00:00</td>\n",
       "      <td>8.0</td>\n",
       "      <td>22.129644</td>\n",
       "      <td>-14.129644</td>\n",
       "    </tr>\n",
       "    <tr>\n",
       "      <th>79</th>\n",
       "      <td>2009-11-05 11:00:00</td>\n",
       "      <td>2009-11-05 11:10:00</td>\n",
       "      <td>7.0</td>\n",
       "      <td>24.655222</td>\n",
       "      <td>-17.655222</td>\n",
       "    </tr>\n",
       "    <tr>\n",
       "      <th>89</th>\n",
       "      <td>2010-01-12 11:00:00</td>\n",
       "      <td>2010-01-12 11:00:00</td>\n",
       "      <td>23.0</td>\n",
       "      <td>30.500658</td>\n",
       "      <td>-7.500658</td>\n",
       "    </tr>\n",
       "    <tr>\n",
       "      <th>92</th>\n",
       "      <td>2010-02-17 12:00:00</td>\n",
       "      <td>2010-02-17 11:55:00</td>\n",
       "      <td>34.0</td>\n",
       "      <td>15.605043</td>\n",
       "      <td>18.394957</td>\n",
       "    </tr>\n",
       "    <tr>\n",
       "      <th>95</th>\n",
       "      <td>2010-04-04 12:00:00</td>\n",
       "      <td>2010-04-04 11:55:00</td>\n",
       "      <td>2.0</td>\n",
       "      <td>20.042711</td>\n",
       "      <td>-18.042711</td>\n",
       "    </tr>\n",
       "    <tr>\n",
       "      <th>116</th>\n",
       "      <td>2010-07-01 12:00:00</td>\n",
       "      <td>2010-07-01 12:00:00</td>\n",
       "      <td>6.0</td>\n",
       "      <td>39.711491</td>\n",
       "      <td>-33.711491</td>\n",
       "    </tr>\n",
       "    <tr>\n",
       "      <th>121</th>\n",
       "      <td>2010-08-31 14:00:00</td>\n",
       "      <td>2010-08-31 14:05:00</td>\n",
       "      <td>13.0</td>\n",
       "      <td>17.593533</td>\n",
       "      <td>-4.593533</td>\n",
       "    </tr>\n",
       "    <tr>\n",
       "      <th>122</th>\n",
       "      <td>2010-09-02 11:00:00</td>\n",
       "      <td>2010-09-02 10:55:00</td>\n",
       "      <td>16.0</td>\n",
       "      <td>15.034127</td>\n",
       "      <td>0.965873</td>\n",
       "    </tr>\n",
       "    <tr>\n",
       "      <th>130</th>\n",
       "      <td>2010-10-21 11:00:00</td>\n",
       "      <td>2010-10-21 11:10:00</td>\n",
       "      <td>9.0</td>\n",
       "      <td>17.475069</td>\n",
       "      <td>-8.475069</td>\n",
       "    </tr>\n",
       "    <tr>\n",
       "      <th>132</th>\n",
       "      <td>2010-10-27 14:00:00</td>\n",
       "      <td>2010-10-27 14:00:00</td>\n",
       "      <td>13.0</td>\n",
       "      <td>21.231392</td>\n",
       "      <td>-8.231392</td>\n",
       "    </tr>\n",
       "    <tr>\n",
       "      <th>138</th>\n",
       "      <td>2010-12-04 11:00:00</td>\n",
       "      <td>2010-12-04 11:10:00</td>\n",
       "      <td>32.0</td>\n",
       "      <td>30.541275</td>\n",
       "      <td>1.458725</td>\n",
       "    </tr>\n",
       "    <tr>\n",
       "      <th>141</th>\n",
       "      <td>2010-12-10 13:00:00</td>\n",
       "      <td>2010-12-10 13:05:00</td>\n",
       "      <td>20.0</td>\n",
       "      <td>21.721346</td>\n",
       "      <td>-1.721346</td>\n",
       "    </tr>\n",
       "    <tr>\n",
       "      <th>142</th>\n",
       "      <td>2010-12-24 13:00:00</td>\n",
       "      <td>2010-12-24 12:55:00</td>\n",
       "      <td>15.0</td>\n",
       "      <td>17.249435</td>\n",
       "      <td>-2.249435</td>\n",
       "    </tr>\n",
       "    <tr>\n",
       "      <th>...</th>\n",
       "      <td>...</td>\n",
       "      <td>...</td>\n",
       "      <td>...</td>\n",
       "      <td>...</td>\n",
       "      <td>...</td>\n",
       "    </tr>\n",
       "    <tr>\n",
       "      <th>263</th>\n",
       "      <td>2012-06-20 11:00:00</td>\n",
       "      <td>2012-06-20 11:10:00</td>\n",
       "      <td>14.0</td>\n",
       "      <td>20.051708</td>\n",
       "      <td>-6.051708</td>\n",
       "    </tr>\n",
       "    <tr>\n",
       "      <th>264</th>\n",
       "      <td>2012-06-20 13:00:00</td>\n",
       "      <td>2012-06-20 12:55:00</td>\n",
       "      <td>17.0</td>\n",
       "      <td>20.935343</td>\n",
       "      <td>-3.935343</td>\n",
       "    </tr>\n",
       "    <tr>\n",
       "      <th>265</th>\n",
       "      <td>2012-06-30 12:00:00</td>\n",
       "      <td>2012-06-30 11:55:00</td>\n",
       "      <td>10.0</td>\n",
       "      <td>24.469879</td>\n",
       "      <td>-14.469879</td>\n",
       "    </tr>\n",
       "    <tr>\n",
       "      <th>268</th>\n",
       "      <td>2012-07-17 11:00:00</td>\n",
       "      <td>2012-07-17 10:50:00</td>\n",
       "      <td>9.0</td>\n",
       "      <td>16.705568</td>\n",
       "      <td>-7.705568</td>\n",
       "    </tr>\n",
       "    <tr>\n",
       "      <th>281</th>\n",
       "      <td>2012-09-09 12:00:00</td>\n",
       "      <td>2012-09-09 11:50:00</td>\n",
       "      <td>19.0</td>\n",
       "      <td>18.315083</td>\n",
       "      <td>0.684917</td>\n",
       "    </tr>\n",
       "    <tr>\n",
       "      <th>282</th>\n",
       "      <td>2012-09-14 14:00:00</td>\n",
       "      <td>2012-09-14 14:00:00</td>\n",
       "      <td>7.0</td>\n",
       "      <td>21.227104</td>\n",
       "      <td>-14.227104</td>\n",
       "    </tr>\n",
       "    <tr>\n",
       "      <th>287</th>\n",
       "      <td>2012-10-17 13:00:00</td>\n",
       "      <td>2012-10-17 13:05:00</td>\n",
       "      <td>9.0</td>\n",
       "      <td>19.026594</td>\n",
       "      <td>-10.026594</td>\n",
       "    </tr>\n",
       "    <tr>\n",
       "      <th>292</th>\n",
       "      <td>2012-11-02 13:00:00</td>\n",
       "      <td>2012-11-02 13:10:00</td>\n",
       "      <td>5.0</td>\n",
       "      <td>18.554777</td>\n",
       "      <td>-13.554777</td>\n",
       "    </tr>\n",
       "    <tr>\n",
       "      <th>307</th>\n",
       "      <td>2013-02-08 12:00:00</td>\n",
       "      <td>2013-02-08 12:10:00</td>\n",
       "      <td>4.5</td>\n",
       "      <td>26.425344</td>\n",
       "      <td>-21.925344</td>\n",
       "    </tr>\n",
       "    <tr>\n",
       "      <th>309</th>\n",
       "      <td>2013-02-15 11:00:00</td>\n",
       "      <td>2013-02-15 11:10:00</td>\n",
       "      <td>11.2</td>\n",
       "      <td>15.129280</td>\n",
       "      <td>-3.929280</td>\n",
       "    </tr>\n",
       "    <tr>\n",
       "      <th>312</th>\n",
       "      <td>2013-04-03 12:00:00</td>\n",
       "      <td>2013-04-03 12:00:00</td>\n",
       "      <td>18.5</td>\n",
       "      <td>21.693089</td>\n",
       "      <td>-3.193089</td>\n",
       "    </tr>\n",
       "    <tr>\n",
       "      <th>323</th>\n",
       "      <td>2013-05-03 11:00:00</td>\n",
       "      <td>2013-05-03 10:55:00</td>\n",
       "      <td>9.5</td>\n",
       "      <td>15.328587</td>\n",
       "      <td>-5.828587</td>\n",
       "    </tr>\n",
       "    <tr>\n",
       "      <th>326</th>\n",
       "      <td>2013-05-31 11:00:00</td>\n",
       "      <td>2013-05-31 11:00:00</td>\n",
       "      <td>22.0</td>\n",
       "      <td>16.352953</td>\n",
       "      <td>5.647047</td>\n",
       "    </tr>\n",
       "    <tr>\n",
       "      <th>327</th>\n",
       "      <td>2013-05-31 13:00:00</td>\n",
       "      <td>2013-05-31 12:50:00</td>\n",
       "      <td>23.5</td>\n",
       "      <td>20.378294</td>\n",
       "      <td>3.121706</td>\n",
       "    </tr>\n",
       "    <tr>\n",
       "      <th>331</th>\n",
       "      <td>2013-06-06 12:00:00</td>\n",
       "      <td>2013-06-06 12:05:00</td>\n",
       "      <td>14.8</td>\n",
       "      <td>22.838554</td>\n",
       "      <td>-8.038554</td>\n",
       "    </tr>\n",
       "    <tr>\n",
       "      <th>335</th>\n",
       "      <td>2013-06-30 13:00:00</td>\n",
       "      <td>2013-06-30 13:05:00</td>\n",
       "      <td>8.8</td>\n",
       "      <td>16.992971</td>\n",
       "      <td>-8.192971</td>\n",
       "    </tr>\n",
       "    <tr>\n",
       "      <th>337</th>\n",
       "      <td>2013-07-07 13:00:00</td>\n",
       "      <td>2013-07-07 13:10:00</td>\n",
       "      <td>18.3</td>\n",
       "      <td>15.446022</td>\n",
       "      <td>2.853978</td>\n",
       "    </tr>\n",
       "    <tr>\n",
       "      <th>338</th>\n",
       "      <td>2013-07-10 10:00:00</td>\n",
       "      <td>2013-07-10 10:05:00</td>\n",
       "      <td>12.5</td>\n",
       "      <td>28.499060</td>\n",
       "      <td>-15.999060</td>\n",
       "    </tr>\n",
       "    <tr>\n",
       "      <th>339</th>\n",
       "      <td>2013-07-17 12:00:00</td>\n",
       "      <td>2013-07-17 11:55:00</td>\n",
       "      <td>30.0</td>\n",
       "      <td>24.528017</td>\n",
       "      <td>5.471983</td>\n",
       "    </tr>\n",
       "    <tr>\n",
       "      <th>340</th>\n",
       "      <td>2013-07-18 11:00:00</td>\n",
       "      <td>2013-07-18 11:00:00</td>\n",
       "      <td>18.2</td>\n",
       "      <td>18.694326</td>\n",
       "      <td>-0.494326</td>\n",
       "    </tr>\n",
       "    <tr>\n",
       "      <th>343</th>\n",
       "      <td>2013-07-22 14:00:00</td>\n",
       "      <td>2013-07-22 14:05:00</td>\n",
       "      <td>24.8</td>\n",
       "      <td>20.948254</td>\n",
       "      <td>3.851746</td>\n",
       "    </tr>\n",
       "    <tr>\n",
       "      <th>350</th>\n",
       "      <td>2013-08-26 11:00:00</td>\n",
       "      <td>2013-08-26 11:10:00</td>\n",
       "      <td>20.3</td>\n",
       "      <td>40.654377</td>\n",
       "      <td>-20.354377</td>\n",
       "    </tr>\n",
       "    <tr>\n",
       "      <th>351</th>\n",
       "      <td>2013-08-27 12:00:00</td>\n",
       "      <td>2013-08-27 12:00:00</td>\n",
       "      <td>9.1</td>\n",
       "      <td>16.892595</td>\n",
       "      <td>-7.792595</td>\n",
       "    </tr>\n",
       "    <tr>\n",
       "      <th>355</th>\n",
       "      <td>2013-09-12 11:00:00</td>\n",
       "      <td>2013-09-12 11:00:00</td>\n",
       "      <td>11.5</td>\n",
       "      <td>19.077190</td>\n",
       "      <td>-7.577190</td>\n",
       "    </tr>\n",
       "    <tr>\n",
       "      <th>367</th>\n",
       "      <td>2013-11-16 11:00:00</td>\n",
       "      <td>2013-11-16 10:55:00</td>\n",
       "      <td>36.6</td>\n",
       "      <td>16.123438</td>\n",
       "      <td>20.476562</td>\n",
       "    </tr>\n",
       "    <tr>\n",
       "      <th>372</th>\n",
       "      <td>2013-12-03 11:00:00</td>\n",
       "      <td>2013-12-03 11:00:00</td>\n",
       "      <td>21.0</td>\n",
       "      <td>19.362425</td>\n",
       "      <td>1.637575</td>\n",
       "    </tr>\n",
       "    <tr>\n",
       "      <th>375</th>\n",
       "      <td>2014-01-06 13:00:00</td>\n",
       "      <td>2014-01-06 13:05:00</td>\n",
       "      <td>15.7</td>\n",
       "      <td>23.722189</td>\n",
       "      <td>-8.022189</td>\n",
       "    </tr>\n",
       "    <tr>\n",
       "      <th>383</th>\n",
       "      <td>2014-03-30 12:00:00</td>\n",
       "      <td>2014-03-30 11:55:00</td>\n",
       "      <td>14.4</td>\n",
       "      <td>22.320574</td>\n",
       "      <td>-7.920574</td>\n",
       "    </tr>\n",
       "    <tr>\n",
       "      <th>394</th>\n",
       "      <td>2014-06-01 13:00:00</td>\n",
       "      <td>2014-06-01 13:10:00</td>\n",
       "      <td>18.7</td>\n",
       "      <td>17.791534</td>\n",
       "      <td>0.908466</td>\n",
       "    </tr>\n",
       "    <tr>\n",
       "      <th>398</th>\n",
       "      <td>2014-06-24 13:00:00</td>\n",
       "      <td>2014-06-24 13:10:00</td>\n",
       "      <td>8.4</td>\n",
       "      <td>21.003313</td>\n",
       "      <td>-12.603313</td>\n",
       "    </tr>\n",
       "  </tbody>\n",
       "</table>\n",
       "<p>94 rows × 5 columns</p>\n",
       "</div>"
      ],
      "text/plain": [
       "             MAIAC_Time           AURN_Time  PM2.5_Soton_Centre  MAIAC_PM25  \\\n",
       "6   2008-12-04 12:00:00 2008-12-04 12:10:00                 6.0   20.042711   \n",
       "7   2008-12-04 14:00:00 2008-12-04 14:00:00                 6.0   20.336378   \n",
       "14  2009-01-09 12:00:00 2009-01-09 12:05:00                29.0   28.123997   \n",
       "18  2009-01-27 12:00:00 2009-01-27 12:00:00                27.0   16.513691   \n",
       "21  2009-02-03 12:00:00 2009-02-03 12:00:00                 4.0   18.376377   \n",
       "22  2009-02-04 11:00:00 2009-02-04 11:05:00                12.0   32.596939   \n",
       "23  2009-02-04 13:00:00 2009-02-04 12:55:00                14.0   22.685707   \n",
       "37  2009-04-04 11:00:00 2009-04-04 10:50:00                 9.0   16.812386   \n",
       "41  2009-04-19 10:00:00 2009-04-19 10:05:00                14.0   27.457783   \n",
       "42  2009-04-20 11:00:00 2009-04-20 10:50:00                27.0   26.723618   \n",
       "44  2009-05-29 13:00:00 2009-05-29 12:50:00                17.0   18.302727   \n",
       "48  2009-06-27 12:00:00 2009-06-27 12:05:00                16.0   19.847792   \n",
       "49  2009-06-29 12:00:00 2009-06-29 12:05:00                24.0   17.672691   \n",
       "57  2009-08-22 13:00:00 2009-08-22 13:05:00                 7.0   29.930033   \n",
       "63  2009-09-03 12:00:00 2009-09-03 11:50:00                 5.0   15.687151   \n",
       "64  2009-09-17 12:00:00 2009-09-17 11:50:00                 5.0   17.548761   \n",
       "72  2009-10-10 12:00:00 2009-10-10 11:55:00                 9.0   15.188611   \n",
       "76  2009-10-24 14:00:00 2009-10-24 14:00:00                 8.0   22.129644   \n",
       "79  2009-11-05 11:00:00 2009-11-05 11:10:00                 7.0   24.655222   \n",
       "89  2010-01-12 11:00:00 2010-01-12 11:00:00                23.0   30.500658   \n",
       "92  2010-02-17 12:00:00 2010-02-17 11:55:00                34.0   15.605043   \n",
       "95  2010-04-04 12:00:00 2010-04-04 11:55:00                 2.0   20.042711   \n",
       "116 2010-07-01 12:00:00 2010-07-01 12:00:00                 6.0   39.711491   \n",
       "121 2010-08-31 14:00:00 2010-08-31 14:05:00                13.0   17.593533   \n",
       "122 2010-09-02 11:00:00 2010-09-02 10:55:00                16.0   15.034127   \n",
       "130 2010-10-21 11:00:00 2010-10-21 11:10:00                 9.0   17.475069   \n",
       "132 2010-10-27 14:00:00 2010-10-27 14:00:00                13.0   21.231392   \n",
       "138 2010-12-04 11:00:00 2010-12-04 11:10:00                32.0   30.541275   \n",
       "141 2010-12-10 13:00:00 2010-12-10 13:05:00                20.0   21.721346   \n",
       "142 2010-12-24 13:00:00 2010-12-24 12:55:00                15.0   17.249435   \n",
       "..                  ...                 ...                 ...         ...   \n",
       "263 2012-06-20 11:00:00 2012-06-20 11:10:00                14.0   20.051708   \n",
       "264 2012-06-20 13:00:00 2012-06-20 12:55:00                17.0   20.935343   \n",
       "265 2012-06-30 12:00:00 2012-06-30 11:55:00                10.0   24.469879   \n",
       "268 2012-07-17 11:00:00 2012-07-17 10:50:00                 9.0   16.705568   \n",
       "281 2012-09-09 12:00:00 2012-09-09 11:50:00                19.0   18.315083   \n",
       "282 2012-09-14 14:00:00 2012-09-14 14:00:00                 7.0   21.227104   \n",
       "287 2012-10-17 13:00:00 2012-10-17 13:05:00                 9.0   19.026594   \n",
       "292 2012-11-02 13:00:00 2012-11-02 13:10:00                 5.0   18.554777   \n",
       "307 2013-02-08 12:00:00 2013-02-08 12:10:00                 4.5   26.425344   \n",
       "309 2013-02-15 11:00:00 2013-02-15 11:10:00                11.2   15.129280   \n",
       "312 2013-04-03 12:00:00 2013-04-03 12:00:00                18.5   21.693089   \n",
       "323 2013-05-03 11:00:00 2013-05-03 10:55:00                 9.5   15.328587   \n",
       "326 2013-05-31 11:00:00 2013-05-31 11:00:00                22.0   16.352953   \n",
       "327 2013-05-31 13:00:00 2013-05-31 12:50:00                23.5   20.378294   \n",
       "331 2013-06-06 12:00:00 2013-06-06 12:05:00                14.8   22.838554   \n",
       "335 2013-06-30 13:00:00 2013-06-30 13:05:00                 8.8   16.992971   \n",
       "337 2013-07-07 13:00:00 2013-07-07 13:10:00                18.3   15.446022   \n",
       "338 2013-07-10 10:00:00 2013-07-10 10:05:00                12.5   28.499060   \n",
       "339 2013-07-17 12:00:00 2013-07-17 11:55:00                30.0   24.528017   \n",
       "340 2013-07-18 11:00:00 2013-07-18 11:00:00                18.2   18.694326   \n",
       "343 2013-07-22 14:00:00 2013-07-22 14:05:00                24.8   20.948254   \n",
       "350 2013-08-26 11:00:00 2013-08-26 11:10:00                20.3   40.654377   \n",
       "351 2013-08-27 12:00:00 2013-08-27 12:00:00                 9.1   16.892595   \n",
       "355 2013-09-12 11:00:00 2013-09-12 11:00:00                11.5   19.077190   \n",
       "367 2013-11-16 11:00:00 2013-11-16 10:55:00                36.6   16.123438   \n",
       "372 2013-12-03 11:00:00 2013-12-03 11:00:00                21.0   19.362425   \n",
       "375 2014-01-06 13:00:00 2014-01-06 13:05:00                15.7   23.722189   \n",
       "383 2014-03-30 12:00:00 2014-03-30 11:55:00                14.4   22.320574   \n",
       "394 2014-06-01 13:00:00 2014-06-01 13:10:00                18.7   17.791534   \n",
       "398 2014-06-24 13:00:00 2014-06-24 13:10:00                 8.4   21.003313   \n",
       "\n",
       "         error  \n",
       "6   -14.042711  \n",
       "7   -14.336378  \n",
       "14    0.876003  \n",
       "18   10.486309  \n",
       "21  -14.376377  \n",
       "22  -20.596939  \n",
       "23   -8.685707  \n",
       "37   -7.812386  \n",
       "41  -13.457783  \n",
       "42    0.276382  \n",
       "44   -1.302727  \n",
       "48   -3.847792  \n",
       "49    6.327309  \n",
       "57  -22.930033  \n",
       "63  -10.687151  \n",
       "64  -12.548761  \n",
       "72   -6.188611  \n",
       "76  -14.129644  \n",
       "79  -17.655222  \n",
       "89   -7.500658  \n",
       "92   18.394957  \n",
       "95  -18.042711  \n",
       "116 -33.711491  \n",
       "121  -4.593533  \n",
       "122   0.965873  \n",
       "130  -8.475069  \n",
       "132  -8.231392  \n",
       "138   1.458725  \n",
       "141  -1.721346  \n",
       "142  -2.249435  \n",
       "..         ...  \n",
       "263  -6.051708  \n",
       "264  -3.935343  \n",
       "265 -14.469879  \n",
       "268  -7.705568  \n",
       "281   0.684917  \n",
       "282 -14.227104  \n",
       "287 -10.026594  \n",
       "292 -13.554777  \n",
       "307 -21.925344  \n",
       "309  -3.929280  \n",
       "312  -3.193089  \n",
       "323  -5.828587  \n",
       "326   5.647047  \n",
       "327   3.121706  \n",
       "331  -8.038554  \n",
       "335  -8.192971  \n",
       "337   2.853978  \n",
       "338 -15.999060  \n",
       "339   5.471983  \n",
       "340  -0.494326  \n",
       "343   3.851746  \n",
       "350 -20.354377  \n",
       "351  -7.792595  \n",
       "355  -7.577190  \n",
       "367  20.476562  \n",
       "372   1.637575  \n",
       "375  -8.022189  \n",
       "383  -7.920574  \n",
       "394   0.908466  \n",
       "398 -12.603313  \n",
       "\n",
       "[94 rows x 5 columns]"
      ]
     },
     "execution_count": 28,
     "metadata": {},
     "output_type": "execute_result"
    }
   ],
   "source": [
    "result.ix[result.MAIAC_PM25 > 15]"
   ]
  },
  {
   "cell_type": "code",
   "execution_count": 30,
   "metadata": {
    "collapsed": false
   },
   "outputs": [
    {
     "data": {
      "text/plain": [
       "count    362.000000\n",
       "mean      10.937988\n",
       "std        8.309973\n",
       "min        0.000000\n",
       "25%        5.220956\n",
       "50%        8.942549\n",
       "75%       15.107771\n",
       "max       64.451775\n",
       "Name: MAIAC_PM25, dtype: float64"
      ]
     },
     "execution_count": 30,
     "metadata": {},
     "output_type": "execute_result"
    }
   ],
   "source": [
    "result.MAIAC_PM25.describe()"
   ]
  },
  {
   "cell_type": "code",
   "execution_count": 31,
   "metadata": {
    "collapsed": true
   },
   "outputs": [],
   "source": [
    "result.to_csv(r'D:\\Annies_Dissertation\\Methodology\\Validation\\AURN\\Southampton\\Soton_validation.csv')"
   ]
  },
  {
   "cell_type": "markdown",
   "metadata": {
    "collapsed": true
   },
   "source": [
    "# Validating Bournemouth\n",
    "## Extracting data at the ground site"
   ]
  },
  {
   "cell_type": "code",
   "execution_count": 8,
   "metadata": {
    "collapsed": false
   },
   "outputs": [
    {
     "data": {
      "text/plain": [
       "(1082.3040538889738, 1063.182688636608)"
      ]
     },
     "execution_count": 8,
     "metadata": {},
     "output_type": "execute_result"
    }
   ],
   "source": [
    "a = MAIAC_PM25.attrs['affine']\n",
    "a = rasterio.Affine.from_gdal(*a)\n",
    "~a * (412322, 93343)"
   ]
  },
  {
   "cell_type": "code",
   "execution_count": 9,
   "metadata": {
    "collapsed": false
   },
   "outputs": [
    {
     "name": "stdout",
     "output_type": "stream",
     "text": [
      "Processed D:\\MAIAC_Data\\Europe\\h00v01\\Projected\\2000\n",
      "Processed D:\\MAIAC_Data\\Europe\\h00v01\\Projected\\2001\n",
      "Processed D:\\MAIAC_Data\\Europe\\h00v01\\Projected\\2002\n",
      "Processed D:\\MAIAC_Data\\Europe\\h00v01\\Projected\\2003\n",
      "Processed D:\\MAIAC_Data\\Europe\\h00v01\\Projected\\2004\n",
      "Processed D:\\MAIAC_Data\\Europe\\h00v01\\Projected\\2005\n",
      "Processed D:\\MAIAC_Data\\Europe\\h00v01\\Projected\\2006\n",
      "Processed D:\\MAIAC_Data\\Europe\\h00v01\\Projected\\2007\n",
      "Processed D:\\MAIAC_Data\\Europe\\h00v01\\Projected\\2008\n",
      "Processed D:\\MAIAC_Data\\Europe\\h00v01\\Projected\\2009\n",
      "Processed D:\\MAIAC_Data\\Europe\\h00v01\\Projected\\2010\n",
      "Processed D:\\MAIAC_Data\\Europe\\h00v01\\Projected\\2011\n",
      "Processed D:\\MAIAC_Data\\Europe\\h00v01\\Projected\\2012\n",
      "Processed D:\\MAIAC_Data\\Europe\\h00v01\\Projected\\2013\n",
      "Processed D:\\MAIAC_Data\\Europe\\h00v01\\Projected\\2014\n"
     ]
    }
   ],
   "source": [
    "for folder in folders:\n",
    "    files = glob.glob(r'{fname}\\*_PM25.tif'.format(fname=folder))\n",
    "    list_of_das = map(maiac_file_to_da, files)\n",
    "    MAIAC_PM25 = xr.concat(list_of_das, 'time')\n",
    "    reordered_MAIAC_PM25 = MAIAC_PM25.isel(time=np.argsort(MAIAC_PM25.time))\n",
    "    Measurements = reordered_MAIAC_PM25.isel(x=1082, y=1063).dropna('time').to_dataframe(name='MAIAC_PM25')\n",
    "    Measurements.to_csv(r'D:\\Annies_Dissertation\\Methodology\\Validation\\AURN\\Bournemouth\\Bmth_MAIAC_PM25.csv', mode='a')\n",
    "    print('Processed {fname}'.format(fname=folder))"
   ]
  },
  {
   "cell_type": "markdown",
   "metadata": {},
   "source": [
    "## Comparing MAIAC and groundbased"
   ]
  },
  {
   "cell_type": "code",
   "execution_count": 25,
   "metadata": {
    "collapsed": false
   },
   "outputs": [],
   "source": [
    "AURN_Bmth = pd.read_csv(r'D:\\Annies_Dissertation\\Methodology\\Validation\\AURN\\Bournemouth\\Bournemouth2008_2014.csv')"
   ]
  },
  {
   "cell_type": "code",
   "execution_count": 26,
   "metadata": {
    "collapsed": true
   },
   "outputs": [],
   "source": [
    "MAIAC_Bmth = pd.read_csv(r'D:\\Annies_Dissertation\\Methodology\\Validation\\AURN\\Bournemouth\\Bmth_MAIAC_PM25.csv')"
   ]
  },
  {
   "cell_type": "code",
   "execution_count": 27,
   "metadata": {
    "collapsed": false,
    "scrolled": true
   },
   "outputs": [
    {
     "data": {
      "text/html": [
       "<div>\n",
       "<table border=\"1\" class=\"dataframe\">\n",
       "  <thead>\n",
       "    <tr style=\"text-align: right;\">\n",
       "      <th></th>\n",
       "      <th>time</th>\n",
       "      <th>x</th>\n",
       "      <th>y</th>\n",
       "      <th>MAIAC_PM25</th>\n",
       "    </tr>\n",
       "  </thead>\n",
       "  <tbody>\n",
       "    <tr>\n",
       "      <th>0</th>\n",
       "      <td>2000-02-25 10:50:00</td>\n",
       "      <td>411939.94320081966</td>\n",
       "      <td>93572.55613552616</td>\n",
       "      <td>16.433635711669922</td>\n",
       "    </tr>\n",
       "    <tr>\n",
       "      <th>1</th>\n",
       "      <td>2000-03-12 12:30:00</td>\n",
       "      <td>411939.94320081966</td>\n",
       "      <td>93572.55613552616</td>\n",
       "      <td>16.46393394470215</td>\n",
       "    </tr>\n",
       "    <tr>\n",
       "      <th>2</th>\n",
       "      <td>2000-03-19 12:35:00</td>\n",
       "      <td>411939.94320081966</td>\n",
       "      <td>93572.55613552616</td>\n",
       "      <td>17.86511993408203</td>\n",
       "    </tr>\n",
       "    <tr>\n",
       "      <th>3</th>\n",
       "      <td>2000-04-06 12:25:00</td>\n",
       "      <td>411939.94320081966</td>\n",
       "      <td>93572.55613552616</td>\n",
       "      <td>17.33671760559082</td>\n",
       "    </tr>\n",
       "    <tr>\n",
       "      <th>4</th>\n",
       "      <td>2000-04-07 11:30:00</td>\n",
       "      <td>411939.94320081966</td>\n",
       "      <td>93572.55613552616</td>\n",
       "      <td>26.186424255371094</td>\n",
       "    </tr>\n",
       "    <tr>\n",
       "      <th>5</th>\n",
       "      <td>2000-04-08 10:35:00</td>\n",
       "      <td>411939.94320081966</td>\n",
       "      <td>93572.55613552616</td>\n",
       "      <td>23.937726974487305</td>\n",
       "    </tr>\n",
       "    <tr>\n",
       "      <th>6</th>\n",
       "      <td>2000-04-08 12:15:00</td>\n",
       "      <td>411939.94320081966</td>\n",
       "      <td>93572.55613552616</td>\n",
       "      <td>19.3677978515625</td>\n",
       "    </tr>\n",
       "    <tr>\n",
       "      <th>7</th>\n",
       "      <td>2000-04-10 12:00:00</td>\n",
       "      <td>411939.94320081966</td>\n",
       "      <td>93572.55613552616</td>\n",
       "      <td>16.75640869140625</td>\n",
       "    </tr>\n",
       "    <tr>\n",
       "      <th>8</th>\n",
       "      <td>2000-04-29 10:55:00</td>\n",
       "      <td>411939.94320081966</td>\n",
       "      <td>93572.55613552616</td>\n",
       "      <td>20.455875396728516</td>\n",
       "    </tr>\n",
       "    <tr>\n",
       "      <th>9</th>\n",
       "      <td>2000-05-01 10:40:00</td>\n",
       "      <td>411939.94320081966</td>\n",
       "      <td>93572.55613552616</td>\n",
       "      <td>21.390899658203125</td>\n",
       "    </tr>\n",
       "  </tbody>\n",
       "</table>\n",
       "</div>"
      ],
      "text/plain": [
       "                  time                   x                  y  \\\n",
       "0  2000-02-25 10:50:00  411939.94320081966  93572.55613552616   \n",
       "1  2000-03-12 12:30:00  411939.94320081966  93572.55613552616   \n",
       "2  2000-03-19 12:35:00  411939.94320081966  93572.55613552616   \n",
       "3  2000-04-06 12:25:00  411939.94320081966  93572.55613552616   \n",
       "4  2000-04-07 11:30:00  411939.94320081966  93572.55613552616   \n",
       "5  2000-04-08 10:35:00  411939.94320081966  93572.55613552616   \n",
       "6  2000-04-08 12:15:00  411939.94320081966  93572.55613552616   \n",
       "7  2000-04-10 12:00:00  411939.94320081966  93572.55613552616   \n",
       "8  2000-04-29 10:55:00  411939.94320081966  93572.55613552616   \n",
       "9  2000-05-01 10:40:00  411939.94320081966  93572.55613552616   \n",
       "\n",
       "           MAIAC_PM25  \n",
       "0  16.433635711669922  \n",
       "1   16.46393394470215  \n",
       "2   17.86511993408203  \n",
       "3   17.33671760559082  \n",
       "4  26.186424255371094  \n",
       "5  23.937726974487305  \n",
       "6    19.3677978515625  \n",
       "7   16.75640869140625  \n",
       "8  20.455875396728516  \n",
       "9  21.390899658203125  "
      ]
     },
     "execution_count": 27,
     "metadata": {},
     "output_type": "execute_result"
    }
   ],
   "source": [
    "MAIAC_Bmth[:10]"
   ]
  },
  {
   "cell_type": "code",
   "execution_count": 28,
   "metadata": {
    "collapsed": false
   },
   "outputs": [
    {
     "data": {
      "text/plain": [
       "time          object\n",
       "x             object\n",
       "y             object\n",
       "MAIAC_PM25    object\n",
       "dtype: object"
      ]
     },
     "execution_count": 28,
     "metadata": {},
     "output_type": "execute_result"
    }
   ],
   "source": [
    "MAIAC_Bmth.dtypes"
   ]
  },
  {
   "cell_type": "code",
   "execution_count": 29,
   "metadata": {
    "collapsed": false,
    "scrolled": true
   },
   "outputs": [
    {
     "data": {
      "text/plain": [
       "0       16.433635711669922\n",
       "1        16.46393394470215\n",
       "2        17.86511993408203\n",
       "3        17.33671760559082\n",
       "4       26.186424255371094\n",
       "5       23.937726974487305\n",
       "6         19.3677978515625\n",
       "7        16.75640869140625\n",
       "8       20.455875396728516\n",
       "9       21.390899658203125\n",
       "10      31.108301162719727\n",
       "11      23.274415969848633\n",
       "12       33.57283020019531\n",
       "13      3.2268364429473877\n",
       "14      3.2268364429473877\n",
       "15       9.062603950500488\n",
       "16        9.46696949005127\n",
       "17       16.13385009765625\n",
       "18       8.866950988769531\n",
       "19       18.93393898010254\n",
       "20       5.571338653564453\n",
       "21      17.419248580932617\n",
       "22      11.495292663574219\n",
       "23      28.561925888061523\n",
       "24      26.939891815185547\n",
       "25      13.497876167297363\n",
       "26       9.706337928771973\n",
       "27      22.749229431152344\n",
       "28       7.355584621429443\n",
       "29      11.450446128845215\n",
       "               ...        \n",
       "2396    11.678709983825684\n",
       "2397     10.88078498840332\n",
       "2398     11.75124740600586\n",
       "2399     15.95848560333252\n",
       "2400    10.808246612548828\n",
       "2401     7.326395511627197\n",
       "2402     7.544011116027832\n",
       "2403      8.92224407196045\n",
       "2404      8.92224407196045\n",
       "2405    13.854866981506348\n",
       "2406    11.170940399169922\n",
       "2407    29.378122329711914\n",
       "2408    14.217559814453125\n",
       "2409    21.979185104370117\n",
       "2410    10.222199440002441\n",
       "2411    7.3196001052856445\n",
       "2412    10.222199440002441\n",
       "2413     10.79010009765625\n",
       "2414     20.00269889831543\n",
       "2415     11.92590045928955\n",
       "2416    13.945100784301758\n",
       "2417    25.744800567626953\n",
       "2418    33.253700256347656\n",
       "2419    7.9506001472473145\n",
       "2420    10.348400115966797\n",
       "2421     20.75990104675293\n",
       "2422     9.955133438110352\n",
       "2423     8.513355255126953\n",
       "2424     7.483514308929443\n",
       "2425    15.928213119506836\n",
       "Name: MAIAC_PM25, dtype: object"
      ]
     },
     "execution_count": 29,
     "metadata": {},
     "output_type": "execute_result"
    }
   ],
   "source": [
    "MAIAC_Bmth.MAIAC_PM25"
   ]
  },
  {
   "cell_type": "code",
   "execution_count": 30,
   "metadata": {
    "collapsed": false
   },
   "outputs": [
    {
     "ename": "TypeError",
     "evalue": "Only valid with DatetimeIndex, TimedeltaIndex or PeriodIndex, but got an instance of 'RangeIndex'",
     "output_type": "error",
     "traceback": [
      "\u001b[1;31m---------------------------------------------------------------------------\u001b[0m",
      "\u001b[1;31mTypeError\u001b[0m                                 Traceback (most recent call last)",
      "\u001b[1;32m<ipython-input-30-09059e8b3b78>\u001b[0m in \u001b[0;36m<module>\u001b[1;34m()\u001b[0m\n\u001b[1;32m----> 1\u001b[1;33m \u001b[0mMAIAC_Bmth_Max\u001b[0m \u001b[1;33m=\u001b[0m \u001b[0mMAIAC_Bmth\u001b[0m\u001b[1;33m.\u001b[0m\u001b[0mtime\u001b[0m\u001b[1;33m.\u001b[0m\u001b[0mresample\u001b[0m\u001b[1;33m(\u001b[0m\u001b[1;34m'D'\u001b[0m\u001b[1;33m)\u001b[0m\u001b[1;33m.\u001b[0m\u001b[0mmax\u001b[0m\u001b[1;33m(\u001b[0m\u001b[1;33m)\u001b[0m\u001b[1;33m\u001b[0m\u001b[0m\n\u001b[0m",
      "\u001b[1;32mD:\\Anaconda3\\lib\\site-packages\\pandas\\core\\generic.py\u001b[0m in \u001b[0;36mresample\u001b[1;34m(self, rule, how, axis, fill_method, closed, label, convention, kind, loffset, limit, base)\u001b[0m\n\u001b[0;32m   3974\u001b[0m                      \u001b[0maxis\u001b[0m\u001b[1;33m=\u001b[0m\u001b[0maxis\u001b[0m\u001b[1;33m,\u001b[0m \u001b[0mkind\u001b[0m\u001b[1;33m=\u001b[0m\u001b[0mkind\u001b[0m\u001b[1;33m,\u001b[0m \u001b[0mloffset\u001b[0m\u001b[1;33m=\u001b[0m\u001b[0mloffset\u001b[0m\u001b[1;33m,\u001b[0m\u001b[1;33m\u001b[0m\u001b[0m\n\u001b[0;32m   3975\u001b[0m                      \u001b[0mconvention\u001b[0m\u001b[1;33m=\u001b[0m\u001b[0mconvention\u001b[0m\u001b[1;33m,\u001b[0m\u001b[1;33m\u001b[0m\u001b[0m\n\u001b[1;32m-> 3976\u001b[1;33m                      base=base)\n\u001b[0m\u001b[0;32m   3977\u001b[0m         return _maybe_process_deprecations(r,\n\u001b[0;32m   3978\u001b[0m                                            \u001b[0mhow\u001b[0m\u001b[1;33m=\u001b[0m\u001b[0mhow\u001b[0m\u001b[1;33m,\u001b[0m\u001b[1;33m\u001b[0m\u001b[0m\n",
      "\u001b[1;32mD:\\Anaconda3\\lib\\site-packages\\pandas\\tseries\\resample.py\u001b[0m in \u001b[0;36mresample\u001b[1;34m(obj, kind, **kwds)\u001b[0m\n\u001b[0;32m    896\u001b[0m     \u001b[1;34m\"\"\" create a TimeGrouper and return our resampler \"\"\"\u001b[0m\u001b[1;33m\u001b[0m\u001b[0m\n\u001b[0;32m    897\u001b[0m     \u001b[0mtg\u001b[0m \u001b[1;33m=\u001b[0m \u001b[0mTimeGrouper\u001b[0m\u001b[1;33m(\u001b[0m\u001b[1;33m**\u001b[0m\u001b[0mkwds\u001b[0m\u001b[1;33m)\u001b[0m\u001b[1;33m\u001b[0m\u001b[0m\n\u001b[1;32m--> 898\u001b[1;33m     \u001b[1;32mreturn\u001b[0m \u001b[0mtg\u001b[0m\u001b[1;33m.\u001b[0m\u001b[0m_get_resampler\u001b[0m\u001b[1;33m(\u001b[0m\u001b[0mobj\u001b[0m\u001b[1;33m,\u001b[0m \u001b[0mkind\u001b[0m\u001b[1;33m=\u001b[0m\u001b[0mkind\u001b[0m\u001b[1;33m)\u001b[0m\u001b[1;33m\u001b[0m\u001b[0m\n\u001b[0m\u001b[0;32m    899\u001b[0m \u001b[0mresample\u001b[0m\u001b[1;33m.\u001b[0m\u001b[0m__doc__\u001b[0m \u001b[1;33m=\u001b[0m \u001b[0mResampler\u001b[0m\u001b[1;33m.\u001b[0m\u001b[0m__doc__\u001b[0m\u001b[1;33m\u001b[0m\u001b[0m\n\u001b[0;32m    900\u001b[0m \u001b[1;33m\u001b[0m\u001b[0m\n",
      "\u001b[1;32mD:\\Anaconda3\\lib\\site-packages\\pandas\\tseries\\resample.py\u001b[0m in \u001b[0;36m_get_resampler\u001b[1;34m(self, obj, kind)\u001b[0m\n\u001b[0;32m   1010\u001b[0m         raise TypeError(\"Only valid with DatetimeIndex, \"\n\u001b[0;32m   1011\u001b[0m                         \u001b[1;34m\"TimedeltaIndex or PeriodIndex, \"\u001b[0m\u001b[1;33m\u001b[0m\u001b[0m\n\u001b[1;32m-> 1012\u001b[1;33m                         \"but got an instance of %r\" % type(ax).__name__)\n\u001b[0m\u001b[0;32m   1013\u001b[0m \u001b[1;33m\u001b[0m\u001b[0m\n\u001b[0;32m   1014\u001b[0m     \u001b[1;32mdef\u001b[0m \u001b[0m_get_grouper\u001b[0m\u001b[1;33m(\u001b[0m\u001b[0mself\u001b[0m\u001b[1;33m,\u001b[0m \u001b[0mobj\u001b[0m\u001b[1;33m)\u001b[0m\u001b[1;33m:\u001b[0m\u001b[1;33m\u001b[0m\u001b[0m\n",
      "\u001b[1;31mTypeError\u001b[0m: Only valid with DatetimeIndex, TimedeltaIndex or PeriodIndex, but got an instance of 'RangeIndex'"
     ]
    }
   ],
   "source": [
    "MAIAC_Bmth_Max = MAIAC_Bmth.time.resample('D').max()"
   ]
  },
  {
   "cell_type": "code",
   "execution_count": 31,
   "metadata": {
    "collapsed": false
   },
   "outputs": [
    {
     "ename": "TypeError",
     "evalue": "resample() got an unexpected keyword argument 'dim'",
     "output_type": "error",
     "traceback": [
      "\u001b[1;31m---------------------------------------------------------------------------\u001b[0m",
      "\u001b[1;31mTypeError\u001b[0m                                 Traceback (most recent call last)",
      "\u001b[1;32m<ipython-input-31-9cf640289119>\u001b[0m in \u001b[0;36m<module>\u001b[1;34m()\u001b[0m\n\u001b[1;32m----> 1\u001b[1;33m \u001b[0mMAIAC_Bmth_Max\u001b[0m \u001b[1;33m=\u001b[0m \u001b[0mMAIAC_Bmth\u001b[0m\u001b[1;33m.\u001b[0m\u001b[0mresample\u001b[0m\u001b[1;33m(\u001b[0m\u001b[1;34m'D'\u001b[0m\u001b[1;33m,\u001b[0m \u001b[0mdim\u001b[0m\u001b[1;33m=\u001b[0m\u001b[1;34m'time'\u001b[0m\u001b[1;33m,\u001b[0m \u001b[0mhow\u001b[0m\u001b[1;33m=\u001b[0m\u001b[1;34m'median'\u001b[0m\u001b[1;33m)\u001b[0m\u001b[1;33m\u001b[0m\u001b[0m\n\u001b[0m",
      "\u001b[1;31mTypeError\u001b[0m: resample() got an unexpected keyword argument 'dim'"
     ]
    }
   ],
   "source": [
    "MAIAC_Bmth_Max = MAIAC_Bmth.resample('D', dim='time', how='median')"
   ]
  },
  {
   "cell_type": "code",
   "execution_count": 32,
   "metadata": {
    "collapsed": false,
    "scrolled": true
   },
   "outputs": [
    {
     "ename": "DataError",
     "evalue": "No numeric types to aggregate",
     "output_type": "error",
     "traceback": [
      "\u001b[1;31m---------------------------------------------------------------------------\u001b[0m",
      "\u001b[1;31mDataError\u001b[0m                                 Traceback (most recent call last)",
      "\u001b[1;32m<ipython-input-32-db2794003156>\u001b[0m in \u001b[0;36m<module>\u001b[1;34m()\u001b[0m\n\u001b[1;32m----> 1\u001b[1;33m \u001b[0mMAIAC_Bmth\u001b[0m\u001b[1;33m[\u001b[0m\u001b[1;34m'means'\u001b[0m\u001b[1;33m]\u001b[0m \u001b[1;33m=\u001b[0m \u001b[0mMAIAC_Bmth\u001b[0m\u001b[1;33m.\u001b[0m\u001b[0mgroupby\u001b[0m\u001b[1;33m(\u001b[0m\u001b[1;34m'time'\u001b[0m\u001b[1;33m)\u001b[0m\u001b[1;33m[\u001b[0m\u001b[1;34m'MAIAC_PM25'\u001b[0m\u001b[1;33m]\u001b[0m\u001b[1;33m.\u001b[0m\u001b[0mmean\u001b[0m\u001b[1;33m(\u001b[0m\u001b[1;33m)\u001b[0m\u001b[1;33m\u001b[0m\u001b[0m\n\u001b[0m",
      "\u001b[1;32mD:\\Anaconda3\\lib\\site-packages\\pandas\\core\\groupby.py\u001b[0m in \u001b[0;36mmean\u001b[1;34m(self)\u001b[0m\n\u001b[0;32m    962\u001b[0m         \"\"\"\n\u001b[0;32m    963\u001b[0m         \u001b[1;32mtry\u001b[0m\u001b[1;33m:\u001b[0m\u001b[1;33m\u001b[0m\u001b[0m\n\u001b[1;32m--> 964\u001b[1;33m             \u001b[1;32mreturn\u001b[0m \u001b[0mself\u001b[0m\u001b[1;33m.\u001b[0m\u001b[0m_cython_agg_general\u001b[0m\u001b[1;33m(\u001b[0m\u001b[1;34m'mean'\u001b[0m\u001b[1;33m)\u001b[0m\u001b[1;33m\u001b[0m\u001b[0m\n\u001b[0m\u001b[0;32m    965\u001b[0m         \u001b[1;32mexcept\u001b[0m \u001b[0mGroupByError\u001b[0m\u001b[1;33m:\u001b[0m\u001b[1;33m\u001b[0m\u001b[0m\n\u001b[0;32m    966\u001b[0m             \u001b[1;32mraise\u001b[0m\u001b[1;33m\u001b[0m\u001b[0m\n",
      "\u001b[1;32mD:\\Anaconda3\\lib\\site-packages\\pandas\\core\\groupby.py\u001b[0m in \u001b[0;36m_cython_agg_general\u001b[1;34m(self, how, numeric_only)\u001b[0m\n\u001b[0;32m    763\u001b[0m \u001b[1;33m\u001b[0m\u001b[0m\n\u001b[0;32m    764\u001b[0m         \u001b[1;32mif\u001b[0m \u001b[0mlen\u001b[0m\u001b[1;33m(\u001b[0m\u001b[0moutput\u001b[0m\u001b[1;33m)\u001b[0m \u001b[1;33m==\u001b[0m \u001b[1;36m0\u001b[0m\u001b[1;33m:\u001b[0m\u001b[1;33m\u001b[0m\u001b[0m\n\u001b[1;32m--> 765\u001b[1;33m             \u001b[1;32mraise\u001b[0m \u001b[0mDataError\u001b[0m\u001b[1;33m(\u001b[0m\u001b[1;34m'No numeric types to aggregate'\u001b[0m\u001b[1;33m)\u001b[0m\u001b[1;33m\u001b[0m\u001b[0m\n\u001b[0m\u001b[0;32m    766\u001b[0m \u001b[1;33m\u001b[0m\u001b[0m\n\u001b[0;32m    767\u001b[0m         \u001b[1;32mreturn\u001b[0m \u001b[0mself\u001b[0m\u001b[1;33m.\u001b[0m\u001b[0m_wrap_aggregated_output\u001b[0m\u001b[1;33m(\u001b[0m\u001b[0moutput\u001b[0m\u001b[1;33m,\u001b[0m \u001b[0mnames\u001b[0m\u001b[1;33m)\u001b[0m\u001b[1;33m\u001b[0m\u001b[0m\n",
      "\u001b[1;31mDataError\u001b[0m: No numeric types to aggregate"
     ]
    }
   ],
   "source": [
    "MAIAC_Bmth['means'] = MAIAC_Bmth.groupby('time')['MAIAC_PM25'].mean()"
   ]
  },
  {
   "cell_type": "markdown",
   "metadata": {},
   "source": [
    "# Validating Bournemouth\n",
    "## Extracting data at the ground site on daily data"
   ]
  },
  {
   "cell_type": "code",
   "execution_count": 33,
   "metadata": {
    "collapsed": true
   },
   "outputs": [],
   "source": [
    "MAIAC_Bmth = pd.read_csv(r'D:\\Annies_Dissertation\\Methodology\\Validation\\AURN\\Bournemouth\\Bmth_MAIAC_PM25_daily.csv')"
   ]
  },
  {
   "cell_type": "code",
   "execution_count": 38,
   "metadata": {
    "collapsed": false
   },
   "outputs": [
    {
     "data": {
      "text/html": [
       "<div>\n",
       "<table border=\"1\" class=\"dataframe\">\n",
       "  <thead>\n",
       "    <tr style=\"text-align: right;\">\n",
       "      <th></th>\n",
       "      <th>x</th>\n",
       "      <th>y</th>\n",
       "      <th>data</th>\n",
       "    </tr>\n",
       "    <tr>\n",
       "      <th>time</th>\n",
       "      <th></th>\n",
       "      <th></th>\n",
       "      <th></th>\n",
       "    </tr>\n",
       "  </thead>\n",
       "  <tbody>\n",
       "    <tr>\n",
       "      <th>2000-10-01</th>\n",
       "      <td>411939.943201</td>\n",
       "      <td>93572.556136</td>\n",
       "      <td>12.497609</td>\n",
       "    </tr>\n",
       "    <tr>\n",
       "      <th>2000-10-10</th>\n",
       "      <td>411939.943201</td>\n",
       "      <td>93572.556136</td>\n",
       "      <td>10.441040</td>\n",
       "    </tr>\n",
       "    <tr>\n",
       "      <th>2000-10-12</th>\n",
       "      <td>411939.943201</td>\n",
       "      <td>93572.556136</td>\n",
       "      <td>20.723885</td>\n",
       "    </tr>\n",
       "    <tr>\n",
       "      <th>2000-10-19</th>\n",
       "      <td>411939.943201</td>\n",
       "      <td>93572.556136</td>\n",
       "      <td>18.034525</td>\n",
       "    </tr>\n",
       "    <tr>\n",
       "      <th>2000-10-26</th>\n",
       "      <td>411939.943201</td>\n",
       "      <td>93572.556136</td>\n",
       "      <td>8.463571</td>\n",
       "    </tr>\n",
       "    <tr>\n",
       "      <th>2000-10-30</th>\n",
       "      <td>411939.943201</td>\n",
       "      <td>93572.556136</td>\n",
       "      <td>7.988977</td>\n",
       "    </tr>\n",
       "    <tr>\n",
       "      <th>2000-10-31</th>\n",
       "      <td>411939.943201</td>\n",
       "      <td>93572.556136</td>\n",
       "      <td>7.751681</td>\n",
       "    </tr>\n",
       "    <tr>\n",
       "      <th>2000-11-03</th>\n",
       "      <td>411939.943201</td>\n",
       "      <td>93572.556136</td>\n",
       "      <td>11.357734</td>\n",
       "    </tr>\n",
       "    <tr>\n",
       "      <th>2000-11-04</th>\n",
       "      <td>411939.943201</td>\n",
       "      <td>93572.556136</td>\n",
       "      <td>7.901032</td>\n",
       "    </tr>\n",
       "    <tr>\n",
       "      <th>2000-11-12</th>\n",
       "      <td>411939.943201</td>\n",
       "      <td>93572.556136</td>\n",
       "      <td>3.061650</td>\n",
       "    </tr>\n",
       "  </tbody>\n",
       "</table>\n",
       "</div>"
      ],
      "text/plain": [
       "                        x             y       data\n",
       "time                                              \n",
       "2000-10-01  411939.943201  93572.556136  12.497609\n",
       "2000-10-10  411939.943201  93572.556136  10.441040\n",
       "2000-10-12  411939.943201  93572.556136  20.723885\n",
       "2000-10-19  411939.943201  93572.556136  18.034525\n",
       "2000-10-26  411939.943201  93572.556136   8.463571\n",
       "2000-10-30  411939.943201  93572.556136   7.988977\n",
       "2000-10-31  411939.943201  93572.556136   7.751681\n",
       "2000-11-03  411939.943201  93572.556136  11.357734\n",
       "2000-11-04  411939.943201  93572.556136   7.901032\n",
       "2000-11-12  411939.943201  93572.556136   3.061650"
      ]
     },
     "execution_count": 38,
     "metadata": {},
     "output_type": "execute_result"
    }
   ],
   "source": [
    "MAIAC_Bmth[:10]"
   ]
  },
  {
   "cell_type": "code",
   "execution_count": 35,
   "metadata": {
    "collapsed": true
   },
   "outputs": [],
   "source": [
    "MAIAC_Bmth = MAIAC_Bmth.set_index('time')"
   ]
  },
  {
   "cell_type": "code",
   "execution_count": 69,
   "metadata": {
    "collapsed": true
   },
   "outputs": [],
   "source": [
    "AURN_Bmth = pd.read_csv(r'D:\\Annies_Dissertation\\Methodology\\Validation\\AURN\\Bournemouth\\Bournemouth2008_2014.csv')"
   ]
  },
  {
   "cell_type": "code",
   "execution_count": 70,
   "metadata": {
    "collapsed": false
   },
   "outputs": [
    {
     "data": {
      "text/html": [
       "<div>\n",
       "<table border=\"1\" class=\"dataframe\">\n",
       "  <thead>\n",
       "    <tr style=\"text-align: right;\">\n",
       "      <th></th>\n",
       "      <th>Date</th>\n",
       "      <th>PM2.5 particulate matter (Daily measured)</th>\n",
       "      <th>Status</th>\n",
       "    </tr>\n",
       "  </thead>\n",
       "  <tbody>\n",
       "    <tr>\n",
       "      <th>0</th>\n",
       "      <td>12/03/2009</td>\n",
       "      <td>0.0</td>\n",
       "      <td>V ugm-3 (GRAV EMFAB)</td>\n",
       "    </tr>\n",
       "    <tr>\n",
       "      <th>1</th>\n",
       "      <td>30/11/2009</td>\n",
       "      <td>0.0</td>\n",
       "      <td>V ugm-3 (GRAV EMFAB)</td>\n",
       "    </tr>\n",
       "    <tr>\n",
       "      <th>2</th>\n",
       "      <td>25/12/2013</td>\n",
       "      <td>0.0</td>\n",
       "      <td>V ugm-3 (GRAV EMFAB)</td>\n",
       "    </tr>\n",
       "    <tr>\n",
       "      <th>3</th>\n",
       "      <td>27/12/2009</td>\n",
       "      <td>1.0</td>\n",
       "      <td>V ugm-3 (GRAV EMFAB)</td>\n",
       "    </tr>\n",
       "    <tr>\n",
       "      <th>4</th>\n",
       "      <td>16/02/2010</td>\n",
       "      <td>1.0</td>\n",
       "      <td>V ugm-3 (GRAV EMFAB)</td>\n",
       "    </tr>\n",
       "    <tr>\n",
       "      <th>5</th>\n",
       "      <td>22/08/2010</td>\n",
       "      <td>1.0</td>\n",
       "      <td>V ugm-3 (GRAV EMFAB)</td>\n",
       "    </tr>\n",
       "    <tr>\n",
       "      <th>6</th>\n",
       "      <td>29/08/2010</td>\n",
       "      <td>1.0</td>\n",
       "      <td>V ugm-3 (GRAV EMFAB)</td>\n",
       "    </tr>\n",
       "    <tr>\n",
       "      <th>7</th>\n",
       "      <td>21/09/2010</td>\n",
       "      <td>1.0</td>\n",
       "      <td>V ugm-3 (GRAV EMFAB)</td>\n",
       "    </tr>\n",
       "    <tr>\n",
       "      <th>8</th>\n",
       "      <td>17/01/2011</td>\n",
       "      <td>1.0</td>\n",
       "      <td>V ugm-3 (GRAV EMFAB)</td>\n",
       "    </tr>\n",
       "    <tr>\n",
       "      <th>9</th>\n",
       "      <td>26/08/2011</td>\n",
       "      <td>1.0</td>\n",
       "      <td>V ugm-3 (GRAV EMFAB)</td>\n",
       "    </tr>\n",
       "  </tbody>\n",
       "</table>\n",
       "</div>"
      ],
      "text/plain": [
       "         Date  PM2.5 particulate matter (Daily measured)                Status\n",
       "0  12/03/2009                                        0.0  V ugm-3 (GRAV EMFAB)\n",
       "1  30/11/2009                                        0.0  V ugm-3 (GRAV EMFAB)\n",
       "2  25/12/2013                                        0.0  V ugm-3 (GRAV EMFAB)\n",
       "3  27/12/2009                                        1.0  V ugm-3 (GRAV EMFAB)\n",
       "4  16/02/2010                                        1.0  V ugm-3 (GRAV EMFAB)\n",
       "5  22/08/2010                                        1.0  V ugm-3 (GRAV EMFAB)\n",
       "6  29/08/2010                                        1.0  V ugm-3 (GRAV EMFAB)\n",
       "7  21/09/2010                                        1.0  V ugm-3 (GRAV EMFAB)\n",
       "8  17/01/2011                                        1.0  V ugm-3 (GRAV EMFAB)\n",
       "9  26/08/2011                                        1.0  V ugm-3 (GRAV EMFAB)"
      ]
     },
     "execution_count": 70,
     "metadata": {},
     "output_type": "execute_result"
    }
   ],
   "source": [
    "AURN_Bmth[:10]"
   ]
  },
  {
   "cell_type": "code",
   "execution_count": 71,
   "metadata": {
    "collapsed": false
   },
   "outputs": [],
   "source": [
    "AURN_Bmth['timestamp'] = pd.to_datetime(AURN_Bmth.Date, format='%d/%m/%Y')"
   ]
  },
  {
   "cell_type": "code",
   "execution_count": 72,
   "metadata": {
    "collapsed": false
   },
   "outputs": [],
   "source": [
    "AURN_Bmth = AURN_Bmth.set_index('timestamp')"
   ]
  },
  {
   "cell_type": "code",
   "execution_count": 73,
   "metadata": {
    "collapsed": false
   },
   "outputs": [
    {
     "data": {
      "text/plain": [
       "timestamp\n",
       "2009-03-12     0.00\n",
       "2009-11-30     0.00\n",
       "2013-12-25     0.00\n",
       "2009-12-27     1.00\n",
       "2010-02-16     1.00\n",
       "2010-08-22     1.00\n",
       "2010-08-29     1.00\n",
       "2010-09-21     1.00\n",
       "2011-01-17     1.00\n",
       "2011-08-26     1.00\n",
       "2011-09-05     1.00\n",
       "2012-04-29     1.00\n",
       "2012-12-20     1.00\n",
       "2012-12-22     1.00\n",
       "2014-06-04     1.29\n",
       "2013-09-13     1.50\n",
       "2013-05-23     1.71\n",
       "2014-04-06     1.75\n",
       "2014-01-10     1.88\n",
       "2014-02-07     1.88\n",
       "2014-02-19     1.92\n",
       "2009-03-13     2.00\n",
       "2009-07-09     2.00\n",
       "2009-07-11     2.00\n",
       "2009-07-17     2.00\n",
       "2009-08-26     2.00\n",
       "2009-11-02     2.00\n",
       "2009-11-27     2.00\n",
       "2009-12-17     2.00\n",
       "2009-12-26     2.00\n",
       "              ...  \n",
       "2012-03-25    34.00\n",
       "2010-11-06    35.00\n",
       "2009-01-02    36.00\n",
       "2009-03-21    36.00\n",
       "2012-10-24    36.00\n",
       "2013-04-10    36.17\n",
       "2013-03-04    36.72\n",
       "2012-01-31    37.00\n",
       "2009-01-04    38.00\n",
       "2009-01-08    38.00\n",
       "2009-02-24    38.00\n",
       "2011-03-18    38.00\n",
       "2012-02-12    38.00\n",
       "2012-03-14    38.00\n",
       "2013-04-08    38.67\n",
       "2012-03-02    40.00\n",
       "2009-03-18    41.00\n",
       "2010-01-27    41.00\n",
       "2014-03-14    42.29\n",
       "2009-01-09    44.00\n",
       "2009-01-01    46.00\n",
       "2012-03-15    46.00\n",
       "2012-03-22    46.00\n",
       "2009-01-10    47.00\n",
       "2011-03-25    47.00\n",
       "2012-03-30    50.00\n",
       "2009-04-03    52.00\n",
       "2014-03-13    56.21\n",
       "2012-03-23    57.00\n",
       "2012-03-24    63.00\n",
       "Name: PM2.5 particulate matter (Daily measured), dtype: float64"
      ]
     },
     "execution_count": 73,
     "metadata": {},
     "output_type": "execute_result"
    }
   ],
   "source": [
    "AURN_Bmth['PM2.5 particulate matter (Daily measured)'].astype(float)"
   ]
  },
  {
   "cell_type": "code",
   "execution_count": 82,
   "metadata": {
    "collapsed": false
   },
   "outputs": [],
   "source": [
    "result = pd.merge(AURN_Bmth, MAIAC_Bmth, left_index=True, right_index=True).reset_index().rename(columns={'data':'MAIAC_PM2.5', 'index':'Date', 'Date':'Delete',\n",
    "                                                                                                          'PM2.5 particulate matter (Daily measured)':'AURN_Bmth_PM2.5'})"
   ]
  },
  {
   "cell_type": "code",
   "execution_count": 86,
   "metadata": {
    "collapsed": false
   },
   "outputs": [
    {
     "data": {
      "text/html": [
       "<div>\n",
       "<table border=\"1\" class=\"dataframe\">\n",
       "  <thead>\n",
       "    <tr style=\"text-align: right;\">\n",
       "      <th></th>\n",
       "      <th>Delete</th>\n",
       "      <th>AURN_Bmth_PM2.5</th>\n",
       "      <th>Status</th>\n",
       "      <th>x</th>\n",
       "      <th>y</th>\n",
       "      <th>MAIAC_PM2.5</th>\n",
       "    </tr>\n",
       "    <tr>\n",
       "      <th>Date</th>\n",
       "      <th></th>\n",
       "      <th></th>\n",
       "      <th></th>\n",
       "      <th></th>\n",
       "      <th></th>\n",
       "      <th></th>\n",
       "    </tr>\n",
       "  </thead>\n",
       "  <tbody>\n",
       "    <tr>\n",
       "      <th>2009-10-08</th>\n",
       "      <td>08/10/2009</td>\n",
       "      <td>6.0</td>\n",
       "      <td>V ugm-3 (GRAV EMFAB)</td>\n",
       "      <td>411939.943201</td>\n",
       "      <td>93572.556136</td>\n",
       "      <td>8.424021</td>\n",
       "    </tr>\n",
       "    <tr>\n",
       "      <th>2009-10-12</th>\n",
       "      <td>12/10/2009</td>\n",
       "      <td>5.0</td>\n",
       "      <td>V ugm-3 (GRAV EMFAB)</td>\n",
       "      <td>411939.943201</td>\n",
       "      <td>93572.556136</td>\n",
       "      <td>7.356187</td>\n",
       "    </tr>\n",
       "    <tr>\n",
       "      <th>2009-10-13</th>\n",
       "      <td>13/10/2009</td>\n",
       "      <td>11.0</td>\n",
       "      <td>V ugm-3 (GRAV EMFAB)</td>\n",
       "      <td>411939.943201</td>\n",
       "      <td>93572.556136</td>\n",
       "      <td>11.627522</td>\n",
       "    </tr>\n",
       "    <tr>\n",
       "      <th>2009-10-14</th>\n",
       "      <td>14/10/2009</td>\n",
       "      <td>12.0</td>\n",
       "      <td>V ugm-3 (GRAV EMFAB)</td>\n",
       "      <td>411939.943201</td>\n",
       "      <td>93572.556136</td>\n",
       "      <td>23.966932</td>\n",
       "    </tr>\n",
       "    <tr>\n",
       "      <th>2009-10-16</th>\n",
       "      <td>16/10/2009</td>\n",
       "      <td>15.0</td>\n",
       "      <td>V ugm-3 (GRAV EMFAB)</td>\n",
       "      <td>411939.943201</td>\n",
       "      <td>93572.556136</td>\n",
       "      <td>25.469810</td>\n",
       "    </tr>\n",
       "    <tr>\n",
       "      <th>2009-10-17</th>\n",
       "      <td>17/10/2009</td>\n",
       "      <td>8.0</td>\n",
       "      <td>V ugm-3 (GRAV EMFAB)</td>\n",
       "      <td>411939.943201</td>\n",
       "      <td>93572.556136</td>\n",
       "      <td>20.011995</td>\n",
       "    </tr>\n",
       "    <tr>\n",
       "      <th>2009-10-18</th>\n",
       "      <td>18/10/2009</td>\n",
       "      <td>13.0</td>\n",
       "      <td>V ugm-3 (GRAV EMFAB)</td>\n",
       "      <td>411939.943201</td>\n",
       "      <td>93572.556136</td>\n",
       "      <td>21.040277</td>\n",
       "    </tr>\n",
       "    <tr>\n",
       "      <th>2009-10-25</th>\n",
       "      <td>25/10/2009</td>\n",
       "      <td>6.0</td>\n",
       "      <td>V ugm-3 (GRAV EMFAB)</td>\n",
       "      <td>411939.943201</td>\n",
       "      <td>93572.556136</td>\n",
       "      <td>19.418751</td>\n",
       "    </tr>\n",
       "    <tr>\n",
       "      <th>2009-10-27</th>\n",
       "      <td>27/10/2009</td>\n",
       "      <td>8.0</td>\n",
       "      <td>V ugm-3 (GRAV EMFAB)</td>\n",
       "      <td>411939.943201</td>\n",
       "      <td>93572.556136</td>\n",
       "      <td>9.570953</td>\n",
       "    </tr>\n",
       "    <tr>\n",
       "      <th>2009-11-04</th>\n",
       "      <td>04/11/2009</td>\n",
       "      <td>3.0</td>\n",
       "      <td>V ugm-3 (GRAV EMFAB)</td>\n",
       "      <td>411939.943201</td>\n",
       "      <td>93572.556136</td>\n",
       "      <td>11.654023</td>\n",
       "    </tr>\n",
       "  </tbody>\n",
       "</table>\n",
       "</div>"
      ],
      "text/plain": [
       "                Delete  AURN_Bmth_PM2.5                Status              x  \\\n",
       "Date                                                                           \n",
       "2009-10-08  08/10/2009              6.0  V ugm-3 (GRAV EMFAB)  411939.943201   \n",
       "2009-10-12  12/10/2009              5.0  V ugm-3 (GRAV EMFAB)  411939.943201   \n",
       "2009-10-13  13/10/2009             11.0  V ugm-3 (GRAV EMFAB)  411939.943201   \n",
       "2009-10-14  14/10/2009             12.0  V ugm-3 (GRAV EMFAB)  411939.943201   \n",
       "2009-10-16  16/10/2009             15.0  V ugm-3 (GRAV EMFAB)  411939.943201   \n",
       "2009-10-17  17/10/2009              8.0  V ugm-3 (GRAV EMFAB)  411939.943201   \n",
       "2009-10-18  18/10/2009             13.0  V ugm-3 (GRAV EMFAB)  411939.943201   \n",
       "2009-10-25  25/10/2009              6.0  V ugm-3 (GRAV EMFAB)  411939.943201   \n",
       "2009-10-27  27/10/2009              8.0  V ugm-3 (GRAV EMFAB)  411939.943201   \n",
       "2009-11-04  04/11/2009              3.0  V ugm-3 (GRAV EMFAB)  411939.943201   \n",
       "\n",
       "                       y  MAIAC_PM2.5  \n",
       "Date                                   \n",
       "2009-10-08  93572.556136     8.424021  \n",
       "2009-10-12  93572.556136     7.356187  \n",
       "2009-10-13  93572.556136    11.627522  \n",
       "2009-10-14  93572.556136    23.966932  \n",
       "2009-10-16  93572.556136    25.469810  \n",
       "2009-10-17  93572.556136    20.011995  \n",
       "2009-10-18  93572.556136    21.040277  \n",
       "2009-10-25  93572.556136    19.418751  \n",
       "2009-10-27  93572.556136     9.570953  \n",
       "2009-11-04  93572.556136    11.654023  "
      ]
     },
     "execution_count": 86,
     "metadata": {},
     "output_type": "execute_result"
    }
   ],
   "source": [
    "result[:10]"
   ]
  },
  {
   "cell_type": "code",
   "execution_count": 84,
   "metadata": {
    "collapsed": true
   },
   "outputs": [],
   "source": [
    "result = result.set_index('Date')"
   ]
  },
  {
   "cell_type": "code",
   "execution_count": 88,
   "metadata": {
    "collapsed": true
   },
   "outputs": [],
   "source": [
    "result = result[['AURN_Bmth_PM2.5', 'MAIAC_PM2.5']].dropna()"
   ]
  },
  {
   "cell_type": "code",
   "execution_count": 89,
   "metadata": {
    "collapsed": false
   },
   "outputs": [
    {
     "data": {
      "image/png": "[encoded data removed]",
      "text/plain": [
       "<matplotlib.figure.Figure at 0x1f6faf6240>"
      ]
     },
     "metadata": {},
     "output_type": "display_data"
    }
   ],
   "source": [
    "result.plot(figsize=(20, 8))\n",
    "savefig(r'D:\\Annies_Dissertation\\Analysis\\Bmth_validation_graph.jpeg')"
   ]
  },
  {
   "cell_type": "code",
   "execution_count": 90,
   "metadata": {
    "collapsed": false
   },
   "outputs": [],
   "source": [
    "result['error'] = result['AURN_Bmth_PM2.5'] - result['MAIAC_PM2.5']"
   ]
  },
  {
   "cell_type": "code",
   "execution_count": 91,
   "metadata": {
    "collapsed": true
   },
   "outputs": [],
   "source": [
    "result.to_csv(r'D:\\Annies_Dissertation\\Methodology\\Validation\\AURN\\Bournemouth\\Bmth_validation.csv')"
   ]
  }
 ],
 "metadata": {
  "kernelspec": {
   "display_name": "Python 3",
   "language": "python",
   "name": "python3"
  },
  "language_info": {
   "codemirror_mode": {
    "name": "ipython",
    "version": 3
   },
   "file_extension": ".py",
   "mimetype": "text/x-python",
   "name": "python",
   "nbconvert_exporter": "python",
   "pygments_lexer": "ipython3",
   "version": "3.5.1"
  }
 },
 "nbformat": 4,
 "nbformat_minor": 0
}
