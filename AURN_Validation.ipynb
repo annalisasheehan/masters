{
 "cells": [
  {
   "cell_type": "markdown",
   "metadata": {},
   "source": [
    "# Importing Libraries and loading in data"
   ]
  },
  {
   "cell_type": "code",
   "execution_count": 2,
   "metadata": {
    "collapsed": true
   },
   "outputs": [],
   "source": [
    "import numpy as np\n",
    "import xarray as xr\n",
    "import rasterio\n",
    "%matplotlib inline\n",
    "from matplotlib.pyplot import *\n",
    "from glob import glob\n",
    "import glob\n",
    "import os\n",
    "import datetime\n",
    "import pandas as pd\n",
    "from rasterio_to_xarray import rasterio_to_xarray, xarray_to_rasterio"
   ]
  },
  {
   "cell_type": "code",
   "execution_count": 3,
   "metadata": {
    "collapsed": true
   },
   "outputs": [],
   "source": [
    "def maiac_file_to_da(filename):\n",
    "    da = rasterio_to_xarray(filename)\n",
    "    \n",
    "    time_str = os.path.basename(filename)[17:-13]\n",
    "    time_obj = datetime.datetime.strptime(time_str, '%Y%j%H%M')\n",
    "    da.coords['time'] = time_obj\n",
    "    \n",
    "    return da"
   ]
  },
  {
   "cell_type": "code",
   "execution_count": 4,
   "metadata": {
    "collapsed": false
   },
   "outputs": [],
   "source": [
    "files = glob.glob(r'D:\\MAIAC_Data\\Europe\\h00v01\\Projected\\2014\\*_PM25.tif')"
   ]
  },
  {
   "cell_type": "code",
   "execution_count": 4,
   "metadata": {
    "collapsed": false
   },
   "outputs": [],
   "source": [
    "list_of_das = map(maiac_file_to_da, files)\n",
    "MAIAC_PM25 = xr.concat(list_of_das, 'time')"
   ]
  },
  {
   "cell_type": "markdown",
   "metadata": {},
   "source": [
    "# Validating Southampton Centre\n",
    "## Extracting data at the ground site"
   ]
  },
  {
   "cell_type": "code",
   "execution_count": 5,
   "metadata": {
    "collapsed": false
   },
   "outputs": [
    {
     "data": {
      "text/plain": [
       "(1106.3836110057598, 1048.137442006313)"
      ]
     },
     "execution_count": 5,
     "metadata": {},
     "output_type": "execute_result"
    }
   ],
   "source": [
    "a = MAIAC_PM25.attrs['affine']\n",
    "a = rasterio.Affine.from_gdal(*a)\n",
    "~a * (442579, 112248)"
   ]
  },
  {
   "cell_type": "code",
   "execution_count": 6,
   "metadata": {
    "collapsed": true
   },
   "outputs": [],
   "source": [
    "folders = glob.glob(r'D:\\MAIAC_Data\\Europe\\h00v01\\Projected\\20*')"
   ]
  },
  {
   "cell_type": "code",
   "execution_count": 7,
   "metadata": {
    "collapsed": false
   },
   "outputs": [
    {
     "name": "stdout",
     "output_type": "stream",
     "text": [
      "Processed D:\\MAIAC_Data\\Europe\\h00v01\\Projected\\2000\n",
      "Processed D:\\MAIAC_Data\\Europe\\h00v01\\Projected\\2001\n",
      "Processed D:\\MAIAC_Data\\Europe\\h00v01\\Projected\\2002\n",
      "Processed D:\\MAIAC_Data\\Europe\\h00v01\\Projected\\2003\n",
      "Processed D:\\MAIAC_Data\\Europe\\h00v01\\Projected\\2004\n",
      "Processed D:\\MAIAC_Data\\Europe\\h00v01\\Projected\\2005\n",
      "Processed D:\\MAIAC_Data\\Europe\\h00v01\\Projected\\2006\n",
      "Processed D:\\MAIAC_Data\\Europe\\h00v01\\Projected\\2007\n",
      "Processed D:\\MAIAC_Data\\Europe\\h00v01\\Projected\\2008\n",
      "Processed D:\\MAIAC_Data\\Europe\\h00v01\\Projected\\2009\n",
      "Processed D:\\MAIAC_Data\\Europe\\h00v01\\Projected\\2010\n",
      "Processed D:\\MAIAC_Data\\Europe\\h00v01\\Projected\\2011\n",
      "Processed D:\\MAIAC_Data\\Europe\\h00v01\\Projected\\2012\n",
      "Processed D:\\MAIAC_Data\\Europe\\h00v01\\Projected\\2013\n",
      "Processed D:\\MAIAC_Data\\Europe\\h00v01\\Projected\\2014\n"
     ]
    }
   ],
   "source": [
    "for folder in folders:\n",
    "    files = glob.glob(r'{fname}\\*_PM25.tif'.format(fname=folder))\n",
    "    list_of_das = map(maiac_file_to_da, files)\n",
    "    MAIAC_PM25 = xr.concat(list_of_das, 'time')\n",
    "    reordered_MAIAC_PM25 = MAIAC_PM25.isel(time=np.argsort(MAIAC_PM25.time))\n",
    "    Measurements = reordered_MAIAC_PM25.isel(x=1106, y=1048).dropna('time').to_dataframe(name='MAIAC_PM25')\n",
    "    Measurements.to_csv(r'D:\\Annies_Dissertation\\Methodology\\Validation\\AURN\\Southampton\\Soton_MAIAC_PM25.csv', mode='a')\n",
    "    print('Processed {fname}'.format(fname=folder))"
   ]
  },
  {
   "cell_type": "markdown",
   "metadata": {},
   "source": [
    "## Comparing the MAIAC and groundbased data"
   ]
  },
  {
   "cell_type": "code",
   "execution_count": 32,
   "metadata": {
    "collapsed": false
   },
   "outputs": [
    {
     "name": "stdout",
     "output_type": "stream",
     "text": [
      "Date,Time,PM2.5_Soton_Centre,Status\n",
      "06/11/2008,01:00:00,26,V ugm-3 (TEOM FDMS)\n",
      "06/11/2008,02:00:00,18,V ugm-3 (TEOM FDMS)\n",
      "06/11/2008,03:00:00,19,V ugm-3 (TEOM FDMS)\n",
      "06/11/2008,04:00:00,22,V ugm-3 (TEOM FDMS)\n",
      "06/11/2008,05:00:00,25,V ugm-3 (TEOM FDMS)\n",
      "06/11/2008,06:00:00,36,V ugm-3 (TEOM FDMS)\n",
      "06/11/2008,07:00:00,39,V ugm-3 (TEOM FDMS)\n",
      "06/11/2008,08:00:00,37,V ugm-3 (TEOM FDMS)\n",
      "06/11/2008,09:00:00,41,V ugm-3 (TEOM FDMS)\n",
      "06/11/2008,10:00:00,32,V ugm-3 (TEOM FDMS)\n",
      "06/11/2008,11:00:00,31,V ugm-3 (TEOM FDMS)\n",
      "06/11/2008,12:00:00,36,V ugm-3 (TEOM FDMS)\n",
      "06/11/2008,13:00:00,33,V ugm-3 (TEOM FDMS)\n",
      "06/11/2008,14:00:00,25,V ugm-3 (TEOM FDMS)\n",
      "06/11/2008,15:00:00,30,V ugm-3 (TEOM FDMS)\n",
      "06/11/2008,16:00:00,28,V ugm-3 (TEOM FDMS)\n",
      "06/11/2008,17:00:00,26,V ugm-3 (TEOM FDMS)\n",
      "06/11/2008,18:00:00,32,V ugm-3 (TEOM FDMS)\n",
      "06/11/2008,19:00:00,36,V ugm-3 (TEOM FDMS)\n",
      "06/11/2008,20:00:00,38,V ugm-3 (TEOM FDMS)\n",
      "06/11/2008,21:00:00,34,V ugm-3 (TEOM FDMS)\n",
      "06/11/2008,22:00:00,32,V ugm-3 (TEOM FDMS)\n",
      "06/11/2008,23:00:00,30,V ugm-3 (TEOM FDMS)\n",
      "06/11/2008,24:00:00,15,V ugm-3 (TEOM FDMS)\n",
      "07/11/2008,01:00:00,16,V ugm-3 (TEOM FDMS)\n",
      "07/11/2008,02:00:00,18,V ugm-3 (TEOM FDMS)\n",
      "07/11/2008,03:00:00,17,V ugm-3 (TEOM FDMS)\n",
      "07/11/2008,04:00:00,16,V ugm-3 (TEOM FDMS)\n",
      "07/11/2008,05:00:00,8,V ugm-3 (TEOM FDMS)\n"
     ]
    }
   ],
   "source": [
    "!head -n 30 'D:\\Annies_Dissertation\\Methodology\\Validation\\AURN\\Southampton\\Southampton2008_2014.csv'"
   ]
  },
  {
   "cell_type": "code",
   "execution_count": 125,
   "metadata": {
    "collapsed": true
   },
   "outputs": [],
   "source": [
    "AURN_Soton = pd.read_csv(r'D:\\Annies_Dissertation\\Methodology\\Validation\\AURN\\Southampton\\Southampton2008_2014.csv', \n",
    "                         parse_dates = {'timestamp': ['Date', 'Time']}, infer_datetime_format=True, dayfirst=True, na_values=['No data'])"
   ]
  },
  {
   "cell_type": "code",
   "execution_count": 126,
   "metadata": {
    "collapsed": true
   },
   "outputs": [],
   "source": [
    "from dateutil.parser import parse"
   ]
  },
  {
   "cell_type": "code",
   "execution_count": 127,
   "metadata": {
    "collapsed": false
   },
   "outputs": [],
   "source": [
    "AURN_Soton['Had24'] = AURN_Soton.timestamp.str.contains(' 24:')"
   ]
  },
  {
   "cell_type": "code",
   "execution_count": 128,
   "metadata": {
    "collapsed": false
   },
   "outputs": [],
   "source": [
    "AURN_Soton['timestamp'] = AURN_Soton.timestamp.str.replace(' 24:', ' 00:')"
   ]
  },
  {
   "cell_type": "code",
   "execution_count": 129,
   "metadata": {
    "collapsed": false
   },
   "outputs": [],
   "source": [
    "AURN_Soton['timestamp'] = pd.to_datetime(AURN_Soton.timestamp, format='%d/%m/%Y %H:%M:%S')"
   ]
  },
  {
   "cell_type": "code",
   "execution_count": 131,
   "metadata": {
    "collapsed": false
   },
   "outputs": [],
   "source": [
    "AURN_Soton.loc[AURN_Soton.Had24, 'timestamp'] = AURN_Soton.query('Had24 == True').timestamp + pd.Timedelta('1d')"
   ]
  },
  {
   "cell_type": "code",
   "execution_count": 133,
   "metadata": {
    "collapsed": true
   },
   "outputs": [],
   "source": [
    "AURN_Soton = AURN_Soton.set_index('timestamp')"
   ]
  },
  {
   "cell_type": "code",
   "execution_count": 134,
   "metadata": {
    "collapsed": false
   },
   "outputs": [
    {
     "data": {
      "text/html": [
       "<div>\n",
       "<table border=\"1\" class=\"dataframe\">\n",
       "  <thead>\n",
       "    <tr style=\"text-align: right;\">\n",
       "      <th></th>\n",
       "      <th>PM2.5_Soton_Centre</th>\n",
       "      <th>Status</th>\n",
       "      <th>Had24</th>\n",
       "    </tr>\n",
       "    <tr>\n",
       "      <th>timestamp</th>\n",
       "      <th></th>\n",
       "      <th></th>\n",
       "      <th></th>\n",
       "    </tr>\n",
       "  </thead>\n",
       "  <tbody>\n",
       "    <tr>\n",
       "      <th>2008-11-06 01:00:00</th>\n",
       "      <td>26.0</td>\n",
       "      <td>V ugm-3 (TEOM FDMS)</td>\n",
       "      <td>False</td>\n",
       "    </tr>\n",
       "    <tr>\n",
       "      <th>2008-11-06 02:00:00</th>\n",
       "      <td>18.0</td>\n",
       "      <td>V ugm-3 (TEOM FDMS)</td>\n",
       "      <td>False</td>\n",
       "    </tr>\n",
       "    <tr>\n",
       "      <th>2008-11-06 03:00:00</th>\n",
       "      <td>19.0</td>\n",
       "      <td>V ugm-3 (TEOM FDMS)</td>\n",
       "      <td>False</td>\n",
       "    </tr>\n",
       "    <tr>\n",
       "      <th>2008-11-06 04:00:00</th>\n",
       "      <td>22.0</td>\n",
       "      <td>V ugm-3 (TEOM FDMS)</td>\n",
       "      <td>False</td>\n",
       "    </tr>\n",
       "    <tr>\n",
       "      <th>2008-11-06 05:00:00</th>\n",
       "      <td>25.0</td>\n",
       "      <td>V ugm-3 (TEOM FDMS)</td>\n",
       "      <td>False</td>\n",
       "    </tr>\n",
       "  </tbody>\n",
       "</table>\n",
       "</div>"
      ],
      "text/plain": [
       "                     PM2.5_Soton_Centre               Status  Had24\n",
       "timestamp                                                          \n",
       "2008-11-06 01:00:00                26.0  V ugm-3 (TEOM FDMS)  False\n",
       "2008-11-06 02:00:00                18.0  V ugm-3 (TEOM FDMS)  False\n",
       "2008-11-06 03:00:00                19.0  V ugm-3 (TEOM FDMS)  False\n",
       "2008-11-06 04:00:00                22.0  V ugm-3 (TEOM FDMS)  False\n",
       "2008-11-06 05:00:00                25.0  V ugm-3 (TEOM FDMS)  False"
      ]
     },
     "execution_count": 134,
     "metadata": {},
     "output_type": "execute_result"
    }
   ],
   "source": [
    "AURN_Soton.head()"
   ]
  },
  {
   "cell_type": "code",
   "execution_count": 136,
   "metadata": {
    "collapsed": true
   },
   "outputs": [],
   "source": [
    "MAIAC_Soton = pd.read_csv(r'D:\\Annies_Dissertation\\Methodology\\Validation\\AURN\\Southampton\\Soton_MAIAC_PM25.csv', parse_dates=['time'])"
   ]
  },
  {
   "cell_type": "code",
   "execution_count": 137,
   "metadata": {
    "collapsed": false
   },
   "outputs": [],
   "source": [
    "MAIAC_Soton = MAIAC_Soton.set_index('time')"
   ]
  },
  {
   "cell_type": "code",
   "execution_count": 138,
   "metadata": {
    "collapsed": false
   },
   "outputs": [
    {
     "data": {
      "text/html": [
       "<div>\n",
       "<table border=\"1\" class=\"dataframe\">\n",
       "  <thead>\n",
       "    <tr style=\"text-align: right;\">\n",
       "      <th></th>\n",
       "      <th>x</th>\n",
       "      <th>y</th>\n",
       "      <th>MAIAC_PM25</th>\n",
       "    </tr>\n",
       "    <tr>\n",
       "      <th>time</th>\n",
       "      <th></th>\n",
       "      <th></th>\n",
       "      <th></th>\n",
       "    </tr>\n",
       "  </thead>\n",
       "  <tbody>\n",
       "    <tr>\n",
       "      <th>2000-02-25 10:50:00</th>\n",
       "      <td>442096.9763</td>\n",
       "      <td>112420.7018</td>\n",
       "      <td>23.026955</td>\n",
       "    </tr>\n",
       "    <tr>\n",
       "      <th>2000-02-28 11:25:00</th>\n",
       "      <td>442096.9763</td>\n",
       "      <td>112420.7018</td>\n",
       "      <td>36.062874</td>\n",
       "    </tr>\n",
       "    <tr>\n",
       "      <th>2000-03-03 12:35:00</th>\n",
       "      <td>442096.9763</td>\n",
       "      <td>112420.7018</td>\n",
       "      <td>20.079552</td>\n",
       "    </tr>\n",
       "    <tr>\n",
       "      <th>2000-12-03 12:30:00</th>\n",
       "      <td>442096.9763</td>\n",
       "      <td>112420.7018</td>\n",
       "      <td>25.816568</td>\n",
       "    </tr>\n",
       "    <tr>\n",
       "      <th>2000-08-04 10:35:00</th>\n",
       "      <td>442096.9763</td>\n",
       "      <td>112420.7018</td>\n",
       "      <td>27.164116</td>\n",
       "    </tr>\n",
       "  </tbody>\n",
       "</table>\n",
       "</div>"
      ],
      "text/plain": [
       "                               x            y  MAIAC_PM25\n",
       "time                                                     \n",
       "2000-02-25 10:50:00  442096.9763  112420.7018   23.026955\n",
       "2000-02-28 11:25:00  442096.9763  112420.7018   36.062874\n",
       "2000-03-03 12:35:00  442096.9763  112420.7018   20.079552\n",
       "2000-12-03 12:30:00  442096.9763  112420.7018   25.816568\n",
       "2000-08-04 10:35:00  442096.9763  112420.7018   27.164116"
      ]
     },
     "execution_count": 138,
     "metadata": {},
     "output_type": "execute_result"
    }
   ],
   "source": [
    "MAIAC_Soton.head()"
   ]
  },
  {
   "cell_type": "code",
   "execution_count": 139,
   "metadata": {
    "collapsed": true
   },
   "outputs": [],
   "source": [
    "MAIAC_Soton['time'] = MAIAC_Soton.index"
   ]
  },
  {
   "cell_type": "code",
   "execution_count": 140,
   "metadata": {
    "collapsed": false
   },
   "outputs": [],
   "source": [
    "MAIAC_Soton = MAIAC_Soton.drop_duplicates(subset='time')"
   ]
  },
  {
   "cell_type": "code",
   "execution_count": 141,
   "metadata": {
    "collapsed": false
   },
   "outputs": [],
   "source": [
    "MAIAC_Soton = MAIAC_Soton.sort_index()"
   ]
  },
  {
   "cell_type": "code",
   "execution_count": 142,
   "metadata": {
    "collapsed": false
   },
   "outputs": [],
   "source": [
    "indexed = MAIAC_Soton.reindex(AURN_Soton.index, method='nearest', tolerance='10Min').dropna()"
   ]
  },
  {
   "cell_type": "code",
   "execution_count": 143,
   "metadata": {
    "collapsed": false
   },
   "outputs": [],
   "source": [
    "result = pd.merge(AURN_Soton, indexed, left_index=True, right_index=True).reset_index().rename(columns={'time':'AURN_Time', 'timestamp':'MAIAC_Time'})"
   ]
  },
  {
   "cell_type": "code",
   "execution_count": 153,
   "metadata": {
    "collapsed": false
   },
   "outputs": [],
   "source": [
    "result = result[['MAIAC_Time', 'AURN_Time', 'PM2.5_Soton_Centre', 'MAIAC_PM25']].dropna()"
   ]
  },
  {
   "cell_type": "code",
   "execution_count": 154,
   "metadata": {
    "collapsed": false
   },
   "outputs": [
    {
     "data": {
      "text/plain": [
       "MAIAC_Time            0\n",
       "AURN_Time             0\n",
       "PM2.5_Soton_Centre    0\n",
       "MAIAC_PM25            0\n",
       "dtype: int64"
      ]
     },
     "execution_count": 154,
     "metadata": {},
     "output_type": "execute_result"
    }
   ],
   "source": [
    "result.isnull().sum()"
   ]
  },
  {
   "cell_type": "code",
   "execution_count": 145,
   "metadata": {
    "collapsed": true
   },
   "outputs": [],
   "source": [
    "%matplotlib inline"
   ]
  },
  {
   "cell_type": "code",
   "execution_count": 155,
   "metadata": {
    "collapsed": false
   },
   "outputs": [
    {
     "data": {
      "text/plain": [
       "<matplotlib.axes._subplots.AxesSubplot at 0x3e64126c88>"
      ]
     },
     "execution_count": 155,
     "metadata": {},
     "output_type": "execute_result"
    },
    {
     "data": {
      "image/png": "[encoded data removed]",
      "text/plain": [
       "<matplotlib.figure.Figure at 0x3e65ec12e8>"
      ]
     },
     "metadata": {},
     "output_type": "display_data"
    }
   ],
   "source": [
    "result.plot(figsize=(20, 8))"
   ]
  },
  {
   "cell_type": "code",
   "execution_count": 156,
   "metadata": {
    "collapsed": true
   },
   "outputs": [],
   "source": [
    "result['error'] = result['PM2.5_Soton_Centre'] - result['MAIAC_PM25']"
   ]
  },
  {
   "cell_type": "code",
   "execution_count": 160,
   "metadata": {
    "collapsed": false
   },
   "outputs": [
    {
     "data": {
      "text/plain": [
       "count    362.000000\n",
       "mean       8.059675\n",
       "std        8.499346\n",
       "min        0.038878\n",
       "25%        2.281614\n",
       "50%        5.484178\n",
       "75%       10.943085\n",
       "max       57.245951\n",
       "Name: error, dtype: float64"
      ]
     },
     "execution_count": 160,
     "metadata": {},
     "output_type": "execute_result"
    }
   ],
   "source": [
    "result.error.abs().describe()"
   ]
  },
  {
   "cell_type": "code",
   "execution_count": 163,
   "metadata": {
    "collapsed": false
   },
   "outputs": [
    {
     "data": {
      "text/plain": [
       "23"
      ]
     },
     "execution_count": 163,
     "metadata": {},
     "output_type": "execute_result"
    }
   ],
   "source": [
    "(result.error > 20).sum()"
   ]
  },
  {
   "cell_type": "code",
   "execution_count": null,
   "metadata": {
    "collapsed": true
   },
   "outputs": [],
   "source": []
  },
  {
   "cell_type": "code",
   "execution_count": 162,
   "metadata": {
    "collapsed": false
   },
   "outputs": [
    {
     "data": {
      "text/plain": [
       "362"
      ]
     },
     "execution_count": 162,
     "metadata": {},
     "output_type": "execute_result"
    }
   ],
   "source": [
    "len(result)"
   ]
  },
  {
   "cell_type": "code",
   "execution_count": 166,
   "metadata": {
    "collapsed": false
   },
   "outputs": [
    {
     "data": {
      "text/html": [
       "<div>\n",
       "<table border=\"1\" class=\"dataframe\">\n",
       "  <thead>\n",
       "    <tr style=\"text-align: right;\">\n",
       "      <th></th>\n",
       "      <th>MAIAC_Time</th>\n",
       "      <th>AURN_Time</th>\n",
       "      <th>PM2.5_Soton_Centre</th>\n",
       "      <th>MAIAC_PM25</th>\n",
       "      <th>error</th>\n",
       "    </tr>\n",
       "  </thead>\n",
       "  <tbody>\n",
       "    <tr>\n",
       "      <th>6</th>\n",
       "      <td>2008-12-04 12:00:00</td>\n",
       "      <td>2008-12-04 12:10:00</td>\n",
       "      <td>6.0</td>\n",
       "      <td>20.042711</td>\n",
       "      <td>-14.042711</td>\n",
       "    </tr>\n",
       "    <tr>\n",
       "      <th>7</th>\n",
       "      <td>2008-12-04 14:00:00</td>\n",
       "      <td>2008-12-04 14:00:00</td>\n",
       "      <td>6.0</td>\n",
       "      <td>20.336378</td>\n",
       "      <td>-14.336378</td>\n",
       "    </tr>\n",
       "    <tr>\n",
       "      <th>14</th>\n",
       "      <td>2009-01-09 12:00:00</td>\n",
       "      <td>2009-01-09 12:05:00</td>\n",
       "      <td>29.0</td>\n",
       "      <td>28.123997</td>\n",
       "      <td>0.876003</td>\n",
       "    </tr>\n",
       "    <tr>\n",
       "      <th>18</th>\n",
       "      <td>2009-01-27 12:00:00</td>\n",
       "      <td>2009-01-27 12:00:00</td>\n",
       "      <td>27.0</td>\n",
       "      <td>16.513691</td>\n",
       "      <td>10.486309</td>\n",
       "    </tr>\n",
       "    <tr>\n",
       "      <th>21</th>\n",
       "      <td>2009-02-03 12:00:00</td>\n",
       "      <td>2009-02-03 12:00:00</td>\n",
       "      <td>4.0</td>\n",
       "      <td>18.376377</td>\n",
       "      <td>-14.376377</td>\n",
       "    </tr>\n",
       "    <tr>\n",
       "      <th>22</th>\n",
       "      <td>2009-02-04 11:00:00</td>\n",
       "      <td>2009-02-04 11:05:00</td>\n",
       "      <td>12.0</td>\n",
       "      <td>32.596939</td>\n",
       "      <td>-20.596939</td>\n",
       "    </tr>\n",
       "    <tr>\n",
       "      <th>23</th>\n",
       "      <td>2009-02-04 13:00:00</td>\n",
       "      <td>2009-02-04 12:55:00</td>\n",
       "      <td>14.0</td>\n",
       "      <td>22.685707</td>\n",
       "      <td>-8.685707</td>\n",
       "    </tr>\n",
       "    <tr>\n",
       "      <th>37</th>\n",
       "      <td>2009-04-04 11:00:00</td>\n",
       "      <td>2009-04-04 10:50:00</td>\n",
       "      <td>9.0</td>\n",
       "      <td>16.812386</td>\n",
       "      <td>-7.812386</td>\n",
       "    </tr>\n",
       "    <tr>\n",
       "      <th>41</th>\n",
       "      <td>2009-04-19 10:00:00</td>\n",
       "      <td>2009-04-19 10:05:00</td>\n",
       "      <td>14.0</td>\n",
       "      <td>27.457783</td>\n",
       "      <td>-13.457783</td>\n",
       "    </tr>\n",
       "    <tr>\n",
       "      <th>42</th>\n",
       "      <td>2009-04-20 11:00:00</td>\n",
       "      <td>2009-04-20 10:50:00</td>\n",
       "      <td>27.0</td>\n",
       "      <td>26.723618</td>\n",
       "      <td>0.276382</td>\n",
       "    </tr>\n",
       "    <tr>\n",
       "      <th>44</th>\n",
       "      <td>2009-05-29 13:00:00</td>\n",
       "      <td>2009-05-29 12:50:00</td>\n",
       "      <td>17.0</td>\n",
       "      <td>18.302727</td>\n",
       "      <td>-1.302727</td>\n",
       "    </tr>\n",
       "    <tr>\n",
       "      <th>48</th>\n",
       "      <td>2009-06-27 12:00:00</td>\n",
       "      <td>2009-06-27 12:05:00</td>\n",
       "      <td>16.0</td>\n",
       "      <td>19.847792</td>\n",
       "      <td>-3.847792</td>\n",
       "    </tr>\n",
       "    <tr>\n",
       "      <th>49</th>\n",
       "      <td>2009-06-29 12:00:00</td>\n",
       "      <td>2009-06-29 12:05:00</td>\n",
       "      <td>24.0</td>\n",
       "      <td>17.672691</td>\n",
       "      <td>6.327309</td>\n",
       "    </tr>\n",
       "    <tr>\n",
       "      <th>57</th>\n",
       "      <td>2009-08-22 13:00:00</td>\n",
       "      <td>2009-08-22 13:05:00</td>\n",
       "      <td>7.0</td>\n",
       "      <td>29.930033</td>\n",
       "      <td>-22.930033</td>\n",
       "    </tr>\n",
       "    <tr>\n",
       "      <th>63</th>\n",
       "      <td>2009-09-03 12:00:00</td>\n",
       "      <td>2009-09-03 11:50:00</td>\n",
       "      <td>5.0</td>\n",
       "      <td>15.687151</td>\n",
       "      <td>-10.687151</td>\n",
       "    </tr>\n",
       "    <tr>\n",
       "      <th>64</th>\n",
       "      <td>2009-09-17 12:00:00</td>\n",
       "      <td>2009-09-17 11:50:00</td>\n",
       "      <td>5.0</td>\n",
       "      <td>17.548761</td>\n",
       "      <td>-12.548761</td>\n",
       "    </tr>\n",
       "    <tr>\n",
       "      <th>72</th>\n",
       "      <td>2009-10-10 12:00:00</td>\n",
       "      <td>2009-10-10 11:55:00</td>\n",
       "      <td>9.0</td>\n",
       "      <td>15.188611</td>\n",
       "      <td>-6.188611</td>\n",
       "    </tr>\n",
       "    <tr>\n",
       "      <th>76</th>\n",
       "      <td>2009-10-24 14:00:00</td>\n",
       "      <td>2009-10-24 14:00:00</td>\n",
       "      <td>8.0</td>\n",
       "      <td>22.129644</td>\n",
       "      <td>-14.129644</td>\n",
       "    </tr>\n",
       "    <tr>\n",
       "      <th>79</th>\n",
       "      <td>2009-11-05 11:00:00</td>\n",
       "      <td>2009-11-05 11:10:00</td>\n",
       "      <td>7.0</td>\n",
       "      <td>24.655222</td>\n",
       "      <td>-17.655222</td>\n",
       "    </tr>\n",
       "    <tr>\n",
       "      <th>89</th>\n",
       "      <td>2010-01-12 11:00:00</td>\n",
       "      <td>2010-01-12 11:00:00</td>\n",
       "      <td>23.0</td>\n",
       "      <td>30.500658</td>\n",
       "      <td>-7.500658</td>\n",
       "    </tr>\n",
       "    <tr>\n",
       "      <th>92</th>\n",
       "      <td>2010-02-17 12:00:00</td>\n",
       "      <td>2010-02-17 11:55:00</td>\n",
       "      <td>34.0</td>\n",
       "      <td>15.605043</td>\n",
       "      <td>18.394957</td>\n",
       "    </tr>\n",
       "    <tr>\n",
       "      <th>95</th>\n",
       "      <td>2010-04-04 12:00:00</td>\n",
       "      <td>2010-04-04 11:55:00</td>\n",
       "      <td>2.0</td>\n",
       "      <td>20.042711</td>\n",
       "      <td>-18.042711</td>\n",
       "    </tr>\n",
       "    <tr>\n",
       "      <th>116</th>\n",
       "      <td>2010-07-01 12:00:00</td>\n",
       "      <td>2010-07-01 12:00:00</td>\n",
       "      <td>6.0</td>\n",
       "      <td>39.711491</td>\n",
       "      <td>-33.711491</td>\n",
       "    </tr>\n",
       "    <tr>\n",
       "      <th>121</th>\n",
       "      <td>2010-08-31 14:00:00</td>\n",
       "      <td>2010-08-31 14:05:00</td>\n",
       "      <td>13.0</td>\n",
       "      <td>17.593533</td>\n",
       "      <td>-4.593533</td>\n",
       "    </tr>\n",
       "    <tr>\n",
       "      <th>122</th>\n",
       "      <td>2010-09-02 11:00:00</td>\n",
       "      <td>2010-09-02 10:55:00</td>\n",
       "      <td>16.0</td>\n",
       "      <td>15.034127</td>\n",
       "      <td>0.965873</td>\n",
       "    </tr>\n",
       "    <tr>\n",
       "      <th>130</th>\n",
       "      <td>2010-10-21 11:00:00</td>\n",
       "      <td>2010-10-21 11:10:00</td>\n",
       "      <td>9.0</td>\n",
       "      <td>17.475069</td>\n",
       "      <td>-8.475069</td>\n",
       "    </tr>\n",
       "    <tr>\n",
       "      <th>132</th>\n",
       "      <td>2010-10-27 14:00:00</td>\n",
       "      <td>2010-10-27 14:00:00</td>\n",
       "      <td>13.0</td>\n",
       "      <td>21.231392</td>\n",
       "      <td>-8.231392</td>\n",
       "    </tr>\n",
       "    <tr>\n",
       "      <th>138</th>\n",
       "      <td>2010-12-04 11:00:00</td>\n",
       "      <td>2010-12-04 11:10:00</td>\n",
       "      <td>32.0</td>\n",
       "      <td>30.541275</td>\n",
       "      <td>1.458725</td>\n",
       "    </tr>\n",
       "    <tr>\n",
       "      <th>141</th>\n",
       "      <td>2010-12-10 13:00:00</td>\n",
       "      <td>2010-12-10 13:05:00</td>\n",
       "      <td>20.0</td>\n",
       "      <td>21.721346</td>\n",
       "      <td>-1.721346</td>\n",
       "    </tr>\n",
       "    <tr>\n",
       "      <th>142</th>\n",
       "      <td>2010-12-24 13:00:00</td>\n",
       "      <td>2010-12-24 12:55:00</td>\n",
       "      <td>15.0</td>\n",
       "      <td>17.249435</td>\n",
       "      <td>-2.249435</td>\n",
       "    </tr>\n",
       "    <tr>\n",
       "      <th>...</th>\n",
       "      <td>...</td>\n",
       "      <td>...</td>\n",
       "      <td>...</td>\n",
       "      <td>...</td>\n",
       "      <td>...</td>\n",
       "    </tr>\n",
       "    <tr>\n",
       "      <th>263</th>\n",
       "      <td>2012-06-20 11:00:00</td>\n",
       "      <td>2012-06-20 11:10:00</td>\n",
       "      <td>14.0</td>\n",
       "      <td>20.051708</td>\n",
       "      <td>-6.051708</td>\n",
       "    </tr>\n",
       "    <tr>\n",
       "      <th>264</th>\n",
       "      <td>2012-06-20 13:00:00</td>\n",
       "      <td>2012-06-20 12:55:00</td>\n",
       "      <td>17.0</td>\n",
       "      <td>20.935343</td>\n",
       "      <td>-3.935343</td>\n",
       "    </tr>\n",
       "    <tr>\n",
       "      <th>265</th>\n",
       "      <td>2012-06-30 12:00:00</td>\n",
       "      <td>2012-06-30 11:55:00</td>\n",
       "      <td>10.0</td>\n",
       "      <td>24.469879</td>\n",
       "      <td>-14.469879</td>\n",
       "    </tr>\n",
       "    <tr>\n",
       "      <th>268</th>\n",
       "      <td>2012-07-17 11:00:00</td>\n",
       "      <td>2012-07-17 10:50:00</td>\n",
       "      <td>9.0</td>\n",
       "      <td>16.705568</td>\n",
       "      <td>-7.705568</td>\n",
       "    </tr>\n",
       "    <tr>\n",
       "      <th>281</th>\n",
       "      <td>2012-09-09 12:00:00</td>\n",
       "      <td>2012-09-09 11:50:00</td>\n",
       "      <td>19.0</td>\n",
       "      <td>18.315083</td>\n",
       "      <td>0.684917</td>\n",
       "    </tr>\n",
       "    <tr>\n",
       "      <th>282</th>\n",
       "      <td>2012-09-14 14:00:00</td>\n",
       "      <td>2012-09-14 14:00:00</td>\n",
       "      <td>7.0</td>\n",
       "      <td>21.227104</td>\n",
       "      <td>-14.227104</td>\n",
       "    </tr>\n",
       "    <tr>\n",
       "      <th>287</th>\n",
       "      <td>2012-10-17 13:00:00</td>\n",
       "      <td>2012-10-17 13:05:00</td>\n",
       "      <td>9.0</td>\n",
       "      <td>19.026594</td>\n",
       "      <td>-10.026594</td>\n",
       "    </tr>\n",
       "    <tr>\n",
       "      <th>292</th>\n",
       "      <td>2012-11-02 13:00:00</td>\n",
       "      <td>2012-11-02 13:10:00</td>\n",
       "      <td>5.0</td>\n",
       "      <td>18.554777</td>\n",
       "      <td>-13.554777</td>\n",
       "    </tr>\n",
       "    <tr>\n",
       "      <th>307</th>\n",
       "      <td>2013-02-08 12:00:00</td>\n",
       "      <td>2013-02-08 12:10:00</td>\n",
       "      <td>4.5</td>\n",
       "      <td>26.425344</td>\n",
       "      <td>-21.925344</td>\n",
       "    </tr>\n",
       "    <tr>\n",
       "      <th>309</th>\n",
       "      <td>2013-02-15 11:00:00</td>\n",
       "      <td>2013-02-15 11:10:00</td>\n",
       "      <td>11.2</td>\n",
       "      <td>15.129280</td>\n",
       "      <td>-3.929280</td>\n",
       "    </tr>\n",
       "    <tr>\n",
       "      <th>312</th>\n",
       "      <td>2013-04-03 12:00:00</td>\n",
       "      <td>2013-04-03 12:00:00</td>\n",
       "      <td>18.5</td>\n",
       "      <td>21.693089</td>\n",
       "      <td>-3.193089</td>\n",
       "    </tr>\n",
       "    <tr>\n",
       "      <th>323</th>\n",
       "      <td>2013-05-03 11:00:00</td>\n",
       "      <td>2013-05-03 10:55:00</td>\n",
       "      <td>9.5</td>\n",
       "      <td>15.328587</td>\n",
       "      <td>-5.828587</td>\n",
       "    </tr>\n",
       "    <tr>\n",
       "      <th>326</th>\n",
       "      <td>2013-05-31 11:00:00</td>\n",
       "      <td>2013-05-31 11:00:00</td>\n",
       "      <td>22.0</td>\n",
       "      <td>16.352953</td>\n",
       "      <td>5.647047</td>\n",
       "    </tr>\n",
       "    <tr>\n",
       "      <th>327</th>\n",
       "      <td>2013-05-31 13:00:00</td>\n",
       "      <td>2013-05-31 12:50:00</td>\n",
       "      <td>23.5</td>\n",
       "      <td>20.378294</td>\n",
       "      <td>3.121706</td>\n",
       "    </tr>\n",
       "    <tr>\n",
       "      <th>331</th>\n",
       "      <td>2013-06-06 12:00:00</td>\n",
       "      <td>2013-06-06 12:05:00</td>\n",
       "      <td>14.8</td>\n",
       "      <td>22.838554</td>\n",
       "      <td>-8.038554</td>\n",
       "    </tr>\n",
       "    <tr>\n",
       "      <th>335</th>\n",
       "      <td>2013-06-30 13:00:00</td>\n",
       "      <td>2013-06-30 13:05:00</td>\n",
       "      <td>8.8</td>\n",
       "      <td>16.992971</td>\n",
       "      <td>-8.192971</td>\n",
       "    </tr>\n",
       "    <tr>\n",
       "      <th>337</th>\n",
       "      <td>2013-07-07 13:00:00</td>\n",
       "      <td>2013-07-07 13:10:00</td>\n",
       "      <td>18.3</td>\n",
       "      <td>15.446022</td>\n",
       "      <td>2.853978</td>\n",
       "    </tr>\n",
       "    <tr>\n",
       "      <th>338</th>\n",
       "      <td>2013-07-10 10:00:00</td>\n",
       "      <td>2013-07-10 10:05:00</td>\n",
       "      <td>12.5</td>\n",
       "      <td>28.499060</td>\n",
       "      <td>-15.999060</td>\n",
       "    </tr>\n",
       "    <tr>\n",
       "      <th>339</th>\n",
       "      <td>2013-07-17 12:00:00</td>\n",
       "      <td>2013-07-17 11:55:00</td>\n",
       "      <td>30.0</td>\n",
       "      <td>24.528017</td>\n",
       "      <td>5.471983</td>\n",
       "    </tr>\n",
       "    <tr>\n",
       "      <th>340</th>\n",
       "      <td>2013-07-18 11:00:00</td>\n",
       "      <td>2013-07-18 11:00:00</td>\n",
       "      <td>18.2</td>\n",
       "      <td>18.694326</td>\n",
       "      <td>-0.494326</td>\n",
       "    </tr>\n",
       "    <tr>\n",
       "      <th>343</th>\n",
       "      <td>2013-07-22 14:00:00</td>\n",
       "      <td>2013-07-22 14:05:00</td>\n",
       "      <td>24.8</td>\n",
       "      <td>20.948254</td>\n",
       "      <td>3.851746</td>\n",
       "    </tr>\n",
       "    <tr>\n",
       "      <th>350</th>\n",
       "      <td>2013-08-26 11:00:00</td>\n",
       "      <td>2013-08-26 11:10:00</td>\n",
       "      <td>20.3</td>\n",
       "      <td>40.654377</td>\n",
       "      <td>-20.354377</td>\n",
       "    </tr>\n",
       "    <tr>\n",
       "      <th>351</th>\n",
       "      <td>2013-08-27 12:00:00</td>\n",
       "      <td>2013-08-27 12:00:00</td>\n",
       "      <td>9.1</td>\n",
       "      <td>16.892595</td>\n",
       "      <td>-7.792595</td>\n",
       "    </tr>\n",
       "    <tr>\n",
       "      <th>355</th>\n",
       "      <td>2013-09-12 11:00:00</td>\n",
       "      <td>2013-09-12 11:00:00</td>\n",
       "      <td>11.5</td>\n",
       "      <td>19.077190</td>\n",
       "      <td>-7.577190</td>\n",
       "    </tr>\n",
       "    <tr>\n",
       "      <th>367</th>\n",
       "      <td>2013-11-16 11:00:00</td>\n",
       "      <td>2013-11-16 10:55:00</td>\n",
       "      <td>36.6</td>\n",
       "      <td>16.123438</td>\n",
       "      <td>20.476562</td>\n",
       "    </tr>\n",
       "    <tr>\n",
       "      <th>372</th>\n",
       "      <td>2013-12-03 11:00:00</td>\n",
       "      <td>2013-12-03 11:00:00</td>\n",
       "      <td>21.0</td>\n",
       "      <td>19.362425</td>\n",
       "      <td>1.637575</td>\n",
       "    </tr>\n",
       "    <tr>\n",
       "      <th>375</th>\n",
       "      <td>2014-01-06 13:00:00</td>\n",
       "      <td>2014-01-06 13:05:00</td>\n",
       "      <td>15.7</td>\n",
       "      <td>23.722189</td>\n",
       "      <td>-8.022189</td>\n",
       "    </tr>\n",
       "    <tr>\n",
       "      <th>383</th>\n",
       "      <td>2014-03-30 12:00:00</td>\n",
       "      <td>2014-03-30 11:55:00</td>\n",
       "      <td>14.4</td>\n",
       "      <td>22.320574</td>\n",
       "      <td>-7.920574</td>\n",
       "    </tr>\n",
       "    <tr>\n",
       "      <th>394</th>\n",
       "      <td>2014-06-01 13:00:00</td>\n",
       "      <td>2014-06-01 13:10:00</td>\n",
       "      <td>18.7</td>\n",
       "      <td>17.791534</td>\n",
       "      <td>0.908466</td>\n",
       "    </tr>\n",
       "    <tr>\n",
       "      <th>398</th>\n",
       "      <td>2014-06-24 13:00:00</td>\n",
       "      <td>2014-06-24 13:10:00</td>\n",
       "      <td>8.4</td>\n",
       "      <td>21.003313</td>\n",
       "      <td>-12.603313</td>\n",
       "    </tr>\n",
       "  </tbody>\n",
       "</table>\n",
       "<p>94 rows × 5 columns</p>\n",
       "</div>"
      ],
      "text/plain": [
       "             MAIAC_Time           AURN_Time  PM2.5_Soton_Centre  MAIAC_PM25  \\\n",
       "6   2008-12-04 12:00:00 2008-12-04 12:10:00                 6.0   20.042711   \n",
       "7   2008-12-04 14:00:00 2008-12-04 14:00:00                 6.0   20.336378   \n",
       "14  2009-01-09 12:00:00 2009-01-09 12:05:00                29.0   28.123997   \n",
       "18  2009-01-27 12:00:00 2009-01-27 12:00:00                27.0   16.513691   \n",
       "21  2009-02-03 12:00:00 2009-02-03 12:00:00                 4.0   18.376377   \n",
       "22  2009-02-04 11:00:00 2009-02-04 11:05:00                12.0   32.596939   \n",
       "23  2009-02-04 13:00:00 2009-02-04 12:55:00                14.0   22.685707   \n",
       "37  2009-04-04 11:00:00 2009-04-04 10:50:00                 9.0   16.812386   \n",
       "41  2009-04-19 10:00:00 2009-04-19 10:05:00                14.0   27.457783   \n",
       "42  2009-04-20 11:00:00 2009-04-20 10:50:00                27.0   26.723618   \n",
       "44  2009-05-29 13:00:00 2009-05-29 12:50:00                17.0   18.302727   \n",
       "48  2009-06-27 12:00:00 2009-06-27 12:05:00                16.0   19.847792   \n",
       "49  2009-06-29 12:00:00 2009-06-29 12:05:00                24.0   17.672691   \n",
       "57  2009-08-22 13:00:00 2009-08-22 13:05:00                 7.0   29.930033   \n",
       "63  2009-09-03 12:00:00 2009-09-03 11:50:00                 5.0   15.687151   \n",
       "64  2009-09-17 12:00:00 2009-09-17 11:50:00                 5.0   17.548761   \n",
       "72  2009-10-10 12:00:00 2009-10-10 11:55:00                 9.0   15.188611   \n",
       "76  2009-10-24 14:00:00 2009-10-24 14:00:00                 8.0   22.129644   \n",
       "79  2009-11-05 11:00:00 2009-11-05 11:10:00                 7.0   24.655222   \n",
       "89  2010-01-12 11:00:00 2010-01-12 11:00:00                23.0   30.500658   \n",
       "92  2010-02-17 12:00:00 2010-02-17 11:55:00                34.0   15.605043   \n",
       "95  2010-04-04 12:00:00 2010-04-04 11:55:00                 2.0   20.042711   \n",
       "116 2010-07-01 12:00:00 2010-07-01 12:00:00                 6.0   39.711491   \n",
       "121 2010-08-31 14:00:00 2010-08-31 14:05:00                13.0   17.593533   \n",
       "122 2010-09-02 11:00:00 2010-09-02 10:55:00                16.0   15.034127   \n",
       "130 2010-10-21 11:00:00 2010-10-21 11:10:00                 9.0   17.475069   \n",
       "132 2010-10-27 14:00:00 2010-10-27 14:00:00                13.0   21.231392   \n",
       "138 2010-12-04 11:00:00 2010-12-04 11:10:00                32.0   30.541275   \n",
       "141 2010-12-10 13:00:00 2010-12-10 13:05:00                20.0   21.721346   \n",
       "142 2010-12-24 13:00:00 2010-12-24 12:55:00                15.0   17.249435   \n",
       "..                  ...                 ...                 ...         ...   \n",
       "263 2012-06-20 11:00:00 2012-06-20 11:10:00                14.0   20.051708   \n",
       "264 2012-06-20 13:00:00 2012-06-20 12:55:00                17.0   20.935343   \n",
       "265 2012-06-30 12:00:00 2012-06-30 11:55:00                10.0   24.469879   \n",
       "268 2012-07-17 11:00:00 2012-07-17 10:50:00                 9.0   16.705568   \n",
       "281 2012-09-09 12:00:00 2012-09-09 11:50:00                19.0   18.315083   \n",
       "282 2012-09-14 14:00:00 2012-09-14 14:00:00                 7.0   21.227104   \n",
       "287 2012-10-17 13:00:00 2012-10-17 13:05:00                 9.0   19.026594   \n",
       "292 2012-11-02 13:00:00 2012-11-02 13:10:00                 5.0   18.554777   \n",
       "307 2013-02-08 12:00:00 2013-02-08 12:10:00                 4.5   26.425344   \n",
       "309 2013-02-15 11:00:00 2013-02-15 11:10:00                11.2   15.129280   \n",
       "312 2013-04-03 12:00:00 2013-04-03 12:00:00                18.5   21.693089   \n",
       "323 2013-05-03 11:00:00 2013-05-03 10:55:00                 9.5   15.328587   \n",
       "326 2013-05-31 11:00:00 2013-05-31 11:00:00                22.0   16.352953   \n",
       "327 2013-05-31 13:00:00 2013-05-31 12:50:00                23.5   20.378294   \n",
       "331 2013-06-06 12:00:00 2013-06-06 12:05:00                14.8   22.838554   \n",
       "335 2013-06-30 13:00:00 2013-06-30 13:05:00                 8.8   16.992971   \n",
       "337 2013-07-07 13:00:00 2013-07-07 13:10:00                18.3   15.446022   \n",
       "338 2013-07-10 10:00:00 2013-07-10 10:05:00                12.5   28.499060   \n",
       "339 2013-07-17 12:00:00 2013-07-17 11:55:00                30.0   24.528017   \n",
       "340 2013-07-18 11:00:00 2013-07-18 11:00:00                18.2   18.694326   \n",
       "343 2013-07-22 14:00:00 2013-07-22 14:05:00                24.8   20.948254   \n",
       "350 2013-08-26 11:00:00 2013-08-26 11:10:00                20.3   40.654377   \n",
       "351 2013-08-27 12:00:00 2013-08-27 12:00:00                 9.1   16.892595   \n",
       "355 2013-09-12 11:00:00 2013-09-12 11:00:00                11.5   19.077190   \n",
       "367 2013-11-16 11:00:00 2013-11-16 10:55:00                36.6   16.123438   \n",
       "372 2013-12-03 11:00:00 2013-12-03 11:00:00                21.0   19.362425   \n",
       "375 2014-01-06 13:00:00 2014-01-06 13:05:00                15.7   23.722189   \n",
       "383 2014-03-30 12:00:00 2014-03-30 11:55:00                14.4   22.320574   \n",
       "394 2014-06-01 13:00:00 2014-06-01 13:10:00                18.7   17.791534   \n",
       "398 2014-06-24 13:00:00 2014-06-24 13:10:00                 8.4   21.003313   \n",
       "\n",
       "         error  \n",
       "6   -14.042711  \n",
       "7   -14.336378  \n",
       "14    0.876003  \n",
       "18   10.486309  \n",
       "21  -14.376377  \n",
       "22  -20.596939  \n",
       "23   -8.685707  \n",
       "37   -7.812386  \n",
       "41  -13.457783  \n",
       "42    0.276382  \n",
       "44   -1.302727  \n",
       "48   -3.847792  \n",
       "49    6.327309  \n",
       "57  -22.930033  \n",
       "63  -10.687151  \n",
       "64  -12.548761  \n",
       "72   -6.188611  \n",
       "76  -14.129644  \n",
       "79  -17.655222  \n",
       "89   -7.500658  \n",
       "92   18.394957  \n",
       "95  -18.042711  \n",
       "116 -33.711491  \n",
       "121  -4.593533  \n",
       "122   0.965873  \n",
       "130  -8.475069  \n",
       "132  -8.231392  \n",
       "138   1.458725  \n",
       "141  -1.721346  \n",
       "142  -2.249435  \n",
       "..         ...  \n",
       "263  -6.051708  \n",
       "264  -3.935343  \n",
       "265 -14.469879  \n",
       "268  -7.705568  \n",
       "281   0.684917  \n",
       "282 -14.227104  \n",
       "287 -10.026594  \n",
       "292 -13.554777  \n",
       "307 -21.925344  \n",
       "309  -3.929280  \n",
       "312  -3.193089  \n",
       "323  -5.828587  \n",
       "326   5.647047  \n",
       "327   3.121706  \n",
       "331  -8.038554  \n",
       "335  -8.192971  \n",
       "337   2.853978  \n",
       "338 -15.999060  \n",
       "339   5.471983  \n",
       "340  -0.494326  \n",
       "343   3.851746  \n",
       "350 -20.354377  \n",
       "351  -7.792595  \n",
       "355  -7.577190  \n",
       "367  20.476562  \n",
       "372   1.637575  \n",
       "375  -8.022189  \n",
       "383  -7.920574  \n",
       "394   0.908466  \n",
       "398 -12.603313  \n",
       "\n",
       "[94 rows x 5 columns]"
      ]
     },
     "execution_count": 166,
     "metadata": {},
     "output_type": "execute_result"
    }
   ],
   "source": [
    "result.ix[result.MAIAC_PM25 > 15]"
   ]
  },
  {
   "cell_type": "code",
   "execution_count": 164,
   "metadata": {
    "collapsed": false,
    "scrolled": true
   },
   "outputs": [
    {
     "data": {
      "text/plain": [
       "count    362.000000\n",
       "mean      10.937988\n",
       "std        8.309973\n",
       "min        0.000000\n",
       "25%        5.220956\n",
       "50%        8.942549\n",
       "75%       15.107771\n",
       "max       64.451775\n",
       "Name: MAIAC_PM25, dtype: float64"
      ]
     },
     "execution_count": 164,
     "metadata": {},
     "output_type": "execute_result"
    }
   ],
   "source": [
    "result.MAIAC_PM25.describe()"
   ]
  },
  {
   "cell_type": "code",
   "execution_count": 19,
   "metadata": {
    "collapsed": true
   },
   "outputs": [],
   "source": [
    "merged_inner = AURN_Soton.merge(MAIAC_Soton, left_on='Date_Time', right_on='time', how='inner')"
   ]
  },
  {
   "cell_type": "code",
   "execution_count": 21,
   "metadata": {
    "collapsed": false
   },
   "outputs": [
    {
     "data": {
      "text/html": [
       "<div>\n",
       "<table border=\"1\" class=\"dataframe\">\n",
       "  <thead>\n",
       "    <tr style=\"text-align: right;\">\n",
       "      <th></th>\n",
       "      <th>Date_Time</th>\n",
       "      <th>PM2.5_Soton_Centre</th>\n",
       "      <th>Status</th>\n",
       "      <th>time</th>\n",
       "      <th>x</th>\n",
       "      <th>y</th>\n",
       "      <th>MAIAC_PM25</th>\n",
       "    </tr>\n",
       "  </thead>\n",
       "  <tbody>\n",
       "  </tbody>\n",
       "</table>\n",
       "</div>"
      ],
      "text/plain": [
       "Empty DataFrame\n",
       "Columns: [Date_Time, PM2.5_Soton_Centre, Status, time, x, y, MAIAC_PM25]\n",
       "Index: []"
      ]
     },
     "execution_count": 21,
     "metadata": {},
     "output_type": "execute_result"
    }
   ],
   "source": [
    "merged_inner"
   ]
  },
  {
   "cell_type": "markdown",
   "metadata": {
    "collapsed": true
   },
   "source": [
    "# Validating Bournemouth"
   ]
  },
  {
   "cell_type": "code",
   "execution_count": 8,
   "metadata": {
    "collapsed": false
   },
   "outputs": [
    {
     "data": {
      "text/plain": [
       "(1082.3040538889738, 1063.182688636608)"
      ]
     },
     "execution_count": 8,
     "metadata": {},
     "output_type": "execute_result"
    }
   ],
   "source": [
    "a = MAIAC_PM25.attrs['affine']\n",
    "a = rasterio.Affine.from_gdal(*a)\n",
    "~a * (412322, 93343)"
   ]
  },
  {
   "cell_type": "code",
   "execution_count": 9,
   "metadata": {
    "collapsed": false
   },
   "outputs": [
    {
     "name": "stdout",
     "output_type": "stream",
     "text": [
      "Processed D:\\MAIAC_Data\\Europe\\h00v01\\Projected\\2000\n",
      "Processed D:\\MAIAC_Data\\Europe\\h00v01\\Projected\\2001\n",
      "Processed D:\\MAIAC_Data\\Europe\\h00v01\\Projected\\2002\n",
      "Processed D:\\MAIAC_Data\\Europe\\h00v01\\Projected\\2003\n",
      "Processed D:\\MAIAC_Data\\Europe\\h00v01\\Projected\\2004\n",
      "Processed D:\\MAIAC_Data\\Europe\\h00v01\\Projected\\2005\n",
      "Processed D:\\MAIAC_Data\\Europe\\h00v01\\Projected\\2006\n",
      "Processed D:\\MAIAC_Data\\Europe\\h00v01\\Projected\\2007\n",
      "Processed D:\\MAIAC_Data\\Europe\\h00v01\\Projected\\2008\n",
      "Processed D:\\MAIAC_Data\\Europe\\h00v01\\Projected\\2009\n",
      "Processed D:\\MAIAC_Data\\Europe\\h00v01\\Projected\\2010\n",
      "Processed D:\\MAIAC_Data\\Europe\\h00v01\\Projected\\2011\n",
      "Processed D:\\MAIAC_Data\\Europe\\h00v01\\Projected\\2012\n",
      "Processed D:\\MAIAC_Data\\Europe\\h00v01\\Projected\\2013\n",
      "Processed D:\\MAIAC_Data\\Europe\\h00v01\\Projected\\2014\n"
     ]
    }
   ],
   "source": [
    "for folder in folders:\n",
    "    files = glob.glob(r'{fname}\\*_PM25.tif'.format(fname=folder))\n",
    "    list_of_das = map(maiac_file_to_da, files)\n",
    "    MAIAC_PM25 = xr.concat(list_of_das, 'time')\n",
    "    reordered_MAIAC_PM25 = MAIAC_PM25.isel(time=np.argsort(MAIAC_PM25.time))\n",
    "    Measurements = reordered_MAIAC_PM25.isel(x=1082, y=1063).dropna('time').to_dataframe(name='MAIAC_PM25')\n",
    "    Measurements.to_csv(r'D:\\Annies_Dissertation\\Methodology\\Validation\\AURN\\Bournemouth\\Bmth_MAIAC_PM25.csv', mode='a')\n",
    "    print('Processed {fname}'.format(fname=folder))"
   ]
  },
  {
   "cell_type": "code",
   "execution_count": 23,
   "metadata": {
    "collapsed": false
   },
   "outputs": [],
   "source": [
    "AURN_Bmth = pd.read_csv(r'D:\\Annies_Dissertation\\Methodology\\Validation\\AURN\\Bournemouth\\Bournemouth2008_2014.csv')"
   ]
  },
  {
   "cell_type": "code",
   "execution_count": null,
   "metadata": {
    "collapsed": true
   },
   "outputs": [],
   "source": []
  }
 ],
 "metadata": {
  "kernelspec": {
   "display_name": "Python 3",
   "language": "python",
   "name": "python3"
  },
  "language_info": {
   "codemirror_mode": {
    "name": "ipython",
    "version": 3
   },
   "file_extension": ".py",
   "mimetype": "text/x-python",
   "name": "python",
   "nbconvert_exporter": "python",
   "pygments_lexer": "ipython3",
   "version": "3.5.1"
  }
 },
 "nbformat": 4,
 "nbformat_minor": 0
}
