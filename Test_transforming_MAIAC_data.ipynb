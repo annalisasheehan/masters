{
 "cells": [
  {
   "cell_type": "markdown",
   "metadata": {},
   "source": [
    "# Import relevant libraries"
   ]
  },
  {
   "cell_type": "code",
   "execution_count": 1,
   "metadata": {
    "collapsed": false
   },
   "outputs": [],
   "source": [
    "import os\n",
    "import gdal\n",
    "import glob"
   ]
  },
  {
   "cell_type": "markdown",
   "metadata": {},
   "source": [
    "# Translate Lat and Lon files\n",
    "- Find out information about the lat lon file\n",
    "- Using the gdal_translate tool convert the lat and lon hdr files into vrt format"
   ]
  },
  {
   "cell_type": "code",
   "execution_count": 2,
   "metadata": {
    "collapsed": false,
    "scrolled": true
   },
   "outputs": [
    {
     "name": "stdout",
     "output_type": "stream",
     "text": [
      "Driver: HDF4/Hierarchical Data Format Release 4\n",
      "Files: D:\\Annies_Dissertation\\MAIAC_Test\\MAIACLatlon.h00v01.hdf\n",
      "Size is 512, 512\n",
      "Coordinate System is `'\n",
      "Metadata:\n",
      "  HDFEOSVersion=HDFEOS_V2.12\n",
      "Subdatasets:\n",
      "  SUBDATASET_1_NAME=HDF4_EOS:EOS_GRID:\"D:\\Annies_Dissertation\\MAIAC_Test\\MAIACLatlon.h00v01.hdf\":latlon:lat\n",
      "  SUBDATASET_1_DESC=[1200x1200] lat latlon (32-bit floating-point)\n",
      "  SUBDATASET_2_NAME=HDF4_EOS:EOS_GRID:\"D:\\Annies_Dissertation\\MAIAC_Test\\MAIACLatlon.h00v01.hdf\":latlon:lon\n",
      "  SUBDATASET_2_DESC=[1200x1200] lon latlon (32-bit floating-point)\n",
      "Corner Coordinates:\n",
      "Upper Left  (    0.0,    0.0)\n",
      "Lower Left  (    0.0,  512.0)\n",
      "Upper Right (  512.0,    0.0)\n",
      "Lower Right (  512.0,  512.0)\n",
      "Center      (  256.0,  256.0)\n",
      "\n"
     ]
    }
   ],
   "source": [
    "latlon_info = gdal.Info(r'D:\\Annies_Dissertation\\MAIAC_Test\\MAIACLatlon.h00v01.hdf')\n",
    "print(latlon_info)"
   ]
  },
  {
   "cell_type": "code",
   "execution_count": 3,
   "metadata": {
    "collapsed": false
   },
   "outputs": [
    {
     "data": {
      "text/plain": [
       "<osgeo.gdal.Dataset; proxy of <Swig Object of type 'GDALDatasetShadow *' at 0x000000F6B9911480> >"
      ]
     },
     "execution_count": 3,
     "metadata": {},
     "output_type": "execute_result"
    }
   ],
   "source": [
    "gdal.Translate(\"h00v01_lat.vrt\", r'HDF4_EOS:EOS_GRID:\"D:\\Annies_Dissertation\\MAIAC_Test\\MAIACLatlon.h00v01.hdf\":latlon:lat', format = 'VRT' )"
   ]
  },
  {
   "cell_type": "code",
   "execution_count": 4,
   "metadata": {
    "collapsed": false
   },
   "outputs": [
    {
     "data": {
      "text/plain": [
       "<osgeo.gdal.Dataset; proxy of <Swig Object of type 'GDALDatasetShadow *' at 0x000000F6B99114E0> >"
      ]
     },
     "execution_count": 4,
     "metadata": {},
     "output_type": "execute_result"
    }
   ],
   "source": [
    "gdal.Translate(\"h00v01_lon.vrt\", r'HDF4_EOS:EOS_GRID:\"D:\\Annies_Dissertation\\MAIAC_Test\\MAIACLatlon.h00v01.hdf\":latlon:lon', format = 'VRT' )"
   ]
  },
  {
   "cell_type": "markdown",
   "metadata": {},
   "source": [
    "# Warp the AOT images\n",
    "- get a list of names of HDF files\n",
    "- for each file name in list write data.vrt (change file name in data.vrt for each of the files)\n",
    "    - use os.system or os.path to write a 'data.vrt' text file in xml language \n",
    "    - open(\"data.vrt\")\n",
    "- run gdal_warp and rename projected*.tif"
   ]
  },
  {
   "cell_type": "markdown",
   "metadata": {},
   "source": [
    "# Warping the image"
   ]
  },
  {
   "cell_type": "markdown",
   "metadata": {},
   "source": [
    "Working now! (It was a problem with how Robin set things up!) NOT WORKINNNNGGGGG AGAIN!!! :("
   ]
  },
  {
   "cell_type": "code",
   "execution_count": 15,
   "metadata": {
    "collapsed": false
   },
   "outputs": [
    {
     "data": {
      "text/plain": [
       "2"
      ]
     },
     "execution_count": 15,
     "metadata": {},
     "output_type": "execute_result"
    }
   ],
   "source": [
    "os.system('gdalwarp r\"D:\\Annies_Dissertation\\MAIAC_Test\\subset\\data.vrt\" r\"D:\\Annies_Dissertation\\MAIAC_Test\\test11.tif\" -geoloc -s_srs \"EPSG:4326\" -t_srs \"EPSG:27700\"')"
   ]
  },
  {
   "cell_type": "markdown",
   "metadata": {},
   "source": [
    "Working!"
   ]
  },
  {
   "cell_type": "code",
   "execution_count": 14,
   "metadata": {
    "collapsed": false,
    "scrolled": true
   },
   "outputs": [],
   "source": [
    "gdal.Warp(r'D:\\Annies_Dissertation\\MAIAC_Test\\attempt2.tif', r'D:\\Annies_Dissertation\\MAIAC_Test\\subset\\data.vrt', geoloc = True, srcSRS = 'EPSG:4326', dstSRS = 'EPSG:27700')"
   ]
  },
  {
   "cell_type": "markdown",
   "metadata": {},
   "source": [
    "# Get a list of files"
   ]
  },
  {
   "cell_type": "code",
   "execution_count": 8,
   "metadata": {
    "collapsed": false
   },
   "outputs": [
    {
     "name": "stdout",
     "output_type": "stream",
     "text": [
      "True\n"
     ]
    }
   ],
   "source": [
    "with open(r'D:\\Annies_Dissertation\\MAIAC_Test\\AOT_filenames.txt', 'w') as myfile:\n",
    "    for filename in sorted(glob.glob(r'D:\\Annies_Dissertation\\MAIAC_Test\\2014\\MAIACAAOT*.hdf')):\n",
    "        myfile.write(os.path.basename(filename)+ '\\n')\n",
    "\n",
    "print(myfile.closed)"
   ]
  },
  {
   "cell_type": "markdown",
   "metadata": {},
   "source": [
    "Old code"
   ]
  },
  {
   "cell_type": "code",
   "execution_count": 5,
   "metadata": {
    "collapsed": false
   },
   "outputs": [
    {
     "name": "stdout",
     "output_type": "stream",
     "text": [
      "False\n"
     ]
    }
   ],
   "source": [
    "import glob\n",
    "myfile = open('list.txt', 'w')\n",
    "for filename in sorted(glob.glob(r'D:\\Annies_Dissertation\\MAIAC_Test\\2014\\MAIACAAOT*.hdf')):\n",
    "    myfile.write(os.path.basename(filename)+ '\\n') \n",
    "print(myfile.closed)\n",
    "myfile.close()"
   ]
  },
  {
   "cell_type": "code",
   "execution_count": 7,
   "metadata": {
    "collapsed": false
   },
   "outputs": [
    {
     "name": "stdout",
     "output_type": "stream",
     "text": [
      "True\n"
     ]
    }
   ],
   "source": [
    "with open('list.txt', 'w') as myfile, open('blah.txt', 'w') as robinfile:\n",
    "    myfile.write('blah')\n",
    "    robinfile.write('test')\n",
    "    \n",
    "print(myfile.closed)"
   ]
  },
  {
   "cell_type": "markdown",
   "metadata": {},
   "source": [
    "# Create data.vrt/ geoloc.vrt"
   ]
  },
  {
   "cell_type": "code",
   "execution_count": 30,
   "metadata": {
    "collapsed": false
   },
   "outputs": [
    {
     "data": {
      "text/plain": [
       "<_io.TextIOWrapper name='geoloc.vrt' mode='r' encoding='cp1252'>"
      ]
     },
     "execution_count": 30,
     "metadata": {},
     "output_type": "execute_result"
    }
   ],
   "source": [
    "open(\"geoloc.vrt\", 'r')"
   ]
  },
  {
   "cell_type": "markdown",
   "metadata": {},
   "source": [
    "# Stuff that i've done and works... but improved..."
   ]
  },
  {
   "cell_type": "code",
   "execution_count": 28,
   "metadata": {
    "collapsed": true
   },
   "outputs": [],
   "source": [
    "xml = \"\"\"<VRTDataset rasterXSize=\"1200\" rasterYSize=\"1200\">\n",
    "  <Metadata domain=\"GEOLOCATION\">\n",
    "     <mdi key=\"X_DATASET\">h00v01_lon.vrt</mdi>\n",
    "     <mdi key=\"X_BAND\">1</mdi>\n",
    "     <mdi key=\"Y_DATASET\">h00v01_lat.vrt</mdi>\n",
    "     <mdi key=\"Y_BAND\">1</mdi>\n",
    "     <mdi key=\"PIXEL_OFFSET\">0</mdi>\n",
    "     <mdi key=\"LINE_OFFSET\">0</mdi>\n",
    "     <mdi key=\"PIXEL_STEP\">1</mdi>\n",
    "     <mdi key=\"LINE_STEP\">1</mdi>\n",
    "  </Metadata>\n",
    "  <VRTRasterBand dataType=\"Float32\" band=\"1\">\n",
    "    <ColorInterp>Gray</ColorInterp>\n",
    "    <SimpleSource>\n",
    "      <SourceFilename relativeToVRT=\"0\">HDF4_EOS:EOS_GRID:\"2014\\{fname}\":grid1km:Optical_Depth_Land</SourceFilename>\n",
    "      <SourceBand>1</SourceBand>\n",
    "      <SourceProperties RasterXSize=\"1200\" RasterYSize=\"1200\" DataType=\"Float32\" BlockXSize=\"1200\" BlockYSize=\"1200\" />\n",
    "      <SrcRect xOff=\"0\" yOff=\"0\" xSize=\"1200\" ySize=\"1200\" />\n",
    "      <DstRect xOff=\"0\" yOff=\"0\" xSize=\"1200\" ySize=\"1200\" />\n",
    "    </SimpleSource>\n",
    "  </VRTRasterBand>\n",
    "</VRTDataset>\n",
    "\"\"\""
   ]
  },
  {
   "cell_type": "code",
   "execution_count": 29,
   "metadata": {
    "collapsed": false
   },
   "outputs": [
    {
     "name": "stdout",
     "output_type": "stream",
     "text": [
      "True\n"
     ]
    }
   ],
   "source": [
    "with open(r'D:\\Annies_Dissertation\\MAIAC_Test\\test_geoloc_2.vrt', 'w') as myfile:\n",
    "    for name in sorted(glob.glob(r'D:\\Annies_Dissertation\\MAIAC_Test\\2014\\MAIACAAOT*.hdf')):\n",
    "        myfile.write(xml.format(fname=(os.path.basename(name))))\n",
    "\n",
    "print(myfile.closed)"
   ]
  },
  {
   "cell_type": "markdown",
   "metadata": {},
   "source": [
    "files = glob()\n",
    "for filename in files:\n",
    "    write the VRT file\n",
    "    Run GDAL warp"
   ]
  },
  {
   "cell_type": "code",
   "execution_count": 11,
   "metadata": {
    "collapsed": true
   },
   "outputs": [],
   "source": [
    "def sayhello(name, comment=None):\n",
    "    print(\"Hello {name}\".format(name=name))\n",
    "    if comment is not None:\n",
    "        print(comment)"
   ]
  },
  {
   "cell_type": "code",
   "execution_count": 30,
   "metadata": {
    "collapsed": false
   },
   "outputs": [
    {
     "name": "stdout",
     "output_type": "stream",
     "text": [
      "MAIACAAOT.h00v01.20140011255.hdf\n",
      "MAIACAAOT.h00v01.20140011430.hdf\n",
      "MAIACAAOT.h00v01.20140021200.hdf\n",
      "MAIACAAOT.h00v01.20140021335.hdf\n",
      "MAIACAAOT.h00v01.20140031240.hdf\n",
      "MAIACAAOT.h00v01.20140031420.hdf\n",
      "MAIACAAOT.h00v01.20140041145.hdf\n",
      "MAIACAAOT.h00v01.20140041325.hdf\n",
      "MAIACAAOT.h00v01.20140041505.hdf\n",
      "MAIACAAOT.h00v01.20140051230.hdf\n",
      "MAIACAAOT.h00v01.20140051410.hdf\n",
      "MAIACAAOT.h00v01.20140061135.hdf\n",
      "MAIACAAOT.h00v01.20140061310.hdf\n",
      "MAIACAAOT.h00v01.20140061450.hdf\n",
      "MAIACAAOT.h00v01.20140071215.hdf\n",
      "MAIACAAOT.h00v01.20140071355.hdf\n",
      "MAIACAAOT.h00v01.20140081300.hdf\n",
      "MAIACAAOT.h00v01.20140081440.hdf\n",
      "MAIACAAOT.h00v01.20140091205.hdf\n",
      "MAIACAAOT.h00v01.20140091345.hdf\n",
      "MAIACAAOT.h00v01.20140101245.hdf\n",
      "MAIACAAOT.h00v01.20140101425.hdf\n",
      "MAIACAAOT.h00v01.20140111150.hdf\n",
      "MAIACAAOT.h00v01.20140111330.hdf\n",
      "MAIACAAOT.h00v01.20140111510.hdf\n",
      "MAIACAAOT.h00v01.20140121235.hdf\n",
      "MAIACAAOT.h00v01.20140121415.hdf\n",
      "MAIACAAOT.h00v01.20140131140.hdf\n",
      "MAIACAAOT.h00v01.20140131320.hdf\n",
      "MAIACAAOT.h00v01.20140131455.hdf\n",
      "MAIACAAOT.h00v01.20140141225.hdf\n",
      "MAIACAAOT.h00v01.20140141400.hdf\n",
      "MAIACAAOT.h00v01.20140151305.hdf\n",
      "MAIACAAOT.h00v01.20140151445.hdf\n",
      "MAIACAAOT.h00v01.20140161210.hdf\n",
      "MAIACAAOT.h00v01.20140161350.hdf\n",
      "MAIACAAOT.h00v01.20140171255.hdf\n",
      "MAIACAAOT.h00v01.20140171435.hdf\n",
      "MAIACAAOT.h00v01.20140181200.hdf\n",
      "MAIACAAOT.h00v01.20140181335.hdf\n",
      "MAIACAAOT.h00v01.20140181515.hdf\n",
      "MAIACAAOT.h00v01.20140191240.hdf\n",
      "MAIACAAOT.h00v01.20140191420.hdf\n",
      "MAIACAAOT.h00v01.20140201145.hdf\n",
      "MAIACAAOT.h00v01.20140201325.hdf\n",
      "MAIACAAOT.h00v01.20140201505.hdf\n",
      "MAIACAAOT.h00v01.20140211230.hdf\n",
      "MAIACAAOT.h00v01.20140211410.hdf\n",
      "MAIACAAOT.h00v01.20140221135.hdf\n",
      "MAIACAAOT.h00v01.20140221315.hdf\n",
      "MAIACAAOT.h00v01.20140221450.hdf\n",
      "MAIACAAOT.h00v01.20140231215.hdf\n",
      "MAIACAAOT.h00v01.20140231355.hdf\n",
      "MAIACAAOT.h00v01.20140241300.hdf\n",
      "MAIACAAOT.h00v01.20140241440.hdf\n",
      "MAIACAAOT.h00v01.20140251205.hdf\n",
      "MAIACAAOT.h00v01.20140251345.hdf\n",
      "MAIACAAOT.h00v01.20140251525.hdf\n",
      "MAIACAAOT.h00v01.20140261250.hdf\n",
      "MAIACAAOT.h00v01.20140261425.hdf\n",
      "MAIACAAOT.h00v01.20140271155.hdf\n",
      "MAIACAAOT.h00v01.20140271330.hdf\n",
      "MAIACAAOT.h00v01.20140271510.hdf\n",
      "MAIACAAOT.h00v01.20140281235.hdf\n",
      "MAIACAAOT.h00v01.20140281415.hdf\n",
      "MAIACAAOT.h00v01.20140291140.hdf\n",
      "MAIACAAOT.h00v01.20140291320.hdf\n",
      "MAIACAAOT.h00v01.20140291500.hdf\n",
      "MAIACAAOT.h00v01.20140301225.hdf\n",
      "MAIACAAOT.h00v01.20140301405.hdf\n",
      "MAIACAAOT.h00v01.20140311130.hdf\n",
      "MAIACAAOT.h00v01.20140311305.hdf\n",
      "MAIACAAOT.h00v01.20140311445.hdf\n",
      "MAIACAAOT.h00v01.20140321210.hdf\n",
      "MAIACAAOT.h00v01.20140321350.hdf\n",
      "MAIACAAOT.h00v01.20140321530.hdf\n",
      "MAIACAAOT.h00v01.20140331255.hdf\n",
      "MAIACAAOT.h00v01.20140331435.hdf\n",
      "MAIACAAOT.h00v01.20140341200.hdf\n",
      "MAIACAAOT.h00v01.20140341340.hdf\n",
      "MAIACAAOT.h00v01.20140341520.hdf\n",
      "MAIACAAOT.h00v01.20140351245.hdf\n",
      "MAIACAAOT.h00v01.20140351420.hdf\n",
      "MAIACAAOT.h00v01.20140361150.hdf\n",
      "MAIACAAOT.h00v01.20140361325.hdf\n",
      "MAIACAAOT.h00v01.20140361505.hdf\n",
      "MAIACAAOT.h00v01.20140371230.hdf\n",
      "MAIACAAOT.h00v01.20140371410.hdf\n",
      "MAIACAAOT.h00v01.20140381135.hdf\n",
      "MAIACAAOT.h00v01.20140381315.hdf\n",
      "MAIACAAOT.h00v01.20140381455.hdf\n",
      "MAIACAAOT.h00v01.20140391220.hdf\n",
      "MAIACAAOT.h00v01.20140391400.hdf\n",
      "MAIACAAOT.h00v01.20140391535.hdf\n",
      "MAIACAAOT.h00v01.20140401125.hdf\n",
      "MAIACAAOT.h00v01.20140401300.hdf\n",
      "MAIACAAOT.h00v01.20140401440.hdf\n",
      "MAIACAAOT.h00v01.20140411205.hdf\n",
      "MAIACAAOT.h00v01.20140411345.hdf\n",
      "MAIACAAOT.h00v01.20140411525.hdf\n",
      "MAIACAAOT.h00v01.20140421250.hdf\n",
      "MAIACAAOT.h00v01.20140421430.hdf\n",
      "MAIACAAOT.h00v01.20140431155.hdf\n",
      "MAIACAAOT.h00v01.20140431335.hdf\n",
      "MAIACAAOT.h00v01.20140431510.hdf\n",
      "MAIACAAOT.h00v01.20140441240.hdf\n",
      "MAIACAAOT.h00v01.20140441415.hdf\n",
      "MAIACAAOT.h00v01.20140451140.hdf\n",
      "MAIACAAOT.h00v01.20140451320.hdf\n",
      "MAIACAAOT.h00v01.20140451500.hdf\n",
      "MAIACAAOT.h00v01.20140461225.hdf\n",
      "MAIACAAOT.h00v01.20140461405.hdf\n",
      "MAIACAAOT.h00v01.20140461545.hdf\n",
      "MAIACAAOT.h00v01.20140471130.hdf\n",
      "MAIACAAOT.h00v01.20140471310.hdf\n",
      "MAIACAAOT.h00v01.20140471450.hdf\n",
      "MAIACAAOT.h00v01.20140481215.hdf\n",
      "MAIACAAOT.h00v01.20140481355.hdf\n",
      "MAIACAAOT.h00v01.20140481530.hdf\n",
      "MAIACAAOT.h00v01.20140491120.hdf\n",
      "MAIACAAOT.h00v01.20140491255.hdf\n",
      "MAIACAAOT.h00v01.20140491435.hdf\n",
      "MAIACAAOT.h00v01.20140501200.hdf\n",
      "MAIACAAOT.h00v01.20140501340.hdf\n",
      "MAIACAAOT.h00v01.20140501520.hdf\n",
      "MAIACAAOT.h00v01.20140511245.hdf\n",
      "MAIACAAOT.h00v01.20140511425.hdf\n",
      "MAIACAAOT.h00v01.20140521150.hdf\n",
      "MAIACAAOT.h00v01.20140521330.hdf\n",
      "MAIACAAOT.h00v01.20140521505.hdf\n",
      "MAIACAAOT.h00v01.20140531235.hdf\n",
      "MAIACAAOT.h00v01.20140531410.hdf\n",
      "MAIACAAOT.h00v01.20140541135.hdf\n",
      "MAIACAAOT.h00v01.20140541315.hdf\n",
      "MAIACAAOT.h00v01.20140541455.hdf\n",
      "MAIACAAOT.h00v01.20140551220.hdf\n",
      "MAIACAAOT.h00v01.20140551400.hdf\n",
      "MAIACAAOT.h00v01.20140551535.hdf\n",
      "MAIACAAOT.h00v01.20140561125.hdf\n",
      "MAIACAAOT.h00v01.20140561305.hdf\n",
      "MAIACAAOT.h00v01.20140561440.hdf\n",
      "MAIACAAOT.h00v01.20140571210.hdf\n",
      "MAIACAAOT.h00v01.20140571345.hdf\n",
      "MAIACAAOT.h00v01.20140571525.hdf\n",
      "MAIACAAOT.h00v01.20140581250.hdf\n",
      "MAIACAAOT.h00v01.20140581430.hdf\n",
      "MAIACAAOT.h00v01.20140591155.hdf\n",
      "MAIACAAOT.h00v01.20140591335.hdf\n",
      "MAIACAAOT.h00v01.20140591510.hdf\n",
      "MAIACAAOT.h00v01.20140601240.hdf\n",
      "MAIACAAOT.h00v01.20140601415.hdf\n",
      "MAIACAAOT.h00v01.20140611145.hdf\n",
      "MAIACAAOT.h00v01.20140611320.hdf\n",
      "MAIACAAOT.h00v01.20140611500.hdf\n",
      "MAIACAAOT.h00v01.20140621225.hdf\n",
      "MAIACAAOT.h00v01.20140621405.hdf\n",
      "MAIACAAOT.h00v01.20140621545.hdf\n",
      "MAIACAAOT.h00v01.20140631130.hdf\n",
      "MAIACAAOT.h00v01.20140631310.hdf\n",
      "MAIACAAOT.h00v01.20140631450.hdf\n",
      "MAIACAAOT.h00v01.20140641215.hdf\n",
      "MAIACAAOT.h00v01.20140641350.hdf\n",
      "MAIACAAOT.h00v01.20140641530.hdf\n",
      "MAIACAAOT.h00v01.20140651120.hdf\n",
      "MAIACAAOT.h00v01.20140651300.hdf\n",
      "MAIACAAOT.h00v01.20140651435.hdf\n",
      "MAIACAAOT.h00v01.20140661200.hdf\n",
      "MAIACAAOT.h00v01.20140661340.hdf\n",
      "MAIACAAOT.h00v01.20140661520.hdf\n",
      "MAIACAAOT.h00v01.20140671245.hdf\n",
      "MAIACAAOT.h00v01.20140671425.hdf\n",
      "MAIACAAOT.h00v01.20140681150.hdf\n",
      "MAIACAAOT.h00v01.20140681330.hdf\n",
      "MAIACAAOT.h00v01.20140681505.hdf\n",
      "MAIACAAOT.h00v01.20140691235.hdf\n",
      "MAIACAAOT.h00v01.20140691410.hdf\n",
      "MAIACAAOT.h00v01.20140691550.hdf\n",
      "MAIACAAOT.h00v01.20140701140.hdf\n",
      "MAIACAAOT.h00v01.20140701315.hdf\n",
      "MAIACAAOT.h00v01.20140701455.hdf\n",
      "MAIACAAOT.h00v01.20140711220.hdf\n",
      "MAIACAAOT.h00v01.20140711400.hdf\n",
      "MAIACAAOT.h00v01.20140711535.hdf\n",
      "MAIACAAOT.h00v01.20140721125.hdf\n",
      "MAIACAAOT.h00v01.20140721305.hdf\n",
      "MAIACAAOT.h00v01.20140721440.hdf\n",
      "MAIACAAOT.h00v01.20140731210.hdf\n",
      "MAIACAAOT.h00v01.20140731345.hdf\n",
      "MAIACAAOT.h00v01.20140731525.hdf\n",
      "MAIACAAOT.h00v01.20140741250.hdf\n",
      "MAIACAAOT.h00v01.20140741430.hdf\n",
      "MAIACAAOT.h00v01.20140751155.hdf\n",
      "MAIACAAOT.h00v01.20140751335.hdf\n",
      "MAIACAAOT.h00v01.20140751510.hdf\n",
      "MAIACAAOT.h00v01.20140761240.hdf\n",
      "MAIACAAOT.h00v01.20140761415.hdf\n",
      "MAIACAAOT.h00v01.20140771145.hdf\n",
      "MAIACAAOT.h00v01.20140771320.hdf\n",
      "MAIACAAOT.h00v01.20140771500.hdf\n",
      "MAIACAAOT.h00v01.20140781225.hdf\n",
      "MAIACAAOT.h00v01.20140781405.hdf\n",
      "MAIACAAOT.h00v01.20140781545.hdf\n",
      "MAIACAAOT.h00v01.20140791130.hdf\n",
      "MAIACAAOT.h00v01.20140791310.hdf\n",
      "MAIACAAOT.h00v01.20140791450.hdf\n",
      "MAIACAAOT.h00v01.20140801215.hdf\n",
      "MAIACAAOT.h00v01.20140801355.hdf\n",
      "MAIACAAOT.h00v01.20140801530.hdf\n",
      "MAIACAAOT.h00v01.20140811120.hdf\n",
      "MAIACAAOT.h00v01.20140811300.hdf\n",
      "MAIACAAOT.h00v01.20140811435.hdf\n",
      "MAIACAAOT.h00v01.20140821205.hdf\n",
      "MAIACAAOT.h00v01.20140821340.hdf\n",
      "MAIACAAOT.h00v01.20140821520.hdf\n",
      "MAIACAAOT.h00v01.20140831245.hdf\n",
      "MAIACAAOT.h00v01.20140831425.hdf\n",
      "MAIACAAOT.h00v01.20140841150.hdf\n",
      "MAIACAAOT.h00v01.20140841330.hdf\n",
      "MAIACAAOT.h00v01.20140841505.hdf\n",
      "MAIACAAOT.h00v01.20140851235.hdf\n",
      "MAIACAAOT.h00v01.20140851410.hdf\n",
      "MAIACAAOT.h00v01.20140861140.hdf\n",
      "MAIACAAOT.h00v01.20140861315.hdf\n",
      "MAIACAAOT.h00v01.20140861455.hdf\n",
      "MAIACAAOT.h00v01.20140871220.hdf\n",
      "MAIACAAOT.h00v01.20140871400.hdf\n",
      "MAIACAAOT.h00v01.20140871535.hdf\n",
      "MAIACAAOT.h00v01.20140881125.hdf\n",
      "MAIACAAOT.h00v01.20140881305.hdf\n",
      "MAIACAAOT.h00v01.20140881440.hdf\n",
      "MAIACAAOT.h00v01.20140891210.hdf\n",
      "MAIACAAOT.h00v01.20140891345.hdf\n",
      "MAIACAAOT.h00v01.20140891525.hdf\n",
      "MAIACAAOT.h00v01.20140901250.hdf\n",
      "MAIACAAOT.h00v01.20140901430.hdf\n",
      "MAIACAAOT.h00v01.20140911155.hdf\n",
      "MAIACAAOT.h00v01.20140911335.hdf\n",
      "MAIACAAOT.h00v01.20140911515.hdf\n",
      "MAIACAAOT.h00v01.20140921240.hdf\n",
      "MAIACAAOT.h00v01.20140921415.hdf\n",
      "MAIACAAOT.h00v01.20140931145.hdf\n",
      "MAIACAAOT.h00v01.20140931320.hdf\n",
      "MAIACAAOT.h00v01.20140931500.hdf\n",
      "MAIACAAOT.h00v01.20140941230.hdf\n",
      "MAIACAAOT.h00v01.20140941405.hdf\n",
      "MAIACAAOT.h00v01.20140941545.hdf\n",
      "MAIACAAOT.h00v01.20140951130.hdf\n",
      "MAIACAAOT.h00v01.20140951310.hdf\n",
      "MAIACAAOT.h00v01.20140951450.hdf\n",
      "MAIACAAOT.h00v01.20140961215.hdf\n",
      "MAIACAAOT.h00v01.20140961355.hdf\n",
      "MAIACAAOT.h00v01.20140961530.hdf\n",
      "MAIACAAOT.h00v01.20140971120.hdf\n",
      "MAIACAAOT.h00v01.20140971300.hdf\n",
      "MAIACAAOT.h00v01.20140971435.hdf\n",
      "MAIACAAOT.h00v01.20140981205.hdf\n",
      "MAIACAAOT.h00v01.20140981340.hdf\n",
      "MAIACAAOT.h00v01.20140981520.hdf\n",
      "MAIACAAOT.h00v01.20140991245.hdf\n",
      "MAIACAAOT.h00v01.20141001150.hdf\n",
      "MAIACAAOT.h00v01.20141001330.hdf\n",
      "MAIACAAOT.h00v01.20141001505.hdf\n",
      "MAIACAAOT.h00v01.20141011235.hdf\n",
      "MAIACAAOT.h00v01.20141011410.hdf\n",
      "MAIACAAOT.h00v01.20141011550.hdf\n",
      "MAIACAAOT.h00v01.20141021140.hdf\n",
      "MAIACAAOT.h00v01.20141021315.hdf\n",
      "MAIACAAOT.h00v01.20141021455.hdf\n",
      "MAIACAAOT.h00v01.20141031220.hdf\n",
      "MAIACAAOT.h00v01.20141031400.hdf\n",
      "MAIACAAOT.h00v01.20141031535.hdf\n",
      "MAIACAAOT.h00v01.20141041125.hdf\n",
      "MAIACAAOT.h00v01.20141041305.hdf\n",
      "MAIACAAOT.h00v01.20141041440.hdf\n",
      "MAIACAAOT.h00v01.20141051210.hdf\n",
      "MAIACAAOT.h00v01.20141051345.hdf\n",
      "MAIACAAOT.h00v01.20141051525.hdf\n",
      "MAIACAAOT.h00v01.20141061250.hdf\n",
      "MAIACAAOT.h00v01.20141061430.hdf\n",
      "MAIACAAOT.h00v01.20141071155.hdf\n",
      "MAIACAAOT.h00v01.20141071335.hdf\n",
      "MAIACAAOT.h00v01.20141071510.hdf\n",
      "MAIACAAOT.h00v01.20141081240.hdf\n",
      "MAIACAAOT.h00v01.20141081415.hdf\n",
      "MAIACAAOT.h00v01.20141091145.hdf\n",
      "MAIACAAOT.h00v01.20141091320.hdf\n",
      "MAIACAAOT.h00v01.20141091500.hdf\n",
      "MAIACAAOT.h00v01.20141101225.hdf\n",
      "MAIACAAOT.h00v01.20141101405.hdf\n",
      "MAIACAAOT.h00v01.20141101545.hdf\n",
      "MAIACAAOT.h00v01.20141111130.hdf\n",
      "MAIACAAOT.h00v01.20141111310.hdf\n",
      "MAIACAAOT.h00v01.20141111450.hdf\n",
      "MAIACAAOT.h00v01.20141121215.hdf\n",
      "MAIACAAOT.h00v01.20141121355.hdf\n",
      "MAIACAAOT.h00v01.20141121530.hdf\n",
      "MAIACAAOT.h00v01.20141131120.hdf\n",
      "MAIACAAOT.h00v01.20141131300.hdf\n",
      "MAIACAAOT.h00v01.20141131435.hdf\n",
      "MAIACAAOT.h00v01.20141141205.hdf\n",
      "MAIACAAOT.h00v01.20141141340.hdf\n",
      "MAIACAAOT.h00v01.20141141520.hdf\n",
      "MAIACAAOT.h00v01.20141151245.hdf\n",
      "MAIACAAOT.h00v01.20141151425.hdf\n",
      "MAIACAAOT.h00v01.20141161150.hdf\n",
      "MAIACAAOT.h00v01.20141161330.hdf\n",
      "MAIACAAOT.h00v01.20141161505.hdf\n",
      "MAIACAAOT.h00v01.20141171235.hdf\n",
      "MAIACAAOT.h00v01.20141171410.hdf\n",
      "MAIACAAOT.h00v01.20141171550.hdf\n",
      "MAIACAAOT.h00v01.20141181140.hdf\n",
      "MAIACAAOT.h00v01.20141181315.hdf\n",
      "MAIACAAOT.h00v01.20141181455.hdf\n",
      "MAIACAAOT.h00v01.20141191220.hdf\n",
      "MAIACAAOT.h00v01.20141191400.hdf\n",
      "MAIACAAOT.h00v01.20141191535.hdf\n",
      "MAIACAAOT.h00v01.20141201125.hdf\n",
      "MAIACAAOT.h00v01.20141201305.hdf\n",
      "MAIACAAOT.h00v01.20141201440.hdf\n",
      "MAIACAAOT.h00v01.20141211210.hdf\n",
      "MAIACAAOT.h00v01.20141211345.hdf\n",
      "MAIACAAOT.h00v01.20141211525.hdf\n",
      "MAIACAAOT.h00v01.20141221250.hdf\n",
      "MAIACAAOT.h00v01.20141221430.hdf\n",
      "MAIACAAOT.h00v01.20141231155.hdf\n",
      "MAIACAAOT.h00v01.20141231335.hdf\n",
      "MAIACAAOT.h00v01.20141231510.hdf\n",
      "MAIACAAOT.h00v01.20141241240.hdf\n",
      "MAIACAAOT.h00v01.20141241415.hdf\n",
      "MAIACAAOT.h00v01.20141251145.hdf\n",
      "MAIACAAOT.h00v01.20141251320.hdf\n",
      "MAIACAAOT.h00v01.20141251500.hdf\n",
      "MAIACAAOT.h00v01.20141261225.hdf\n",
      "MAIACAAOT.h00v01.20141261405.hdf\n",
      "MAIACAAOT.h00v01.20141261545.hdf\n",
      "MAIACAAOT.h00v01.20141271130.hdf\n",
      "MAIACAAOT.h00v01.20141271310.hdf\n",
      "MAIACAAOT.h00v01.20141271450.hdf\n",
      "MAIACAAOT.h00v01.20141281215.hdf\n",
      "MAIACAAOT.h00v01.20141281355.hdf\n",
      "MAIACAAOT.h00v01.20141281530.hdf\n",
      "MAIACAAOT.h00v01.20141291120.hdf\n",
      "MAIACAAOT.h00v01.20141291300.hdf\n",
      "MAIACAAOT.h00v01.20141291435.hdf\n",
      "MAIACAAOT.h00v01.20141301205.hdf\n",
      "MAIACAAOT.h00v01.20141301340.hdf\n",
      "MAIACAAOT.h00v01.20141301520.hdf\n",
      "MAIACAAOT.h00v01.20141311245.hdf\n",
      "MAIACAAOT.h00v01.20141311425.hdf\n",
      "MAIACAAOT.h00v01.20141321150.hdf\n",
      "MAIACAAOT.h00v01.20141321330.hdf\n",
      "MAIACAAOT.h00v01.20141321505.hdf\n",
      "MAIACAAOT.h00v01.20141331235.hdf\n",
      "MAIACAAOT.h00v01.20141331410.hdf\n",
      "MAIACAAOT.h00v01.20141341140.hdf\n",
      "MAIACAAOT.h00v01.20141341315.hdf\n",
      "MAIACAAOT.h00v01.20141341455.hdf\n",
      "MAIACAAOT.h00v01.20141351220.hdf\n",
      "MAIACAAOT.h00v01.20141351400.hdf\n",
      "MAIACAAOT.h00v01.20141351535.hdf\n",
      "MAIACAAOT.h00v01.20141361125.hdf\n",
      "MAIACAAOT.h00v01.20141361305.hdf\n",
      "MAIACAAOT.h00v01.20141361440.hdf\n",
      "MAIACAAOT.h00v01.20141371210.hdf\n",
      "MAIACAAOT.h00v01.20141371345.hdf\n",
      "MAIACAAOT.h00v01.20141371525.hdf\n",
      "MAIACAAOT.h00v01.20141381250.hdf\n",
      "MAIACAAOT.h00v01.20141381430.hdf\n",
      "MAIACAAOT.h00v01.20141391155.hdf\n",
      "MAIACAAOT.h00v01.20141391335.hdf\n",
      "MAIACAAOT.h00v01.20141391510.hdf\n",
      "MAIACAAOT.h00v01.20141401240.hdf\n",
      "MAIACAAOT.h00v01.20141401415.hdf\n",
      "MAIACAAOT.h00v01.20141411145.hdf\n",
      "MAIACAAOT.h00v01.20141411320.hdf\n",
      "MAIACAAOT.h00v01.20141411500.hdf\n",
      "MAIACAAOT.h00v01.20141421225.hdf\n",
      "MAIACAAOT.h00v01.20141421405.hdf\n",
      "MAIACAAOT.h00v01.20141421545.hdf\n",
      "MAIACAAOT.h00v01.20141431130.hdf\n",
      "MAIACAAOT.h00v01.20141431310.hdf\n",
      "MAIACAAOT.h00v01.20141431450.hdf\n",
      "MAIACAAOT.h00v01.20141441215.hdf\n",
      "MAIACAAOT.h00v01.20141441355.hdf\n",
      "MAIACAAOT.h00v01.20141441530.hdf\n",
      "MAIACAAOT.h00v01.20141451120.hdf\n",
      "MAIACAAOT.h00v01.20141451300.hdf\n",
      "MAIACAAOT.h00v01.20141451435.hdf\n",
      "MAIACAAOT.h00v01.20141461200.hdf\n",
      "MAIACAAOT.h00v01.20141461340.hdf\n",
      "MAIACAAOT.h00v01.20141461520.hdf\n",
      "MAIACAAOT.h00v01.20141471245.hdf\n",
      "MAIACAAOT.h00v01.20141471425.hdf\n",
      "MAIACAAOT.h00v01.20141481150.hdf\n",
      "MAIACAAOT.h00v01.20141481330.hdf\n",
      "MAIACAAOT.h00v01.20141481505.hdf\n",
      "MAIACAAOT.h00v01.20141491235.hdf\n",
      "MAIACAAOT.h00v01.20141491410.hdf\n",
      "MAIACAAOT.h00v01.20141501140.hdf\n",
      "MAIACAAOT.h00v01.20141501315.hdf\n",
      "MAIACAAOT.h00v01.20141501455.hdf\n",
      "MAIACAAOT.h00v01.20141511220.hdf\n",
      "MAIACAAOT.h00v01.20141511400.hdf\n",
      "MAIACAAOT.h00v01.20141511535.hdf\n",
      "MAIACAAOT.h00v01.20141521125.hdf\n",
      "MAIACAAOT.h00v01.20141521305.hdf\n",
      "MAIACAAOT.h00v01.20141521440.hdf\n",
      "MAIACAAOT.h00v01.20141531210.hdf\n",
      "MAIACAAOT.h00v01.20141531345.hdf\n",
      "MAIACAAOT.h00v01.20141531525.hdf\n",
      "MAIACAAOT.h00v01.20141541250.hdf\n",
      "MAIACAAOT.h00v01.20141541430.hdf\n",
      "MAIACAAOT.h00v01.20141551155.hdf\n",
      "MAIACAAOT.h00v01.20141551335.hdf\n",
      "MAIACAAOT.h00v01.20141551510.hdf\n",
      "MAIACAAOT.h00v01.20141561240.hdf\n",
      "MAIACAAOT.h00v01.20141561415.hdf\n",
      "MAIACAAOT.h00v01.20141571145.hdf\n",
      "MAIACAAOT.h00v01.20141571320.hdf\n",
      "MAIACAAOT.h00v01.20141571500.hdf\n",
      "MAIACAAOT.h00v01.20141581225.hdf\n",
      "MAIACAAOT.h00v01.20141581405.hdf\n",
      "MAIACAAOT.h00v01.20141581545.hdf\n",
      "MAIACAAOT.h00v01.20141591130.hdf\n",
      "MAIACAAOT.h00v01.20141591310.hdf\n",
      "MAIACAAOT.h00v01.20141591450.hdf\n",
      "MAIACAAOT.h00v01.20141601215.hdf\n",
      "MAIACAAOT.h00v01.20141601355.hdf\n",
      "MAIACAAOT.h00v01.20141601530.hdf\n",
      "MAIACAAOT.h00v01.20141611120.hdf\n",
      "MAIACAAOT.h00v01.20141611300.hdf\n",
      "MAIACAAOT.h00v01.20141611435.hdf\n",
      "MAIACAAOT.h00v01.20141621200.hdf\n",
      "MAIACAAOT.h00v01.20141621340.hdf\n",
      "MAIACAAOT.h00v01.20141621520.hdf\n",
      "MAIACAAOT.h00v01.20141631245.hdf\n",
      "MAIACAAOT.h00v01.20141631425.hdf\n",
      "MAIACAAOT.h00v01.20141641150.hdf\n",
      "MAIACAAOT.h00v01.20141641330.hdf\n",
      "MAIACAAOT.h00v01.20141641505.hdf\n",
      "MAIACAAOT.h00v01.20141651235.hdf\n",
      "MAIACAAOT.h00v01.20141651410.hdf\n",
      "MAIACAAOT.h00v01.20141661140.hdf\n",
      "MAIACAAOT.h00v01.20141661315.hdf\n",
      "MAIACAAOT.h00v01.20141661455.hdf\n",
      "MAIACAAOT.h00v01.20141671220.hdf\n",
      "MAIACAAOT.h00v01.20141671400.hdf\n",
      "MAIACAAOT.h00v01.20141671535.hdf\n",
      "MAIACAAOT.h00v01.20141681125.hdf\n",
      "MAIACAAOT.h00v01.20141681305.hdf\n",
      "MAIACAAOT.h00v01.20141681440.hdf\n",
      "MAIACAAOT.h00v01.20141691210.hdf\n",
      "MAIACAAOT.h00v01.20141691345.hdf\n",
      "MAIACAAOT.h00v01.20141691525.hdf\n",
      "MAIACAAOT.h00v01.20141701250.hdf\n",
      "MAIACAAOT.h00v01.20141701430.hdf\n",
      "MAIACAAOT.h00v01.20141711155.hdf\n",
      "MAIACAAOT.h00v01.20141711335.hdf\n",
      "MAIACAAOT.h00v01.20141711510.hdf\n",
      "MAIACAAOT.h00v01.20141721240.hdf\n",
      "MAIACAAOT.h00v01.20141721415.hdf\n",
      "MAIACAAOT.h00v01.20141731145.hdf\n",
      "MAIACAAOT.h00v01.20141731320.hdf\n",
      "MAIACAAOT.h00v01.20141731500.hdf\n",
      "MAIACAAOT.h00v01.20141741225.hdf\n",
      "MAIACAAOT.h00v01.20141741405.hdf\n",
      "MAIACAAOT.h00v01.20141741545.hdf\n",
      "MAIACAAOT.h00v01.20141751130.hdf\n",
      "MAIACAAOT.h00v01.20141751310.hdf\n",
      "MAIACAAOT.h00v01.20141751445.hdf\n",
      "MAIACAAOT.h00v01.20141761215.hdf\n",
      "MAIACAAOT.h00v01.20141761350.hdf\n",
      "MAIACAAOT.h00v01.20141761530.hdf\n",
      "MAIACAAOT.h00v01.20141771120.hdf\n",
      "MAIACAAOT.h00v01.20141771300.hdf\n",
      "MAIACAAOT.h00v01.20141771435.hdf\n",
      "MAIACAAOT.h00v01.20141781200.hdf\n",
      "MAIACAAOT.h00v01.20141781340.hdf\n",
      "MAIACAAOT.h00v01.20141781520.hdf\n",
      "MAIACAAOT.h00v01.20141791245.hdf\n",
      "MAIACAAOT.h00v01.20141791425.hdf\n",
      "MAIACAAOT.h00v01.20141801150.hdf\n",
      "MAIACAAOT.h00v01.20141801330.hdf\n",
      "MAIACAAOT.h00v01.20141801505.hdf\n",
      "MAIACAAOT.h00v01.20141811235.hdf\n",
      "MAIACAAOT.h00v01.20141811410.hdf\n",
      "MAIACAAOT.h00v01.20141811550.hdf\n",
      "\n"
     ]
    }
   ],
   "source": [
    "with open (r'D:\\Annies_Dissertation\\MAIAC_Test\\AOT_filenames.txt', 'r') as myfile:\n",
    "    filenames=myfile.read()\n",
    "\n",
    "print(filenames)"
   ]
  },
  {
   "cell_type": "code",
   "execution_count": 31,
   "metadata": {
    "collapsed": false
   },
   "outputs": [],
   "source": [
    "def geoloc(fname):\n",
    "    with open(r'D:\\Annies_Dissertation\\MAIAC_Test\\test_geoloc_4.vrt', 'w') as myfile:\n",
    "        myfile.write(xml.format(fname=filenames))"
   ]
  },
  {
   "cell_type": "code",
   "execution_count": 32,
   "metadata": {
    "collapsed": true
   },
   "outputs": [],
   "source": [
    "def warp(fname):\n",
    "   (gdal.Warp(r'D:\\Annies_Dissertation\\MAIAC_Test\\proj_{fname}.tif', r'D:\\Annies_Dissertation\\MAIAC_Test\\geoloc.vrt', geoloc = True, srcSRS = 'EPSG:4326', dstSRS = 'EPSG:27700')) "
   ]
  },
  {
   "cell_type": "code",
   "execution_count": 33,
   "metadata": {
    "collapsed": false
   },
   "outputs": [
    {
     "ename": "NameError",
     "evalue": "name 'fname' is not defined",
     "output_type": "error",
     "traceback": [
      "\u001b[1;31m---------------------------------------------------------------------------\u001b[0m",
      "\u001b[1;31mNameError\u001b[0m                                 Traceback (most recent call last)",
      "\u001b[1;32m<ipython-input-33-e773a231c291>\u001b[0m in \u001b[0;36m<module>\u001b[1;34m()\u001b[0m\n\u001b[0;32m      1\u001b[0m \u001b[1;32mfor\u001b[0m \u001b[0mf\u001b[0m \u001b[1;32min\u001b[0m \u001b[0mfilenames\u001b[0m\u001b[1;33m:\u001b[0m\u001b[1;33m\u001b[0m\u001b[0m\n\u001b[1;32m----> 2\u001b[1;33m     \u001b[0mgeoloc\u001b[0m\u001b[1;33m(\u001b[0m\u001b[0mfname\u001b[0m\u001b[1;33m)\u001b[0m\u001b[1;33m\u001b[0m\u001b[0m\n\u001b[0m\u001b[0;32m      3\u001b[0m     \u001b[0mwarp\u001b[0m\u001b[1;33m(\u001b[0m\u001b[0mfname\u001b[0m\u001b[1;33m)\u001b[0m\u001b[1;33m\u001b[0m\u001b[0m\n",
      "\u001b[1;31mNameError\u001b[0m: name 'fname' is not defined"
     ]
    }
   ],
   "source": [
    "for f in filenames:\n",
    "    geoloc(fname)\n",
    "    warp(fname)"
   ]
  },
  {
   "cell_type": "markdown",
   "metadata": {},
   "source": [
    "# Stuff that i've tried/ doesn't work and needs deleting at somepoint..."
   ]
  },
  {
   "cell_type": "code",
   "execution_count": 12,
   "metadata": {
    "collapsed": false
   },
   "outputs": [
    {
     "name": "stdout",
     "output_type": "stream",
     "text": [
      "Hello Annie\n"
     ]
    }
   ],
   "source": [
    "sayhello('Annie')"
   ]
  },
  {
   "cell_type": "code",
   "execution_count": 1,
   "metadata": {
    "collapsed": true
   },
   "outputs": [],
   "source": [
    "def list_of_files(filename):\n",
    "    with open(r'D:\\Annies_Dissertation\\MAIAC_Test\\test_geoloc_3.vrt', 'w') as myfile:\n",
    "        for name in sorted(glob.glob(r'D:\\Annies_Dissertation\\MAIAC_Test\\2014\\MAIACAAOT*.hdf')):\n",
    "            myfile.write(xml.format(filename=(os.path.basename(name))))\n",
    "    print(myfile.closed)"
   ]
  },
  {
   "cell_type": "code",
   "execution_count": 8,
   "metadata": {
    "collapsed": true
   },
   "outputs": [],
   "source": [
    "s = \"This is a bit of text, and this is a number {filename}!\""
   ]
  },
  {
   "cell_type": "code",
   "execution_count": 25,
   "metadata": {
    "collapsed": true
   },
   "outputs": [],
   "source": [
    "b = 'rob \"hello\" in'"
   ]
  },
  {
   "cell_type": "code",
   "execution_count": 9,
   "metadata": {
    "collapsed": false
   },
   "outputs": [
    {
     "ename": "NameError",
     "evalue": "name 'b' is not defined",
     "output_type": "error",
     "traceback": [
      "\u001b[1;31m---------------------------------------------------------------------------\u001b[0m",
      "\u001b[1;31mNameError\u001b[0m                                 Traceback (most recent call last)",
      "\u001b[1;32m<ipython-input-9-61a020739fe7>\u001b[0m in \u001b[0;36m<module>\u001b[1;34m()\u001b[0m\n\u001b[1;32m----> 1\u001b[1;33m \u001b[0mprint\u001b[0m\u001b[1;33m(\u001b[0m\u001b[0ms\u001b[0m\u001b[1;33m.\u001b[0m\u001b[0mformat\u001b[0m\u001b[1;33m(\u001b[0m\u001b[0mfilename\u001b[0m\u001b[1;33m=\u001b[0m\u001b[0mb\u001b[0m\u001b[1;33m)\u001b[0m\u001b[1;33m)\u001b[0m\u001b[1;33m\u001b[0m\u001b[0m\n\u001b[0m",
      "\u001b[1;31mNameError\u001b[0m: name 'b' is not defined"
     ]
    }
   ],
   "source": [
    "print(s.format(filename=b))"
   ]
  },
  {
   "cell_type": "code",
   "execution_count": 28,
   "metadata": {
    "collapsed": false
   },
   "outputs": [],
   "source": [
    "s = \"\"\"hello\n",
    "Annie\"\"\""
   ]
  },
  {
   "cell_type": "code",
   "execution_count": 29,
   "metadata": {
    "collapsed": false
   },
   "outputs": [
    {
     "name": "stdout",
     "output_type": "stream",
     "text": [
      "hello\n",
      "Annie\n"
     ]
    }
   ],
   "source": [
    "print(s)"
   ]
  },
  {
   "cell_type": "code",
   "execution_count": 3,
   "metadata": {
    "collapsed": false,
    "scrolled": true
   },
   "outputs": [
    {
     "ename": "SyntaxError",
     "evalue": "invalid syntax (<ipython-input-3-d8cb80ef6175>, line 2)",
     "output_type": "error",
     "traceback": [
      "\u001b[1;36m  File \u001b[1;32m\"<ipython-input-3-d8cb80ef6175>\"\u001b[1;36m, line \u001b[1;32m2\u001b[0m\n\u001b[1;33m    geoloc.write( <VRTDataset rasterXSize=\"1200\" rasterYSize=\"1200\">)\u001b[0m\n\u001b[1;37m                  ^\u001b[0m\n\u001b[1;31mSyntaxError\u001b[0m\u001b[1;31m:\u001b[0m invalid syntax\n"
     ]
    }
   ],
   "source": [
    "geoloc = open(\"geoloc.vrt\", 'w')\n",
    "geoloc.write( <VRTDataset rasterXSize=\"1200\" rasterYSize=\"1200\">)\n",
    "geoloc.write(  <Metadata domain=\"GEOLOCATION\">)\n",
    "geoloc.write(     <mdi key=\"X_DATASET\">lon.vrt</mdi>)\n",
    "geoloc.write(     <mdi key=\"X_BAND\">1</mdi>)\n",
    "geoloc.write(     <mdi key=\"Y_DATASET\">lat.vrt</mdi>)\n",
    "geoloc.write(     <mdi key=\"Y_BAND\">1</mdi>)\n",
    "geoloc.write(     <mdi key=\"PIXEL_OFFSET\">0</mdi>)\n",
    "geoloc.write(     <mdi key=\"LINE_OFFSET\">0</mdi>)\n",
    "geoloc.write(     <mdi key=\"PIXEL_STEP\">1</mdi>)\n",
    "geoloc.write(     <mdi key=\"LINE_STEP\">1</mdi>)\n",
    "geoloc.write(  </Metadata>)\n",
    "geoloc.write(  <VRTRasterBand dataType=\"Float32\" band=\"1\">)\n",
    "geoloc.write(    <ColorInterp>Gray</ColorInterp>)\n",
    "geoloc.write(    <SimpleSource>)\n",
    "geoloc.write(      <SourceFilename relativeToVRT=\"0\">HDF4_EOS:EOS_GRID:\"MAIACAAOT.h00v01.20131861320.hdf\":grid1km:Optical_Depth_Land</SourceFilename>)\n",
    "geoloc.write(      <SourceBand>1</SourceBand>)\n",
    "geoloc.write(      <SourceProperties RasterXSize=\"1200\" RasterYSize=\"1200\" DataType=\"Float32\" BlockXSize=\"1200\" BlockYSize=\"1200\" />)\n",
    "geoloc.write(      <SrcRect xOff=\"0\" yOff=\"0\" xSize=\"1200\" ySize=\"1200\" />)\n",
    "geoloc.write(      <DstRect xOff=\"0\" yOff=\"0\" xSize=\"1200\" ySize=\"1200\" />)\n",
    "geoloc.write(    </SimpleSource>)\n",
    "geoloc.write(   </VRTRasterBand>)\n",
    "geoloc.write( </VRTDataset>)\n",
    "\n",
    "geoloc.close()"
   ]
  },
  {
   "cell_type": "code",
   "execution_count": 8,
   "metadata": {
    "collapsed": false
   },
   "outputs": [
    {
     "name": "stdout",
     "output_type": "stream",
     "text": [
      "True\n"
     ]
    }
   ],
   "source": [
    "with open(r\"D:\\Annies_Dissertation\\MAIAC_Test\\test_geoloc.vrt\", 'w') as myfile:\n",
    "    myfile.write(xml.format(filename='MAIACAAOT.h00v01.20140011255.hdf'))\n",
    "print(myfile.closed)"
   ]
  }
 ],
 "metadata": {
  "kernelspec": {
   "display_name": "Python 3",
   "language": "python",
   "name": "python3"
  },
  "language_info": {
   "codemirror_mode": {
    "name": "ipython",
    "version": 3
   },
   "file_extension": ".py",
   "mimetype": "text/x-python",
   "name": "python",
   "nbconvert_exporter": "python",
   "pygments_lexer": "ipython3",
   "version": "3.5.1"
  }
 },
 "nbformat": 4,
 "nbformat_minor": 0
}
