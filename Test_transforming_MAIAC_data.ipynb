{
 "cells": [
  {
   "cell_type": "markdown",
   "metadata": {},
   "source": [
    "# Import relevant libraries"
   ]
  },
  {
   "cell_type": "code",
   "execution_count": 10,
   "metadata": {
    "collapsed": false
   },
   "outputs": [],
   "source": [
    "import os\n",
    "import gdal\n",
    "import glob"
   ]
  },
  {
   "cell_type": "markdown",
   "metadata": {},
   "source": [
    "# Translate Lat and Lon files\n",
    "- Find out information about the lat lon file\n",
    "- Using the gdal_translate tool translate the lat and lon hdr files into vrt format"
   ]
  },
  {
   "cell_type": "code",
   "execution_count": 2,
   "metadata": {
    "collapsed": false
   },
   "outputs": [
    {
     "name": "stdout",
     "output_type": "stream",
     "text": [
      "Driver: HDF4/Hierarchical Data Format Release 4\n",
      "Files: D:\\Annies_Dissertation\\MAIAC_Test\\MAIACLatlon.h00v01.hdf\n",
      "Size is 512, 512\n",
      "Coordinate System is `'\n",
      "Metadata:\n",
      "  HDFEOSVersion=HDFEOS_V2.12\n",
      "Subdatasets:\n",
      "  SUBDATASET_1_NAME=HDF4_EOS:EOS_GRID:\"D:\\Annies_Dissertation\\MAIAC_Test\\MAIACLatlon.h00v01.hdf\":latlon:lat\n",
      "  SUBDATASET_1_DESC=[1200x1200] lat latlon (32-bit floating-point)\n",
      "  SUBDATASET_2_NAME=HDF4_EOS:EOS_GRID:\"D:\\Annies_Dissertation\\MAIAC_Test\\MAIACLatlon.h00v01.hdf\":latlon:lon\n",
      "  SUBDATASET_2_DESC=[1200x1200] lon latlon (32-bit floating-point)\n",
      "Corner Coordinates:\n",
      "Upper Left  (    0.0,    0.0)\n",
      "Lower Left  (    0.0,  512.0)\n",
      "Upper Right (  512.0,    0.0)\n",
      "Lower Right (  512.0,  512.0)\n",
      "Center      (  256.0,  256.0)\n",
      "\n"
     ]
    }
   ],
   "source": [
    "latlon_info = gdal.Info(r'D:\\Annies_Dissertation\\MAIAC_Test\\MAIACLatlon.h00v01.hdf')\n",
    "print(latlon_info)"
   ]
  },
  {
   "cell_type": "code",
   "execution_count": 3,
   "metadata": {
    "collapsed": false
   },
   "outputs": [
    {
     "data": {
      "text/plain": [
       "<osgeo.gdal.Dataset; proxy of <Swig Object of type 'GDALDatasetShadow *' at 0x0000008247F81540> >"
      ]
     },
     "execution_count": 3,
     "metadata": {},
     "output_type": "execute_result"
    }
   ],
   "source": [
    "gdal.Translate(\"h00v01_lat.vrt\", r'HDF4_EOS:EOS_GRID:\"D:\\Annies_Dissertation\\MAIAC_Test\\MAIACLatlon.h00v01.hdf\":latlon:lat', format = 'VRT' )"
   ]
  },
  {
   "cell_type": "code",
   "execution_count": 4,
   "metadata": {
    "collapsed": false
   },
   "outputs": [
    {
     "data": {
      "text/plain": [
       "<osgeo.gdal.Dataset; proxy of <Swig Object of type 'GDALDatasetShadow *' at 0x0000008247F81480> >"
      ]
     },
     "execution_count": 4,
     "metadata": {},
     "output_type": "execute_result"
    }
   ],
   "source": [
    "gdal.Translate(\"h00v01_lon.vrt\", r'HDF4_EOS:EOS_GRID:\"D:\\Annies_Dissertation\\MAIAC_Test\\MAIACLatlon.h00v01.hdf\":latlon:lon', format = 'VRT' )"
   ]
  },
  {
   "cell_type": "markdown",
   "metadata": {},
   "source": [
    "# Warp the AOT images\n",
    "- get a list of names of HDF files\n",
    "- for each file name in list write data.vrt (change file name in data.vrt for each of the files)\n",
    "    - use os.system or os.path to write a 'data.vrt' text file in xml language \n",
    "    - open(\"data.vrt\")\n",
    "- run gdal_warp and rename projected*.tif"
   ]
  },
  {
   "cell_type": "markdown",
   "metadata": {},
   "source": [
    "# Warping the image"
   ]
  },
  {
   "cell_type": "markdown",
   "metadata": {},
   "source": [
    "Working now! (It was a problem with how Robin set things up!)"
   ]
  },
  {
   "cell_type": "code",
   "execution_count": 1,
   "metadata": {
    "collapsed": false
   },
   "outputs": [
    {
     "data": {
      "text/plain": [
       "0"
      ]
     },
     "execution_count": 1,
     "metadata": {},
     "output_type": "execute_result"
    }
   ],
   "source": [
    "import os\n",
    "os.system('gdalwarp geoloc.vrt test.tif -geoloc -s_srs \"EPSG:4326\" -t_srs \"EPSG:27700\"')"
   ]
  },
  {
   "cell_type": "markdown",
   "metadata": {},
   "source": [
    "Working!"
   ]
  },
  {
   "cell_type": "code",
   "execution_count": 11,
   "metadata": {
    "collapsed": false,
    "scrolled": true
   },
   "outputs": [
    {
     "data": {
      "text/plain": [
       "<osgeo.gdal.Dataset; proxy of <Swig Object of type 'GDALDatasetShadow *' at 0x00000099E9D6AB70> >"
      ]
     },
     "execution_count": 11,
     "metadata": {},
     "output_type": "execute_result"
    }
   ],
   "source": [
    "gdal.Warp('test3.tif', 'geoloc.vrt', geoloc = True, srcSRS = 'EPSG:4326', dstSRS = 'EPSG:27700')"
   ]
  },
  {
   "cell_type": "markdown",
   "metadata": {},
   "source": [
    "# Get a list of files"
   ]
  },
  {
   "cell_type": "code",
   "execution_count": 8,
   "metadata": {
    "collapsed": false
   },
   "outputs": [
    {
     "name": "stdout",
     "output_type": "stream",
     "text": [
      "True\n"
     ]
    }
   ],
   "source": [
    "with open(r'D:\\Annies_Dissertation\\MAIAC_Test\\AOT_filenames.txt', 'w') as myfile:\n",
    "    for filename in sorted(glob.glob(r'D:\\Annies_Dissertation\\MAIAC_Test\\2014\\MAIACAAOT*.hdf')):\n",
    "        myfile.write(os.path.basename(filename)+ '\\n')\n",
    "\n",
    "print(myfile.closed)"
   ]
  },
  {
   "cell_type": "markdown",
   "metadata": {},
   "source": [
    "Old code"
   ]
  },
  {
   "cell_type": "code",
   "execution_count": 5,
   "metadata": {
    "collapsed": false
   },
   "outputs": [
    {
     "name": "stdout",
     "output_type": "stream",
     "text": [
      "False\n"
     ]
    }
   ],
   "source": [
    "import glob\n",
    "myfile = open('list.txt', 'w')\n",
    "for filename in sorted(glob.glob(r'D:\\Annies_Dissertation\\MAIAC_Test\\2014\\MAIACAAOT*.hdf')):\n",
    "    myfile.write(os.path.basename(filename)+ '\\n') \n",
    "print(myfile.closed)\n",
    "myfile.close()"
   ]
  },
  {
   "cell_type": "code",
   "execution_count": 7,
   "metadata": {
    "collapsed": false
   },
   "outputs": [
    {
     "name": "stdout",
     "output_type": "stream",
     "text": [
      "True\n"
     ]
    }
   ],
   "source": [
    "with open('list.txt', 'w') as myfile, open('blah.txt', 'w') as robinfile:\n",
    "    myfile.write('blah')\n",
    "    robinfile.write('test')\n",
    "    \n",
    "print(myfile.closed)"
   ]
  },
  {
   "cell_type": "markdown",
   "metadata": {},
   "source": [
    "# Create data.vrt/ geoloc.vrt"
   ]
  },
  {
   "cell_type": "code",
   "execution_count": 30,
   "metadata": {
    "collapsed": false
   },
   "outputs": [
    {
     "data": {
      "text/plain": [
       "<_io.TextIOWrapper name='geoloc.vrt' mode='r' encoding='cp1252'>"
      ]
     },
     "execution_count": 30,
     "metadata": {},
     "output_type": "execute_result"
    }
   ],
   "source": [
    "open(\"geoloc.vrt\", 'r')"
   ]
  },
  {
   "cell_type": "markdown",
   "metadata": {},
   "source": [
    "# Stuff that i've done and works... but improved..."
   ]
  },
  {
   "cell_type": "code",
   "execution_count": 30,
   "metadata": {
    "collapsed": true
   },
   "outputs": [],
   "source": [
    "xml = \"\"\"<VRTDataset rasterXSize=\"1200\" rasterYSize=\"1200\">\n",
    "  <Metadata domain=\"GEOLOCATION\">\n",
    "     <mdi key=\"X_DATASET\">h00v01_lon.vrt</mdi>\n",
    "     <mdi key=\"X_BAND\">1</mdi>\n",
    "     <mdi key=\"Y_DATASET\">h00v01_lat.vrt</mdi>\n",
    "     <mdi key=\"Y_BAND\">1</mdi>\n",
    "     <mdi key=\"PIXEL_OFFSET\">0</mdi>\n",
    "     <mdi key=\"LINE_OFFSET\">0</mdi>\n",
    "     <mdi key=\"PIXEL_STEP\">1</mdi>\n",
    "     <mdi key=\"LINE_STEP\">1</mdi>\n",
    "  </Metadata>\n",
    "  <VRTRasterBand dataType=\"Float32\" band=\"1\">\n",
    "    <ColorInterp>Gray</ColorInterp>\n",
    "    <SimpleSource>\n",
    "      <SourceFilename relativeToVRT=\"0\">HDF4_EOS:EOS_GRID:\"2014\\MAIACAAOT.h00v01.20140011255.hdf\":grid1km:Optical_Depth_Land</SourceFilename>\n",
    "      <SourceBand>1</SourceBand>\n",
    "      <SourceProperties RasterXSize=\"1200\" RasterYSize=\"1200\" DataType=\"Float32\" BlockXSize=\"1200\" BlockYSize=\"1200\" />\n",
    "      <SrcRect xOff=\"0\" yOff=\"0\" xSize=\"1200\" ySize=\"1200\" />\n",
    "      <DstRect xOff=\"0\" yOff=\"0\" xSize=\"1200\" ySize=\"1200\" />\n",
    "    </SimpleSource>\n",
    "  </VRTRasterBand>\n",
    "</VRTDataset>\n",
    "\"\"\""
   ]
  },
  {
   "cell_type": "code",
   "execution_count": 31,
   "metadata": {
    "collapsed": false
   },
   "outputs": [
    {
     "name": "stdout",
     "output_type": "stream",
     "text": [
      "<VRTDataset rasterXSize=\"1200\" rasterYSize=\"1200\">\n",
      "  <Metadata domain=\"GEOLOCATION\">\n",
      "     <mdi key=\"X_DATASET\">h00v01_lon.vrt</mdi>\n",
      "     <mdi key=\"X_BAND\">1</mdi>\n",
      "     <mdi key=\"Y_DATASET\">h00v01_lat.vrt</mdi>\n",
      "     <mdi key=\"Y_BAND\">1</mdi>\n",
      "     <mdi key=\"PIXEL_OFFSET\">0</mdi>\n",
      "     <mdi key=\"LINE_OFFSET\">0</mdi>\n",
      "     <mdi key=\"PIXEL_STEP\">1</mdi>\n",
      "     <mdi key=\"LINE_STEP\">1</mdi>\n",
      "  </Metadata>\n",
      "  <VRTRasterBand dataType=\"Float32\" band=\"1\">\n",
      "    <ColorInterp>Gray</ColorInterp>\n",
      "    <SimpleSource>\n",
      "      <SourceFilename relativeToVRT=\"0\">HDF4_EOS:EOS_GRID:\"2014\\MAIACAAOT.h00v01.20140011255.hdf\":grid1km:Optical_Depth_Land</SourceFilename>\n",
      "      <SourceBand>1</SourceBand>\n",
      "      <SourceProperties RasterXSize=\"1200\" RasterYSize=\"1200\" DataType=\"Float32\" BlockXSize=\"1200\" BlockYSize=\"1200\" />\n",
      "      <SrcRect xOff=\"0\" yOff=\"0\" xSize=\"1200\" ySize=\"1200\" />\n",
      "      <DstRect xOff=\"0\" yOff=\"0\" xSize=\"1200\" ySize=\"1200\" />\n",
      "    </SimpleSource>\n",
      "  </VRTRasterBand>\n",
      "</VRTDataset>\n",
      "\n"
     ]
    }
   ],
   "source": [
    "print(xml)"
   ]
  },
  {
   "cell_type": "code",
   "execution_count": 3,
   "metadata": {
    "collapsed": true
   },
   "outputs": [],
   "source": [
    "xml = \"\"\"<VRTDataset rasterXSize=\"1200\" rasterYSize=\"1200\">\n",
    "  <Metadata domain=\"GEOLOCATION\">\n",
    "     <mdi key=\"X_DATASET\">h00v01_lon.vrt</mdi>\n",
    "     <mdi key=\"X_BAND\">1</mdi>\n",
    "     <mdi key=\"Y_DATASET\">h00v01_lat.vrt</mdi>\n",
    "     <mdi key=\"Y_BAND\">1</mdi>\n",
    "     <mdi key=\"PIXEL_OFFSET\">0</mdi>\n",
    "     <mdi key=\"LINE_OFFSET\">0</mdi>\n",
    "     <mdi key=\"PIXEL_STEP\">1</mdi>\n",
    "     <mdi key=\"LINE_STEP\">1</mdi>\n",
    "  </Metadata>\n",
    "  <VRTRasterBand dataType=\"Float32\" band=\"1\">\n",
    "    <ColorInterp>Gray</ColorInterp>\n",
    "    <SimpleSource>\n",
    "      <SourceFilename relativeToVRT=\"0\">HDF4_EOS:EOS_GRID:\"2014\\{filename}\":grid1km:Optical_Depth_Land</SourceFilename>\n",
    "      <SourceBand>1</SourceBand>\n",
    "      <SourceProperties RasterXSize=\"1200\" RasterYSize=\"1200\" DataType=\"Float32\" BlockXSize=\"1200\" BlockYSize=\"1200\" />\n",
    "      <SrcRect xOff=\"0\" yOff=\"0\" xSize=\"1200\" ySize=\"1200\" />\n",
    "      <DstRect xOff=\"0\" yOff=\"0\" xSize=\"1200\" ySize=\"1200\" />\n",
    "    </SimpleSource>\n",
    "  </VRTRasterBand>\n",
    "</VRTDataset>\n",
    "\"\"\""
   ]
  },
  {
   "cell_type": "code",
   "execution_count": 22,
   "metadata": {
    "collapsed": false
   },
   "outputs": [
    {
     "name": "stdout",
     "output_type": "stream",
     "text": [
      "True\n"
     ]
    }
   ],
   "source": [
    "with open(r'D:\\Annies_Dissertation\\MAIAC_Test\\test_geoloc_2.vrt', 'w') as myfile:\n",
    "    for name in sorted(glob.glob(r'D:\\Annies_Dissertation\\MAIAC_Test\\2014\\MAIACAAOT*.hdf')):\n",
    "        myfile.write(xml.format(filename=(os.path.basename(name))))\n",
    "\n",
    "print(myfile.closed)"
   ]
  },
  {
   "cell_type": "markdown",
   "metadata": {},
   "source": [
    "files = glob()\n",
    "for filename in files:\n",
    "    write the VRT file\n",
    "    Run GDAL warp"
   ]
  },
  {
   "cell_type": "code",
   "execution_count": 42,
   "metadata": {
    "collapsed": true
   },
   "outputs": [],
   "source": [
    "def sayhello(name, comment=None):\n",
    "    print(\"Hello {name}\".format(name=name))\n",
    "    if comment is not None:\n",
    "        print(comment)"
   ]
  },
  {
   "cell_type": "code",
   "execution_count": 2,
   "metadata": {
    "collapsed": false
   },
   "outputs": [
    {
     "ename": "NameError",
     "evalue": "name 'sayhello' is not defined",
     "output_type": "error",
     "traceback": [
      "\u001b[1;31m---------------------------------------------------------------------------\u001b[0m",
      "\u001b[1;31mNameError\u001b[0m                                 Traceback (most recent call last)",
      "\u001b[1;32m<ipython-input-2-f9fd8eeb1893>\u001b[0m in \u001b[0;36m<module>\u001b[1;34m()\u001b[0m\n\u001b[1;32m----> 1\u001b[1;33m \u001b[0msayhello\u001b[0m\u001b[1;33m(\u001b[0m\u001b[1;34m'Annie'\u001b[0m\u001b[1;33m,\u001b[0m \u001b[0mcomment\u001b[0m\u001b[1;33m)\u001b[0m\u001b[1;33m\u001b[0m\u001b[0m\n\u001b[0m",
      "\u001b[1;31mNameError\u001b[0m: name 'sayhello' is not defined"
     ]
    }
   ],
   "source": [
    "sayhello('Annie')"
   ]
  },
  {
   "cell_type": "code",
   "execution_count": null,
   "metadata": {
    "collapsed": true
   },
   "outputs": [],
   "source": [
    "def list_of_files(filename):\n",
    "    "
   ]
  },
  {
   "cell_type": "markdown",
   "metadata": {},
   "source": [
    "# Stuff that i've tried/ doesn't work and needs deleting at somepoint..."
   ]
  },
  {
   "cell_type": "code",
   "execution_count": 22,
   "metadata": {
    "collapsed": true
   },
   "outputs": [],
   "source": [
    "s = \"This is a bit of text, and this is a number {filename}!\""
   ]
  },
  {
   "cell_type": "code",
   "execution_count": 25,
   "metadata": {
    "collapsed": true
   },
   "outputs": [],
   "source": [
    "b = 'rob \"hello\" in'"
   ]
  },
  {
   "cell_type": "code",
   "execution_count": 26,
   "metadata": {
    "collapsed": false
   },
   "outputs": [
    {
     "name": "stdout",
     "output_type": "stream",
     "text": [
      "This is a bit of text, and this is a number rob \"hello\" in!\n"
     ]
    }
   ],
   "source": [
    "print(s.format(filename=b))"
   ]
  },
  {
   "cell_type": "code",
   "execution_count": 28,
   "metadata": {
    "collapsed": false
   },
   "outputs": [],
   "source": [
    "s = \"\"\"hello\n",
    "Annie\"\"\""
   ]
  },
  {
   "cell_type": "code",
   "execution_count": 29,
   "metadata": {
    "collapsed": false
   },
   "outputs": [
    {
     "name": "stdout",
     "output_type": "stream",
     "text": [
      "hello\n",
      "Annie\n"
     ]
    }
   ],
   "source": [
    "print(s)"
   ]
  },
  {
   "cell_type": "code",
   "execution_count": 3,
   "metadata": {
    "collapsed": false,
    "scrolled": true
   },
   "outputs": [
    {
     "ename": "SyntaxError",
     "evalue": "invalid syntax (<ipython-input-3-d8cb80ef6175>, line 2)",
     "output_type": "error",
     "traceback": [
      "\u001b[1;36m  File \u001b[1;32m\"<ipython-input-3-d8cb80ef6175>\"\u001b[1;36m, line \u001b[1;32m2\u001b[0m\n\u001b[1;33m    geoloc.write( <VRTDataset rasterXSize=\"1200\" rasterYSize=\"1200\">)\u001b[0m\n\u001b[1;37m                  ^\u001b[0m\n\u001b[1;31mSyntaxError\u001b[0m\u001b[1;31m:\u001b[0m invalid syntax\n"
     ]
    }
   ],
   "source": [
    "geoloc = open(\"geoloc.vrt\", 'w')\n",
    "geoloc.write( <VRTDataset rasterXSize=\"1200\" rasterYSize=\"1200\">)\n",
    "geoloc.write(  <Metadata domain=\"GEOLOCATION\">)\n",
    "geoloc.write(     <mdi key=\"X_DATASET\">lon.vrt</mdi>)\n",
    "geoloc.write(     <mdi key=\"X_BAND\">1</mdi>)\n",
    "geoloc.write(     <mdi key=\"Y_DATASET\">lat.vrt</mdi>)\n",
    "geoloc.write(     <mdi key=\"Y_BAND\">1</mdi>)\n",
    "geoloc.write(     <mdi key=\"PIXEL_OFFSET\">0</mdi>)\n",
    "geoloc.write(     <mdi key=\"LINE_OFFSET\">0</mdi>)\n",
    "geoloc.write(     <mdi key=\"PIXEL_STEP\">1</mdi>)\n",
    "geoloc.write(     <mdi key=\"LINE_STEP\">1</mdi>)\n",
    "geoloc.write(  </Metadata>)\n",
    "geoloc.write(  <VRTRasterBand dataType=\"Float32\" band=\"1\">)\n",
    "geoloc.write(    <ColorInterp>Gray</ColorInterp>)\n",
    "geoloc.write(    <SimpleSource>)\n",
    "geoloc.write(      <SourceFilename relativeToVRT=\"0\">HDF4_EOS:EOS_GRID:\"MAIACAAOT.h00v01.20131861320.hdf\":grid1km:Optical_Depth_Land</SourceFilename>)\n",
    "geoloc.write(      <SourceBand>1</SourceBand>)\n",
    "geoloc.write(      <SourceProperties RasterXSize=\"1200\" RasterYSize=\"1200\" DataType=\"Float32\" BlockXSize=\"1200\" BlockYSize=\"1200\" />)\n",
    "geoloc.write(      <SrcRect xOff=\"0\" yOff=\"0\" xSize=\"1200\" ySize=\"1200\" />)\n",
    "geoloc.write(      <DstRect xOff=\"0\" yOff=\"0\" xSize=\"1200\" ySize=\"1200\" />)\n",
    "geoloc.write(    </SimpleSource>)\n",
    "geoloc.write(   </VRTRasterBand>)\n",
    "geoloc.write( </VRTDataset>)\n",
    "\n",
    "geoloc.close()"
   ]
  },
  {
   "cell_type": "code",
   "execution_count": 8,
   "metadata": {
    "collapsed": false
   },
   "outputs": [
    {
     "name": "stdout",
     "output_type": "stream",
     "text": [
      "True\n"
     ]
    }
   ],
   "source": [
    "with open(r\"D:\\Annies_Dissertation\\MAIAC_Test\\test_geoloc.vrt\", 'w') as myfile:\n",
    "    myfile.write(xml.format(filename='MAIACAAOT.h00v01.20140011255.hdf'))\n",
    "print(myfile.closed)"
   ]
  }
 ],
 "metadata": {
  "kernelspec": {
   "display_name": "Python 3",
   "language": "python",
   "name": "python3"
  },
  "language_info": {
   "codemirror_mode": {
    "name": "ipython",
    "version": 3
   },
   "file_extension": ".py",
   "mimetype": "text/x-python",
   "name": "python",
   "nbconvert_exporter": "python",
   "pygments_lexer": "ipython3",
   "version": "3.5.1"
  }
 },
 "nbformat": 4,
 "nbformat_minor": 0
}
