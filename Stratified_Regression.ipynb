{
 "cells": [
  {
   "cell_type": "code",
   "execution_count": 2,
   "metadata": {
    "collapsed": true
   },
   "outputs": [],
   "source": [
    "import numpy as np\n",
    "import pandas as pd\n",
    "from statsmodels.formula.api import ols\n",
    "%matplotlib inline\n",
    "import matplotlib.pyplot as plt\n",
    "import seaborn as sns"
   ]
  },
  {
   "cell_type": "markdown",
   "metadata": {},
   "source": [
    "# Read in data:\n",
    "- Monthly HES data for Circulatory and Respiratory disease for LSOA's\n",
    "- MAIAC mean monthly PM2.5 estimates for LSOA's\n",
    "\n",
    "## Merge the data based on year, month and LSOA"
   ]
  },
  {
   "cell_type": "code",
   "execution_count": 3,
   "metadata": {
    "collapsed": true
   },
   "outputs": [],
   "source": [
    "Circulatory_monthly = pd.read_csv(r'D:\\Annies_Dissertation\\Analysis\\Regression\\HES\\AllCirculatory_monthly_all.csv')"
   ]
  },
  {
   "cell_type": "code",
   "execution_count": 4,
   "metadata": {
    "collapsed": true
   },
   "outputs": [],
   "source": [
    "Circulatory_monthly = Circulatory_monthly[['Disease', 'year', 'month', 'n', 'DSR', 'lcl', 'ucl', 'score', 'rank', 'decile', 'lsoa11']]"
   ]
  },
  {
   "cell_type": "code",
   "execution_count": 5,
   "metadata": {
    "collapsed": true
   },
   "outputs": [],
   "source": [
    "Respiratory_monthly = pd.read_csv(r'D:\\Annies_Dissertation\\Analysis\\Regression\\HES\\AllRespiratory_monthly_all.csv')"
   ]
  },
  {
   "cell_type": "code",
   "execution_count": 6,
   "metadata": {
    "collapsed": true
   },
   "outputs": [],
   "source": [
    "Respiratory_monthly = Respiratory_monthly[['Disease', 'year', 'month', 'n', 'DSR', 'lcl', 'ucl', 'score', 'rank', 'decile', 'lsoa11']]"
   ]
  },
  {
   "cell_type": "code",
   "execution_count": 7,
   "metadata": {
    "collapsed": true
   },
   "outputs": [],
   "source": [
    "AP_Monthly = pd.read_csv(r'D:\\Annies_Dissertation\\Analysis\\Regression\\Monthly_PM25_LSOA.csv')"
   ]
  },
  {
   "cell_type": "code",
   "execution_count": 8,
   "metadata": {
    "collapsed": true
   },
   "outputs": [],
   "source": [
    "AP_Monthly = AP_Monthly.rename(columns={'LSOA':'lsoa11', 'value':'PM25'})"
   ]
  },
  {
   "cell_type": "code",
   "execution_count": 9,
   "metadata": {
    "collapsed": true
   },
   "outputs": [],
   "source": [
    "AP_Monthly = AP_Monthly[['time', 'lsoa11', 'PM25', 'month', 'year']].dropna()"
   ]
  },
  {
   "cell_type": "code",
   "execution_count": 10,
   "metadata": {
    "collapsed": true
   },
   "outputs": [],
   "source": [
    "Circ_AP = pd.merge(Circulatory_monthly, AP_Monthly, on=['year', 'month','lsoa11'], how='inner')"
   ]
  },
  {
   "cell_type": "code",
   "execution_count": 11,
   "metadata": {
    "collapsed": true
   },
   "outputs": [],
   "source": [
    "Resp_AP = pd.merge(Respiratory_monthly, AP_Monthly, on=['year', 'month','lsoa11'], how='inner')"
   ]
  },
  {
   "cell_type": "code",
   "execution_count": 12,
   "metadata": {
    "collapsed": false
   },
   "outputs": [
    {
     "data": {
      "text/html": [
       "<div>\n",
       "<table border=\"1\" class=\"dataframe\">\n",
       "  <thead>\n",
       "    <tr style=\"text-align: right;\">\n",
       "      <th></th>\n",
       "      <th>Disease</th>\n",
       "      <th>year</th>\n",
       "      <th>month</th>\n",
       "      <th>n</th>\n",
       "      <th>DSR</th>\n",
       "      <th>lcl</th>\n",
       "      <th>ucl</th>\n",
       "      <th>score</th>\n",
       "      <th>rank</th>\n",
       "      <th>decile</th>\n",
       "      <th>lsoa11</th>\n",
       "      <th>time</th>\n",
       "      <th>PM25</th>\n",
       "    </tr>\n",
       "  </thead>\n",
       "  <tbody>\n",
       "    <tr>\n",
       "      <th>0</th>\n",
       "      <td>All Circulatory</td>\n",
       "      <td>2009</td>\n",
       "      <td>1</td>\n",
       "      <td>NaN</td>\n",
       "      <td>69.247604</td>\n",
       "      <td>8.247776</td>\n",
       "      <td>250.557617</td>\n",
       "      <td>11.430000</td>\n",
       "      <td>22492</td>\n",
       "      <td>7</td>\n",
       "      <td>E01015272</td>\n",
       "      <td>2009-01-31</td>\n",
       "      <td>11.609479</td>\n",
       "    </tr>\n",
       "    <tr>\n",
       "      <th>1</th>\n",
       "      <td>All Circulatory</td>\n",
       "      <td>2009</td>\n",
       "      <td>1</td>\n",
       "      <td>NaN</td>\n",
       "      <td>147.841522</td>\n",
       "      <td>3.743035</td>\n",
       "      <td>823.720154</td>\n",
       "      <td>33.619999</td>\n",
       "      <td>6665</td>\n",
       "      <td>3</td>\n",
       "      <td>E01015273</td>\n",
       "      <td>2009-01-31</td>\n",
       "      <td>11.410336</td>\n",
       "    </tr>\n",
       "    <tr>\n",
       "      <th>2</th>\n",
       "      <td>All Circulatory</td>\n",
       "      <td>2009</td>\n",
       "      <td>1</td>\n",
       "      <td>NaN</td>\n",
       "      <td>187.446503</td>\n",
       "      <td>38.159660</td>\n",
       "      <td>549.000244</td>\n",
       "      <td>20.290001</td>\n",
       "      <td>13991</td>\n",
       "      <td>5</td>\n",
       "      <td>E01015274</td>\n",
       "      <td>2009-01-31</td>\n",
       "      <td>11.650494</td>\n",
       "    </tr>\n",
       "    <tr>\n",
       "      <th>3</th>\n",
       "      <td>All Circulatory</td>\n",
       "      <td>2009</td>\n",
       "      <td>1</td>\n",
       "      <td>NaN</td>\n",
       "      <td>309.000488</td>\n",
       "      <td>59.781487</td>\n",
       "      <td>912.577209</td>\n",
       "      <td>19.780001</td>\n",
       "      <td>14447</td>\n",
       "      <td>5</td>\n",
       "      <td>E01015275</td>\n",
       "      <td>2009-01-31</td>\n",
       "      <td>11.682238</td>\n",
       "    </tr>\n",
       "    <tr>\n",
       "      <th>4</th>\n",
       "      <td>All Circulatory</td>\n",
       "      <td>2009</td>\n",
       "      <td>1</td>\n",
       "      <td>NaN</td>\n",
       "      <td>162.742996</td>\n",
       "      <td>15.881656</td>\n",
       "      <td>599.259460</td>\n",
       "      <td>26.400000</td>\n",
       "      <td>10063</td>\n",
       "      <td>4</td>\n",
       "      <td>E01015276</td>\n",
       "      <td>2009-01-31</td>\n",
       "      <td>11.347145</td>\n",
       "    </tr>\n",
       "  </tbody>\n",
       "</table>\n",
       "</div>"
      ],
      "text/plain": [
       "           Disease  year  month   n         DSR        lcl         ucl  \\\n",
       "0  All Circulatory  2009      1 NaN   69.247604   8.247776  250.557617   \n",
       "1  All Circulatory  2009      1 NaN  147.841522   3.743035  823.720154   \n",
       "2  All Circulatory  2009      1 NaN  187.446503  38.159660  549.000244   \n",
       "3  All Circulatory  2009      1 NaN  309.000488  59.781487  912.577209   \n",
       "4  All Circulatory  2009      1 NaN  162.742996  15.881656  599.259460   \n",
       "\n",
       "       score   rank  decile     lsoa11        time       PM25  \n",
       "0  11.430000  22492       7  E01015272  2009-01-31  11.609479  \n",
       "1  33.619999   6665       3  E01015273  2009-01-31  11.410336  \n",
       "2  20.290001  13991       5  E01015274  2009-01-31  11.650494  \n",
       "3  19.780001  14447       5  E01015275  2009-01-31  11.682238  \n",
       "4  26.400000  10063       4  E01015276  2009-01-31  11.347145  "
      ]
     },
     "execution_count": 12,
     "metadata": {},
     "output_type": "execute_result"
    }
   ],
   "source": [
    "Circ_AP[:5]"
   ]
  },
  {
   "cell_type": "markdown",
   "metadata": {},
   "source": [
    "## Stratify Deprivation Score"
   ]
  },
  {
   "cell_type": "code",
   "execution_count": 13,
   "metadata": {
    "collapsed": false
   },
   "outputs": [
    {
     "data": {
      "text/plain": [
       "<matplotlib.axes._subplots.AxesSubplot at 0x983ea2a8d0>"
      ]
     },
     "execution_count": 13,
     "metadata": {},
     "output_type": "execute_result"
    },
    {
     "data": {
      "image/png": "[encoded data removed]",
      "text/plain": [
       "<matplotlib.figure.Figure at 0x983e61f400>"
      ]
     },
     "metadata": {},
     "output_type": "display_data"
    }
   ],
   "source": [
    "Circ_AP.score.hist()"
   ]
  },
  {
   "cell_type": "code",
   "execution_count": 15,
   "metadata": {
    "collapsed": false
   },
   "outputs": [
    {
     "data": {
      "text/plain": [
       "count    89376.000000\n",
       "mean        16.190630\n",
       "std         12.050107\n",
       "min          0.580000\n",
       "25%          7.250000\n",
       "50%         13.090000\n",
       "75%         21.770000\n",
       "max         78.129997\n",
       "Name: score, dtype: float64"
      ]
     },
     "execution_count": 15,
     "metadata": {},
     "output_type": "execute_result"
    }
   ],
   "source": [
    "Circ_AP.score.describe()"
   ]
  },
  {
   "cell_type": "code",
   "execution_count": 26,
   "metadata": {
    "collapsed": false
   },
   "outputs": [],
   "source": [
    "Circ_AP['Depr_cat'] = pd.cut(Circ_AP.score, [0,7,13,22,100])"
   ]
  },
  {
   "cell_type": "code",
   "execution_count": 27,
   "metadata": {
    "collapsed": false
   },
   "outputs": [
    {
     "data": {
      "text/html": [
       "<div>\n",
       "<table border=\"1\" class=\"dataframe\">\n",
       "  <thead>\n",
       "    <tr style=\"text-align: right;\">\n",
       "      <th></th>\n",
       "      <th>Disease</th>\n",
       "      <th>year</th>\n",
       "      <th>month</th>\n",
       "      <th>n</th>\n",
       "      <th>DSR</th>\n",
       "      <th>lcl</th>\n",
       "      <th>ucl</th>\n",
       "      <th>score</th>\n",
       "      <th>rank</th>\n",
       "      <th>decile</th>\n",
       "      <th>lsoa11</th>\n",
       "      <th>time</th>\n",
       "      <th>PM25</th>\n",
       "      <th>Depr_cat</th>\n",
       "    </tr>\n",
       "  </thead>\n",
       "  <tbody>\n",
       "    <tr>\n",
       "      <th>0</th>\n",
       "      <td>All Circulatory</td>\n",
       "      <td>2009</td>\n",
       "      <td>1</td>\n",
       "      <td>NaN</td>\n",
       "      <td>69.247604</td>\n",
       "      <td>8.247776</td>\n",
       "      <td>250.557617</td>\n",
       "      <td>11.430000</td>\n",
       "      <td>22492</td>\n",
       "      <td>7</td>\n",
       "      <td>E01015272</td>\n",
       "      <td>2009-01-31</td>\n",
       "      <td>11.609479</td>\n",
       "      <td>(7, 13]</td>\n",
       "    </tr>\n",
       "    <tr>\n",
       "      <th>1</th>\n",
       "      <td>All Circulatory</td>\n",
       "      <td>2009</td>\n",
       "      <td>1</td>\n",
       "      <td>NaN</td>\n",
       "      <td>147.841522</td>\n",
       "      <td>3.743035</td>\n",
       "      <td>823.720154</td>\n",
       "      <td>33.619999</td>\n",
       "      <td>6665</td>\n",
       "      <td>3</td>\n",
       "      <td>E01015273</td>\n",
       "      <td>2009-01-31</td>\n",
       "      <td>11.410336</td>\n",
       "      <td>(22, 100]</td>\n",
       "    </tr>\n",
       "    <tr>\n",
       "      <th>2</th>\n",
       "      <td>All Circulatory</td>\n",
       "      <td>2009</td>\n",
       "      <td>1</td>\n",
       "      <td>NaN</td>\n",
       "      <td>187.446503</td>\n",
       "      <td>38.159660</td>\n",
       "      <td>549.000244</td>\n",
       "      <td>20.290001</td>\n",
       "      <td>13991</td>\n",
       "      <td>5</td>\n",
       "      <td>E01015274</td>\n",
       "      <td>2009-01-31</td>\n",
       "      <td>11.650494</td>\n",
       "      <td>(13, 22]</td>\n",
       "    </tr>\n",
       "    <tr>\n",
       "      <th>3</th>\n",
       "      <td>All Circulatory</td>\n",
       "      <td>2009</td>\n",
       "      <td>1</td>\n",
       "      <td>NaN</td>\n",
       "      <td>309.000488</td>\n",
       "      <td>59.781487</td>\n",
       "      <td>912.577209</td>\n",
       "      <td>19.780001</td>\n",
       "      <td>14447</td>\n",
       "      <td>5</td>\n",
       "      <td>E01015275</td>\n",
       "      <td>2009-01-31</td>\n",
       "      <td>11.682238</td>\n",
       "      <td>(13, 22]</td>\n",
       "    </tr>\n",
       "    <tr>\n",
       "      <th>4</th>\n",
       "      <td>All Circulatory</td>\n",
       "      <td>2009</td>\n",
       "      <td>1</td>\n",
       "      <td>NaN</td>\n",
       "      <td>162.742996</td>\n",
       "      <td>15.881656</td>\n",
       "      <td>599.259460</td>\n",
       "      <td>26.400000</td>\n",
       "      <td>10063</td>\n",
       "      <td>4</td>\n",
       "      <td>E01015276</td>\n",
       "      <td>2009-01-31</td>\n",
       "      <td>11.347145</td>\n",
       "      <td>(22, 100]</td>\n",
       "    </tr>\n",
       "  </tbody>\n",
       "</table>\n",
       "</div>"
      ],
      "text/plain": [
       "           Disease  year  month   n         DSR        lcl         ucl  \\\n",
       "0  All Circulatory  2009      1 NaN   69.247604   8.247776  250.557617   \n",
       "1  All Circulatory  2009      1 NaN  147.841522   3.743035  823.720154   \n",
       "2  All Circulatory  2009      1 NaN  187.446503  38.159660  549.000244   \n",
       "3  All Circulatory  2009      1 NaN  309.000488  59.781487  912.577209   \n",
       "4  All Circulatory  2009      1 NaN  162.742996  15.881656  599.259460   \n",
       "\n",
       "       score   rank  decile     lsoa11        time       PM25   Depr_cat  \n",
       "0  11.430000  22492       7  E01015272  2009-01-31  11.609479    (7, 13]  \n",
       "1  33.619999   6665       3  E01015273  2009-01-31  11.410336  (22, 100]  \n",
       "2  20.290001  13991       5  E01015274  2009-01-31  11.650494   (13, 22]  \n",
       "3  19.780001  14447       5  E01015275  2009-01-31  11.682238   (13, 22]  \n",
       "4  26.400000  10063       4  E01015276  2009-01-31  11.347145  (22, 100]  "
      ]
     },
     "execution_count": 27,
     "metadata": {},
     "output_type": "execute_result"
    }
   ],
   "source": [
    "Circ_AP[:5]"
   ]
  },
  {
   "cell_type": "code",
   "execution_count": 28,
   "metadata": {
    "collapsed": true
   },
   "outputs": [],
   "source": [
    "def do_regression(df):\n",
    "    # This is just the standard code for doing the regression\n",
    "    model = ols('DSR ~ PM25', data=df).fit()\n",
    "    \n",
    "    # Here we take the 'params' attribute of the model, which contains the values\n",
    "    # for the intercept and the coefficients for each of the inputs.\n",
    "    # We convert it to a dict to make it easier to work with (and so they are labelled\n",
    "    # with which one is which)\n",
    "    results = model.params.to_dict()\n",
    "    \n",
    "    # We then add an extra entry to the dict containing the r2 value\n",
    "    results['r2'] = model.rsquared\n",
    "    \n",
    "    # We then return a 'Series' created from the dict - a Series is basically a column or a row\n",
    "    # of a pandas DataFrame - so here it is a row containing the intercept, the coefficient for 'b'\n",
    "    # and the r2 value\n",
    "    return pd.Series(results)"
   ]
  },
  {
   "cell_type": "code",
   "execution_count": 29,
   "metadata": {
    "collapsed": false
   },
   "outputs": [],
   "source": [
    "res = Circ_AP.groupby('Depr_cat').apply(do_regression)"
   ]
  },
  {
   "cell_type": "code",
   "execution_count": 25,
   "metadata": {
    "collapsed": false
   },
   "outputs": [
    {
     "data": {
      "text/html": [
       "<div>\n",
       "<table border=\"1\" class=\"dataframe\">\n",
       "  <thead>\n",
       "    <tr style=\"text-align: right;\">\n",
       "      <th></th>\n",
       "      <th>Intercept</th>\n",
       "      <th>PM25</th>\n",
       "      <th>r2</th>\n",
       "    </tr>\n",
       "    <tr>\n",
       "      <th>Depr_cat</th>\n",
       "      <th></th>\n",
       "      <th></th>\n",
       "      <th></th>\n",
       "    </tr>\n",
       "  </thead>\n",
       "  <tbody>\n",
       "    <tr>\n",
       "      <th>(0, 13]</th>\n",
       "      <td>172.289236</td>\n",
       "      <td>-0.044078</td>\n",
       "      <td>0.000002</td>\n",
       "    </tr>\n",
       "    <tr>\n",
       "      <th>(13, 100]</th>\n",
       "      <td>201.685900</td>\n",
       "      <td>-0.184737</td>\n",
       "      <td>0.000035</td>\n",
       "    </tr>\n",
       "  </tbody>\n",
       "</table>\n",
       "</div>"
      ],
      "text/plain": [
       "            Intercept      PM25        r2\n",
       "Depr_cat                                 \n",
       "(0, 13]    172.289236 -0.044078  0.000002\n",
       "(13, 100]  201.685900 -0.184737  0.000035"
      ]
     },
     "execution_count": 25,
     "metadata": {},
     "output_type": "execute_result"
    }
   ],
   "source": [
    "res"
   ]
  },
  {
   "cell_type": "code",
   "execution_count": 30,
   "metadata": {
    "collapsed": false
   },
   "outputs": [
    {
     "data": {
      "text/html": [
       "<div>\n",
       "<table border=\"1\" class=\"dataframe\">\n",
       "  <thead>\n",
       "    <tr style=\"text-align: right;\">\n",
       "      <th></th>\n",
       "      <th>Intercept</th>\n",
       "      <th>PM25</th>\n",
       "      <th>r2</th>\n",
       "    </tr>\n",
       "    <tr>\n",
       "      <th>Depr_cat</th>\n",
       "      <th></th>\n",
       "      <th></th>\n",
       "      <th></th>\n",
       "    </tr>\n",
       "  </thead>\n",
       "  <tbody>\n",
       "    <tr>\n",
       "      <th>(0, 7]</th>\n",
       "      <td>170.514203</td>\n",
       "      <td>-0.176952</td>\n",
       "      <td>0.000031</td>\n",
       "    </tr>\n",
       "    <tr>\n",
       "      <th>(7, 13]</th>\n",
       "      <td>174.055465</td>\n",
       "      <td>0.070313</td>\n",
       "      <td>0.000006</td>\n",
       "    </tr>\n",
       "    <tr>\n",
       "      <th>(13, 22]</th>\n",
       "      <td>186.093568</td>\n",
       "      <td>0.030159</td>\n",
       "      <td>0.000001</td>\n",
       "    </tr>\n",
       "    <tr>\n",
       "      <th>(22, 100]</th>\n",
       "      <td>219.744285</td>\n",
       "      <td>-0.518822</td>\n",
       "      <td>0.000230</td>\n",
       "    </tr>\n",
       "  </tbody>\n",
       "</table>\n",
       "</div>"
      ],
      "text/plain": [
       "            Intercept      PM25        r2\n",
       "Depr_cat                                 \n",
       "(0, 7]     170.514203 -0.176952  0.000031\n",
       "(7, 13]    174.055465  0.070313  0.000006\n",
       "(13, 22]   186.093568  0.030159  0.000001\n",
       "(22, 100]  219.744285 -0.518822  0.000230"
      ]
     },
     "execution_count": 30,
     "metadata": {},
     "output_type": "execute_result"
    }
   ],
   "source": [
    "res"
   ]
  },
  {
   "cell_type": "code",
   "execution_count": 31,
   "metadata": {
    "collapsed": false
   },
   "outputs": [
    {
     "data": {
      "text/plain": [
       "count    87048.000000\n",
       "mean        16.950851\n",
       "std         12.480907\n",
       "min          0.580000\n",
       "25%          7.580000\n",
       "50%         13.710000\n",
       "75%         22.910000\n",
       "max         78.129997\n",
       "Name: score, dtype: float64"
      ]
     },
     "execution_count": 31,
     "metadata": {},
     "output_type": "execute_result"
    }
   ],
   "source": [
    "Resp_AP.score.describe()"
   ]
  },
  {
   "cell_type": "code",
   "execution_count": 38,
   "metadata": {
    "collapsed": false
   },
   "outputs": [],
   "source": [
    "Resp_AP['Depr_cat'] = pd.cut(Resp_AP.score, [0,14,80])"
   ]
  },
  {
   "cell_type": "code",
   "execution_count": 39,
   "metadata": {
    "collapsed": true
   },
   "outputs": [],
   "source": [
    "def do_regression(df):\n",
    "    # This is just the standard code for doing the regression\n",
    "    model = ols('DSR ~ PM25', data=df).fit()\n",
    "    \n",
    "    # Here we take the 'params' attribute of the model, which contains the values\n",
    "    # for the intercept and the coefficients for each of the inputs.\n",
    "    # We convert it to a dict to make it easier to work with (and so they are labelled\n",
    "    # with which one is which)\n",
    "    results = model.params.to_dict()\n",
    "    \n",
    "    # We then add an extra entry to the dict containing the r2 value\n",
    "    results['r2'] = model.rsquared\n",
    "    \n",
    "    # We then return a 'Series' created from the dict - a Series is basically a column or a row\n",
    "    # of a pandas DataFrame - so here it is a row containing the intercept, the coefficient for 'b'\n",
    "    # and the r2 value\n",
    "    return pd.Series(results)"
   ]
  },
  {
   "cell_type": "code",
   "execution_count": 40,
   "metadata": {
    "collapsed": true
   },
   "outputs": [],
   "source": [
    "resp_res = Resp_AP.groupby('Depr_cat').apply(do_regression)"
   ]
  },
  {
   "cell_type": "code",
   "execution_count": 29,
   "metadata": {
    "collapsed": false
   },
   "outputs": [
    {
     "data": {
      "text/html": [
       "<div>\n",
       "<table border=\"1\" class=\"dataframe\">\n",
       "  <thead>\n",
       "    <tr style=\"text-align: right;\">\n",
       "      <th></th>\n",
       "      <th>Intercept</th>\n",
       "      <th>PM25</th>\n",
       "      <th>r2</th>\n",
       "    </tr>\n",
       "    <tr>\n",
       "      <th>Depr_cat</th>\n",
       "      <th></th>\n",
       "      <th></th>\n",
       "      <th></th>\n",
       "    </tr>\n",
       "  </thead>\n",
       "  <tbody>\n",
       "    <tr>\n",
       "      <th>(0, 70]</th>\n",
       "      <td>185.49779</td>\n",
       "      <td>-1.82106</td>\n",
       "      <td>0.003705</td>\n",
       "    </tr>\n",
       "    <tr>\n",
       "      <th>(70, 80]</th>\n",
       "      <td>185.49779</td>\n",
       "      <td>-1.82106</td>\n",
       "      <td>0.003705</td>\n",
       "    </tr>\n",
       "  </tbody>\n",
       "</table>\n",
       "</div>"
      ],
      "text/plain": [
       "          Intercept     PM25        r2\n",
       "Depr_cat                              \n",
       "(0, 70]   185.49779 -1.82106  0.003705\n",
       "(70, 80]  185.49779 -1.82106  0.003705"
      ]
     },
     "execution_count": 29,
     "metadata": {},
     "output_type": "execute_result"
    }
   ],
   "source": [
    "resp_res"
   ]
  },
  {
   "cell_type": "code",
   "execution_count": 35,
   "metadata": {
    "collapsed": false
   },
   "outputs": [
    {
     "data": {
      "text/html": [
       "<div>\n",
       "<table border=\"1\" class=\"dataframe\">\n",
       "  <thead>\n",
       "    <tr style=\"text-align: right;\">\n",
       "      <th></th>\n",
       "      <th>Intercept</th>\n",
       "      <th>PM25</th>\n",
       "      <th>r2</th>\n",
       "    </tr>\n",
       "    <tr>\n",
       "      <th>Depr_cat</th>\n",
       "      <th></th>\n",
       "      <th></th>\n",
       "      <th></th>\n",
       "    </tr>\n",
       "  </thead>\n",
       "  <tbody>\n",
       "    <tr>\n",
       "      <th>(0, 7]</th>\n",
       "      <td>157.790513</td>\n",
       "      <td>-1.893149</td>\n",
       "      <td>0.004688</td>\n",
       "    </tr>\n",
       "    <tr>\n",
       "      <th>(7, 14]</th>\n",
       "      <td>164.667974</td>\n",
       "      <td>-1.561485</td>\n",
       "      <td>0.003683</td>\n",
       "    </tr>\n",
       "    <tr>\n",
       "      <th>(14, 23]</th>\n",
       "      <td>186.798074</td>\n",
       "      <td>-2.036577</td>\n",
       "      <td>0.005914</td>\n",
       "    </tr>\n",
       "    <tr>\n",
       "      <th>(23, 80]</th>\n",
       "      <td>249.334762</td>\n",
       "      <td>-3.074460</td>\n",
       "      <td>0.007066</td>\n",
       "    </tr>\n",
       "  </tbody>\n",
       "</table>\n",
       "</div>"
      ],
      "text/plain": [
       "           Intercept      PM25        r2\n",
       "Depr_cat                                \n",
       "(0, 7]    157.790513 -1.893149  0.004688\n",
       "(7, 14]   164.667974 -1.561485  0.003683\n",
       "(14, 23]  186.798074 -2.036577  0.005914\n",
       "(23, 80]  249.334762 -3.074460  0.007066"
      ]
     },
     "execution_count": 35,
     "metadata": {},
     "output_type": "execute_result"
    }
   ],
   "source": [
    "resp_res"
   ]
  },
  {
   "cell_type": "code",
   "execution_count": 41,
   "metadata": {
    "collapsed": false
   },
   "outputs": [
    {
     "data": {
      "text/html": [
       "<div>\n",
       "<table border=\"1\" class=\"dataframe\">\n",
       "  <thead>\n",
       "    <tr style=\"text-align: right;\">\n",
       "      <th></th>\n",
       "      <th>Intercept</th>\n",
       "      <th>PM25</th>\n",
       "      <th>r2</th>\n",
       "    </tr>\n",
       "    <tr>\n",
       "      <th>Depr_cat</th>\n",
       "      <th></th>\n",
       "      <th></th>\n",
       "      <th></th>\n",
       "    </tr>\n",
       "  </thead>\n",
       "  <tbody>\n",
       "    <tr>\n",
       "      <th>(0, 14]</th>\n",
       "      <td>161.363554</td>\n",
       "      <td>-1.686957</td>\n",
       "      <td>0.004013</td>\n",
       "    </tr>\n",
       "    <tr>\n",
       "      <th>(14, 80]</th>\n",
       "      <td>217.336830</td>\n",
       "      <td>-2.479519</td>\n",
       "      <td>0.005870</td>\n",
       "    </tr>\n",
       "  </tbody>\n",
       "</table>\n",
       "</div>"
      ],
      "text/plain": [
       "           Intercept      PM25        r2\n",
       "Depr_cat                                \n",
       "(0, 14]   161.363554 -1.686957  0.004013\n",
       "(14, 80]  217.336830 -2.479519  0.005870"
      ]
     },
     "execution_count": 41,
     "metadata": {},
     "output_type": "execute_result"
    }
   ],
   "source": [
    "resp_res"
   ]
  },
  {
   "cell_type": "markdown",
   "metadata": {},
   "source": [
    "## Yearly"
   ]
  },
  {
   "cell_type": "code",
   "execution_count": 42,
   "metadata": {
    "collapsed": true
   },
   "outputs": [],
   "source": [
    "Circ_Yearly = pd.read_csv(r'D:\\Annies_Dissertation\\Analysis\\Regression\\HES\\AllCirculatory_yearly_all.csv')"
   ]
  },
  {
   "cell_type": "code",
   "execution_count": 43,
   "metadata": {
    "collapsed": true
   },
   "outputs": [],
   "source": [
    "Resp_Yearly = pd.read_csv(r'D:\\Annies_Dissertation\\Analysis\\Regression\\HES\\AllRespiratory_yearly_all.csv')"
   ]
  },
  {
   "cell_type": "code",
   "execution_count": 44,
   "metadata": {
    "collapsed": true
   },
   "outputs": [],
   "source": [
    "AP_Yearly = pd.read_csv('D:\\Annies_Dissertation\\Analysis\\Regression\\Yearly_PM25_LSOA.csv')"
   ]
  },
  {
   "cell_type": "code",
   "execution_count": 45,
   "metadata": {
    "collapsed": true
   },
   "outputs": [],
   "source": [
    "AP_Yearly = AP_Yearly.rename(columns={'LSOA':'lsoa11', 'value':'PM25'})"
   ]
  },
  {
   "cell_type": "code",
   "execution_count": 46,
   "metadata": {
    "collapsed": true
   },
   "outputs": [],
   "source": [
    "AP_Yearly = AP_Yearly[['time', 'lsoa11', 'PM25', 'year']].dropna()"
   ]
  },
  {
   "cell_type": "code",
   "execution_count": 47,
   "metadata": {
    "collapsed": true
   },
   "outputs": [],
   "source": [
    "Circul_AP_Y = pd.merge(Circ_Yearly, AP_Yearly, on=['year','lsoa11'], how='inner')"
   ]
  },
  {
   "cell_type": "code",
   "execution_count": 48,
   "metadata": {
    "collapsed": true
   },
   "outputs": [],
   "source": [
    "Respir_AP_Y = pd.merge(Resp_Yearly, AP_Yearly, on=['year','lsoa11'], how='inner')"
   ]
  },
  {
   "cell_type": "code",
   "execution_count": 49,
   "metadata": {
    "collapsed": false
   },
   "outputs": [
    {
     "data": {
      "text/plain": [
       "<matplotlib.axes._subplots.AxesSubplot at 0x983e932630>"
      ]
     },
     "execution_count": 49,
     "metadata": {},
     "output_type": "execute_result"
    },
    {
     "data": {
      "image/png": "[encoded data removed]",
      "text/plain": [
       "<matplotlib.figure.Figure at 0x983e15b240>"
      ]
     },
     "metadata": {},
     "output_type": "display_data"
    }
   ],
   "source": [
    "Circul_AP_Y.score.hist()"
   ]
  },
  {
   "cell_type": "code",
   "execution_count": 50,
   "metadata": {
    "collapsed": false
   },
   "outputs": [
    {
     "data": {
      "text/plain": [
       "count    8229.000000\n",
       "mean       16.217644\n",
       "std        12.128710\n",
       "min         0.580000\n",
       "25%         7.150000\n",
       "50%        13.080000\n",
       "75%        21.969999\n",
       "max        78.129997\n",
       "Name: score, dtype: float64"
      ]
     },
     "execution_count": 50,
     "metadata": {},
     "output_type": "execute_result"
    }
   ],
   "source": [
    "Circul_AP_Y.score.describe()"
   ]
  },
  {
   "cell_type": "code",
   "execution_count": 51,
   "metadata": {
    "collapsed": false
   },
   "outputs": [],
   "source": [
    "Circul_AP_Y['Depr_cat'] = pd.cut(Circul_AP_Y.score,[0, 13,80])"
   ]
  },
  {
   "cell_type": "code",
   "execution_count": 55,
   "metadata": {
    "collapsed": true
   },
   "outputs": [],
   "source": [
    "def do_regression(df):\n",
    "    # This is just the standard code for doing the regression\n",
    "    model = ols('DSR ~ PM25', data=df).fit()\n",
    "    \n",
    "    # Here we take the 'params' attribute of the model, which contains the values\n",
    "    # for the intercept and the coefficients for each of the inputs.\n",
    "    # We convert it to a dict to make it easier to work with (and so they are labelled\n",
    "    # with which one is which)\n",
    "    results = model.params.to_dict()\n",
    "    \n",
    "    # We then add an extra entry to the dict containing the r2 value\n",
    "    results['r2'] = model.rsquared\n",
    "    \n",
    "    # We then return a 'Series' created from the dict - a Series is basically a column or a row\n",
    "    # of a pandas DataFrame - so here it is a row containing the intercept, the coefficient for 'b'\n",
    "    # and the r2 value\n",
    "    return pd.Series(results)"
   ]
  },
  {
   "cell_type": "code",
   "execution_count": 56,
   "metadata": {
    "collapsed": false
   },
   "outputs": [],
   "source": [
    "res = Circul_AP_Y.groupby('Depr_cat').apply(do_regression)"
   ]
  },
  {
   "cell_type": "code",
   "execution_count": 57,
   "metadata": {
    "collapsed": false
   },
   "outputs": [
    {
     "data": {
      "text/html": [
       "<div>\n",
       "<table border=\"1\" class=\"dataframe\">\n",
       "  <thead>\n",
       "    <tr style=\"text-align: right;\">\n",
       "      <th></th>\n",
       "      <th>Intercept</th>\n",
       "      <th>PM25</th>\n",
       "      <th>r2</th>\n",
       "    </tr>\n",
       "    <tr>\n",
       "      <th>Depr_cat</th>\n",
       "      <th></th>\n",
       "      <th></th>\n",
       "      <th></th>\n",
       "    </tr>\n",
       "  </thead>\n",
       "  <tbody>\n",
       "    <tr>\n",
       "      <th>(0, 13]</th>\n",
       "      <td>1399.882667</td>\n",
       "      <td>23.077880</td>\n",
       "      <td>0.004476</td>\n",
       "    </tr>\n",
       "    <tr>\n",
       "      <th>(13, 80]</th>\n",
       "      <td>1858.004284</td>\n",
       "      <td>8.692204</td>\n",
       "      <td>0.000589</td>\n",
       "    </tr>\n",
       "  </tbody>\n",
       "</table>\n",
       "</div>"
      ],
      "text/plain": [
       "            Intercept       PM25        r2\n",
       "Depr_cat                                  \n",
       "(0, 13]   1399.882667  23.077880  0.004476\n",
       "(13, 80]  1858.004284   8.692204  0.000589"
      ]
     },
     "execution_count": 57,
     "metadata": {},
     "output_type": "execute_result"
    }
   ],
   "source": [
    "res"
   ]
  },
  {
   "cell_type": "code",
   "execution_count": 58,
   "metadata": {
    "collapsed": false
   },
   "outputs": [
    {
     "data": {
      "text/plain": [
       "count    8230.000000\n",
       "mean       16.219216\n",
       "std        12.128813\n",
       "min         0.580000\n",
       "25%         7.150000\n",
       "50%        13.080000\n",
       "75%        21.969999\n",
       "max        78.129997\n",
       "Name: score, dtype: float64"
      ]
     },
     "execution_count": 58,
     "metadata": {},
     "output_type": "execute_result"
    }
   ],
   "source": [
    "Respir_AP_Y.score.describe()"
   ]
  },
  {
   "cell_type": "code",
   "execution_count": null,
   "metadata": {
    "collapsed": true
   },
   "outputs": [],
   "source": []
  },
  {
   "cell_type": "code",
   "execution_count": 59,
   "metadata": {
    "collapsed": true
   },
   "outputs": [],
   "source": [
    "Respir_AP_Y['Depr_cat'] = pd.cut(Respir_AP_Y.score, [0,13,80])"
   ]
  },
  {
   "cell_type": "code",
   "execution_count": 60,
   "metadata": {
    "collapsed": true
   },
   "outputs": [],
   "source": [
    "def do_regression(df):\n",
    "    # This is just the standard code for doing the regression\n",
    "    model = ols('DSR ~ PM25', data=df).fit()\n",
    "    \n",
    "    # Here we take the 'params' attribute of the model, which contains the values\n",
    "    # for the intercept and the coefficients for each of the inputs.\n",
    "    # We convert it to a dict to make it easier to work with (and so they are labelled\n",
    "    # with which one is which)\n",
    "    results = model.params.to_dict()\n",
    "    \n",
    "    # We then add an extra entry to the dict containing the r2 value\n",
    "    results['r2'] = model.rsquared\n",
    "    \n",
    "    # We then return a 'Series' created from the dict - a Series is basically a column or a row\n",
    "    # of a pandas DataFrame - so here it is a row containing the intercept, the coefficient for 'b'\n",
    "    # and the r2 value\n",
    "    return pd.Series(results)"
   ]
  },
  {
   "cell_type": "code",
   "execution_count": 61,
   "metadata": {
    "collapsed": true
   },
   "outputs": [],
   "source": [
    "res = Respir_AP_Y.groupby('Depr_cat').apply(do_regression)"
   ]
  },
  {
   "cell_type": "code",
   "execution_count": 62,
   "metadata": {
    "collapsed": false
   },
   "outputs": [
    {
     "data": {
      "text/html": [
       "<div>\n",
       "<table border=\"1\" class=\"dataframe\">\n",
       "  <thead>\n",
       "    <tr style=\"text-align: right;\">\n",
       "      <th></th>\n",
       "      <th>Intercept</th>\n",
       "      <th>PM25</th>\n",
       "      <th>r2</th>\n",
       "    </tr>\n",
       "    <tr>\n",
       "      <th>Depr_cat</th>\n",
       "      <th></th>\n",
       "      <th></th>\n",
       "      <th></th>\n",
       "    </tr>\n",
       "  </thead>\n",
       "  <tbody>\n",
       "    <tr>\n",
       "      <th>(0, 13]</th>\n",
       "      <td>1267.928994</td>\n",
       "      <td>0.400796</td>\n",
       "      <td>0.000002</td>\n",
       "    </tr>\n",
       "    <tr>\n",
       "      <th>(13, 80]</th>\n",
       "      <td>2008.823418</td>\n",
       "      <td>-12.681800</td>\n",
       "      <td>0.000930</td>\n",
       "    </tr>\n",
       "  </tbody>\n",
       "</table>\n",
       "</div>"
      ],
      "text/plain": [
       "            Intercept       PM25        r2\n",
       "Depr_cat                                  \n",
       "(0, 13]   1267.928994   0.400796  0.000002\n",
       "(13, 80]  2008.823418 -12.681800  0.000930"
      ]
     },
     "execution_count": 62,
     "metadata": {},
     "output_type": "execute_result"
    }
   ],
   "source": [
    "res"
   ]
  },
  {
   "cell_type": "markdown",
   "metadata": {
    "collapsed": true
   },
   "source": [
    "## Stratify by PM2.5"
   ]
  },
  {
   "cell_type": "code",
   "execution_count": 46,
   "metadata": {
    "collapsed": false
   },
   "outputs": [
    {
     "data": {
      "text/plain": [
       "<matplotlib.axes._subplots.AxesSubplot at 0x9cd1567eb8>"
      ]
     },
     "execution_count": 46,
     "metadata": {},
     "output_type": "execute_result"
    },
    {
     "data": {
      "image/png": "[encoded data removed]",
      "text/plain": [
       "<matplotlib.figure.Figure at 0x9cd19d4d68>"
      ]
     },
     "metadata": {},
     "output_type": "display_data"
    }
   ],
   "source": [
    "Circul_AP_Y.PM25.hist()"
   ]
  },
  {
   "cell_type": "code",
   "execution_count": 47,
   "metadata": {
    "collapsed": true
   },
   "outputs": [],
   "source": [
    "Circul_AP_Y['PM25_cat'] = pd.cut(Circul_AP_Y.PM25, [0,20,22])"
   ]
  },
  {
   "cell_type": "code",
   "execution_count": 48,
   "metadata": {
    "collapsed": true
   },
   "outputs": [],
   "source": [
    "def do_regression(df):\n",
    "    # This is just the standard code for doing the regression\n",
    "    model = ols('DSR ~ PM25', data=Circul_AP_Y).fit()\n",
    "    \n",
    "    # Here we take the 'params' attribute of the model, which contains the values\n",
    "    # for the intercept and the coefficients for each of the inputs.\n",
    "    # We convert it to a dict to make it easier to work with (and so they are labelled\n",
    "    # with which one is which)\n",
    "    results = model.params.to_dict()\n",
    "    \n",
    "    # We then add an extra entry to the dict containing the r2 value\n",
    "    results['r2'] = model.rsquared\n",
    "    \n",
    "    # We then return a 'Series' created from the dict - a Series is basically a column or a row\n",
    "    # of a pandas DataFrame - so here it is a row containing the intercept, the coefficient for 'b'\n",
    "    # and the r2 value\n",
    "    return pd.Series(results)"
   ]
  },
  {
   "cell_type": "code",
   "execution_count": 53,
   "metadata": {
    "collapsed": true
   },
   "outputs": [],
   "source": [
    "res = Circul_AP_Y.groupby('PM25_cat').apply(do_regression)"
   ]
  },
  {
   "cell_type": "code",
   "execution_count": 54,
   "metadata": {
    "collapsed": false
   },
   "outputs": [
    {
     "data": {
      "text/html": [
       "<div>\n",
       "<table border=\"1\" class=\"dataframe\">\n",
       "  <thead>\n",
       "    <tr style=\"text-align: right;\">\n",
       "      <th></th>\n",
       "      <th>Intercept</th>\n",
       "      <th>PM25</th>\n",
       "      <th>r2</th>\n",
       "    </tr>\n",
       "    <tr>\n",
       "      <th>PM25_cat</th>\n",
       "      <th></th>\n",
       "      <th></th>\n",
       "      <th></th>\n",
       "    </tr>\n",
       "  </thead>\n",
       "  <tbody>\n",
       "    <tr>\n",
       "      <th>(0, 20]</th>\n",
       "      <td>1520.132096</td>\n",
       "      <td>24.154825</td>\n",
       "      <td>0.004599</td>\n",
       "    </tr>\n",
       "    <tr>\n",
       "      <th>(20, 22]</th>\n",
       "      <td>1520.132096</td>\n",
       "      <td>24.154825</td>\n",
       "      <td>0.004599</td>\n",
       "    </tr>\n",
       "  </tbody>\n",
       "</table>\n",
       "</div>"
      ],
      "text/plain": [
       "            Intercept       PM25        r2\n",
       "PM25_cat                                  \n",
       "(0, 20]   1520.132096  24.154825  0.004599\n",
       "(20, 22]  1520.132096  24.154825  0.004599"
      ]
     },
     "execution_count": 54,
     "metadata": {},
     "output_type": "execute_result"
    }
   ],
   "source": [
    "res"
   ]
  },
  {
   "cell_type": "code",
   "execution_count": 50,
   "metadata": {
    "collapsed": true
   },
   "outputs": [],
   "source": [
    "Respir_AP_Y['PM25_cat'] = pd.cut(Respir_AP_Y.PM25, [0,12,16,22])"
   ]
  },
  {
   "cell_type": "code",
   "execution_count": 51,
   "metadata": {
    "collapsed": true
   },
   "outputs": [],
   "source": [
    "def do_regression(df):\n",
    "    # This is just the standard code for doing the regression\n",
    "    model = ols('DSR ~ PM25', data=Respir_AP_Y).fit()\n",
    "    \n",
    "    # Here we take the 'params' attribute of the model, which contains the values\n",
    "    # for the intercept and the coefficients for each of the inputs.\n",
    "    # We convert it to a dict to make it easier to work with (and so they are labelled\n",
    "    # with which one is which)\n",
    "    results = model.params.to_dict()\n",
    "    \n",
    "    # We then add an extra entry to the dict containing the r2 value\n",
    "    results['r2'] = model.rsquared\n",
    "    \n",
    "    # We then return a 'Series' created from the dict - a Series is basically a column or a row\n",
    "    # of a pandas DataFrame - so here it is a row containing the intercept, the coefficient for 'b'\n",
    "    # and the r2 value\n",
    "    return pd.Series(results)"
   ]
  },
  {
   "cell_type": "code",
   "execution_count": 52,
   "metadata": {
    "collapsed": true
   },
   "outputs": [],
   "source": [
    "res = Respir_AP_Y.groupby('PM25_cat').apply(do_regression)"
   ]
  },
  {
   "cell_type": "code",
   "execution_count": 53,
   "metadata": {
    "collapsed": false
   },
   "outputs": [
    {
     "data": {
      "text/html": [
       "<div>\n",
       "<table border=\"1\" class=\"dataframe\">\n",
       "  <thead>\n",
       "    <tr style=\"text-align: right;\">\n",
       "      <th></th>\n",
       "      <th>Intercept</th>\n",
       "      <th>PM25</th>\n",
       "      <th>r2</th>\n",
       "    </tr>\n",
       "    <tr>\n",
       "      <th>PM25_cat</th>\n",
       "      <th></th>\n",
       "      <th></th>\n",
       "      <th></th>\n",
       "    </tr>\n",
       "  </thead>\n",
       "  <tbody>\n",
       "    <tr>\n",
       "      <th>(0, 12]</th>\n",
       "      <td>1404.586836</td>\n",
       "      <td>11.800434</td>\n",
       "      <td>0.000908</td>\n",
       "    </tr>\n",
       "    <tr>\n",
       "      <th>(12, 16]</th>\n",
       "      <td>1404.586836</td>\n",
       "      <td>11.800434</td>\n",
       "      <td>0.000908</td>\n",
       "    </tr>\n",
       "    <tr>\n",
       "      <th>(16, 22]</th>\n",
       "      <td>1404.586836</td>\n",
       "      <td>11.800434</td>\n",
       "      <td>0.000908</td>\n",
       "    </tr>\n",
       "  </tbody>\n",
       "</table>\n",
       "</div>"
      ],
      "text/plain": [
       "            Intercept       PM25        r2\n",
       "PM25_cat                                  \n",
       "(0, 12]   1404.586836  11.800434  0.000908\n",
       "(12, 16]  1404.586836  11.800434  0.000908\n",
       "(16, 22]  1404.586836  11.800434  0.000908"
      ]
     },
     "execution_count": 53,
     "metadata": {},
     "output_type": "execute_result"
    }
   ],
   "source": [
    "res"
   ]
  },
  {
   "cell_type": "code",
   "execution_count": null,
   "metadata": {
    "collapsed": true
   },
   "outputs": [],
   "source": []
  }
 ],
 "metadata": {
  "kernelspec": {
   "display_name": "Python 3",
   "language": "python",
   "name": "python3"
  },
  "language_info": {
   "codemirror_mode": {
    "name": "ipython",
    "version": 3
   },
   "file_extension": ".py",
   "mimetype": "text/x-python",
   "name": "python",
   "nbconvert_exporter": "python",
   "pygments_lexer": "ipython3",
   "version": "3.5.1"
  }
 },
 "nbformat": 4,
 "nbformat_minor": 0
}
