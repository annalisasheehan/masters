{
 "cells": [
  {
   "cell_type": "code",
   "execution_count": 2,
   "metadata": {
    "collapsed": true
   },
   "outputs": [],
   "source": [
    "import numpy as np\n",
    "import pandas as pd\n",
    "from statsmodels.formula.api import ols\n",
    "%matplotlib inline"
   ]
  },
  {
   "cell_type": "markdown",
   "metadata": {},
   "source": [
    "# Read in data:\n",
    "- Monthly HES data for Circulatory and Respiratory disease for LSOA's\n",
    "- MAIAC mean monthly PM2.5 estimates for LSOA's\n",
    "\n",
    "## Merge the data based on year, month and LSOA"
   ]
  },
  {
   "cell_type": "code",
   "execution_count": 3,
   "metadata": {
    "collapsed": true
   },
   "outputs": [],
   "source": [
    "Circulatory_monthly = pd.read_csv(r'D:\\Annies_Dissertation\\Analysis\\Regression\\HES\\AllCirculatory_monthly_all.csv')"
   ]
  },
  {
   "cell_type": "code",
   "execution_count": 4,
   "metadata": {
    "collapsed": true
   },
   "outputs": [],
   "source": [
    "Circulatory_monthly = Circulatory_monthly[['Disease', 'year', 'month', 'n', 'DSR', 'lcl', 'ucl', 'score', 'rank', 'decile', 'lsoa11']]"
   ]
  },
  {
   "cell_type": "code",
   "execution_count": 5,
   "metadata": {
    "collapsed": true
   },
   "outputs": [],
   "source": [
    "Respiratory_monthly = pd.read_csv(r'D:\\Annies_Dissertation\\Analysis\\Regression\\HES\\AllRespiratory_monthly_all.csv')"
   ]
  },
  {
   "cell_type": "code",
   "execution_count": 6,
   "metadata": {
    "collapsed": true
   },
   "outputs": [],
   "source": [
    "Respiratory_monthly = Respiratory_monthly[['Disease', 'year', 'month', 'n', 'DSR', 'lcl', 'ucl', 'score', 'rank', 'decile', 'lsoa11']]"
   ]
  },
  {
   "cell_type": "code",
   "execution_count": 7,
   "metadata": {
    "collapsed": true
   },
   "outputs": [],
   "source": [
    "AP_Monthly = pd.read_csv(r'D:\\Annies_Dissertation\\Analysis\\Regression\\Monthly_PM25_LSOA.csv')"
   ]
  },
  {
   "cell_type": "code",
   "execution_count": 8,
   "metadata": {
    "collapsed": true
   },
   "outputs": [],
   "source": [
    "AP_Monthly = AP_Monthly.rename(columns={'LSOA':'lsoa11', 'value':'PM25'})"
   ]
  },
  {
   "cell_type": "code",
   "execution_count": 9,
   "metadata": {
    "collapsed": true
   },
   "outputs": [],
   "source": [
    "AP_Monthly = AP_Monthly[['time', 'lsoa11', 'PM25', 'month', 'year']].dropna()"
   ]
  },
  {
   "cell_type": "code",
   "execution_count": 10,
   "metadata": {
    "collapsed": true
   },
   "outputs": [],
   "source": [
    "Circ_AP = pd.merge(Circulatory_monthly, AP_Monthly, on=['year', 'month','lsoa11'], how='inner')"
   ]
  },
  {
   "cell_type": "code",
   "execution_count": 11,
   "metadata": {
    "collapsed": true
   },
   "outputs": [],
   "source": [
    "Resp_AP = pd.merge(Respiratory_monthly, AP_Monthly, on=['year', 'month','lsoa11'], how='inner')"
   ]
  },
  {
   "cell_type": "code",
   "execution_count": 13,
   "metadata": {
    "collapsed": false
   },
   "outputs": [
    {
     "data": {
      "text/html": [
       "<div>\n",
       "<table border=\"1\" class=\"dataframe\">\n",
       "  <thead>\n",
       "    <tr style=\"text-align: right;\">\n",
       "      <th></th>\n",
       "      <th>Disease</th>\n",
       "      <th>year</th>\n",
       "      <th>month</th>\n",
       "      <th>n</th>\n",
       "      <th>DSR</th>\n",
       "      <th>lcl</th>\n",
       "      <th>ucl</th>\n",
       "      <th>score</th>\n",
       "      <th>rank</th>\n",
       "      <th>decile</th>\n",
       "      <th>lsoa11</th>\n",
       "      <th>time</th>\n",
       "      <th>PM25</th>\n",
       "    </tr>\n",
       "  </thead>\n",
       "  <tbody>\n",
       "    <tr>\n",
       "      <th>0</th>\n",
       "      <td>All Circulatory</td>\n",
       "      <td>2009</td>\n",
       "      <td>1</td>\n",
       "      <td>NaN</td>\n",
       "      <td>69.247604</td>\n",
       "      <td>8.247776</td>\n",
       "      <td>250.557617</td>\n",
       "      <td>11.430000</td>\n",
       "      <td>22492</td>\n",
       "      <td>7</td>\n",
       "      <td>E01015272</td>\n",
       "      <td>2009-01-31</td>\n",
       "      <td>11.609479</td>\n",
       "    </tr>\n",
       "    <tr>\n",
       "      <th>1</th>\n",
       "      <td>All Circulatory</td>\n",
       "      <td>2009</td>\n",
       "      <td>1</td>\n",
       "      <td>NaN</td>\n",
       "      <td>147.841522</td>\n",
       "      <td>3.743035</td>\n",
       "      <td>823.720154</td>\n",
       "      <td>33.619999</td>\n",
       "      <td>6665</td>\n",
       "      <td>3</td>\n",
       "      <td>E01015273</td>\n",
       "      <td>2009-01-31</td>\n",
       "      <td>11.410336</td>\n",
       "    </tr>\n",
       "    <tr>\n",
       "      <th>2</th>\n",
       "      <td>All Circulatory</td>\n",
       "      <td>2009</td>\n",
       "      <td>1</td>\n",
       "      <td>NaN</td>\n",
       "      <td>187.446503</td>\n",
       "      <td>38.159660</td>\n",
       "      <td>549.000244</td>\n",
       "      <td>20.290001</td>\n",
       "      <td>13991</td>\n",
       "      <td>5</td>\n",
       "      <td>E01015274</td>\n",
       "      <td>2009-01-31</td>\n",
       "      <td>11.650494</td>\n",
       "    </tr>\n",
       "    <tr>\n",
       "      <th>3</th>\n",
       "      <td>All Circulatory</td>\n",
       "      <td>2009</td>\n",
       "      <td>1</td>\n",
       "      <td>NaN</td>\n",
       "      <td>309.000488</td>\n",
       "      <td>59.781487</td>\n",
       "      <td>912.577209</td>\n",
       "      <td>19.780001</td>\n",
       "      <td>14447</td>\n",
       "      <td>5</td>\n",
       "      <td>E01015275</td>\n",
       "      <td>2009-01-31</td>\n",
       "      <td>11.682238</td>\n",
       "    </tr>\n",
       "    <tr>\n",
       "      <th>4</th>\n",
       "      <td>All Circulatory</td>\n",
       "      <td>2009</td>\n",
       "      <td>1</td>\n",
       "      <td>NaN</td>\n",
       "      <td>162.742996</td>\n",
       "      <td>15.881656</td>\n",
       "      <td>599.259460</td>\n",
       "      <td>26.400000</td>\n",
       "      <td>10063</td>\n",
       "      <td>4</td>\n",
       "      <td>E01015276</td>\n",
       "      <td>2009-01-31</td>\n",
       "      <td>11.347145</td>\n",
       "    </tr>\n",
       "  </tbody>\n",
       "</table>\n",
       "</div>"
      ],
      "text/plain": [
       "           Disease  year  month   n         DSR        lcl         ucl  \\\n",
       "0  All Circulatory  2009      1 NaN   69.247604   8.247776  250.557617   \n",
       "1  All Circulatory  2009      1 NaN  147.841522   3.743035  823.720154   \n",
       "2  All Circulatory  2009      1 NaN  187.446503  38.159660  549.000244   \n",
       "3  All Circulatory  2009      1 NaN  309.000488  59.781487  912.577209   \n",
       "4  All Circulatory  2009      1 NaN  162.742996  15.881656  599.259460   \n",
       "\n",
       "       score   rank  decile     lsoa11        time       PM25  \n",
       "0  11.430000  22492       7  E01015272  2009-01-31  11.609479  \n",
       "1  33.619999   6665       3  E01015273  2009-01-31  11.410336  \n",
       "2  20.290001  13991       5  E01015274  2009-01-31  11.650494  \n",
       "3  19.780001  14447       5  E01015275  2009-01-31  11.682238  \n",
       "4  26.400000  10063       4  E01015276  2009-01-31  11.347145  "
      ]
     },
     "execution_count": 13,
     "metadata": {},
     "output_type": "execute_result"
    }
   ],
   "source": [
    "Circ_AP[:5]"
   ]
  },
  {
   "cell_type": "markdown",
   "metadata": {},
   "source": [
    "## Stratify Deprivation Score"
   ]
  },
  {
   "cell_type": "code",
   "execution_count": 14,
   "metadata": {
    "collapsed": false
   },
   "outputs": [
    {
     "data": {
      "text/plain": [
       "<matplotlib.axes._subplots.AxesSubplot at 0xb33cfc94a8>"
      ]
     },
     "execution_count": 14,
     "metadata": {},
     "output_type": "execute_result"
    },
    {
     "data": {
      "image/png": "[encoded data removed]",
      "text/plain": [
       "<matplotlib.figure.Figure at 0xb33cfd7ac8>"
      ]
     },
     "metadata": {},
     "output_type": "display_data"
    }
   ],
   "source": [
    "Circ_AP.score.hist()"
   ]
  },
  {
   "cell_type": "code",
   "execution_count": 15,
   "metadata": {
    "collapsed": false
   },
   "outputs": [
    {
     "data": {
      "text/plain": [
       "0.579999983"
      ]
     },
     "execution_count": 15,
     "metadata": {},
     "output_type": "execute_result"
    }
   ],
   "source": [
    "Circ_AP.score.min()"
   ]
  },
  {
   "cell_type": "code",
   "execution_count": 16,
   "metadata": {
    "collapsed": false
   },
   "outputs": [],
   "source": [
    "Circ_AP['Depr_cat'] = pd.cut(Circ_AP.score, [0,10,20,80])"
   ]
  },
  {
   "cell_type": "code",
   "execution_count": 17,
   "metadata": {
    "collapsed": false
   },
   "outputs": [
    {
     "data": {
      "text/html": [
       "<div>\n",
       "<table border=\"1\" class=\"dataframe\">\n",
       "  <thead>\n",
       "    <tr style=\"text-align: right;\">\n",
       "      <th></th>\n",
       "      <th>Disease</th>\n",
       "      <th>year</th>\n",
       "      <th>month</th>\n",
       "      <th>n</th>\n",
       "      <th>DSR</th>\n",
       "      <th>lcl</th>\n",
       "      <th>ucl</th>\n",
       "      <th>score</th>\n",
       "      <th>rank</th>\n",
       "      <th>decile</th>\n",
       "      <th>lsoa11</th>\n",
       "      <th>time</th>\n",
       "      <th>PM25</th>\n",
       "      <th>Depr_cat</th>\n",
       "    </tr>\n",
       "  </thead>\n",
       "  <tbody>\n",
       "    <tr>\n",
       "      <th>0</th>\n",
       "      <td>All Circulatory</td>\n",
       "      <td>2009</td>\n",
       "      <td>1</td>\n",
       "      <td>NaN</td>\n",
       "      <td>69.247604</td>\n",
       "      <td>8.247776</td>\n",
       "      <td>250.557617</td>\n",
       "      <td>11.430000</td>\n",
       "      <td>22492</td>\n",
       "      <td>7</td>\n",
       "      <td>E01015272</td>\n",
       "      <td>2009-01-31</td>\n",
       "      <td>11.609479</td>\n",
       "      <td>(10, 20]</td>\n",
       "    </tr>\n",
       "    <tr>\n",
       "      <th>1</th>\n",
       "      <td>All Circulatory</td>\n",
       "      <td>2009</td>\n",
       "      <td>1</td>\n",
       "      <td>NaN</td>\n",
       "      <td>147.841522</td>\n",
       "      <td>3.743035</td>\n",
       "      <td>823.720154</td>\n",
       "      <td>33.619999</td>\n",
       "      <td>6665</td>\n",
       "      <td>3</td>\n",
       "      <td>E01015273</td>\n",
       "      <td>2009-01-31</td>\n",
       "      <td>11.410336</td>\n",
       "      <td>(20, 80]</td>\n",
       "    </tr>\n",
       "    <tr>\n",
       "      <th>2</th>\n",
       "      <td>All Circulatory</td>\n",
       "      <td>2009</td>\n",
       "      <td>1</td>\n",
       "      <td>NaN</td>\n",
       "      <td>187.446503</td>\n",
       "      <td>38.159660</td>\n",
       "      <td>549.000244</td>\n",
       "      <td>20.290001</td>\n",
       "      <td>13991</td>\n",
       "      <td>5</td>\n",
       "      <td>E01015274</td>\n",
       "      <td>2009-01-31</td>\n",
       "      <td>11.650494</td>\n",
       "      <td>(20, 80]</td>\n",
       "    </tr>\n",
       "    <tr>\n",
       "      <th>3</th>\n",
       "      <td>All Circulatory</td>\n",
       "      <td>2009</td>\n",
       "      <td>1</td>\n",
       "      <td>NaN</td>\n",
       "      <td>309.000488</td>\n",
       "      <td>59.781487</td>\n",
       "      <td>912.577209</td>\n",
       "      <td>19.780001</td>\n",
       "      <td>14447</td>\n",
       "      <td>5</td>\n",
       "      <td>E01015275</td>\n",
       "      <td>2009-01-31</td>\n",
       "      <td>11.682238</td>\n",
       "      <td>(10, 20]</td>\n",
       "    </tr>\n",
       "    <tr>\n",
       "      <th>4</th>\n",
       "      <td>All Circulatory</td>\n",
       "      <td>2009</td>\n",
       "      <td>1</td>\n",
       "      <td>NaN</td>\n",
       "      <td>162.742996</td>\n",
       "      <td>15.881656</td>\n",
       "      <td>599.259460</td>\n",
       "      <td>26.400000</td>\n",
       "      <td>10063</td>\n",
       "      <td>4</td>\n",
       "      <td>E01015276</td>\n",
       "      <td>2009-01-31</td>\n",
       "      <td>11.347145</td>\n",
       "      <td>(20, 80]</td>\n",
       "    </tr>\n",
       "  </tbody>\n",
       "</table>\n",
       "</div>"
      ],
      "text/plain": [
       "           Disease  year  month   n         DSR        lcl         ucl  \\\n",
       "0  All Circulatory  2009      1 NaN   69.247604   8.247776  250.557617   \n",
       "1  All Circulatory  2009      1 NaN  147.841522   3.743035  823.720154   \n",
       "2  All Circulatory  2009      1 NaN  187.446503  38.159660  549.000244   \n",
       "3  All Circulatory  2009      1 NaN  309.000488  59.781487  912.577209   \n",
       "4  All Circulatory  2009      1 NaN  162.742996  15.881656  599.259460   \n",
       "\n",
       "       score   rank  decile     lsoa11        time       PM25  Depr_cat  \n",
       "0  11.430000  22492       7  E01015272  2009-01-31  11.609479  (10, 20]  \n",
       "1  33.619999   6665       3  E01015273  2009-01-31  11.410336  (20, 80]  \n",
       "2  20.290001  13991       5  E01015274  2009-01-31  11.650494  (20, 80]  \n",
       "3  19.780001  14447       5  E01015275  2009-01-31  11.682238  (10, 20]  \n",
       "4  26.400000  10063       4  E01015276  2009-01-31  11.347145  (20, 80]  "
      ]
     },
     "execution_count": 17,
     "metadata": {},
     "output_type": "execute_result"
    }
   ],
   "source": [
    "Circ_AP[:5]"
   ]
  },
  {
   "cell_type": "code",
   "execution_count": 18,
   "metadata": {
    "collapsed": true
   },
   "outputs": [],
   "source": [
    "def do_regression(df):\n",
    "    # This is just the standard code for doing the regression\n",
    "    model = ols('DSR ~ PM25', data=Circ_AP).fit()\n",
    "    \n",
    "    # Here we take the 'params' attribute of the model, which contains the values\n",
    "    # for the intercept and the coefficients for each of the inputs.\n",
    "    # We convert it to a dict to make it easier to work with (and so they are labelled\n",
    "    # with which one is which)\n",
    "    results = model.params.to_dict()\n",
    "    \n",
    "    # We then add an extra entry to the dict containing the r2 value\n",
    "    results['r2'] = model.rsquared\n",
    "    \n",
    "    # We then return a 'Series' created from the dict - a Series is basically a column or a row\n",
    "    # of a pandas DataFrame - so here it is a row containing the intercept, the coefficient for 'b'\n",
    "    # and the r2 value\n",
    "    return pd.Series(results)"
   ]
  },
  {
   "cell_type": "code",
   "execution_count": 19,
   "metadata": {
    "collapsed": false
   },
   "outputs": [],
   "source": [
    "res = Circ_AP.groupby('Depr_cat').apply(do_regression)"
   ]
  },
  {
   "cell_type": "code",
   "execution_count": 20,
   "metadata": {
    "collapsed": false
   },
   "outputs": [
    {
     "data": {
      "text/html": [
       "<div>\n",
       "<table border=\"1\" class=\"dataframe\">\n",
       "  <thead>\n",
       "    <tr style=\"text-align: right;\">\n",
       "      <th></th>\n",
       "      <th>Intercept</th>\n",
       "      <th>PM25</th>\n",
       "      <th>r2</th>\n",
       "    </tr>\n",
       "    <tr>\n",
       "      <th>Depr_cat</th>\n",
       "      <th></th>\n",
       "      <th></th>\n",
       "      <th></th>\n",
       "    </tr>\n",
       "  </thead>\n",
       "  <tbody>\n",
       "    <tr>\n",
       "      <th>(0, 10]</th>\n",
       "      <td>185.3637</td>\n",
       "      <td>0.020298</td>\n",
       "      <td>4.344388e-07</td>\n",
       "    </tr>\n",
       "    <tr>\n",
       "      <th>(10, 20]</th>\n",
       "      <td>185.3637</td>\n",
       "      <td>0.020298</td>\n",
       "      <td>4.344388e-07</td>\n",
       "    </tr>\n",
       "    <tr>\n",
       "      <th>(20, 80]</th>\n",
       "      <td>185.3637</td>\n",
       "      <td>0.020298</td>\n",
       "      <td>4.344388e-07</td>\n",
       "    </tr>\n",
       "  </tbody>\n",
       "</table>\n",
       "</div>"
      ],
      "text/plain": [
       "          Intercept      PM25            r2\n",
       "Depr_cat                                   \n",
       "(0, 10]    185.3637  0.020298  4.344388e-07\n",
       "(10, 20]   185.3637  0.020298  4.344388e-07\n",
       "(20, 80]   185.3637  0.020298  4.344388e-07"
      ]
     },
     "execution_count": 20,
     "metadata": {},
     "output_type": "execute_result"
    }
   ],
   "source": [
    "res"
   ]
  },
  {
   "cell_type": "code",
   "execution_count": 21,
   "metadata": {
    "collapsed": false
   },
   "outputs": [],
   "source": [
    "Resp_AP['Depr_cat'] = pd.cut(Resp_AP.score, [0,10,20,80])"
   ]
  },
  {
   "cell_type": "code",
   "execution_count": 22,
   "metadata": {
    "collapsed": true
   },
   "outputs": [],
   "source": [
    "def do_regression(df):\n",
    "    # This is just the standard code for doing the regression\n",
    "    model = ols('DSR ~ PM25', data=Resp_AP).fit()\n",
    "    \n",
    "    # Here we take the 'params' attribute of the model, which contains the values\n",
    "    # for the intercept and the coefficients for each of the inputs.\n",
    "    # We convert it to a dict to make it easier to work with (and so they are labelled\n",
    "    # with which one is which)\n",
    "    results = model.params.to_dict()\n",
    "    \n",
    "    # We then add an extra entry to the dict containing the r2 value\n",
    "    results['r2'] = model.rsquared\n",
    "    \n",
    "    # We then return a 'Series' created from the dict - a Series is basically a column or a row\n",
    "    # of a pandas DataFrame - so here it is a row containing the intercept, the coefficient for 'b'\n",
    "    # and the r2 value\n",
    "    return pd.Series(results)"
   ]
  },
  {
   "cell_type": "code",
   "execution_count": 23,
   "metadata": {
    "collapsed": true
   },
   "outputs": [],
   "source": [
    "resp_res = Resp_AP.groupby('Depr_cat').apply(do_regression)"
   ]
  },
  {
   "cell_type": "code",
   "execution_count": 24,
   "metadata": {
    "collapsed": false
   },
   "outputs": [
    {
     "data": {
      "text/html": [
       "<div>\n",
       "<table border=\"1\" class=\"dataframe\">\n",
       "  <thead>\n",
       "    <tr style=\"text-align: right;\">\n",
       "      <th></th>\n",
       "      <th>Intercept</th>\n",
       "      <th>PM25</th>\n",
       "      <th>r2</th>\n",
       "    </tr>\n",
       "    <tr>\n",
       "      <th>Depr_cat</th>\n",
       "      <th></th>\n",
       "      <th></th>\n",
       "      <th></th>\n",
       "    </tr>\n",
       "  </thead>\n",
       "  <tbody>\n",
       "    <tr>\n",
       "      <th>(0, 10]</th>\n",
       "      <td>185.49779</td>\n",
       "      <td>-1.82106</td>\n",
       "      <td>0.003705</td>\n",
       "    </tr>\n",
       "    <tr>\n",
       "      <th>(10, 20]</th>\n",
       "      <td>185.49779</td>\n",
       "      <td>-1.82106</td>\n",
       "      <td>0.003705</td>\n",
       "    </tr>\n",
       "    <tr>\n",
       "      <th>(20, 80]</th>\n",
       "      <td>185.49779</td>\n",
       "      <td>-1.82106</td>\n",
       "      <td>0.003705</td>\n",
       "    </tr>\n",
       "  </tbody>\n",
       "</table>\n",
       "</div>"
      ],
      "text/plain": [
       "          Intercept     PM25        r2\n",
       "Depr_cat                              \n",
       "(0, 10]   185.49779 -1.82106  0.003705\n",
       "(10, 20]  185.49779 -1.82106  0.003705\n",
       "(20, 80]  185.49779 -1.82106  0.003705"
      ]
     },
     "execution_count": 24,
     "metadata": {},
     "output_type": "execute_result"
    }
   ],
   "source": [
    "resp_res"
   ]
  },
  {
   "cell_type": "markdown",
   "metadata": {},
   "source": [
    "## Yearly"
   ]
  },
  {
   "cell_type": "code",
   "execution_count": 25,
   "metadata": {
    "collapsed": true
   },
   "outputs": [],
   "source": [
    "Circ_Yearly = pd.read_csv(r'D:\\Annies_Dissertation\\Analysis\\Regression\\HES\\AllCirculatory_yearly_all.csv')"
   ]
  },
  {
   "cell_type": "code",
   "execution_count": 26,
   "metadata": {
    "collapsed": true
   },
   "outputs": [],
   "source": [
    "Resp_Yearly = pd.read_csv(r'D:\\Annies_Dissertation\\Analysis\\Regression\\HES\\AllRespiratory_yearly_all.csv')"
   ]
  },
  {
   "cell_type": "code",
   "execution_count": 27,
   "metadata": {
    "collapsed": true
   },
   "outputs": [],
   "source": [
    "AP_Yearly = pd.read_csv('D:\\Annies_Dissertation\\Analysis\\Regression\\Yearly_PM25_LSOA.csv')"
   ]
  },
  {
   "cell_type": "code",
   "execution_count": 28,
   "metadata": {
    "collapsed": true
   },
   "outputs": [],
   "source": [
    "AP_Yearly = AP_Yearly.rename(columns={'LSOA':'lsoa11', 'value':'PM25'})"
   ]
  },
  {
   "cell_type": "code",
   "execution_count": 29,
   "metadata": {
    "collapsed": true
   },
   "outputs": [],
   "source": [
    "AP_Yearly = AP_Yearly[['time', 'lsoa11', 'PM25', 'year']].dropna()"
   ]
  },
  {
   "cell_type": "code",
   "execution_count": 30,
   "metadata": {
    "collapsed": true
   },
   "outputs": [],
   "source": [
    "Circul_AP_Y = pd.merge(Circ_Yearly, AP_Yearly, on=['year','lsoa11'], how='inner')"
   ]
  },
  {
   "cell_type": "code",
   "execution_count": 31,
   "metadata": {
    "collapsed": true
   },
   "outputs": [],
   "source": [
    "Respir_AP_Y = pd.merge(Resp_Yearly, AP_Yearly, on=['year','lsoa11'], how='inner')"
   ]
  },
  {
   "cell_type": "code",
   "execution_count": 32,
   "metadata": {
    "collapsed": false
   },
   "outputs": [
    {
     "data": {
      "text/plain": [
       "<matplotlib.axes._subplots.AxesSubplot at 0xb33d279da0>"
      ]
     },
     "execution_count": 32,
     "metadata": {},
     "output_type": "execute_result"
    },
    {
     "data": {
      "image/png": "[encoded data removed]",
      "text/plain": [
       "<matplotlib.figure.Figure at 0xb33d279390>"
      ]
     },
     "metadata": {},
     "output_type": "display_data"
    }
   ],
   "source": [
    "Circul_AP_Y.score.hist()"
   ]
  },
  {
   "cell_type": "code",
   "execution_count": 33,
   "metadata": {
    "collapsed": false
   },
   "outputs": [],
   "source": [
    "Circul_AP_Y['Depr_cat'] = pd.cut(Circul_AP_Y.score, [0,10,20,80])"
   ]
  },
  {
   "cell_type": "code",
   "execution_count": 34,
   "metadata": {
    "collapsed": true
   },
   "outputs": [],
   "source": [
    "def do_regression(df):\n",
    "    # This is just the standard code for doing the regression\n",
    "    model = ols('DSR ~ PM25', data=Circul_AP_Y).fit()\n",
    "    \n",
    "    # Here we take the 'params' attribute of the model, which contains the values\n",
    "    # for the intercept and the coefficients for each of the inputs.\n",
    "    # We convert it to a dict to make it easier to work with (and so they are labelled\n",
    "    # with which one is which)\n",
    "    results = model.params.to_dict()\n",
    "    \n",
    "    # We then add an extra entry to the dict containing the r2 value\n",
    "    results['r2'] = model.rsquared\n",
    "    \n",
    "    # We then return a 'Series' created from the dict - a Series is basically a column or a row\n",
    "    # of a pandas DataFrame - so here it is a row containing the intercept, the coefficient for 'b'\n",
    "    # and the r2 value\n",
    "    return pd.Series(results)"
   ]
  },
  {
   "cell_type": "code",
   "execution_count": 35,
   "metadata": {
    "collapsed": false
   },
   "outputs": [],
   "source": [
    "res = Circul_AP_Y.groupby('Depr_cat').apply(do_regression)"
   ]
  },
  {
   "cell_type": "code",
   "execution_count": 36,
   "metadata": {
    "collapsed": false
   },
   "outputs": [
    {
     "data": {
      "text/html": [
       "<div>\n",
       "<table border=\"1\" class=\"dataframe\">\n",
       "  <thead>\n",
       "    <tr style=\"text-align: right;\">\n",
       "      <th></th>\n",
       "      <th>Intercept</th>\n",
       "      <th>PM25</th>\n",
       "      <th>r2</th>\n",
       "    </tr>\n",
       "    <tr>\n",
       "      <th>Depr_cat</th>\n",
       "      <th></th>\n",
       "      <th></th>\n",
       "      <th></th>\n",
       "    </tr>\n",
       "  </thead>\n",
       "  <tbody>\n",
       "    <tr>\n",
       "      <th>(0, 10]</th>\n",
       "      <td>1520.132096</td>\n",
       "      <td>24.154825</td>\n",
       "      <td>0.004599</td>\n",
       "    </tr>\n",
       "    <tr>\n",
       "      <th>(10, 20]</th>\n",
       "      <td>1520.132096</td>\n",
       "      <td>24.154825</td>\n",
       "      <td>0.004599</td>\n",
       "    </tr>\n",
       "    <tr>\n",
       "      <th>(20, 80]</th>\n",
       "      <td>1520.132096</td>\n",
       "      <td>24.154825</td>\n",
       "      <td>0.004599</td>\n",
       "    </tr>\n",
       "  </tbody>\n",
       "</table>\n",
       "</div>"
      ],
      "text/plain": [
       "            Intercept       PM25        r2\n",
       "Depr_cat                                  \n",
       "(0, 10]   1520.132096  24.154825  0.004599\n",
       "(10, 20]  1520.132096  24.154825  0.004599\n",
       "(20, 80]  1520.132096  24.154825  0.004599"
      ]
     },
     "execution_count": 36,
     "metadata": {},
     "output_type": "execute_result"
    }
   ],
   "source": [
    "res"
   ]
  },
  {
   "cell_type": "code",
   "execution_count": 37,
   "metadata": {
    "collapsed": true
   },
   "outputs": [],
   "source": [
    "Respir_AP_Y['Depr_cat'] = pd.cut(Respir_AP_Y.score, [0,10,20,80])"
   ]
  },
  {
   "cell_type": "code",
   "execution_count": 38,
   "metadata": {
    "collapsed": true
   },
   "outputs": [],
   "source": [
    "def do_regression(df):\n",
    "    # This is just the standard code for doing the regression\n",
    "    model = ols('DSR ~ PM25', data=Respir_AP_Y).fit()\n",
    "    \n",
    "    # Here we take the 'params' attribute of the model, which contains the values\n",
    "    # for the intercept and the coefficients for each of the inputs.\n",
    "    # We convert it to a dict to make it easier to work with (and so they are labelled\n",
    "    # with which one is which)\n",
    "    results = model.params.to_dict()\n",
    "    \n",
    "    # We then add an extra entry to the dict containing the r2 value\n",
    "    results['r2'] = model.rsquared\n",
    "    \n",
    "    # We then return a 'Series' created from the dict - a Series is basically a column or a row\n",
    "    # of a pandas DataFrame - so here it is a row containing the intercept, the coefficient for 'b'\n",
    "    # and the r2 value\n",
    "    return pd.Series(results)"
   ]
  },
  {
   "cell_type": "code",
   "execution_count": 39,
   "metadata": {
    "collapsed": true
   },
   "outputs": [],
   "source": [
    "res = Respir_AP_Y.groupby('Depr_cat').apply(do_regression)"
   ]
  },
  {
   "cell_type": "code",
   "execution_count": 40,
   "metadata": {
    "collapsed": false
   },
   "outputs": [
    {
     "data": {
      "text/html": [
       "<div>\n",
       "<table border=\"1\" class=\"dataframe\">\n",
       "  <thead>\n",
       "    <tr style=\"text-align: right;\">\n",
       "      <th></th>\n",
       "      <th>Intercept</th>\n",
       "      <th>PM25</th>\n",
       "      <th>r2</th>\n",
       "    </tr>\n",
       "    <tr>\n",
       "      <th>Depr_cat</th>\n",
       "      <th></th>\n",
       "      <th></th>\n",
       "      <th></th>\n",
       "    </tr>\n",
       "  </thead>\n",
       "  <tbody>\n",
       "    <tr>\n",
       "      <th>(0, 10]</th>\n",
       "      <td>1404.586836</td>\n",
       "      <td>11.800434</td>\n",
       "      <td>0.000908</td>\n",
       "    </tr>\n",
       "    <tr>\n",
       "      <th>(10, 20]</th>\n",
       "      <td>1404.586836</td>\n",
       "      <td>11.800434</td>\n",
       "      <td>0.000908</td>\n",
       "    </tr>\n",
       "    <tr>\n",
       "      <th>(20, 80]</th>\n",
       "      <td>1404.586836</td>\n",
       "      <td>11.800434</td>\n",
       "      <td>0.000908</td>\n",
       "    </tr>\n",
       "  </tbody>\n",
       "</table>\n",
       "</div>"
      ],
      "text/plain": [
       "            Intercept       PM25        r2\n",
       "Depr_cat                                  \n",
       "(0, 10]   1404.586836  11.800434  0.000908\n",
       "(10, 20]  1404.586836  11.800434  0.000908\n",
       "(20, 80]  1404.586836  11.800434  0.000908"
      ]
     },
     "execution_count": 40,
     "metadata": {},
     "output_type": "execute_result"
    }
   ],
   "source": [
    "res"
   ]
  },
  {
   "cell_type": "markdown",
   "metadata": {
    "collapsed": true
   },
   "source": [
    "## Stratify by PM2.5"
   ]
  },
  {
   "cell_type": "code",
   "execution_count": 41,
   "metadata": {
    "collapsed": false
   },
   "outputs": [
    {
     "data": {
      "text/plain": [
       "<matplotlib.axes._subplots.AxesSubplot at 0xb342ae1898>"
      ]
     },
     "execution_count": 41,
     "metadata": {},
     "output_type": "execute_result"
    },
    {
     "data": {
      "image/png": "[encoded data removed]",
      "text/plain": [
       "<matplotlib.figure.Figure at 0xb342ae88d0>"
      ]
     },
     "metadata": {},
     "output_type": "display_data"
    }
   ],
   "source": [
    "Circul_AP_Y.PM25.hist()"
   ]
  },
  {
   "cell_type": "code",
   "execution_count": 47,
   "metadata": {
    "collapsed": true
   },
   "outputs": [],
   "source": [
    "Circul_AP_Y['PM25_cat'] = pd.cut(Circul_AP_Y.PM25, [0,12,16,22])"
   ]
  },
  {
   "cell_type": "code",
   "execution_count": 44,
   "metadata": {
    "collapsed": true
   },
   "outputs": [],
   "source": [
    "def do_regression(df):\n",
    "    # This is just the standard code for doing the regression\n",
    "    model = ols('DSR ~ PM25', data=Circul_AP_Y).fit()\n",
    "    \n",
    "    # Here we take the 'params' attribute of the model, which contains the values\n",
    "    # for the intercept and the coefficients for each of the inputs.\n",
    "    # We convert it to a dict to make it easier to work with (and so they are labelled\n",
    "    # with which one is which)\n",
    "    results = model.params.to_dict()\n",
    "    \n",
    "    # We then add an extra entry to the dict containing the r2 value\n",
    "    results['r2'] = model.rsquared\n",
    "    \n",
    "    # We then return a 'Series' created from the dict - a Series is basically a column or a row\n",
    "    # of a pandas DataFrame - so here it is a row containing the intercept, the coefficient for 'b'\n",
    "    # and the r2 value\n",
    "    return pd.Series(results)"
   ]
  },
  {
   "cell_type": "code",
   "execution_count": 48,
   "metadata": {
    "collapsed": true
   },
   "outputs": [],
   "source": [
    "res = Circul_AP_Y.groupby('PM25_cat').apply(do_regression)"
   ]
  },
  {
   "cell_type": "code",
   "execution_count": 49,
   "metadata": {
    "collapsed": false
   },
   "outputs": [
    {
     "data": {
      "text/html": [
       "<div>\n",
       "<table border=\"1\" class=\"dataframe\">\n",
       "  <thead>\n",
       "    <tr style=\"text-align: right;\">\n",
       "      <th></th>\n",
       "      <th>Intercept</th>\n",
       "      <th>PM25</th>\n",
       "      <th>r2</th>\n",
       "    </tr>\n",
       "    <tr>\n",
       "      <th>PM25_cat</th>\n",
       "      <th></th>\n",
       "      <th></th>\n",
       "      <th></th>\n",
       "    </tr>\n",
       "  </thead>\n",
       "  <tbody>\n",
       "    <tr>\n",
       "      <th>(0, 12]</th>\n",
       "      <td>1520.132096</td>\n",
       "      <td>24.154825</td>\n",
       "      <td>0.004599</td>\n",
       "    </tr>\n",
       "    <tr>\n",
       "      <th>(12, 16]</th>\n",
       "      <td>1520.132096</td>\n",
       "      <td>24.154825</td>\n",
       "      <td>0.004599</td>\n",
       "    </tr>\n",
       "    <tr>\n",
       "      <th>(16, 22]</th>\n",
       "      <td>1520.132096</td>\n",
       "      <td>24.154825</td>\n",
       "      <td>0.004599</td>\n",
       "    </tr>\n",
       "  </tbody>\n",
       "</table>\n",
       "</div>"
      ],
      "text/plain": [
       "            Intercept       PM25        r2\n",
       "PM25_cat                                  \n",
       "(0, 12]   1520.132096  24.154825  0.004599\n",
       "(12, 16]  1520.132096  24.154825  0.004599\n",
       "(16, 22]  1520.132096  24.154825  0.004599"
      ]
     },
     "execution_count": 49,
     "metadata": {},
     "output_type": "execute_result"
    }
   ],
   "source": [
    "res"
   ]
  },
  {
   "cell_type": "code",
   "execution_count": 50,
   "metadata": {
    "collapsed": true
   },
   "outputs": [],
   "source": [
    "Respir_AP_Y['PM25_cat'] = pd.cut(Respir_AP_Y.PM25, [0,12,16,22])"
   ]
  },
  {
   "cell_type": "code",
   "execution_count": 51,
   "metadata": {
    "collapsed": true
   },
   "outputs": [],
   "source": [
    "def do_regression(df):\n",
    "    # This is just the standard code for doing the regression\n",
    "    model = ols('DSR ~ PM25', data=Respir_AP_Y).fit()\n",
    "    \n",
    "    # Here we take the 'params' attribute of the model, which contains the values\n",
    "    # for the intercept and the coefficients for each of the inputs.\n",
    "    # We convert it to a dict to make it easier to work with (and so they are labelled\n",
    "    # with which one is which)\n",
    "    results = model.params.to_dict()\n",
    "    \n",
    "    # We then add an extra entry to the dict containing the r2 value\n",
    "    results['r2'] = model.rsquared\n",
    "    \n",
    "    # We then return a 'Series' created from the dict - a Series is basically a column or a row\n",
    "    # of a pandas DataFrame - so here it is a row containing the intercept, the coefficient for 'b'\n",
    "    # and the r2 value\n",
    "    return pd.Series(results)"
   ]
  },
  {
   "cell_type": "code",
   "execution_count": 52,
   "metadata": {
    "collapsed": true
   },
   "outputs": [],
   "source": [
    "res = Respir_AP_Y.groupby('PM25_cat').apply(do_regression)"
   ]
  },
  {
   "cell_type": "code",
   "execution_count": 53,
   "metadata": {
    "collapsed": false
   },
   "outputs": [
    {
     "data": {
      "text/html": [
       "<div>\n",
       "<table border=\"1\" class=\"dataframe\">\n",
       "  <thead>\n",
       "    <tr style=\"text-align: right;\">\n",
       "      <th></th>\n",
       "      <th>Intercept</th>\n",
       "      <th>PM25</th>\n",
       "      <th>r2</th>\n",
       "    </tr>\n",
       "    <tr>\n",
       "      <th>PM25_cat</th>\n",
       "      <th></th>\n",
       "      <th></th>\n",
       "      <th></th>\n",
       "    </tr>\n",
       "  </thead>\n",
       "  <tbody>\n",
       "    <tr>\n",
       "      <th>(0, 12]</th>\n",
       "      <td>1404.586836</td>\n",
       "      <td>11.800434</td>\n",
       "      <td>0.000908</td>\n",
       "    </tr>\n",
       "    <tr>\n",
       "      <th>(12, 16]</th>\n",
       "      <td>1404.586836</td>\n",
       "      <td>11.800434</td>\n",
       "      <td>0.000908</td>\n",
       "    </tr>\n",
       "    <tr>\n",
       "      <th>(16, 22]</th>\n",
       "      <td>1404.586836</td>\n",
       "      <td>11.800434</td>\n",
       "      <td>0.000908</td>\n",
       "    </tr>\n",
       "  </tbody>\n",
       "</table>\n",
       "</div>"
      ],
      "text/plain": [
       "            Intercept       PM25        r2\n",
       "PM25_cat                                  \n",
       "(0, 12]   1404.586836  11.800434  0.000908\n",
       "(12, 16]  1404.586836  11.800434  0.000908\n",
       "(16, 22]  1404.586836  11.800434  0.000908"
      ]
     },
     "execution_count": 53,
     "metadata": {},
     "output_type": "execute_result"
    }
   ],
   "source": [
    "res"
   ]
  },
  {
   "cell_type": "code",
   "execution_count": null,
   "metadata": {
    "collapsed": true
   },
   "outputs": [],
   "source": []
  }
 ],
 "metadata": {
  "kernelspec": {
   "display_name": "Python 3",
   "language": "python",
   "name": "python3"
  },
  "language_info": {
   "codemirror_mode": {
    "name": "ipython",
    "version": 3
   },
   "file_extension": ".py",
   "mimetype": "text/x-python",
   "name": "python",
   "nbconvert_exporter": "python",
   "pygments_lexer": "ipython3",
   "version": "3.5.1"
  }
 },
 "nbformat": 4,
 "nbformat_minor": 0
}
