{
 "cells": [
  {
   "cell_type": "markdown",
   "metadata": {},
   "source": [
    "## Set Libraries"
   ]
  },
  {
   "cell_type": "code",
   "execution_count": 5,
   "metadata": {
    "collapsed": true
   },
   "outputs": [],
   "source": [
    "import numpy as np\n",
    "import xarray as xr\n",
    "import rasterio\n",
    "%matplotlib inline\n",
    "from matplotlib.pyplot import *\n",
    "from glob import glob\n",
    "import os\n",
    "import datetime\n",
    "import glob\n",
    "import pandas as pd\n",
    "from rasterio_to_xarray import rasterio_to_xarray, xarray_to_rasterio"
   ]
  },
  {
   "cell_type": "markdown",
   "metadata": {},
   "source": [
    "## Function to read in the MAIAC files into a data array"
   ]
  },
  {
   "cell_type": "code",
   "execution_count": 6,
   "metadata": {
    "collapsed": true
   },
   "outputs": [],
   "source": [
    "def maiac_file_to_da(filename):\n",
    "    da = rasterio_to_xarray(filename)\n",
    "    \n",
    "    time_str = os.path.basename(filename)[17:-13]\n",
    "    time_obj = datetime.datetime.strptime(time_str, '%Y%j%H%M')\n",
    "    da.coords['time'] = time_obj\n",
    "    \n",
    "    return da"
   ]
  },
  {
   "cell_type": "markdown",
   "metadata": {},
   "source": [
    "files = glob(r'D:\\MAIAC_Data\\Europe\\h00v01\\Projected\\????\\*_proj.tif')"
   ]
  },
  {
   "cell_type": "code",
   "execution_count": 10,
   "metadata": {
    "collapsed": false
   },
   "outputs": [],
   "source": [
    "folders = glob.glob(r'D:\\MAIAC_Data\\Europe\\h00v01\\Projected\\????')"
   ]
  },
  {
   "cell_type": "code",
   "execution_count": 7,
   "metadata": {
    "collapsed": true
   },
   "outputs": [],
   "source": [
    "#folders = glob.glob(r'D:\\Annies_Dissertation\\MAIAC_Test\\Projected\\2014')"
   ]
  },
  {
   "cell_type": "code",
   "execution_count": 11,
   "metadata": {
    "collapsed": false,
    "scrolled": true
   },
   "outputs": [
    {
     "data": {
      "text/plain": [
       "['D:\\\\MAIAC_Data\\\\Europe\\\\h00v01\\\\Projected\\\\2000',\n",
       " 'D:\\\\MAIAC_Data\\\\Europe\\\\h00v01\\\\Projected\\\\2001',\n",
       " 'D:\\\\MAIAC_Data\\\\Europe\\\\h00v01\\\\Projected\\\\2002',\n",
       " 'D:\\\\MAIAC_Data\\\\Europe\\\\h00v01\\\\Projected\\\\2003',\n",
       " 'D:\\\\MAIAC_Data\\\\Europe\\\\h00v01\\\\Projected\\\\2004',\n",
       " 'D:\\\\MAIAC_Data\\\\Europe\\\\h00v01\\\\Projected\\\\2005',\n",
       " 'D:\\\\MAIAC_Data\\\\Europe\\\\h00v01\\\\Projected\\\\2006',\n",
       " 'D:\\\\MAIAC_Data\\\\Europe\\\\h00v01\\\\Projected\\\\2007',\n",
       " 'D:\\\\MAIAC_Data\\\\Europe\\\\h00v01\\\\Projected\\\\2008',\n",
       " 'D:\\\\MAIAC_Data\\\\Europe\\\\h00v01\\\\Projected\\\\2009',\n",
       " 'D:\\\\MAIAC_Data\\\\Europe\\\\h00v01\\\\Projected\\\\2010',\n",
       " 'D:\\\\MAIAC_Data\\\\Europe\\\\h00v01\\\\Projected\\\\2011',\n",
       " 'D:\\\\MAIAC_Data\\\\Europe\\\\h00v01\\\\Projected\\\\2012',\n",
       " 'D:\\\\MAIAC_Data\\\\Europe\\\\h00v01\\\\Projected\\\\2013',\n",
       " 'D:\\\\MAIAC_Data\\\\Europe\\\\h00v01\\\\Projected\\\\2014']"
      ]
     },
     "execution_count": 11,
     "metadata": {},
     "output_type": "execute_result"
    }
   ],
   "source": [
    "folders"
   ]
  },
  {
   "cell_type": "markdown",
   "metadata": {
    "collapsed": false,
    "scrolled": false
   },
   "source": [
    "for folder in folders:\n",
    "    files = glob.glob('{fname}\\*_proj.tif'.format(fname=folder))\n",
    "    print('Processing {fname}'.format(fname=folder))\n",
    "    print(files)"
   ]
  },
  {
   "cell_type": "markdown",
   "metadata": {},
   "source": [
    "## For loop to read MAIAC files in, year by year and create NetCDF files."
   ]
  },
  {
   "cell_type": "markdown",
   "metadata": {},
   "source": [
    "### AOT"
   ]
  },
  {
   "cell_type": "code",
   "execution_count": 13,
   "metadata": {
    "collapsed": false,
    "scrolled": true
   },
   "outputs": [
    {
     "name": "stdout",
     "output_type": "stream",
     "text": [
      "Processed D:\\MAIAC_Data\\Europe\\h00v01\\Projected\\2000\n",
      "Processed D:\\MAIAC_Data\\Europe\\h00v01\\Projected\\2001\n",
      "Processed D:\\MAIAC_Data\\Europe\\h00v01\\Projected\\2002\n",
      "Processed D:\\MAIAC_Data\\Europe\\h00v01\\Projected\\2003\n",
      "Processed D:\\MAIAC_Data\\Europe\\h00v01\\Projected\\2004\n",
      "Processed D:\\MAIAC_Data\\Europe\\h00v01\\Projected\\2005\n",
      "Processed D:\\MAIAC_Data\\Europe\\h00v01\\Projected\\2006\n",
      "Processed D:\\MAIAC_Data\\Europe\\h00v01\\Projected\\2007\n",
      "Processed D:\\MAIAC_Data\\Europe\\h00v01\\Projected\\2008\n",
      "Processed D:\\MAIAC_Data\\Europe\\h00v01\\Projected\\2009\n",
      "Processed D:\\MAIAC_Data\\Europe\\h00v01\\Projected\\2010\n",
      "Processed D:\\MAIAC_Data\\Europe\\h00v01\\Projected\\2011\n",
      "Processed D:\\MAIAC_Data\\Europe\\h00v01\\Projected\\2012\n",
      "Processed D:\\MAIAC_Data\\Europe\\h00v01\\Projected\\2013\n",
      "Processed D:\\MAIAC_Data\\Europe\\h00v01\\Projected\\2014\n"
     ]
    }
   ],
   "source": [
    "for folder in folders:\n",
    "    files = glob.glob(r'{fname}\\*_proj.tif'.format(fname=folder))\n",
    "    list_of_das = map(maiac_file_to_da, files)\n",
    "    MAIAC_AOT = xr.concat(list_of_das, 'time')\n",
    "    reordered_MAIAC_AOT = MAIAC_AOT.isel(time=np.argsort(MAIAC_AOT.time))\n",
    "    ds = reordered_MAIAC_AOT.to_dataset(name = 'data')\n",
    "    ds.to_netcdf(r'D:\\MAIAC_Data\\Europe\\h00v01\\nc_files\\{fol_name}_AOT.nc'.format(fol_name=os.path.basename(folder)))\n",
    "    \n",
    "    print('Processed {fname}'.format(fname=folder))"
   ]
  },
  {
   "cell_type": "markdown",
   "metadata": {},
   "source": [
    "### PM2.5"
   ]
  },
  {
   "cell_type": "code",
   "execution_count": 14,
   "metadata": {
    "collapsed": false,
    "scrolled": true
   },
   "outputs": [
    {
     "name": "stdout",
     "output_type": "stream",
     "text": [
      "Processed D:\\MAIAC_Data\\Europe\\h00v01\\Projected\\2000\n",
      "Processed D:\\MAIAC_Data\\Europe\\h00v01\\Projected\\2001\n",
      "Processed D:\\MAIAC_Data\\Europe\\h00v01\\Projected\\2002\n",
      "Processed D:\\MAIAC_Data\\Europe\\h00v01\\Projected\\2003\n",
      "Processed D:\\MAIAC_Data\\Europe\\h00v01\\Projected\\2004\n",
      "Processed D:\\MAIAC_Data\\Europe\\h00v01\\Projected\\2005\n",
      "Processed D:\\MAIAC_Data\\Europe\\h00v01\\Projected\\2006\n",
      "Processed D:\\MAIAC_Data\\Europe\\h00v01\\Projected\\2007\n",
      "Processed D:\\MAIAC_Data\\Europe\\h00v01\\Projected\\2008\n",
      "Processed D:\\MAIAC_Data\\Europe\\h00v01\\Projected\\2009\n",
      "Processed D:\\MAIAC_Data\\Europe\\h00v01\\Projected\\2010\n",
      "Processed D:\\MAIAC_Data\\Europe\\h00v01\\Projected\\2011\n",
      "Processed D:\\MAIAC_Data\\Europe\\h00v01\\Projected\\2012\n",
      "Processed D:\\MAIAC_Data\\Europe\\h00v01\\Projected\\2013\n",
      "Processed D:\\MAIAC_Data\\Europe\\h00v01\\Projected\\2014\n"
     ]
    }
   ],
   "source": [
    "for folder in folders:\n",
    "    files = glob.glob(r'{fname}\\*_PM25.tif'.format(fname=folder))\n",
    "    list_of_das = map(maiac_file_to_da, files)\n",
    "    MAIAC_AOT = xr.concat(list_of_das, 'time')\n",
    "    reordered_MAIAC_AOT = MAIAC_AOT.isel(time=np.argsort(MAIAC_AOT.time))\n",
    "    ds = reordered_MAIAC_AOT.to_dataset(name = 'data')\n",
    "    ds.to_netcdf(r'D:\\MAIAC_Data\\Europe\\h00v01\\nc_files\\{fol_name}_PM25.nc'.format(fol_name=os.path.basename(folder)))\n",
    "    \n",
    "    print('Processed {fname}'.format(fname=folder))"
   ]
  },
  {
   "cell_type": "markdown",
   "metadata": {},
   "source": [
    "all_data = xr.open_mfdataset(r'D:\\Annies_Dissertation\\Methodology\\Validation\\AERONET\\Test\\*.nc', \n",
    "                                 chunks={'time':10}, concat_dim='time')\n",
    "                                 \n",
    "all_data = all_data['data']"
   ]
  },
  {
   "cell_type": "markdown",
   "metadata": {},
   "source": [
    "## For loop to read the MAIAC data in and extract AOT for a specific pixel (Chilbolton) and export as csv"
   ]
  },
  {
   "cell_type": "code",
   "execution_count": 8,
   "metadata": {
    "collapsed": false
   },
   "outputs": [
    {
     "name": "stdout",
     "output_type": "stream",
     "text": [
      "Processed D:\\MAIAC_Data\\Europe\\h00v01\\Projected\\2007\n"
     ]
    }
   ],
   "source": [
    "for folder in folders:\n",
    "    files = glob.glob(r'{fname}\\*_proj.tif'.format(fname=folder))\n",
    "    list_of_das = map(maiac_file_to_da, files)\n",
    "    MAIAC_AOT = xr.concat(list_of_das, 'time')\n",
    "    MAIAC_AOT.attrs.clear()\n",
    "    reordered_MAIAC_AOT = MAIAC_AOT.isel(time=np.argsort(MAIAC_AOT.time))\n",
    "    Measurements = reordered_MAIAC_AOT.isel(x=1103, y=1027).dropna('time').to_dataframe(name='MAIAC_AOT')\n",
    "    Measurements.to_csv(r'D:\\Annies_Dissertation\\Methodology\\Validation\\AERONET\\Test\\test.csv', mode='a')\n",
    "    print('Processed {fname}'.format(fname=folder))"
   ]
  },
  {
   "cell_type": "markdown",
   "metadata": {
    "collapsed": true
   },
   "source": [
    "Measurements.to_csv(r'D:\\Annies_Dissertation\\Methodology\\Validation\\AERONET\\Test\\Alldata.csv')"
   ]
  },
  {
   "cell_type": "code",
   "execution_count": null,
   "metadata": {
    "collapsed": true
   },
   "outputs": [],
   "source": [
    "    doc = open(r'D:\\Annies_Dissertation\\Methodology\\Validation\\AERONET\\Test\\Alldata.csv', 'a')\n",
    "    doc.write(Measurements)\n",
    "    doc.close()"
   ]
  },
  {
   "cell_type": "code",
   "execution_count": null,
   "metadata": {
    "collapsed": true
   },
   "outputs": [],
   "source": []
  },
  {
   "cell_type": "code",
   "execution_count": null,
   "metadata": {
    "collapsed": true
   },
   "outputs": [],
   "source": []
  },
  {
   "cell_type": "code",
   "execution_count": null,
   "metadata": {
    "collapsed": true
   },
   "outputs": [],
   "source": []
  },
  {
   "cell_type": "code",
   "execution_count": null,
   "metadata": {
    "collapsed": true
   },
   "outputs": [],
   "source": []
  },
  {
   "cell_type": "code",
   "execution_count": null,
   "metadata": {
    "collapsed": true
   },
   "outputs": [],
   "source": []
  },
  {
   "cell_type": "code",
   "execution_count": null,
   "metadata": {
    "collapsed": true
   },
   "outputs": [],
   "source": []
  },
  {
   "cell_type": "code",
   "execution_count": null,
   "metadata": {
    "collapsed": true
   },
   "outputs": [],
   "source": []
  },
  {
   "cell_type": "code",
   "execution_count": null,
   "metadata": {
    "collapsed": true
   },
   "outputs": [],
   "source": []
  },
  {
   "cell_type": "code",
   "execution_count": null,
   "metadata": {
    "collapsed": true
   },
   "outputs": [],
   "source": []
  }
 ],
 "metadata": {
  "kernelspec": {
   "display_name": "Python 3",
   "language": "python",
   "name": "python3"
  },
  "language_info": {
   "codemirror_mode": {
    "name": "ipython",
    "version": 3
   },
   "file_extension": ".py",
   "mimetype": "text/x-python",
   "name": "python",
   "nbconvert_exporter": "python",
   "pygments_lexer": "ipython3",
   "version": "3.5.1"
  }
 },
 "nbformat": 4,
 "nbformat_minor": 0
}
