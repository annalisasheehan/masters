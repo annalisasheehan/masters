{
 "cells": [
  {
   "cell_type": "code",
   "execution_count": 8,
   "metadata": {
    "collapsed": true
   },
   "outputs": [],
   "source": [
    "import xarray as xr\n",
    "import numpy as np\n",
    "from scipy import stats"
   ]
  },
  {
   "cell_type": "code",
   "execution_count": 2,
   "metadata": {
    "collapsed": true
   },
   "outputs": [],
   "source": [
    "da = xr.DataArray(np.random.rand(10,30,40), dims=['time','lat', 'long'])"
   ]
  },
  {
   "cell_type": "code",
   "execution_count": 15,
   "metadata": {
    "collapsed": true
   },
   "outputs": [],
   "source": [
    "def linear_trend(x):\n",
    "    pf = scipy.stats.linregress(x.time,x)\n",
    "    return xr.DataArray(pf[0])"
   ]
  },
  {
   "cell_type": "code",
   "execution_count": 16,
   "metadata": {
    "collapsed": false
   },
   "outputs": [],
   "source": [
    "stacked = da.stack(allpoints=['lat','long'])\n",
    "trend = stacked.groupby('allpoints').apply(linear_trend)\n",
    "trend_unstacked = trend.unstack('allpoints')"
   ]
  },
  {
   "cell_type": "code",
   "execution_count": 17,
   "metadata": {
    "collapsed": false
   },
   "outputs": [
    {
     "data": {
      "text/plain": [
       "<xarray.DataArray (lat: 30, long: 40)>\n",
       "array([[-0.00340678, -0.01371568, -0.02392285, ...,  0.01255715,\n",
       "         0.02833443,  0.03900344],\n",
       "       [ 0.01868886, -0.03899215,  0.02297375, ...,  0.0320939 ,\n",
       "        -0.05484758, -0.01977741],\n",
       "       [ 0.00123512,  0.04326   ,  0.02049104, ...,  0.00414205,\n",
       "         0.03759468,  0.04072851],\n",
       "       ..., \n",
       "       [-0.0561323 ,  0.01349638, -0.0232665 , ...,  0.01224333,\n",
       "         0.03503664,  0.03190654],\n",
       "       [ 0.02375378,  0.04015631, -0.01404412, ...,  0.01325369,\n",
       "        -0.03617578, -0.01220099],\n",
       "       [-0.02476901,  0.04751191,  0.00328284, ...,  0.04462214,\n",
       "        -0.01945342, -0.04418992]])\n",
       "Coordinates:\n",
       "  * lat      (lat) int64 0 1 2 3 4 5 6 7 8 9 10 11 12 13 14 15 16 17 18 19 ...\n",
       "  * long     (long) int64 0 1 2 3 4 5 6 7 8 9 10 11 12 13 14 15 16 17 18 19 ..."
      ]
     },
     "execution_count": 17,
     "metadata": {},
     "output_type": "execute_result"
    }
   ],
   "source": [
    "trend_unstacked"
   ]
  },
  {
   "cell_type": "code",
   "execution_count": null,
   "metadata": {
    "collapsed": true
   },
   "outputs": [],
   "source": []
  }
 ],
 "metadata": {
  "kernelspec": {
   "display_name": "Python 3",
   "language": "python",
   "name": "python3"
  },
  "language_info": {
   "codemirror_mode": {
    "name": "ipython",
    "version": 3
   },
   "file_extension": ".py",
   "mimetype": "text/x-python",
   "name": "python",
   "nbconvert_exporter": "python",
   "pygments_lexer": "ipython3",
   "version": "3.5.1"
  }
 },
 "nbformat": 4,
 "nbformat_minor": 0
}
