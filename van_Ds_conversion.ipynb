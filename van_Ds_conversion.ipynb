{
 "cells": [
  {
   "cell_type": "code",
   "execution_count": 4,
   "metadata": {
    "collapsed": true
   },
   "outputs": [],
   "source": [
    "import os\n",
    "import gdal\n",
    "import glob"
   ]
  },
  {
   "cell_type": "markdown",
   "metadata": {},
   "source": [
    "# Reproject vanD's images into the same perojection as the MAIAC data"
   ]
  },
  {
   "cell_type": "code",
   "execution_count": 2,
   "metadata": {
    "collapsed": false
   },
   "outputs": [
    {
     "name": "stdout",
     "output_type": "stream",
     "text": [
      "Driver: GTiff/GeoTIFF\n",
      "Files: D:\\Annies_Dissertation\\MAIAC_Test\\vanDs\\eta_Monthly.tif\n",
      "Size is 3600, 1250\n",
      "Coordinate System is:\n",
      "GEOGCS[\"WGS 84\",\n",
      "    DATUM[\"WGS_1984\",\n",
      "        SPHEROID[\"WGS 84\",6378137,298.257223563,\n",
      "            AUTHORITY[\"EPSG\",\"7030\"]],\n",
      "        AUTHORITY[\"EPSG\",\"6326\"]],\n",
      "    PRIMEM[\"Greenwich\",0],\n",
      "    UNIT[\"degree\",0.0174532925199433],\n",
      "    AUTHORITY[\"EPSG\",\"4326\"]]\n",
      "Origin = (-179.949999999999989,69.950000000000003)\n",
      "Pixel Size = (0.100000000000000,-0.100000000000000)\n",
      "Metadata:\n",
      "  AREA_OR_POINT=Area\n",
      "Image Structure Metadata:\n",
      "  INTERLEAVE=PIXEL\n",
      "Corner Coordinates:\n",
      "Upper Left  (-179.9500000,  69.9500000) (179d57' 0.00\"W, 69d57' 0.00\"N)\n",
      "Lower Left  (-179.9500000, -55.0500000) (179d57' 0.00\"W, 55d 3' 0.00\"S)\n",
      "Upper Right ( 180.0500000,  69.9500000) (180d 3' 0.00\"E, 69d57' 0.00\"N)\n",
      "Lower Right ( 180.0500000, -55.0500000) (180d 3' 0.00\"E, 55d 3' 0.00\"S)\n",
      "Center      (   0.0500000,   7.4500000) (  0d 3' 0.00\"E,  7d27' 0.00\"N)\n",
      "Band 1 Block=3600x1 Type=Float32, ColorInterp=Gray\n",
      "  Min=-999.000 Max=244.900 \n",
      "  Minimum=-999.000, Maximum=244.900, Mean=47.297, StdDev=92.528\n",
      "  Metadata:\n",
      "    STATISTICS_MAXIMUM=244.89999389648\n",
      "    STATISTICS_MEAN=47.297049377244\n",
      "    STATISTICS_MINIMUM=-999\n",
      "    STATISTICS_STDDEV=92.528038742376\n",
      "Band 2 Block=3600x1 Type=Float32, ColorInterp=Undefined\n",
      "  Min=-999.000 Max=198.200 \n",
      "  Minimum=-999.000, Maximum=198.200, Mean=44.999, StdDev=91.206\n",
      "  Metadata:\n",
      "    STATISTICS_MAXIMUM=198.19999694824\n",
      "    STATISTICS_MEAN=44.99885416872\n",
      "    STATISTICS_MINIMUM=-999\n",
      "    STATISTICS_STDDEV=91.206214156015\n",
      "Band 3 Block=3600x1 Type=Float32, ColorInterp=Undefined\n",
      "  Min=-999.000 Max=178.100 \n",
      "  Minimum=-999.000, Maximum=178.100, Mean=41.216, StdDev=89.880\n",
      "  Metadata:\n",
      "    STATISTICS_MAXIMUM=178.10000610352\n",
      "    STATISTICS_MEAN=41.216276224285\n",
      "    STATISTICS_MINIMUM=-999\n",
      "    STATISTICS_STDDEV=89.879651128126\n",
      "Band 4 Block=3600x1 Type=Float32, ColorInterp=Undefined\n",
      "Band 5 Block=3600x1 Type=Float32, ColorInterp=Undefined\n",
      "Band 6 Block=3600x1 Type=Float32, ColorInterp=Undefined\n",
      "Band 7 Block=3600x1 Type=Float32, ColorInterp=Undefined\n",
      "Band 8 Block=3600x1 Type=Float32, ColorInterp=Undefined\n",
      "Band 9 Block=3600x1 Type=Float32, ColorInterp=Undefined\n",
      "Band 10 Block=3600x1 Type=Float32, ColorInterp=Undefined\n",
      "Band 11 Block=3600x1 Type=Float32, ColorInterp=Undefined\n",
      "Band 12 Block=3600x1 Type=Float32, ColorInterp=Undefined\n",
      "\n"
     ]
    }
   ],
   "source": [
    "vand_info = gdal.Info(r'D:\\Annies_Dissertation\\MAIAC_Test\\vanDs\\eta_Monthly.tif')\n",
    "print(vand_info)"
   ]
  },
  {
   "cell_type": "markdown",
   "metadata": {},
   "source": [
    "# Split/resample pixels based on MAIAC data"
   ]
  },
  {
   "cell_type": "code",
   "execution_count": 6,
   "metadata": {
    "collapsed": false
   },
   "outputs": [
    {
     "data": {
      "text/plain": [
       "<osgeo.gdal.Dataset; proxy of <Swig Object of type 'GDALDatasetShadow *' at 0x000000071F5D29C0> >"
      ]
     },
     "execution_count": 6,
     "metadata": {},
     "output_type": "execute_result"
    }
   ],
   "source": [
    "gdal.Warp(r'D:\\Annies_Dissertation\\MAIAC_Test\\vanDs\\eta_proj.tif',r'D:\\Annies_Dissertation\\MAIAC_Test\\vanDs\\eta_Monthly.tif', srcSRS = 'EPSG:4326', dstSRS = 'EPSG:27700')"
   ]
  },
  {
   "cell_type": "code",
   "execution_count": null,
   "metadata": {
    "collapsed": true
   },
   "outputs": [],
   "source": [
    "import arcpy\n",
    "arcpy.Resample_management(r'D:\\Annies_Dissertation\\MAIAC_Test\\vanDs\\eta_proj.tif', r'D:\\Annies_Dissertation\\MAIAC_Test\\vanDs\\eta_resampled.tif',\n",
    "                         ,\"BILINEAR\")"
   ]
  },
  {
   "cell_type": "code",
   "execution_count": null,
   "metadata": {
    "collapsed": true
   },
   "outputs": [],
   "source": [
    "# Replace a layer/table view name with a path to a dataset (which can be a layer file) or create the layer/table view within the script\n",
    "# The following inputs are layers or table views: \"eta_proj.tif\", \"MAIACAAOT.h00v01.20140031240.hdf_proj.tif\"\n",
    "arcpy.Resample_management(in_raster=\"eta_proj.tif\", out_raster=\"D:/Annies_Dissertation/MAIAC_Test/vanDs/vanDs.gdb/eta_Resample\", \n",
    "                          cell_size=\"MAIACAAOT.h00v01.20140031240.hdf_proj.tif\", resampling_type=\"BILINEAR\")"
   ]
  }
 ],
 "metadata": {
  "kernelspec": {
   "display_name": "Python 3",
   "language": "python",
   "name": "python3"
  },
  "language_info": {
   "codemirror_mode": {
    "name": "ipython",
    "version": 3
   },
   "file_extension": ".py",
   "mimetype": "text/x-python",
   "name": "python",
   "nbconvert_exporter": "python",
   "pygments_lexer": "ipython3",
   "version": "3.5.1"
  }
 },
 "nbformat": 4,
 "nbformat_minor": 0
}
