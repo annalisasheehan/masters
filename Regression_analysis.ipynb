{
 "cells": [
  {
   "cell_type": "code",
   "execution_count": 55,
   "metadata": {
    "collapsed": true
   },
   "outputs": [],
   "source": [
    "import pandas as pd\n",
    "from statsmodels.formula.api import ols\n",
    "import statsmodels.api as sm\n",
    "%matplotlib inline\n",
    "import matplotlib.pyplot as plt\n",
    "import seaborn as sns\n",
    "import numpy as np"
   ]
  },
  {
   "cell_type": "markdown",
   "metadata": {},
   "source": [
    "# Nomenclature\n",
    "- DSR- Age-standardised rate for hospital admissions\n",
    "- lcl- Lower Confidence limit\n",
    "- ucl- Upper Confidence limit\n",
    "- score- Index of Multiple Deprivation Score\n",
    "- rank- Index of Multiple Deprivation Rank\n",
    "- decile- Index of Multiple Deprivation Decile"
   ]
  },
  {
   "cell_type": "markdown",
   "metadata": {},
   "source": [
    "# Append HES data to have one file with all the years data for each disease group"
   ]
  },
  {
   "cell_type": "code",
   "execution_count": 3,
   "metadata": {
    "collapsed": true
   },
   "outputs": [],
   "source": [
    "Circulatory2009 = pd.read_csv(r'D:\\Annies_Dissertation\\Analysis\\Regression\\HES\\AllCirculatory_monthly_2009.csv')"
   ]
  },
  {
   "cell_type": "code",
   "execution_count": 4,
   "metadata": {
    "collapsed": true
   },
   "outputs": [],
   "source": [
    "Circulatory2010 = pd.read_csv(r'D:\\Annies_Dissertation\\Analysis\\Regression\\HES\\AllCirculatory_monthly_2010.csv')"
   ]
  },
  {
   "cell_type": "code",
   "execution_count": 5,
   "metadata": {
    "collapsed": true
   },
   "outputs": [],
   "source": [
    "Circulatory2011 = pd.read_csv(r'D:\\Annies_Dissertation\\Analysis\\Regression\\HES\\AllCirculatory_monthly_2011.csv')"
   ]
  },
  {
   "cell_type": "code",
   "execution_count": 6,
   "metadata": {
    "collapsed": true
   },
   "outputs": [],
   "source": [
    "Circulatory2012 = pd.read_csv(r'D:\\Annies_Dissertation\\Analysis\\Regression\\HES\\AllCirculatory_monthly_2012.csv')"
   ]
  },
  {
   "cell_type": "code",
   "execution_count": 7,
   "metadata": {
    "collapsed": true
   },
   "outputs": [],
   "source": [
    "Circulatory2013 = pd.read_csv(r'D:\\Annies_Dissertation\\Analysis\\Regression\\HES\\AllCirculatory_monthly_2013.csv')"
   ]
  },
  {
   "cell_type": "code",
   "execution_count": 8,
   "metadata": {
    "collapsed": true
   },
   "outputs": [],
   "source": [
    "Circulatory2014 = pd.read_csv(r'D:\\Annies_Dissertation\\Analysis\\Regression\\HES\\AllCirculatory_monthly_2014.csv')"
   ]
  },
  {
   "cell_type": "code",
   "execution_count": 9,
   "metadata": {
    "collapsed": false
   },
   "outputs": [],
   "source": [
    "Circulatory_monthly = Circulatory2009.append([Circulatory2010, Circulatory2011, Circulatory2012, Circulatory2013, Circulatory2014])"
   ]
  },
  {
   "cell_type": "code",
   "execution_count": 10,
   "metadata": {
    "collapsed": false
   },
   "outputs": [
    {
     "data": {
      "text/html": [
       "<div>\n",
       "<table border=\"1\" class=\"dataframe\">\n",
       "  <thead>\n",
       "    <tr style=\"text-align: right;\">\n",
       "      <th></th>\n",
       "      <th>Disease</th>\n",
       "      <th>year</th>\n",
       "      <th>month</th>\n",
       "      <th>lsoa11</th>\n",
       "      <th>n</th>\n",
       "      <th>DSR</th>\n",
       "      <th>lcl</th>\n",
       "      <th>ucl</th>\n",
       "      <th>score</th>\n",
       "      <th>rank</th>\n",
       "      <th>decile</th>\n",
       "    </tr>\n",
       "  </thead>\n",
       "  <tbody>\n",
       "    <tr>\n",
       "      <th>0</th>\n",
       "      <td>All Circulatory</td>\n",
       "      <td>2009</td>\n",
       "      <td>1</td>\n",
       "      <td>E01015272</td>\n",
       "      <td>NaN</td>\n",
       "      <td>69.247604</td>\n",
       "      <td>8.247776</td>\n",
       "      <td>250.557617</td>\n",
       "      <td>11.430000</td>\n",
       "      <td>22492</td>\n",
       "      <td>7</td>\n",
       "    </tr>\n",
       "    <tr>\n",
       "      <th>1</th>\n",
       "      <td>All Circulatory</td>\n",
       "      <td>2009</td>\n",
       "      <td>1</td>\n",
       "      <td>E01015273</td>\n",
       "      <td>NaN</td>\n",
       "      <td>147.841522</td>\n",
       "      <td>3.743035</td>\n",
       "      <td>823.720154</td>\n",
       "      <td>33.619999</td>\n",
       "      <td>6665</td>\n",
       "      <td>3</td>\n",
       "    </tr>\n",
       "    <tr>\n",
       "      <th>2</th>\n",
       "      <td>All Circulatory</td>\n",
       "      <td>2009</td>\n",
       "      <td>1</td>\n",
       "      <td>E01015274</td>\n",
       "      <td>NaN</td>\n",
       "      <td>187.446503</td>\n",
       "      <td>38.159660</td>\n",
       "      <td>549.000244</td>\n",
       "      <td>20.290001</td>\n",
       "      <td>13991</td>\n",
       "      <td>5</td>\n",
       "    </tr>\n",
       "    <tr>\n",
       "      <th>3</th>\n",
       "      <td>All Circulatory</td>\n",
       "      <td>2009</td>\n",
       "      <td>1</td>\n",
       "      <td>E01015275</td>\n",
       "      <td>NaN</td>\n",
       "      <td>309.000488</td>\n",
       "      <td>59.781487</td>\n",
       "      <td>912.577210</td>\n",
       "      <td>19.780001</td>\n",
       "      <td>14447</td>\n",
       "      <td>5</td>\n",
       "    </tr>\n",
       "    <tr>\n",
       "      <th>4</th>\n",
       "      <td>All Circulatory</td>\n",
       "      <td>2009</td>\n",
       "      <td>1</td>\n",
       "      <td>E01015276</td>\n",
       "      <td>NaN</td>\n",
       "      <td>162.742996</td>\n",
       "      <td>15.881656</td>\n",
       "      <td>599.259460</td>\n",
       "      <td>26.400000</td>\n",
       "      <td>10063</td>\n",
       "      <td>4</td>\n",
       "    </tr>\n",
       "  </tbody>\n",
       "</table>\n",
       "</div>"
      ],
      "text/plain": [
       "           Disease  year  month     lsoa11   n         DSR        lcl  \\\n",
       "0  All Circulatory  2009      1  E01015272 NaN   69.247604   8.247776   \n",
       "1  All Circulatory  2009      1  E01015273 NaN  147.841522   3.743035   \n",
       "2  All Circulatory  2009      1  E01015274 NaN  187.446503  38.159660   \n",
       "3  All Circulatory  2009      1  E01015275 NaN  309.000488  59.781487   \n",
       "4  All Circulatory  2009      1  E01015276 NaN  162.742996  15.881656   \n",
       "\n",
       "          ucl      score   rank  decile  \n",
       "0  250.557617  11.430000  22492       7  \n",
       "1  823.720154  33.619999   6665       3  \n",
       "2  549.000244  20.290001  13991       5  \n",
       "3  912.577210  19.780001  14447       5  \n",
       "4  599.259460  26.400000  10063       4  "
      ]
     },
     "execution_count": 10,
     "metadata": {},
     "output_type": "execute_result"
    }
   ],
   "source": [
    "Circulatory_monthly[:5]"
   ]
  },
  {
   "cell_type": "code",
   "execution_count": 11,
   "metadata": {
    "collapsed": false
   },
   "outputs": [],
   "source": [
    "Circulatory_monthly.to_csv(r'D:\\Annies_Dissertation\\Analysis\\Regression\\HES\\AllCirculatory_monthly_all.csv')"
   ]
  },
  {
   "cell_type": "code",
   "execution_count": 12,
   "metadata": {
    "collapsed": true
   },
   "outputs": [],
   "source": [
    "Respiratory_2009 = pd.read_csv(r'D:\\Annies_Dissertation\\Analysis\\Regression\\HES\\AllRespiratory_monthly_2009.csv')"
   ]
  },
  {
   "cell_type": "code",
   "execution_count": 13,
   "metadata": {
    "collapsed": true
   },
   "outputs": [],
   "source": [
    "Respiratory_2010 = pd.read_csv(r'D:\\Annies_Dissertation\\Analysis\\Regression\\HES\\AllRespiratory_monthly_2010.csv')"
   ]
  },
  {
   "cell_type": "code",
   "execution_count": 14,
   "metadata": {
    "collapsed": true
   },
   "outputs": [],
   "source": [
    "Respiratory_2011 = pd.read_csv(r'D:\\Annies_Dissertation\\Analysis\\Regression\\HES\\AllRespiratory_monthly_2011.csv')"
   ]
  },
  {
   "cell_type": "code",
   "execution_count": 15,
   "metadata": {
    "collapsed": true
   },
   "outputs": [],
   "source": [
    "Respiratory_2012 = pd.read_csv(r'D:\\Annies_Dissertation\\Analysis\\Regression\\HES\\AllRespiratory_monthly_2012.csv')"
   ]
  },
  {
   "cell_type": "code",
   "execution_count": 16,
   "metadata": {
    "collapsed": true
   },
   "outputs": [],
   "source": [
    "Respiratory_2013 = pd.read_csv(r'D:\\Annies_Dissertation\\Analysis\\Regression\\HES\\AllRespiratory_monthly_2013.csv')"
   ]
  },
  {
   "cell_type": "code",
   "execution_count": 17,
   "metadata": {
    "collapsed": true
   },
   "outputs": [],
   "source": [
    "Respiratory_2014 = pd.read_csv(r'D:\\Annies_Dissertation\\Analysis\\Regression\\HES\\AllRespiratory_monthly_2014.csv')"
   ]
  },
  {
   "cell_type": "code",
   "execution_count": 18,
   "metadata": {
    "collapsed": false,
    "scrolled": true
   },
   "outputs": [],
   "source": [
    "Respiratory_monthly = Respiratory_2009.append([Respiratory_2010, Respiratory_2011, Respiratory_2012, Respiratory_2013, Respiratory_2014])"
   ]
  },
  {
   "cell_type": "code",
   "execution_count": 19,
   "metadata": {
    "collapsed": false
   },
   "outputs": [
    {
     "data": {
      "text/html": [
       "<div>\n",
       "<table border=\"1\" class=\"dataframe\">\n",
       "  <thead>\n",
       "    <tr style=\"text-align: right;\">\n",
       "      <th></th>\n",
       "      <th>Disease</th>\n",
       "      <th>year</th>\n",
       "      <th>month</th>\n",
       "      <th>lsoa11</th>\n",
       "      <th>n</th>\n",
       "      <th>DSR</th>\n",
       "      <th>lcl</th>\n",
       "      <th>ucl</th>\n",
       "      <th>score</th>\n",
       "      <th>rank</th>\n",
       "      <th>decile</th>\n",
       "    </tr>\n",
       "  </thead>\n",
       "  <tbody>\n",
       "    <tr>\n",
       "      <th>0</th>\n",
       "      <td>All Respiratory</td>\n",
       "      <td>2009</td>\n",
       "      <td>1</td>\n",
       "      <td>E01015274</td>\n",
       "      <td>NaN</td>\n",
       "      <td>78.530869</td>\n",
       "      <td>1.988227</td>\n",
       "      <td>437.546020</td>\n",
       "      <td>20.290001</td>\n",
       "      <td>13991</td>\n",
       "      <td>5</td>\n",
       "    </tr>\n",
       "    <tr>\n",
       "      <th>1</th>\n",
       "      <td>All Respiratory</td>\n",
       "      <td>2009</td>\n",
       "      <td>1</td>\n",
       "      <td>E01015275</td>\n",
       "      <td>NaN</td>\n",
       "      <td>198.915909</td>\n",
       "      <td>20.564419</td>\n",
       "      <td>729.030701</td>\n",
       "      <td>19.780001</td>\n",
       "      <td>14447</td>\n",
       "      <td>5</td>\n",
       "    </tr>\n",
       "    <tr>\n",
       "      <th>2</th>\n",
       "      <td>All Respiratory</td>\n",
       "      <td>2009</td>\n",
       "      <td>1</td>\n",
       "      <td>E01015276</td>\n",
       "      <td>8.0</td>\n",
       "      <td>519.371643</td>\n",
       "      <td>196.146973</td>\n",
       "      <td>1071.320923</td>\n",
       "      <td>26.400000</td>\n",
       "      <td>10063</td>\n",
       "      <td>4</td>\n",
       "    </tr>\n",
       "    <tr>\n",
       "      <th>3</th>\n",
       "      <td>All Respiratory</td>\n",
       "      <td>2009</td>\n",
       "      <td>1</td>\n",
       "      <td>E01015277</td>\n",
       "      <td>6.0</td>\n",
       "      <td>607.023254</td>\n",
       "      <td>197.484589</td>\n",
       "      <td>1368.225708</td>\n",
       "      <td>35.400002</td>\n",
       "      <td>5995</td>\n",
       "      <td>2</td>\n",
       "    </tr>\n",
       "    <tr>\n",
       "      <th>4</th>\n",
       "      <td>All Respiratory</td>\n",
       "      <td>2009</td>\n",
       "      <td>1</td>\n",
       "      <td>E01015279</td>\n",
       "      <td>5.0</td>\n",
       "      <td>469.725189</td>\n",
       "      <td>136.399750</td>\n",
       "      <td>1128.015015</td>\n",
       "      <td>45.439999</td>\n",
       "      <td>3096</td>\n",
       "      <td>1</td>\n",
       "    </tr>\n",
       "  </tbody>\n",
       "</table>\n",
       "</div>"
      ],
      "text/plain": [
       "           Disease  year  month     lsoa11    n         DSR         lcl  \\\n",
       "0  All Respiratory  2009      1  E01015274  NaN   78.530869    1.988227   \n",
       "1  All Respiratory  2009      1  E01015275  NaN  198.915909   20.564419   \n",
       "2  All Respiratory  2009      1  E01015276  8.0  519.371643  196.146973   \n",
       "3  All Respiratory  2009      1  E01015277  6.0  607.023254  197.484589   \n",
       "4  All Respiratory  2009      1  E01015279  5.0  469.725189  136.399750   \n",
       "\n",
       "           ucl      score   rank  decile  \n",
       "0   437.546020  20.290001  13991       5  \n",
       "1   729.030701  19.780001  14447       5  \n",
       "2  1071.320923  26.400000  10063       4  \n",
       "3  1368.225708  35.400002   5995       2  \n",
       "4  1128.015015  45.439999   3096       1  "
      ]
     },
     "execution_count": 19,
     "metadata": {},
     "output_type": "execute_result"
    }
   ],
   "source": [
    "Respiratory_monthly[:5]"
   ]
  },
  {
   "cell_type": "code",
   "execution_count": 20,
   "metadata": {
    "collapsed": true
   },
   "outputs": [],
   "source": [
    "Respiratory_monthly.to_csv(r'D:\\Annies_Dissertation\\Analysis\\Regression\\HES\\AllRespiratory_monthly_all.csv')"
   ]
  },
  {
   "cell_type": "markdown",
   "metadata": {},
   "source": [
    "# Correlation between HES and Deprivation for each disease group"
   ]
  },
  {
   "cell_type": "code",
   "execution_count": 21,
   "metadata": {
    "collapsed": false
   },
   "outputs": [
    {
     "data": {
      "text/html": [
       "<div>\n",
       "<table border=\"1\" class=\"dataframe\">\n",
       "  <thead>\n",
       "    <tr style=\"text-align: right;\">\n",
       "      <th></th>\n",
       "      <th>year</th>\n",
       "      <th>month</th>\n",
       "      <th>n</th>\n",
       "      <th>DSR</th>\n",
       "      <th>lcl</th>\n",
       "      <th>ucl</th>\n",
       "      <th>score</th>\n",
       "      <th>rank</th>\n",
       "      <th>decile</th>\n",
       "    </tr>\n",
       "  </thead>\n",
       "  <tbody>\n",
       "    <tr>\n",
       "      <th>year</th>\n",
       "      <td>1.000000</td>\n",
       "      <td>-0.134387</td>\n",
       "      <td>-0.030545</td>\n",
       "      <td>-0.040880</td>\n",
       "      <td>-0.025295</td>\n",
       "      <td>-0.045691</td>\n",
       "      <td>-0.001220</td>\n",
       "      <td>0.001647</td>\n",
       "      <td>0.001644</td>\n",
       "    </tr>\n",
       "    <tr>\n",
       "      <th>month</th>\n",
       "      <td>-0.134387</td>\n",
       "      <td>1.000000</td>\n",
       "      <td>-0.000362</td>\n",
       "      <td>0.003560</td>\n",
       "      <td>0.003193</td>\n",
       "      <td>0.003997</td>\n",
       "      <td>-0.001423</td>\n",
       "      <td>0.001527</td>\n",
       "      <td>0.001707</td>\n",
       "    </tr>\n",
       "    <tr>\n",
       "      <th>n</th>\n",
       "      <td>-0.030545</td>\n",
       "      <td>-0.000362</td>\n",
       "      <td>1.000000</td>\n",
       "      <td>0.320652</td>\n",
       "      <td>0.552505</td>\n",
       "      <td>0.136253</td>\n",
       "      <td>-0.072681</td>\n",
       "      <td>0.069028</td>\n",
       "      <td>0.067572</td>\n",
       "    </tr>\n",
       "    <tr>\n",
       "      <th>DSR</th>\n",
       "      <td>-0.040880</td>\n",
       "      <td>0.003560</td>\n",
       "      <td>0.320652</td>\n",
       "      <td>1.000000</td>\n",
       "      <td>0.767823</td>\n",
       "      <td>0.858188</td>\n",
       "      <td>0.127943</td>\n",
       "      <td>-0.124632</td>\n",
       "      <td>-0.124085</td>\n",
       "    </tr>\n",
       "    <tr>\n",
       "      <th>lcl</th>\n",
       "      <td>-0.025295</td>\n",
       "      <td>0.003193</td>\n",
       "      <td>0.552505</td>\n",
       "      <td>0.767823</td>\n",
       "      <td>1.000000</td>\n",
       "      <td>0.384456</td>\n",
       "      <td>0.048002</td>\n",
       "      <td>-0.051779</td>\n",
       "      <td>-0.051582</td>\n",
       "    </tr>\n",
       "    <tr>\n",
       "      <th>ucl</th>\n",
       "      <td>-0.045691</td>\n",
       "      <td>0.003997</td>\n",
       "      <td>0.136253</td>\n",
       "      <td>0.858188</td>\n",
       "      <td>0.384456</td>\n",
       "      <td>1.000000</td>\n",
       "      <td>0.161196</td>\n",
       "      <td>-0.153549</td>\n",
       "      <td>-0.152712</td>\n",
       "    </tr>\n",
       "    <tr>\n",
       "      <th>score</th>\n",
       "      <td>-0.001220</td>\n",
       "      <td>-0.001423</td>\n",
       "      <td>-0.072681</td>\n",
       "      <td>0.127943</td>\n",
       "      <td>0.048002</td>\n",
       "      <td>0.161196</td>\n",
       "      <td>1.000000</td>\n",
       "      <td>-0.948870</td>\n",
       "      <td>-0.942694</td>\n",
       "    </tr>\n",
       "    <tr>\n",
       "      <th>rank</th>\n",
       "      <td>0.001647</td>\n",
       "      <td>0.001527</td>\n",
       "      <td>0.069028</td>\n",
       "      <td>-0.124632</td>\n",
       "      <td>-0.051779</td>\n",
       "      <td>-0.153549</td>\n",
       "      <td>-0.948870</td>\n",
       "      <td>1.000000</td>\n",
       "      <td>0.993970</td>\n",
       "    </tr>\n",
       "    <tr>\n",
       "      <th>decile</th>\n",
       "      <td>0.001644</td>\n",
       "      <td>0.001707</td>\n",
       "      <td>0.067572</td>\n",
       "      <td>-0.124085</td>\n",
       "      <td>-0.051582</td>\n",
       "      <td>-0.152712</td>\n",
       "      <td>-0.942694</td>\n",
       "      <td>0.993970</td>\n",
       "      <td>1.000000</td>\n",
       "    </tr>\n",
       "  </tbody>\n",
       "</table>\n",
       "</div>"
      ],
      "text/plain": [
       "            year     month         n       DSR       lcl       ucl     score  \\\n",
       "year    1.000000 -0.134387 -0.030545 -0.040880 -0.025295 -0.045691 -0.001220   \n",
       "month  -0.134387  1.000000 -0.000362  0.003560  0.003193  0.003997 -0.001423   \n",
       "n      -0.030545 -0.000362  1.000000  0.320652  0.552505  0.136253 -0.072681   \n",
       "DSR    -0.040880  0.003560  0.320652  1.000000  0.767823  0.858188  0.127943   \n",
       "lcl    -0.025295  0.003193  0.552505  0.767823  1.000000  0.384456  0.048002   \n",
       "ucl    -0.045691  0.003997  0.136253  0.858188  0.384456  1.000000  0.161196   \n",
       "score  -0.001220 -0.001423 -0.072681  0.127943  0.048002  0.161196  1.000000   \n",
       "rank    0.001647  0.001527  0.069028 -0.124632 -0.051779 -0.153549 -0.948870   \n",
       "decile  0.001644  0.001707  0.067572 -0.124085 -0.051582 -0.152712 -0.942694   \n",
       "\n",
       "            rank    decile  \n",
       "year    0.001647  0.001644  \n",
       "month   0.001527  0.001707  \n",
       "n       0.069028  0.067572  \n",
       "DSR    -0.124632 -0.124085  \n",
       "lcl    -0.051779 -0.051582  \n",
       "ucl    -0.153549 -0.152712  \n",
       "score  -0.948870 -0.942694  \n",
       "rank    1.000000  0.993970  \n",
       "decile  0.993970  1.000000  "
      ]
     },
     "execution_count": 21,
     "metadata": {},
     "output_type": "execute_result"
    }
   ],
   "source": [
    "Circulatory_monthly.corr()"
   ]
  },
  {
   "cell_type": "code",
   "execution_count": 22,
   "metadata": {
    "collapsed": false
   },
   "outputs": [
    {
     "data": {
      "text/html": [
       "<div>\n",
       "<table border=\"1\" class=\"dataframe\">\n",
       "  <thead>\n",
       "    <tr style=\"text-align: right;\">\n",
       "      <th></th>\n",
       "      <th>year</th>\n",
       "      <th>month</th>\n",
       "      <th>n</th>\n",
       "      <th>DSR</th>\n",
       "      <th>lcl</th>\n",
       "      <th>ucl</th>\n",
       "      <th>score</th>\n",
       "      <th>rank</th>\n",
       "      <th>decile</th>\n",
       "    </tr>\n",
       "  </thead>\n",
       "  <tbody>\n",
       "    <tr>\n",
       "      <th>year</th>\n",
       "      <td>1.000000</td>\n",
       "      <td>-0.140353</td>\n",
       "      <td>-0.015541</td>\n",
       "      <td>-0.018293</td>\n",
       "      <td>-0.003496</td>\n",
       "      <td>-0.035320</td>\n",
       "      <td>-0.006385</td>\n",
       "      <td>0.006342</td>\n",
       "      <td>0.006312</td>\n",
       "    </tr>\n",
       "    <tr>\n",
       "      <th>month</th>\n",
       "      <td>-0.140353</td>\n",
       "      <td>1.000000</td>\n",
       "      <td>0.055918</td>\n",
       "      <td>0.004694</td>\n",
       "      <td>0.014292</td>\n",
       "      <td>0.000949</td>\n",
       "      <td>-0.001268</td>\n",
       "      <td>0.001697</td>\n",
       "      <td>0.001888</td>\n",
       "    </tr>\n",
       "    <tr>\n",
       "      <th>n</th>\n",
       "      <td>-0.015541</td>\n",
       "      <td>0.055918</td>\n",
       "      <td>1.000000</td>\n",
       "      <td>0.438725</td>\n",
       "      <td>0.656848</td>\n",
       "      <td>0.250973</td>\n",
       "      <td>0.114798</td>\n",
       "      <td>-0.108293</td>\n",
       "      <td>-0.105778</td>\n",
       "    </tr>\n",
       "    <tr>\n",
       "      <th>DSR</th>\n",
       "      <td>-0.018293</td>\n",
       "      <td>0.004694</td>\n",
       "      <td>0.438725</td>\n",
       "      <td>1.000000</td>\n",
       "      <td>0.715479</td>\n",
       "      <td>0.886413</td>\n",
       "      <td>0.225213</td>\n",
       "      <td>-0.210699</td>\n",
       "      <td>-0.209203</td>\n",
       "    </tr>\n",
       "    <tr>\n",
       "      <th>lcl</th>\n",
       "      <td>-0.003496</td>\n",
       "      <td>0.014292</td>\n",
       "      <td>0.656848</td>\n",
       "      <td>0.715479</td>\n",
       "      <td>1.000000</td>\n",
       "      <td>0.376363</td>\n",
       "      <td>0.203070</td>\n",
       "      <td>-0.191814</td>\n",
       "      <td>-0.190304</td>\n",
       "    </tr>\n",
       "    <tr>\n",
       "      <th>ucl</th>\n",
       "      <td>-0.035320</td>\n",
       "      <td>0.000949</td>\n",
       "      <td>0.250973</td>\n",
       "      <td>0.886413</td>\n",
       "      <td>0.376363</td>\n",
       "      <td>1.000000</td>\n",
       "      <td>0.176114</td>\n",
       "      <td>-0.163244</td>\n",
       "      <td>-0.162613</td>\n",
       "    </tr>\n",
       "    <tr>\n",
       "      <th>score</th>\n",
       "      <td>-0.006385</td>\n",
       "      <td>-0.001268</td>\n",
       "      <td>0.114798</td>\n",
       "      <td>0.225213</td>\n",
       "      <td>0.203070</td>\n",
       "      <td>0.176114</td>\n",
       "      <td>1.000000</td>\n",
       "      <td>-0.947324</td>\n",
       "      <td>-0.941146</td>\n",
       "    </tr>\n",
       "    <tr>\n",
       "      <th>rank</th>\n",
       "      <td>0.006342</td>\n",
       "      <td>0.001697</td>\n",
       "      <td>-0.108293</td>\n",
       "      <td>-0.210699</td>\n",
       "      <td>-0.191814</td>\n",
       "      <td>-0.163244</td>\n",
       "      <td>-0.947324</td>\n",
       "      <td>1.000000</td>\n",
       "      <td>0.994135</td>\n",
       "    </tr>\n",
       "    <tr>\n",
       "      <th>decile</th>\n",
       "      <td>0.006312</td>\n",
       "      <td>0.001888</td>\n",
       "      <td>-0.105778</td>\n",
       "      <td>-0.209203</td>\n",
       "      <td>-0.190304</td>\n",
       "      <td>-0.162613</td>\n",
       "      <td>-0.941146</td>\n",
       "      <td>0.994135</td>\n",
       "      <td>1.000000</td>\n",
       "    </tr>\n",
       "  </tbody>\n",
       "</table>\n",
       "</div>"
      ],
      "text/plain": [
       "            year     month         n       DSR       lcl       ucl     score  \\\n",
       "year    1.000000 -0.140353 -0.015541 -0.018293 -0.003496 -0.035320 -0.006385   \n",
       "month  -0.140353  1.000000  0.055918  0.004694  0.014292  0.000949 -0.001268   \n",
       "n      -0.015541  0.055918  1.000000  0.438725  0.656848  0.250973  0.114798   \n",
       "DSR    -0.018293  0.004694  0.438725  1.000000  0.715479  0.886413  0.225213   \n",
       "lcl    -0.003496  0.014292  0.656848  0.715479  1.000000  0.376363  0.203070   \n",
       "ucl    -0.035320  0.000949  0.250973  0.886413  0.376363  1.000000  0.176114   \n",
       "score  -0.006385 -0.001268  0.114798  0.225213  0.203070  0.176114  1.000000   \n",
       "rank    0.006342  0.001697 -0.108293 -0.210699 -0.191814 -0.163244 -0.947324   \n",
       "decile  0.006312  0.001888 -0.105778 -0.209203 -0.190304 -0.162613 -0.941146   \n",
       "\n",
       "            rank    decile  \n",
       "year    0.006342  0.006312  \n",
       "month   0.001697  0.001888  \n",
       "n      -0.108293 -0.105778  \n",
       "DSR    -0.210699 -0.209203  \n",
       "lcl    -0.191814 -0.190304  \n",
       "ucl    -0.163244 -0.162613  \n",
       "score  -0.947324 -0.941146  \n",
       "rank    1.000000  0.994135  \n",
       "decile  0.994135  1.000000  "
      ]
     },
     "execution_count": 22,
     "metadata": {},
     "output_type": "execute_result"
    }
   ],
   "source": [
    "Respiratory_monthly.corr()"
   ]
  },
  {
   "cell_type": "markdown",
   "metadata": {},
   "source": [
    "# Regression between HES and deprivation"
   ]
  },
  {
   "cell_type": "code",
   "execution_count": 23,
   "metadata": {
    "collapsed": false
   },
   "outputs": [],
   "source": [
    "model = ols(\"DSR ~ score\", data=Circulatory_monthly)\n",
    "Circulatory_results = model.fit()"
   ]
  },
  {
   "cell_type": "code",
   "execution_count": 24,
   "metadata": {
    "collapsed": false
   },
   "outputs": [
    {
     "data": {
      "text/html": [
       "<table class=\"simpletable\">\n",
       "<caption>OLS Regression Results</caption>\n",
       "<tr>\n",
       "  <th>Dep. Variable:</th>           <td>DSR</td>       <th>  R-squared:         </th>  <td>   0.016</td>  \n",
       "</tr>\n",
       "<tr>\n",
       "  <th>Model:</th>                   <td>OLS</td>       <th>  Adj. R-squared:    </th>  <td>   0.016</td>  \n",
       "</tr>\n",
       "<tr>\n",
       "  <th>Method:</th>             <td>Least Squares</td>  <th>  F-statistic:       </th>  <td>   1488.</td>  \n",
       "</tr>\n",
       "<tr>\n",
       "  <th>Date:</th>             <td>Sat, 10 Sep 2016</td> <th>  Prob (F-statistic):</th>  <td>7.41e-323</td> \n",
       "</tr>\n",
       "<tr>\n",
       "  <th>Time:</th>                 <td>15:37:38</td>     <th>  Log-Likelihood:    </th> <td>-5.6777e+05</td>\n",
       "</tr>\n",
       "<tr>\n",
       "  <th>No. Observations:</th>      <td> 89412</td>      <th>  AIC:               </th>  <td>1.136e+06</td> \n",
       "</tr>\n",
       "<tr>\n",
       "  <th>Df Residuals:</th>          <td> 89410</td>      <th>  BIC:               </th>  <td>1.136e+06</td> \n",
       "</tr>\n",
       "<tr>\n",
       "  <th>Df Model:</th>              <td>     1</td>      <th>                     </th>      <td> </td>     \n",
       "</tr>\n",
       "<tr>\n",
       "  <th>Covariance Type:</th>      <td>nonrobust</td>    <th>                     </th>      <td> </td>     \n",
       "</tr>\n",
       "</table>\n",
       "<table class=\"simpletable\">\n",
       "<tr>\n",
       "      <td></td>         <th>coef</th>     <th>std err</th>      <th>t</th>      <th>P>|t|</th> <th>[95.0% Conf. Int.]</th> \n",
       "</tr>\n",
       "<tr>\n",
       "  <th>Intercept</th> <td>  161.6273</td> <td>    0.776</td> <td>  208.285</td> <td> 0.000</td> <td>  160.106   163.148</td>\n",
       "</tr>\n",
       "<tr>\n",
       "  <th>score</th>     <td>    1.4832</td> <td>    0.038</td> <td>   38.574</td> <td> 0.000</td> <td>    1.408     1.559</td>\n",
       "</tr>\n",
       "</table>\n",
       "<table class=\"simpletable\">\n",
       "<tr>\n",
       "  <th>Omnibus:</th>       <td>114715.287</td> <th>  Durbin-Watson:     </th>   <td>   1.926</td>   \n",
       "</tr>\n",
       "<tr>\n",
       "  <th>Prob(Omnibus):</th>   <td> 0.000</td>   <th>  Jarque-Bera (JB):  </th> <td>160524782.371</td>\n",
       "</tr>\n",
       "<tr>\n",
       "  <th>Skew:</th>            <td> 6.359</td>   <th>  Prob(JB):          </th>   <td>    0.00</td>   \n",
       "</tr>\n",
       "<tr>\n",
       "  <th>Kurtosis:</th>        <td>210.187</td>  <th>  Cond. No.          </th>   <td>    33.9</td>   \n",
       "</tr>\n",
       "</table>"
      ],
      "text/plain": [
       "<class 'statsmodels.iolib.summary.Summary'>\n",
       "\"\"\"\n",
       "                            OLS Regression Results                            \n",
       "==============================================================================\n",
       "Dep. Variable:                    DSR   R-squared:                       0.016\n",
       "Model:                            OLS   Adj. R-squared:                  0.016\n",
       "Method:                 Least Squares   F-statistic:                     1488.\n",
       "Date:                Sat, 10 Sep 2016   Prob (F-statistic):          7.41e-323\n",
       "Time:                        15:37:38   Log-Likelihood:            -5.6777e+05\n",
       "No. Observations:               89412   AIC:                         1.136e+06\n",
       "Df Residuals:                   89410   BIC:                         1.136e+06\n",
       "Df Model:                           1                                         \n",
       "Covariance Type:            nonrobust                                         \n",
       "==============================================================================\n",
       "                 coef    std err          t      P>|t|      [95.0% Conf. Int.]\n",
       "------------------------------------------------------------------------------\n",
       "Intercept    161.6273      0.776    208.285      0.000       160.106   163.148\n",
       "score          1.4832      0.038     38.574      0.000         1.408     1.559\n",
       "==============================================================================\n",
       "Omnibus:                   114715.287   Durbin-Watson:                   1.926\n",
       "Prob(Omnibus):                  0.000   Jarque-Bera (JB):        160524782.371\n",
       "Skew:                           6.359   Prob(JB):                         0.00\n",
       "Kurtosis:                     210.187   Cond. No.                         33.9\n",
       "==============================================================================\n",
       "\n",
       "Warnings:\n",
       "[1] Standard Errors assume that the covariance matrix of the errors is correctly specified.\n",
       "\"\"\""
      ]
     },
     "execution_count": 24,
     "metadata": {},
     "output_type": "execute_result"
    }
   ],
   "source": [
    "Circulatory_results.summary()"
   ]
  },
  {
   "cell_type": "code",
   "execution_count": 25,
   "metadata": {
    "collapsed": false
   },
   "outputs": [
    {
     "data": {
      "text/plain": [
       "Intercept    161.627347\n",
       "score          1.483211\n",
       "dtype: float64"
      ]
     },
     "execution_count": 25,
     "metadata": {},
     "output_type": "execute_result"
    }
   ],
   "source": [
    "Circulatory_results.params"
   ]
  },
  {
   "cell_type": "code",
   "execution_count": 26,
   "metadata": {
    "collapsed": true
   },
   "outputs": [],
   "source": [
    "model = ols(\"DSR ~ score\", data=Respiratory_monthly)\n",
    "Respiratory_results = model.fit()"
   ]
  },
  {
   "cell_type": "code",
   "execution_count": 27,
   "metadata": {
    "collapsed": false
   },
   "outputs": [
    {
     "data": {
      "text/html": [
       "<table class=\"simpletable\">\n",
       "<caption>OLS Regression Results</caption>\n",
       "<tr>\n",
       "  <th>Dep. Variable:</th>           <td>DSR</td>       <th>  R-squared:         </th>  <td>   0.051</td>  \n",
       "</tr>\n",
       "<tr>\n",
       "  <th>Model:</th>                   <td>OLS</td>       <th>  Adj. R-squared:    </th>  <td>   0.051</td>  \n",
       "</tr>\n",
       "<tr>\n",
       "  <th>Method:</th>             <td>Least Squares</td>  <th>  F-statistic:       </th>  <td>   4653.</td>  \n",
       "</tr>\n",
       "<tr>\n",
       "  <th>Date:</th>             <td>Sat, 10 Sep 2016</td> <th>  Prob (F-statistic):</th>   <td>  0.00</td>   \n",
       "</tr>\n",
       "<tr>\n",
       "  <th>Time:</th>                 <td>15:37:41</td>     <th>  Log-Likelihood:    </th> <td>-5.4945e+05</td>\n",
       "</tr>\n",
       "<tr>\n",
       "  <th>No. Observations:</th>      <td> 87078</td>      <th>  AIC:               </th>  <td>1.099e+06</td> \n",
       "</tr>\n",
       "<tr>\n",
       "  <th>Df Residuals:</th>          <td> 87076</td>      <th>  BIC:               </th>  <td>1.099e+06</td> \n",
       "</tr>\n",
       "<tr>\n",
       "  <th>Df Model:</th>              <td>     1</td>      <th>                     </th>      <td> </td>     \n",
       "</tr>\n",
       "<tr>\n",
       "  <th>Covariance Type:</th>      <td>nonrobust</td>    <th>                     </th>      <td> </td>     \n",
       "</tr>\n",
       "</table>\n",
       "<table class=\"simpletable\">\n",
       "<tr>\n",
       "      <td></td>         <th>coef</th>     <th>std err</th>      <th>t</th>      <th>P>|t|</th> <th>[95.0% Conf. Int.]</th> \n",
       "</tr>\n",
       "<tr>\n",
       "  <th>Intercept</th> <td>  120.6814</td> <td>    0.761</td> <td>  158.657</td> <td> 0.000</td> <td>  119.191   122.172</td>\n",
       "</tr>\n",
       "<tr>\n",
       "  <th>score</th>     <td>    2.4649</td> <td>    0.036</td> <td>   68.210</td> <td> 0.000</td> <td>    2.394     2.536</td>\n",
       "</tr>\n",
       "</table>\n",
       "<table class=\"simpletable\">\n",
       "<tr>\n",
       "  <th>Omnibus:</th>       <td>113122.508</td> <th>  Durbin-Watson:     </th>   <td>   1.877</td>   \n",
       "</tr>\n",
       "<tr>\n",
       "  <th>Prob(Omnibus):</th>   <td> 0.000</td>   <th>  Jarque-Bera (JB):  </th> <td>192006427.055</td>\n",
       "</tr>\n",
       "<tr>\n",
       "  <th>Skew:</th>            <td> 6.457</td>   <th>  Prob(JB):          </th>   <td>    0.00</td>   \n",
       "</tr>\n",
       "<tr>\n",
       "  <th>Kurtosis:</th>        <td>232.680</td>  <th>  Cond. No.          </th>   <td>    35.6</td>   \n",
       "</tr>\n",
       "</table>"
      ],
      "text/plain": [
       "<class 'statsmodels.iolib.summary.Summary'>\n",
       "\"\"\"\n",
       "                            OLS Regression Results                            \n",
       "==============================================================================\n",
       "Dep. Variable:                    DSR   R-squared:                       0.051\n",
       "Model:                            OLS   Adj. R-squared:                  0.051\n",
       "Method:                 Least Squares   F-statistic:                     4653.\n",
       "Date:                Sat, 10 Sep 2016   Prob (F-statistic):               0.00\n",
       "Time:                        15:37:41   Log-Likelihood:            -5.4945e+05\n",
       "No. Observations:               87078   AIC:                         1.099e+06\n",
       "Df Residuals:                   87076   BIC:                         1.099e+06\n",
       "Df Model:                           1                                         \n",
       "Covariance Type:            nonrobust                                         \n",
       "==============================================================================\n",
       "                 coef    std err          t      P>|t|      [95.0% Conf. Int.]\n",
       "------------------------------------------------------------------------------\n",
       "Intercept    120.6814      0.761    158.657      0.000       119.191   122.172\n",
       "score          2.4649      0.036     68.210      0.000         2.394     2.536\n",
       "==============================================================================\n",
       "Omnibus:                   113122.508   Durbin-Watson:                   1.877\n",
       "Prob(Omnibus):                  0.000   Jarque-Bera (JB):        192006427.055\n",
       "Skew:                           6.457   Prob(JB):                         0.00\n",
       "Kurtosis:                     232.680   Cond. No.                         35.6\n",
       "==============================================================================\n",
       "\n",
       "Warnings:\n",
       "[1] Standard Errors assume that the covariance matrix of the errors is correctly specified.\n",
       "\"\"\""
      ]
     },
     "execution_count": 27,
     "metadata": {},
     "output_type": "execute_result"
    }
   ],
   "source": [
    "Respiratory_results.summary()"
   ]
  },
  {
   "cell_type": "code",
   "execution_count": 28,
   "metadata": {
    "collapsed": false
   },
   "outputs": [
    {
     "data": {
      "text/plain": [
       "Intercept    120.681394\n",
       "score          2.464940\n",
       "dtype: float64"
      ]
     },
     "execution_count": 28,
     "metadata": {},
     "output_type": "execute_result"
    }
   ],
   "source": [
    "Respiratory_results.params"
   ]
  },
  {
   "cell_type": "code",
   "execution_count": 29,
   "metadata": {
    "collapsed": false
   },
   "outputs": [
    {
     "data": {
      "text/plain": [
       "Index(['Disease', 'year', 'month', 'lsoa11', 'n', 'DSR', 'lcl', 'ucl', 'score',\n",
       "       'rank', 'decile'],\n",
       "      dtype='object')"
      ]
     },
     "execution_count": 29,
     "metadata": {},
     "output_type": "execute_result"
    }
   ],
   "source": [
    "Circulatory_monthly.columns"
   ]
  },
  {
   "cell_type": "code",
   "execution_count": 30,
   "metadata": {
    "collapsed": false
   },
   "outputs": [
    {
     "data": {
      "text/html": [
       "<table class=\"simpletable\">\n",
       "<caption>OLS Regression Results</caption>\n",
       "<tr>\n",
       "  <th>Dep. Variable:</th>           <td>DSR</td>       <th>  R-squared:         </th>  <td>   0.016</td>  \n",
       "</tr>\n",
       "<tr>\n",
       "  <th>Model:</th>                   <td>OLS</td>       <th>  Adj. R-squared:    </th>  <td>   0.016</td>  \n",
       "</tr>\n",
       "<tr>\n",
       "  <th>Method:</th>             <td>Least Squares</td>  <th>  F-statistic:       </th>  <td>   744.6</td>  \n",
       "</tr>\n",
       "<tr>\n",
       "  <th>Date:</th>             <td>Sat, 10 Sep 2016</td> <th>  Prob (F-statistic):</th>  <td>1.91e-321</td> \n",
       "</tr>\n",
       "<tr>\n",
       "  <th>Time:</th>                 <td>15:37:43</td>     <th>  Log-Likelihood:    </th> <td>-5.6777e+05</td>\n",
       "</tr>\n",
       "<tr>\n",
       "  <th>No. Observations:</th>      <td> 89412</td>      <th>  AIC:               </th>  <td>1.136e+06</td> \n",
       "</tr>\n",
       "<tr>\n",
       "  <th>Df Residuals:</th>          <td> 89409</td>      <th>  BIC:               </th>  <td>1.136e+06</td> \n",
       "</tr>\n",
       "<tr>\n",
       "  <th>Df Model:</th>              <td>     2</td>      <th>                     </th>      <td> </td>     \n",
       "</tr>\n",
       "<tr>\n",
       "  <th>Covariance Type:</th>      <td>nonrobust</td>    <th>                     </th>      <td> </td>     \n",
       "</tr>\n",
       "</table>\n",
       "<table class=\"simpletable\">\n",
       "<tr>\n",
       "      <td></td>         <th>coef</th>     <th>std err</th>      <th>t</th>      <th>P>|t|</th> <th>[95.0% Conf. Int.]</th> \n",
       "</tr>\n",
       "<tr>\n",
       "  <th>Intercept</th> <td>  160.6829</td> <td>    1.141</td> <td>  140.771</td> <td> 0.000</td> <td>  158.446   162.920</td>\n",
       "</tr>\n",
       "<tr>\n",
       "  <th>score</th>     <td>    1.4833</td> <td>    0.038</td> <td>   38.576</td> <td> 0.000</td> <td>    1.408     1.559</td>\n",
       "</tr>\n",
       "<tr>\n",
       "  <th>month</th>     <td>    0.1520</td> <td>    0.135</td> <td>    1.128</td> <td> 0.259</td> <td>   -0.112     0.416</td>\n",
       "</tr>\n",
       "</table>\n",
       "<table class=\"simpletable\">\n",
       "<tr>\n",
       "  <th>Omnibus:</th>       <td>114721.393</td> <th>  Durbin-Watson:     </th>   <td>   1.926</td>   \n",
       "</tr>\n",
       "<tr>\n",
       "  <th>Prob(Omnibus):</th>   <td> 0.000</td>   <th>  Jarque-Bera (JB):  </th> <td>160606019.305</td>\n",
       "</tr>\n",
       "<tr>\n",
       "  <th>Skew:</th>            <td> 6.359</td>   <th>  Prob(JB):          </th>   <td>    0.00</td>   \n",
       "</tr>\n",
       "<tr>\n",
       "  <th>Kurtosis:</th>        <td>210.239</td>  <th>  Cond. No.          </th>   <td>    51.5</td>   \n",
       "</tr>\n",
       "</table>"
      ],
      "text/plain": [
       "<class 'statsmodels.iolib.summary.Summary'>\n",
       "\"\"\"\n",
       "                            OLS Regression Results                            \n",
       "==============================================================================\n",
       "Dep. Variable:                    DSR   R-squared:                       0.016\n",
       "Model:                            OLS   Adj. R-squared:                  0.016\n",
       "Method:                 Least Squares   F-statistic:                     744.6\n",
       "Date:                Sat, 10 Sep 2016   Prob (F-statistic):          1.91e-321\n",
       "Time:                        15:37:43   Log-Likelihood:            -5.6777e+05\n",
       "No. Observations:               89412   AIC:                         1.136e+06\n",
       "Df Residuals:                   89409   BIC:                         1.136e+06\n",
       "Df Model:                           2                                         \n",
       "Covariance Type:            nonrobust                                         \n",
       "==============================================================================\n",
       "                 coef    std err          t      P>|t|      [95.0% Conf. Int.]\n",
       "------------------------------------------------------------------------------\n",
       "Intercept    160.6829      1.141    140.771      0.000       158.446   162.920\n",
       "score          1.4833      0.038     38.576      0.000         1.408     1.559\n",
       "month          0.1520      0.135      1.128      0.259        -0.112     0.416\n",
       "==============================================================================\n",
       "Omnibus:                   114721.393   Durbin-Watson:                   1.926\n",
       "Prob(Omnibus):                  0.000   Jarque-Bera (JB):        160606019.305\n",
       "Skew:                           6.359   Prob(JB):                         0.00\n",
       "Kurtosis:                     210.239   Cond. No.                         51.5\n",
       "==============================================================================\n",
       "\n",
       "Warnings:\n",
       "[1] Standard Errors assume that the covariance matrix of the errors is correctly specified.\n",
       "\"\"\""
      ]
     },
     "execution_count": 30,
     "metadata": {},
     "output_type": "execute_result"
    }
   ],
   "source": [
    "model = ols(\"DSR ~ score + month\", data=Circulatory_monthly)\n",
    "Circulatory_results = model.fit()\n",
    "Circulatory_results.summary()"
   ]
  },
  {
   "cell_type": "code",
   "execution_count": 31,
   "metadata": {
    "collapsed": false
   },
   "outputs": [
    {
     "data": {
      "text/html": [
       "<table class=\"simpletable\">\n",
       "<caption>OLS Regression Results</caption>\n",
       "<tr>\n",
       "  <th>Dep. Variable:</th>           <td>DSR</td>       <th>  R-squared:         </th>  <td>   0.051</td>  \n",
       "</tr>\n",
       "<tr>\n",
       "  <th>Model:</th>                   <td>OLS</td>       <th>  Adj. R-squared:    </th>  <td>   0.051</td>  \n",
       "</tr>\n",
       "<tr>\n",
       "  <th>Method:</th>             <td>Least Squares</td>  <th>  F-statistic:       </th>  <td>   2327.</td>  \n",
       "</tr>\n",
       "<tr>\n",
       "  <th>Date:</th>             <td>Sat, 10 Sep 2016</td> <th>  Prob (F-statistic):</th>   <td>  0.00</td>   \n",
       "</tr>\n",
       "<tr>\n",
       "  <th>Time:</th>                 <td>15:37:44</td>     <th>  Log-Likelihood:    </th> <td>-5.4945e+05</td>\n",
       "</tr>\n",
       "<tr>\n",
       "  <th>No. Observations:</th>      <td> 87078</td>      <th>  AIC:               </th>  <td>1.099e+06</td> \n",
       "</tr>\n",
       "<tr>\n",
       "  <th>Df Residuals:</th>          <td> 87075</td>      <th>  BIC:               </th>  <td>1.099e+06</td> \n",
       "</tr>\n",
       "<tr>\n",
       "  <th>Df Model:</th>              <td>     2</td>      <th>                     </th>      <td> </td>     \n",
       "</tr>\n",
       "<tr>\n",
       "  <th>Covariance Type:</th>      <td>nonrobust</td>    <th>                     </th>      <td> </td>     \n",
       "</tr>\n",
       "</table>\n",
       "<table class=\"simpletable\">\n",
       "<tr>\n",
       "      <td></td>         <th>coef</th>     <th>std err</th>      <th>t</th>      <th>P>|t|</th> <th>[95.0% Conf. Int.]</th> \n",
       "</tr>\n",
       "<tr>\n",
       "  <th>Intercept</th> <td>  119.4775</td> <td>    1.103</td> <td>  108.356</td> <td> 0.000</td> <td>  117.316   121.639</td>\n",
       "</tr>\n",
       "<tr>\n",
       "  <th>score</th>     <td>    2.4650</td> <td>    0.036</td> <td>   68.212</td> <td> 0.000</td> <td>    2.394     2.536</td>\n",
       "</tr>\n",
       "<tr>\n",
       "  <th>month</th>     <td>    0.1933</td> <td>    0.128</td> <td>    1.508</td> <td> 0.132</td> <td>   -0.058     0.444</td>\n",
       "</tr>\n",
       "</table>\n",
       "<table class=\"simpletable\">\n",
       "<tr>\n",
       "  <th>Omnibus:</th>       <td>113127.859</td> <th>  Durbin-Watson:     </th>   <td>   1.877</td>   \n",
       "</tr>\n",
       "<tr>\n",
       "  <th>Prob(Omnibus):</th>   <td> 0.000</td>   <th>  Jarque-Bera (JB):  </th> <td>192069079.865</td>\n",
       "</tr>\n",
       "<tr>\n",
       "  <th>Skew:</th>            <td> 6.457</td>   <th>  Prob(JB):          </th>   <td>    0.00</td>   \n",
       "</tr>\n",
       "<tr>\n",
       "  <th>Kurtosis:</th>        <td>232.718</td>  <th>  Cond. No.          </th>   <td>    53.2</td>   \n",
       "</tr>\n",
       "</table>"
      ],
      "text/plain": [
       "<class 'statsmodels.iolib.summary.Summary'>\n",
       "\"\"\"\n",
       "                            OLS Regression Results                            \n",
       "==============================================================================\n",
       "Dep. Variable:                    DSR   R-squared:                       0.051\n",
       "Model:                            OLS   Adj. R-squared:                  0.051\n",
       "Method:                 Least Squares   F-statistic:                     2327.\n",
       "Date:                Sat, 10 Sep 2016   Prob (F-statistic):               0.00\n",
       "Time:                        15:37:44   Log-Likelihood:            -5.4945e+05\n",
       "No. Observations:               87078   AIC:                         1.099e+06\n",
       "Df Residuals:                   87075   BIC:                         1.099e+06\n",
       "Df Model:                           2                                         \n",
       "Covariance Type:            nonrobust                                         \n",
       "==============================================================================\n",
       "                 coef    std err          t      P>|t|      [95.0% Conf. Int.]\n",
       "------------------------------------------------------------------------------\n",
       "Intercept    119.4775      1.103    108.356      0.000       117.316   121.639\n",
       "score          2.4650      0.036     68.212      0.000         2.394     2.536\n",
       "month          0.1933      0.128      1.508      0.132        -0.058     0.444\n",
       "==============================================================================\n",
       "Omnibus:                   113127.859   Durbin-Watson:                   1.877\n",
       "Prob(Omnibus):                  0.000   Jarque-Bera (JB):        192069079.865\n",
       "Skew:                           6.457   Prob(JB):                         0.00\n",
       "Kurtosis:                     232.718   Cond. No.                         53.2\n",
       "==============================================================================\n",
       "\n",
       "Warnings:\n",
       "[1] Standard Errors assume that the covariance matrix of the errors is correctly specified.\n",
       "\"\"\""
      ]
     },
     "execution_count": 31,
     "metadata": {},
     "output_type": "execute_result"
    }
   ],
   "source": [
    "model = ols(\"DSR ~ score + month\", data=Respiratory_monthly)\n",
    "Respiratory_results = model.fit()\n",
    "Respiratory_results.summary()"
   ]
  },
  {
   "cell_type": "code",
   "execution_count": 32,
   "metadata": {
    "collapsed": false
   },
   "outputs": [
    {
     "data": {
      "text/html": [
       "<table class=\"simpletable\">\n",
       "<caption>OLS Regression Results</caption>\n",
       "<tr>\n",
       "  <th>Dep. Variable:</th>           <td>DSR</td>       <th>  R-squared:         </th>  <td>   0.015</td>  \n",
       "</tr>\n",
       "<tr>\n",
       "  <th>Model:</th>                   <td>OLS</td>       <th>  Adj. R-squared:    </th>  <td>   0.015</td>  \n",
       "</tr>\n",
       "<tr>\n",
       "  <th>Method:</th>             <td>Least Squares</td>  <th>  F-statistic:       </th>  <td>   699.7</td>  \n",
       "</tr>\n",
       "<tr>\n",
       "  <th>Date:</th>             <td>Sat, 10 Sep 2016</td> <th>  Prob (F-statistic):</th>  <td>2.90e-302</td> \n",
       "</tr>\n",
       "<tr>\n",
       "  <th>Time:</th>                 <td>15:37:45</td>     <th>  Log-Likelihood:    </th> <td>-5.6781e+05</td>\n",
       "</tr>\n",
       "<tr>\n",
       "  <th>No. Observations:</th>      <td> 89412</td>      <th>  AIC:               </th>  <td>1.136e+06</td> \n",
       "</tr>\n",
       "<tr>\n",
       "  <th>Df Residuals:</th>          <td> 89409</td>      <th>  BIC:               </th>  <td>1.136e+06</td> \n",
       "</tr>\n",
       "<tr>\n",
       "  <th>Df Model:</th>              <td>     2</td>      <th>                     </th>      <td> </td>     \n",
       "</tr>\n",
       "<tr>\n",
       "  <th>Covariance Type:</th>      <td>nonrobust</td>    <th>                     </th>      <td> </td>     \n",
       "</tr>\n",
       "</table>\n",
       "<table class=\"simpletable\">\n",
       "<tr>\n",
       "      <td></td>         <th>coef</th>     <th>std err</th>      <th>t</th>      <th>P>|t|</th> <th>[95.0% Conf. Int.]</th> \n",
       "</tr>\n",
       "<tr>\n",
       "  <th>Intercept</th> <td>  227.1994</td> <td>    1.485</td> <td>  153.042</td> <td> 0.000</td> <td>  224.290   230.109</td>\n",
       "</tr>\n",
       "<tr>\n",
       "  <th>month</th>     <td>    0.1532</td> <td>    0.135</td> <td>    1.137</td> <td> 0.256</td> <td>   -0.111     0.417</td>\n",
       "</tr>\n",
       "<tr>\n",
       "  <th>decile</th>    <td>   -6.5051</td> <td>    0.174</td> <td>  -37.394</td> <td> 0.000</td> <td>   -6.846    -6.164</td>\n",
       "</tr>\n",
       "</table>\n",
       "<table class=\"simpletable\">\n",
       "<tr>\n",
       "  <th>Omnibus:</th>       <td>114726.007</td> <th>  Durbin-Watson:     </th>   <td>   1.926</td>   \n",
       "</tr>\n",
       "<tr>\n",
       "  <th>Prob(Omnibus):</th>   <td> 0.000</td>   <th>  Jarque-Bera (JB):  </th> <td>160540941.049</td>\n",
       "</tr>\n",
       "<tr>\n",
       "  <th>Skew:</th>            <td> 6.360</td>   <th>  Prob(JB):          </th>   <td>    0.00</td>   \n",
       "</tr>\n",
       "<tr>\n",
       "  <th>Kurtosis:</th>        <td>210.197</td>  <th>  Cond. No.          </th>   <td>    30.8</td>   \n",
       "</tr>\n",
       "</table>"
      ],
      "text/plain": [
       "<class 'statsmodels.iolib.summary.Summary'>\n",
       "\"\"\"\n",
       "                            OLS Regression Results                            \n",
       "==============================================================================\n",
       "Dep. Variable:                    DSR   R-squared:                       0.015\n",
       "Model:                            OLS   Adj. R-squared:                  0.015\n",
       "Method:                 Least Squares   F-statistic:                     699.7\n",
       "Date:                Sat, 10 Sep 2016   Prob (F-statistic):          2.90e-302\n",
       "Time:                        15:37:45   Log-Likelihood:            -5.6781e+05\n",
       "No. Observations:               89412   AIC:                         1.136e+06\n",
       "Df Residuals:                   89409   BIC:                         1.136e+06\n",
       "Df Model:                           2                                         \n",
       "Covariance Type:            nonrobust                                         \n",
       "==============================================================================\n",
       "                 coef    std err          t      P>|t|      [95.0% Conf. Int.]\n",
       "------------------------------------------------------------------------------\n",
       "Intercept    227.1994      1.485    153.042      0.000       224.290   230.109\n",
       "month          0.1532      0.135      1.137      0.256        -0.111     0.417\n",
       "decile        -6.5051      0.174    -37.394      0.000        -6.846    -6.164\n",
       "==============================================================================\n",
       "Omnibus:                   114726.007   Durbin-Watson:                   1.926\n",
       "Prob(Omnibus):                  0.000   Jarque-Bera (JB):        160540941.049\n",
       "Skew:                           6.360   Prob(JB):                         0.00\n",
       "Kurtosis:                     210.197   Cond. No.                         30.8\n",
       "==============================================================================\n",
       "\n",
       "Warnings:\n",
       "[1] Standard Errors assume that the covariance matrix of the errors is correctly specified.\n",
       "\"\"\""
      ]
     },
     "execution_count": 32,
     "metadata": {},
     "output_type": "execute_result"
    }
   ],
   "source": [
    "model = ols(\"DSR ~ month + decile\", data=Circulatory_monthly)\n",
    "Circulatory_results = model.fit()\n",
    "Circulatory_results.summary()"
   ]
  },
  {
   "cell_type": "code",
   "execution_count": 33,
   "metadata": {
    "collapsed": false
   },
   "outputs": [
    {
     "data": {
      "text/plain": [
       "0.015411240683641747"
      ]
     },
     "execution_count": 33,
     "metadata": {},
     "output_type": "execute_result"
    }
   ],
   "source": [
    "Circulatory_results.rsquared"
   ]
  },
  {
   "cell_type": "code",
   "execution_count": 34,
   "metadata": {
    "collapsed": false
   },
   "outputs": [
    {
     "data": {
      "text/plain": [
       "Intercept    227.199357\n",
       "month          0.153201\n",
       "decile        -6.505072\n",
       "dtype: float64"
      ]
     },
     "execution_count": 34,
     "metadata": {},
     "output_type": "execute_result"
    }
   ],
   "source": [
    "Circulatory_results.params"
   ]
  },
  {
   "cell_type": "markdown",
   "metadata": {},
   "source": [
    "Circulatory_results.predict({'Month':4, 'Decile':1})"
   ]
  },
  {
   "cell_type": "markdown",
   "metadata": {},
   "source": [
    "# Merge Circulatory HES data and AP"
   ]
  },
  {
   "cell_type": "code",
   "execution_count": 35,
   "metadata": {
    "collapsed": false
   },
   "outputs": [],
   "source": [
    "AP_Monthly = pd.read_csv(r'D:\\Annies_Dissertation\\Analysis\\Regression\\Monthly_PM25_LSOA.csv')"
   ]
  },
  {
   "cell_type": "code",
   "execution_count": 36,
   "metadata": {
    "collapsed": true
   },
   "outputs": [],
   "source": [
    "AP_Monthly = AP_Monthly.rename(columns={'LSOA':'lsoa11', 'value':'PM25'})"
   ]
  },
  {
   "cell_type": "code",
   "execution_count": 37,
   "metadata": {
    "collapsed": false
   },
   "outputs": [],
   "source": [
    "AP_Monthly = AP_Monthly[['time', 'lsoa11', 'PM25', 'month', 'year']].dropna()"
   ]
  },
  {
   "cell_type": "code",
   "execution_count": 38,
   "metadata": {
    "collapsed": false
   },
   "outputs": [
    {
     "data": {
      "text/html": [
       "<div>\n",
       "<table border=\"1\" class=\"dataframe\">\n",
       "  <thead>\n",
       "    <tr style=\"text-align: right;\">\n",
       "      <th></th>\n",
       "      <th>time</th>\n",
       "      <th>lsoa11</th>\n",
       "      <th>PM25</th>\n",
       "      <th>month</th>\n",
       "      <th>year</th>\n",
       "    </tr>\n",
       "  </thead>\n",
       "  <tbody>\n",
       "    <tr>\n",
       "      <th>0</th>\n",
       "      <td>2009-01-31</td>\n",
       "      <td>E01014869</td>\n",
       "      <td>4.894197</td>\n",
       "      <td>1</td>\n",
       "      <td>2009</td>\n",
       "    </tr>\n",
       "    <tr>\n",
       "      <th>1</th>\n",
       "      <td>2009-02-28</td>\n",
       "      <td>E01014869</td>\n",
       "      <td>8.269163</td>\n",
       "      <td>2</td>\n",
       "      <td>2009</td>\n",
       "    </tr>\n",
       "    <tr>\n",
       "      <th>2</th>\n",
       "      <td>2009-03-31</td>\n",
       "      <td>E01014869</td>\n",
       "      <td>16.443802</td>\n",
       "      <td>3</td>\n",
       "      <td>2009</td>\n",
       "    </tr>\n",
       "    <tr>\n",
       "      <th>3</th>\n",
       "      <td>2009-04-30</td>\n",
       "      <td>E01014869</td>\n",
       "      <td>12.831035</td>\n",
       "      <td>4</td>\n",
       "      <td>2009</td>\n",
       "    </tr>\n",
       "    <tr>\n",
       "      <th>4</th>\n",
       "      <td>2009-05-31</td>\n",
       "      <td>E01014869</td>\n",
       "      <td>9.983700</td>\n",
       "      <td>5</td>\n",
       "      <td>2009</td>\n",
       "    </tr>\n",
       "    <tr>\n",
       "      <th>5</th>\n",
       "      <td>2009-06-30</td>\n",
       "      <td>E01014869</td>\n",
       "      <td>14.679679</td>\n",
       "      <td>6</td>\n",
       "      <td>2009</td>\n",
       "    </tr>\n",
       "    <tr>\n",
       "      <th>6</th>\n",
       "      <td>2009-07-31</td>\n",
       "      <td>E01014869</td>\n",
       "      <td>11.896524</td>\n",
       "      <td>7</td>\n",
       "      <td>2009</td>\n",
       "    </tr>\n",
       "    <tr>\n",
       "      <th>7</th>\n",
       "      <td>2009-08-31</td>\n",
       "      <td>E01014869</td>\n",
       "      <td>17.366266</td>\n",
       "      <td>8</td>\n",
       "      <td>2009</td>\n",
       "    </tr>\n",
       "    <tr>\n",
       "      <th>8</th>\n",
       "      <td>2009-09-30</td>\n",
       "      <td>E01014869</td>\n",
       "      <td>11.546007</td>\n",
       "      <td>9</td>\n",
       "      <td>2009</td>\n",
       "    </tr>\n",
       "    <tr>\n",
       "      <th>9</th>\n",
       "      <td>2009-10-31</td>\n",
       "      <td>E01014869</td>\n",
       "      <td>8.697833</td>\n",
       "      <td>10</td>\n",
       "      <td>2009</td>\n",
       "    </tr>\n",
       "  </tbody>\n",
       "</table>\n",
       "</div>"
      ],
      "text/plain": [
       "         time     lsoa11       PM25  month  year\n",
       "0  2009-01-31  E01014869   4.894197      1  2009\n",
       "1  2009-02-28  E01014869   8.269163      2  2009\n",
       "2  2009-03-31  E01014869  16.443802      3  2009\n",
       "3  2009-04-30  E01014869  12.831035      4  2009\n",
       "4  2009-05-31  E01014869   9.983700      5  2009\n",
       "5  2009-06-30  E01014869  14.679679      6  2009\n",
       "6  2009-07-31  E01014869  11.896524      7  2009\n",
       "7  2009-08-31  E01014869  17.366266      8  2009\n",
       "8  2009-09-30  E01014869  11.546007      9  2009\n",
       "9  2009-10-31  E01014869   8.697833     10  2009"
      ]
     },
     "execution_count": 38,
     "metadata": {},
     "output_type": "execute_result"
    }
   ],
   "source": [
    "AP_Monthly[:10]"
   ]
  },
  {
   "cell_type": "code",
   "execution_count": 39,
   "metadata": {
    "collapsed": false
   },
   "outputs": [],
   "source": [
    "Circul_AP = pd.merge(Circulatory_monthly, AP_Monthly, on=['year', 'month','lsoa11'], how='inner')"
   ]
  },
  {
   "cell_type": "code",
   "execution_count": 40,
   "metadata": {
    "collapsed": false
   },
   "outputs": [
    {
     "data": {
      "text/html": [
       "<div>\n",
       "<table border=\"1\" class=\"dataframe\">\n",
       "  <thead>\n",
       "    <tr style=\"text-align: right;\">\n",
       "      <th></th>\n",
       "      <th>Disease</th>\n",
       "      <th>year</th>\n",
       "      <th>month</th>\n",
       "      <th>lsoa11</th>\n",
       "      <th>n</th>\n",
       "      <th>DSR</th>\n",
       "      <th>lcl</th>\n",
       "      <th>ucl</th>\n",
       "      <th>score</th>\n",
       "      <th>rank</th>\n",
       "      <th>decile</th>\n",
       "      <th>time</th>\n",
       "      <th>PM25</th>\n",
       "    </tr>\n",
       "  </thead>\n",
       "  <tbody>\n",
       "    <tr>\n",
       "      <th>0</th>\n",
       "      <td>All Circulatory</td>\n",
       "      <td>2009</td>\n",
       "      <td>1</td>\n",
       "      <td>E01015272</td>\n",
       "      <td>NaN</td>\n",
       "      <td>69.247604</td>\n",
       "      <td>8.247776</td>\n",
       "      <td>250.557617</td>\n",
       "      <td>11.430000</td>\n",
       "      <td>22492</td>\n",
       "      <td>7</td>\n",
       "      <td>2009-01-31</td>\n",
       "      <td>11.609479</td>\n",
       "    </tr>\n",
       "    <tr>\n",
       "      <th>1</th>\n",
       "      <td>All Circulatory</td>\n",
       "      <td>2009</td>\n",
       "      <td>1</td>\n",
       "      <td>E01015273</td>\n",
       "      <td>NaN</td>\n",
       "      <td>147.841522</td>\n",
       "      <td>3.743035</td>\n",
       "      <td>823.720154</td>\n",
       "      <td>33.619999</td>\n",
       "      <td>6665</td>\n",
       "      <td>3</td>\n",
       "      <td>2009-01-31</td>\n",
       "      <td>11.410336</td>\n",
       "    </tr>\n",
       "    <tr>\n",
       "      <th>2</th>\n",
       "      <td>All Circulatory</td>\n",
       "      <td>2009</td>\n",
       "      <td>1</td>\n",
       "      <td>E01015274</td>\n",
       "      <td>NaN</td>\n",
       "      <td>187.446503</td>\n",
       "      <td>38.159660</td>\n",
       "      <td>549.000244</td>\n",
       "      <td>20.290001</td>\n",
       "      <td>13991</td>\n",
       "      <td>5</td>\n",
       "      <td>2009-01-31</td>\n",
       "      <td>11.650494</td>\n",
       "    </tr>\n",
       "    <tr>\n",
       "      <th>3</th>\n",
       "      <td>All Circulatory</td>\n",
       "      <td>2009</td>\n",
       "      <td>1</td>\n",
       "      <td>E01015275</td>\n",
       "      <td>NaN</td>\n",
       "      <td>309.000488</td>\n",
       "      <td>59.781487</td>\n",
       "      <td>912.577210</td>\n",
       "      <td>19.780001</td>\n",
       "      <td>14447</td>\n",
       "      <td>5</td>\n",
       "      <td>2009-01-31</td>\n",
       "      <td>11.682238</td>\n",
       "    </tr>\n",
       "    <tr>\n",
       "      <th>4</th>\n",
       "      <td>All Circulatory</td>\n",
       "      <td>2009</td>\n",
       "      <td>1</td>\n",
       "      <td>E01015276</td>\n",
       "      <td>NaN</td>\n",
       "      <td>162.742996</td>\n",
       "      <td>15.881656</td>\n",
       "      <td>599.259460</td>\n",
       "      <td>26.400000</td>\n",
       "      <td>10063</td>\n",
       "      <td>4</td>\n",
       "      <td>2009-01-31</td>\n",
       "      <td>11.347145</td>\n",
       "    </tr>\n",
       "    <tr>\n",
       "      <th>5</th>\n",
       "      <td>All Circulatory</td>\n",
       "      <td>2009</td>\n",
       "      <td>1</td>\n",
       "      <td>E01015277</td>\n",
       "      <td>NaN</td>\n",
       "      <td>72.310608</td>\n",
       "      <td>1.830751</td>\n",
       "      <td>402.888886</td>\n",
       "      <td>35.400002</td>\n",
       "      <td>5995</td>\n",
       "      <td>2</td>\n",
       "      <td>2009-01-31</td>\n",
       "      <td>11.450066</td>\n",
       "    </tr>\n",
       "    <tr>\n",
       "      <th>6</th>\n",
       "      <td>All Circulatory</td>\n",
       "      <td>2009</td>\n",
       "      <td>1</td>\n",
       "      <td>E01015279</td>\n",
       "      <td>NaN</td>\n",
       "      <td>299.935181</td>\n",
       "      <td>61.844021</td>\n",
       "      <td>876.561646</td>\n",
       "      <td>45.439999</td>\n",
       "      <td>3096</td>\n",
       "      <td>1</td>\n",
       "      <td>2009-01-31</td>\n",
       "      <td>11.536720</td>\n",
       "    </tr>\n",
       "    <tr>\n",
       "      <th>7</th>\n",
       "      <td>All Circulatory</td>\n",
       "      <td>2009</td>\n",
       "      <td>1</td>\n",
       "      <td>E01015281</td>\n",
       "      <td>NaN</td>\n",
       "      <td>65.543068</td>\n",
       "      <td>1.659403</td>\n",
       "      <td>365.182617</td>\n",
       "      <td>59.369999</td>\n",
       "      <td>978</td>\n",
       "      <td>1</td>\n",
       "      <td>2009-01-31</td>\n",
       "      <td>11.536720</td>\n",
       "    </tr>\n",
       "    <tr>\n",
       "      <th>8</th>\n",
       "      <td>All Circulatory</td>\n",
       "      <td>2009</td>\n",
       "      <td>1</td>\n",
       "      <td>E01015282</td>\n",
       "      <td>5.0</td>\n",
       "      <td>887.141540</td>\n",
       "      <td>75.347672</td>\n",
       "      <td>2490.366455</td>\n",
       "      <td>71.160004</td>\n",
       "      <td>226</td>\n",
       "      <td>1</td>\n",
       "      <td>2009-01-31</td>\n",
       "      <td>11.536720</td>\n",
       "    </tr>\n",
       "    <tr>\n",
       "      <th>9</th>\n",
       "      <td>All Circulatory</td>\n",
       "      <td>2009</td>\n",
       "      <td>1</td>\n",
       "      <td>E01015283</td>\n",
       "      <td>NaN</td>\n",
       "      <td>221.314270</td>\n",
       "      <td>21.690056</td>\n",
       "      <td>814.658020</td>\n",
       "      <td>30.850000</td>\n",
       "      <td>7828</td>\n",
       "      <td>3</td>\n",
       "      <td>2009-01-31</td>\n",
       "      <td>13.309274</td>\n",
       "    </tr>\n",
       "  </tbody>\n",
       "</table>\n",
       "</div>"
      ],
      "text/plain": [
       "           Disease  year  month     lsoa11    n         DSR        lcl  \\\n",
       "0  All Circulatory  2009      1  E01015272  NaN   69.247604   8.247776   \n",
       "1  All Circulatory  2009      1  E01015273  NaN  147.841522   3.743035   \n",
       "2  All Circulatory  2009      1  E01015274  NaN  187.446503  38.159660   \n",
       "3  All Circulatory  2009      1  E01015275  NaN  309.000488  59.781487   \n",
       "4  All Circulatory  2009      1  E01015276  NaN  162.742996  15.881656   \n",
       "5  All Circulatory  2009      1  E01015277  NaN   72.310608   1.830751   \n",
       "6  All Circulatory  2009      1  E01015279  NaN  299.935181  61.844021   \n",
       "7  All Circulatory  2009      1  E01015281  NaN   65.543068   1.659403   \n",
       "8  All Circulatory  2009      1  E01015282  5.0  887.141540  75.347672   \n",
       "9  All Circulatory  2009      1  E01015283  NaN  221.314270  21.690056   \n",
       "\n",
       "           ucl      score   rank  decile        time       PM25  \n",
       "0   250.557617  11.430000  22492       7  2009-01-31  11.609479  \n",
       "1   823.720154  33.619999   6665       3  2009-01-31  11.410336  \n",
       "2   549.000244  20.290001  13991       5  2009-01-31  11.650494  \n",
       "3   912.577210  19.780001  14447       5  2009-01-31  11.682238  \n",
       "4   599.259460  26.400000  10063       4  2009-01-31  11.347145  \n",
       "5   402.888886  35.400002   5995       2  2009-01-31  11.450066  \n",
       "6   876.561646  45.439999   3096       1  2009-01-31  11.536720  \n",
       "7   365.182617  59.369999    978       1  2009-01-31  11.536720  \n",
       "8  2490.366455  71.160004    226       1  2009-01-31  11.536720  \n",
       "9   814.658020  30.850000   7828       3  2009-01-31  13.309274  "
      ]
     },
     "execution_count": 40,
     "metadata": {},
     "output_type": "execute_result"
    }
   ],
   "source": [
    "Circul_AP[:10]"
   ]
  },
  {
   "cell_type": "code",
   "execution_count": 41,
   "metadata": {
    "collapsed": false
   },
   "outputs": [],
   "source": [
    "Circul_AP.to_csv(r'D:\\Annies_Dissertation\\Analysis\\Regression\\HES\\Circul_AP_monthly.csv')"
   ]
  },
  {
   "cell_type": "code",
   "execution_count": 42,
   "metadata": {
    "collapsed": false
   },
   "outputs": [
    {
     "data": {
      "text/plain": [
       "(89376, 13)"
      ]
     },
     "execution_count": 42,
     "metadata": {},
     "output_type": "execute_result"
    }
   ],
   "source": [
    "Circul_AP.shape"
   ]
  },
  {
   "cell_type": "code",
   "execution_count": 43,
   "metadata": {
    "collapsed": true
   },
   "outputs": [],
   "source": [
    "Respir_AP = pd.merge(Respiratory_monthly, AP_Monthly, on=['year', 'month','lsoa11'], how='inner')"
   ]
  },
  {
   "cell_type": "code",
   "execution_count": 44,
   "metadata": {
    "collapsed": false,
    "scrolled": true
   },
   "outputs": [
    {
     "data": {
      "text/html": [
       "<div>\n",
       "<table border=\"1\" class=\"dataframe\">\n",
       "  <thead>\n",
       "    <tr style=\"text-align: right;\">\n",
       "      <th></th>\n",
       "      <th>Disease</th>\n",
       "      <th>year</th>\n",
       "      <th>month</th>\n",
       "      <th>lsoa11</th>\n",
       "      <th>n</th>\n",
       "      <th>DSR</th>\n",
       "      <th>lcl</th>\n",
       "      <th>ucl</th>\n",
       "      <th>score</th>\n",
       "      <th>rank</th>\n",
       "      <th>decile</th>\n",
       "      <th>time</th>\n",
       "      <th>PM25</th>\n",
       "    </tr>\n",
       "  </thead>\n",
       "  <tbody>\n",
       "    <tr>\n",
       "      <th>0</th>\n",
       "      <td>All Respiratory</td>\n",
       "      <td>2009</td>\n",
       "      <td>1</td>\n",
       "      <td>E01015274</td>\n",
       "      <td>NaN</td>\n",
       "      <td>78.530869</td>\n",
       "      <td>1.988227</td>\n",
       "      <td>437.546020</td>\n",
       "      <td>20.290001</td>\n",
       "      <td>13991</td>\n",
       "      <td>5</td>\n",
       "      <td>2009-01-31</td>\n",
       "      <td>11.650494</td>\n",
       "    </tr>\n",
       "    <tr>\n",
       "      <th>1</th>\n",
       "      <td>All Respiratory</td>\n",
       "      <td>2009</td>\n",
       "      <td>1</td>\n",
       "      <td>E01015275</td>\n",
       "      <td>NaN</td>\n",
       "      <td>198.915909</td>\n",
       "      <td>20.564419</td>\n",
       "      <td>729.030701</td>\n",
       "      <td>19.780001</td>\n",
       "      <td>14447</td>\n",
       "      <td>5</td>\n",
       "      <td>2009-01-31</td>\n",
       "      <td>11.682238</td>\n",
       "    </tr>\n",
       "    <tr>\n",
       "      <th>2</th>\n",
       "      <td>All Respiratory</td>\n",
       "      <td>2009</td>\n",
       "      <td>1</td>\n",
       "      <td>E01015276</td>\n",
       "      <td>8.0</td>\n",
       "      <td>519.371643</td>\n",
       "      <td>196.146973</td>\n",
       "      <td>1071.320923</td>\n",
       "      <td>26.400000</td>\n",
       "      <td>10063</td>\n",
       "      <td>4</td>\n",
       "      <td>2009-01-31</td>\n",
       "      <td>11.347145</td>\n",
       "    </tr>\n",
       "    <tr>\n",
       "      <th>3</th>\n",
       "      <td>All Respiratory</td>\n",
       "      <td>2009</td>\n",
       "      <td>1</td>\n",
       "      <td>E01015277</td>\n",
       "      <td>6.0</td>\n",
       "      <td>607.023254</td>\n",
       "      <td>197.484589</td>\n",
       "      <td>1368.225708</td>\n",
       "      <td>35.400002</td>\n",
       "      <td>5995</td>\n",
       "      <td>2</td>\n",
       "      <td>2009-01-31</td>\n",
       "      <td>11.450066</td>\n",
       "    </tr>\n",
       "    <tr>\n",
       "      <th>4</th>\n",
       "      <td>All Respiratory</td>\n",
       "      <td>2009</td>\n",
       "      <td>1</td>\n",
       "      <td>E01015279</td>\n",
       "      <td>5.0</td>\n",
       "      <td>469.725189</td>\n",
       "      <td>136.399750</td>\n",
       "      <td>1128.015015</td>\n",
       "      <td>45.439999</td>\n",
       "      <td>3096</td>\n",
       "      <td>1</td>\n",
       "      <td>2009-01-31</td>\n",
       "      <td>11.536720</td>\n",
       "    </tr>\n",
       "    <tr>\n",
       "      <th>5</th>\n",
       "      <td>All Respiratory</td>\n",
       "      <td>2009</td>\n",
       "      <td>1</td>\n",
       "      <td>E01015280</td>\n",
       "      <td>NaN</td>\n",
       "      <td>240.040848</td>\n",
       "      <td>33.286137</td>\n",
       "      <td>740.774414</td>\n",
       "      <td>43.990002</td>\n",
       "      <td>3420</td>\n",
       "      <td>2</td>\n",
       "      <td>2009-01-31</td>\n",
       "      <td>11.609479</td>\n",
       "    </tr>\n",
       "    <tr>\n",
       "      <th>6</th>\n",
       "      <td>All Respiratory</td>\n",
       "      <td>2009</td>\n",
       "      <td>1</td>\n",
       "      <td>E01015281</td>\n",
       "      <td>NaN</td>\n",
       "      <td>232.468033</td>\n",
       "      <td>47.940498</td>\n",
       "      <td>679.370239</td>\n",
       "      <td>59.369999</td>\n",
       "      <td>978</td>\n",
       "      <td>1</td>\n",
       "      <td>2009-01-31</td>\n",
       "      <td>11.536720</td>\n",
       "    </tr>\n",
       "    <tr>\n",
       "      <th>7</th>\n",
       "      <td>All Respiratory</td>\n",
       "      <td>2009</td>\n",
       "      <td>1</td>\n",
       "      <td>E01015282</td>\n",
       "      <td>NaN</td>\n",
       "      <td>150.069946</td>\n",
       "      <td>27.941397</td>\n",
       "      <td>445.849731</td>\n",
       "      <td>71.160004</td>\n",
       "      <td>226</td>\n",
       "      <td>1</td>\n",
       "      <td>2009-01-31</td>\n",
       "      <td>11.536720</td>\n",
       "    </tr>\n",
       "    <tr>\n",
       "      <th>8</th>\n",
       "      <td>All Respiratory</td>\n",
       "      <td>2009</td>\n",
       "      <td>1</td>\n",
       "      <td>E01015283</td>\n",
       "      <td>NaN</td>\n",
       "      <td>37.453182</td>\n",
       "      <td>0.948231</td>\n",
       "      <td>208.675781</td>\n",
       "      <td>30.850000</td>\n",
       "      <td>7828</td>\n",
       "      <td>3</td>\n",
       "      <td>2009-01-31</td>\n",
       "      <td>13.309274</td>\n",
       "    </tr>\n",
       "    <tr>\n",
       "      <th>9</th>\n",
       "      <td>All Respiratory</td>\n",
       "      <td>2009</td>\n",
       "      <td>1</td>\n",
       "      <td>E01015285</td>\n",
       "      <td>5.0</td>\n",
       "      <td>239.129227</td>\n",
       "      <td>46.085987</td>\n",
       "      <td>620.373474</td>\n",
       "      <td>29.600000</td>\n",
       "      <td>8418</td>\n",
       "      <td>3</td>\n",
       "      <td>2009-01-31</td>\n",
       "      <td>14.177420</td>\n",
       "    </tr>\n",
       "  </tbody>\n",
       "</table>\n",
       "</div>"
      ],
      "text/plain": [
       "           Disease  year  month     lsoa11    n         DSR         lcl  \\\n",
       "0  All Respiratory  2009      1  E01015274  NaN   78.530869    1.988227   \n",
       "1  All Respiratory  2009      1  E01015275  NaN  198.915909   20.564419   \n",
       "2  All Respiratory  2009      1  E01015276  8.0  519.371643  196.146973   \n",
       "3  All Respiratory  2009      1  E01015277  6.0  607.023254  197.484589   \n",
       "4  All Respiratory  2009      1  E01015279  5.0  469.725189  136.399750   \n",
       "5  All Respiratory  2009      1  E01015280  NaN  240.040848   33.286137   \n",
       "6  All Respiratory  2009      1  E01015281  NaN  232.468033   47.940498   \n",
       "7  All Respiratory  2009      1  E01015282  NaN  150.069946   27.941397   \n",
       "8  All Respiratory  2009      1  E01015283  NaN   37.453182    0.948231   \n",
       "9  All Respiratory  2009      1  E01015285  5.0  239.129227   46.085987   \n",
       "\n",
       "           ucl      score   rank  decile        time       PM25  \n",
       "0   437.546020  20.290001  13991       5  2009-01-31  11.650494  \n",
       "1   729.030701  19.780001  14447       5  2009-01-31  11.682238  \n",
       "2  1071.320923  26.400000  10063       4  2009-01-31  11.347145  \n",
       "3  1368.225708  35.400002   5995       2  2009-01-31  11.450066  \n",
       "4  1128.015015  45.439999   3096       1  2009-01-31  11.536720  \n",
       "5   740.774414  43.990002   3420       2  2009-01-31  11.609479  \n",
       "6   679.370239  59.369999    978       1  2009-01-31  11.536720  \n",
       "7   445.849731  71.160004    226       1  2009-01-31  11.536720  \n",
       "8   208.675781  30.850000   7828       3  2009-01-31  13.309274  \n",
       "9   620.373474  29.600000   8418       3  2009-01-31  14.177420  "
      ]
     },
     "execution_count": 44,
     "metadata": {},
     "output_type": "execute_result"
    }
   ],
   "source": [
    "Respir_AP[:10]"
   ]
  },
  {
   "cell_type": "code",
   "execution_count": 45,
   "metadata": {
    "collapsed": true
   },
   "outputs": [],
   "source": [
    "Respir_AP.to_csv(r'D:\\Annies_Dissertation\\Analysis\\Regression\\HES\\Respir_AP_monthly.csv')"
   ]
  },
  {
   "cell_type": "code",
   "execution_count": 46,
   "metadata": {
    "collapsed": false,
    "scrolled": true
   },
   "outputs": [
    {
     "data": {
      "text/plain": [
       "(87048, 13)"
      ]
     },
     "execution_count": 46,
     "metadata": {},
     "output_type": "execute_result"
    }
   ],
   "source": [
    "Respir_AP.shape"
   ]
  },
  {
   "cell_type": "code",
   "execution_count": 47,
   "metadata": {
    "collapsed": false
   },
   "outputs": [
    {
     "data": {
      "text/html": [
       "<div>\n",
       "<table border=\"1\" class=\"dataframe\">\n",
       "  <thead>\n",
       "    <tr style=\"text-align: right;\">\n",
       "      <th></th>\n",
       "      <th>year</th>\n",
       "      <th>month</th>\n",
       "      <th>n</th>\n",
       "      <th>DSR</th>\n",
       "      <th>lcl</th>\n",
       "      <th>ucl</th>\n",
       "      <th>score</th>\n",
       "      <th>rank</th>\n",
       "      <th>decile</th>\n",
       "      <th>PM25</th>\n",
       "    </tr>\n",
       "  </thead>\n",
       "  <tbody>\n",
       "    <tr>\n",
       "      <th>year</th>\n",
       "      <td>1.000000</td>\n",
       "      <td>-0.134356</td>\n",
       "      <td>-0.030500</td>\n",
       "      <td>-0.040956</td>\n",
       "      <td>-0.025438</td>\n",
       "      <td>-0.045735</td>\n",
       "      <td>-0.001272</td>\n",
       "      <td>0.001689</td>\n",
       "      <td>0.001685</td>\n",
       "      <td>-0.049742</td>\n",
       "    </tr>\n",
       "    <tr>\n",
       "      <th>month</th>\n",
       "      <td>-0.134356</td>\n",
       "      <td>1.000000</td>\n",
       "      <td>-0.000303</td>\n",
       "      <td>0.003557</td>\n",
       "      <td>0.003199</td>\n",
       "      <td>0.003992</td>\n",
       "      <td>-0.001404</td>\n",
       "      <td>0.001509</td>\n",
       "      <td>0.001690</td>\n",
       "      <td>-0.201686</td>\n",
       "    </tr>\n",
       "    <tr>\n",
       "      <th>n</th>\n",
       "      <td>-0.030500</td>\n",
       "      <td>-0.000303</td>\n",
       "      <td>1.000000</td>\n",
       "      <td>0.320654</td>\n",
       "      <td>0.552510</td>\n",
       "      <td>0.136261</td>\n",
       "      <td>-0.072780</td>\n",
       "      <td>0.069134</td>\n",
       "      <td>0.067672</td>\n",
       "      <td>0.039146</td>\n",
       "    </tr>\n",
       "    <tr>\n",
       "      <th>DSR</th>\n",
       "      <td>-0.040956</td>\n",
       "      <td>0.003557</td>\n",
       "      <td>0.320654</td>\n",
       "      <td>1.000000</td>\n",
       "      <td>0.767987</td>\n",
       "      <td>0.858114</td>\n",
       "      <td>0.127979</td>\n",
       "      <td>-0.124643</td>\n",
       "      <td>-0.124108</td>\n",
       "      <td>0.000659</td>\n",
       "    </tr>\n",
       "    <tr>\n",
       "      <th>lcl</th>\n",
       "      <td>-0.025438</td>\n",
       "      <td>0.003199</td>\n",
       "      <td>0.552510</td>\n",
       "      <td>0.767987</td>\n",
       "      <td>1.000000</td>\n",
       "      <td>0.384553</td>\n",
       "      <td>0.047971</td>\n",
       "      <td>-0.051743</td>\n",
       "      <td>-0.051547</td>\n",
       "      <td>0.010699</td>\n",
       "    </tr>\n",
       "    <tr>\n",
       "      <th>ucl</th>\n",
       "      <td>-0.045735</td>\n",
       "      <td>0.003992</td>\n",
       "      <td>0.136261</td>\n",
       "      <td>0.858114</td>\n",
       "      <td>0.384553</td>\n",
       "      <td>1.000000</td>\n",
       "      <td>0.161296</td>\n",
       "      <td>-0.153616</td>\n",
       "      <td>-0.152801</td>\n",
       "      <td>-0.007907</td>\n",
       "    </tr>\n",
       "    <tr>\n",
       "      <th>score</th>\n",
       "      <td>-0.001272</td>\n",
       "      <td>-0.001404</td>\n",
       "      <td>-0.072780</td>\n",
       "      <td>0.127979</td>\n",
       "      <td>0.047971</td>\n",
       "      <td>0.161296</td>\n",
       "      <td>1.000000</td>\n",
       "      <td>-0.948867</td>\n",
       "      <td>-0.942692</td>\n",
       "      <td>0.046765</td>\n",
       "    </tr>\n",
       "    <tr>\n",
       "      <th>rank</th>\n",
       "      <td>0.001689</td>\n",
       "      <td>0.001509</td>\n",
       "      <td>0.069134</td>\n",
       "      <td>-0.124643</td>\n",
       "      <td>-0.051743</td>\n",
       "      <td>-0.153616</td>\n",
       "      <td>-0.948867</td>\n",
       "      <td>1.000000</td>\n",
       "      <td>0.993971</td>\n",
       "      <td>-0.049211</td>\n",
       "    </tr>\n",
       "    <tr>\n",
       "      <th>decile</th>\n",
       "      <td>0.001685</td>\n",
       "      <td>0.001690</td>\n",
       "      <td>0.067672</td>\n",
       "      <td>-0.124108</td>\n",
       "      <td>-0.051547</td>\n",
       "      <td>-0.152801</td>\n",
       "      <td>-0.942692</td>\n",
       "      <td>0.993971</td>\n",
       "      <td>1.000000</td>\n",
       "      <td>-0.048079</td>\n",
       "    </tr>\n",
       "    <tr>\n",
       "      <th>PM25</th>\n",
       "      <td>-0.049742</td>\n",
       "      <td>-0.201686</td>\n",
       "      <td>0.039146</td>\n",
       "      <td>0.000659</td>\n",
       "      <td>0.010699</td>\n",
       "      <td>-0.007907</td>\n",
       "      <td>0.046765</td>\n",
       "      <td>-0.049211</td>\n",
       "      <td>-0.048079</td>\n",
       "      <td>1.000000</td>\n",
       "    </tr>\n",
       "  </tbody>\n",
       "</table>\n",
       "</div>"
      ],
      "text/plain": [
       "            year     month         n       DSR       lcl       ucl     score  \\\n",
       "year    1.000000 -0.134356 -0.030500 -0.040956 -0.025438 -0.045735 -0.001272   \n",
       "month  -0.134356  1.000000 -0.000303  0.003557  0.003199  0.003992 -0.001404   \n",
       "n      -0.030500 -0.000303  1.000000  0.320654  0.552510  0.136261 -0.072780   \n",
       "DSR    -0.040956  0.003557  0.320654  1.000000  0.767987  0.858114  0.127979   \n",
       "lcl    -0.025438  0.003199  0.552510  0.767987  1.000000  0.384553  0.047971   \n",
       "ucl    -0.045735  0.003992  0.136261  0.858114  0.384553  1.000000  0.161296   \n",
       "score  -0.001272 -0.001404 -0.072780  0.127979  0.047971  0.161296  1.000000   \n",
       "rank    0.001689  0.001509  0.069134 -0.124643 -0.051743 -0.153616 -0.948867   \n",
       "decile  0.001685  0.001690  0.067672 -0.124108 -0.051547 -0.152801 -0.942692   \n",
       "PM25   -0.049742 -0.201686  0.039146  0.000659  0.010699 -0.007907  0.046765   \n",
       "\n",
       "            rank    decile      PM25  \n",
       "year    0.001689  0.001685 -0.049742  \n",
       "month   0.001509  0.001690 -0.201686  \n",
       "n       0.069134  0.067672  0.039146  \n",
       "DSR    -0.124643 -0.124108  0.000659  \n",
       "lcl    -0.051743 -0.051547  0.010699  \n",
       "ucl    -0.153616 -0.152801 -0.007907  \n",
       "score  -0.948867 -0.942692  0.046765  \n",
       "rank    1.000000  0.993971 -0.049211  \n",
       "decile  0.993971  1.000000 -0.048079  \n",
       "PM25   -0.049211 -0.048079  1.000000  "
      ]
     },
     "execution_count": 47,
     "metadata": {},
     "output_type": "execute_result"
    }
   ],
   "source": [
    "Circul_AP.corr()"
   ]
  },
  {
   "cell_type": "code",
   "execution_count": 48,
   "metadata": {
    "collapsed": false
   },
   "outputs": [
    {
     "data": {
      "text/html": [
       "<div>\n",
       "<table border=\"1\" class=\"dataframe\">\n",
       "  <thead>\n",
       "    <tr style=\"text-align: right;\">\n",
       "      <th></th>\n",
       "      <th>year</th>\n",
       "      <th>month</th>\n",
       "      <th>n</th>\n",
       "      <th>DSR</th>\n",
       "      <th>lcl</th>\n",
       "      <th>ucl</th>\n",
       "      <th>score</th>\n",
       "      <th>rank</th>\n",
       "      <th>decile</th>\n",
       "      <th>PM25</th>\n",
       "    </tr>\n",
       "  </thead>\n",
       "  <tbody>\n",
       "    <tr>\n",
       "      <th>year</th>\n",
       "      <td>1.000000</td>\n",
       "      <td>-0.140331</td>\n",
       "      <td>-0.015541</td>\n",
       "      <td>-0.018226</td>\n",
       "      <td>-0.003474</td>\n",
       "      <td>-0.035205</td>\n",
       "      <td>-0.006364</td>\n",
       "      <td>0.006294</td>\n",
       "      <td>0.006270</td>\n",
       "      <td>-0.042697</td>\n",
       "    </tr>\n",
       "    <tr>\n",
       "      <th>month</th>\n",
       "      <td>-0.140331</td>\n",
       "      <td>1.000000</td>\n",
       "      <td>0.055918</td>\n",
       "      <td>0.004687</td>\n",
       "      <td>0.014298</td>\n",
       "      <td>0.000920</td>\n",
       "      <td>-0.001265</td>\n",
       "      <td>0.001699</td>\n",
       "      <td>0.001890</td>\n",
       "      <td>-0.211288</td>\n",
       "    </tr>\n",
       "    <tr>\n",
       "      <th>n</th>\n",
       "      <td>-0.015541</td>\n",
       "      <td>0.055918</td>\n",
       "      <td>1.000000</td>\n",
       "      <td>0.438725</td>\n",
       "      <td>0.656848</td>\n",
       "      <td>0.250973</td>\n",
       "      <td>0.114798</td>\n",
       "      <td>-0.108293</td>\n",
       "      <td>-0.105778</td>\n",
       "      <td>-0.071244</td>\n",
       "    </tr>\n",
       "    <tr>\n",
       "      <th>DSR</th>\n",
       "      <td>-0.018226</td>\n",
       "      <td>0.004687</td>\n",
       "      <td>0.438725</td>\n",
       "      <td>1.000000</td>\n",
       "      <td>0.715525</td>\n",
       "      <td>0.886332</td>\n",
       "      <td>0.225371</td>\n",
       "      <td>-0.210855</td>\n",
       "      <td>-0.209358</td>\n",
       "      <td>-0.060866</td>\n",
       "    </tr>\n",
       "    <tr>\n",
       "      <th>lcl</th>\n",
       "      <td>-0.003474</td>\n",
       "      <td>0.014298</td>\n",
       "      <td>0.656848</td>\n",
       "      <td>0.715525</td>\n",
       "      <td>1.000000</td>\n",
       "      <td>0.376279</td>\n",
       "      <td>0.203112</td>\n",
       "      <td>-0.191875</td>\n",
       "      <td>-0.190361</td>\n",
       "      <td>-0.065757</td>\n",
       "    </tr>\n",
       "    <tr>\n",
       "      <th>ucl</th>\n",
       "      <td>-0.035205</td>\n",
       "      <td>0.000920</td>\n",
       "      <td>0.250973</td>\n",
       "      <td>0.886332</td>\n",
       "      <td>0.376279</td>\n",
       "      <td>1.000000</td>\n",
       "      <td>0.176354</td>\n",
       "      <td>-0.163458</td>\n",
       "      <td>-0.162823</td>\n",
       "      <td>-0.037429</td>\n",
       "    </tr>\n",
       "    <tr>\n",
       "      <th>score</th>\n",
       "      <td>-0.006364</td>\n",
       "      <td>-0.001265</td>\n",
       "      <td>0.114798</td>\n",
       "      <td>0.225371</td>\n",
       "      <td>0.203112</td>\n",
       "      <td>0.176354</td>\n",
       "      <td>1.000000</td>\n",
       "      <td>-0.947326</td>\n",
       "      <td>-0.941148</td>\n",
       "      <td>0.053658</td>\n",
       "    </tr>\n",
       "    <tr>\n",
       "      <th>rank</th>\n",
       "      <td>0.006294</td>\n",
       "      <td>0.001699</td>\n",
       "      <td>-0.108293</td>\n",
       "      <td>-0.210855</td>\n",
       "      <td>-0.191875</td>\n",
       "      <td>-0.163458</td>\n",
       "      <td>-0.947326</td>\n",
       "      <td>1.000000</td>\n",
       "      <td>0.994136</td>\n",
       "      <td>-0.056571</td>\n",
       "    </tr>\n",
       "    <tr>\n",
       "      <th>decile</th>\n",
       "      <td>0.006270</td>\n",
       "      <td>0.001890</td>\n",
       "      <td>-0.105778</td>\n",
       "      <td>-0.209358</td>\n",
       "      <td>-0.190361</td>\n",
       "      <td>-0.162823</td>\n",
       "      <td>-0.941148</td>\n",
       "      <td>0.994136</td>\n",
       "      <td>1.000000</td>\n",
       "      <td>-0.055560</td>\n",
       "    </tr>\n",
       "    <tr>\n",
       "      <th>PM25</th>\n",
       "      <td>-0.042697</td>\n",
       "      <td>-0.211288</td>\n",
       "      <td>-0.071244</td>\n",
       "      <td>-0.060866</td>\n",
       "      <td>-0.065757</td>\n",
       "      <td>-0.037429</td>\n",
       "      <td>0.053658</td>\n",
       "      <td>-0.056571</td>\n",
       "      <td>-0.055560</td>\n",
       "      <td>1.000000</td>\n",
       "    </tr>\n",
       "  </tbody>\n",
       "</table>\n",
       "</div>"
      ],
      "text/plain": [
       "            year     month         n       DSR       lcl       ucl     score  \\\n",
       "year    1.000000 -0.140331 -0.015541 -0.018226 -0.003474 -0.035205 -0.006364   \n",
       "month  -0.140331  1.000000  0.055918  0.004687  0.014298  0.000920 -0.001265   \n",
       "n      -0.015541  0.055918  1.000000  0.438725  0.656848  0.250973  0.114798   \n",
       "DSR    -0.018226  0.004687  0.438725  1.000000  0.715525  0.886332  0.225371   \n",
       "lcl    -0.003474  0.014298  0.656848  0.715525  1.000000  0.376279  0.203112   \n",
       "ucl    -0.035205  0.000920  0.250973  0.886332  0.376279  1.000000  0.176354   \n",
       "score  -0.006364 -0.001265  0.114798  0.225371  0.203112  0.176354  1.000000   \n",
       "rank    0.006294  0.001699 -0.108293 -0.210855 -0.191875 -0.163458 -0.947326   \n",
       "decile  0.006270  0.001890 -0.105778 -0.209358 -0.190361 -0.162823 -0.941148   \n",
       "PM25   -0.042697 -0.211288 -0.071244 -0.060866 -0.065757 -0.037429  0.053658   \n",
       "\n",
       "            rank    decile      PM25  \n",
       "year    0.006294  0.006270 -0.042697  \n",
       "month   0.001699  0.001890 -0.211288  \n",
       "n      -0.108293 -0.105778 -0.071244  \n",
       "DSR    -0.210855 -0.209358 -0.060866  \n",
       "lcl    -0.191875 -0.190361 -0.065757  \n",
       "ucl    -0.163458 -0.162823 -0.037429  \n",
       "score  -0.947326 -0.941148  0.053658  \n",
       "rank    1.000000  0.994136 -0.056571  \n",
       "decile  0.994136  1.000000 -0.055560  \n",
       "PM25   -0.056571 -0.055560  1.000000  "
      ]
     },
     "execution_count": 48,
     "metadata": {},
     "output_type": "execute_result"
    }
   ],
   "source": [
    "Respir_AP.corr()"
   ]
  },
  {
   "cell_type": "markdown",
   "metadata": {},
   "source": [
    "# Regression between HES and AP"
   ]
  },
  {
   "cell_type": "code",
   "execution_count": 49,
   "metadata": {
    "collapsed": false
   },
   "outputs": [
    {
     "data": {
      "text/html": [
       "<table class=\"simpletable\">\n",
       "<caption>OLS Regression Results</caption>\n",
       "<tr>\n",
       "  <th>Dep. Variable:</th>           <td>DSR</td>       <th>  R-squared:         </th>  <td>   0.000</td>  \n",
       "</tr>\n",
       "<tr>\n",
       "  <th>Model:</th>                   <td>OLS</td>       <th>  Adj. R-squared:    </th>  <td>  -0.000</td>  \n",
       "</tr>\n",
       "<tr>\n",
       "  <th>Method:</th>             <td>Least Squares</td>  <th>  F-statistic:       </th>  <td> 0.03883</td>  \n",
       "</tr>\n",
       "<tr>\n",
       "  <th>Date:</th>             <td>Sat, 10 Sep 2016</td> <th>  Prob (F-statistic):</th>   <td> 0.844</td>   \n",
       "</tr>\n",
       "<tr>\n",
       "  <th>Time:</th>                 <td>15:38:50</td>     <th>  Log-Likelihood:    </th> <td>-5.6826e+05</td>\n",
       "</tr>\n",
       "<tr>\n",
       "  <th>No. Observations:</th>      <td> 89376</td>      <th>  AIC:               </th>  <td>1.137e+06</td> \n",
       "</tr>\n",
       "<tr>\n",
       "  <th>Df Residuals:</th>          <td> 89374</td>      <th>  BIC:               </th>  <td>1.137e+06</td> \n",
       "</tr>\n",
       "<tr>\n",
       "  <th>Df Model:</th>              <td>     1</td>      <th>                     </th>      <td> </td>     \n",
       "</tr>\n",
       "<tr>\n",
       "  <th>Covariance Type:</th>      <td>nonrobust</td>    <th>                     </th>      <td> </td>     \n",
       "</tr>\n",
       "</table>\n",
       "<table class=\"simpletable\">\n",
       "<tr>\n",
       "      <td></td>         <th>coef</th>     <th>std err</th>      <th>t</th>      <th>P>|t|</th> <th>[95.0% Conf. Int.]</th> \n",
       "</tr>\n",
       "<tr>\n",
       "  <th>Intercept</th> <td>  185.3637</td> <td>    1.392</td> <td>  133.141</td> <td> 0.000</td> <td>  182.635   188.092</td>\n",
       "</tr>\n",
       "<tr>\n",
       "  <th>PM25</th>      <td>    0.0203</td> <td>    0.103</td> <td>    0.197</td> <td> 0.844</td> <td>   -0.182     0.222</td>\n",
       "</tr>\n",
       "</table>\n",
       "<table class=\"simpletable\">\n",
       "<tr>\n",
       "  <th>Omnibus:</th>       <td>113392.242</td> <th>  Durbin-Watson:     </th>   <td>   1.912</td>   \n",
       "</tr>\n",
       "<tr>\n",
       "  <th>Prob(Omnibus):</th>   <td> 0.000</td>   <th>  Jarque-Bera (JB):  </th> <td>148179541.660</td>\n",
       "</tr>\n",
       "<tr>\n",
       "  <th>Skew:</th>            <td> 6.238</td>   <th>  Prob(JB):          </th>   <td>    0.00</td>   \n",
       "</tr>\n",
       "<tr>\n",
       "  <th>Kurtosis:</th>        <td>202.085</td>  <th>  Cond. No.          </th>   <td>    40.5</td>   \n",
       "</tr>\n",
       "</table>"
      ],
      "text/plain": [
       "<class 'statsmodels.iolib.summary.Summary'>\n",
       "\"\"\"\n",
       "                            OLS Regression Results                            \n",
       "==============================================================================\n",
       "Dep. Variable:                    DSR   R-squared:                       0.000\n",
       "Model:                            OLS   Adj. R-squared:                 -0.000\n",
       "Method:                 Least Squares   F-statistic:                   0.03883\n",
       "Date:                Sat, 10 Sep 2016   Prob (F-statistic):              0.844\n",
       "Time:                        15:38:50   Log-Likelihood:            -5.6826e+05\n",
       "No. Observations:               89376   AIC:                         1.137e+06\n",
       "Df Residuals:                   89374   BIC:                         1.137e+06\n",
       "Df Model:                           1                                         \n",
       "Covariance Type:            nonrobust                                         \n",
       "==============================================================================\n",
       "                 coef    std err          t      P>|t|      [95.0% Conf. Int.]\n",
       "------------------------------------------------------------------------------\n",
       "Intercept    185.3637      1.392    133.141      0.000       182.635   188.092\n",
       "PM25           0.0203      0.103      0.197      0.844        -0.182     0.222\n",
       "==============================================================================\n",
       "Omnibus:                   113392.242   Durbin-Watson:                   1.912\n",
       "Prob(Omnibus):                  0.000   Jarque-Bera (JB):        148179541.660\n",
       "Skew:                           6.238   Prob(JB):                         0.00\n",
       "Kurtosis:                     202.085   Cond. No.                         40.5\n",
       "==============================================================================\n",
       "\n",
       "Warnings:\n",
       "[1] Standard Errors assume that the covariance matrix of the errors is correctly specified.\n",
       "\"\"\""
      ]
     },
     "execution_count": 49,
     "metadata": {},
     "output_type": "execute_result"
    }
   ],
   "source": [
    "model = ols(\"DSR ~ PM25\", data=Circul_AP)\n",
    "Circulatory_results = model.fit()\n",
    "Circulatory_results.summary()"
   ]
  },
  {
   "cell_type": "code",
   "execution_count": 50,
   "metadata": {
    "collapsed": false
   },
   "outputs": [
    {
     "data": {
      "text/html": [
       "<table class=\"simpletable\">\n",
       "<caption>OLS Regression Results</caption>\n",
       "<tr>\n",
       "  <th>Dep. Variable:</th>           <td>DSR</td>       <th>  R-squared:         </th>  <td>   0.004</td>  \n",
       "</tr>\n",
       "<tr>\n",
       "  <th>Model:</th>                   <td>OLS</td>       <th>  Adj. R-squared:    </th>  <td>   0.004</td>  \n",
       "</tr>\n",
       "<tr>\n",
       "  <th>Method:</th>             <td>Least Squares</td>  <th>  F-statistic:       </th>  <td>   323.7</td>  \n",
       "</tr>\n",
       "<tr>\n",
       "  <th>Date:</th>             <td>Sat, 10 Sep 2016</td> <th>  Prob (F-statistic):</th>  <td>3.09e-72</td>  \n",
       "</tr>\n",
       "<tr>\n",
       "  <th>Time:</th>                 <td>15:38:52</td>     <th>  Log-Likelihood:    </th> <td>-5.5133e+05</td>\n",
       "</tr>\n",
       "<tr>\n",
       "  <th>No. Observations:</th>      <td> 87048</td>      <th>  AIC:               </th>  <td>1.103e+06</td> \n",
       "</tr>\n",
       "<tr>\n",
       "  <th>Df Residuals:</th>          <td> 87046</td>      <th>  BIC:               </th>  <td>1.103e+06</td> \n",
       "</tr>\n",
       "<tr>\n",
       "  <th>Df Model:</th>              <td>     1</td>      <th>                     </th>      <td> </td>     \n",
       "</tr>\n",
       "<tr>\n",
       "  <th>Covariance Type:</th>      <td>nonrobust</td>    <th>                     </th>      <td> </td>     \n",
       "</tr>\n",
       "</table>\n",
       "<table class=\"simpletable\">\n",
       "<tr>\n",
       "      <td></td>         <th>coef</th>     <th>std err</th>      <th>t</th>      <th>P>|t|</th> <th>[95.0% Conf. Int.]</th> \n",
       "</tr>\n",
       "<tr>\n",
       "  <th>Intercept</th> <td>  185.4978</td> <td>    1.361</td> <td>  136.272</td> <td> 0.000</td> <td>  182.830   188.166</td>\n",
       "</tr>\n",
       "<tr>\n",
       "  <th>PM25</th>      <td>   -1.8211</td> <td>    0.101</td> <td>  -17.991</td> <td> 0.000</td> <td>   -2.019    -1.623</td>\n",
       "</tr>\n",
       "</table>\n",
       "<table class=\"simpletable\">\n",
       "<tr>\n",
       "  <th>Omnibus:</th>       <td>110203.558</td> <th>  Durbin-Watson:     </th>   <td>   1.836</td>   \n",
       "</tr>\n",
       "<tr>\n",
       "  <th>Prob(Omnibus):</th>   <td> 0.000</td>   <th>  Jarque-Bera (JB):  </th> <td>155872942.102</td>\n",
       "</tr>\n",
       "<tr>\n",
       "  <th>Skew:</th>            <td> 6.183</td>   <th>  Prob(JB):          </th>   <td>    0.00</td>   \n",
       "</tr>\n",
       "<tr>\n",
       "  <th>Kurtosis:</th>        <td>209.937</td>  <th>  Cond. No.          </th>   <td>    39.8</td>   \n",
       "</tr>\n",
       "</table>"
      ],
      "text/plain": [
       "<class 'statsmodels.iolib.summary.Summary'>\n",
       "\"\"\"\n",
       "                            OLS Regression Results                            \n",
       "==============================================================================\n",
       "Dep. Variable:                    DSR   R-squared:                       0.004\n",
       "Model:                            OLS   Adj. R-squared:                  0.004\n",
       "Method:                 Least Squares   F-statistic:                     323.7\n",
       "Date:                Sat, 10 Sep 2016   Prob (F-statistic):           3.09e-72\n",
       "Time:                        15:38:52   Log-Likelihood:            -5.5133e+05\n",
       "No. Observations:               87048   AIC:                         1.103e+06\n",
       "Df Residuals:                   87046   BIC:                         1.103e+06\n",
       "Df Model:                           1                                         \n",
       "Covariance Type:            nonrobust                                         \n",
       "==============================================================================\n",
       "                 coef    std err          t      P>|t|      [95.0% Conf. Int.]\n",
       "------------------------------------------------------------------------------\n",
       "Intercept    185.4978      1.361    136.272      0.000       182.830   188.166\n",
       "PM25          -1.8211      0.101    -17.991      0.000        -2.019    -1.623\n",
       "==============================================================================\n",
       "Omnibus:                   110203.558   Durbin-Watson:                   1.836\n",
       "Prob(Omnibus):                  0.000   Jarque-Bera (JB):        155872942.102\n",
       "Skew:                           6.183   Prob(JB):                         0.00\n",
       "Kurtosis:                     209.937   Cond. No.                         39.8\n",
       "==============================================================================\n",
       "\n",
       "Warnings:\n",
       "[1] Standard Errors assume that the covariance matrix of the errors is correctly specified.\n",
       "\"\"\""
      ]
     },
     "execution_count": 50,
     "metadata": {},
     "output_type": "execute_result"
    }
   ],
   "source": [
    "model = ols(\"DSR ~ PM25\", data=Respir_AP)\n",
    "Respiratory_results = model.fit()\n",
    "Respiratory_results.summary()"
   ]
  },
  {
   "cell_type": "code",
   "execution_count": 51,
   "metadata": {
    "collapsed": false
   },
   "outputs": [
    {
     "data": {
      "text/html": [
       "<table class=\"simpletable\">\n",
       "<caption>WLS Regression Results</caption>\n",
       "<tr>\n",
       "  <th>Dep. Variable:</th>           <td>DSR</td>       <th>  R-squared:         </th>  <td>   0.567</td>  \n",
       "</tr>\n",
       "<tr>\n",
       "  <th>Model:</th>                   <td>WLS</td>       <th>  Adj. R-squared:    </th>  <td>   0.567</td>  \n",
       "</tr>\n",
       "<tr>\n",
       "  <th>Method:</th>             <td>Least Squares</td>  <th>  F-statistic:       </th>  <td>1.170e+05</td> \n",
       "</tr>\n",
       "<tr>\n",
       "  <th>Date:</th>             <td>Sat, 10 Sep 2016</td> <th>  Prob (F-statistic):</th>   <td>  0.00</td>   \n",
       "</tr>\n",
       "<tr>\n",
       "  <th>Time:</th>                 <td>15:38:53</td>     <th>  Log-Likelihood:    </th> <td>-5.7634e+05</td>\n",
       "</tr>\n",
       "<tr>\n",
       "  <th>No. Observations:</th>      <td> 89376</td>      <th>  AIC:               </th>  <td>1.153e+06</td> \n",
       "</tr>\n",
       "<tr>\n",
       "  <th>Df Residuals:</th>          <td> 89375</td>      <th>  BIC:               </th>  <td>1.153e+06</td> \n",
       "</tr>\n",
       "<tr>\n",
       "  <th>Df Model:</th>              <td>     1</td>      <th>                     </th>      <td> </td>     \n",
       "</tr>\n",
       "<tr>\n",
       "  <th>Covariance Type:</th>      <td>nonrobust</td>    <th>                     </th>      <td> </td>     \n",
       "</tr>\n",
       "</table>\n",
       "<table class=\"simpletable\">\n",
       "<tr>\n",
       "    <td></td>      <th>coef</th>     <th>std err</th>      <th>t</th>      <th>P>|t|</th> <th>[95.0% Conf. Int.]</th> \n",
       "</tr>\n",
       "<tr>\n",
       "  <th>PM25</th> <td>   12.9400</td> <td>    0.038</td> <td>  342.022</td> <td> 0.000</td> <td>   12.866    13.014</td>\n",
       "</tr>\n",
       "</table>\n",
       "<table class=\"simpletable\">\n",
       "<tr>\n",
       "  <th>Omnibus:</th>       <td>99085.228</td> <th>  Durbin-Watson:     </th>   <td>   1.619</td>  \n",
       "</tr>\n",
       "<tr>\n",
       "  <th>Prob(Omnibus):</th>  <td> 0.000</td>   <th>  Jarque-Bera (JB):  </th> <td>80016455.627</td>\n",
       "</tr>\n",
       "<tr>\n",
       "  <th>Skew:</th>           <td> 4.901</td>   <th>  Prob(JB):          </th>   <td>    0.00</td>  \n",
       "</tr>\n",
       "<tr>\n",
       "  <th>Kurtosis:</th>       <td>149.255</td>  <th>  Cond. No.          </th>   <td>    1.00</td>  \n",
       "</tr>\n",
       "</table>"
      ],
      "text/plain": [
       "<class 'statsmodels.iolib.summary.Summary'>\n",
       "\"\"\"\n",
       "                            WLS Regression Results                            \n",
       "==============================================================================\n",
       "Dep. Variable:                    DSR   R-squared:                       0.567\n",
       "Model:                            WLS   Adj. R-squared:                  0.567\n",
       "Method:                 Least Squares   F-statistic:                 1.170e+05\n",
       "Date:                Sat, 10 Sep 2016   Prob (F-statistic):               0.00\n",
       "Time:                        15:38:53   Log-Likelihood:            -5.7634e+05\n",
       "No. Observations:               89376   AIC:                         1.153e+06\n",
       "Df Residuals:                   89375   BIC:                         1.153e+06\n",
       "Df Model:                           1                                         \n",
       "Covariance Type:            nonrobust                                         \n",
       "==============================================================================\n",
       "                 coef    std err          t      P>|t|      [95.0% Conf. Int.]\n",
       "------------------------------------------------------------------------------\n",
       "PM25          12.9400      0.038    342.022      0.000        12.866    13.014\n",
       "==============================================================================\n",
       "Omnibus:                    99085.228   Durbin-Watson:                   1.619\n",
       "Prob(Omnibus):                  0.000   Jarque-Bera (JB):         80016455.627\n",
       "Skew:                           4.901   Prob(JB):                         0.00\n",
       "Kurtosis:                     149.255   Cond. No.                         1.00\n",
       "==============================================================================\n",
       "\n",
       "Warnings:\n",
       "[1] Standard Errors assume that the covariance matrix of the errors is correctly specified.\n",
       "\"\"\""
      ]
     },
     "execution_count": 51,
     "metadata": {},
     "output_type": "execute_result"
    }
   ],
   "source": [
    "wls_model = sm.WLS(Circul_AP.DSR,  Circul_AP.PM25)\n",
    "Circulatory_results = wls_model.fit()\n",
    "Circulatory_results.summary()"
   ]
  },
  {
   "cell_type": "code",
   "execution_count": 52,
   "metadata": {
    "collapsed": false
   },
   "outputs": [
    {
     "data": {
      "text/html": [
       "<table class=\"simpletable\">\n",
       "<caption>WLS Regression Results</caption>\n",
       "<tr>\n",
       "  <th>Dep. Variable:</th>           <td>DSR</td>       <th>  R-squared:         </th>  <td>   0.500</td>  \n",
       "</tr>\n",
       "<tr>\n",
       "  <th>Model:</th>                   <td>WLS</td>       <th>  Adj. R-squared:    </th>  <td>   0.500</td>  \n",
       "</tr>\n",
       "<tr>\n",
       "  <th>Method:</th>             <td>Least Squares</td>  <th>  F-statistic:       </th>  <td>8.692e+04</td> \n",
       "</tr>\n",
       "<tr>\n",
       "  <th>Date:</th>             <td>Sat, 10 Sep 2016</td> <th>  Prob (F-statistic):</th>   <td>  0.00</td>   \n",
       "</tr>\n",
       "<tr>\n",
       "  <th>Time:</th>                 <td>15:38:53</td>     <th>  Log-Likelihood:    </th> <td>-5.5975e+05</td>\n",
       "</tr>\n",
       "<tr>\n",
       "  <th>No. Observations:</th>      <td> 87048</td>      <th>  AIC:               </th>  <td>1.119e+06</td> \n",
       "</tr>\n",
       "<tr>\n",
       "  <th>Df Residuals:</th>          <td> 87047</td>      <th>  BIC:               </th>  <td>1.120e+06</td> \n",
       "</tr>\n",
       "<tr>\n",
       "  <th>Df Model:</th>              <td>     1</td>      <th>                     </th>      <td> </td>     \n",
       "</tr>\n",
       "<tr>\n",
       "  <th>Covariance Type:</th>      <td>nonrobust</td>    <th>                     </th>      <td> </td>     \n",
       "</tr>\n",
       "</table>\n",
       "<table class=\"simpletable\">\n",
       "<tr>\n",
       "    <td></td>      <th>coef</th>     <th>std err</th>      <th>t</th>      <th>P>|t|</th> <th>[95.0% Conf. Int.]</th> \n",
       "</tr>\n",
       "<tr>\n",
       "  <th>PM25</th> <td>   11.1540</td> <td>    0.038</td> <td>  294.815</td> <td> 0.000</td> <td>   11.080    11.228</td>\n",
       "</tr>\n",
       "</table>\n",
       "<table class=\"simpletable\">\n",
       "<tr>\n",
       "  <th>Omnibus:</th>       <td>96335.865</td> <th>  Durbin-Watson:     </th>   <td>   1.532</td>  \n",
       "</tr>\n",
       "<tr>\n",
       "  <th>Prob(Omnibus):</th>  <td> 0.000</td>   <th>  Jarque-Bera (JB):  </th> <td>80839453.803</td>\n",
       "</tr>\n",
       "<tr>\n",
       "  <th>Skew:</th>           <td> 4.872</td>   <th>  Prob(JB):          </th>   <td>    0.00</td>  \n",
       "</tr>\n",
       "<tr>\n",
       "  <th>Kurtosis:</th>       <td>151.974</td>  <th>  Cond. No.          </th>   <td>    1.00</td>  \n",
       "</tr>\n",
       "</table>"
      ],
      "text/plain": [
       "<class 'statsmodels.iolib.summary.Summary'>\n",
       "\"\"\"\n",
       "                            WLS Regression Results                            \n",
       "==============================================================================\n",
       "Dep. Variable:                    DSR   R-squared:                       0.500\n",
       "Model:                            WLS   Adj. R-squared:                  0.500\n",
       "Method:                 Least Squares   F-statistic:                 8.692e+04\n",
       "Date:                Sat, 10 Sep 2016   Prob (F-statistic):               0.00\n",
       "Time:                        15:38:53   Log-Likelihood:            -5.5975e+05\n",
       "No. Observations:               87048   AIC:                         1.119e+06\n",
       "Df Residuals:                   87047   BIC:                         1.120e+06\n",
       "Df Model:                           1                                         \n",
       "Covariance Type:            nonrobust                                         \n",
       "==============================================================================\n",
       "                 coef    std err          t      P>|t|      [95.0% Conf. Int.]\n",
       "------------------------------------------------------------------------------\n",
       "PM25          11.1540      0.038    294.815      0.000        11.080    11.228\n",
       "==============================================================================\n",
       "Omnibus:                    96335.865   Durbin-Watson:                   1.532\n",
       "Prob(Omnibus):                  0.000   Jarque-Bera (JB):         80839453.803\n",
       "Skew:                           4.872   Prob(JB):                         0.00\n",
       "Kurtosis:                     151.974   Cond. No.                         1.00\n",
       "==============================================================================\n",
       "\n",
       "Warnings:\n",
       "[1] Standard Errors assume that the covariance matrix of the errors is correctly specified.\n",
       "\"\"\""
      ]
     },
     "execution_count": 52,
     "metadata": {},
     "output_type": "execute_result"
    }
   ],
   "source": [
    "wls_model = sm.WLS(Respir_AP.DSR,  Respir_AP.PM25)\n",
    "Respiratory_results = wls_model.fit()\n",
    "Respiratory_results.summary()"
   ]
  },
  {
   "cell_type": "code",
   "execution_count": 53,
   "metadata": {
    "collapsed": false,
    "scrolled": true
   },
   "outputs": [
    {
     "data": {
      "text/html": [
       "<table class=\"simpletable\">\n",
       "<caption>OLS Regression Results</caption>\n",
       "<tr>\n",
       "  <th>Dep. Variable:</th>           <td>DSR</td>       <th>  R-squared:         </th>  <td>   0.016</td>  \n",
       "</tr>\n",
       "<tr>\n",
       "  <th>Model:</th>                   <td>OLS</td>       <th>  Adj. R-squared:    </th>  <td>   0.016</td>  \n",
       "</tr>\n",
       "<tr>\n",
       "  <th>Method:</th>             <td>Least Squares</td>  <th>  F-statistic:       </th>  <td>   745.4</td>  \n",
       "</tr>\n",
       "<tr>\n",
       "  <th>Date:</th>             <td>Sat, 10 Sep 2016</td> <th>  Prob (F-statistic):</th>  <td>8.79e-322</td> \n",
       "</tr>\n",
       "<tr>\n",
       "  <th>Time:</th>                 <td>15:38:55</td>     <th>  Log-Likelihood:    </th> <td>-5.6752e+05</td>\n",
       "</tr>\n",
       "<tr>\n",
       "  <th>No. Observations:</th>      <td> 89376</td>      <th>  AIC:               </th>  <td>1.135e+06</td> \n",
       "</tr>\n",
       "<tr>\n",
       "  <th>Df Residuals:</th>          <td> 89373</td>      <th>  BIC:               </th>  <td>1.135e+06</td> \n",
       "</tr>\n",
       "<tr>\n",
       "  <th>Df Model:</th>              <td>     2</td>      <th>                     </th>      <td> </td>     \n",
       "</tr>\n",
       "<tr>\n",
       "  <th>Covariance Type:</th>      <td>nonrobust</td>    <th>                     </th>      <td> </td>     \n",
       "</tr>\n",
       "</table>\n",
       "<table class=\"simpletable\">\n",
       "<tr>\n",
       "      <td></td>         <th>coef</th>     <th>std err</th>      <th>t</th>      <th>P>|t|</th> <th>[95.0% Conf. Int.]</th> \n",
       "</tr>\n",
       "<tr>\n",
       "  <th>Intercept</th> <td>  163.6548</td> <td>    1.491</td> <td>  109.772</td> <td> 0.000</td> <td>  160.733   166.577</td>\n",
       "</tr>\n",
       "<tr>\n",
       "  <th>PM25</th>      <td>   -0.1644</td> <td>    0.102</td> <td>   -1.607</td> <td> 0.108</td> <td>   -0.365     0.036</td>\n",
       "</tr>\n",
       "<tr>\n",
       "  <th>score</th>     <td>    1.4861</td> <td>    0.038</td> <td>   38.611</td> <td> 0.000</td> <td>    1.411     1.561</td>\n",
       "</tr>\n",
       "</table>\n",
       "<table class=\"simpletable\">\n",
       "<tr>\n",
       "  <th>Omnibus:</th>       <td>114697.563</td> <th>  Durbin-Watson:     </th>   <td>   1.926</td>   \n",
       "</tr>\n",
       "<tr>\n",
       "  <th>Prob(Omnibus):</th>   <td> 0.000</td>   <th>  Jarque-Bera (JB):  </th> <td>160814689.557</td>\n",
       "</tr>\n",
       "<tr>\n",
       "  <th>Skew:</th>            <td> 6.361</td>   <th>  Prob(JB):          </th>   <td>    0.00</td>   \n",
       "</tr>\n",
       "<tr>\n",
       "  <th>Kurtosis:</th>        <td>210.416</td>  <th>  Cond. No.          </th>   <td>    74.4</td>   \n",
       "</tr>\n",
       "</table>"
      ],
      "text/plain": [
       "<class 'statsmodels.iolib.summary.Summary'>\n",
       "\"\"\"\n",
       "                            OLS Regression Results                            \n",
       "==============================================================================\n",
       "Dep. Variable:                    DSR   R-squared:                       0.016\n",
       "Model:                            OLS   Adj. R-squared:                  0.016\n",
       "Method:                 Least Squares   F-statistic:                     745.4\n",
       "Date:                Sat, 10 Sep 2016   Prob (F-statistic):          8.79e-322\n",
       "Time:                        15:38:55   Log-Likelihood:            -5.6752e+05\n",
       "No. Observations:               89376   AIC:                         1.135e+06\n",
       "Df Residuals:                   89373   BIC:                         1.135e+06\n",
       "Df Model:                           2                                         \n",
       "Covariance Type:            nonrobust                                         \n",
       "==============================================================================\n",
       "                 coef    std err          t      P>|t|      [95.0% Conf. Int.]\n",
       "------------------------------------------------------------------------------\n",
       "Intercept    163.6548      1.491    109.772      0.000       160.733   166.577\n",
       "PM25          -0.1644      0.102     -1.607      0.108        -0.365     0.036\n",
       "score          1.4861      0.038     38.611      0.000         1.411     1.561\n",
       "==============================================================================\n",
       "Omnibus:                   114697.563   Durbin-Watson:                   1.926\n",
       "Prob(Omnibus):                  0.000   Jarque-Bera (JB):        160814689.557\n",
       "Skew:                           6.361   Prob(JB):                         0.00\n",
       "Kurtosis:                     210.416   Cond. No.                         74.4\n",
       "==============================================================================\n",
       "\n",
       "Warnings:\n",
       "[1] Standard Errors assume that the covariance matrix of the errors is correctly specified.\n",
       "\"\"\""
      ]
     },
     "execution_count": 53,
     "metadata": {},
     "output_type": "execute_result"
    }
   ],
   "source": [
    "model = ols(\"DSR ~ PM25 + score\", data=Circul_AP)\n",
    "Circulatory_results = model.fit()\n",
    "Circulatory_results.summary()"
   ]
  },
  {
   "cell_type": "code",
   "execution_count": 54,
   "metadata": {
    "collapsed": false,
    "scrolled": true
   },
   "outputs": [
    {
     "data": {
      "text/html": [
       "<table class=\"simpletable\">\n",
       "<caption>OLS Regression Results</caption>\n",
       "<tr>\n",
       "  <th>Dep. Variable:</th>           <td>DSR</td>       <th>  R-squared:         </th>  <td>   0.056</td>  \n",
       "</tr>\n",
       "<tr>\n",
       "  <th>Model:</th>                   <td>OLS</td>       <th>  Adj. R-squared:    </th>  <td>   0.056</td>  \n",
       "</tr>\n",
       "<tr>\n",
       "  <th>Method:</th>             <td>Least Squares</td>  <th>  F-statistic:       </th>  <td>   2588.</td>  \n",
       "</tr>\n",
       "<tr>\n",
       "  <th>Date:</th>             <td>Sat, 10 Sep 2016</td> <th>  Prob (F-statistic):</th>   <td>  0.00</td>   \n",
       "</tr>\n",
       "<tr>\n",
       "  <th>Time:</th>                 <td>15:38:57</td>     <th>  Log-Likelihood:    </th> <td>-5.4898e+05</td>\n",
       "</tr>\n",
       "<tr>\n",
       "  <th>No. Observations:</th>      <td> 87048</td>      <th>  AIC:               </th>  <td>1.098e+06</td> \n",
       "</tr>\n",
       "<tr>\n",
       "  <th>Df Residuals:</th>          <td> 87045</td>      <th>  BIC:               </th>  <td>1.098e+06</td> \n",
       "</tr>\n",
       "<tr>\n",
       "  <th>Df Model:</th>              <td>     2</td>      <th>                     </th>      <td> </td>     \n",
       "</tr>\n",
       "<tr>\n",
       "  <th>Covariance Type:</th>      <td>nonrobust</td>    <th>                     </th>      <td> </td>     \n",
       "</tr>\n",
       "</table>\n",
       "<table class=\"simpletable\">\n",
       "<tr>\n",
       "      <td></td>         <th>coef</th>     <th>std err</th>      <th>t</th>      <th>P>|t|</th> <th>[95.0% Conf. Int.]</th> \n",
       "</tr>\n",
       "<tr>\n",
       "  <th>Intercept</th> <td>  147.6354</td> <td>    1.432</td> <td>  103.064</td> <td> 0.000</td> <td>  144.828   150.443</td>\n",
       "</tr>\n",
       "<tr>\n",
       "  <th>PM25</th>      <td>   -2.1892</td> <td>    0.099</td> <td>  -22.188</td> <td> 0.000</td> <td>   -2.383    -1.996</td>\n",
       "</tr>\n",
       "<tr>\n",
       "  <th>score</th>     <td>    2.5084</td> <td>    0.036</td> <td>   69.533</td> <td> 0.000</td> <td>    2.438     2.579</td>\n",
       "</tr>\n",
       "</table>\n",
       "<table class=\"simpletable\">\n",
       "<tr>\n",
       "  <th>Omnibus:</th>       <td>113315.199</td> <th>  Durbin-Watson:     </th>   <td>   1.887</td>   \n",
       "</tr>\n",
       "<tr>\n",
       "  <th>Prob(Omnibus):</th>   <td> 0.000</td>   <th>  Jarque-Bera (JB):  </th> <td>195907475.969</td>\n",
       "</tr>\n",
       "<tr>\n",
       "  <th>Skew:</th>            <td> 6.478</td>   <th>  Prob(JB):          </th>   <td>    0.00</td>   \n",
       "</tr>\n",
       "<tr>\n",
       "  <th>Kurtosis:</th>        <td>235.047</td>  <th>  Cond. No.          </th>   <td>    76.0</td>   \n",
       "</tr>\n",
       "</table>"
      ],
      "text/plain": [
       "<class 'statsmodels.iolib.summary.Summary'>\n",
       "\"\"\"\n",
       "                            OLS Regression Results                            \n",
       "==============================================================================\n",
       "Dep. Variable:                    DSR   R-squared:                       0.056\n",
       "Model:                            OLS   Adj. R-squared:                  0.056\n",
       "Method:                 Least Squares   F-statistic:                     2588.\n",
       "Date:                Sat, 10 Sep 2016   Prob (F-statistic):               0.00\n",
       "Time:                        15:38:57   Log-Likelihood:            -5.4898e+05\n",
       "No. Observations:               87048   AIC:                         1.098e+06\n",
       "Df Residuals:                   87045   BIC:                         1.098e+06\n",
       "Df Model:                           2                                         \n",
       "Covariance Type:            nonrobust                                         \n",
       "==============================================================================\n",
       "                 coef    std err          t      P>|t|      [95.0% Conf. Int.]\n",
       "------------------------------------------------------------------------------\n",
       "Intercept    147.6354      1.432    103.064      0.000       144.828   150.443\n",
       "PM25          -2.1892      0.099    -22.188      0.000        -2.383    -1.996\n",
       "score          2.5084      0.036     69.533      0.000         2.438     2.579\n",
       "==============================================================================\n",
       "Omnibus:                   113315.199   Durbin-Watson:                   1.887\n",
       "Prob(Omnibus):                  0.000   Jarque-Bera (JB):        195907475.969\n",
       "Skew:                           6.478   Prob(JB):                         0.00\n",
       "Kurtosis:                     235.047   Cond. No.                         76.0\n",
       "==============================================================================\n",
       "\n",
       "Warnings:\n",
       "[1] Standard Errors assume that the covariance matrix of the errors is correctly specified.\n",
       "\"\"\""
      ]
     },
     "execution_count": 54,
     "metadata": {},
     "output_type": "execute_result"
    }
   ],
   "source": [
    "model = ols(\"DSR ~ PM25 + score\", data=Respir_AP)\n",
    "Respiratory_results = model.fit()\n",
    "Respiratory_results.summary()"
   ]
  },
  {
   "cell_type": "code",
   "execution_count": 56,
   "metadata": {
    "collapsed": false
   },
   "outputs": [
    {
     "data": {
      "text/plain": [
       "array([[  1.00000000e+00,   6.59119744e-04],\n",
       "       [  6.59119744e-04,   1.00000000e+00]])"
      ]
     },
     "execution_count": 56,
     "metadata": {},
     "output_type": "execute_result"
    }
   ],
   "source": [
    "np.corrcoef(Circul_AP.DSR, Circul_AP.PM25)"
   ]
  },
  {
   "cell_type": "code",
   "execution_count": 57,
   "metadata": {
    "collapsed": false
   },
   "outputs": [
    {
     "data": {
      "text/plain": [
       "count    89376.000000\n",
       "mean       185.622134\n",
       "std        139.649208\n",
       "min          0.000000\n",
       "25%         91.455444\n",
       "50%        154.978683\n",
       "75%        241.832634\n",
       "max       8426.965820\n",
       "Name: DSR, dtype: float64"
      ]
     },
     "execution_count": 57,
     "metadata": {},
     "output_type": "execute_result"
    }
   ],
   "source": [
    "Circul_AP.DSR.describe()"
   ]
  },
  {
   "cell_type": "code",
   "execution_count": 59,
   "metadata": {
    "collapsed": false,
    "scrolled": true
   },
   "outputs": [
    {
     "data": {
      "text/plain": [
       "<matplotlib.collections.PathCollection at 0x616f34f98>"
      ]
     },
     "execution_count": 59,
     "metadata": {},
     "output_type": "execute_result"
    },
    {
     "data": {
      "image/png": "[encoded data removed]",
      "text/plain": [
       "<matplotlib.figure.Figure at 0x618731d68>"
      ]
     },
     "metadata": {},
     "output_type": "display_data"
    }
   ],
   "source": [
    "plt.scatter(Circul_AP['PM25'], Circul_AP.decile, alpha=0.1)"
   ]
  },
  {
   "cell_type": "code",
   "execution_count": 122,
   "metadata": {
    "collapsed": false,
    "scrolled": true
   },
   "outputs": [
    {
     "data": {
      "text/plain": [
       "(0, 1000)"
      ]
     },
     "execution_count": 122,
     "metadata": {},
     "output_type": "execute_result"
    },
    {
     "data": {
      "image/png": "[encoded data removed]",
      "text/plain": [
       "<matplotlib.figure.Figure at 0x6186c2be0>"
      ]
     },
     "metadata": {},
     "output_type": "display_data"
    }
   ],
   "source": [
    "plt.scatter(Respir_AP.PM25, Respir_AP.DSR, alpha=0.1)\n",
    "plt.ylim(0, 1000)"
   ]
  },
  {
   "cell_type": "code",
   "execution_count": 123,
   "metadata": {
    "collapsed": false
   },
   "outputs": [
    {
     "data": {
      "text/plain": [
       "(0, 1000)"
      ]
     },
     "execution_count": 123,
     "metadata": {},
     "output_type": "execute_result"
    },
    {
     "data": {
      "image/png": "[encoded data removed]",
      "text/plain": [
       "<matplotlib.figure.Figure at 0x618c08780>"
      ]
     },
     "metadata": {},
     "output_type": "display_data"
    }
   ],
   "source": [
    "plt.scatter(Circul_AP.PM25, Circul_AP.DSR, alpha=0.1)\n",
    "plt.ylim(0, 1000)"
   ]
  },
  {
   "cell_type": "code",
   "execution_count": 124,
   "metadata": {
    "collapsed": false
   },
   "outputs": [
    {
     "data": {
      "text/plain": [
       "8426.9658199999994"
      ]
     },
     "execution_count": 124,
     "metadata": {},
     "output_type": "execute_result"
    }
   ],
   "source": [
    "ymax = Circul_AP.DSR.max()\n",
    "ymax"
   ]
  },
  {
   "cell_type": "code",
   "execution_count": 139,
   "metadata": {
    "collapsed": false
   },
   "outputs": [
    {
     "data": {
      "image/png": "[encoded data removed]",
      "text/plain": [
       "<matplotlib.figure.Figure at 0x618bdeac8>"
      ]
     },
     "metadata": {},
     "output_type": "display_data"
    }
   ],
   "source": [
    "ymin = Circul_AP.DSR.min()\n",
    "ymax = 2000\n",
    "xmin = Circul_AP.PM25.min()\n",
    "xmax = Circul_AP.PM25.max()\n",
    "\n",
    "plt.hexbin(Circul_AP.PM25, Circul_AP.DSR, bins='log',cmap=plt.cm.YlOrRd_r)\n",
    "plt.axis([xmin, xmax, ymin, ymax])\n",
    "plt.ylabel('Circulatory Admissions (ASR)')\n",
    "plt.xlabel('PM2.5')\n",
    "cb = plt.colorbar()\n",
    "cb.set_label('log10(N)')\n",
    "plt.savefig(r'D:\\Annies_Dissertation\\Analysis\\Regression\\HES\\Circul_AP_monthly_hexbin.jpeg')"
   ]
  },
  {
   "cell_type": "code",
   "execution_count": 140,
   "metadata": {
    "collapsed": false
   },
   "outputs": [
    {
     "data": {
      "image/png": "[encoded data removed]",
      "text/plain": [
       "<matplotlib.figure.Figure at 0x618affa90>"
      ]
     },
     "metadata": {},
     "output_type": "display_data"
    }
   ],
   "source": [
    "ymin = Respir_AP.DSR.min() \n",
    "ymax = 2000\n",
    "xmin = Respir_AP.PM25.min()\n",
    "xmax = Respir_AP.PM25.max()\n",
    "\n",
    "plt.hexbin(Respir_AP.PM25, Respir_AP.DSR, bins='log',cmap=plt.cm.YlOrRd_r)\n",
    "plt.axis([xmin, xmax, ymin, ymax])\n",
    "plt.ylabel('Respiratory Admissions (ASR)')\n",
    "plt.xlabel('PM2.5')\n",
    "cb = plt.colorbar()\n",
    "cb.set_label('log10(N)')\n",
    "plt.savefig(r'D:\\Annies_Dissertation\\Analysis\\Regression\\HES\\Respir_AP_monthly_hexbin.jpeg')"
   ]
  },
  {
   "cell_type": "markdown",
   "metadata": {},
   "source": [
    "# YEARLY"
   ]
  },
  {
   "cell_type": "code",
   "execution_count": 69,
   "metadata": {
    "collapsed": true
   },
   "outputs": [],
   "source": [
    "Circ_Y_2009 = pd.read_csv(r'D:\\Annies_Dissertation\\Analysis\\Regression\\HES\\AllCirculatory_yearly_2009.csv')"
   ]
  },
  {
   "cell_type": "code",
   "execution_count": 70,
   "metadata": {
    "collapsed": true
   },
   "outputs": [],
   "source": [
    "Circ_Y_2010 = pd.read_csv(r'D:\\Annies_Dissertation\\Analysis\\Regression\\HES\\AllCirculatory_yearly_2010.csv')"
   ]
  },
  {
   "cell_type": "code",
   "execution_count": 71,
   "metadata": {
    "collapsed": true
   },
   "outputs": [],
   "source": [
    "Circ_Y_2011 = pd.read_csv(r'D:\\Annies_Dissertation\\Analysis\\Regression\\HES\\AllCirculatory_yearly_2011.csv')"
   ]
  },
  {
   "cell_type": "code",
   "execution_count": 72,
   "metadata": {
    "collapsed": true
   },
   "outputs": [],
   "source": [
    "Circ_Y_2012 = pd.read_csv(r'D:\\Annies_Dissertation\\Analysis\\Regression\\HES\\AllCirculatory_yearly_2012.csv')"
   ]
  },
  {
   "cell_type": "code",
   "execution_count": 73,
   "metadata": {
    "collapsed": true
   },
   "outputs": [],
   "source": [
    "Circ_Y_2013 = pd.read_csv(r'D:\\Annies_Dissertation\\Analysis\\Regression\\HES\\AllCirculatory_yearly_2013.csv')"
   ]
  },
  {
   "cell_type": "code",
   "execution_count": 74,
   "metadata": {
    "collapsed": true
   },
   "outputs": [],
   "source": [
    "Circulatory_yearly = Circ_Y_2009.append([Circ_Y_2010, Circ_Y_2011, Circ_Y_2012, Circ_Y_2013])"
   ]
  },
  {
   "cell_type": "code",
   "execution_count": 75,
   "metadata": {
    "collapsed": false
   },
   "outputs": [
    {
     "data": {
      "text/html": [
       "<div>\n",
       "<table border=\"1\" class=\"dataframe\">\n",
       "  <thead>\n",
       "    <tr style=\"text-align: right;\">\n",
       "      <th></th>\n",
       "      <th>Disease</th>\n",
       "      <th>year</th>\n",
       "      <th>lsoa11</th>\n",
       "      <th>n</th>\n",
       "      <th>DSR</th>\n",
       "      <th>lcl</th>\n",
       "      <th>ucl</th>\n",
       "      <th>score</th>\n",
       "      <th>rank</th>\n",
       "      <th>decile</th>\n",
       "    </tr>\n",
       "  </thead>\n",
       "  <tbody>\n",
       "    <tr>\n",
       "      <th>0</th>\n",
       "      <td>All Circulatory</td>\n",
       "      <td>2009</td>\n",
       "      <td>E01015272</td>\n",
       "      <td>29.0</td>\n",
       "      <td>1379.819824</td>\n",
       "      <td>907.973938</td>\n",
       "      <td>2002.930054</td>\n",
       "      <td>11.430000</td>\n",
       "      <td>22492</td>\n",
       "      <td>7</td>\n",
       "    </tr>\n",
       "    <tr>\n",
       "      <th>1</th>\n",
       "      <td>All Circulatory</td>\n",
       "      <td>2009</td>\n",
       "      <td>E01015273</td>\n",
       "      <td>24.0</td>\n",
       "      <td>2712.837646</td>\n",
       "      <td>1679.499756</td>\n",
       "      <td>4116.159180</td>\n",
       "      <td>33.619999</td>\n",
       "      <td>6665</td>\n",
       "      <td>3</td>\n",
       "    </tr>\n",
       "    <tr>\n",
       "      <th>2</th>\n",
       "      <td>All Circulatory</td>\n",
       "      <td>2009</td>\n",
       "      <td>E01015274</td>\n",
       "      <td>30.0</td>\n",
       "      <td>2070.800049</td>\n",
       "      <td>1386.778442</td>\n",
       "      <td>2969.841064</td>\n",
       "      <td>20.290001</td>\n",
       "      <td>13991</td>\n",
       "      <td>5</td>\n",
       "    </tr>\n",
       "    <tr>\n",
       "      <th>3</th>\n",
       "      <td>All Circulatory</td>\n",
       "      <td>2009</td>\n",
       "      <td>E01015275</td>\n",
       "      <td>37.0</td>\n",
       "      <td>3559.793457</td>\n",
       "      <td>2480.718994</td>\n",
       "      <td>4939.573242</td>\n",
       "      <td>19.780001</td>\n",
       "      <td>14447</td>\n",
       "      <td>5</td>\n",
       "    </tr>\n",
       "    <tr>\n",
       "      <th>4</th>\n",
       "      <td>All Circulatory</td>\n",
       "      <td>2009</td>\n",
       "      <td>E01015276</td>\n",
       "      <td>15.0</td>\n",
       "      <td>1460.698853</td>\n",
       "      <td>791.767883</td>\n",
       "      <td>2447.211182</td>\n",
       "      <td>26.400000</td>\n",
       "      <td>10063</td>\n",
       "      <td>4</td>\n",
       "    </tr>\n",
       "    <tr>\n",
       "      <th>5</th>\n",
       "      <td>All Circulatory</td>\n",
       "      <td>2009</td>\n",
       "      <td>E01015277</td>\n",
       "      <td>43.0</td>\n",
       "      <td>3493.800781</td>\n",
       "      <td>2469.253418</td>\n",
       "      <td>4780.509277</td>\n",
       "      <td>35.400002</td>\n",
       "      <td>5995</td>\n",
       "      <td>2</td>\n",
       "    </tr>\n",
       "    <tr>\n",
       "      <th>6</th>\n",
       "      <td>All Circulatory</td>\n",
       "      <td>2009</td>\n",
       "      <td>E01015279</td>\n",
       "      <td>31.0</td>\n",
       "      <td>3111.310303</td>\n",
       "      <td>2045.067383</td>\n",
       "      <td>4506.430664</td>\n",
       "      <td>45.439999</td>\n",
       "      <td>3096</td>\n",
       "      <td>1</td>\n",
       "    </tr>\n",
       "    <tr>\n",
       "      <th>7</th>\n",
       "      <td>All Circulatory</td>\n",
       "      <td>2009</td>\n",
       "      <td>E01015280</td>\n",
       "      <td>19.0</td>\n",
       "      <td>1589.490601</td>\n",
       "      <td>928.755005</td>\n",
       "      <td>2522.017578</td>\n",
       "      <td>43.990002</td>\n",
       "      <td>3420</td>\n",
       "      <td>2</td>\n",
       "    </tr>\n",
       "    <tr>\n",
       "      <th>8</th>\n",
       "      <td>All Circulatory</td>\n",
       "      <td>2009</td>\n",
       "      <td>E01015281</td>\n",
       "      <td>17.0</td>\n",
       "      <td>1825.341064</td>\n",
       "      <td>959.422729</td>\n",
       "      <td>3072.159668</td>\n",
       "      <td>59.369999</td>\n",
       "      <td>978</td>\n",
       "      <td>1</td>\n",
       "    </tr>\n",
       "    <tr>\n",
       "      <th>9</th>\n",
       "      <td>All Circulatory</td>\n",
       "      <td>2009</td>\n",
       "      <td>E01015282</td>\n",
       "      <td>36.0</td>\n",
       "      <td>4102.072754</td>\n",
       "      <td>2496.800537</td>\n",
       "      <td>6161.738770</td>\n",
       "      <td>71.160004</td>\n",
       "      <td>226</td>\n",
       "      <td>1</td>\n",
       "    </tr>\n",
       "  </tbody>\n",
       "</table>\n",
       "</div>"
      ],
      "text/plain": [
       "           Disease  year     lsoa11     n          DSR          lcl  \\\n",
       "0  All Circulatory  2009  E01015272  29.0  1379.819824   907.973938   \n",
       "1  All Circulatory  2009  E01015273  24.0  2712.837646  1679.499756   \n",
       "2  All Circulatory  2009  E01015274  30.0  2070.800049  1386.778442   \n",
       "3  All Circulatory  2009  E01015275  37.0  3559.793457  2480.718994   \n",
       "4  All Circulatory  2009  E01015276  15.0  1460.698853   791.767883   \n",
       "5  All Circulatory  2009  E01015277  43.0  3493.800781  2469.253418   \n",
       "6  All Circulatory  2009  E01015279  31.0  3111.310303  2045.067383   \n",
       "7  All Circulatory  2009  E01015280  19.0  1589.490601   928.755005   \n",
       "8  All Circulatory  2009  E01015281  17.0  1825.341064   959.422729   \n",
       "9  All Circulatory  2009  E01015282  36.0  4102.072754  2496.800537   \n",
       "\n",
       "           ucl      score   rank  decile  \n",
       "0  2002.930054  11.430000  22492       7  \n",
       "1  4116.159180  33.619999   6665       3  \n",
       "2  2969.841064  20.290001  13991       5  \n",
       "3  4939.573242  19.780001  14447       5  \n",
       "4  2447.211182  26.400000  10063       4  \n",
       "5  4780.509277  35.400002   5995       2  \n",
       "6  4506.430664  45.439999   3096       1  \n",
       "7  2522.017578  43.990002   3420       2  \n",
       "8  3072.159668  59.369999    978       1  \n",
       "9  6161.738770  71.160004    226       1  "
      ]
     },
     "execution_count": 75,
     "metadata": {},
     "output_type": "execute_result"
    }
   ],
   "source": [
    "Circulatory_yearly[:10]"
   ]
  },
  {
   "cell_type": "code",
   "execution_count": 76,
   "metadata": {
    "collapsed": true
   },
   "outputs": [],
   "source": [
    "Circulatory_yearly.to_csv(r'D:\\Annies_Dissertation\\Analysis\\Regression\\HES\\AllCirculatory_yearly_all.csv')"
   ]
  },
  {
   "cell_type": "code",
   "execution_count": 77,
   "metadata": {
    "collapsed": true
   },
   "outputs": [],
   "source": [
    "Resp_Y_2009 = pd.read_csv(r'D:\\Annies_Dissertation\\Analysis\\Regression\\HES\\AllRespiratory_yearly_2009.csv')"
   ]
  },
  {
   "cell_type": "code",
   "execution_count": 78,
   "metadata": {
    "collapsed": true
   },
   "outputs": [],
   "source": [
    "Resp_Y_2010 = pd.read_csv(r'D:\\Annies_Dissertation\\Analysis\\Regression\\HES\\AllRespiratory_yearly_2010.csv')"
   ]
  },
  {
   "cell_type": "code",
   "execution_count": 79,
   "metadata": {
    "collapsed": true
   },
   "outputs": [],
   "source": [
    "Resp_Y_2011 = pd.read_csv(r'D:\\Annies_Dissertation\\Analysis\\Regression\\HES\\AllRespiratory_yearly_2011.csv')"
   ]
  },
  {
   "cell_type": "code",
   "execution_count": 80,
   "metadata": {
    "collapsed": true
   },
   "outputs": [],
   "source": [
    "Resp_Y_2012 = pd.read_csv(r'D:\\Annies_Dissertation\\Analysis\\Regression\\HES\\AllRespiratory_yearly_2012.csv')"
   ]
  },
  {
   "cell_type": "code",
   "execution_count": 81,
   "metadata": {
    "collapsed": true
   },
   "outputs": [],
   "source": [
    "Resp_Y_2013 = pd.read_csv(r'D:\\Annies_Dissertation\\Analysis\\Regression\\HES\\AllRespiratory_yearly_2013.csv')"
   ]
  },
  {
   "cell_type": "code",
   "execution_count": 82,
   "metadata": {
    "collapsed": true
   },
   "outputs": [],
   "source": [
    "Respiratory_yearly = Resp_Y_2009.append([Resp_Y_2010, Resp_Y_2011, Resp_Y_2012, Resp_Y_2013])"
   ]
  },
  {
   "cell_type": "code",
   "execution_count": 83,
   "metadata": {
    "collapsed": false
   },
   "outputs": [
    {
     "data": {
      "text/html": [
       "<div>\n",
       "<table border=\"1\" class=\"dataframe\">\n",
       "  <thead>\n",
       "    <tr style=\"text-align: right;\">\n",
       "      <th></th>\n",
       "      <th>Disease</th>\n",
       "      <th>year</th>\n",
       "      <th>lsoa11</th>\n",
       "      <th>n</th>\n",
       "      <th>DSR</th>\n",
       "      <th>lcl</th>\n",
       "      <th>ucl</th>\n",
       "      <th>score</th>\n",
       "      <th>rank</th>\n",
       "      <th>decile</th>\n",
       "    </tr>\n",
       "  </thead>\n",
       "  <tbody>\n",
       "    <tr>\n",
       "      <th>0</th>\n",
       "      <td>All Respiratory</td>\n",
       "      <td>2009</td>\n",
       "      <td>E01015272</td>\n",
       "      <td>12.0</td>\n",
       "      <td>738.839172</td>\n",
       "      <td>367.731018</td>\n",
       "      <td>1312.295532</td>\n",
       "      <td>11.430000</td>\n",
       "      <td>22492</td>\n",
       "      <td>7</td>\n",
       "    </tr>\n",
       "    <tr>\n",
       "      <th>1</th>\n",
       "      <td>All Respiratory</td>\n",
       "      <td>2009</td>\n",
       "      <td>E01015273</td>\n",
       "      <td>25.0</td>\n",
       "      <td>1500.134521</td>\n",
       "      <td>896.891479</td>\n",
       "      <td>2314.249512</td>\n",
       "      <td>33.619999</td>\n",
       "      <td>6665</td>\n",
       "      <td>3</td>\n",
       "    </tr>\n",
       "    <tr>\n",
       "      <th>2</th>\n",
       "      <td>All Respiratory</td>\n",
       "      <td>2009</td>\n",
       "      <td>E01015274</td>\n",
       "      <td>20.0</td>\n",
       "      <td>1518.648193</td>\n",
       "      <td>919.455261</td>\n",
       "      <td>2356.864258</td>\n",
       "      <td>20.290001</td>\n",
       "      <td>13991</td>\n",
       "      <td>5</td>\n",
       "    </tr>\n",
       "    <tr>\n",
       "      <th>3</th>\n",
       "      <td>All Respiratory</td>\n",
       "      <td>2009</td>\n",
       "      <td>E01015275</td>\n",
       "      <td>28.0</td>\n",
       "      <td>2429.869873</td>\n",
       "      <td>1573.156006</td>\n",
       "      <td>3566.883301</td>\n",
       "      <td>19.780001</td>\n",
       "      <td>14447</td>\n",
       "      <td>5</td>\n",
       "    </tr>\n",
       "    <tr>\n",
       "      <th>4</th>\n",
       "      <td>All Respiratory</td>\n",
       "      <td>2009</td>\n",
       "      <td>E01015276</td>\n",
       "      <td>32.0</td>\n",
       "      <td>2487.559082</td>\n",
       "      <td>1609.623413</td>\n",
       "      <td>3631.377686</td>\n",
       "      <td>26.400000</td>\n",
       "      <td>10063</td>\n",
       "      <td>4</td>\n",
       "    </tr>\n",
       "    <tr>\n",
       "      <th>5</th>\n",
       "      <td>All Respiratory</td>\n",
       "      <td>2009</td>\n",
       "      <td>E01015277</td>\n",
       "      <td>31.0</td>\n",
       "      <td>2871.194824</td>\n",
       "      <td>1869.047119</td>\n",
       "      <td>4182.450195</td>\n",
       "      <td>35.400002</td>\n",
       "      <td>5995</td>\n",
       "      <td>2</td>\n",
       "    </tr>\n",
       "    <tr>\n",
       "      <th>6</th>\n",
       "      <td>All Respiratory</td>\n",
       "      <td>2009</td>\n",
       "      <td>E01015279</td>\n",
       "      <td>32.0</td>\n",
       "      <td>2496.507080</td>\n",
       "      <td>1633.889404</td>\n",
       "      <td>3620.368652</td>\n",
       "      <td>45.439999</td>\n",
       "      <td>3096</td>\n",
       "      <td>1</td>\n",
       "    </tr>\n",
       "    <tr>\n",
       "      <th>7</th>\n",
       "      <td>All Respiratory</td>\n",
       "      <td>2009</td>\n",
       "      <td>E01015280</td>\n",
       "      <td>37.0</td>\n",
       "      <td>3055.180420</td>\n",
       "      <td>2070.426025</td>\n",
       "      <td>4314.356445</td>\n",
       "      <td>43.990002</td>\n",
       "      <td>3420</td>\n",
       "      <td>2</td>\n",
       "    </tr>\n",
       "    <tr>\n",
       "      <th>8</th>\n",
       "      <td>All Respiratory</td>\n",
       "      <td>2009</td>\n",
       "      <td>E01015281</td>\n",
       "      <td>24.0</td>\n",
       "      <td>1794.568115</td>\n",
       "      <td>1129.460938</td>\n",
       "      <td>2697.814941</td>\n",
       "      <td>59.369999</td>\n",
       "      <td>978</td>\n",
       "      <td>1</td>\n",
       "    </tr>\n",
       "    <tr>\n",
       "      <th>9</th>\n",
       "      <td>All Respiratory</td>\n",
       "      <td>2009</td>\n",
       "      <td>E01015282</td>\n",
       "      <td>38.0</td>\n",
       "      <td>2713.542236</td>\n",
       "      <td>1748.917114</td>\n",
       "      <td>3942.924805</td>\n",
       "      <td>71.160004</td>\n",
       "      <td>226</td>\n",
       "      <td>1</td>\n",
       "    </tr>\n",
       "  </tbody>\n",
       "</table>\n",
       "</div>"
      ],
      "text/plain": [
       "           Disease  year     lsoa11     n          DSR          lcl  \\\n",
       "0  All Respiratory  2009  E01015272  12.0   738.839172   367.731018   \n",
       "1  All Respiratory  2009  E01015273  25.0  1500.134521   896.891479   \n",
       "2  All Respiratory  2009  E01015274  20.0  1518.648193   919.455261   \n",
       "3  All Respiratory  2009  E01015275  28.0  2429.869873  1573.156006   \n",
       "4  All Respiratory  2009  E01015276  32.0  2487.559082  1609.623413   \n",
       "5  All Respiratory  2009  E01015277  31.0  2871.194824  1869.047119   \n",
       "6  All Respiratory  2009  E01015279  32.0  2496.507080  1633.889404   \n",
       "7  All Respiratory  2009  E01015280  37.0  3055.180420  2070.426025   \n",
       "8  All Respiratory  2009  E01015281  24.0  1794.568115  1129.460938   \n",
       "9  All Respiratory  2009  E01015282  38.0  2713.542236  1748.917114   \n",
       "\n",
       "           ucl      score   rank  decile  \n",
       "0  1312.295532  11.430000  22492       7  \n",
       "1  2314.249512  33.619999   6665       3  \n",
       "2  2356.864258  20.290001  13991       5  \n",
       "3  3566.883301  19.780001  14447       5  \n",
       "4  3631.377686  26.400000  10063       4  \n",
       "5  4182.450195  35.400002   5995       2  \n",
       "6  3620.368652  45.439999   3096       1  \n",
       "7  4314.356445  43.990002   3420       2  \n",
       "8  2697.814941  59.369999    978       1  \n",
       "9  3942.924805  71.160004    226       1  "
      ]
     },
     "execution_count": 83,
     "metadata": {},
     "output_type": "execute_result"
    }
   ],
   "source": [
    "Respiratory_yearly[:10]"
   ]
  },
  {
   "cell_type": "code",
   "execution_count": 84,
   "metadata": {
    "collapsed": true
   },
   "outputs": [],
   "source": [
    "Respiratory_yearly.to_csv(r'D:\\Annies_Dissertation\\Analysis\\Regression\\HES\\AllRespiratory_yearly_all.csv')"
   ]
  },
  {
   "cell_type": "markdown",
   "metadata": {
    "collapsed": true
   },
   "source": [
    "# Reading in Yearly AP"
   ]
  },
  {
   "cell_type": "code",
   "execution_count": 85,
   "metadata": {
    "collapsed": true
   },
   "outputs": [],
   "source": [
    "AP_Yearly = pd.read_csv('D:\\Annies_Dissertation\\Analysis\\Regression\\Yearly_PM25_LSOA.csv')"
   ]
  },
  {
   "cell_type": "code",
   "execution_count": 86,
   "metadata": {
    "collapsed": false
   },
   "outputs": [
    {
     "data": {
      "text/html": [
       "<div>\n",
       "<table border=\"1\" class=\"dataframe\">\n",
       "  <thead>\n",
       "    <tr style=\"text-align: right;\">\n",
       "      <th></th>\n",
       "      <th>Unnamed: 0</th>\n",
       "      <th>time</th>\n",
       "      <th>LSOA</th>\n",
       "      <th>value</th>\n",
       "      <th>year</th>\n",
       "    </tr>\n",
       "  </thead>\n",
       "  <tbody>\n",
       "    <tr>\n",
       "      <th>0</th>\n",
       "      <td>0</td>\n",
       "      <td>2009-12-31</td>\n",
       "      <td>E01014869</td>\n",
       "      <td>11.056740</td>\n",
       "      <td>2009</td>\n",
       "    </tr>\n",
       "    <tr>\n",
       "      <th>1</th>\n",
       "      <td>1</td>\n",
       "      <td>2010-12-31</td>\n",
       "      <td>E01014869</td>\n",
       "      <td>9.198227</td>\n",
       "      <td>2010</td>\n",
       "    </tr>\n",
       "    <tr>\n",
       "      <th>2</th>\n",
       "      <td>2</td>\n",
       "      <td>2011-12-31</td>\n",
       "      <td>E01014869</td>\n",
       "      <td>9.872396</td>\n",
       "      <td>2011</td>\n",
       "    </tr>\n",
       "    <tr>\n",
       "      <th>3</th>\n",
       "      <td>3</td>\n",
       "      <td>2012-12-31</td>\n",
       "      <td>E01014869</td>\n",
       "      <td>9.418056</td>\n",
       "      <td>2012</td>\n",
       "    </tr>\n",
       "    <tr>\n",
       "      <th>4</th>\n",
       "      <td>4</td>\n",
       "      <td>2013-12-31</td>\n",
       "      <td>E01014869</td>\n",
       "      <td>9.172091</td>\n",
       "      <td>2013</td>\n",
       "    </tr>\n",
       "    <tr>\n",
       "      <th>5</th>\n",
       "      <td>5</td>\n",
       "      <td>2014-12-31</td>\n",
       "      <td>E01014869</td>\n",
       "      <td>9.128167</td>\n",
       "      <td>2014</td>\n",
       "    </tr>\n",
       "    <tr>\n",
       "      <th>6</th>\n",
       "      <td>6</td>\n",
       "      <td>2009-12-31</td>\n",
       "      <td>E01014890</td>\n",
       "      <td>10.958618</td>\n",
       "      <td>2009</td>\n",
       "    </tr>\n",
       "    <tr>\n",
       "      <th>7</th>\n",
       "      <td>7</td>\n",
       "      <td>2010-12-31</td>\n",
       "      <td>E01014890</td>\n",
       "      <td>8.324327</td>\n",
       "      <td>2010</td>\n",
       "    </tr>\n",
       "    <tr>\n",
       "      <th>8</th>\n",
       "      <td>8</td>\n",
       "      <td>2011-12-31</td>\n",
       "      <td>E01014890</td>\n",
       "      <td>10.465442</td>\n",
       "      <td>2011</td>\n",
       "    </tr>\n",
       "    <tr>\n",
       "      <th>9</th>\n",
       "      <td>9</td>\n",
       "      <td>2012-12-31</td>\n",
       "      <td>E01014890</td>\n",
       "      <td>8.765922</td>\n",
       "      <td>2012</td>\n",
       "    </tr>\n",
       "  </tbody>\n",
       "</table>\n",
       "</div>"
      ],
      "text/plain": [
       "   Unnamed: 0        time       LSOA      value  year\n",
       "0           0  2009-12-31  E01014869  11.056740  2009\n",
       "1           1  2010-12-31  E01014869   9.198227  2010\n",
       "2           2  2011-12-31  E01014869   9.872396  2011\n",
       "3           3  2012-12-31  E01014869   9.418056  2012\n",
       "4           4  2013-12-31  E01014869   9.172091  2013\n",
       "5           5  2014-12-31  E01014869   9.128167  2014\n",
       "6           6  2009-12-31  E01014890  10.958618  2009\n",
       "7           7  2010-12-31  E01014890   8.324327  2010\n",
       "8           8  2011-12-31  E01014890  10.465442  2011\n",
       "9           9  2012-12-31  E01014890   8.765922  2012"
      ]
     },
     "execution_count": 86,
     "metadata": {},
     "output_type": "execute_result"
    }
   ],
   "source": [
    "AP_Yearly[:10]"
   ]
  },
  {
   "cell_type": "code",
   "execution_count": 87,
   "metadata": {
    "collapsed": true
   },
   "outputs": [],
   "source": [
    "AP_Yearly = AP_Yearly.rename(columns={'LSOA':'lsoa11', 'value':'PM25'})"
   ]
  },
  {
   "cell_type": "code",
   "execution_count": 88,
   "metadata": {
    "collapsed": false
   },
   "outputs": [],
   "source": [
    "AP_Yearly = AP_Yearly[['time', 'lsoa11', 'PM25', 'year']].dropna()"
   ]
  },
  {
   "cell_type": "code",
   "execution_count": 89,
   "metadata": {
    "collapsed": true
   },
   "outputs": [],
   "source": [
    "Circul_AP_Y = pd.merge(Circulatory_yearly, AP_Yearly, on=['year','lsoa11'], how='inner')"
   ]
  },
  {
   "cell_type": "code",
   "execution_count": 90,
   "metadata": {
    "collapsed": false
   },
   "outputs": [
    {
     "data": {
      "text/html": [
       "<div>\n",
       "<table border=\"1\" class=\"dataframe\">\n",
       "  <thead>\n",
       "    <tr style=\"text-align: right;\">\n",
       "      <th></th>\n",
       "      <th>Disease</th>\n",
       "      <th>year</th>\n",
       "      <th>lsoa11</th>\n",
       "      <th>n</th>\n",
       "      <th>DSR</th>\n",
       "      <th>lcl</th>\n",
       "      <th>ucl</th>\n",
       "      <th>score</th>\n",
       "      <th>rank</th>\n",
       "      <th>decile</th>\n",
       "      <th>time</th>\n",
       "      <th>PM25</th>\n",
       "    </tr>\n",
       "  </thead>\n",
       "  <tbody>\n",
       "    <tr>\n",
       "      <th>0</th>\n",
       "      <td>All Circulatory</td>\n",
       "      <td>2009</td>\n",
       "      <td>E01015272</td>\n",
       "      <td>29.0</td>\n",
       "      <td>1379.819824</td>\n",
       "      <td>907.973938</td>\n",
       "      <td>2002.930054</td>\n",
       "      <td>11.430000</td>\n",
       "      <td>22492</td>\n",
       "      <td>7</td>\n",
       "      <td>2009-12-31</td>\n",
       "      <td>15.233035</td>\n",
       "    </tr>\n",
       "    <tr>\n",
       "      <th>1</th>\n",
       "      <td>All Circulatory</td>\n",
       "      <td>2009</td>\n",
       "      <td>E01015273</td>\n",
       "      <td>24.0</td>\n",
       "      <td>2712.837646</td>\n",
       "      <td>1679.499756</td>\n",
       "      <td>4116.159180</td>\n",
       "      <td>33.619999</td>\n",
       "      <td>6665</td>\n",
       "      <td>3</td>\n",
       "      <td>2009-12-31</td>\n",
       "      <td>15.614657</td>\n",
       "    </tr>\n",
       "    <tr>\n",
       "      <th>2</th>\n",
       "      <td>All Circulatory</td>\n",
       "      <td>2009</td>\n",
       "      <td>E01015274</td>\n",
       "      <td>30.0</td>\n",
       "      <td>2070.800049</td>\n",
       "      <td>1386.778442</td>\n",
       "      <td>2969.841064</td>\n",
       "      <td>20.290001</td>\n",
       "      <td>13991</td>\n",
       "      <td>5</td>\n",
       "      <td>2009-12-31</td>\n",
       "      <td>15.820494</td>\n",
       "    </tr>\n",
       "    <tr>\n",
       "      <th>3</th>\n",
       "      <td>All Circulatory</td>\n",
       "      <td>2009</td>\n",
       "      <td>E01015275</td>\n",
       "      <td>37.0</td>\n",
       "      <td>3559.793457</td>\n",
       "      <td>2480.718994</td>\n",
       "      <td>4939.573242</td>\n",
       "      <td>19.780001</td>\n",
       "      <td>14447</td>\n",
       "      <td>5</td>\n",
       "      <td>2009-12-31</td>\n",
       "      <td>15.245512</td>\n",
       "    </tr>\n",
       "    <tr>\n",
       "      <th>4</th>\n",
       "      <td>All Circulatory</td>\n",
       "      <td>2009</td>\n",
       "      <td>E01015276</td>\n",
       "      <td>15.0</td>\n",
       "      <td>1460.698853</td>\n",
       "      <td>791.767883</td>\n",
       "      <td>2447.211182</td>\n",
       "      <td>26.400000</td>\n",
       "      <td>10063</td>\n",
       "      <td>4</td>\n",
       "      <td>2009-12-31</td>\n",
       "      <td>15.811707</td>\n",
       "    </tr>\n",
       "    <tr>\n",
       "      <th>5</th>\n",
       "      <td>All Circulatory</td>\n",
       "      <td>2009</td>\n",
       "      <td>E01015277</td>\n",
       "      <td>43.0</td>\n",
       "      <td>3493.800781</td>\n",
       "      <td>2469.253418</td>\n",
       "      <td>4780.509277</td>\n",
       "      <td>35.400002</td>\n",
       "      <td>5995</td>\n",
       "      <td>2</td>\n",
       "      <td>2009-12-31</td>\n",
       "      <td>15.684235</td>\n",
       "    </tr>\n",
       "    <tr>\n",
       "      <th>6</th>\n",
       "      <td>All Circulatory</td>\n",
       "      <td>2009</td>\n",
       "      <td>E01015279</td>\n",
       "      <td>31.0</td>\n",
       "      <td>3111.310303</td>\n",
       "      <td>2045.067383</td>\n",
       "      <td>4506.430664</td>\n",
       "      <td>45.439999</td>\n",
       "      <td>3096</td>\n",
       "      <td>1</td>\n",
       "      <td>2009-12-31</td>\n",
       "      <td>15.220558</td>\n",
       "    </tr>\n",
       "    <tr>\n",
       "      <th>7</th>\n",
       "      <td>All Circulatory</td>\n",
       "      <td>2009</td>\n",
       "      <td>E01015280</td>\n",
       "      <td>19.0</td>\n",
       "      <td>1589.490601</td>\n",
       "      <td>928.755005</td>\n",
       "      <td>2522.017578</td>\n",
       "      <td>43.990002</td>\n",
       "      <td>3420</td>\n",
       "      <td>2</td>\n",
       "      <td>2009-12-31</td>\n",
       "      <td>15.233035</td>\n",
       "    </tr>\n",
       "    <tr>\n",
       "      <th>8</th>\n",
       "      <td>All Circulatory</td>\n",
       "      <td>2009</td>\n",
       "      <td>E01015281</td>\n",
       "      <td>17.0</td>\n",
       "      <td>1825.341064</td>\n",
       "      <td>959.422729</td>\n",
       "      <td>3072.159668</td>\n",
       "      <td>59.369999</td>\n",
       "      <td>978</td>\n",
       "      <td>1</td>\n",
       "      <td>2009-12-31</td>\n",
       "      <td>15.220558</td>\n",
       "    </tr>\n",
       "    <tr>\n",
       "      <th>9</th>\n",
       "      <td>All Circulatory</td>\n",
       "      <td>2009</td>\n",
       "      <td>E01015282</td>\n",
       "      <td>36.0</td>\n",
       "      <td>4102.072754</td>\n",
       "      <td>2496.800537</td>\n",
       "      <td>6161.738770</td>\n",
       "      <td>71.160004</td>\n",
       "      <td>226</td>\n",
       "      <td>1</td>\n",
       "      <td>2009-12-31</td>\n",
       "      <td>15.220558</td>\n",
       "    </tr>\n",
       "  </tbody>\n",
       "</table>\n",
       "</div>"
      ],
      "text/plain": [
       "           Disease  year     lsoa11     n          DSR          lcl  \\\n",
       "0  All Circulatory  2009  E01015272  29.0  1379.819824   907.973938   \n",
       "1  All Circulatory  2009  E01015273  24.0  2712.837646  1679.499756   \n",
       "2  All Circulatory  2009  E01015274  30.0  2070.800049  1386.778442   \n",
       "3  All Circulatory  2009  E01015275  37.0  3559.793457  2480.718994   \n",
       "4  All Circulatory  2009  E01015276  15.0  1460.698853   791.767883   \n",
       "5  All Circulatory  2009  E01015277  43.0  3493.800781  2469.253418   \n",
       "6  All Circulatory  2009  E01015279  31.0  3111.310303  2045.067383   \n",
       "7  All Circulatory  2009  E01015280  19.0  1589.490601   928.755005   \n",
       "8  All Circulatory  2009  E01015281  17.0  1825.341064   959.422729   \n",
       "9  All Circulatory  2009  E01015282  36.0  4102.072754  2496.800537   \n",
       "\n",
       "           ucl      score   rank  decile        time       PM25  \n",
       "0  2002.930054  11.430000  22492       7  2009-12-31  15.233035  \n",
       "1  4116.159180  33.619999   6665       3  2009-12-31  15.614657  \n",
       "2  2969.841064  20.290001  13991       5  2009-12-31  15.820494  \n",
       "3  4939.573242  19.780001  14447       5  2009-12-31  15.245512  \n",
       "4  2447.211182  26.400000  10063       4  2009-12-31  15.811707  \n",
       "5  4780.509277  35.400002   5995       2  2009-12-31  15.684235  \n",
       "6  4506.430664  45.439999   3096       1  2009-12-31  15.220558  \n",
       "7  2522.017578  43.990002   3420       2  2009-12-31  15.233035  \n",
       "8  3072.159668  59.369999    978       1  2009-12-31  15.220558  \n",
       "9  6161.738770  71.160004    226       1  2009-12-31  15.220558  "
      ]
     },
     "execution_count": 90,
     "metadata": {},
     "output_type": "execute_result"
    }
   ],
   "source": [
    "Circul_AP_Y[:10]"
   ]
  },
  {
   "cell_type": "code",
   "execution_count": 91,
   "metadata": {
    "collapsed": false
   },
   "outputs": [
    {
     "data": {
      "text/plain": [
       "(8229, 12)"
      ]
     },
     "execution_count": 91,
     "metadata": {},
     "output_type": "execute_result"
    }
   ],
   "source": [
    "Circul_AP_Y.shape"
   ]
  },
  {
   "cell_type": "code",
   "execution_count": 92,
   "metadata": {
    "collapsed": true
   },
   "outputs": [],
   "source": [
    "Respir_AP_Y = pd.merge(Respiratory_yearly, AP_Yearly, on=['year','lsoa11'], how='inner')"
   ]
  },
  {
   "cell_type": "code",
   "execution_count": 93,
   "metadata": {
    "collapsed": false
   },
   "outputs": [
    {
     "data": {
      "text/plain": [
       "(8230, 12)"
      ]
     },
     "execution_count": 93,
     "metadata": {},
     "output_type": "execute_result"
    }
   ],
   "source": [
    "Respir_AP_Y.shape"
   ]
  },
  {
   "cell_type": "code",
   "execution_count": 94,
   "metadata": {
    "collapsed": false
   },
   "outputs": [
    {
     "data": {
      "text/html": [
       "<div>\n",
       "<table border=\"1\" class=\"dataframe\">\n",
       "  <thead>\n",
       "    <tr style=\"text-align: right;\">\n",
       "      <th></th>\n",
       "      <th>year</th>\n",
       "      <th>n</th>\n",
       "      <th>DSR</th>\n",
       "      <th>lcl</th>\n",
       "      <th>ucl</th>\n",
       "      <th>score</th>\n",
       "      <th>rank</th>\n",
       "      <th>decile</th>\n",
       "      <th>PM25</th>\n",
       "    </tr>\n",
       "  </thead>\n",
       "  <tbody>\n",
       "    <tr>\n",
       "      <th>year</th>\n",
       "      <td>1.000000</td>\n",
       "      <td>-0.020153</td>\n",
       "      <td>-0.079992</td>\n",
       "      <td>-0.063118</td>\n",
       "      <td>-0.083546</td>\n",
       "      <td>0.000092</td>\n",
       "      <td>-0.000108</td>\n",
       "      <td>-0.000113</td>\n",
       "      <td>-0.119996</td>\n",
       "    </tr>\n",
       "    <tr>\n",
       "      <th>n</th>\n",
       "      <td>-0.020153</td>\n",
       "      <td>1.000000</td>\n",
       "      <td>0.509573</td>\n",
       "      <td>0.715092</td>\n",
       "      <td>0.244166</td>\n",
       "      <td>-0.074654</td>\n",
       "      <td>0.062805</td>\n",
       "      <td>0.063177</td>\n",
       "      <td>0.098710</td>\n",
       "    </tr>\n",
       "    <tr>\n",
       "      <th>DSR</th>\n",
       "      <td>-0.079992</td>\n",
       "      <td>0.509573</td>\n",
       "      <td>1.000000</td>\n",
       "      <td>0.901874</td>\n",
       "      <td>0.906932</td>\n",
       "      <td>0.240652</td>\n",
       "      <td>-0.240456</td>\n",
       "      <td>-0.239051</td>\n",
       "      <td>0.067817</td>\n",
       "    </tr>\n",
       "    <tr>\n",
       "      <th>lcl</th>\n",
       "      <td>-0.063118</td>\n",
       "      <td>0.715092</td>\n",
       "      <td>0.901874</td>\n",
       "      <td>1.000000</td>\n",
       "      <td>0.640985</td>\n",
       "      <td>0.190892</td>\n",
       "      <td>-0.197784</td>\n",
       "      <td>-0.196440</td>\n",
       "      <td>0.092763</td>\n",
       "    </tr>\n",
       "    <tr>\n",
       "      <th>ucl</th>\n",
       "      <td>-0.083546</td>\n",
       "      <td>0.244166</td>\n",
       "      <td>0.906932</td>\n",
       "      <td>0.640985</td>\n",
       "      <td>1.000000</td>\n",
       "      <td>0.240201</td>\n",
       "      <td>-0.233863</td>\n",
       "      <td>-0.232526</td>\n",
       "      <td>0.032775</td>\n",
       "    </tr>\n",
       "    <tr>\n",
       "      <th>score</th>\n",
       "      <td>0.000092</td>\n",
       "      <td>-0.074654</td>\n",
       "      <td>0.240652</td>\n",
       "      <td>0.190892</td>\n",
       "      <td>0.240201</td>\n",
       "      <td>1.000000</td>\n",
       "      <td>-0.949592</td>\n",
       "      <td>-0.943582</td>\n",
       "      <td>0.135810</td>\n",
       "    </tr>\n",
       "    <tr>\n",
       "      <th>rank</th>\n",
       "      <td>-0.000108</td>\n",
       "      <td>0.062805</td>\n",
       "      <td>-0.240456</td>\n",
       "      <td>-0.197784</td>\n",
       "      <td>-0.233863</td>\n",
       "      <td>-0.949592</td>\n",
       "      <td>1.000000</td>\n",
       "      <td>0.994074</td>\n",
       "      <td>-0.143463</td>\n",
       "    </tr>\n",
       "    <tr>\n",
       "      <th>decile</th>\n",
       "      <td>-0.000113</td>\n",
       "      <td>0.063177</td>\n",
       "      <td>-0.239051</td>\n",
       "      <td>-0.196440</td>\n",
       "      <td>-0.232526</td>\n",
       "      <td>-0.943582</td>\n",
       "      <td>0.994074</td>\n",
       "      <td>1.000000</td>\n",
       "      <td>-0.141190</td>\n",
       "    </tr>\n",
       "    <tr>\n",
       "      <th>PM25</th>\n",
       "      <td>-0.119996</td>\n",
       "      <td>0.098710</td>\n",
       "      <td>0.067817</td>\n",
       "      <td>0.092763</td>\n",
       "      <td>0.032775</td>\n",
       "      <td>0.135810</td>\n",
       "      <td>-0.143463</td>\n",
       "      <td>-0.141190</td>\n",
       "      <td>1.000000</td>\n",
       "    </tr>\n",
       "  </tbody>\n",
       "</table>\n",
       "</div>"
      ],
      "text/plain": [
       "            year         n       DSR       lcl       ucl     score      rank  \\\n",
       "year    1.000000 -0.020153 -0.079992 -0.063118 -0.083546  0.000092 -0.000108   \n",
       "n      -0.020153  1.000000  0.509573  0.715092  0.244166 -0.074654  0.062805   \n",
       "DSR    -0.079992  0.509573  1.000000  0.901874  0.906932  0.240652 -0.240456   \n",
       "lcl    -0.063118  0.715092  0.901874  1.000000  0.640985  0.190892 -0.197784   \n",
       "ucl    -0.083546  0.244166  0.906932  0.640985  1.000000  0.240201 -0.233863   \n",
       "score   0.000092 -0.074654  0.240652  0.190892  0.240201  1.000000 -0.949592   \n",
       "rank   -0.000108  0.062805 -0.240456 -0.197784 -0.233863 -0.949592  1.000000   \n",
       "decile -0.000113  0.063177 -0.239051 -0.196440 -0.232526 -0.943582  0.994074   \n",
       "PM25   -0.119996  0.098710  0.067817  0.092763  0.032775  0.135810 -0.143463   \n",
       "\n",
       "          decile      PM25  \n",
       "year   -0.000113 -0.119996  \n",
       "n       0.063177  0.098710  \n",
       "DSR    -0.239051  0.067817  \n",
       "lcl    -0.196440  0.092763  \n",
       "ucl    -0.232526  0.032775  \n",
       "score  -0.943582  0.135810  \n",
       "rank    0.994074 -0.143463  \n",
       "decile  1.000000 -0.141190  \n",
       "PM25   -0.141190  1.000000  "
      ]
     },
     "execution_count": 94,
     "metadata": {},
     "output_type": "execute_result"
    }
   ],
   "source": [
    "Circul_AP_Y.corr()"
   ]
  },
  {
   "cell_type": "code",
   "execution_count": 95,
   "metadata": {
    "collapsed": false
   },
   "outputs": [
    {
     "data": {
      "text/html": [
       "<div>\n",
       "<table border=\"1\" class=\"dataframe\">\n",
       "  <thead>\n",
       "    <tr style=\"text-align: right;\">\n",
       "      <th></th>\n",
       "      <th>year</th>\n",
       "      <th>n</th>\n",
       "      <th>DSR</th>\n",
       "      <th>lcl</th>\n",
       "      <th>ucl</th>\n",
       "      <th>score</th>\n",
       "      <th>rank</th>\n",
       "      <th>decile</th>\n",
       "      <th>PM25</th>\n",
       "    </tr>\n",
       "  </thead>\n",
       "  <tbody>\n",
       "    <tr>\n",
       "      <th>year</th>\n",
       "      <td>1.000000e+00</td>\n",
       "      <td>0.049227</td>\n",
       "      <td>-0.020017</td>\n",
       "      <td>0.000026</td>\n",
       "      <td>-0.036452</td>\n",
       "      <td>-3.498390e-18</td>\n",
       "      <td>1.899945e-18</td>\n",
       "      <td>2.498210e-18</td>\n",
       "      <td>-0.119950</td>\n",
       "    </tr>\n",
       "    <tr>\n",
       "      <th>n</th>\n",
       "      <td>4.922729e-02</td>\n",
       "      <td>1.000000</td>\n",
       "      <td>0.740169</td>\n",
       "      <td>0.846557</td>\n",
       "      <td>0.563105</td>\n",
       "      <td>4.172663e-01</td>\n",
       "      <td>-4.020796e-01</td>\n",
       "      <td>-3.962107e-01</td>\n",
       "      <td>0.049955</td>\n",
       "    </tr>\n",
       "    <tr>\n",
       "      <th>DSR</th>\n",
       "      <td>-2.001679e-02</td>\n",
       "      <td>0.740169</td>\n",
       "      <td>1.000000</td>\n",
       "      <td>0.929011</td>\n",
       "      <td>0.950700</td>\n",
       "      <td>5.164075e-01</td>\n",
       "      <td>-4.862013e-01</td>\n",
       "      <td>-4.820421e-01</td>\n",
       "      <td>0.030126</td>\n",
       "    </tr>\n",
       "    <tr>\n",
       "      <th>lcl</th>\n",
       "      <td>2.618797e-05</td>\n",
       "      <td>0.846557</td>\n",
       "      <td>0.929011</td>\n",
       "      <td>1.000000</td>\n",
       "      <td>0.769785</td>\n",
       "      <td>5.230788e-01</td>\n",
       "      <td>-4.955470e-01</td>\n",
       "      <td>-4.913294e-01</td>\n",
       "      <td>0.039115</td>\n",
       "    </tr>\n",
       "    <tr>\n",
       "      <th>ucl</th>\n",
       "      <td>-3.645178e-02</td>\n",
       "      <td>0.563105</td>\n",
       "      <td>0.950700</td>\n",
       "      <td>0.769785</td>\n",
       "      <td>1.000000</td>\n",
       "      <td>4.548459e-01</td>\n",
       "      <td>-4.251889e-01</td>\n",
       "      <td>-4.217082e-01</td>\n",
       "      <td>0.017033</td>\n",
       "    </tr>\n",
       "    <tr>\n",
       "      <th>score</th>\n",
       "      <td>-3.498390e-18</td>\n",
       "      <td>0.417266</td>\n",
       "      <td>0.516407</td>\n",
       "      <td>0.523079</td>\n",
       "      <td>0.454846</td>\n",
       "      <td>1.000000e+00</td>\n",
       "      <td>-9.495980e-01</td>\n",
       "      <td>-9.435878e-01</td>\n",
       "      <td>0.135738</td>\n",
       "    </tr>\n",
       "    <tr>\n",
       "      <th>rank</th>\n",
       "      <td>1.899945e-18</td>\n",
       "      <td>-0.402080</td>\n",
       "      <td>-0.486201</td>\n",
       "      <td>-0.495547</td>\n",
       "      <td>-0.425189</td>\n",
       "      <td>-9.495980e-01</td>\n",
       "      <td>1.000000e+00</td>\n",
       "      <td>9.940747e-01</td>\n",
       "      <td>-0.143375</td>\n",
       "    </tr>\n",
       "    <tr>\n",
       "      <th>decile</th>\n",
       "      <td>2.498210e-18</td>\n",
       "      <td>-0.396211</td>\n",
       "      <td>-0.482042</td>\n",
       "      <td>-0.491329</td>\n",
       "      <td>-0.421708</td>\n",
       "      <td>-9.435878e-01</td>\n",
       "      <td>9.940747e-01</td>\n",
       "      <td>1.000000e+00</td>\n",
       "      <td>-0.141098</td>\n",
       "    </tr>\n",
       "    <tr>\n",
       "      <th>PM25</th>\n",
       "      <td>-1.199503e-01</td>\n",
       "      <td>0.049955</td>\n",
       "      <td>0.030126</td>\n",
       "      <td>0.039115</td>\n",
       "      <td>0.017033</td>\n",
       "      <td>1.357382e-01</td>\n",
       "      <td>-1.433750e-01</td>\n",
       "      <td>-1.410981e-01</td>\n",
       "      <td>1.000000</td>\n",
       "    </tr>\n",
       "  </tbody>\n",
       "</table>\n",
       "</div>"
      ],
      "text/plain": [
       "                year         n       DSR       lcl       ucl         score  \\\n",
       "year    1.000000e+00  0.049227 -0.020017  0.000026 -0.036452 -3.498390e-18   \n",
       "n       4.922729e-02  1.000000  0.740169  0.846557  0.563105  4.172663e-01   \n",
       "DSR    -2.001679e-02  0.740169  1.000000  0.929011  0.950700  5.164075e-01   \n",
       "lcl     2.618797e-05  0.846557  0.929011  1.000000  0.769785  5.230788e-01   \n",
       "ucl    -3.645178e-02  0.563105  0.950700  0.769785  1.000000  4.548459e-01   \n",
       "score  -3.498390e-18  0.417266  0.516407  0.523079  0.454846  1.000000e+00   \n",
       "rank    1.899945e-18 -0.402080 -0.486201 -0.495547 -0.425189 -9.495980e-01   \n",
       "decile  2.498210e-18 -0.396211 -0.482042 -0.491329 -0.421708 -9.435878e-01   \n",
       "PM25   -1.199503e-01  0.049955  0.030126  0.039115  0.017033  1.357382e-01   \n",
       "\n",
       "                rank        decile      PM25  \n",
       "year    1.899945e-18  2.498210e-18 -0.119950  \n",
       "n      -4.020796e-01 -3.962107e-01  0.049955  \n",
       "DSR    -4.862013e-01 -4.820421e-01  0.030126  \n",
       "lcl    -4.955470e-01 -4.913294e-01  0.039115  \n",
       "ucl    -4.251889e-01 -4.217082e-01  0.017033  \n",
       "score  -9.495980e-01 -9.435878e-01  0.135738  \n",
       "rank    1.000000e+00  9.940747e-01 -0.143375  \n",
       "decile  9.940747e-01  1.000000e+00 -0.141098  \n",
       "PM25   -1.433750e-01 -1.410981e-01  1.000000  "
      ]
     },
     "execution_count": 95,
     "metadata": {},
     "output_type": "execute_result"
    }
   ],
   "source": [
    "Respir_AP_Y.corr()"
   ]
  },
  {
   "cell_type": "markdown",
   "metadata": {},
   "source": [
    "# Yearly Regression"
   ]
  },
  {
   "cell_type": "code",
   "execution_count": 96,
   "metadata": {
    "collapsed": false
   },
   "outputs": [
    {
     "data": {
      "text/html": [
       "<table class=\"simpletable\">\n",
       "<caption>OLS Regression Results</caption>\n",
       "<tr>\n",
       "  <th>Dep. Variable:</th>           <td>DSR</td>       <th>  R-squared:         </th> <td>   0.058</td> \n",
       "</tr>\n",
       "<tr>\n",
       "  <th>Model:</th>                   <td>OLS</td>       <th>  Adj. R-squared:    </th> <td>   0.058</td> \n",
       "</tr>\n",
       "<tr>\n",
       "  <th>Method:</th>             <td>Least Squares</td>  <th>  F-statistic:       </th> <td>   505.7</td> \n",
       "</tr>\n",
       "<tr>\n",
       "  <th>Date:</th>             <td>Sat, 10 Sep 2016</td> <th>  Prob (F-statistic):</th> <td>9.65e-109</td>\n",
       "</tr>\n",
       "<tr>\n",
       "  <th>Time:</th>                 <td>15:44:07</td>     <th>  Log-Likelihood:    </th> <td> -65382.</td> \n",
       "</tr>\n",
       "<tr>\n",
       "  <th>No. Observations:</th>      <td>  8229</td>      <th>  AIC:               </th> <td>1.308e+05</td>\n",
       "</tr>\n",
       "<tr>\n",
       "  <th>Df Residuals:</th>          <td>  8227</td>      <th>  BIC:               </th> <td>1.308e+05</td>\n",
       "</tr>\n",
       "<tr>\n",
       "  <th>Df Model:</th>              <td>     1</td>      <th>                     </th>     <td> </td>    \n",
       "</tr>\n",
       "<tr>\n",
       "  <th>Covariance Type:</th>      <td>nonrobust</td>    <th>                     </th>     <td> </td>    \n",
       "</tr>\n",
       "</table>\n",
       "<table class=\"simpletable\">\n",
       "<tr>\n",
       "      <td></td>         <th>coef</th>     <th>std err</th>      <th>t</th>      <th>P>|t|</th> <th>[95.0% Conf. Int.]</th> \n",
       "</tr>\n",
       "<tr>\n",
       "  <th>Intercept</th> <td> 1608.1301</td> <td>   12.572</td> <td>  127.910</td> <td> 0.000</td> <td> 1583.485  1632.775</td>\n",
       "</tr>\n",
       "<tr>\n",
       "  <th>score</th>     <td>   13.9617</td> <td>    0.621</td> <td>   22.489</td> <td> 0.000</td> <td>   12.745    15.179</td>\n",
       "</tr>\n",
       "</table>\n",
       "<table class=\"simpletable\">\n",
       "<tr>\n",
       "  <th>Omnibus:</th>       <td>3105.347</td> <th>  Durbin-Watson:     </th> <td>   1.607</td> \n",
       "</tr>\n",
       "<tr>\n",
       "  <th>Prob(Omnibus):</th>  <td> 0.000</td>  <th>  Jarque-Bera (JB):  </th> <td>29205.646</td>\n",
       "</tr>\n",
       "<tr>\n",
       "  <th>Skew:</th>           <td> 1.542</td>  <th>  Prob(JB):          </th> <td>    0.00</td> \n",
       "</tr>\n",
       "<tr>\n",
       "  <th>Kurtosis:</th>       <td>11.699</td>  <th>  Cond. No.          </th> <td>    33.9</td> \n",
       "</tr>\n",
       "</table>"
      ],
      "text/plain": [
       "<class 'statsmodels.iolib.summary.Summary'>\n",
       "\"\"\"\n",
       "                            OLS Regression Results                            \n",
       "==============================================================================\n",
       "Dep. Variable:                    DSR   R-squared:                       0.058\n",
       "Model:                            OLS   Adj. R-squared:                  0.058\n",
       "Method:                 Least Squares   F-statistic:                     505.7\n",
       "Date:                Sat, 10 Sep 2016   Prob (F-statistic):          9.65e-109\n",
       "Time:                        15:44:07   Log-Likelihood:                -65382.\n",
       "No. Observations:                8229   AIC:                         1.308e+05\n",
       "Df Residuals:                    8227   BIC:                         1.308e+05\n",
       "Df Model:                           1                                         \n",
       "Covariance Type:            nonrobust                                         \n",
       "==============================================================================\n",
       "                 coef    std err          t      P>|t|      [95.0% Conf. Int.]\n",
       "------------------------------------------------------------------------------\n",
       "Intercept   1608.1301     12.572    127.910      0.000      1583.485  1632.775\n",
       "score         13.9617      0.621     22.489      0.000        12.745    15.179\n",
       "==============================================================================\n",
       "Omnibus:                     3105.347   Durbin-Watson:                   1.607\n",
       "Prob(Omnibus):                  0.000   Jarque-Bera (JB):            29205.646\n",
       "Skew:                           1.542   Prob(JB):                         0.00\n",
       "Kurtosis:                      11.699   Cond. No.                         33.9\n",
       "==============================================================================\n",
       "\n",
       "Warnings:\n",
       "[1] Standard Errors assume that the covariance matrix of the errors is correctly specified.\n",
       "\"\"\""
      ]
     },
     "execution_count": 96,
     "metadata": {},
     "output_type": "execute_result"
    }
   ],
   "source": [
    "model =ols(\"DSR ~ score\", data=Circul_AP_Y)\n",
    "Circulatory_results = model.fit()\n",
    "Circulatory_results.summary()"
   ]
  },
  {
   "cell_type": "code",
   "execution_count": 97,
   "metadata": {
    "collapsed": false
   },
   "outputs": [
    {
     "data": {
      "text/html": [
       "<table class=\"simpletable\">\n",
       "<caption>OLS Regression Results</caption>\n",
       "<tr>\n",
       "  <th>Dep. Variable:</th>           <td>DSR</td>       <th>  R-squared:         </th> <td>   0.267</td> \n",
       "</tr>\n",
       "<tr>\n",
       "  <th>Model:</th>                   <td>OLS</td>       <th>  Adj. R-squared:    </th> <td>   0.267</td> \n",
       "</tr>\n",
       "<tr>\n",
       "  <th>Method:</th>             <td>Least Squares</td>  <th>  F-statistic:       </th> <td>   2992.</td> \n",
       "</tr>\n",
       "<tr>\n",
       "  <th>Date:</th>             <td>Sat, 10 Sep 2016</td> <th>  Prob (F-statistic):</th>  <td>  0.00</td>  \n",
       "</tr>\n",
       "<tr>\n",
       "  <th>Time:</th>                 <td>15:44:08</td>     <th>  Log-Likelihood:    </th> <td> -65141.</td> \n",
       "</tr>\n",
       "<tr>\n",
       "  <th>No. Observations:</th>      <td>  8230</td>      <th>  AIC:               </th> <td>1.303e+05</td>\n",
       "</tr>\n",
       "<tr>\n",
       "  <th>Df Residuals:</th>          <td>  8228</td>      <th>  BIC:               </th> <td>1.303e+05</td>\n",
       "</tr>\n",
       "<tr>\n",
       "  <th>Df Model:</th>              <td>     1</td>      <th>                     </th>     <td> </td>    \n",
       "</tr>\n",
       "<tr>\n",
       "  <th>Covariance Type:</th>      <td>nonrobust</td>    <th>                     </th>     <td> </td>    \n",
       "</tr>\n",
       "</table>\n",
       "<table class=\"simpletable\">\n",
       "<tr>\n",
       "      <td></td>         <th>coef</th>     <th>std err</th>      <th>t</th>      <th>P>|t|</th> <th>[95.0% Conf. Int.]</th> \n",
       "</tr>\n",
       "<tr>\n",
       "  <th>Intercept</th> <td> 1023.8268</td> <td>   12.198</td> <td>   83.934</td> <td> 0.000</td> <td>  999.916  1047.738</td>\n",
       "</tr>\n",
       "<tr>\n",
       "  <th>score</th>     <td>   32.9464</td> <td>    0.602</td> <td>   54.701</td> <td> 0.000</td> <td>   31.766    34.127</td>\n",
       "</tr>\n",
       "</table>\n",
       "<table class=\"simpletable\">\n",
       "<tr>\n",
       "  <th>Omnibus:</th>       <td>3419.198</td> <th>  Durbin-Watson:     </th> <td>   1.692</td> \n",
       "</tr>\n",
       "<tr>\n",
       "  <th>Prob(Omnibus):</th>  <td> 0.000</td>  <th>  Jarque-Bera (JB):  </th> <td>30731.777</td>\n",
       "</tr>\n",
       "<tr>\n",
       "  <th>Skew:</th>           <td> 1.752</td>  <th>  Prob(JB):          </th> <td>    0.00</td> \n",
       "</tr>\n",
       "<tr>\n",
       "  <th>Kurtosis:</th>       <td>11.794</td>  <th>  Cond. No.          </th> <td>    33.9</td> \n",
       "</tr>\n",
       "</table>"
      ],
      "text/plain": [
       "<class 'statsmodels.iolib.summary.Summary'>\n",
       "\"\"\"\n",
       "                            OLS Regression Results                            \n",
       "==============================================================================\n",
       "Dep. Variable:                    DSR   R-squared:                       0.267\n",
       "Model:                            OLS   Adj. R-squared:                  0.267\n",
       "Method:                 Least Squares   F-statistic:                     2992.\n",
       "Date:                Sat, 10 Sep 2016   Prob (F-statistic):               0.00\n",
       "Time:                        15:44:08   Log-Likelihood:                -65141.\n",
       "No. Observations:                8230   AIC:                         1.303e+05\n",
       "Df Residuals:                    8228   BIC:                         1.303e+05\n",
       "Df Model:                           1                                         \n",
       "Covariance Type:            nonrobust                                         \n",
       "==============================================================================\n",
       "                 coef    std err          t      P>|t|      [95.0% Conf. Int.]\n",
       "------------------------------------------------------------------------------\n",
       "Intercept   1023.8268     12.198     83.934      0.000       999.916  1047.738\n",
       "score         32.9464      0.602     54.701      0.000        31.766    34.127\n",
       "==============================================================================\n",
       "Omnibus:                     3419.198   Durbin-Watson:                   1.692\n",
       "Prob(Omnibus):                  0.000   Jarque-Bera (JB):            30731.777\n",
       "Skew:                           1.752   Prob(JB):                         0.00\n",
       "Kurtosis:                      11.794   Cond. No.                         33.9\n",
       "==============================================================================\n",
       "\n",
       "Warnings:\n",
       "[1] Standard Errors assume that the covariance matrix of the errors is correctly specified.\n",
       "\"\"\""
      ]
     },
     "execution_count": 97,
     "metadata": {},
     "output_type": "execute_result"
    }
   ],
   "source": [
    "model =ols(\"DSR ~ score\", data=Respir_AP_Y)\n",
    "Respiratory_results = model.fit()\n",
    "Respiratory_results.summary()"
   ]
  },
  {
   "cell_type": "code",
   "execution_count": 98,
   "metadata": {
    "collapsed": false
   },
   "outputs": [
    {
     "data": {
      "text/html": [
       "<table class=\"simpletable\">\n",
       "<caption>OLS Regression Results</caption>\n",
       "<tr>\n",
       "  <th>Dep. Variable:</th>           <td>DSR</td>       <th>  R-squared:         </th> <td>   0.005</td> \n",
       "</tr>\n",
       "<tr>\n",
       "  <th>Model:</th>                   <td>OLS</td>       <th>  Adj. R-squared:    </th> <td>   0.004</td> \n",
       "</tr>\n",
       "<tr>\n",
       "  <th>Method:</th>             <td>Least Squares</td>  <th>  F-statistic:       </th> <td>   38.01</td> \n",
       "</tr>\n",
       "<tr>\n",
       "  <th>Date:</th>             <td>Sat, 10 Sep 2016</td> <th>  Prob (F-statistic):</th> <td>7.36e-10</td> \n",
       "</tr>\n",
       "<tr>\n",
       "  <th>Time:</th>                 <td>15:44:08</td>     <th>  Log-Likelihood:    </th> <td> -65609.</td> \n",
       "</tr>\n",
       "<tr>\n",
       "  <th>No. Observations:</th>      <td>  8229</td>      <th>  AIC:               </th> <td>1.312e+05</td>\n",
       "</tr>\n",
       "<tr>\n",
       "  <th>Df Residuals:</th>          <td>  8227</td>      <th>  BIC:               </th> <td>1.312e+05</td>\n",
       "</tr>\n",
       "<tr>\n",
       "  <th>Df Model:</th>              <td>     1</td>      <th>                     </th>     <td> </td>    \n",
       "</tr>\n",
       "<tr>\n",
       "  <th>Covariance Type:</th>      <td>nonrobust</td>    <th>                     </th>     <td> </td>    \n",
       "</tr>\n",
       "</table>\n",
       "<table class=\"simpletable\">\n",
       "<tr>\n",
       "      <td></td>         <th>coef</th>     <th>std err</th>      <th>t</th>      <th>P>|t|</th> <th>[95.0% Conf. Int.]</th> \n",
       "</tr>\n",
       "<tr>\n",
       "  <th>Intercept</th> <td> 1520.1321</td> <td>   51.582</td> <td>   29.470</td> <td> 0.000</td> <td> 1419.018  1621.246</td>\n",
       "</tr>\n",
       "<tr>\n",
       "  <th>PM25</th>      <td>   24.1548</td> <td>    3.918</td> <td>    6.165</td> <td> 0.000</td> <td>   16.475    31.835</td>\n",
       "</tr>\n",
       "</table>\n",
       "<table class=\"simpletable\">\n",
       "<tr>\n",
       "  <th>Omnibus:</th>       <td>2985.597</td> <th>  Durbin-Watson:     </th> <td>   1.594</td> \n",
       "</tr>\n",
       "<tr>\n",
       "  <th>Prob(Omnibus):</th>  <td> 0.000</td>  <th>  Jarque-Bera (JB):  </th> <td>23152.263</td>\n",
       "</tr>\n",
       "<tr>\n",
       "  <th>Skew:</th>           <td> 1.531</td>  <th>  Prob(JB):          </th> <td>    0.00</td> \n",
       "</tr>\n",
       "<tr>\n",
       "  <th>Kurtosis:</th>       <td>10.625</td>  <th>  Cond. No.          </th> <td>    88.2</td> \n",
       "</tr>\n",
       "</table>"
      ],
      "text/plain": [
       "<class 'statsmodels.iolib.summary.Summary'>\n",
       "\"\"\"\n",
       "                            OLS Regression Results                            \n",
       "==============================================================================\n",
       "Dep. Variable:                    DSR   R-squared:                       0.005\n",
       "Model:                            OLS   Adj. R-squared:                  0.004\n",
       "Method:                 Least Squares   F-statistic:                     38.01\n",
       "Date:                Sat, 10 Sep 2016   Prob (F-statistic):           7.36e-10\n",
       "Time:                        15:44:08   Log-Likelihood:                -65609.\n",
       "No. Observations:                8229   AIC:                         1.312e+05\n",
       "Df Residuals:                    8227   BIC:                         1.312e+05\n",
       "Df Model:                           1                                         \n",
       "Covariance Type:            nonrobust                                         \n",
       "==============================================================================\n",
       "                 coef    std err          t      P>|t|      [95.0% Conf. Int.]\n",
       "------------------------------------------------------------------------------\n",
       "Intercept   1520.1321     51.582     29.470      0.000      1419.018  1621.246\n",
       "PM25          24.1548      3.918      6.165      0.000        16.475    31.835\n",
       "==============================================================================\n",
       "Omnibus:                     2985.597   Durbin-Watson:                   1.594\n",
       "Prob(Omnibus):                  0.000   Jarque-Bera (JB):            23152.263\n",
       "Skew:                           1.531   Prob(JB):                         0.00\n",
       "Kurtosis:                      10.625   Cond. No.                         88.2\n",
       "==============================================================================\n",
       "\n",
       "Warnings:\n",
       "[1] Standard Errors assume that the covariance matrix of the errors is correctly specified.\n",
       "\"\"\""
      ]
     },
     "execution_count": 98,
     "metadata": {},
     "output_type": "execute_result"
    }
   ],
   "source": [
    "model =ols(\"DSR ~ PM25\", data=Circul_AP_Y)\n",
    "Circulatory_results = model.fit()\n",
    "Circulatory_results.summary()"
   ]
  },
  {
   "cell_type": "code",
   "execution_count": 99,
   "metadata": {
    "collapsed": false
   },
   "outputs": [
    {
     "data": {
      "text/html": [
       "<table class=\"simpletable\">\n",
       "<caption>OLS Regression Results</caption>\n",
       "<tr>\n",
       "  <th>Dep. Variable:</th>           <td>DSR</td>       <th>  R-squared:         </th> <td>   0.001</td> \n",
       "</tr>\n",
       "<tr>\n",
       "  <th>Model:</th>                   <td>OLS</td>       <th>  Adj. R-squared:    </th> <td>   0.001</td> \n",
       "</tr>\n",
       "<tr>\n",
       "  <th>Method:</th>             <td>Least Squares</td>  <th>  F-statistic:       </th> <td>   7.474</td> \n",
       "</tr>\n",
       "<tr>\n",
       "  <th>Date:</th>             <td>Sat, 10 Sep 2016</td> <th>  Prob (F-statistic):</th>  <td>0.00627</td> \n",
       "</tr>\n",
       "<tr>\n",
       "  <th>Time:</th>                 <td>15:44:09</td>     <th>  Log-Likelihood:    </th> <td> -66414.</td> \n",
       "</tr>\n",
       "<tr>\n",
       "  <th>No. Observations:</th>      <td>  8230</td>      <th>  AIC:               </th> <td>1.328e+05</td>\n",
       "</tr>\n",
       "<tr>\n",
       "  <th>Df Residuals:</th>          <td>  8228</td>      <th>  BIC:               </th> <td>1.328e+05</td>\n",
       "</tr>\n",
       "<tr>\n",
       "  <th>Df Model:</th>              <td>     1</td>      <th>                     </th>     <td> </td>    \n",
       "</tr>\n",
       "<tr>\n",
       "  <th>Covariance Type:</th>      <td>nonrobust</td>    <th>                     </th>     <td> </td>    \n",
       "</tr>\n",
       "</table>\n",
       "<table class=\"simpletable\">\n",
       "<tr>\n",
       "      <td></td>         <th>coef</th>     <th>std err</th>      <th>t</th>      <th>P>|t|</th> <th>[95.0% Conf. Int.]</th> \n",
       "</tr>\n",
       "<tr>\n",
       "  <th>Intercept</th> <td> 1404.5868</td> <td>   56.828</td> <td>   24.716</td> <td> 0.000</td> <td> 1293.189  1515.985</td>\n",
       "</tr>\n",
       "<tr>\n",
       "  <th>PM25</th>      <td>   11.8004</td> <td>    4.316</td> <td>    2.734</td> <td> 0.006</td> <td>    3.339    20.262</td>\n",
       "</tr>\n",
       "</table>\n",
       "<table class=\"simpletable\">\n",
       "<tr>\n",
       "  <th>Omnibus:</th>       <td>3378.942</td> <th>  Durbin-Watson:     </th> <td>   1.473</td> \n",
       "</tr>\n",
       "<tr>\n",
       "  <th>Prob(Omnibus):</th>  <td> 0.000</td>  <th>  Jarque-Bera (JB):  </th> <td>21426.877</td>\n",
       "</tr>\n",
       "<tr>\n",
       "  <th>Skew:</th>           <td> 1.851</td>  <th>  Prob(JB):          </th> <td>    0.00</td> \n",
       "</tr>\n",
       "<tr>\n",
       "  <th>Kurtosis:</th>       <td> 9.984</td>  <th>  Cond. No.          </th> <td>    88.2</td> \n",
       "</tr>\n",
       "</table>"
      ],
      "text/plain": [
       "<class 'statsmodels.iolib.summary.Summary'>\n",
       "\"\"\"\n",
       "                            OLS Regression Results                            \n",
       "==============================================================================\n",
       "Dep. Variable:                    DSR   R-squared:                       0.001\n",
       "Model:                            OLS   Adj. R-squared:                  0.001\n",
       "Method:                 Least Squares   F-statistic:                     7.474\n",
       "Date:                Sat, 10 Sep 2016   Prob (F-statistic):            0.00627\n",
       "Time:                        15:44:09   Log-Likelihood:                -66414.\n",
       "No. Observations:                8230   AIC:                         1.328e+05\n",
       "Df Residuals:                    8228   BIC:                         1.328e+05\n",
       "Df Model:                           1                                         \n",
       "Covariance Type:            nonrobust                                         \n",
       "==============================================================================\n",
       "                 coef    std err          t      P>|t|      [95.0% Conf. Int.]\n",
       "------------------------------------------------------------------------------\n",
       "Intercept   1404.5868     56.828     24.716      0.000      1293.189  1515.985\n",
       "PM25          11.8004      4.316      2.734      0.006         3.339    20.262\n",
       "==============================================================================\n",
       "Omnibus:                     3378.942   Durbin-Watson:                   1.473\n",
       "Prob(Omnibus):                  0.000   Jarque-Bera (JB):            21426.877\n",
       "Skew:                           1.851   Prob(JB):                         0.00\n",
       "Kurtosis:                       9.984   Cond. No.                         88.2\n",
       "==============================================================================\n",
       "\n",
       "Warnings:\n",
       "[1] Standard Errors assume that the covariance matrix of the errors is correctly specified.\n",
       "\"\"\""
      ]
     },
     "execution_count": 99,
     "metadata": {},
     "output_type": "execute_result"
    }
   ],
   "source": [
    "model =ols(\"DSR ~ PM25\", data=Respir_AP_Y)\n",
    "Respiratory_results = model.fit()\n",
    "Respiratory_results.summary()"
   ]
  },
  {
   "cell_type": "code",
   "execution_count": 100,
   "metadata": {
    "collapsed": false
   },
   "outputs": [
    {
     "data": {
      "text/html": [
       "<table class=\"simpletable\">\n",
       "<caption>OLS Regression Results</caption>\n",
       "<tr>\n",
       "  <th>Dep. Variable:</th>           <td>DSR</td>       <th>  R-squared:         </th> <td>   0.059</td> \n",
       "</tr>\n",
       "<tr>\n",
       "  <th>Model:</th>                   <td>OLS</td>       <th>  Adj. R-squared:    </th> <td>   0.059</td> \n",
       "</tr>\n",
       "<tr>\n",
       "  <th>Method:</th>             <td>Least Squares</td>  <th>  F-statistic:       </th> <td>   258.7</td> \n",
       "</tr>\n",
       "<tr>\n",
       "  <th>Date:</th>             <td>Sat, 10 Sep 2016</td> <th>  Prob (F-statistic):</th> <td>1.12e-109</td>\n",
       "</tr>\n",
       "<tr>\n",
       "  <th>Time:</th>                 <td>15:44:10</td>     <th>  Log-Likelihood:    </th> <td> -65377.</td> \n",
       "</tr>\n",
       "<tr>\n",
       "  <th>No. Observations:</th>      <td>  8229</td>      <th>  AIC:               </th> <td>1.308e+05</td>\n",
       "</tr>\n",
       "<tr>\n",
       "  <th>Df Residuals:</th>          <td>  8226</td>      <th>  BIC:               </th> <td>1.308e+05</td>\n",
       "</tr>\n",
       "<tr>\n",
       "  <th>Df Model:</th>              <td>     2</td>      <th>                     </th>     <td> </td>    \n",
       "</tr>\n",
       "<tr>\n",
       "  <th>Covariance Type:</th>      <td>nonrobust</td>    <th>                     </th>     <td> </td>    \n",
       "</tr>\n",
       "</table>\n",
       "<table class=\"simpletable\">\n",
       "<tr>\n",
       "      <td></td>         <th>coef</th>     <th>std err</th>      <th>t</th>      <th>P>|t|</th> <th>[95.0% Conf. Int.]</th> \n",
       "</tr>\n",
       "<tr>\n",
       "  <th>Intercept</th> <td> 1446.7497</td> <td>   50.264</td> <td>   28.783</td> <td> 0.000</td> <td> 1348.220  1545.279</td>\n",
       "</tr>\n",
       "<tr>\n",
       "  <th>PM25</th>      <td>   12.7490</td> <td>    3.845</td> <td>    3.316</td> <td> 0.001</td> <td>    5.212    20.286</td>\n",
       "</tr>\n",
       "<tr>\n",
       "  <th>score</th>     <td>   13.6796</td> <td>    0.626</td> <td>   21.844</td> <td> 0.000</td> <td>   12.452    14.907</td>\n",
       "</tr>\n",
       "</table>\n",
       "<table class=\"simpletable\">\n",
       "<tr>\n",
       "  <th>Omnibus:</th>       <td>3114.687</td> <th>  Durbin-Watson:     </th> <td>   1.609</td> \n",
       "</tr>\n",
       "<tr>\n",
       "  <th>Prob(Omnibus):</th>  <td> 0.000</td>  <th>  Jarque-Bera (JB):  </th> <td>29594.391</td>\n",
       "</tr>\n",
       "<tr>\n",
       "  <th>Skew:</th>           <td> 1.544</td>  <th>  Prob(JB):          </th> <td>    0.00</td> \n",
       "</tr>\n",
       "<tr>\n",
       "  <th>Kurtosis:</th>       <td>11.762</td>  <th>  Cond. No.          </th> <td>    155.</td> \n",
       "</tr>\n",
       "</table>"
      ],
      "text/plain": [
       "<class 'statsmodels.iolib.summary.Summary'>\n",
       "\"\"\"\n",
       "                            OLS Regression Results                            \n",
       "==============================================================================\n",
       "Dep. Variable:                    DSR   R-squared:                       0.059\n",
       "Model:                            OLS   Adj. R-squared:                  0.059\n",
       "Method:                 Least Squares   F-statistic:                     258.7\n",
       "Date:                Sat, 10 Sep 2016   Prob (F-statistic):          1.12e-109\n",
       "Time:                        15:44:10   Log-Likelihood:                -65377.\n",
       "No. Observations:                8229   AIC:                         1.308e+05\n",
       "Df Residuals:                    8226   BIC:                         1.308e+05\n",
       "Df Model:                           2                                         \n",
       "Covariance Type:            nonrobust                                         \n",
       "==============================================================================\n",
       "                 coef    std err          t      P>|t|      [95.0% Conf. Int.]\n",
       "------------------------------------------------------------------------------\n",
       "Intercept   1446.7497     50.264     28.783      0.000      1348.220  1545.279\n",
       "PM25          12.7490      3.845      3.316      0.001         5.212    20.286\n",
       "score         13.6796      0.626     21.844      0.000        12.452    14.907\n",
       "==============================================================================\n",
       "Omnibus:                     3114.687   Durbin-Watson:                   1.609\n",
       "Prob(Omnibus):                  0.000   Jarque-Bera (JB):            29594.391\n",
       "Skew:                           1.544   Prob(JB):                         0.00\n",
       "Kurtosis:                      11.762   Cond. No.                         155.\n",
       "==============================================================================\n",
       "\n",
       "Warnings:\n",
       "[1] Standard Errors assume that the covariance matrix of the errors is correctly specified.\n",
       "\"\"\""
      ]
     },
     "execution_count": 100,
     "metadata": {},
     "output_type": "execute_result"
    }
   ],
   "source": [
    "model =ols(\"DSR ~ PM25 + score\", data=Circul_AP_Y)\n",
    "Circulatory_results = model.fit()\n",
    "Circulatory_results.summary()"
   ]
  },
  {
   "cell_type": "code",
   "execution_count": 101,
   "metadata": {
    "collapsed": false
   },
   "outputs": [
    {
     "data": {
      "text/html": [
       "<table class=\"simpletable\">\n",
       "<caption>OLS Regression Results</caption>\n",
       "<tr>\n",
       "  <th>Dep. Variable:</th>           <td>DSR</td>       <th>  R-squared:         </th> <td>   0.268</td> \n",
       "</tr>\n",
       "<tr>\n",
       "  <th>Model:</th>                   <td>OLS</td>       <th>  Adj. R-squared:    </th> <td>   0.268</td> \n",
       "</tr>\n",
       "<tr>\n",
       "  <th>Method:</th>             <td>Least Squares</td>  <th>  F-statistic:       </th> <td>   1508.</td> \n",
       "</tr>\n",
       "<tr>\n",
       "  <th>Date:</th>             <td>Sat, 10 Sep 2016</td> <th>  Prob (F-statistic):</th>  <td>  0.00</td>  \n",
       "</tr>\n",
       "<tr>\n",
       "  <th>Time:</th>                 <td>15:44:10</td>     <th>  Log-Likelihood:    </th> <td> -65132.</td> \n",
       "</tr>\n",
       "<tr>\n",
       "  <th>No. Observations:</th>      <td>  8230</td>      <th>  AIC:               </th> <td>1.303e+05</td>\n",
       "</tr>\n",
       "<tr>\n",
       "  <th>Df Residuals:</th>          <td>  8227</td>      <th>  BIC:               </th> <td>1.303e+05</td>\n",
       "</tr>\n",
       "<tr>\n",
       "  <th>Df Model:</th>              <td>     2</td>      <th>                     </th>     <td> </td>    \n",
       "</tr>\n",
       "<tr>\n",
       "  <th>Covariance Type:</th>      <td>nonrobust</td>    <th>                     </th>     <td> </td>    \n",
       "</tr>\n",
       "</table>\n",
       "<table class=\"simpletable\">\n",
       "<tr>\n",
       "      <td></td>         <th>coef</th>     <th>std err</th>      <th>t</th>      <th>P>|t|</th> <th>[95.0% Conf. Int.]</th> \n",
       "</tr>\n",
       "<tr>\n",
       "  <th>Intercept</th> <td> 1225.7317</td> <td>   48.745</td> <td>   25.146</td> <td> 0.000</td> <td> 1130.180  1321.284</td>\n",
       "</tr>\n",
       "<tr>\n",
       "  <th>PM25</th>      <td>  -15.9504</td> <td>    3.729</td> <td>   -4.278</td> <td> 0.000</td> <td>  -23.259    -8.641</td>\n",
       "</tr>\n",
       "<tr>\n",
       "  <th>score</th>     <td>   33.2990</td> <td>    0.607</td> <td>   54.832</td> <td> 0.000</td> <td>   32.109    34.489</td>\n",
       "</tr>\n",
       "</table>\n",
       "<table class=\"simpletable\">\n",
       "<tr>\n",
       "  <th>Omnibus:</th>       <td>3377.003</td> <th>  Durbin-Watson:     </th> <td>   1.698</td> \n",
       "</tr>\n",
       "<tr>\n",
       "  <th>Prob(Omnibus):</th>  <td> 0.000</td>  <th>  Jarque-Bera (JB):  </th> <td>29830.995</td>\n",
       "</tr>\n",
       "<tr>\n",
       "  <th>Skew:</th>           <td> 1.731</td>  <th>  Prob(JB):          </th> <td>    0.00</td> \n",
       "</tr>\n",
       "<tr>\n",
       "  <th>Kurtosis:</th>       <td>11.660</td>  <th>  Cond. No.          </th> <td>    155.</td> \n",
       "</tr>\n",
       "</table>"
      ],
      "text/plain": [
       "<class 'statsmodels.iolib.summary.Summary'>\n",
       "\"\"\"\n",
       "                            OLS Regression Results                            \n",
       "==============================================================================\n",
       "Dep. Variable:                    DSR   R-squared:                       0.268\n",
       "Model:                            OLS   Adj. R-squared:                  0.268\n",
       "Method:                 Least Squares   F-statistic:                     1508.\n",
       "Date:                Sat, 10 Sep 2016   Prob (F-statistic):               0.00\n",
       "Time:                        15:44:10   Log-Likelihood:                -65132.\n",
       "No. Observations:                8230   AIC:                         1.303e+05\n",
       "Df Residuals:                    8227   BIC:                         1.303e+05\n",
       "Df Model:                           2                                         \n",
       "Covariance Type:            nonrobust                                         \n",
       "==============================================================================\n",
       "                 coef    std err          t      P>|t|      [95.0% Conf. Int.]\n",
       "------------------------------------------------------------------------------\n",
       "Intercept   1225.7317     48.745     25.146      0.000      1130.180  1321.284\n",
       "PM25         -15.9504      3.729     -4.278      0.000       -23.259    -8.641\n",
       "score         33.2990      0.607     54.832      0.000        32.109    34.489\n",
       "==============================================================================\n",
       "Omnibus:                     3377.003   Durbin-Watson:                   1.698\n",
       "Prob(Omnibus):                  0.000   Jarque-Bera (JB):            29830.995\n",
       "Skew:                           1.731   Prob(JB):                         0.00\n",
       "Kurtosis:                      11.660   Cond. No.                         155.\n",
       "==============================================================================\n",
       "\n",
       "Warnings:\n",
       "[1] Standard Errors assume that the covariance matrix of the errors is correctly specified.\n",
       "\"\"\""
      ]
     },
     "execution_count": 101,
     "metadata": {},
     "output_type": "execute_result"
    }
   ],
   "source": [
    "model =ols(\"DSR ~ PM25 + score\", data=Respir_AP_Y)\n",
    "Respiratory_results = model.fit()\n",
    "Respiratory_results.summary()"
   ]
  },
  {
   "cell_type": "code",
   "execution_count": 138,
   "metadata": {
    "collapsed": false
   },
   "outputs": [
    {
     "data": {
      "image/png": "[encoded data removed]",
      "text/plain": [
       "<matplotlib.figure.Figure at 0x6189201d0>"
      ]
     },
     "metadata": {},
     "output_type": "display_data"
    }
   ],
   "source": [
    "ymin = Circul_AP_Y.DSR.min()\n",
    "ymax = 5000\n",
    "xmin = Circul_AP_Y.PM25.min()\n",
    "xmax = Circul_AP_Y.PM25.max()\n",
    "\n",
    "plt.hexbin(Circul_AP_Y.PM25, Circul_AP_Y.DSR, bins='log',cmap=plt.cm.YlOrRd_r)\n",
    "plt.axis([xmin, xmax, ymin, ymax])\n",
    "plt.ylabel('Circulatory Admissions (ASR)')\n",
    "plt.xlabel('PM2.5')\n",
    "cb = plt.colorbar()\n",
    "cb.set_label('log10(N)')\n",
    "plt.savefig(r'D:\\Annies_Dissertation\\Analysis\\Regression\\HES\\Circul_AP_yearly_hexbin.jpeg')"
   ]
  },
  {
   "cell_type": "code",
   "execution_count": 137,
   "metadata": {
    "collapsed": false
   },
   "outputs": [
    {
     "data": {
      "image/png": "[encoded data removed]",
      "text/plain": [
       "<matplotlib.figure.Figure at 0x6180c5550>"
      ]
     },
     "metadata": {},
     "output_type": "display_data"
    }
   ],
   "source": [
    "ymin = Respir_AP_Y.DSR.min() \n",
    "ymax = 5000\n",
    "xmin = Respir_AP_Y.PM25.min()\n",
    "xmax = Respir_AP_Y.PM25.max()\n",
    "\n",
    "plt.hexbin(Respir_AP_Y.PM25, Respir_AP_Y.DSR, bins='log',cmap=plt.cm.YlOrRd_r)\n",
    "plt.axis([xmin, xmax, ymin, ymax])\n",
    "plt.ylabel('Respiratory Admissions (ASR)')\n",
    "plt.xlabel('PM2.5')\n",
    "cb = plt.colorbar()\n",
    "cb.set_label('log10(N)')\n",
    "plt.savefig(r'D:\\Annies_Dissertation\\Analysis\\Regression\\HES\\Respir_AP_yearly_hexbin.jpeg')"
   ]
  },
  {
   "cell_type": "code",
   "execution_count": 104,
   "metadata": {
    "collapsed": false
   },
   "outputs": [
    {
     "data": {
      "text/plain": [
       "<matplotlib.collections.PathCollection at 0x6180df5f8>"
      ]
     },
     "execution_count": 104,
     "metadata": {},
     "output_type": "execute_result"
    },
    {
     "data": {
      "image/png": "[encoded data removed]",
      "text/plain": [
       "<matplotlib.figure.Figure at 0x618091d30>"
      ]
     },
     "metadata": {},
     "output_type": "display_data"
    }
   ],
   "source": [
    "plt.scatter(Circul_AP_Y.DSR, Circul_AP_Y.PM25, alpha=0.1)\n",
    "#plt.xlim(0, 1000)"
   ]
  },
  {
   "cell_type": "code",
   "execution_count": null,
   "metadata": {
    "collapsed": true
   },
   "outputs": [],
   "source": []
  },
  {
   "cell_type": "code",
   "execution_count": null,
   "metadata": {
    "collapsed": true
   },
   "outputs": [],
   "source": []
  },
  {
   "cell_type": "code",
   "execution_count": null,
   "metadata": {
    "collapsed": true
   },
   "outputs": [],
   "source": []
  },
  {
   "cell_type": "code",
   "execution_count": null,
   "metadata": {
    "collapsed": true
   },
   "outputs": [],
   "source": []
  },
  {
   "cell_type": "code",
   "execution_count": null,
   "metadata": {
    "collapsed": true
   },
   "outputs": [],
   "source": []
  },
  {
   "cell_type": "code",
   "execution_count": null,
   "metadata": {
    "collapsed": true
   },
   "outputs": [],
   "source": []
  },
  {
   "cell_type": "code",
   "execution_count": null,
   "metadata": {
    "collapsed": true
   },
   "outputs": [],
   "source": []
  }
 ],
 "metadata": {
  "kernelspec": {
   "display_name": "Python 3",
   "language": "python",
   "name": "python3"
  },
  "language_info": {
   "codemirror_mode": {
    "name": "ipython",
    "version": 3
   },
   "file_extension": ".py",
   "mimetype": "text/x-python",
   "name": "python",
   "nbconvert_exporter": "python",
   "pygments_lexer": "ipython3",
   "version": "3.5.1"
  }
 },
 "nbformat": 4,
 "nbformat_minor": 0
}
