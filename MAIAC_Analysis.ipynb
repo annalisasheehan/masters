{
 "cells": [
  {
   "cell_type": "markdown",
   "metadata": {},
   "source": [
    "# Import relevant libraries/modules etc"
   ]
  },
  {
   "cell_type": "code",
   "execution_count": null,
   "metadata": {
    "collapsed": false
   },
   "outputs": [],
   "source": [
    "from tqdm import tqdm"
   ]
  },
  {
   "cell_type": "code",
   "execution_count": 22,
   "metadata": {
    "collapsed": false
   },
   "outputs": [],
   "source": [
    "import numpy as np\n",
    "import xarray as xr\n",
    "import rasterio\n",
    "%matplotlib inline\n",
    "from matplotlib.pyplot import *\n",
    "from glob import glob\n",
    "import os\n",
    "import datetime\n",
    "import pandas as pd\n",
    "from rasterio_to_xarray import rasterio_to_xarray"
   ]
  },
  {
   "cell_type": "markdown",
   "metadata": {},
   "source": [
    "# Create an array with MAIAC data"
   ]
  },
  {
   "cell_type": "markdown",
   "metadata": {},
   "source": [
    "- create a function which reads in the files, determines the no data values, and creates a third dim 'time'\n",
    "- create a list with all of the files to be put in the 3d array\n",
    "- run the function on every element of list (map)"
   ]
  },
  {
   "cell_type": "markdown",
   "metadata": {},
   "source": [
    "x = rasterio_to_xarray(r'D:\\Annies_Dissertation\\MAIAC_Test\\Projected\\2014\\MAIACAAOT.h00v01.20140011255.hdf_proj.tif')"
   ]
  },
  {
   "cell_type": "code",
   "execution_count": 4,
   "metadata": {
    "collapsed": true
   },
   "outputs": [],
   "source": [
    "def maiac_file_to_da(filename):\n",
    "    da = rasterio_to_xarray(filename)\n",
    "    \n",
    "    da.values[da.values == -28672] = np.nan\n",
    "    da.values[da.values == 0] = np.nan\n",
    "    \n",
    "    time_str = os.path.basename(filename)[17:-13]\n",
    "    time_obj = datetime.datetime.strptime(time_str, '%Y%j%H%M')\n",
    "    da.coords['time'] = time_obj\n",
    "    \n",
    "    return da"
   ]
  },
  {
   "cell_type": "code",
   "execution_count": 5,
   "metadata": {
    "collapsed": true
   },
   "outputs": [],
   "source": [
    "files = glob(r'D:\\Annies_Dissertation\\MAIAC_Test\\Projected\\2014\\*_proj.tif')"
   ]
  },
  {
   "cell_type": "markdown",
   "metadata": {},
   "source": [
    "maiac_file_to_da(files[0])"
   ]
  },
  {
   "cell_type": "code",
   "execution_count": 6,
   "metadata": {
    "collapsed": true
   },
   "outputs": [],
   "source": [
    "list_of_das = map(maiac_file_to_da, files)"
   ]
  },
  {
   "cell_type": "code",
   "execution_count": 7,
   "metadata": {
    "collapsed": true
   },
   "outputs": [],
   "source": [
    "res = xr.concat(list_of_das, 'time')"
   ]
  },
  {
   "cell_type": "markdown",
   "metadata": {},
   "source": [
    "- view the dataset\n",
    "- view the different 3D timestamps"
   ]
  },
  {
   "cell_type": "code",
   "execution_count": 8,
   "metadata": {
    "collapsed": false
   },
   "outputs": [
    {
     "data": {
      "text/plain": [
       "<xarray.DataArray (time: 23, y: 1162, x: 1240)>\n",
       "array([[[ nan,  nan,  nan, ...,  nan,  nan,  nan],\n",
       "        [ nan,  nan,  nan, ...,  nan,  nan,  nan],\n",
       "        [ nan,  nan,  nan, ...,  nan,  nan,  nan],\n",
       "        ..., \n",
       "        [ nan,  nan,  nan, ...,  nan,  nan,  nan],\n",
       "        [ nan,  nan,  nan, ...,  nan,  nan,  nan],\n",
       "        [ nan,  nan,  nan, ...,  nan,  nan,  nan]],\n",
       "\n",
       "       [[ nan,  nan,  nan, ...,  nan,  nan,  nan],\n",
       "        [ nan,  nan,  nan, ...,  nan,  nan,  nan],\n",
       "        [ nan,  nan,  nan, ...,  nan,  nan,  nan],\n",
       "        ..., \n",
       "        [ nan,  nan,  nan, ...,  nan,  nan,  nan],\n",
       "        [ nan,  nan,  nan, ...,  nan,  nan,  nan],\n",
       "        [ nan,  nan,  nan, ...,  nan,  nan,  nan]],\n",
       "\n",
       "       [[ nan,  nan,  nan, ...,  nan,  nan,  nan],\n",
       "        [ nan,  nan,  nan, ...,  nan,  nan,  nan],\n",
       "        [ nan,  nan,  nan, ...,  nan,  nan,  nan],\n",
       "        ..., \n",
       "        [ nan,  nan,  nan, ...,  nan,  nan,  nan],\n",
       "        [ nan,  nan,  nan, ...,  nan,  nan,  nan],\n",
       "        [ nan,  nan,  nan, ...,  nan,  nan,  nan]],\n",
       "\n",
       "       ..., \n",
       "       [[ nan,  nan,  nan, ...,  nan,  nan,  nan],\n",
       "        [ nan,  nan,  nan, ...,  nan,  nan,  nan],\n",
       "        [ nan,  nan,  nan, ...,  nan,  nan,  nan],\n",
       "        ..., \n",
       "        [ nan,  nan,  nan, ...,  nan,  nan,  nan],\n",
       "        [ nan,  nan,  nan, ...,  nan,  nan,  nan],\n",
       "        [ nan,  nan,  nan, ...,  nan,  nan,  nan]],\n",
       "\n",
       "       [[ nan,  nan,  nan, ...,  nan,  nan,  nan],\n",
       "        [ nan,  nan,  nan, ...,  nan,  nan,  nan],\n",
       "        [ nan,  nan,  nan, ...,  nan,  nan,  nan],\n",
       "        ..., \n",
       "        [ nan,  nan,  nan, ...,  nan,  nan,  nan],\n",
       "        [ nan,  nan,  nan, ...,  nan,  nan,  nan],\n",
       "        [ nan,  nan,  nan, ...,  nan,  nan,  nan]],\n",
       "\n",
       "       [[ nan,  nan,  nan, ...,  nan,  nan,  nan],\n",
       "        [ nan,  nan,  nan, ...,  nan,  nan,  nan],\n",
       "        [ nan,  nan,  nan, ...,  nan,  nan,  nan],\n",
       "        ..., \n",
       "        [ nan,  nan,  nan, ...,  nan,  nan,  nan],\n",
       "        [ nan,  nan,  nan, ...,  nan,  nan,  nan],\n",
       "        [ nan,  nan,  nan, ...,  nan,  nan,  nan]]], dtype=float32)\n",
       "Coordinates:\n",
       "  * y        (y) float64 1.429e+06 1.428e+06 1.427e+06 1.426e+06 1.424e+06 ...\n",
       "  * x        (x) float64 -9.476e+05 -9.464e+05 -9.451e+05 -9.439e+05 ...\n",
       "  * time     (time) datetime64[ns] 2014-01-01T12:55:00 2014-01-01T14:30:00 ...\n",
       "Attributes:\n",
       "    affine: | 1256.54, 0.00,-947639.63|\n",
       "| 0.00,-1256.54, 1429277.81|\n",
       "| 0.00, 0.00, 1.00|\n",
       "    crs: CRS({'init': 'epsg:27700'})"
      ]
     },
     "execution_count": 8,
     "metadata": {},
     "output_type": "execute_result"
    }
   ],
   "source": [
    "res"
   ]
  },
  {
   "cell_type": "code",
   "execution_count": 7,
   "metadata": {
    "collapsed": false
   },
   "outputs": [
    {
     "data": {
      "text/plain": [
       "<xarray.DataArray 'time' (time: 23)>\n",
       "array(['2014-01-01T12:55:00.000000000', '2014-01-01T14:30:00.000000000',\n",
       "       '2014-01-02T12:00:00.000000000', '2014-01-02T13:35:00.000000000',\n",
       "       '2014-01-03T12:40:00.000000000', '2014-01-03T14:20:00.000000000',\n",
       "       '2014-01-04T11:45:00.000000000', '2014-01-04T13:25:00.000000000',\n",
       "       '2014-01-04T15:05:00.000000000', '2014-01-05T12:30:00.000000000',\n",
       "       '2014-01-05T14:10:00.000000000', '2014-01-06T11:35:00.000000000',\n",
       "       '2014-01-06T13:10:00.000000000', '2014-01-06T14:50:00.000000000',\n",
       "       '2014-01-07T12:15:00.000000000', '2014-01-07T13:55:00.000000000',\n",
       "       '2014-01-08T13:00:00.000000000', '2014-01-08T14:40:00.000000000',\n",
       "       '2014-01-09T12:05:00.000000000', '2014-01-09T13:45:00.000000000',\n",
       "       '2014-01-10T12:45:00.000000000', '2014-01-10T14:25:00.000000000',\n",
       "       '2014-01-11T11:50:00.000000000'], dtype='datetime64[ns]')\n",
       "Coordinates:\n",
       "  * time     (time) datetime64[ns] 2014-01-01T12:55:00 2014-01-01T14:30:00 ..."
      ]
     },
     "execution_count": 7,
     "metadata": {},
     "output_type": "execute_result"
    }
   ],
   "source": [
    "res.time"
   ]
  },
  {
   "cell_type": "markdown",
   "metadata": {},
   "source": [
    "# Group data\n",
    "- merge multiple images per day using the maximum AOT estimates\n",
    "- the third dimension is now called date (rather than time)"
   ]
  },
  {
   "cell_type": "code",
   "execution_count": 9,
   "metadata": {
    "collapsed": false
   },
   "outputs": [],
   "source": [
    "r = res.groupby('time.date').max(dim='time')"
   ]
  },
  {
   "cell_type": "code",
   "execution_count": 10,
   "metadata": {
    "collapsed": false
   },
   "outputs": [
    {
     "data": {
      "text/plain": [
       "<xarray.DataArray 'date' (date: 11)>\n",
       "array([datetime.date(2014, 1, 1), datetime.date(2014, 1, 2),\n",
       "       datetime.date(2014, 1, 3), datetime.date(2014, 1, 4),\n",
       "       datetime.date(2014, 1, 5), datetime.date(2014, 1, 6),\n",
       "       datetime.date(2014, 1, 7), datetime.date(2014, 1, 8),\n",
       "       datetime.date(2014, 1, 9), datetime.date(2014, 1, 10),\n",
       "       datetime.date(2014, 1, 11)], dtype=object)\n",
       "Coordinates:\n",
       "  * date     (date) object 2014-01-01 2014-01-02 2014-01-03 2014-01-04 ..."
      ]
     },
     "execution_count": 10,
     "metadata": {},
     "output_type": "execute_result"
    }
   ],
   "source": [
    "r.date"
   ]
  },
  {
   "cell_type": "markdown",
   "metadata": {},
   "source": [
    "# Time series over one pixel\n",
    "- get the information (time series) over one pixel\n",
    "- validate against AERONET Chibolton site"
   ]
  },
  {
   "cell_type": "code",
   "execution_count": 25,
   "metadata": {
    "collapsed": false
   },
   "outputs": [],
   "source": [
    "df = r.isel(x=1103, y=1026).dropna('date').to_pandas()"
   ]
  },
  {
   "cell_type": "code",
   "execution_count": 26,
   "metadata": {
    "collapsed": false
   },
   "outputs": [
    {
     "data": {
      "text/plain": [
       "date\n",
       "2014-01-02    40.0\n",
       "2014-01-03    76.0\n",
       "dtype: float32"
      ]
     },
     "execution_count": 26,
     "metadata": {},
     "output_type": "execute_result"
    }
   ],
   "source": [
    "df"
   ]
  },
  {
   "cell_type": "code",
   "execution_count": 18,
   "metadata": {
    "collapsed": true
   },
   "outputs": [],
   "source": [
    "df.to_csv(r'D:\\Annies_Dissertation\\MAIAC_Test\\Projected\\2014\\Blah.csv')"
   ]
  },
  {
   "cell_type": "code",
   "execution_count": 17,
   "metadata": {
    "collapsed": false,
    "scrolled": true
   },
   "outputs": [
    {
     "ename": "SyntaxError",
     "evalue": "invalid syntax (<ipython-input-17-dbbf9b610622>, line 1)",
     "output_type": "error",
     "traceback": [
      "\u001b[1;36m  File \u001b[1;32m\"<ipython-input-17-dbbf9b610622>\"\u001b[1;36m, line \u001b[1;32m1\u001b[0m\n\u001b[1;33m    cat rD:\\Annies_Dissertation\\MAIAC_Test\\Projected\\2014\\Blah.csv\u001b[0m\n\u001b[1;37m         ^\u001b[0m\n\u001b[1;31mSyntaxError\u001b[0m\u001b[1;31m:\u001b[0m invalid syntax\n"
     ]
    }
   ],
   "source": [
    "cat D:\\Annies_Dissertation\\MAIAC_Test\\Projected\\2014\\Blah.csv"
   ]
  },
  {
   "cell_type": "markdown",
   "metadata": {},
   "source": [
    "# Analysis"
   ]
  },
  {
   "cell_type": "code",
   "execution_count": 21,
   "metadata": {
    "collapsed": true
   },
   "outputs": [],
   "source": [
    "overall_mean = r.mean(dim='date')"
   ]
  },
  {
   "cell_type": "code",
   "execution_count": null,
   "metadata": {
    "collapsed": false
   },
   "outputs": [],
   "source": [
    "figure(figsize=(20, 12))\n",
    "overall_mean.plot(robust=True)"
   ]
  },
  {
   "cell_type": "code",
   "execution_count": null,
   "metadata": {
    "collapsed": true
   },
   "outputs": [],
   "source": [
    "r['date'] = pd.to_datetime(r['date'])"
   ]
  },
  {
   "cell_type": "code",
   "execution_count": null,
   "metadata": {
    "collapsed": false
   },
   "outputs": [],
   "source": [
    "r['date']"
   ]
  },
  {
   "cell_type": "code",
   "execution_count": null,
   "metadata": {
    "collapsed": true
   },
   "outputs": [],
   "source": [
    "seasonal = r.groupby('date.month').max(dim='date')"
   ]
  },
  {
   "cell_type": "code",
   "execution_count": null,
   "metadata": {
    "collapsed": false
   },
   "outputs": [],
   "source": [
    "seasonal.coords"
   ]
  },
  {
   "cell_type": "code",
   "execution_count": null,
   "metadata": {
    "collapsed": false
   },
   "outputs": [],
   "source": [
    "figure(figsize=(20, 12))\n",
    "seasonal.plot(col='seasonal', robust=True)"
   ]
  },
  {
   "cell_type": "code",
   "execution_count": null,
   "metadata": {
    "collapsed": true
   },
   "outputs": [],
   "source": []
  }
 ],
 "metadata": {
  "kernelspec": {
   "display_name": "Python 3",
   "language": "python",
   "name": "python3"
  },
  "language_info": {
   "codemirror_mode": {
    "name": "ipython",
    "version": 3
   },
   "file_extension": ".py",
   "mimetype": "text/x-python",
   "name": "python",
   "nbconvert_exporter": "python",
   "pygments_lexer": "ipython3",
   "version": "3.5.1"
  }
 },
 "nbformat": 4,
 "nbformat_minor": 0
}
