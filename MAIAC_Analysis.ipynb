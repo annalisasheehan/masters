{
 "cells": [
  {
   "cell_type": "markdown",
   "metadata": {},
   "source": [
    "# Import relevant libraries/modules etc"
   ]
  },
  {
   "cell_type": "code",
   "execution_count": 1,
   "metadata": {
    "collapsed": false
   },
   "outputs": [],
   "source": [
    "import numpy as np\n",
    "import xarray as xr\n",
    "import rasterio\n",
    "%matplotlib inline\n",
    "from matplotlib.pyplot import *\n",
    "from glob import glob\n",
    "import os\n",
    "import datetime\n",
    "import pandas as pd\n",
    "from rasterio import features\n",
    "from rasterio_to_xarray import rasterio_to_xarray, xarray_to_rasterio, xarray_to_rasterio_by_band\n",
    "import rasterstats\n",
    "import fiona\n",
    "from tqdm import tqdm\n",
    "\n",
    "from shapely.geometry import shape\n",
    "from rasterstats.io import read_features\n",
    "\n",
    "from dask.diagnostics import ProgressBar"
   ]
  },
  {
   "cell_type": "code",
   "execution_count": null,
   "metadata": {
    "collapsed": true
   },
   "outputs": [],
   "source": [
    "from dask.diagnostics import Profiler, ResourceProfiler, CacheProfiler, ProgressBar\n",
    "pbar = ProgressBar()\n",
    "pbar.register()"
   ]
  },
  {
   "cell_type": "markdown",
   "metadata": {},
   "source": [
    "# Read NetCDF files in to create dataset with all data in"
   ]
  },
  {
   "cell_type": "code",
   "execution_count": 2,
   "metadata": {
    "collapsed": false,
    "scrolled": true
   },
   "outputs": [],
   "source": [
    "PM25 = xr.open_mfdataset(r'C:\\MAIACData\\nc_monthly_daily\\*PM25.nc')['data']"
   ]
  },
  {
   "cell_type": "code",
   "execution_count": null,
   "metadata": {
    "collapsed": false,
    "scrolled": true
   },
   "outputs": [],
   "source": [
    "PM25"
   ]
  },
  {
   "cell_type": "markdown",
   "metadata": {},
   "source": [
    "# Extract data over one pixel"
   ]
  },
  {
   "cell_type": "code",
   "execution_count": null,
   "metadata": {
    "collapsed": false
   },
   "outputs": [],
   "source": [
    "a = PM25.attrs['affine']\n",
    "a = rasterio.Affine.from_gdal(*a)\n",
    "~a * (382611, 80604)"
   ]
  },
  {
   "cell_type": "code",
   "execution_count": null,
   "metadata": {
    "collapsed": true
   },
   "outputs": [],
   "source": [
    "PM25 = PM25.isel(time=np.argsort(PM25.time))"
   ]
  },
  {
   "cell_type": "markdown",
   "metadata": {
    "collapsed": true
   },
   "source": [
    "After2009 = PM25.sel(time=slice('2009', '2016'))"
   ]
  },
  {
   "cell_type": "markdown",
   "metadata": {
    "collapsed": false
   },
   "source": [
    "monthly_data = After2009.resample('M', dim='time', how='mean', keep_attrs=True)"
   ]
  },
  {
   "cell_type": "code",
   "execution_count": null,
   "metadata": {
    "collapsed": false
   },
   "outputs": [],
   "source": [
    "ts = PM25.isel(x=1058, y=1073).load()"
   ]
  },
  {
   "cell_type": "code",
   "execution_count": null,
   "metadata": {
    "collapsed": false
   },
   "outputs": [],
   "source": [
    "ts"
   ]
  },
  {
   "cell_type": "code",
   "execution_count": null,
   "metadata": {
    "collapsed": true
   },
   "outputs": [],
   "source": [
    "result = ts.to_dataframe()"
   ]
  },
  {
   "cell_type": "code",
   "execution_count": null,
   "metadata": {
    "collapsed": false,
    "scrolled": true
   },
   "outputs": [],
   "source": [
    "result.dropna()"
   ]
  },
  {
   "cell_type": "code",
   "execution_count": null,
   "metadata": {
    "collapsed": true
   },
   "outputs": [],
   "source": [
    "result.to_csv(r'D:\\Annies_Dissertation\\Analysis\\Timeseries\\Westlulworth.csv')"
   ]
  },
  {
   "cell_type": "markdown",
   "metadata": {},
   "source": [
    "## Merging timeseries data so can create a graph"
   ]
  },
  {
   "cell_type": "code",
   "execution_count": 2,
   "metadata": {
    "collapsed": true
   },
   "outputs": [],
   "source": [
    "from dateutil.parser import parse"
   ]
  },
  {
   "cell_type": "code",
   "execution_count": 3,
   "metadata": {
    "collapsed": false
   },
   "outputs": [],
   "source": [
    "Unisoton = pd.read_csv(r'D:\\Annies_Dissertation\\Analysis\\Timeseries\\UniSoton.csv', parse_dates=['time'])"
   ]
  },
  {
   "cell_type": "code",
   "execution_count": 4,
   "metadata": {
    "collapsed": false
   },
   "outputs": [
    {
     "data": {
      "text/html": [
       "<div>\n",
       "<table border=\"1\" class=\"dataframe\">\n",
       "  <thead>\n",
       "    <tr style=\"text-align: right;\">\n",
       "      <th></th>\n",
       "      <th>time</th>\n",
       "      <th>x</th>\n",
       "      <th>y</th>\n",
       "      <th>data</th>\n",
       "    </tr>\n",
       "  </thead>\n",
       "  <tbody>\n",
       "    <tr>\n",
       "      <th>0</th>\n",
       "      <td>2000-02-25</td>\n",
       "      <td>442096.976259</td>\n",
       "      <td>116190.330929</td>\n",
       "      <td>10.683363</td>\n",
       "    </tr>\n",
       "    <tr>\n",
       "      <th>1</th>\n",
       "      <td>2000-02-26</td>\n",
       "      <td>442096.976259</td>\n",
       "      <td>116190.330929</td>\n",
       "      <td>NaN</td>\n",
       "    </tr>\n",
       "    <tr>\n",
       "      <th>2</th>\n",
       "      <td>2000-02-27</td>\n",
       "      <td>442096.976259</td>\n",
       "      <td>116190.330929</td>\n",
       "      <td>NaN</td>\n",
       "    </tr>\n",
       "    <tr>\n",
       "      <th>3</th>\n",
       "      <td>2000-02-28</td>\n",
       "      <td>442096.976259</td>\n",
       "      <td>116190.330929</td>\n",
       "      <td>16.978916</td>\n",
       "    </tr>\n",
       "    <tr>\n",
       "      <th>4</th>\n",
       "      <td>2000-02-29</td>\n",
       "      <td>442096.976259</td>\n",
       "      <td>116190.330929</td>\n",
       "      <td>NaN</td>\n",
       "    </tr>\n",
       "    <tr>\n",
       "      <th>5</th>\n",
       "      <td>2000-03-01</td>\n",
       "      <td>442096.976259</td>\n",
       "      <td>116190.330929</td>\n",
       "      <td>NaN</td>\n",
       "    </tr>\n",
       "    <tr>\n",
       "      <th>6</th>\n",
       "      <td>2000-03-02</td>\n",
       "      <td>442096.976259</td>\n",
       "      <td>116190.330929</td>\n",
       "      <td>NaN</td>\n",
       "    </tr>\n",
       "    <tr>\n",
       "      <th>7</th>\n",
       "      <td>2000-03-03</td>\n",
       "      <td>442096.976259</td>\n",
       "      <td>116190.330929</td>\n",
       "      <td>16.339218</td>\n",
       "    </tr>\n",
       "    <tr>\n",
       "      <th>8</th>\n",
       "      <td>2000-03-04</td>\n",
       "      <td>442096.976259</td>\n",
       "      <td>116190.330929</td>\n",
       "      <td>16.877872</td>\n",
       "    </tr>\n",
       "    <tr>\n",
       "      <th>9</th>\n",
       "      <td>2000-03-05</td>\n",
       "      <td>442096.976259</td>\n",
       "      <td>116190.330929</td>\n",
       "      <td>NaN</td>\n",
       "    </tr>\n",
       "  </tbody>\n",
       "</table>\n",
       "</div>"
      ],
      "text/plain": [
       "        time              x              y       data\n",
       "0 2000-02-25  442096.976259  116190.330929  10.683363\n",
       "1 2000-02-26  442096.976259  116190.330929        NaN\n",
       "2 2000-02-27  442096.976259  116190.330929        NaN\n",
       "3 2000-02-28  442096.976259  116190.330929  16.978916\n",
       "4 2000-02-29  442096.976259  116190.330929        NaN\n",
       "5 2000-03-01  442096.976259  116190.330929        NaN\n",
       "6 2000-03-02  442096.976259  116190.330929        NaN\n",
       "7 2000-03-03  442096.976259  116190.330929  16.339218\n",
       "8 2000-03-04  442096.976259  116190.330929  16.877872\n",
       "9 2000-03-05  442096.976259  116190.330929        NaN"
      ]
     },
     "execution_count": 4,
     "metadata": {},
     "output_type": "execute_result"
    }
   ],
   "source": [
    "Unisoton[:10]"
   ]
  },
  {
   "cell_type": "code",
   "execution_count": 5,
   "metadata": {
    "collapsed": false
   },
   "outputs": [],
   "source": [
    "Unisoton = Unisoton.set_index('time').rename(columns={'data':'Unisoton_data'})"
   ]
  },
  {
   "cell_type": "code",
   "execution_count": 6,
   "metadata": {
    "collapsed": true
   },
   "outputs": [],
   "source": [
    "Bolderwood = pd.read_csv(r'D:\\Annies_Dissertation\\Analysis\\Timeseries\\Bolderwood.csv', parse_dates=['time'])"
   ]
  },
  {
   "cell_type": "code",
   "execution_count": 7,
   "metadata": {
    "collapsed": false
   },
   "outputs": [
    {
     "data": {
      "text/html": [
       "<div>\n",
       "<table border=\"1\" class=\"dataframe\">\n",
       "  <thead>\n",
       "    <tr style=\"text-align: right;\">\n",
       "      <th></th>\n",
       "      <th>time</th>\n",
       "      <th>x</th>\n",
       "      <th>y</th>\n",
       "      <th>data</th>\n",
       "    </tr>\n",
       "  </thead>\n",
       "  <tbody>\n",
       "    <tr>\n",
       "      <th>0</th>\n",
       "      <td>2000-02-25</td>\n",
       "      <td>423248.830598</td>\n",
       "      <td>108651.072665</td>\n",
       "      <td>4.444452</td>\n",
       "    </tr>\n",
       "    <tr>\n",
       "      <th>1</th>\n",
       "      <td>2000-02-26</td>\n",
       "      <td>423248.830598</td>\n",
       "      <td>108651.072665</td>\n",
       "      <td>15.886553</td>\n",
       "    </tr>\n",
       "    <tr>\n",
       "      <th>2</th>\n",
       "      <td>2000-02-27</td>\n",
       "      <td>423248.830598</td>\n",
       "      <td>108651.072665</td>\n",
       "      <td>NaN</td>\n",
       "    </tr>\n",
       "    <tr>\n",
       "      <th>3</th>\n",
       "      <td>2000-02-28</td>\n",
       "      <td>423248.830598</td>\n",
       "      <td>108651.072665</td>\n",
       "      <td>15.319175</td>\n",
       "    </tr>\n",
       "    <tr>\n",
       "      <th>4</th>\n",
       "      <td>2000-02-29</td>\n",
       "      <td>423248.830598</td>\n",
       "      <td>108651.072665</td>\n",
       "      <td>NaN</td>\n",
       "    </tr>\n",
       "    <tr>\n",
       "      <th>5</th>\n",
       "      <td>2000-03-01</td>\n",
       "      <td>423248.830598</td>\n",
       "      <td>108651.072665</td>\n",
       "      <td>NaN</td>\n",
       "    </tr>\n",
       "    <tr>\n",
       "      <th>6</th>\n",
       "      <td>2000-03-02</td>\n",
       "      <td>423248.830598</td>\n",
       "      <td>108651.072665</td>\n",
       "      <td>NaN</td>\n",
       "    </tr>\n",
       "    <tr>\n",
       "      <th>7</th>\n",
       "      <td>2000-03-03</td>\n",
       "      <td>423248.830598</td>\n",
       "      <td>108651.072665</td>\n",
       "      <td>NaN</td>\n",
       "    </tr>\n",
       "    <tr>\n",
       "      <th>8</th>\n",
       "      <td>2000-03-04</td>\n",
       "      <td>423248.830598</td>\n",
       "      <td>108651.072665</td>\n",
       "      <td>NaN</td>\n",
       "    </tr>\n",
       "    <tr>\n",
       "      <th>9</th>\n",
       "      <td>2000-03-05</td>\n",
       "      <td>423248.830598</td>\n",
       "      <td>108651.072665</td>\n",
       "      <td>15.506694</td>\n",
       "    </tr>\n",
       "  </tbody>\n",
       "</table>\n",
       "</div>"
      ],
      "text/plain": [
       "        time              x              y       data\n",
       "0 2000-02-25  423248.830598  108651.072665   4.444452\n",
       "1 2000-02-26  423248.830598  108651.072665  15.886553\n",
       "2 2000-02-27  423248.830598  108651.072665        NaN\n",
       "3 2000-02-28  423248.830598  108651.072665  15.319175\n",
       "4 2000-02-29  423248.830598  108651.072665        NaN\n",
       "5 2000-03-01  423248.830598  108651.072665        NaN\n",
       "6 2000-03-02  423248.830598  108651.072665        NaN\n",
       "7 2000-03-03  423248.830598  108651.072665        NaN\n",
       "8 2000-03-04  423248.830598  108651.072665        NaN\n",
       "9 2000-03-05  423248.830598  108651.072665  15.506694"
      ]
     },
     "execution_count": 7,
     "metadata": {},
     "output_type": "execute_result"
    }
   ],
   "source": [
    "Bolderwood[:10]"
   ]
  },
  {
   "cell_type": "code",
   "execution_count": 8,
   "metadata": {
    "collapsed": true
   },
   "outputs": [],
   "source": [
    "Bolderwood = Bolderwood.set_index('time').rename(columns={'data':'Bolderwood_data'})"
   ]
  },
  {
   "cell_type": "code",
   "execution_count": 9,
   "metadata": {
    "collapsed": false
   },
   "outputs": [],
   "source": [
    "result = pd.merge(Unisoton, Bolderwood, left_index=True, right_index=True)"
   ]
  },
  {
   "cell_type": "code",
   "execution_count": 10,
   "metadata": {
    "collapsed": false
   },
   "outputs": [
    {
     "data": {
      "text/html": [
       "<div>\n",
       "<table border=\"1\" class=\"dataframe\">\n",
       "  <thead>\n",
       "    <tr style=\"text-align: right;\">\n",
       "      <th></th>\n",
       "      <th>x_x</th>\n",
       "      <th>y_x</th>\n",
       "      <th>Unisoton_data</th>\n",
       "      <th>x_y</th>\n",
       "      <th>y_y</th>\n",
       "      <th>Bolderwood_data</th>\n",
       "    </tr>\n",
       "    <tr>\n",
       "      <th>time</th>\n",
       "      <th></th>\n",
       "      <th></th>\n",
       "      <th></th>\n",
       "      <th></th>\n",
       "      <th></th>\n",
       "      <th></th>\n",
       "    </tr>\n",
       "  </thead>\n",
       "  <tbody>\n",
       "    <tr>\n",
       "      <th>2000-02-25</th>\n",
       "      <td>442096.976259</td>\n",
       "      <td>116190.330929</td>\n",
       "      <td>10.683363</td>\n",
       "      <td>423248.830598</td>\n",
       "      <td>108651.072665</td>\n",
       "      <td>4.444452</td>\n",
       "    </tr>\n",
       "    <tr>\n",
       "      <th>2000-02-26</th>\n",
       "      <td>442096.976259</td>\n",
       "      <td>116190.330929</td>\n",
       "      <td>NaN</td>\n",
       "      <td>423248.830598</td>\n",
       "      <td>108651.072665</td>\n",
       "      <td>15.886553</td>\n",
       "    </tr>\n",
       "    <tr>\n",
       "      <th>2000-02-27</th>\n",
       "      <td>442096.976259</td>\n",
       "      <td>116190.330929</td>\n",
       "      <td>NaN</td>\n",
       "      <td>423248.830598</td>\n",
       "      <td>108651.072665</td>\n",
       "      <td>NaN</td>\n",
       "    </tr>\n",
       "    <tr>\n",
       "      <th>2000-02-28</th>\n",
       "      <td>442096.976259</td>\n",
       "      <td>116190.330929</td>\n",
       "      <td>16.978916</td>\n",
       "      <td>423248.830598</td>\n",
       "      <td>108651.072665</td>\n",
       "      <td>15.319175</td>\n",
       "    </tr>\n",
       "    <tr>\n",
       "      <th>2000-02-29</th>\n",
       "      <td>442096.976259</td>\n",
       "      <td>116190.330929</td>\n",
       "      <td>NaN</td>\n",
       "      <td>423248.830598</td>\n",
       "      <td>108651.072665</td>\n",
       "      <td>NaN</td>\n",
       "    </tr>\n",
       "    <tr>\n",
       "      <th>2000-03-01</th>\n",
       "      <td>442096.976259</td>\n",
       "      <td>116190.330929</td>\n",
       "      <td>NaN</td>\n",
       "      <td>423248.830598</td>\n",
       "      <td>108651.072665</td>\n",
       "      <td>NaN</td>\n",
       "    </tr>\n",
       "    <tr>\n",
       "      <th>2000-03-02</th>\n",
       "      <td>442096.976259</td>\n",
       "      <td>116190.330929</td>\n",
       "      <td>NaN</td>\n",
       "      <td>423248.830598</td>\n",
       "      <td>108651.072665</td>\n",
       "      <td>NaN</td>\n",
       "    </tr>\n",
       "    <tr>\n",
       "      <th>2000-03-03</th>\n",
       "      <td>442096.976259</td>\n",
       "      <td>116190.330929</td>\n",
       "      <td>16.339218</td>\n",
       "      <td>423248.830598</td>\n",
       "      <td>108651.072665</td>\n",
       "      <td>NaN</td>\n",
       "    </tr>\n",
       "    <tr>\n",
       "      <th>2000-03-04</th>\n",
       "      <td>442096.976259</td>\n",
       "      <td>116190.330929</td>\n",
       "      <td>16.877872</td>\n",
       "      <td>423248.830598</td>\n",
       "      <td>108651.072665</td>\n",
       "      <td>NaN</td>\n",
       "    </tr>\n",
       "    <tr>\n",
       "      <th>2000-03-05</th>\n",
       "      <td>442096.976259</td>\n",
       "      <td>116190.330929</td>\n",
       "      <td>NaN</td>\n",
       "      <td>423248.830598</td>\n",
       "      <td>108651.072665</td>\n",
       "      <td>15.506694</td>\n",
       "    </tr>\n",
       "  </tbody>\n",
       "</table>\n",
       "</div>"
      ],
      "text/plain": [
       "                      x_x            y_x  Unisoton_data            x_y  \\\n",
       "time                                                                     \n",
       "2000-02-25  442096.976259  116190.330929      10.683363  423248.830598   \n",
       "2000-02-26  442096.976259  116190.330929            NaN  423248.830598   \n",
       "2000-02-27  442096.976259  116190.330929            NaN  423248.830598   \n",
       "2000-02-28  442096.976259  116190.330929      16.978916  423248.830598   \n",
       "2000-02-29  442096.976259  116190.330929            NaN  423248.830598   \n",
       "2000-03-01  442096.976259  116190.330929            NaN  423248.830598   \n",
       "2000-03-02  442096.976259  116190.330929            NaN  423248.830598   \n",
       "2000-03-03  442096.976259  116190.330929      16.339218  423248.830598   \n",
       "2000-03-04  442096.976259  116190.330929      16.877872  423248.830598   \n",
       "2000-03-05  442096.976259  116190.330929            NaN  423248.830598   \n",
       "\n",
       "                      y_y  Bolderwood_data  \n",
       "time                                        \n",
       "2000-02-25  108651.072665         4.444452  \n",
       "2000-02-26  108651.072665        15.886553  \n",
       "2000-02-27  108651.072665              NaN  \n",
       "2000-02-28  108651.072665        15.319175  \n",
       "2000-02-29  108651.072665              NaN  \n",
       "2000-03-01  108651.072665              NaN  \n",
       "2000-03-02  108651.072665              NaN  \n",
       "2000-03-03  108651.072665              NaN  \n",
       "2000-03-04  108651.072665              NaN  \n",
       "2000-03-05  108651.072665        15.506694  "
      ]
     },
     "execution_count": 10,
     "metadata": {},
     "output_type": "execute_result"
    }
   ],
   "source": [
    "result[:10]"
   ]
  },
  {
   "cell_type": "code",
   "execution_count": 11,
   "metadata": {
    "collapsed": true
   },
   "outputs": [],
   "source": [
    "Westlulworth = pd.read_csv(r'D:\\Annies_Dissertation\\Analysis\\Timeseries\\Westlulworth.csv', parse_dates=['time'])"
   ]
  },
  {
   "cell_type": "code",
   "execution_count": 12,
   "metadata": {
    "collapsed": false
   },
   "outputs": [
    {
     "data": {
      "text/html": [
       "<div>\n",
       "<table border=\"1\" class=\"dataframe\">\n",
       "  <thead>\n",
       "    <tr style=\"text-align: right;\">\n",
       "      <th></th>\n",
       "      <th>time</th>\n",
       "      <th>x</th>\n",
       "      <th>y</th>\n",
       "      <th>data</th>\n",
       "    </tr>\n",
       "  </thead>\n",
       "  <tbody>\n",
       "    <tr>\n",
       "      <th>0</th>\n",
       "      <td>2000-02-25</td>\n",
       "      <td>381782.910143</td>\n",
       "      <td>81007.125695</td>\n",
       "      <td>21.285307</td>\n",
       "    </tr>\n",
       "    <tr>\n",
       "      <th>1</th>\n",
       "      <td>2000-02-26</td>\n",
       "      <td>381782.910143</td>\n",
       "      <td>81007.125695</td>\n",
       "      <td>NaN</td>\n",
       "    </tr>\n",
       "    <tr>\n",
       "      <th>2</th>\n",
       "      <td>2000-02-27</td>\n",
       "      <td>381782.910143</td>\n",
       "      <td>81007.125695</td>\n",
       "      <td>NaN</td>\n",
       "    </tr>\n",
       "    <tr>\n",
       "      <th>3</th>\n",
       "      <td>2000-02-28</td>\n",
       "      <td>381782.910143</td>\n",
       "      <td>81007.125695</td>\n",
       "      <td>NaN</td>\n",
       "    </tr>\n",
       "    <tr>\n",
       "      <th>4</th>\n",
       "      <td>2000-02-29</td>\n",
       "      <td>381782.910143</td>\n",
       "      <td>81007.125695</td>\n",
       "      <td>NaN</td>\n",
       "    </tr>\n",
       "    <tr>\n",
       "      <th>5</th>\n",
       "      <td>2000-03-01</td>\n",
       "      <td>381782.910143</td>\n",
       "      <td>81007.125695</td>\n",
       "      <td>NaN</td>\n",
       "    </tr>\n",
       "    <tr>\n",
       "      <th>6</th>\n",
       "      <td>2000-03-02</td>\n",
       "      <td>381782.910143</td>\n",
       "      <td>81007.125695</td>\n",
       "      <td>NaN</td>\n",
       "    </tr>\n",
       "    <tr>\n",
       "      <th>7</th>\n",
       "      <td>2000-03-03</td>\n",
       "      <td>381782.910143</td>\n",
       "      <td>81007.125695</td>\n",
       "      <td>NaN</td>\n",
       "    </tr>\n",
       "    <tr>\n",
       "      <th>8</th>\n",
       "      <td>2000-03-04</td>\n",
       "      <td>381782.910143</td>\n",
       "      <td>81007.125695</td>\n",
       "      <td>23.822201</td>\n",
       "    </tr>\n",
       "    <tr>\n",
       "      <th>9</th>\n",
       "      <td>2000-03-05</td>\n",
       "      <td>381782.910143</td>\n",
       "      <td>81007.125695</td>\n",
       "      <td>NaN</td>\n",
       "    </tr>\n",
       "  </tbody>\n",
       "</table>\n",
       "</div>"
      ],
      "text/plain": [
       "        time              x             y       data\n",
       "0 2000-02-25  381782.910143  81007.125695  21.285307\n",
       "1 2000-02-26  381782.910143  81007.125695        NaN\n",
       "2 2000-02-27  381782.910143  81007.125695        NaN\n",
       "3 2000-02-28  381782.910143  81007.125695        NaN\n",
       "4 2000-02-29  381782.910143  81007.125695        NaN\n",
       "5 2000-03-01  381782.910143  81007.125695        NaN\n",
       "6 2000-03-02  381782.910143  81007.125695        NaN\n",
       "7 2000-03-03  381782.910143  81007.125695        NaN\n",
       "8 2000-03-04  381782.910143  81007.125695  23.822201\n",
       "9 2000-03-05  381782.910143  81007.125695        NaN"
      ]
     },
     "execution_count": 12,
     "metadata": {},
     "output_type": "execute_result"
    }
   ],
   "source": [
    "Westlulworth[:10]"
   ]
  },
  {
   "cell_type": "code",
   "execution_count": 13,
   "metadata": {
    "collapsed": true
   },
   "outputs": [],
   "source": [
    "Westlulworth = Westlulworth.set_index('time').rename(columns={'data':'Westlulworth_data'})"
   ]
  },
  {
   "cell_type": "code",
   "execution_count": 14,
   "metadata": {
    "collapsed": true
   },
   "outputs": [],
   "source": [
    "result_3 = pd.merge(result, Westlulworth, left_index=True, right_index=True)"
   ]
  },
  {
   "cell_type": "code",
   "execution_count": 15,
   "metadata": {
    "collapsed": false
   },
   "outputs": [
    {
     "data": {
      "text/html": [
       "<div>\n",
       "<table border=\"1\" class=\"dataframe\">\n",
       "  <thead>\n",
       "    <tr style=\"text-align: right;\">\n",
       "      <th></th>\n",
       "      <th>x_x</th>\n",
       "      <th>y_x</th>\n",
       "      <th>Unisoton_data</th>\n",
       "      <th>x_y</th>\n",
       "      <th>y_y</th>\n",
       "      <th>Bolderwood_data</th>\n",
       "      <th>x</th>\n",
       "      <th>y</th>\n",
       "      <th>Westlulworth_data</th>\n",
       "    </tr>\n",
       "    <tr>\n",
       "      <th>time</th>\n",
       "      <th></th>\n",
       "      <th></th>\n",
       "      <th></th>\n",
       "      <th></th>\n",
       "      <th></th>\n",
       "      <th></th>\n",
       "      <th></th>\n",
       "      <th></th>\n",
       "      <th></th>\n",
       "    </tr>\n",
       "  </thead>\n",
       "  <tbody>\n",
       "    <tr>\n",
       "      <th>2000-02-25</th>\n",
       "      <td>442096.976259</td>\n",
       "      <td>116190.330929</td>\n",
       "      <td>10.683363</td>\n",
       "      <td>423248.830598</td>\n",
       "      <td>108651.072665</td>\n",
       "      <td>4.444452</td>\n",
       "      <td>381782.910143</td>\n",
       "      <td>81007.125695</td>\n",
       "      <td>21.285307</td>\n",
       "    </tr>\n",
       "    <tr>\n",
       "      <th>2000-02-26</th>\n",
       "      <td>442096.976259</td>\n",
       "      <td>116190.330929</td>\n",
       "      <td>NaN</td>\n",
       "      <td>423248.830598</td>\n",
       "      <td>108651.072665</td>\n",
       "      <td>15.886553</td>\n",
       "      <td>381782.910143</td>\n",
       "      <td>81007.125695</td>\n",
       "      <td>NaN</td>\n",
       "    </tr>\n",
       "    <tr>\n",
       "      <th>2000-02-27</th>\n",
       "      <td>442096.976259</td>\n",
       "      <td>116190.330929</td>\n",
       "      <td>NaN</td>\n",
       "      <td>423248.830598</td>\n",
       "      <td>108651.072665</td>\n",
       "      <td>NaN</td>\n",
       "      <td>381782.910143</td>\n",
       "      <td>81007.125695</td>\n",
       "      <td>NaN</td>\n",
       "    </tr>\n",
       "    <tr>\n",
       "      <th>2000-02-28</th>\n",
       "      <td>442096.976259</td>\n",
       "      <td>116190.330929</td>\n",
       "      <td>16.978916</td>\n",
       "      <td>423248.830598</td>\n",
       "      <td>108651.072665</td>\n",
       "      <td>15.319175</td>\n",
       "      <td>381782.910143</td>\n",
       "      <td>81007.125695</td>\n",
       "      <td>NaN</td>\n",
       "    </tr>\n",
       "    <tr>\n",
       "      <th>2000-02-29</th>\n",
       "      <td>442096.976259</td>\n",
       "      <td>116190.330929</td>\n",
       "      <td>NaN</td>\n",
       "      <td>423248.830598</td>\n",
       "      <td>108651.072665</td>\n",
       "      <td>NaN</td>\n",
       "      <td>381782.910143</td>\n",
       "      <td>81007.125695</td>\n",
       "      <td>NaN</td>\n",
       "    </tr>\n",
       "    <tr>\n",
       "      <th>2000-03-01</th>\n",
       "      <td>442096.976259</td>\n",
       "      <td>116190.330929</td>\n",
       "      <td>NaN</td>\n",
       "      <td>423248.830598</td>\n",
       "      <td>108651.072665</td>\n",
       "      <td>NaN</td>\n",
       "      <td>381782.910143</td>\n",
       "      <td>81007.125695</td>\n",
       "      <td>NaN</td>\n",
       "    </tr>\n",
       "    <tr>\n",
       "      <th>2000-03-02</th>\n",
       "      <td>442096.976259</td>\n",
       "      <td>116190.330929</td>\n",
       "      <td>NaN</td>\n",
       "      <td>423248.830598</td>\n",
       "      <td>108651.072665</td>\n",
       "      <td>NaN</td>\n",
       "      <td>381782.910143</td>\n",
       "      <td>81007.125695</td>\n",
       "      <td>NaN</td>\n",
       "    </tr>\n",
       "    <tr>\n",
       "      <th>2000-03-03</th>\n",
       "      <td>442096.976259</td>\n",
       "      <td>116190.330929</td>\n",
       "      <td>16.339218</td>\n",
       "      <td>423248.830598</td>\n",
       "      <td>108651.072665</td>\n",
       "      <td>NaN</td>\n",
       "      <td>381782.910143</td>\n",
       "      <td>81007.125695</td>\n",
       "      <td>NaN</td>\n",
       "    </tr>\n",
       "    <tr>\n",
       "      <th>2000-03-04</th>\n",
       "      <td>442096.976259</td>\n",
       "      <td>116190.330929</td>\n",
       "      <td>16.877872</td>\n",
       "      <td>423248.830598</td>\n",
       "      <td>108651.072665</td>\n",
       "      <td>NaN</td>\n",
       "      <td>381782.910143</td>\n",
       "      <td>81007.125695</td>\n",
       "      <td>23.822201</td>\n",
       "    </tr>\n",
       "    <tr>\n",
       "      <th>2000-03-05</th>\n",
       "      <td>442096.976259</td>\n",
       "      <td>116190.330929</td>\n",
       "      <td>NaN</td>\n",
       "      <td>423248.830598</td>\n",
       "      <td>108651.072665</td>\n",
       "      <td>15.506694</td>\n",
       "      <td>381782.910143</td>\n",
       "      <td>81007.125695</td>\n",
       "      <td>NaN</td>\n",
       "    </tr>\n",
       "  </tbody>\n",
       "</table>\n",
       "</div>"
      ],
      "text/plain": [
       "                      x_x            y_x  Unisoton_data            x_y  \\\n",
       "time                                                                     \n",
       "2000-02-25  442096.976259  116190.330929      10.683363  423248.830598   \n",
       "2000-02-26  442096.976259  116190.330929            NaN  423248.830598   \n",
       "2000-02-27  442096.976259  116190.330929            NaN  423248.830598   \n",
       "2000-02-28  442096.976259  116190.330929      16.978916  423248.830598   \n",
       "2000-02-29  442096.976259  116190.330929            NaN  423248.830598   \n",
       "2000-03-01  442096.976259  116190.330929            NaN  423248.830598   \n",
       "2000-03-02  442096.976259  116190.330929            NaN  423248.830598   \n",
       "2000-03-03  442096.976259  116190.330929      16.339218  423248.830598   \n",
       "2000-03-04  442096.976259  116190.330929      16.877872  423248.830598   \n",
       "2000-03-05  442096.976259  116190.330929            NaN  423248.830598   \n",
       "\n",
       "                      y_y  Bolderwood_data              x             y  \\\n",
       "time                                                                      \n",
       "2000-02-25  108651.072665         4.444452  381782.910143  81007.125695   \n",
       "2000-02-26  108651.072665        15.886553  381782.910143  81007.125695   \n",
       "2000-02-27  108651.072665              NaN  381782.910143  81007.125695   \n",
       "2000-02-28  108651.072665        15.319175  381782.910143  81007.125695   \n",
       "2000-02-29  108651.072665              NaN  381782.910143  81007.125695   \n",
       "2000-03-01  108651.072665              NaN  381782.910143  81007.125695   \n",
       "2000-03-02  108651.072665              NaN  381782.910143  81007.125695   \n",
       "2000-03-03  108651.072665              NaN  381782.910143  81007.125695   \n",
       "2000-03-04  108651.072665              NaN  381782.910143  81007.125695   \n",
       "2000-03-05  108651.072665        15.506694  381782.910143  81007.125695   \n",
       "\n",
       "            Westlulworth_data  \n",
       "time                           \n",
       "2000-02-25          21.285307  \n",
       "2000-02-26                NaN  \n",
       "2000-02-27                NaN  \n",
       "2000-02-28                NaN  \n",
       "2000-02-29                NaN  \n",
       "2000-03-01                NaN  \n",
       "2000-03-02                NaN  \n",
       "2000-03-03                NaN  \n",
       "2000-03-04          23.822201  \n",
       "2000-03-05                NaN  "
      ]
     },
     "execution_count": 15,
     "metadata": {},
     "output_type": "execute_result"
    }
   ],
   "source": [
    "result_3[:10]"
   ]
  },
  {
   "cell_type": "code",
   "execution_count": 16,
   "metadata": {
    "collapsed": false
   },
   "outputs": [],
   "source": [
    "result_3 = result_3[['Unisoton_data', 'Bolderwood_data', 'Westlulworth_data']]"
   ]
  },
  {
   "cell_type": "code",
   "execution_count": null,
   "metadata": {
    "collapsed": false
   },
   "outputs": [],
   "source": [
    "result_3.dropna().to_csv(r'D:\\Annies_Dissertation\\Analysis\\Timeseries\\Timeseries.csv')"
   ]
  },
  {
   "cell_type": "code",
   "execution_count": 21,
   "metadata": {
    "collapsed": false
   },
   "outputs": [
    {
     "data": {
      "text/html": [
       "<div>\n",
       "<table border=\"1\" class=\"dataframe\">\n",
       "  <thead>\n",
       "    <tr style=\"text-align: right;\">\n",
       "      <th></th>\n",
       "      <th>Unisoton_data</th>\n",
       "      <th>Bolderwood_data</th>\n",
       "      <th>Westlulworth_data</th>\n",
       "    </tr>\n",
       "    <tr>\n",
       "      <th>time</th>\n",
       "      <th></th>\n",
       "      <th></th>\n",
       "      <th></th>\n",
       "    </tr>\n",
       "  </thead>\n",
       "  <tbody>\n",
       "    <tr>\n",
       "      <th>2000-02-25</th>\n",
       "      <td>10.683363</td>\n",
       "      <td>4.444452</td>\n",
       "      <td>21.285307</td>\n",
       "    </tr>\n",
       "    <tr>\n",
       "      <th>2000-02-26</th>\n",
       "      <td>NaN</td>\n",
       "      <td>15.886553</td>\n",
       "      <td>NaN</td>\n",
       "    </tr>\n",
       "    <tr>\n",
       "      <th>2000-02-27</th>\n",
       "      <td>NaN</td>\n",
       "      <td>NaN</td>\n",
       "      <td>NaN</td>\n",
       "    </tr>\n",
       "    <tr>\n",
       "      <th>2000-02-28</th>\n",
       "      <td>16.978916</td>\n",
       "      <td>15.319175</td>\n",
       "      <td>NaN</td>\n",
       "    </tr>\n",
       "    <tr>\n",
       "      <th>2000-02-29</th>\n",
       "      <td>NaN</td>\n",
       "      <td>NaN</td>\n",
       "      <td>NaN</td>\n",
       "    </tr>\n",
       "    <tr>\n",
       "      <th>2000-03-01</th>\n",
       "      <td>NaN</td>\n",
       "      <td>NaN</td>\n",
       "      <td>NaN</td>\n",
       "    </tr>\n",
       "    <tr>\n",
       "      <th>2000-03-02</th>\n",
       "      <td>NaN</td>\n",
       "      <td>NaN</td>\n",
       "      <td>NaN</td>\n",
       "    </tr>\n",
       "    <tr>\n",
       "      <th>2000-03-03</th>\n",
       "      <td>16.339218</td>\n",
       "      <td>NaN</td>\n",
       "      <td>NaN</td>\n",
       "    </tr>\n",
       "    <tr>\n",
       "      <th>2000-03-04</th>\n",
       "      <td>16.877872</td>\n",
       "      <td>NaN</td>\n",
       "      <td>23.822201</td>\n",
       "    </tr>\n",
       "    <tr>\n",
       "      <th>2000-03-05</th>\n",
       "      <td>NaN</td>\n",
       "      <td>15.506694</td>\n",
       "      <td>NaN</td>\n",
       "    </tr>\n",
       "  </tbody>\n",
       "</table>\n",
       "</div>"
      ],
      "text/plain": [
       "            Unisoton_data  Bolderwood_data  Westlulworth_data\n",
       "time                                                         \n",
       "2000-02-25      10.683363         4.444452          21.285307\n",
       "2000-02-26            NaN        15.886553                NaN\n",
       "2000-02-27            NaN              NaN                NaN\n",
       "2000-02-28      16.978916        15.319175                NaN\n",
       "2000-02-29            NaN              NaN                NaN\n",
       "2000-03-01            NaN              NaN                NaN\n",
       "2000-03-02            NaN              NaN                NaN\n",
       "2000-03-03      16.339218              NaN                NaN\n",
       "2000-03-04      16.877872              NaN          23.822201\n",
       "2000-03-05            NaN        15.506694                NaN"
      ]
     },
     "execution_count": 21,
     "metadata": {},
     "output_type": "execute_result"
    }
   ],
   "source": [
    "result_3[:10]"
   ]
  },
  {
   "cell_type": "code",
   "execution_count": 22,
   "metadata": {
    "collapsed": false
   },
   "outputs": [
    {
     "name": "stderr",
     "output_type": "stream",
     "text": [
      "D:\\Anaconda3\\lib\\site-packages\\numpy\\lib\\function_base.py:3823: RuntimeWarning: Invalid value encountered in percentile\n",
      "  RuntimeWarning)\n"
     ]
    },
    {
     "data": {
      "text/plain": [
       "count    1263.000000\n",
       "mean       13.716494\n",
       "std         9.897066\n",
       "min         0.000000\n",
       "25%              NaN\n",
       "50%              NaN\n",
       "75%              NaN\n",
       "max        76.848190\n",
       "Name: Unisoton_data, dtype: float64"
      ]
     },
     "execution_count": 22,
     "metadata": {},
     "output_type": "execute_result"
    }
   ],
   "source": [
    "result_3.Unisoton_data.describe()"
   ]
  },
  {
   "cell_type": "code",
   "execution_count": 23,
   "metadata": {
    "collapsed": false
   },
   "outputs": [
    {
     "name": "stderr",
     "output_type": "stream",
     "text": [
      "D:\\Anaconda3\\lib\\site-packages\\numpy\\lib\\function_base.py:3823: RuntimeWarning: Invalid value encountered in percentile\n",
      "  RuntimeWarning)\n"
     ]
    },
    {
     "data": {
      "text/plain": [
       "count    1174.000000\n",
       "mean       10.883351\n",
       "std         9.309018\n",
       "min         0.000000\n",
       "25%              NaN\n",
       "50%              NaN\n",
       "75%              NaN\n",
       "max        62.078014\n",
       "Name: Bolderwood_data, dtype: float64"
      ]
     },
     "execution_count": 23,
     "metadata": {},
     "output_type": "execute_result"
    }
   ],
   "source": [
    "result_3.Bolderwood_data.describe()"
   ]
  },
  {
   "cell_type": "code",
   "execution_count": 24,
   "metadata": {
    "collapsed": false
   },
   "outputs": [
    {
     "name": "stderr",
     "output_type": "stream",
     "text": [
      "D:\\Anaconda3\\lib\\site-packages\\numpy\\lib\\function_base.py:3823: RuntimeWarning: Invalid value encountered in percentile\n",
      "  RuntimeWarning)\n"
     ]
    },
    {
     "data": {
      "text/plain": [
       "count    1293.000000\n",
       "mean       16.029405\n",
       "std        10.457219\n",
       "min         0.000000\n",
       "25%              NaN\n",
       "50%              NaN\n",
       "75%              NaN\n",
       "max        95.888641\n",
       "Name: Westlulworth_data, dtype: float64"
      ]
     },
     "execution_count": 24,
     "metadata": {},
     "output_type": "execute_result"
    }
   ],
   "source": [
    "result_3.Westlulworth_data.describe()"
   ]
  },
  {
   "cell_type": "markdown",
   "metadata": {},
   "source": [
    "# Analysis\n",
    "## overall average of every pixel"
   ]
  },
  {
   "cell_type": "markdown",
   "metadata": {},
   "source": [
    "The next four cells were added by Robin for profiling - ignore them for the moment :P"
   ]
  },
  {
   "cell_type": "code",
   "execution_count": null,
   "metadata": {
    "collapsed": false
   },
   "outputs": [],
   "source": [
    "om = PM25.mean(dim='time', keep_attrs=True)"
   ]
  },
  {
   "cell_type": "code",
   "execution_count": null,
   "metadata": {
    "collapsed": true
   },
   "outputs": [],
   "source": [
    "from dask.diagnostics import Profiler, ResourceProfiler, CacheProfiler"
   ]
  },
  {
   "cell_type": "code",
   "execution_count": null,
   "metadata": {
    "collapsed": false
   },
   "outputs": [],
   "source": [
    "with Profiler() as prof, ResourceProfiler(dt=0.25) as rprof:\n",
    "    om.load()"
   ]
  },
  {
   "cell_type": "code",
   "execution_count": null,
   "metadata": {
    "collapsed": false
   },
   "outputs": [],
   "source": [
    "from dask.diagnostics import visualize\n",
    "visualize([prof, rprof], show=True)"
   ]
  },
  {
   "cell_type": "code",
   "execution_count": null,
   "metadata": {
    "collapsed": false
   },
   "outputs": [],
   "source": [
    "overall_mean = PM25.mean(dim='time', keep_attrs=True)"
   ]
  },
  {
   "cell_type": "code",
   "execution_count": null,
   "metadata": {
    "collapsed": false
   },
   "outputs": [],
   "source": [
    "overall_mean.attrs"
   ]
  },
  {
   "cell_type": "code",
   "execution_count": null,
   "metadata": {
    "collapsed": true
   },
   "outputs": [],
   "source": []
  },
  {
   "cell_type": "code",
   "execution_count": null,
   "metadata": {
    "collapsed": false
   },
   "outputs": [],
   "source": [
    "with ProgressBar():\n",
    "    res = overall_mean.load()"
   ]
  },
  {
   "cell_type": "code",
   "execution_count": null,
   "metadata": {
    "collapsed": false
   },
   "outputs": [],
   "source": [
    "xarray_to_rasterio(overall_mean, r'D:\\Annies_Dissertation\\Analysis\\overall_mean.tif')"
   ]
  },
  {
   "cell_type": "markdown",
   "metadata": {},
   "source": [
    "## Averages\n",
    "### Monthly"
   ]
  },
  {
   "cell_type": "code",
   "execution_count": null,
   "metadata": {
    "collapsed": true
   },
   "outputs": [],
   "source": [
    "monthly_mean = PM25.groupby('time.month').mean(dim='time', keep_attrs=True)"
   ]
  },
  {
   "cell_type": "code",
   "execution_count": null,
   "metadata": {
    "collapsed": false
   },
   "outputs": [],
   "source": [
    "monthly_mean.coords"
   ]
  },
  {
   "cell_type": "code",
   "execution_count": null,
   "metadata": {
    "collapsed": false
   },
   "outputs": [],
   "source": [
    "monthly_mean.attrs"
   ]
  },
  {
   "cell_type": "code",
   "execution_count": null,
   "metadata": {
    "collapsed": false
   },
   "outputs": [],
   "source": [
    "figure(figsize=(20, 12))\n",
    "monthly_mean.plot(col='month', robust=True)"
   ]
  },
  {
   "cell_type": "code",
   "execution_count": null,
   "metadata": {
    "collapsed": false
   },
   "outputs": [],
   "source": [
    "xarray_to_rasterio_by_band(monthly_mean, r'D:\\Annies_Dissertation\\Analysis\\monthly\\monthly_mean_', dim='month')"
   ]
  },
  {
   "cell_type": "markdown",
   "metadata": {},
   "source": [
    "### Seasonal"
   ]
  },
  {
   "cell_type": "code",
   "execution_count": null,
   "metadata": {
    "collapsed": false
   },
   "outputs": [],
   "source": [
    "seasonal_mean = PM25.groupby('time.season').mean(dim='time', keep_attrs=True)"
   ]
  },
  {
   "cell_type": "code",
   "execution_count": null,
   "metadata": {
    "collapsed": false
   },
   "outputs": [],
   "source": [
    "seasonal_mean.coords"
   ]
  },
  {
   "cell_type": "code",
   "execution_count": null,
   "metadata": {
    "collapsed": false
   },
   "outputs": [],
   "source": [
    "figure(figsize=(20, 12))\n",
    "seasonal_mean.plot(col='season', robust=True)"
   ]
  },
  {
   "cell_type": "code",
   "execution_count": null,
   "metadata": {
    "collapsed": false
   },
   "outputs": [],
   "source": [
    "xarray_to_rasterio_by_band(seasonal_mean, r'D:\\Annies_Dissertation\\Analysis\\seasonal\\seasonal_mean_', dim='season')"
   ]
  },
  {
   "cell_type": "markdown",
   "metadata": {},
   "source": [
    "### Yearly"
   ]
  },
  {
   "cell_type": "code",
   "execution_count": null,
   "metadata": {
    "collapsed": false
   },
   "outputs": [],
   "source": [
    "yearly_mean = PM25.groupby('time.year').mean(dim='time', keep_attrs=True)"
   ]
  },
  {
   "cell_type": "code",
   "execution_count": null,
   "metadata": {
    "collapsed": false
   },
   "outputs": [],
   "source": [
    "yearly_mean.coords"
   ]
  },
  {
   "cell_type": "code",
   "execution_count": null,
   "metadata": {
    "collapsed": false
   },
   "outputs": [],
   "source": [
    "figure(figsize=(20, 12))\n",
    "yearly_mean.plot(col='year', robust=True)"
   ]
  },
  {
   "cell_type": "code",
   "execution_count": null,
   "metadata": {
    "collapsed": false
   },
   "outputs": [],
   "source": [
    "xarray_to_rasterio_by_band(yearly_mean, r'D:\\Annies_Dissertation\\Analysis\\yearly\\yearly_mean_', dim='year')"
   ]
  },
  {
   "cell_type": "markdown",
   "metadata": {},
   "source": [
    "## Standard deviation of AP for each pixel over time- not currently what i want to do!"
   ]
  },
  {
   "cell_type": "code",
   "execution_count": null,
   "metadata": {
    "collapsed": false
   },
   "outputs": [],
   "source": [
    "std = PM25.groupby('time.year').std(dim = 'time', keep_attrs=True)"
   ]
  },
  {
   "cell_type": "code",
   "execution_count": null,
   "metadata": {
    "collapsed": true
   },
   "outputs": [],
   "source": [
    "std = PM25.std(dim = 'time', keep_attrs=True)"
   ]
  },
  {
   "cell_type": "code",
   "execution_count": null,
   "metadata": {
    "collapsed": false
   },
   "outputs": [],
   "source": [
    "std.coords"
   ]
  },
  {
   "cell_type": "code",
   "execution_count": null,
   "metadata": {
    "collapsed": false
   },
   "outputs": [],
   "source": [
    "figure(figsize=(20, 12))\n",
    "std.plot(col='year', robust=True)"
   ]
  },
  {
   "cell_type": "code",
   "execution_count": null,
   "metadata": {
    "collapsed": false
   },
   "outputs": [],
   "source": [
    "xarray_to_rasterio(std, r'D:\\Annies_Dissertation\\Analysis\\overall_std.tif')"
   ]
  },
  {
   "cell_type": "markdown",
   "metadata": {},
   "source": [
    "# Count of values that aren't missing"
   ]
  },
  {
   "cell_type": "code",
   "execution_count": null,
   "metadata": {
    "collapsed": false
   },
   "outputs": [],
   "source": [
    "observations = PM25.count(dim='time', keep_attrs=True)"
   ]
  },
  {
   "cell_type": "code",
   "execution_count": null,
   "metadata": {
    "collapsed": false
   },
   "outputs": [],
   "source": [
    "xarray_to_rasterio(observations, r'D:\\Annies_Dissertation\\Analysis\\observations_count.tif')"
   ]
  },
  {
   "cell_type": "code",
   "execution_count": null,
   "metadata": {
    "collapsed": false
   },
   "outputs": [],
   "source": [
    "count_histo = observations.plot.hist()\n",
    "savefig(r'D:\\Annies_Dissertation\\Analysis\\count_histogram.jpeg')"
   ]
  },
  {
   "cell_type": "code",
   "execution_count": null,
   "metadata": {
    "collapsed": false
   },
   "outputs": [],
   "source": [
    "figure(figsize=(20, 12))\n",
    "observations.plot(robust=True)"
   ]
  },
  {
   "cell_type": "markdown",
   "metadata": {},
   "source": [
    "## Buncefield fire"
   ]
  },
  {
   "cell_type": "code",
   "execution_count": null,
   "metadata": {
    "collapsed": false
   },
   "outputs": [],
   "source": [
    "PM25 = PM25.isel(time=np.argsort(PM25.time))"
   ]
  },
  {
   "cell_type": "code",
   "execution_count": 8,
   "metadata": {
    "collapsed": false
   },
   "outputs": [],
   "source": [
    "B_fire = PM25.sel(time='2005-12-15')"
   ]
  },
  {
   "cell_type": "code",
   "execution_count": 9,
   "metadata": {
    "collapsed": false
   },
   "outputs": [
    {
     "data": {
      "text/plain": [
       "<xarray.DataArray 'data' (time: 1, y: 1162, x: 1240)>\n",
       "dask.array<getitem..., shape=(1, 1162, 1240), dtype=float32, chunksize=(1, 1162, 1240)>\n",
       "Coordinates:\n",
       "  * x        (x) float64 -9.476e+05 -9.464e+05 -9.451e+05 -9.439e+05 ...\n",
       "  * y        (y) float64 1.429e+06 1.428e+06 1.427e+06 1.426e+06 1.424e+06 ...\n",
       "  * time     (time) datetime64[ns] 2005-12-15\n",
       "Attributes:\n",
       "    affine: [ -9.47639631e+05   1.25654304e+03   0.00000000e+00   1.42927781e+06\n",
       "   0.00000000e+00  -1.25654304e+03]\n",
       "    crs: +init=epsg:27700"
      ]
     },
     "execution_count": 9,
     "metadata": {},
     "output_type": "execute_result"
    }
   ],
   "source": [
    "B_fire"
   ]
  },
  {
   "cell_type": "code",
   "execution_count": 10,
   "metadata": {
    "collapsed": false
   },
   "outputs": [
    {
     "name": "stdout",
     "output_type": "stream",
     "text": [
      "Wall time: 140 ms\n"
     ]
    }
   ],
   "source": [
    "%time xarray_to_rasterio(B_fire, r'D:\\Annies_Dissertation\\Analysis\\Specific_events\\Buncefield\\B_fire\\15122005.tif')"
   ]
  },
  {
   "cell_type": "markdown",
   "metadata": {},
   "source": [
    "## Doesn't work"
   ]
  },
  {
   "cell_type": "code",
   "execution_count": null,
   "metadata": {
    "collapsed": false
   },
   "outputs": [],
   "source": [
    "B_fire = PM25.sel(time=slice('2005-12-10', '2005-12-12'))"
   ]
  },
  {
   "cell_type": "code",
   "execution_count": null,
   "metadata": {
    "collapsed": false
   },
   "outputs": [],
   "source": [
    "xarray_to_rasterio_by_band(B_fire, r'D:\\Annies_Dissertation\\Analysis\\Specific_events\\Buncefield\\B_fire\\B_fire_', dim='time')"
   ]
  }
 ],
 "metadata": {
  "kernelspec": {
   "display_name": "Python 3",
   "language": "python",
   "name": "python3"
  },
  "language_info": {
   "codemirror_mode": {
    "name": "ipython",
    "version": 3
   },
   "file_extension": ".py",
   "mimetype": "text/x-python",
   "name": "python",
   "nbconvert_exporter": "python",
   "pygments_lexer": "ipython3",
   "version": "3.5.1"
  }
 },
 "nbformat": 4,
 "nbformat_minor": 0
}
