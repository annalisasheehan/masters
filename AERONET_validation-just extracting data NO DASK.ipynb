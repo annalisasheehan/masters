{
 "cells": [
  {
   "cell_type": "markdown",
   "metadata": {},
   "source": [
    "# Get some data in"
   ]
  },
  {
   "cell_type": "markdown",
   "metadata": {},
   "source": [
    "## Set libraries"
   ]
  },
  {
   "cell_type": "code",
   "execution_count": 28,
   "metadata": {
    "collapsed": true
   },
   "outputs": [],
   "source": [
    "import numpy as np\n",
    "import xarray as xr\n",
    "import rasterio\n",
    "%matplotlib inline\n",
    "from matplotlib.pyplot import *\n",
    "from glob import glob\n",
    "import os\n",
    "import datetime\n",
    "import pandas as pd\n",
    "from rasterio_to_xarray import rasterio_to_xarray, xarray_to_rasterio"
   ]
  },
  {
   "cell_type": "markdown",
   "metadata": {},
   "source": [
    "## Function to read in the MAIAC files into a data array"
   ]
  },
  {
   "cell_type": "code",
   "execution_count": 29,
   "metadata": {
    "collapsed": true
   },
   "outputs": [],
   "source": [
    "def maiac_file_to_da(filename):\n",
    "    da = rasterio_to_xarray(filename)\n",
    "    \n",
    "    time_str = os.path.basename(filename)[17:-13]\n",
    "    time_obj = datetime.datetime.strptime(time_str, '%Y%j%H%M')\n",
    "    da.coords['time'] = time_obj\n",
    "    \n",
    "    return da"
   ]
  },
  {
   "cell_type": "code",
   "execution_count": 30,
   "metadata": {
    "collapsed": true
   },
   "outputs": [],
   "source": [
    "files = glob(r'D:\\MAIAC_Data\\Europe\\h00v01\\Projected\\2011\\*_proj.tif')"
   ]
  },
  {
   "cell_type": "markdown",
   "metadata": {},
   "source": [
    "## Map runs function on every element of a list... creating a list of 2D arrays (the date)"
   ]
  },
  {
   "cell_type": "code",
   "execution_count": 31,
   "metadata": {
    "collapsed": true
   },
   "outputs": [],
   "source": [
    "list_of_das = map(maiac_file_to_da, files)"
   ]
  },
  {
   "cell_type": "markdown",
   "metadata": {},
   "source": [
    "## Make the dataset 3D over the dimension time"
   ]
  },
  {
   "cell_type": "code",
   "execution_count": 32,
   "metadata": {
    "collapsed": false
   },
   "outputs": [],
   "source": [
    "MAIAC_AOT = xr.concat(list_of_das, 'time')"
   ]
  },
  {
   "cell_type": "markdown",
   "metadata": {},
   "source": [
    "## Reorder time- because the A and T mess the time variable up and resampling wont work otherwise"
   ]
  },
  {
   "cell_type": "code",
   "execution_count": 33,
   "metadata": {
    "collapsed": true
   },
   "outputs": [],
   "source": [
    "reordered_MAIAC_AOT = MAIAC_AOT.isel(time=np.argsort(MAIAC_AOT.time))"
   ]
  },
  {
   "cell_type": "markdown",
   "metadata": {},
   "source": [
    "# Get AOT values for all of the years for Chilbolton pixel from MAIAC data"
   ]
  },
  {
   "cell_type": "code",
   "execution_count": 34,
   "metadata": {
    "collapsed": false
   },
   "outputs": [],
   "source": [
    "Measurements = reordered_MAIAC_AOT.isel(x=1103, y=1027).dropna('time').to_dataframe(name='MAIAC_AOT')"
   ]
  },
  {
   "cell_type": "code",
   "execution_count": 35,
   "metadata": {
    "collapsed": false
   },
   "outputs": [],
   "source": [
    "Measurements.to_csv(r'D:\\Annies_Dissertation\\Methodology\\Validation\\AERONET\\Test\\2011.csv')"
   ]
  },
  {
   "cell_type": "markdown",
   "metadata": {},
   "source": [
    "- loop through all of the years data and save as csv of the AOT measurements (or appending if better)"
   ]
  },
  {
   "cell_type": "markdown",
   "metadata": {
    "collapsed": true
   },
   "source": [
    "# Put all in loop so it goes through each folder and produces the csv file"
   ]
  },
  {
   "cell_type": "code",
   "execution_count": null,
   "metadata": {
    "collapsed": true
   },
   "outputs": [],
   "source": [
    "folders = glob.glob(r'D:\\MAIAC_Data\\Europe\\h00v01\\Projected\\20*')\n",
    "\n",
    "for folder in folders:\n",
    "    files = glob.glob(r'{fname}\\*_proj.tif'.format(fname=folder))\n",
    "    list_of_das = map(maiac_file_to_da, files)\n",
    "    MAIAC_AOT = xr.concat(list_of_das, 'time')\n",
    "    MAIAC_AOT.attrs.clear()\n",
    "    reordered_MAIAC_AOT = MAIAC_AOT.isel(time=np.argsort(MAIAC_AOT.time))\n",
    "    Measurements = reordered_MAIAC_AOT.isel(x=1103, y=1027).dropna('time').to_dataframe(name='MAIAC_AOT')\n",
    "    Measurements.to_csv(r'D:\\Annies_Dissertation\\Methodology\\Validation\\AERONET\\Test\\Alldata.csv', mode='a', header=False)\n",
    "    print('Processed {fname}'.format(fname=folder))"
   ]
  },
  {
   "cell_type": "code",
   "execution_count": null,
   "metadata": {
    "collapsed": true
   },
   "outputs": [],
   "source": []
  },
  {
   "cell_type": "code",
   "execution_count": null,
   "metadata": {
    "collapsed": true
   },
   "outputs": [],
   "source": []
  },
  {
   "cell_type": "code",
   "execution_count": null,
   "metadata": {
    "collapsed": true
   },
   "outputs": [],
   "source": []
  },
  {
   "cell_type": "code",
   "execution_count": null,
   "metadata": {
    "collapsed": true
   },
   "outputs": [],
   "source": []
  },
  {
   "cell_type": "markdown",
   "metadata": {},
   "source": [
    "# Read in AERONET data file into pandas DataFrame"
   ]
  },
  {
   "cell_type": "markdown",
   "metadata": {
    "collapsed": true
   },
   "source": [
    "import pandas as pd"
   ]
  },
  {
   "cell_type": "markdown",
   "metadata": {
    "collapsed": true
   },
   "source": [
    "def read_aeronet(filename):\n",
    "    \"\"\"Read a given AERONET AOT data file, and return it as a dataframe.\n",
    "    \n",
    "    This returns a DataFrame containing the AERONET data, with the index\n",
    "    set to the timestamp of the AERONET observations. Rows or columns\n",
    "    consisting entirely of missing data are removed. All other columns\n",
    "    are left as-is.\n",
    "    \"\"\"\n",
    "    dateparse = lambda x: pd.datetime.strptime(x, \"%d:%m:%Y %H:%M:%S\")\n",
    "    aeronet = pd.read_csv(filename, skiprows=4, na_values=['N/A'],\n",
    "                          parse_dates={'times':[0,1]},\n",
    "                          date_parser=dateparse)\n",
    "\n",
    "    aeronet = aeronet.set_index('times')\n",
    "    del aeronet['Julian_Day']\n",
    "    \n",
    "    # Drop any rows that are all NaN and any cols that are all NaN\n",
    "    # & then sort by the index\n",
    "    an = (aeronet.dropna(axis=1, how='all')\n",
    "                .dropna(axis=0, how='all')\n",
    "                .rename(columns={'Last_Processing_Date(dd/mm/yyyy)': 'Last_Processing_Date'})\n",
    "                .sort_index())\n",
    "\n",
    "    return an"
   ]
  },
  {
   "cell_type": "markdown",
   "metadata": {
    "collapsed": true
   },
   "source": [
    "Aeronet = read_aeronet(r'D:\\Annies_Dissertation\\Methodology\\Validation\\Comparision\\050101_140630_Chilbolton.lev20')"
   ]
  },
  {
   "cell_type": "markdown",
   "metadata": {
    "collapsed": false
   },
   "source": [
    "Aeronet[:10]"
   ]
  },
  {
   "cell_type": "code",
   "execution_count": null,
   "metadata": {
    "collapsed": true
   },
   "outputs": [],
   "source": []
  }
 ],
 "metadata": {
  "kernelspec": {
   "display_name": "Python 3",
   "language": "python",
   "name": "python3"
  },
  "language_info": {
   "codemirror_mode": {
    "name": "ipython",
    "version": 3
   },
   "file_extension": ".py",
   "mimetype": "text/x-python",
   "name": "python",
   "nbconvert_exporter": "python",
   "pygments_lexer": "ipython3",
   "version": "3.5.1"
  }
 },
 "nbformat": 4,
 "nbformat_minor": 0
}
