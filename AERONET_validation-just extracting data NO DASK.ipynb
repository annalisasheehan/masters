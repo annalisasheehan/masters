{
 "cells": [
  {
   "cell_type": "markdown",
   "metadata": {},
   "source": [
    "# Get some data in"
   ]
  },
  {
   "cell_type": "markdown",
   "metadata": {},
   "source": [
    "## Set libraries"
   ]
  },
  {
   "cell_type": "code",
   "execution_count": 3,
   "metadata": {
    "collapsed": true
   },
   "outputs": [],
   "source": [
    "import numpy as np\n",
    "import xarray as xr\n",
    "import rasterio\n",
    "%matplotlib inline\n",
    "from matplotlib.pyplot import *\n",
    "from glob import glob\n",
    "import glob\n",
    "import os\n",
    "import datetime\n",
    "import pandas as pd\n",
    "from rasterio_to_xarray import rasterio_to_xarray, xarray_to_rasterio"
   ]
  },
  {
   "cell_type": "markdown",
   "metadata": {},
   "source": [
    "## Function to read in the MAIAC files into a data array"
   ]
  },
  {
   "cell_type": "code",
   "execution_count": 2,
   "metadata": {
    "collapsed": true
   },
   "outputs": [],
   "source": [
    "def maiac_file_to_da(filename):\n",
    "    da = rasterio_to_xarray(filename)\n",
    "    \n",
    "    time_str = os.path.basename(filename)[17:-13]\n",
    "    time_obj = datetime.datetime.strptime(time_str, '%Y%j%H%M')\n",
    "    da.coords['time'] = time_obj\n",
    "    \n",
    "    return da"
   ]
  },
  {
   "cell_type": "code",
   "execution_count": null,
   "metadata": {
    "collapsed": true
   },
   "outputs": [],
   "source": [
    "# get a list of files\n",
    "files = glob(r'D:\\MAIAC_Data\\Europe\\h00v01\\Projected\\2011\\*_proj.tif')\n",
    "# Map runs function on every element of a list... creating a list of 2D arrays (the date)\n",
    "list_of_das = map(maiac_file_to_da, files)\n",
    "# Make the dataset 3D over the dimension time\n",
    "MAIAC_AOT = xr.concat(list_of_das, 'time')\n",
    "# Reorder time- because the A and T mess the time variable up and resampling wont work otherwise\n",
    "reordered_MAIAC_AOT = MAIAC_AOT.isel(time=np.argsort(MAIAC_AOT.time))\n",
    "# Get AOT values for all of the years for Chilbolton pixel from MAIAC data\n",
    "Measurements = reordered_MAIAC_AOT.isel(x=1103, y=1027).dropna('time').to_dataframe(name='MAIAC_AOT')\n",
    "Measurements.to_csv(r'D:\\Annies_Dissertation\\Methodology\\Validation\\AERONET\\Test\\2011.csv')"
   ]
  },
  {
   "cell_type": "markdown",
   "metadata": {
    "collapsed": true
   },
   "source": [
    "# Put all in loop so it goes through each folder and produces the csv file"
   ]
  },
  {
   "cell_type": "code",
   "execution_count": 7,
   "metadata": {
    "collapsed": false
   },
   "outputs": [],
   "source": [
    "folders = glob.glob(r'D:\\MAIAC_Data\\Europe\\h00v01\\Projected\\20*')"
   ]
  },
  {
   "cell_type": "code",
   "execution_count": 8,
   "metadata": {
    "collapsed": false
   },
   "outputs": [
    {
     "name": "stdout",
     "output_type": "stream",
     "text": [
      "Processed D:\\MAIAC_Data\\Europe\\h00v01\\Projected\\2007\n"
     ]
    }
   ],
   "source": [
    "for folder in folders:\n",
    "    files = glob.glob(r'{fname}\\*_proj.tif'.format(fname=folder))\n",
    "    list_of_das = map(maiac_file_to_da, files)\n",
    "    MAIAC_AOT = xr.concat(list_of_das, 'time')\n",
    "    MAIAC_AOT.attrs.clear()\n",
    "    reordered_MAIAC_AOT = MAIAC_AOT.isel(time=np.argsort(MAIAC_AOT.time))\n",
    "    Measurements = reordered_MAIAC_AOT.isel(x=1103, y=1027).dropna('time').to_dataframe(name='MAIAC_AOT')\n",
    "    Measurements.to_csv(r'D:\\Annies_Dissertation\\Methodology\\Validation\\AERONET\\Test\\Alldata.csv', mode='a')\n",
    "    print('Processed {fname}'.format(fname=folder))"
   ]
  },
  {
   "cell_type": "code",
   "execution_count": 4,
   "metadata": {
    "collapsed": true
   },
   "outputs": [],
   "source": [
    "MAIAC_Chil = pd.read_csv(r'D:\\Annies_Dissertation\\Methodology\\Validation\\AERONET\\Test\\Alldata.csv')"
   ]
  },
  {
   "cell_type": "code",
   "execution_count": 5,
   "metadata": {
    "collapsed": false
   },
   "outputs": [
    {
     "data": {
      "text/html": [
       "<div>\n",
       "<table border=\"1\" class=\"dataframe\">\n",
       "  <thead>\n",
       "    <tr style=\"text-align: right;\">\n",
       "      <th></th>\n",
       "      <th>time</th>\n",
       "      <th>x</th>\n",
       "      <th>y</th>\n",
       "      <th>MAIAC_AOT</th>\n",
       "    </tr>\n",
       "  </thead>\n",
       "  <tbody>\n",
       "    <tr>\n",
       "      <th>0</th>\n",
       "      <td>25/02/2000 10:50</td>\n",
       "      <td>138808.1057</td>\n",
       "      <td>438327.3471</td>\n",
       "      <td>83</td>\n",
       "    </tr>\n",
       "    <tr>\n",
       "      <th>1</th>\n",
       "      <td>26/02/2000 11:35</td>\n",
       "      <td>138808.1057</td>\n",
       "      <td>438327.3471</td>\n",
       "      <td>164</td>\n",
       "    </tr>\n",
       "    <tr>\n",
       "      <th>2</th>\n",
       "      <td>12/03/2000 12:30</td>\n",
       "      <td>138808.1057</td>\n",
       "      <td>438327.3471</td>\n",
       "      <td>205</td>\n",
       "    </tr>\n",
       "    <tr>\n",
       "      <th>3</th>\n",
       "      <td>15/03/2000 11:25</td>\n",
       "      <td>138808.1057</td>\n",
       "      <td>438327.3471</td>\n",
       "      <td>186</td>\n",
       "    </tr>\n",
       "    <tr>\n",
       "      <th>4</th>\n",
       "      <td>22/03/2000 11:30</td>\n",
       "      <td>138808.1057</td>\n",
       "      <td>438327.3471</td>\n",
       "      <td>591</td>\n",
       "    </tr>\n",
       "    <tr>\n",
       "      <th>5</th>\n",
       "      <td>06/04/2000 10:45</td>\n",
       "      <td>138808.1057</td>\n",
       "      <td>438327.3471</td>\n",
       "      <td>331</td>\n",
       "    </tr>\n",
       "    <tr>\n",
       "      <th>6</th>\n",
       "      <td>07/04/2000 11:30</td>\n",
       "      <td>138808.1057</td>\n",
       "      <td>438327.3471</td>\n",
       "      <td>210</td>\n",
       "    </tr>\n",
       "    <tr>\n",
       "      <th>7</th>\n",
       "      <td>08/04/2000 10:35</td>\n",
       "      <td>138808.1057</td>\n",
       "      <td>438327.3471</td>\n",
       "      <td>311</td>\n",
       "    </tr>\n",
       "    <tr>\n",
       "      <th>8</th>\n",
       "      <td>08/04/2000 12:15</td>\n",
       "      <td>138808.1057</td>\n",
       "      <td>438327.3471</td>\n",
       "      <td>319</td>\n",
       "    </tr>\n",
       "    <tr>\n",
       "      <th>9</th>\n",
       "      <td>10/04/2000 12:00</td>\n",
       "      <td>138808.1057</td>\n",
       "      <td>438327.3471</td>\n",
       "      <td>149</td>\n",
       "    </tr>\n",
       "  </tbody>\n",
       "</table>\n",
       "</div>"
      ],
      "text/plain": [
       "               time            x            y  MAIAC_AOT\n",
       "0  25/02/2000 10:50  138808.1057  438327.3471         83\n",
       "1  26/02/2000 11:35  138808.1057  438327.3471        164\n",
       "2  12/03/2000 12:30  138808.1057  438327.3471        205\n",
       "3  15/03/2000 11:25  138808.1057  438327.3471        186\n",
       "4  22/03/2000 11:30  138808.1057  438327.3471        591\n",
       "5  06/04/2000 10:45  138808.1057  438327.3471        331\n",
       "6  07/04/2000 11:30  138808.1057  438327.3471        210\n",
       "7  08/04/2000 10:35  138808.1057  438327.3471        311\n",
       "8  08/04/2000 12:15  138808.1057  438327.3471        319\n",
       "9  10/04/2000 12:00  138808.1057  438327.3471        149"
      ]
     },
     "execution_count": 5,
     "metadata": {},
     "output_type": "execute_result"
    }
   ],
   "source": [
    "MAIAC_Chil[:10]"
   ]
  },
  {
   "cell_type": "markdown",
   "metadata": {},
   "source": [
    "# Read in AERONET data file into pandas DataFrame"
   ]
  },
  {
   "cell_type": "code",
   "execution_count": 6,
   "metadata": {
    "collapsed": true
   },
   "outputs": [],
   "source": [
    "import pandas as pd"
   ]
  },
  {
   "cell_type": "code",
   "execution_count": 7,
   "metadata": {
    "collapsed": true
   },
   "outputs": [],
   "source": [
    "def read_aeronet(filename):\n",
    "    \"\"\"Read a given AERONET AOT data file, and return it as a dataframe.\n",
    "    \n",
    "    This returns a DataFrame containing the AERONET data, with the index\n",
    "    set to the timestamp of the AERONET observations. Rows or columns\n",
    "    consisting entirely of missing data are removed. All other columns\n",
    "    are left as-is.\n",
    "    \"\"\"\n",
    "    dateparse = lambda x: pd.datetime.strptime(x, \"%d:%m:%Y %H:%M:%S\")\n",
    "    aeronet = pd.read_csv(filename, skiprows=4, na_values=['N/A'],\n",
    "                          parse_dates={'times':[0,1]},\n",
    "                          date_parser=dateparse)\n",
    "\n",
    "    aeronet = aeronet.set_index('times')\n",
    "    del aeronet['Julian_Day']\n",
    "    \n",
    "    # Drop any rows that are all NaN and any cols that are all NaN\n",
    "    # & then sort by the index\n",
    "    an = (aeronet.dropna(axis=1, how='all')\n",
    "                .dropna(axis=0, how='all')\n",
    "                .rename(columns={'Last_Processing_Date(dd/mm/yyyy)': 'Last_Processing_Date'})\n",
    "                .sort_index())\n",
    "\n",
    "    return an"
   ]
  },
  {
   "cell_type": "code",
   "execution_count": 12,
   "metadata": {
    "collapsed": false
   },
   "outputs": [],
   "source": [
    "Aeronet = read_aeronet(r'D:\\Annies_Dissertation\\Methodology\\Validation\\AERONET\\All_data050101_161231_Chilbolton.lev20')"
   ]
  },
  {
   "cell_type": "code",
   "execution_count": 24,
   "metadata": {
    "collapsed": false
   },
   "outputs": [
    {
     "data": {
      "text/html": [
       "<div>\n",
       "<table border=\"1\" class=\"dataframe\">\n",
       "  <thead>\n",
       "    <tr style=\"text-align: right;\">\n",
       "      <th></th>\n",
       "      <th>AOT_1640</th>\n",
       "      <th>AOT_1020</th>\n",
       "      <th>AOT_870</th>\n",
       "      <th>AOT_675</th>\n",
       "      <th>AOT_500</th>\n",
       "      <th>AOT_440</th>\n",
       "      <th>AOT_380</th>\n",
       "      <th>AOT_340</th>\n",
       "      <th>Water(cm)</th>\n",
       "      <th>%TripletVar_1640</th>\n",
       "      <th>...</th>\n",
       "      <th>%TripletVar_440</th>\n",
       "      <th>%TripletVar_380</th>\n",
       "      <th>%TripletVar_340</th>\n",
       "      <th>440-870Angstrom</th>\n",
       "      <th>380-500Angstrom</th>\n",
       "      <th>440-675Angstrom</th>\n",
       "      <th>500-870Angstrom</th>\n",
       "      <th>340-440Angstrom</th>\n",
       "      <th>Last_Processing_Date</th>\n",
       "      <th>Solar_Zenith_Angle</th>\n",
       "    </tr>\n",
       "    <tr>\n",
       "      <th>times</th>\n",
       "      <th></th>\n",
       "      <th></th>\n",
       "      <th></th>\n",
       "      <th></th>\n",
       "      <th></th>\n",
       "      <th></th>\n",
       "      <th></th>\n",
       "      <th></th>\n",
       "      <th></th>\n",
       "      <th></th>\n",
       "      <th></th>\n",
       "      <th></th>\n",
       "      <th></th>\n",
       "      <th></th>\n",
       "      <th></th>\n",
       "      <th></th>\n",
       "      <th></th>\n",
       "      <th></th>\n",
       "      <th></th>\n",
       "      <th></th>\n",
       "      <th></th>\n",
       "    </tr>\n",
       "  </thead>\n",
       "  <tbody>\n",
       "    <tr>\n",
       "      <th>2005-10-10 12:38:46</th>\n",
       "      <td>NaN</td>\n",
       "      <td>0.079535</td>\n",
       "      <td>0.090636</td>\n",
       "      <td>0.143492</td>\n",
       "      <td>0.246959</td>\n",
       "      <td>0.301443</td>\n",
       "      <td>0.373063</td>\n",
       "      <td>0.430350</td>\n",
       "      <td>2.115728</td>\n",
       "      <td>NaN</td>\n",
       "      <td>...</td>\n",
       "      <td>0.196419</td>\n",
       "      <td>0.181772</td>\n",
       "      <td>0.532137</td>\n",
       "      <td>1.776185</td>\n",
       "      <td>1.495202</td>\n",
       "      <td>1.757222</td>\n",
       "      <td>1.808187</td>\n",
       "      <td>1.368259</td>\n",
       "      <td>17/10/2006</td>\n",
       "      <td>58.758553</td>\n",
       "    </tr>\n",
       "    <tr>\n",
       "      <th>2005-10-10 12:53:45</th>\n",
       "      <td>NaN</td>\n",
       "      <td>0.076091</td>\n",
       "      <td>0.088152</td>\n",
       "      <td>0.142735</td>\n",
       "      <td>0.250090</td>\n",
       "      <td>0.306848</td>\n",
       "      <td>0.381753</td>\n",
       "      <td>0.442439</td>\n",
       "      <td>2.151210</td>\n",
       "      <td>NaN</td>\n",
       "      <td>...</td>\n",
       "      <td>0.268519</td>\n",
       "      <td>0.575421</td>\n",
       "      <td>0.669254</td>\n",
       "      <td>1.842931</td>\n",
       "      <td>1.532986</td>\n",
       "      <td>1.812417</td>\n",
       "      <td>1.880650</td>\n",
       "      <td>1.406191</td>\n",
       "      <td>17/10/2006</td>\n",
       "      <td>59.391479</td>\n",
       "    </tr>\n",
       "    <tr>\n",
       "      <th>2005-10-10 12:59:46</th>\n",
       "      <td>NaN</td>\n",
       "      <td>0.080473</td>\n",
       "      <td>0.092602</td>\n",
       "      <td>0.148098</td>\n",
       "      <td>0.258315</td>\n",
       "      <td>0.316427</td>\n",
       "      <td>0.393984</td>\n",
       "      <td>0.456950</td>\n",
       "      <td>2.158919</td>\n",
       "      <td>NaN</td>\n",
       "      <td>...</td>\n",
       "      <td>0.207976</td>\n",
       "      <td>0.198821</td>\n",
       "      <td>0.368519</td>\n",
       "      <td>1.816853</td>\n",
       "      <td>1.530241</td>\n",
       "      <td>1.797861</td>\n",
       "      <td>1.850624</td>\n",
       "      <td>1.412028</td>\n",
       "      <td>17/10/2006</td>\n",
       "      <td>59.692552</td>\n",
       "    </tr>\n",
       "    <tr>\n",
       "      <th>2005-10-10 13:08:45</th>\n",
       "      <td>NaN</td>\n",
       "      <td>0.078049</td>\n",
       "      <td>0.090091</td>\n",
       "      <td>0.145124</td>\n",
       "      <td>0.252962</td>\n",
       "      <td>0.309554</td>\n",
       "      <td>0.385898</td>\n",
       "      <td>0.447138</td>\n",
       "      <td>2.045271</td>\n",
       "      <td>NaN</td>\n",
       "      <td>...</td>\n",
       "      <td>0.259162</td>\n",
       "      <td>0.420704</td>\n",
       "      <td>0.170024</td>\n",
       "      <td>1.824157</td>\n",
       "      <td>1.531183</td>\n",
       "      <td>1.794243</td>\n",
       "      <td>1.862053</td>\n",
       "      <td>1.413390</td>\n",
       "      <td>17/10/2006</td>\n",
       "      <td>60.190763</td>\n",
       "    </tr>\n",
       "    <tr>\n",
       "      <th>2005-10-10 13:23:46</th>\n",
       "      <td>NaN</td>\n",
       "      <td>0.077520</td>\n",
       "      <td>0.090136</td>\n",
       "      <td>0.145518</td>\n",
       "      <td>0.255085</td>\n",
       "      <td>0.313247</td>\n",
       "      <td>0.390174</td>\n",
       "      <td>0.452175</td>\n",
       "      <td>1.993235</td>\n",
       "      <td>NaN</td>\n",
       "      <td>...</td>\n",
       "      <td>0.465213</td>\n",
       "      <td>0.445026</td>\n",
       "      <td>0.148857</td>\n",
       "      <td>1.840785</td>\n",
       "      <td>1.540410</td>\n",
       "      <td>1.815273</td>\n",
       "      <td>1.876348</td>\n",
       "      <td>1.410697</td>\n",
       "      <td>17/10/2006</td>\n",
       "      <td>61.149727</td>\n",
       "    </tr>\n",
       "    <tr>\n",
       "      <th>2005-10-10 13:38:45</th>\n",
       "      <td>NaN</td>\n",
       "      <td>0.079958</td>\n",
       "      <td>0.094025</td>\n",
       "      <td>0.152432</td>\n",
       "      <td>0.268651</td>\n",
       "      <td>0.330463</td>\n",
       "      <td>0.413113</td>\n",
       "      <td>0.478949</td>\n",
       "      <td>1.901130</td>\n",
       "      <td>NaN</td>\n",
       "      <td>...</td>\n",
       "      <td>0.208010</td>\n",
       "      <td>0.193379</td>\n",
       "      <td>0.396386</td>\n",
       "      <td>1.857612</td>\n",
       "      <td>1.559833</td>\n",
       "      <td>1.832172</td>\n",
       "      <td>1.893654</td>\n",
       "      <td>1.426591</td>\n",
       "      <td>17/10/2006</td>\n",
       "      <td>62.256730</td>\n",
       "    </tr>\n",
       "    <tr>\n",
       "      <th>2005-10-10 13:53:45</th>\n",
       "      <td>NaN</td>\n",
       "      <td>0.080028</td>\n",
       "      <td>0.094143</td>\n",
       "      <td>0.152165</td>\n",
       "      <td>0.268086</td>\n",
       "      <td>0.329825</td>\n",
       "      <td>0.412917</td>\n",
       "      <td>0.479721</td>\n",
       "      <td>1.880605</td>\n",
       "      <td>NaN</td>\n",
       "      <td>...</td>\n",
       "      <td>0.656559</td>\n",
       "      <td>0.769271</td>\n",
       "      <td>0.795513</td>\n",
       "      <td>1.853189</td>\n",
       "      <td>1.565855</td>\n",
       "      <td>1.831613</td>\n",
       "      <td>1.887726</td>\n",
       "      <td>1.439973</td>\n",
       "      <td>17/10/2006</td>\n",
       "      <td>63.506309</td>\n",
       "    </tr>\n",
       "    <tr>\n",
       "      <th>2005-10-10 14:23:45</th>\n",
       "      <td>NaN</td>\n",
       "      <td>0.094797</td>\n",
       "      <td>0.109809</td>\n",
       "      <td>0.167836</td>\n",
       "      <td>0.284558</td>\n",
       "      <td>0.346456</td>\n",
       "      <td>0.428425</td>\n",
       "      <td>0.493930</td>\n",
       "      <td>1.868666</td>\n",
       "      <td>NaN</td>\n",
       "      <td>...</td>\n",
       "      <td>0.695588</td>\n",
       "      <td>0.652941</td>\n",
       "      <td>0.543619</td>\n",
       "      <td>1.700525</td>\n",
       "      <td>1.483255</td>\n",
       "      <td>1.714417</td>\n",
       "      <td>1.718805</td>\n",
       "      <td>1.362961</td>\n",
       "      <td>17/10/2006</td>\n",
       "      <td>66.391970</td>\n",
       "    </tr>\n",
       "    <tr>\n",
       "      <th>2005-10-10 15:05:06</th>\n",
       "      <td>NaN</td>\n",
       "      <td>0.100339</td>\n",
       "      <td>0.117901</td>\n",
       "      <td>0.179424</td>\n",
       "      <td>0.301536</td>\n",
       "      <td>0.365371</td>\n",
       "      <td>0.450319</td>\n",
       "      <td>0.515718</td>\n",
       "      <td>1.969662</td>\n",
       "      <td>NaN</td>\n",
       "      <td>...</td>\n",
       "      <td>0.511912</td>\n",
       "      <td>0.196935</td>\n",
       "      <td>0.279000</td>\n",
       "      <td>1.674118</td>\n",
       "      <td>1.454016</td>\n",
       "      <td>1.682888</td>\n",
       "      <td>1.694920</td>\n",
       "      <td>1.325517</td>\n",
       "      <td>17/10/2006</td>\n",
       "      <td>71.092634</td>\n",
       "    </tr>\n",
       "    <tr>\n",
       "      <th>2005-10-10 15:11:24</th>\n",
       "      <td>NaN</td>\n",
       "      <td>0.106938</td>\n",
       "      <td>0.123496</td>\n",
       "      <td>0.182839</td>\n",
       "      <td>0.301331</td>\n",
       "      <td>0.362893</td>\n",
       "      <td>0.445840</td>\n",
       "      <td>0.509917</td>\n",
       "      <td>1.943579</td>\n",
       "      <td>NaN</td>\n",
       "      <td>...</td>\n",
       "      <td>0.210172</td>\n",
       "      <td>0.648805</td>\n",
       "      <td>0.788035</td>\n",
       "      <td>1.596785</td>\n",
       "      <td>1.420574</td>\n",
       "      <td>1.621683</td>\n",
       "      <td>1.610606</td>\n",
       "      <td>1.308019</td>\n",
       "      <td>17/10/2006</td>\n",
       "      <td>71.871554</td>\n",
       "    </tr>\n",
       "  </tbody>\n",
       "</table>\n",
       "<p>10 rows × 24 columns</p>\n",
       "</div>"
      ],
      "text/plain": [
       "                     AOT_1640  AOT_1020   AOT_870   AOT_675   AOT_500  \\\n",
       "times                                                                   \n",
       "2005-10-10 12:38:46       NaN  0.079535  0.090636  0.143492  0.246959   \n",
       "2005-10-10 12:53:45       NaN  0.076091  0.088152  0.142735  0.250090   \n",
       "2005-10-10 12:59:46       NaN  0.080473  0.092602  0.148098  0.258315   \n",
       "2005-10-10 13:08:45       NaN  0.078049  0.090091  0.145124  0.252962   \n",
       "2005-10-10 13:23:46       NaN  0.077520  0.090136  0.145518  0.255085   \n",
       "2005-10-10 13:38:45       NaN  0.079958  0.094025  0.152432  0.268651   \n",
       "2005-10-10 13:53:45       NaN  0.080028  0.094143  0.152165  0.268086   \n",
       "2005-10-10 14:23:45       NaN  0.094797  0.109809  0.167836  0.284558   \n",
       "2005-10-10 15:05:06       NaN  0.100339  0.117901  0.179424  0.301536   \n",
       "2005-10-10 15:11:24       NaN  0.106938  0.123496  0.182839  0.301331   \n",
       "\n",
       "                      AOT_440   AOT_380   AOT_340  Water(cm)  \\\n",
       "times                                                          \n",
       "2005-10-10 12:38:46  0.301443  0.373063  0.430350   2.115728   \n",
       "2005-10-10 12:53:45  0.306848  0.381753  0.442439   2.151210   \n",
       "2005-10-10 12:59:46  0.316427  0.393984  0.456950   2.158919   \n",
       "2005-10-10 13:08:45  0.309554  0.385898  0.447138   2.045271   \n",
       "2005-10-10 13:23:46  0.313247  0.390174  0.452175   1.993235   \n",
       "2005-10-10 13:38:45  0.330463  0.413113  0.478949   1.901130   \n",
       "2005-10-10 13:53:45  0.329825  0.412917  0.479721   1.880605   \n",
       "2005-10-10 14:23:45  0.346456  0.428425  0.493930   1.868666   \n",
       "2005-10-10 15:05:06  0.365371  0.450319  0.515718   1.969662   \n",
       "2005-10-10 15:11:24  0.362893  0.445840  0.509917   1.943579   \n",
       "\n",
       "                     %TripletVar_1640         ...          %TripletVar_440  \\\n",
       "times                                         ...                            \n",
       "2005-10-10 12:38:46               NaN         ...                 0.196419   \n",
       "2005-10-10 12:53:45               NaN         ...                 0.268519   \n",
       "2005-10-10 12:59:46               NaN         ...                 0.207976   \n",
       "2005-10-10 13:08:45               NaN         ...                 0.259162   \n",
       "2005-10-10 13:23:46               NaN         ...                 0.465213   \n",
       "2005-10-10 13:38:45               NaN         ...                 0.208010   \n",
       "2005-10-10 13:53:45               NaN         ...                 0.656559   \n",
       "2005-10-10 14:23:45               NaN         ...                 0.695588   \n",
       "2005-10-10 15:05:06               NaN         ...                 0.511912   \n",
       "2005-10-10 15:11:24               NaN         ...                 0.210172   \n",
       "\n",
       "                     %TripletVar_380  %TripletVar_340  440-870Angstrom  \\\n",
       "times                                                                    \n",
       "2005-10-10 12:38:46         0.181772         0.532137         1.776185   \n",
       "2005-10-10 12:53:45         0.575421         0.669254         1.842931   \n",
       "2005-10-10 12:59:46         0.198821         0.368519         1.816853   \n",
       "2005-10-10 13:08:45         0.420704         0.170024         1.824157   \n",
       "2005-10-10 13:23:46         0.445026         0.148857         1.840785   \n",
       "2005-10-10 13:38:45         0.193379         0.396386         1.857612   \n",
       "2005-10-10 13:53:45         0.769271         0.795513         1.853189   \n",
       "2005-10-10 14:23:45         0.652941         0.543619         1.700525   \n",
       "2005-10-10 15:05:06         0.196935         0.279000         1.674118   \n",
       "2005-10-10 15:11:24         0.648805         0.788035         1.596785   \n",
       "\n",
       "                     380-500Angstrom  440-675Angstrom  500-870Angstrom  \\\n",
       "times                                                                    \n",
       "2005-10-10 12:38:46         1.495202         1.757222         1.808187   \n",
       "2005-10-10 12:53:45         1.532986         1.812417         1.880650   \n",
       "2005-10-10 12:59:46         1.530241         1.797861         1.850624   \n",
       "2005-10-10 13:08:45         1.531183         1.794243         1.862053   \n",
       "2005-10-10 13:23:46         1.540410         1.815273         1.876348   \n",
       "2005-10-10 13:38:45         1.559833         1.832172         1.893654   \n",
       "2005-10-10 13:53:45         1.565855         1.831613         1.887726   \n",
       "2005-10-10 14:23:45         1.483255         1.714417         1.718805   \n",
       "2005-10-10 15:05:06         1.454016         1.682888         1.694920   \n",
       "2005-10-10 15:11:24         1.420574         1.621683         1.610606   \n",
       "\n",
       "                     340-440Angstrom  Last_Processing_Date  Solar_Zenith_Angle  \n",
       "times                                                                           \n",
       "2005-10-10 12:38:46         1.368259            17/10/2006           58.758553  \n",
       "2005-10-10 12:53:45         1.406191            17/10/2006           59.391479  \n",
       "2005-10-10 12:59:46         1.412028            17/10/2006           59.692552  \n",
       "2005-10-10 13:08:45         1.413390            17/10/2006           60.190763  \n",
       "2005-10-10 13:23:46         1.410697            17/10/2006           61.149727  \n",
       "2005-10-10 13:38:45         1.426591            17/10/2006           62.256730  \n",
       "2005-10-10 13:53:45         1.439973            17/10/2006           63.506309  \n",
       "2005-10-10 14:23:45         1.362961            17/10/2006           66.391970  \n",
       "2005-10-10 15:05:06         1.325517            17/10/2006           71.092634  \n",
       "2005-10-10 15:11:24         1.308019            17/10/2006           71.871554  \n",
       "\n",
       "[10 rows x 24 columns]"
      ]
     },
     "execution_count": 24,
     "metadata": {},
     "output_type": "execute_result"
    }
   ],
   "source": [
    "Aeronet[:10]"
   ]
  },
  {
   "cell_type": "code",
   "execution_count": 21,
   "metadata": {
    "collapsed": false
   },
   "outputs": [],
   "source": [
    "col_list = [' ', 'AOT_440']"
   ]
  },
  {
   "cell_type": "code",
   "execution_count": 22,
   "metadata": {
    "collapsed": false
   },
   "outputs": [
    {
     "ename": "KeyError",
     "evalue": "\"[' '] not in index\"",
     "output_type": "error",
     "traceback": [
      "\u001b[1;31m---------------------------------------------------------------------------\u001b[0m",
      "\u001b[1;31mKeyError\u001b[0m                                  Traceback (most recent call last)",
      "\u001b[1;32m<ipython-input-22-8228514363af>\u001b[0m in \u001b[0;36m<module>\u001b[1;34m()\u001b[0m\n\u001b[1;32m----> 1\u001b[1;33m \u001b[0mAeronet_440\u001b[0m \u001b[1;33m=\u001b[0m \u001b[0mAeronet\u001b[0m\u001b[1;33m[\u001b[0m\u001b[0mcol_list\u001b[0m\u001b[1;33m]\u001b[0m\u001b[1;33m\u001b[0m\u001b[0m\n\u001b[0m",
      "\u001b[1;32mD:\\Anaconda3\\lib\\site-packages\\pandas\\core\\frame.py\u001b[0m in \u001b[0;36m__getitem__\u001b[1;34m(self, key)\u001b[0m\n\u001b[0;32m   1989\u001b[0m         \u001b[1;32mif\u001b[0m \u001b[0misinstance\u001b[0m\u001b[1;33m(\u001b[0m\u001b[0mkey\u001b[0m\u001b[1;33m,\u001b[0m \u001b[1;33m(\u001b[0m\u001b[0mSeries\u001b[0m\u001b[1;33m,\u001b[0m \u001b[0mnp\u001b[0m\u001b[1;33m.\u001b[0m\u001b[0mndarray\u001b[0m\u001b[1;33m,\u001b[0m \u001b[0mIndex\u001b[0m\u001b[1;33m,\u001b[0m \u001b[0mlist\u001b[0m\u001b[1;33m)\u001b[0m\u001b[1;33m)\u001b[0m\u001b[1;33m:\u001b[0m\u001b[1;33m\u001b[0m\u001b[0m\n\u001b[0;32m   1990\u001b[0m             \u001b[1;31m# either boolean or fancy integer index\u001b[0m\u001b[1;33m\u001b[0m\u001b[1;33m\u001b[0m\u001b[0m\n\u001b[1;32m-> 1991\u001b[1;33m             \u001b[1;32mreturn\u001b[0m \u001b[0mself\u001b[0m\u001b[1;33m.\u001b[0m\u001b[0m_getitem_array\u001b[0m\u001b[1;33m(\u001b[0m\u001b[0mkey\u001b[0m\u001b[1;33m)\u001b[0m\u001b[1;33m\u001b[0m\u001b[0m\n\u001b[0m\u001b[0;32m   1992\u001b[0m         \u001b[1;32melif\u001b[0m \u001b[0misinstance\u001b[0m\u001b[1;33m(\u001b[0m\u001b[0mkey\u001b[0m\u001b[1;33m,\u001b[0m \u001b[0mDataFrame\u001b[0m\u001b[1;33m)\u001b[0m\u001b[1;33m:\u001b[0m\u001b[1;33m\u001b[0m\u001b[0m\n\u001b[0;32m   1993\u001b[0m             \u001b[1;32mreturn\u001b[0m \u001b[0mself\u001b[0m\u001b[1;33m.\u001b[0m\u001b[0m_getitem_frame\u001b[0m\u001b[1;33m(\u001b[0m\u001b[0mkey\u001b[0m\u001b[1;33m)\u001b[0m\u001b[1;33m\u001b[0m\u001b[0m\n",
      "\u001b[1;32mD:\\Anaconda3\\lib\\site-packages\\pandas\\core\\frame.py\u001b[0m in \u001b[0;36m_getitem_array\u001b[1;34m(self, key)\u001b[0m\n\u001b[0;32m   2033\u001b[0m             \u001b[1;32mreturn\u001b[0m \u001b[0mself\u001b[0m\u001b[1;33m.\u001b[0m\u001b[0mtake\u001b[0m\u001b[1;33m(\u001b[0m\u001b[0mindexer\u001b[0m\u001b[1;33m,\u001b[0m \u001b[0maxis\u001b[0m\u001b[1;33m=\u001b[0m\u001b[1;36m0\u001b[0m\u001b[1;33m,\u001b[0m \u001b[0mconvert\u001b[0m\u001b[1;33m=\u001b[0m\u001b[1;32mFalse\u001b[0m\u001b[1;33m)\u001b[0m\u001b[1;33m\u001b[0m\u001b[0m\n\u001b[0;32m   2034\u001b[0m         \u001b[1;32melse\u001b[0m\u001b[1;33m:\u001b[0m\u001b[1;33m\u001b[0m\u001b[0m\n\u001b[1;32m-> 2035\u001b[1;33m             \u001b[0mindexer\u001b[0m \u001b[1;33m=\u001b[0m \u001b[0mself\u001b[0m\u001b[1;33m.\u001b[0m\u001b[0mix\u001b[0m\u001b[1;33m.\u001b[0m\u001b[0m_convert_to_indexer\u001b[0m\u001b[1;33m(\u001b[0m\u001b[0mkey\u001b[0m\u001b[1;33m,\u001b[0m \u001b[0maxis\u001b[0m\u001b[1;33m=\u001b[0m\u001b[1;36m1\u001b[0m\u001b[1;33m)\u001b[0m\u001b[1;33m\u001b[0m\u001b[0m\n\u001b[0m\u001b[0;32m   2036\u001b[0m             \u001b[1;32mreturn\u001b[0m \u001b[0mself\u001b[0m\u001b[1;33m.\u001b[0m\u001b[0mtake\u001b[0m\u001b[1;33m(\u001b[0m\u001b[0mindexer\u001b[0m\u001b[1;33m,\u001b[0m \u001b[0maxis\u001b[0m\u001b[1;33m=\u001b[0m\u001b[1;36m1\u001b[0m\u001b[1;33m,\u001b[0m \u001b[0mconvert\u001b[0m\u001b[1;33m=\u001b[0m\u001b[1;32mTrue\u001b[0m\u001b[1;33m)\u001b[0m\u001b[1;33m\u001b[0m\u001b[0m\n\u001b[0;32m   2037\u001b[0m \u001b[1;33m\u001b[0m\u001b[0m\n",
      "\u001b[1;32mD:\\Anaconda3\\lib\\site-packages\\pandas\\core\\indexing.py\u001b[0m in \u001b[0;36m_convert_to_indexer\u001b[1;34m(self, obj, axis, is_setter)\u001b[0m\n\u001b[0;32m   1212\u001b[0m                 \u001b[0mmask\u001b[0m \u001b[1;33m=\u001b[0m \u001b[0mcheck\u001b[0m \u001b[1;33m==\u001b[0m \u001b[1;33m-\u001b[0m\u001b[1;36m1\u001b[0m\u001b[1;33m\u001b[0m\u001b[0m\n\u001b[0;32m   1213\u001b[0m                 \u001b[1;32mif\u001b[0m \u001b[0mmask\u001b[0m\u001b[1;33m.\u001b[0m\u001b[0many\u001b[0m\u001b[1;33m(\u001b[0m\u001b[1;33m)\u001b[0m\u001b[1;33m:\u001b[0m\u001b[1;33m\u001b[0m\u001b[0m\n\u001b[1;32m-> 1214\u001b[1;33m                     \u001b[1;32mraise\u001b[0m \u001b[0mKeyError\u001b[0m\u001b[1;33m(\u001b[0m\u001b[1;34m'%s not in index'\u001b[0m \u001b[1;33m%\u001b[0m \u001b[0mobjarr\u001b[0m\u001b[1;33m[\u001b[0m\u001b[0mmask\u001b[0m\u001b[1;33m]\u001b[0m\u001b[1;33m)\u001b[0m\u001b[1;33m\u001b[0m\u001b[0m\n\u001b[0m\u001b[0;32m   1215\u001b[0m \u001b[1;33m\u001b[0m\u001b[0m\n\u001b[0;32m   1216\u001b[0m                 \u001b[1;32mreturn\u001b[0m \u001b[0m_values_from_object\u001b[0m\u001b[1;33m(\u001b[0m\u001b[0mindexer\u001b[0m\u001b[1;33m)\u001b[0m\u001b[1;33m\u001b[0m\u001b[0m\n",
      "\u001b[1;31mKeyError\u001b[0m: \"[' '] not in index\""
     ]
    }
   ],
   "source": [
    "Aeronet_440 = Aeronet[col_list]"
   ]
  },
  {
   "cell_type": "code",
   "execution_count": 25,
   "metadata": {
    "collapsed": false
   },
   "outputs": [
    {
     "ename": "ValueError",
     "evalue": "labels ['AOT_555' 'AOT_551' 'AOT_490' 'AOT_443' 'AOT_412'] not contained in axis",
     "output_type": "error",
     "traceback": [
      "\u001b[1;31m---------------------------------------------------------------------------\u001b[0m",
      "\u001b[1;31mValueError\u001b[0m                                Traceback (most recent call last)",
      "\u001b[1;32m<ipython-input-25-8fa673f32603>\u001b[0m in \u001b[0;36m<module>\u001b[1;34m()\u001b[0m\n\u001b[0;32m      1\u001b[0m Aeronet_440 = Aeronet.drop(['AOT_1640', 'AOT_1020', 'AOT_870', 'AOT_675', 'AOT_555', 'AOT_551', 'AOT_500', 'AOT_490', 'AOT_443', 'AOT_412', \n\u001b[1;32m----> 2\u001b[1;33m                             'AOT_380', 'AOT_340', 'Water(cm)'], axis=1)\n\u001b[0m",
      "\u001b[1;32mD:\\Anaconda3\\lib\\site-packages\\pandas\\core\\generic.py\u001b[0m in \u001b[0;36mdrop\u001b[1;34m(self, labels, axis, level, inplace, errors)\u001b[0m\n\u001b[0;32m   1875\u001b[0m                 \u001b[0mnew_axis\u001b[0m \u001b[1;33m=\u001b[0m \u001b[0maxis\u001b[0m\u001b[1;33m.\u001b[0m\u001b[0mdrop\u001b[0m\u001b[1;33m(\u001b[0m\u001b[0mlabels\u001b[0m\u001b[1;33m,\u001b[0m \u001b[0mlevel\u001b[0m\u001b[1;33m=\u001b[0m\u001b[0mlevel\u001b[0m\u001b[1;33m,\u001b[0m \u001b[0merrors\u001b[0m\u001b[1;33m=\u001b[0m\u001b[0merrors\u001b[0m\u001b[1;33m)\u001b[0m\u001b[1;33m\u001b[0m\u001b[0m\n\u001b[0;32m   1876\u001b[0m             \u001b[1;32melse\u001b[0m\u001b[1;33m:\u001b[0m\u001b[1;33m\u001b[0m\u001b[0m\n\u001b[1;32m-> 1877\u001b[1;33m                 \u001b[0mnew_axis\u001b[0m \u001b[1;33m=\u001b[0m \u001b[0maxis\u001b[0m\u001b[1;33m.\u001b[0m\u001b[0mdrop\u001b[0m\u001b[1;33m(\u001b[0m\u001b[0mlabels\u001b[0m\u001b[1;33m,\u001b[0m \u001b[0merrors\u001b[0m\u001b[1;33m=\u001b[0m\u001b[0merrors\u001b[0m\u001b[1;33m)\u001b[0m\u001b[1;33m\u001b[0m\u001b[0m\n\u001b[0m\u001b[0;32m   1878\u001b[0m             \u001b[0mdropped\u001b[0m \u001b[1;33m=\u001b[0m \u001b[0mself\u001b[0m\u001b[1;33m.\u001b[0m\u001b[0mreindex\u001b[0m\u001b[1;33m(\u001b[0m\u001b[1;33m**\u001b[0m\u001b[1;33m{\u001b[0m\u001b[0maxis_name\u001b[0m\u001b[1;33m:\u001b[0m \u001b[0mnew_axis\u001b[0m\u001b[1;33m}\u001b[0m\u001b[1;33m)\u001b[0m\u001b[1;33m\u001b[0m\u001b[0m\n\u001b[0;32m   1879\u001b[0m             \u001b[1;32mtry\u001b[0m\u001b[1;33m:\u001b[0m\u001b[1;33m\u001b[0m\u001b[0m\n",
      "\u001b[1;32mD:\\Anaconda3\\lib\\site-packages\\pandas\\indexes\\base.py\u001b[0m in \u001b[0;36mdrop\u001b[1;34m(self, labels, errors)\u001b[0m\n\u001b[0;32m   3049\u001b[0m             \u001b[1;32mif\u001b[0m \u001b[0merrors\u001b[0m \u001b[1;33m!=\u001b[0m \u001b[1;34m'ignore'\u001b[0m\u001b[1;33m:\u001b[0m\u001b[1;33m\u001b[0m\u001b[0m\n\u001b[0;32m   3050\u001b[0m                 raise ValueError('labels %s not contained in axis' %\n\u001b[1;32m-> 3051\u001b[1;33m                                  labels[mask])\n\u001b[0m\u001b[0;32m   3052\u001b[0m             \u001b[0mindexer\u001b[0m \u001b[1;33m=\u001b[0m \u001b[0mindexer\u001b[0m\u001b[1;33m[\u001b[0m\u001b[1;33m~\u001b[0m\u001b[0mmask\u001b[0m\u001b[1;33m]\u001b[0m\u001b[1;33m\u001b[0m\u001b[0m\n\u001b[0;32m   3053\u001b[0m         \u001b[1;32mreturn\u001b[0m \u001b[0mself\u001b[0m\u001b[1;33m.\u001b[0m\u001b[0mdelete\u001b[0m\u001b[1;33m(\u001b[0m\u001b[0mindexer\u001b[0m\u001b[1;33m)\u001b[0m\u001b[1;33m\u001b[0m\u001b[0m\n",
      "\u001b[1;31mValueError\u001b[0m: labels ['AOT_555' 'AOT_551' 'AOT_490' 'AOT_443' 'AOT_412'] not contained in axis"
     ]
    }
   ],
   "source": [
    "Aeronet_440 = Aeronet.drop(['AOT_1640', 'AOT_1020', 'AOT_870', 'AOT_675', 'AOT_555', 'AOT_551', 'AOT_500', 'AOT_490', 'AOT_443', 'AOT_412', \n",
    "                            'AOT_380', 'AOT_340', 'Water(cm)'], axis=1)"
   ]
  },
  {
   "cell_type": "code",
   "execution_count": 26,
   "metadata": {
    "collapsed": true
   },
   "outputs": [],
   "source": [
    "Aeronet.to_csv(r'D:\\Annies_Dissertation\\Methodology\\Validation\\AERONET\\Test\\Aeronet.csv', mode='w')\n",
    "#then delete columns in excel!!"
   ]
  },
  {
   "cell_type": "code",
   "execution_count": 17,
   "metadata": {
    "collapsed": false
   },
   "outputs": [],
   "source": [
    "Aeronet_440 = pd.read_csv(r'D:\\Annies_Dissertation\\Methodology\\Validation\\AERONET\\Aeronet440.csv')"
   ]
  },
  {
   "cell_type": "code",
   "execution_count": 18,
   "metadata": {
    "collapsed": false
   },
   "outputs": [
    {
     "data": {
      "text/html": [
       "<div>\n",
       "<table border=\"1\" class=\"dataframe\">\n",
       "  <thead>\n",
       "    <tr style=\"text-align: right;\">\n",
       "      <th></th>\n",
       "      <th>times</th>\n",
       "      <th>AOT_440</th>\n",
       "    </tr>\n",
       "  </thead>\n",
       "  <tbody>\n",
       "    <tr>\n",
       "      <th>0</th>\n",
       "      <td>10/10/2005 12:38</td>\n",
       "      <td>0.301443</td>\n",
       "    </tr>\n",
       "    <tr>\n",
       "      <th>1</th>\n",
       "      <td>10/10/2005 12:53</td>\n",
       "      <td>0.306848</td>\n",
       "    </tr>\n",
       "    <tr>\n",
       "      <th>2</th>\n",
       "      <td>10/10/2005 12:59</td>\n",
       "      <td>0.316427</td>\n",
       "    </tr>\n",
       "    <tr>\n",
       "      <th>3</th>\n",
       "      <td>10/10/2005 13:08</td>\n",
       "      <td>0.309554</td>\n",
       "    </tr>\n",
       "    <tr>\n",
       "      <th>4</th>\n",
       "      <td>10/10/2005 13:23</td>\n",
       "      <td>0.313247</td>\n",
       "    </tr>\n",
       "    <tr>\n",
       "      <th>5</th>\n",
       "      <td>10/10/2005 13:38</td>\n",
       "      <td>0.330463</td>\n",
       "    </tr>\n",
       "    <tr>\n",
       "      <th>6</th>\n",
       "      <td>10/10/2005 13:53</td>\n",
       "      <td>0.329825</td>\n",
       "    </tr>\n",
       "    <tr>\n",
       "      <th>7</th>\n",
       "      <td>10/10/2005 14:23</td>\n",
       "      <td>0.346456</td>\n",
       "    </tr>\n",
       "    <tr>\n",
       "      <th>8</th>\n",
       "      <td>10/10/2005 15:05</td>\n",
       "      <td>0.365371</td>\n",
       "    </tr>\n",
       "    <tr>\n",
       "      <th>9</th>\n",
       "      <td>10/10/2005 15:11</td>\n",
       "      <td>0.362893</td>\n",
       "    </tr>\n",
       "  </tbody>\n",
       "</table>\n",
       "</div>"
      ],
      "text/plain": [
       "              times   AOT_440\n",
       "0  10/10/2005 12:38  0.301443\n",
       "1  10/10/2005 12:53  0.306848\n",
       "2  10/10/2005 12:59  0.316427\n",
       "3  10/10/2005 13:08  0.309554\n",
       "4  10/10/2005 13:23  0.313247\n",
       "5  10/10/2005 13:38  0.330463\n",
       "6  10/10/2005 13:53  0.329825\n",
       "7  10/10/2005 14:23  0.346456\n",
       "8  10/10/2005 15:05  0.365371\n",
       "9  10/10/2005 15:11  0.362893"
      ]
     },
     "execution_count": 18,
     "metadata": {},
     "output_type": "execute_result"
    }
   ],
   "source": [
    "Aeronet_440[:10]"
   ]
  },
  {
   "cell_type": "code",
   "execution_count": 21,
   "metadata": {
    "collapsed": false
   },
   "outputs": [
    {
     "ename": "NameError",
     "evalue": "name 'AERONET_440' is not defined",
     "output_type": "error",
     "traceback": [
      "\u001b[1;31m---------------------------------------------------------------------------\u001b[0m",
      "\u001b[1;31mNameError\u001b[0m                                 Traceback (most recent call last)",
      "\u001b[1;32m<ipython-input-21-7a942a47f0f8>\u001b[0m in \u001b[0;36m<module>\u001b[1;34m()\u001b[0m\n\u001b[1;32m----> 1\u001b[1;33m \u001b[0mmerged_inner\u001b[0m \u001b[1;33m=\u001b[0m \u001b[0mAERONET_440\u001b[0m\u001b[1;33m.\u001b[0m\u001b[0mpd\u001b[0m\u001b[1;33m.\u001b[0m\u001b[0mmerge\u001b[0m\u001b[1;33m(\u001b[0m\u001b[0mMAIAC_Chil\u001b[0m\u001b[1;33m.\u001b[0m\u001b[0mpd\u001b[0m\u001b[1;33m,\u001b[0m \u001b[0mleft_on\u001b[0m\u001b[1;33m=\u001b[0m\u001b[1;34m'times'\u001b[0m\u001b[1;33m,\u001b[0m \u001b[0mright_on\u001b[0m\u001b[1;33m=\u001b[0m\u001b[1;34m'time'\u001b[0m\u001b[1;33m,\u001b[0m \u001b[0mhow\u001b[0m\u001b[1;33m=\u001b[0m\u001b[1;34m'inner'\u001b[0m\u001b[1;33m)\u001b[0m\u001b[1;33m\u001b[0m\u001b[0m\n\u001b[0m",
      "\u001b[1;31mNameError\u001b[0m: name 'AERONET_440' is not defined"
     ]
    }
   ],
   "source": [
    "merged_inner = AERONET_440.merge(MAIAC_Chil, left_on='times', right_on='time', how='inner')"
   ]
  },
  {
   "cell_type": "code",
   "execution_count": null,
   "metadata": {
    "collapsed": true
   },
   "outputs": [],
   "source": []
  }
 ],
 "metadata": {
  "kernelspec": {
   "display_name": "Python 3",
   "language": "python",
   "name": "python3"
  },
  "language_info": {
   "codemirror_mode": {
    "name": "ipython",
    "version": 3
   },
   "file_extension": ".py",
   "mimetype": "text/x-python",
   "name": "python",
   "nbconvert_exporter": "python",
   "pygments_lexer": "ipython3",
   "version": "3.5.1"
  }
 },
 "nbformat": 4,
 "nbformat_minor": 0
}
