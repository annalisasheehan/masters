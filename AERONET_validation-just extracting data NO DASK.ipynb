{
 "cells": [
  {
   "cell_type": "markdown",
   "metadata": {},
   "source": [
    "# Get some data in"
   ]
  },
  {
   "cell_type": "markdown",
   "metadata": {},
   "source": [
    "## Set libraries"
   ]
  },
  {
   "cell_type": "code",
   "execution_count": 1,
   "metadata": {
    "collapsed": true
   },
   "outputs": [],
   "source": [
    "import numpy as np\n",
    "import xarray as xr\n",
    "import rasterio\n",
    "%matplotlib inline\n",
    "from matplotlib.pyplot import *\n",
    "from glob import glob\n",
    "import glob\n",
    "import os\n",
    "import datetime\n",
    "import pandas as pd\n",
    "from rasterio_to_xarray import rasterio_to_xarray, xarray_to_rasterio"
   ]
  },
  {
   "cell_type": "markdown",
   "metadata": {},
   "source": [
    "## Function to read in the MAIAC files into a data array"
   ]
  },
  {
   "cell_type": "code",
   "execution_count": 2,
   "metadata": {
    "collapsed": true
   },
   "outputs": [],
   "source": [
    "def maiac_file_to_da(filename):\n",
    "    da = rasterio_to_xarray(filename)\n",
    "    \n",
    "    time_str = os.path.basename(filename)[17:-13]\n",
    "    time_obj = datetime.datetime.strptime(time_str, '%Y%j%H%M')\n",
    "    da.coords['time'] = time_obj\n",
    "    \n",
    "    return da"
   ]
  },
  {
   "cell_type": "code",
   "execution_count": null,
   "metadata": {
    "collapsed": true
   },
   "outputs": [],
   "source": [
    "# get a list of files\n",
    "files = glob(r'D:\\MAIAC_Data\\Europe\\h00v01\\Projected\\2011\\*_proj.tif')\n",
    "# Map runs function on every element of a list... creating a list of 2D arrays (the date)\n",
    "list_of_das = map(maiac_file_to_da, files)\n",
    "# Make the dataset 3D over the dimension time\n",
    "MAIAC_AOT = xr.concat(list_of_das, 'time')\n",
    "# Reorder time- because the A and T mess the time variable up and resampling wont work otherwise\n",
    "reordered_MAIAC_AOT = MAIAC_AOT.isel(time=np.argsort(MAIAC_AOT.time))\n",
    "# Get AOT values for all of the years for Chilbolton pixel from MAIAC data\n",
    "Measurements = reordered_MAIAC_AOT.isel(x=1103, y=1027).dropna('time').to_dataframe(name='MAIAC_AOT')\n",
    "Measurements.to_csv(r'D:\\Annies_Dissertation\\Methodology\\Validation\\AERONET\\Test\\2011.csv')"
   ]
  },
  {
   "cell_type": "markdown",
   "metadata": {
    "collapsed": true
   },
   "source": [
    "# Put all in loop so it goes through each folder and produces the csv file"
   ]
  },
  {
   "cell_type": "code",
   "execution_count": 7,
   "metadata": {
    "collapsed": false
   },
   "outputs": [],
   "source": [
    "folders = glob.glob(r'D:\\MAIAC_Data\\Europe\\h00v01\\Projected\\20*')"
   ]
  },
  {
   "cell_type": "code",
   "execution_count": 8,
   "metadata": {
    "collapsed": false
   },
   "outputs": [
    {
     "name": "stdout",
     "output_type": "stream",
     "text": [
      "Processed D:\\MAIAC_Data\\Europe\\h00v01\\Projected\\2007\n"
     ]
    }
   ],
   "source": [
    "for folder in folders:\n",
    "    files = glob.glob(r'{fname}\\*_proj.tif'.format(fname=folder))\n",
    "    list_of_das = map(maiac_file_to_da, files)\n",
    "    MAIAC_AOT = xr.concat(list_of_das, 'time')\n",
    "    MAIAC_AOT.attrs.clear()\n",
    "    reordered_MAIAC_AOT = MAIAC_AOT.isel(time=np.argsort(MAIAC_AOT.time))\n",
    "    Measurements = reordered_MAIAC_AOT.isel(x=1103, y=1027).dropna('time').to_dataframe(name='MAIAC_AOT')\n",
    "    Measurements.to_csv(r'D:\\Annies_Dissertation\\Methodology\\Validation\\AERONET\\Test\\Alldata.csv', mode='a')\n",
    "    print('Processed {fname}'.format(fname=folder))"
   ]
  },
  {
   "cell_type": "code",
   "execution_count": 2,
   "metadata": {
    "collapsed": true
   },
   "outputs": [],
   "source": [
    "MAIAC_Chil = pd.read_csv(r'D:\\Annies_Dissertation\\Methodology\\Validation\\AERONET\\Test\\Alldata_FINAL.csv')"
   ]
  },
  {
   "cell_type": "code",
   "execution_count": 10,
   "metadata": {
    "collapsed": false
   },
   "outputs": [
    {
     "data": {
      "text/html": [
       "<div>\n",
       "<table border=\"1\" class=\"dataframe\">\n",
       "  <thead>\n",
       "    <tr style=\"text-align: right;\">\n",
       "      <th></th>\n",
       "      <th>Time</th>\n",
       "      <th>x</th>\n",
       "      <th>y</th>\n",
       "      <th>AOT</th>\n",
       "      <th>AOT_New</th>\n",
       "      <th>timestamp</th>\n",
       "    </tr>\n",
       "    <tr>\n",
       "      <th>timestamp</th>\n",
       "      <th></th>\n",
       "      <th></th>\n",
       "      <th></th>\n",
       "      <th></th>\n",
       "      <th></th>\n",
       "      <th></th>\n",
       "    </tr>\n",
       "  </thead>\n",
       "  <tbody>\n",
       "    <tr>\n",
       "      <th>2000-02-25 10:50:00</th>\n",
       "      <td>25/02/2000 10:50</td>\n",
       "      <td>138808.1057</td>\n",
       "      <td>438327.3471</td>\n",
       "      <td>83</td>\n",
       "      <td>0.083</td>\n",
       "      <td>2000-02-25 10:50:00</td>\n",
       "    </tr>\n",
       "    <tr>\n",
       "      <th>2000-02-26 11:35:00</th>\n",
       "      <td>26/02/2000 11:35</td>\n",
       "      <td>138808.1057</td>\n",
       "      <td>438327.3471</td>\n",
       "      <td>164</td>\n",
       "      <td>0.164</td>\n",
       "      <td>2000-02-26 11:35:00</td>\n",
       "    </tr>\n",
       "    <tr>\n",
       "      <th>2000-03-12 12:30:00</th>\n",
       "      <td>12/03/2000 12:30</td>\n",
       "      <td>138808.1057</td>\n",
       "      <td>438327.3471</td>\n",
       "      <td>205</td>\n",
       "      <td>0.205</td>\n",
       "      <td>2000-03-12 12:30:00</td>\n",
       "    </tr>\n",
       "    <tr>\n",
       "      <th>2000-03-15 11:25:00</th>\n",
       "      <td>15/03/2000 11:25</td>\n",
       "      <td>138808.1057</td>\n",
       "      <td>438327.3471</td>\n",
       "      <td>186</td>\n",
       "      <td>0.186</td>\n",
       "      <td>2000-03-15 11:25:00</td>\n",
       "    </tr>\n",
       "    <tr>\n",
       "      <th>2000-03-22 11:30:00</th>\n",
       "      <td>22/03/2000 11:30</td>\n",
       "      <td>138808.1057</td>\n",
       "      <td>438327.3471</td>\n",
       "      <td>591</td>\n",
       "      <td>0.591</td>\n",
       "      <td>2000-03-22 11:30:00</td>\n",
       "    </tr>\n",
       "    <tr>\n",
       "      <th>2000-04-06 10:45:00</th>\n",
       "      <td>06/04/2000 10:45</td>\n",
       "      <td>138808.1057</td>\n",
       "      <td>438327.3471</td>\n",
       "      <td>331</td>\n",
       "      <td>0.331</td>\n",
       "      <td>2000-04-06 10:45:00</td>\n",
       "    </tr>\n",
       "    <tr>\n",
       "      <th>2000-04-07 11:30:00</th>\n",
       "      <td>07/04/2000 11:30</td>\n",
       "      <td>138808.1057</td>\n",
       "      <td>438327.3471</td>\n",
       "      <td>210</td>\n",
       "      <td>0.210</td>\n",
       "      <td>2000-04-07 11:30:00</td>\n",
       "    </tr>\n",
       "    <tr>\n",
       "      <th>2000-04-08 10:35:00</th>\n",
       "      <td>08/04/2000 10:35</td>\n",
       "      <td>138808.1057</td>\n",
       "      <td>438327.3471</td>\n",
       "      <td>311</td>\n",
       "      <td>0.311</td>\n",
       "      <td>2000-04-08 10:35:00</td>\n",
       "    </tr>\n",
       "    <tr>\n",
       "      <th>2000-04-08 12:15:00</th>\n",
       "      <td>08/04/2000 12:15</td>\n",
       "      <td>138808.1057</td>\n",
       "      <td>438327.3471</td>\n",
       "      <td>319</td>\n",
       "      <td>0.319</td>\n",
       "      <td>2000-04-08 12:15:00</td>\n",
       "    </tr>\n",
       "    <tr>\n",
       "      <th>2000-04-10 12:00:00</th>\n",
       "      <td>10/04/2000 12:00</td>\n",
       "      <td>138808.1057</td>\n",
       "      <td>438327.3471</td>\n",
       "      <td>149</td>\n",
       "      <td>0.149</td>\n",
       "      <td>2000-04-10 12:00:00</td>\n",
       "    </tr>\n",
       "  </tbody>\n",
       "</table>\n",
       "</div>"
      ],
      "text/plain": [
       "                                 Time            x            y  AOT  AOT_New  \\\n",
       "timestamp                                                                       \n",
       "2000-02-25 10:50:00  25/02/2000 10:50  138808.1057  438327.3471   83    0.083   \n",
       "2000-02-26 11:35:00  26/02/2000 11:35  138808.1057  438327.3471  164    0.164   \n",
       "2000-03-12 12:30:00  12/03/2000 12:30  138808.1057  438327.3471  205    0.205   \n",
       "2000-03-15 11:25:00  15/03/2000 11:25  138808.1057  438327.3471  186    0.186   \n",
       "2000-03-22 11:30:00  22/03/2000 11:30  138808.1057  438327.3471  591    0.591   \n",
       "2000-04-06 10:45:00  06/04/2000 10:45  138808.1057  438327.3471  331    0.331   \n",
       "2000-04-07 11:30:00  07/04/2000 11:30  138808.1057  438327.3471  210    0.210   \n",
       "2000-04-08 10:35:00  08/04/2000 10:35  138808.1057  438327.3471  311    0.311   \n",
       "2000-04-08 12:15:00  08/04/2000 12:15  138808.1057  438327.3471  319    0.319   \n",
       "2000-04-10 12:00:00  10/04/2000 12:00  138808.1057  438327.3471  149    0.149   \n",
       "\n",
       "                              timestamp  \n",
       "timestamp                                \n",
       "2000-02-25 10:50:00 2000-02-25 10:50:00  \n",
       "2000-02-26 11:35:00 2000-02-26 11:35:00  \n",
       "2000-03-12 12:30:00 2000-03-12 12:30:00  \n",
       "2000-03-15 11:25:00 2000-03-15 11:25:00  \n",
       "2000-03-22 11:30:00 2000-03-22 11:30:00  \n",
       "2000-04-06 10:45:00 2000-04-06 10:45:00  \n",
       "2000-04-07 11:30:00 2000-04-07 11:30:00  \n",
       "2000-04-08 10:35:00 2000-04-08 10:35:00  \n",
       "2000-04-08 12:15:00 2000-04-08 12:15:00  \n",
       "2000-04-10 12:00:00 2000-04-10 12:00:00  "
      ]
     },
     "execution_count": 10,
     "metadata": {},
     "output_type": "execute_result"
    }
   ],
   "source": [
    "MAIAC_Chil[:10]"
   ]
  },
  {
   "cell_type": "code",
   "execution_count": 4,
   "metadata": {
    "collapsed": true
   },
   "outputs": [],
   "source": [
    "MAIAC_Chil['timestamp'] = pd.to_datetime(MAIAC_Chil.Time, format='%d/%m/%Y %H:%M')"
   ]
  },
  {
   "cell_type": "code",
   "execution_count": 5,
   "metadata": {
    "collapsed": true
   },
   "outputs": [],
   "source": [
    "MAIAC_Chil = MAIAC_Chil.set_index('timestamp')"
   ]
  },
  {
   "cell_type": "code",
   "execution_count": 6,
   "metadata": {
    "collapsed": true
   },
   "outputs": [],
   "source": [
    "MAIAC_Chil['AOT_New']= MAIAC_Chil.AOT/1000"
   ]
  },
  {
   "cell_type": "code",
   "execution_count": 7,
   "metadata": {
    "collapsed": true
   },
   "outputs": [],
   "source": [
    "MAIAC_Chil['timestamp'] = MAIAC_Chil.index"
   ]
  },
  {
   "cell_type": "code",
   "execution_count": 8,
   "metadata": {
    "collapsed": true
   },
   "outputs": [],
   "source": [
    "MAIAC_Chil = MAIAC_Chil.drop_duplicates(subset='timestamp')"
   ]
  },
  {
   "cell_type": "code",
   "execution_count": 9,
   "metadata": {
    "collapsed": true
   },
   "outputs": [],
   "source": [
    "MAIAC_Chil = MAIAC_Chil.sort_index()"
   ]
  },
  {
   "cell_type": "markdown",
   "metadata": {},
   "source": [
    "# Read in AERONET data file into pandas DataFrame"
   ]
  },
  {
   "cell_type": "code",
   "execution_count": 11,
   "metadata": {
    "collapsed": true
   },
   "outputs": [],
   "source": [
    "import pandas as pd"
   ]
  },
  {
   "cell_type": "code",
   "execution_count": 12,
   "metadata": {
    "collapsed": true
   },
   "outputs": [],
   "source": [
    "def read_aeronet(filename):\n",
    "    \"\"\"Read a given AERONET AOT data file, and return it as a dataframe.\n",
    "    \n",
    "    This returns a DataFrame containing the AERONET data, with the index\n",
    "    set to the timestamp of the AERONET observations. Rows or columns\n",
    "    consisting entirely of missing data are removed. All other columns\n",
    "    are left as-is.\n",
    "    \"\"\"\n",
    "    dateparse = lambda x: pd.datetime.strptime(x, \"%d:%m:%Y %H:%M:%S\")\n",
    "    aeronet = pd.read_csv(filename, skiprows=4, na_values=['N/A'],\n",
    "                          parse_dates={'times':[0,1]},\n",
    "                          date_parser=dateparse)\n",
    "\n",
    "    aeronet = aeronet.set_index('times')\n",
    "    del aeronet['Julian_Day']\n",
    "    \n",
    "    # Drop any rows that are all NaN and any cols that are all NaN\n",
    "    # & then sort by the index\n",
    "    an = (aeronet.dropna(axis=1, how='all')\n",
    "                .dropna(axis=0, how='all')\n",
    "                .rename(columns={'Last_Processing_Date(dd/mm/yyyy)': 'Last_Processing_Date'})\n",
    "                .sort_index())\n",
    "\n",
    "    return an"
   ]
  },
  {
   "cell_type": "code",
   "execution_count": 13,
   "metadata": {
    "collapsed": false
   },
   "outputs": [],
   "source": [
    "Aeronet = read_aeronet(r'D:\\Annies_Dissertation\\Methodology\\Validation\\AERONET\\All_data050101_161231_Chilbolton.lev20')"
   ]
  },
  {
   "cell_type": "code",
   "execution_count": 14,
   "metadata": {
    "collapsed": false
   },
   "outputs": [
    {
     "data": {
      "text/html": [
       "<div>\n",
       "<table border=\"1\" class=\"dataframe\">\n",
       "  <thead>\n",
       "    <tr style=\"text-align: right;\">\n",
       "      <th></th>\n",
       "      <th>AOT_1640</th>\n",
       "      <th>AOT_1020</th>\n",
       "      <th>AOT_870</th>\n",
       "      <th>AOT_675</th>\n",
       "      <th>AOT_500</th>\n",
       "      <th>AOT_440</th>\n",
       "      <th>AOT_380</th>\n",
       "      <th>AOT_340</th>\n",
       "      <th>Water(cm)</th>\n",
       "      <th>%TripletVar_1640</th>\n",
       "      <th>...</th>\n",
       "      <th>%TripletVar_440</th>\n",
       "      <th>%TripletVar_380</th>\n",
       "      <th>%TripletVar_340</th>\n",
       "      <th>440-870Angstrom</th>\n",
       "      <th>380-500Angstrom</th>\n",
       "      <th>440-675Angstrom</th>\n",
       "      <th>500-870Angstrom</th>\n",
       "      <th>340-440Angstrom</th>\n",
       "      <th>Last_Processing_Date</th>\n",
       "      <th>Solar_Zenith_Angle</th>\n",
       "    </tr>\n",
       "    <tr>\n",
       "      <th>times</th>\n",
       "      <th></th>\n",
       "      <th></th>\n",
       "      <th></th>\n",
       "      <th></th>\n",
       "      <th></th>\n",
       "      <th></th>\n",
       "      <th></th>\n",
       "      <th></th>\n",
       "      <th></th>\n",
       "      <th></th>\n",
       "      <th></th>\n",
       "      <th></th>\n",
       "      <th></th>\n",
       "      <th></th>\n",
       "      <th></th>\n",
       "      <th></th>\n",
       "      <th></th>\n",
       "      <th></th>\n",
       "      <th></th>\n",
       "      <th></th>\n",
       "      <th></th>\n",
       "    </tr>\n",
       "  </thead>\n",
       "  <tbody>\n",
       "    <tr>\n",
       "      <th>2005-10-10 12:38:46</th>\n",
       "      <td>NaN</td>\n",
       "      <td>0.079535</td>\n",
       "      <td>0.090636</td>\n",
       "      <td>0.143492</td>\n",
       "      <td>0.246959</td>\n",
       "      <td>0.301443</td>\n",
       "      <td>0.373063</td>\n",
       "      <td>0.430350</td>\n",
       "      <td>2.115728</td>\n",
       "      <td>NaN</td>\n",
       "      <td>...</td>\n",
       "      <td>0.196419</td>\n",
       "      <td>0.181772</td>\n",
       "      <td>0.532137</td>\n",
       "      <td>1.776185</td>\n",
       "      <td>1.495202</td>\n",
       "      <td>1.757222</td>\n",
       "      <td>1.808187</td>\n",
       "      <td>1.368259</td>\n",
       "      <td>17/10/2006</td>\n",
       "      <td>58.758553</td>\n",
       "    </tr>\n",
       "    <tr>\n",
       "      <th>2005-10-10 12:53:45</th>\n",
       "      <td>NaN</td>\n",
       "      <td>0.076091</td>\n",
       "      <td>0.088152</td>\n",
       "      <td>0.142735</td>\n",
       "      <td>0.250090</td>\n",
       "      <td>0.306848</td>\n",
       "      <td>0.381753</td>\n",
       "      <td>0.442439</td>\n",
       "      <td>2.151210</td>\n",
       "      <td>NaN</td>\n",
       "      <td>...</td>\n",
       "      <td>0.268519</td>\n",
       "      <td>0.575421</td>\n",
       "      <td>0.669254</td>\n",
       "      <td>1.842931</td>\n",
       "      <td>1.532986</td>\n",
       "      <td>1.812417</td>\n",
       "      <td>1.880650</td>\n",
       "      <td>1.406191</td>\n",
       "      <td>17/10/2006</td>\n",
       "      <td>59.391479</td>\n",
       "    </tr>\n",
       "    <tr>\n",
       "      <th>2005-10-10 12:59:46</th>\n",
       "      <td>NaN</td>\n",
       "      <td>0.080473</td>\n",
       "      <td>0.092602</td>\n",
       "      <td>0.148098</td>\n",
       "      <td>0.258315</td>\n",
       "      <td>0.316427</td>\n",
       "      <td>0.393984</td>\n",
       "      <td>0.456950</td>\n",
       "      <td>2.158919</td>\n",
       "      <td>NaN</td>\n",
       "      <td>...</td>\n",
       "      <td>0.207976</td>\n",
       "      <td>0.198821</td>\n",
       "      <td>0.368519</td>\n",
       "      <td>1.816853</td>\n",
       "      <td>1.530241</td>\n",
       "      <td>1.797861</td>\n",
       "      <td>1.850624</td>\n",
       "      <td>1.412028</td>\n",
       "      <td>17/10/2006</td>\n",
       "      <td>59.692552</td>\n",
       "    </tr>\n",
       "    <tr>\n",
       "      <th>2005-10-10 13:08:45</th>\n",
       "      <td>NaN</td>\n",
       "      <td>0.078049</td>\n",
       "      <td>0.090091</td>\n",
       "      <td>0.145124</td>\n",
       "      <td>0.252962</td>\n",
       "      <td>0.309554</td>\n",
       "      <td>0.385898</td>\n",
       "      <td>0.447138</td>\n",
       "      <td>2.045271</td>\n",
       "      <td>NaN</td>\n",
       "      <td>...</td>\n",
       "      <td>0.259162</td>\n",
       "      <td>0.420704</td>\n",
       "      <td>0.170024</td>\n",
       "      <td>1.824157</td>\n",
       "      <td>1.531183</td>\n",
       "      <td>1.794243</td>\n",
       "      <td>1.862053</td>\n",
       "      <td>1.413390</td>\n",
       "      <td>17/10/2006</td>\n",
       "      <td>60.190763</td>\n",
       "    </tr>\n",
       "    <tr>\n",
       "      <th>2005-10-10 13:23:46</th>\n",
       "      <td>NaN</td>\n",
       "      <td>0.077520</td>\n",
       "      <td>0.090136</td>\n",
       "      <td>0.145518</td>\n",
       "      <td>0.255085</td>\n",
       "      <td>0.313247</td>\n",
       "      <td>0.390174</td>\n",
       "      <td>0.452175</td>\n",
       "      <td>1.993235</td>\n",
       "      <td>NaN</td>\n",
       "      <td>...</td>\n",
       "      <td>0.465213</td>\n",
       "      <td>0.445026</td>\n",
       "      <td>0.148857</td>\n",
       "      <td>1.840785</td>\n",
       "      <td>1.540410</td>\n",
       "      <td>1.815273</td>\n",
       "      <td>1.876348</td>\n",
       "      <td>1.410697</td>\n",
       "      <td>17/10/2006</td>\n",
       "      <td>61.149727</td>\n",
       "    </tr>\n",
       "    <tr>\n",
       "      <th>2005-10-10 13:38:45</th>\n",
       "      <td>NaN</td>\n",
       "      <td>0.079958</td>\n",
       "      <td>0.094025</td>\n",
       "      <td>0.152432</td>\n",
       "      <td>0.268651</td>\n",
       "      <td>0.330463</td>\n",
       "      <td>0.413113</td>\n",
       "      <td>0.478949</td>\n",
       "      <td>1.901130</td>\n",
       "      <td>NaN</td>\n",
       "      <td>...</td>\n",
       "      <td>0.208010</td>\n",
       "      <td>0.193379</td>\n",
       "      <td>0.396386</td>\n",
       "      <td>1.857612</td>\n",
       "      <td>1.559833</td>\n",
       "      <td>1.832172</td>\n",
       "      <td>1.893654</td>\n",
       "      <td>1.426591</td>\n",
       "      <td>17/10/2006</td>\n",
       "      <td>62.256730</td>\n",
       "    </tr>\n",
       "    <tr>\n",
       "      <th>2005-10-10 13:53:45</th>\n",
       "      <td>NaN</td>\n",
       "      <td>0.080028</td>\n",
       "      <td>0.094143</td>\n",
       "      <td>0.152165</td>\n",
       "      <td>0.268086</td>\n",
       "      <td>0.329825</td>\n",
       "      <td>0.412917</td>\n",
       "      <td>0.479721</td>\n",
       "      <td>1.880605</td>\n",
       "      <td>NaN</td>\n",
       "      <td>...</td>\n",
       "      <td>0.656559</td>\n",
       "      <td>0.769271</td>\n",
       "      <td>0.795513</td>\n",
       "      <td>1.853189</td>\n",
       "      <td>1.565855</td>\n",
       "      <td>1.831613</td>\n",
       "      <td>1.887726</td>\n",
       "      <td>1.439973</td>\n",
       "      <td>17/10/2006</td>\n",
       "      <td>63.506309</td>\n",
       "    </tr>\n",
       "    <tr>\n",
       "      <th>2005-10-10 14:23:45</th>\n",
       "      <td>NaN</td>\n",
       "      <td>0.094797</td>\n",
       "      <td>0.109809</td>\n",
       "      <td>0.167836</td>\n",
       "      <td>0.284558</td>\n",
       "      <td>0.346456</td>\n",
       "      <td>0.428425</td>\n",
       "      <td>0.493930</td>\n",
       "      <td>1.868666</td>\n",
       "      <td>NaN</td>\n",
       "      <td>...</td>\n",
       "      <td>0.695588</td>\n",
       "      <td>0.652941</td>\n",
       "      <td>0.543619</td>\n",
       "      <td>1.700525</td>\n",
       "      <td>1.483255</td>\n",
       "      <td>1.714417</td>\n",
       "      <td>1.718805</td>\n",
       "      <td>1.362961</td>\n",
       "      <td>17/10/2006</td>\n",
       "      <td>66.391970</td>\n",
       "    </tr>\n",
       "    <tr>\n",
       "      <th>2005-10-10 15:05:06</th>\n",
       "      <td>NaN</td>\n",
       "      <td>0.100339</td>\n",
       "      <td>0.117901</td>\n",
       "      <td>0.179424</td>\n",
       "      <td>0.301536</td>\n",
       "      <td>0.365371</td>\n",
       "      <td>0.450319</td>\n",
       "      <td>0.515718</td>\n",
       "      <td>1.969662</td>\n",
       "      <td>NaN</td>\n",
       "      <td>...</td>\n",
       "      <td>0.511912</td>\n",
       "      <td>0.196935</td>\n",
       "      <td>0.279000</td>\n",
       "      <td>1.674118</td>\n",
       "      <td>1.454016</td>\n",
       "      <td>1.682888</td>\n",
       "      <td>1.694920</td>\n",
       "      <td>1.325517</td>\n",
       "      <td>17/10/2006</td>\n",
       "      <td>71.092634</td>\n",
       "    </tr>\n",
       "    <tr>\n",
       "      <th>2005-10-10 15:11:24</th>\n",
       "      <td>NaN</td>\n",
       "      <td>0.106938</td>\n",
       "      <td>0.123496</td>\n",
       "      <td>0.182839</td>\n",
       "      <td>0.301331</td>\n",
       "      <td>0.362893</td>\n",
       "      <td>0.445840</td>\n",
       "      <td>0.509917</td>\n",
       "      <td>1.943579</td>\n",
       "      <td>NaN</td>\n",
       "      <td>...</td>\n",
       "      <td>0.210172</td>\n",
       "      <td>0.648805</td>\n",
       "      <td>0.788035</td>\n",
       "      <td>1.596785</td>\n",
       "      <td>1.420574</td>\n",
       "      <td>1.621683</td>\n",
       "      <td>1.610606</td>\n",
       "      <td>1.308019</td>\n",
       "      <td>17/10/2006</td>\n",
       "      <td>71.871554</td>\n",
       "    </tr>\n",
       "  </tbody>\n",
       "</table>\n",
       "<p>10 rows × 24 columns</p>\n",
       "</div>"
      ],
      "text/plain": [
       "                     AOT_1640  AOT_1020   AOT_870   AOT_675   AOT_500  \\\n",
       "times                                                                   \n",
       "2005-10-10 12:38:46       NaN  0.079535  0.090636  0.143492  0.246959   \n",
       "2005-10-10 12:53:45       NaN  0.076091  0.088152  0.142735  0.250090   \n",
       "2005-10-10 12:59:46       NaN  0.080473  0.092602  0.148098  0.258315   \n",
       "2005-10-10 13:08:45       NaN  0.078049  0.090091  0.145124  0.252962   \n",
       "2005-10-10 13:23:46       NaN  0.077520  0.090136  0.145518  0.255085   \n",
       "2005-10-10 13:38:45       NaN  0.079958  0.094025  0.152432  0.268651   \n",
       "2005-10-10 13:53:45       NaN  0.080028  0.094143  0.152165  0.268086   \n",
       "2005-10-10 14:23:45       NaN  0.094797  0.109809  0.167836  0.284558   \n",
       "2005-10-10 15:05:06       NaN  0.100339  0.117901  0.179424  0.301536   \n",
       "2005-10-10 15:11:24       NaN  0.106938  0.123496  0.182839  0.301331   \n",
       "\n",
       "                      AOT_440   AOT_380   AOT_340  Water(cm)  \\\n",
       "times                                                          \n",
       "2005-10-10 12:38:46  0.301443  0.373063  0.430350   2.115728   \n",
       "2005-10-10 12:53:45  0.306848  0.381753  0.442439   2.151210   \n",
       "2005-10-10 12:59:46  0.316427  0.393984  0.456950   2.158919   \n",
       "2005-10-10 13:08:45  0.309554  0.385898  0.447138   2.045271   \n",
       "2005-10-10 13:23:46  0.313247  0.390174  0.452175   1.993235   \n",
       "2005-10-10 13:38:45  0.330463  0.413113  0.478949   1.901130   \n",
       "2005-10-10 13:53:45  0.329825  0.412917  0.479721   1.880605   \n",
       "2005-10-10 14:23:45  0.346456  0.428425  0.493930   1.868666   \n",
       "2005-10-10 15:05:06  0.365371  0.450319  0.515718   1.969662   \n",
       "2005-10-10 15:11:24  0.362893  0.445840  0.509917   1.943579   \n",
       "\n",
       "                     %TripletVar_1640         ...          %TripletVar_440  \\\n",
       "times                                         ...                            \n",
       "2005-10-10 12:38:46               NaN         ...                 0.196419   \n",
       "2005-10-10 12:53:45               NaN         ...                 0.268519   \n",
       "2005-10-10 12:59:46               NaN         ...                 0.207976   \n",
       "2005-10-10 13:08:45               NaN         ...                 0.259162   \n",
       "2005-10-10 13:23:46               NaN         ...                 0.465213   \n",
       "2005-10-10 13:38:45               NaN         ...                 0.208010   \n",
       "2005-10-10 13:53:45               NaN         ...                 0.656559   \n",
       "2005-10-10 14:23:45               NaN         ...                 0.695588   \n",
       "2005-10-10 15:05:06               NaN         ...                 0.511912   \n",
       "2005-10-10 15:11:24               NaN         ...                 0.210172   \n",
       "\n",
       "                     %TripletVar_380  %TripletVar_340  440-870Angstrom  \\\n",
       "times                                                                    \n",
       "2005-10-10 12:38:46         0.181772         0.532137         1.776185   \n",
       "2005-10-10 12:53:45         0.575421         0.669254         1.842931   \n",
       "2005-10-10 12:59:46         0.198821         0.368519         1.816853   \n",
       "2005-10-10 13:08:45         0.420704         0.170024         1.824157   \n",
       "2005-10-10 13:23:46         0.445026         0.148857         1.840785   \n",
       "2005-10-10 13:38:45         0.193379         0.396386         1.857612   \n",
       "2005-10-10 13:53:45         0.769271         0.795513         1.853189   \n",
       "2005-10-10 14:23:45         0.652941         0.543619         1.700525   \n",
       "2005-10-10 15:05:06         0.196935         0.279000         1.674118   \n",
       "2005-10-10 15:11:24         0.648805         0.788035         1.596785   \n",
       "\n",
       "                     380-500Angstrom  440-675Angstrom  500-870Angstrom  \\\n",
       "times                                                                    \n",
       "2005-10-10 12:38:46         1.495202         1.757222         1.808187   \n",
       "2005-10-10 12:53:45         1.532986         1.812417         1.880650   \n",
       "2005-10-10 12:59:46         1.530241         1.797861         1.850624   \n",
       "2005-10-10 13:08:45         1.531183         1.794243         1.862053   \n",
       "2005-10-10 13:23:46         1.540410         1.815273         1.876348   \n",
       "2005-10-10 13:38:45         1.559833         1.832172         1.893654   \n",
       "2005-10-10 13:53:45         1.565855         1.831613         1.887726   \n",
       "2005-10-10 14:23:45         1.483255         1.714417         1.718805   \n",
       "2005-10-10 15:05:06         1.454016         1.682888         1.694920   \n",
       "2005-10-10 15:11:24         1.420574         1.621683         1.610606   \n",
       "\n",
       "                     340-440Angstrom  Last_Processing_Date  Solar_Zenith_Angle  \n",
       "times                                                                           \n",
       "2005-10-10 12:38:46         1.368259            17/10/2006           58.758553  \n",
       "2005-10-10 12:53:45         1.406191            17/10/2006           59.391479  \n",
       "2005-10-10 12:59:46         1.412028            17/10/2006           59.692552  \n",
       "2005-10-10 13:08:45         1.413390            17/10/2006           60.190763  \n",
       "2005-10-10 13:23:46         1.410697            17/10/2006           61.149727  \n",
       "2005-10-10 13:38:45         1.426591            17/10/2006           62.256730  \n",
       "2005-10-10 13:53:45         1.439973            17/10/2006           63.506309  \n",
       "2005-10-10 14:23:45         1.362961            17/10/2006           66.391970  \n",
       "2005-10-10 15:05:06         1.325517            17/10/2006           71.092634  \n",
       "2005-10-10 15:11:24         1.308019            17/10/2006           71.871554  \n",
       "\n",
       "[10 rows x 24 columns]"
      ]
     },
     "execution_count": 14,
     "metadata": {},
     "output_type": "execute_result"
    }
   ],
   "source": [
    "Aeronet[:10]"
   ]
  },
  {
   "cell_type": "code",
   "execution_count": 15,
   "metadata": {
    "collapsed": false
   },
   "outputs": [],
   "source": [
    "Aeronet = Aeronet[['AOT_440']].dropna()"
   ]
  },
  {
   "cell_type": "code",
   "execution_count": 16,
   "metadata": {
    "collapsed": true
   },
   "outputs": [],
   "source": [
    "Aeronet = Aeronet.sort_index()"
   ]
  },
  {
   "cell_type": "code",
   "execution_count": 17,
   "metadata": {
    "collapsed": false
   },
   "outputs": [],
   "source": [
    "indexed = MAIAC_Chil.reindex(Aeronet.index, method='nearest', tolerance='10Min').dropna()"
   ]
  },
  {
   "cell_type": "code",
   "execution_count": 18,
   "metadata": {
    "collapsed": true
   },
   "outputs": [],
   "source": [
    "result = pd.merge(Aeronet, indexed, left_index=True, right_index=True).reset_index().rename(columns={'times':'AERONET_Time', \n",
    "                                                                                                        'timestamp':'MAIAC_Time', \n",
    "                                                                                                     'AOT_New':'MAIAC_AOT', 'AOT_440':'AERONET_AOT'})"
   ]
  },
  {
   "cell_type": "code",
   "execution_count": 19,
   "metadata": {
    "collapsed": true
   },
   "outputs": [],
   "source": [
    "result = result[['MAIAC_Time', 'AERONET_Time', 'AERONET_AOT', 'MAIAC_AOT']].dropna()"
   ]
  },
  {
   "cell_type": "code",
   "execution_count": 20,
   "metadata": {
    "collapsed": false
   },
   "outputs": [
    {
     "data": {
      "text/html": [
       "<div>\n",
       "<table border=\"1\" class=\"dataframe\">\n",
       "  <thead>\n",
       "    <tr style=\"text-align: right;\">\n",
       "      <th></th>\n",
       "      <th>MAIAC_Time</th>\n",
       "      <th>AERONET_Time</th>\n",
       "      <th>AERONET_AOT</th>\n",
       "      <th>MAIAC_AOT</th>\n",
       "    </tr>\n",
       "  </thead>\n",
       "  <tbody>\n",
       "    <tr>\n",
       "      <th>0</th>\n",
       "      <td>2005-10-10 13:25:00</td>\n",
       "      <td>2005-10-10 13:23:46</td>\n",
       "      <td>0.313247</td>\n",
       "      <td>0.226</td>\n",
       "    </tr>\n",
       "    <tr>\n",
       "      <th>1</th>\n",
       "      <td>2005-10-15 11:55:00</td>\n",
       "      <td>2005-10-15 11:52:30</td>\n",
       "      <td>0.332912</td>\n",
       "      <td>0.236</td>\n",
       "    </tr>\n",
       "    <tr>\n",
       "      <th>2</th>\n",
       "      <td>2005-10-15 13:40:00</td>\n",
       "      <td>2005-10-15 13:37:31</td>\n",
       "      <td>0.212158</td>\n",
       "      <td>0.129</td>\n",
       "    </tr>\n",
       "    <tr>\n",
       "      <th>3</th>\n",
       "      <td>2005-10-27 12:30:00</td>\n",
       "      <td>2005-10-27 12:35:31</td>\n",
       "      <td>0.115170</td>\n",
       "      <td>0.067</td>\n",
       "    </tr>\n",
       "    <tr>\n",
       "      <th>4</th>\n",
       "      <td>2005-11-01 11:00:00</td>\n",
       "      <td>2005-11-01 10:56:13</td>\n",
       "      <td>0.041254</td>\n",
       "      <td>0.088</td>\n",
       "    </tr>\n",
       "    <tr>\n",
       "      <th>5</th>\n",
       "      <td>2005-11-01 11:00:00</td>\n",
       "      <td>2005-11-01 11:05:12</td>\n",
       "      <td>0.041550</td>\n",
       "      <td>0.088</td>\n",
       "    </tr>\n",
       "    <tr>\n",
       "      <th>6</th>\n",
       "      <td>2005-11-01 12:45:00</td>\n",
       "      <td>2005-11-01 12:35:14</td>\n",
       "      <td>0.038766</td>\n",
       "      <td>0.039</td>\n",
       "    </tr>\n",
       "    <tr>\n",
       "      <th>7</th>\n",
       "      <td>2005-11-01 12:45:00</td>\n",
       "      <td>2005-11-01 12:50:14</td>\n",
       "      <td>0.035431</td>\n",
       "      <td>0.039</td>\n",
       "    </tr>\n",
       "    <tr>\n",
       "      <th>8</th>\n",
       "      <td>2005-11-04 11:30:00</td>\n",
       "      <td>2005-11-04 11:20:13</td>\n",
       "      <td>0.070735</td>\n",
       "      <td>0.061</td>\n",
       "    </tr>\n",
       "    <tr>\n",
       "      <th>9</th>\n",
       "      <td>2005-11-04 11:30:00</td>\n",
       "      <td>2005-11-04 11:35:13</td>\n",
       "      <td>0.075269</td>\n",
       "      <td>0.061</td>\n",
       "    </tr>\n",
       "  </tbody>\n",
       "</table>\n",
       "</div>"
      ],
      "text/plain": [
       "           MAIAC_Time        AERONET_Time  AERONET_AOT  MAIAC_AOT\n",
       "0 2005-10-10 13:25:00 2005-10-10 13:23:46     0.313247      0.226\n",
       "1 2005-10-15 11:55:00 2005-10-15 11:52:30     0.332912      0.236\n",
       "2 2005-10-15 13:40:00 2005-10-15 13:37:31     0.212158      0.129\n",
       "3 2005-10-27 12:30:00 2005-10-27 12:35:31     0.115170      0.067\n",
       "4 2005-11-01 11:00:00 2005-11-01 10:56:13     0.041254      0.088\n",
       "5 2005-11-01 11:00:00 2005-11-01 11:05:12     0.041550      0.088\n",
       "6 2005-11-01 12:45:00 2005-11-01 12:35:14     0.038766      0.039\n",
       "7 2005-11-01 12:45:00 2005-11-01 12:50:14     0.035431      0.039\n",
       "8 2005-11-04 11:30:00 2005-11-04 11:20:13     0.070735      0.061\n",
       "9 2005-11-04 11:30:00 2005-11-04 11:35:13     0.075269      0.061"
      ]
     },
     "execution_count": 20,
     "metadata": {},
     "output_type": "execute_result"
    }
   ],
   "source": [
    "result[:10]"
   ]
  },
  {
   "cell_type": "code",
   "execution_count": 21,
   "metadata": {
    "collapsed": true
   },
   "outputs": [],
   "source": [
    "result = result.set_index('MAIAC_Time')"
   ]
  },
  {
   "cell_type": "code",
   "execution_count": 22,
   "metadata": {
    "collapsed": false
   },
   "outputs": [
    {
     "data": {
      "text/plain": [
       "AERONET_Time    0\n",
       "AERONET_AOT     0\n",
       "MAIAC_AOT       0\n",
       "dtype: int64"
      ]
     },
     "execution_count": 22,
     "metadata": {},
     "output_type": "execute_result"
    }
   ],
   "source": [
    "result.isnull().sum()"
   ]
  },
  {
   "cell_type": "code",
   "execution_count": 55,
   "metadata": {
    "collapsed": true
   },
   "outputs": [],
   "source": [
    "%matplotlib inline"
   ]
  },
  {
   "cell_type": "code",
   "execution_count": 56,
   "metadata": {
    "collapsed": false
   },
   "outputs": [
    {
     "data": {
      "image/png": "[encoded data removed]",
      "text/plain": [
       "<matplotlib.figure.Figure at 0x8cdbf63898>"
      ]
     },
     "metadata": {},
     "output_type": "display_data"
    }
   ],
   "source": [
    "result.plot(figsize=(20, 8))\n",
    "savefig(r'D:\\Annies_Dissertation\\Analysis\\Chil_validation_graph.jpeg')"
   ]
  },
  {
   "cell_type": "code",
   "execution_count": 57,
   "metadata": {
    "collapsed": true
   },
   "outputs": [],
   "source": [
    "result['error'] = result['AERONET_AOT'] - result['MAIAC_AOT']"
   ]
  },
  {
   "cell_type": "code",
   "execution_count": 58,
   "metadata": {
    "collapsed": false
   },
   "outputs": [
    {
     "data": {
      "text/plain": [
       "count    869.000000\n",
       "mean       0.067193\n",
       "std        0.051317\n",
       "min        0.000234\n",
       "25%        0.030522\n",
       "50%        0.058529\n",
       "75%        0.089954\n",
       "max        0.331584\n",
       "Name: error, dtype: float64"
      ]
     },
     "execution_count": 58,
     "metadata": {},
     "output_type": "execute_result"
    }
   ],
   "source": [
    "result.error.abs().describe()"
   ]
  },
  {
   "cell_type": "code",
   "execution_count": 59,
   "metadata": {
    "collapsed": false
   },
   "outputs": [
    {
     "data": {
      "text/plain": [
       "0"
      ]
     },
     "execution_count": 59,
     "metadata": {},
     "output_type": "execute_result"
    }
   ],
   "source": [
    "(result.error > 20).sum()"
   ]
  },
  {
   "cell_type": "code",
   "execution_count": 60,
   "metadata": {
    "collapsed": false
   },
   "outputs": [
    {
     "data": {
      "text/plain": [
       "869"
      ]
     },
     "execution_count": 60,
     "metadata": {},
     "output_type": "execute_result"
    }
   ],
   "source": [
    "len(result)"
   ]
  },
  {
   "cell_type": "code",
   "execution_count": 65,
   "metadata": {
    "collapsed": false
   },
   "outputs": [
    {
     "data": {
      "text/plain": [
       "count    869.000000\n",
       "mean       0.128092\n",
       "std        0.135128\n",
       "min        0.000000\n",
       "25%        0.043000\n",
       "50%        0.082000\n",
       "75%        0.164000\n",
       "max        1.066000\n",
       "Name: MAIAC_AOT, dtype: float64"
      ]
     },
     "execution_count": 65,
     "metadata": {},
     "output_type": "execute_result"
    }
   ],
   "source": [
    "result.MAIAC_AOT.describe()"
   ]
  },
  {
   "cell_type": "code",
   "execution_count": 66,
   "metadata": {
    "collapsed": false
   },
   "outputs": [
    {
     "data": {
      "text/plain": [
       "count    869.000000\n",
       "mean       0.177500\n",
       "std        0.154765\n",
       "min        0.013683\n",
       "25%        0.087325\n",
       "50%        0.129031\n",
       "75%        0.202441\n",
       "max        1.268825\n",
       "Name: AERONET_AOT, dtype: float64"
      ]
     },
     "execution_count": 66,
     "metadata": {},
     "output_type": "execute_result"
    }
   ],
   "source": [
    "result.AERONET_AOT.describe()"
   ]
  },
  {
   "cell_type": "code",
   "execution_count": 67,
   "metadata": {
    "collapsed": true
   },
   "outputs": [],
   "source": [
    "result.to_csv(r'D:\\Annies_Dissertation\\Methodology\\Validation\\AERONET\\Chil_validation.csv')"
   ]
  },
  {
   "cell_type": "code",
   "execution_count": 69,
   "metadata": {
    "collapsed": false
   },
   "outputs": [
    {
     "data": {
      "text/plain": [
       "0.08452970527939516"
      ]
     },
     "execution_count": 69,
     "metadata": {},
     "output_type": "execute_result"
    }
   ],
   "source": [
    "from sklearn.metrics import mean_squared_error\n",
    "from math import sqrt\n",
    "\n",
    "rmse = sqrt(mean_squared_error(y_true = result.AERONET_AOT, y_pred = result.MAIAC_AOT))\n",
    "rmse"
   ]
  },
  {
   "cell_type": "code",
   "execution_count": 71,
   "metadata": {
    "collapsed": false
   },
   "outputs": [
    {
     "data": {
      "text/plain": [
       "0.06719297583429229"
      ]
     },
     "execution_count": 71,
     "metadata": {},
     "output_type": "execute_result"
    }
   ],
   "source": [
    "from sklearn.metrics import mean_absolute_error\n",
    "me = mean_absolute_error(y_true = result.AERONET_AOT, y_pred = result.MAIAC_AOT)\n",
    "me"
   ]
  },
  {
   "cell_type": "markdown",
   "metadata": {
    "collapsed": true
   },
   "source": [
    "# Regression"
   ]
  },
  {
   "cell_type": "code",
   "execution_count": 26,
   "metadata": {
    "collapsed": false
   },
   "outputs": [
    {
     "name": "stdout",
     "output_type": "stream",
     "text": [
      "r-squared: 0.803929721547\n",
      "p-value: 5.50268726006e-309\n",
      "Slope: 0.782856479788\n"
     ]
    }
   ],
   "source": [
    "from scipy import stats\n",
    "slope, intercept, r_value, p_value, std_err = stats.linregress(result.AERONET_AOT,result.MAIAC_AOT)\n",
    "print(\"r-squared:\", r_value**2)\n",
    "print(\"p-value:\", p_value)\n",
    "print(\"Slope:\", slope)"
   ]
  },
  {
   "cell_type": "code",
   "execution_count": null,
   "metadata": {
    "collapsed": true
   },
   "outputs": [],
   "source": []
  }
 ],
 "metadata": {
  "kernelspec": {
   "display_name": "Python 3",
   "language": "python",
   "name": "python3"
  },
  "language_info": {
   "codemirror_mode": {
    "name": "ipython",
    "version": 3
   },
   "file_extension": ".py",
   "mimetype": "text/x-python",
   "name": "python",
   "nbconvert_exporter": "python",
   "pygments_lexer": "ipython3",
   "version": "3.5.1"
  }
 },
 "nbformat": 4,
 "nbformat_minor": 0
}
