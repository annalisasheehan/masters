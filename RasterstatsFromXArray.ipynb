{
 "cells": [
  {
   "cell_type": "code",
   "execution_count": 1,
   "metadata": {
    "collapsed": false
   },
   "outputs": [],
   "source": [
    "import numpy as np\n",
    "import xarray as xr\n",
    "import rasterio\n",
    "%matplotlib inline\n",
    "from matplotlib.pyplot import *\n",
    "from glob import glob\n",
    "import os\n",
    "import datetime\n",
    "\n",
    "import pandas as pd\n",
    "\n",
    "from rasterio import features\n",
    "\n",
    "from rasterio_to_xarray import rasterio_to_xarray, xarray_to_rasterio\n",
    "\n",
    "import rasterstats\n",
    "import fiona\n",
    "\n",
    "from tqdm import tqdm\n",
    "\n",
    "from shapely.geometry import shape\n",
    "from rasterstats.io import read_features\n",
    "\n",
    "#from dask.diagnostics import ProgressBar"
   ]
  },
  {
   "cell_type": "markdown",
   "metadata": {
    "collapsed": true
   },
   "source": [
    "pbar = ProgressBar()\n",
    "pbar.register()"
   ]
  },
  {
   "cell_type": "markdown",
   "metadata": {
    "collapsed": true
   },
   "source": [
    "pbar.unregister()"
   ]
  },
  {
   "cell_type": "code",
   "execution_count": 2,
   "metadata": {
    "collapsed": false
   },
   "outputs": [],
   "source": [
    "data = xr.open_mfdataset(r'C:\\MAIACData\\nc_monthly_daily\\*.nc')['data']"
   ]
  },
  {
   "cell_type": "code",
   "execution_count": 3,
   "metadata": {
    "collapsed": false
   },
   "outputs": [
    {
     "data": {
      "text/plain": [
       "<xarray.DataArray 'data' (time: 5191, y: 1162, x: 1240)>\n",
       "dask.array<concate..., shape=(5191, 1162, 1240), dtype=float32, chunksize=(30, 1162, 1240)>\n",
       "Coordinates:\n",
       "  * x        (x) float64 -9.476e+05 -9.464e+05 -9.451e+05 -9.439e+05 ...\n",
       "  * y        (y) float64 1.429e+06 1.428e+06 1.427e+06 1.426e+06 1.424e+06 ...\n",
       "  * time     (time) datetime64[ns] 2000-10-01 2000-10-02 2000-10-03 ...\n",
       "Attributes:\n",
       "    affine: [ -9.47639631e+05   1.25654304e+03   0.00000000e+00   1.42927781e+06\n",
       "   0.00000000e+00  -1.25654304e+03]\n",
       "    crs: +init=epsg:27700"
      ]
     },
     "execution_count": 3,
     "metadata": {},
     "output_type": "execute_result"
    }
   ],
   "source": [
    "data"
   ]
  },
  {
   "cell_type": "code",
   "execution_count": 4,
   "metadata": {
    "collapsed": true
   },
   "outputs": [],
   "source": [
    "subset = data.isel(x=slice(950, None), y=slice(950, None))"
   ]
  },
  {
   "cell_type": "code",
   "execution_count": 5,
   "metadata": {
    "collapsed": true
   },
   "outputs": [],
   "source": [
    "subset = subset.isel(time=np.argsort(subset.time))"
   ]
  },
  {
   "cell_type": "code",
   "execution_count": 10,
   "metadata": {
    "collapsed": true
   },
   "outputs": [],
   "source": [
    "After2009 = subset.sel(time=slice('2009', '2016'))"
   ]
  },
  {
   "cell_type": "code",
   "execution_count": 11,
   "metadata": {
    "collapsed": false
   },
   "outputs": [],
   "source": [
    "monthly_data = After2009.resample('M', dim='time', how='mean', keep_attrs=True)"
   ]
  },
  {
   "cell_type": "code",
   "execution_count": 12,
   "metadata": {
    "collapsed": false
   },
   "outputs": [
    {
     "data": {
      "text/plain": [
       "<xarray.DataArray 'data' (time: 66, y: 212, x: 290)>\n",
       "dask.array<transpo..., shape=(66, 212, 290), dtype=float32, chunksize=(1, 212, 290)>\n",
       "Coordinates:\n",
       "  * x        (x) float64 2.461e+05 2.473e+05 2.486e+05 2.498e+05 2.511e+05 ...\n",
       "  * y        (y) float64 2.356e+05 2.343e+05 2.33e+05 2.318e+05 2.305e+05 ...\n",
       "  * time     (time) datetime64[ns] 2009-01-31 2009-02-28 2009-03-31 ...\n",
       "Attributes:\n",
       "    affine: [ -9.47639631e+05   1.25654304e+03   0.00000000e+00   1.42927781e+06\n",
       "   0.00000000e+00  -1.25654304e+03]\n",
       "    crs: +init=epsg:27700"
      ]
     },
     "execution_count": 12,
     "metadata": {},
     "output_type": "execute_result"
    }
   ],
   "source": [
    "monthly_data"
   ]
  },
  {
   "cell_type": "code",
   "execution_count": 13,
   "metadata": {
    "collapsed": true
   },
   "outputs": [],
   "source": [
    "data = monthly_data"
   ]
  },
  {
   "cell_type": "code",
   "execution_count": null,
   "metadata": {
    "collapsed": false
   },
   "outputs": [
    {
     "name": "stderr",
     "output_type": "stream",
     "text": [
      "\r",
      "0it [00:00, ?it/s]"
     ]
    }
   ],
   "source": [
    "# Image to rasterize the polygons in to\n",
    "rasterized_image = np.zeros(data.isel(time=0).shape, dtype=np.int)\n",
    "\n",
    "# List to store dataframes in\n",
    "dfs = []\n",
    "\n",
    "# Get the actual Affine object from the data stored in the attrs\n",
    "aff = rasterio.Affine.from_gdal(*data.attrs['affine'])\n",
    "\n",
    "feats = read_features(r'D:\\Annies_Dissertation\\Data\\Boundaries\\LSOA_Wessex.shp')\n",
    "\n",
    "\n",
    "# Loop over features (polygons) in the shapefile\n",
    "for f in tqdm(feats):\n",
    "    # Rasterize the polygon into an array\n",
    "    rasterized_image = features.rasterize([(shape(f['geometry']),1)],\n",
    "                                          out_shape=data.isel(time=0).shape,\n",
    "                                          transform=aff,\n",
    "                                          fill=0,\n",
    "                                          all_touched=True)\n",
    "\n",
    "    # Extract from the xarray where the rasterized polygon is\n",
    "    region = data.where(rasterized_image == 1)\n",
    "    \n",
    "    # Combine x and y into a new dimension called allpoints and calculate the mean over it\n",
    "    # and then convert to a dataframe with an appropriate name\n",
    "    res = region.stack(allpoints=['x','y']).mean(dim='allpoints').to_dataframe(name=f['properties']['LSOA11CD'])\n",
    "    \n",
    "    # Append to the list of data frames so we can concatenate them all at the end\n",
    "    dfs.append(res)\n",
    "    \n",
    "stats = pd.concat(dfs, axis=1)"
   ]
  },
  {
   "cell_type": "code",
   "execution_count": null,
   "metadata": {
    "collapsed": false
   },
   "outputs": [],
   "source": [
    "stats"
   ]
  },
  {
   "cell_type": "code",
   "execution_count": null,
   "metadata": {
    "collapsed": true
   },
   "outputs": [],
   "source": [
    "stats = stats.dropna(how='all')"
   ]
  },
  {
   "cell_type": "code",
   "execution_count": null,
   "metadata": {
    "collapsed": false
   },
   "outputs": [],
   "source": [
    "melted_stats = pd.melt(stats.reset_index(), id_vars='time', var_name='LSOA').dropna()"
   ]
  },
  {
   "cell_type": "code",
   "execution_count": null,
   "metadata": {
    "collapsed": false
   },
   "outputs": [],
   "source": [
    "melted_stats"
   ]
  },
  {
   "cell_type": "code",
   "execution_count": null,
   "metadata": {
    "collapsed": false
   },
   "outputs": [],
   "source": [
    "melted_stats['month'] = melted_stats.time.dt.month"
   ]
  },
  {
   "cell_type": "code",
   "execution_count": null,
   "metadata": {
    "collapsed": true
   },
   "outputs": [],
   "source": [
    "melted_stats['year'] = melted_stats.time.dt.year"
   ]
  },
  {
   "cell_type": "code",
   "execution_count": null,
   "metadata": {
    "collapsed": false
   },
   "outputs": [],
   "source": [
    "melted_stats.head()"
   ]
  },
  {
   "cell_type": "code",
   "execution_count": null,
   "metadata": {
    "collapsed": true
   },
   "outputs": [],
   "source": []
  }
 ],
 "metadata": {
  "gist": {
   "data": {
    "description": "RasterstatsFromXArray.ipynb",
    "public": true
   },
   "id": ""
  },
  "kernelspec": {
   "display_name": "Python 3",
   "language": "python",
   "name": "python3"
  },
  "language_info": {
   "codemirror_mode": {
    "name": "ipython",
    "version": 3
   },
   "file_extension": ".py",
   "mimetype": "text/x-python",
   "name": "python",
   "nbconvert_exporter": "python",
   "pygments_lexer": "ipython3",
   "version": "3.5.1"
  }
 },
 "nbformat": 4,
 "nbformat_minor": 0
}
