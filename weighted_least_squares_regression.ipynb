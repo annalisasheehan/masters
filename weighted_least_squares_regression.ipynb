{
 "cells": [
  {
   "cell_type": "markdown",
   "metadata": {},
   "source": [
    "# Set Libraries"
   ]
  },
  {
   "cell_type": "code",
   "execution_count": 1,
   "metadata": {
    "collapsed": true
   },
   "outputs": [],
   "source": [
    "import pandas as pd\n",
    "import statsmodels.formula.api as sm\n",
    "import numpy as np"
   ]
  },
  {
   "cell_type": "markdown",
   "metadata": {},
   "source": [
    "# Read in the data"
   ]
  },
  {
   "cell_type": "code",
   "execution_count": 2,
   "metadata": {
    "collapsed": true
   },
   "outputs": [],
   "source": [
    "Circ_Yearly = pd.read_csv(r'D:\\Annies_Dissertation\\Analysis\\Regression\\HES\\AllCirculatory_yearly_all.csv')"
   ]
  },
  {
   "cell_type": "code",
   "execution_count": 3,
   "metadata": {
    "collapsed": false
   },
   "outputs": [
    {
     "data": {
      "text/html": [
       "<div>\n",
       "<table border=\"1\" class=\"dataframe\">\n",
       "  <thead>\n",
       "    <tr style=\"text-align: right;\">\n",
       "      <th></th>\n",
       "      <th>Unnamed: 0</th>\n",
       "      <th>Disease</th>\n",
       "      <th>year</th>\n",
       "      <th>lsoa11</th>\n",
       "      <th>n</th>\n",
       "      <th>DSR</th>\n",
       "      <th>lcl</th>\n",
       "      <th>ucl</th>\n",
       "      <th>score</th>\n",
       "      <th>rank</th>\n",
       "      <th>decile</th>\n",
       "    </tr>\n",
       "  </thead>\n",
       "  <tbody>\n",
       "    <tr>\n",
       "      <th>0</th>\n",
       "      <td>0</td>\n",
       "      <td>All Circulatory</td>\n",
       "      <td>2009</td>\n",
       "      <td>E01015272</td>\n",
       "      <td>29.0</td>\n",
       "      <td>1379.819824</td>\n",
       "      <td>907.973938</td>\n",
       "      <td>2002.930054</td>\n",
       "      <td>11.430000</td>\n",
       "      <td>22492</td>\n",
       "      <td>7</td>\n",
       "    </tr>\n",
       "    <tr>\n",
       "      <th>1</th>\n",
       "      <td>1</td>\n",
       "      <td>All Circulatory</td>\n",
       "      <td>2009</td>\n",
       "      <td>E01015273</td>\n",
       "      <td>24.0</td>\n",
       "      <td>2712.837646</td>\n",
       "      <td>1679.499756</td>\n",
       "      <td>4116.159180</td>\n",
       "      <td>33.619999</td>\n",
       "      <td>6665</td>\n",
       "      <td>3</td>\n",
       "    </tr>\n",
       "    <tr>\n",
       "      <th>2</th>\n",
       "      <td>2</td>\n",
       "      <td>All Circulatory</td>\n",
       "      <td>2009</td>\n",
       "      <td>E01015274</td>\n",
       "      <td>30.0</td>\n",
       "      <td>2070.800049</td>\n",
       "      <td>1386.778442</td>\n",
       "      <td>2969.841064</td>\n",
       "      <td>20.290001</td>\n",
       "      <td>13991</td>\n",
       "      <td>5</td>\n",
       "    </tr>\n",
       "    <tr>\n",
       "      <th>3</th>\n",
       "      <td>3</td>\n",
       "      <td>All Circulatory</td>\n",
       "      <td>2009</td>\n",
       "      <td>E01015275</td>\n",
       "      <td>37.0</td>\n",
       "      <td>3559.793457</td>\n",
       "      <td>2480.718994</td>\n",
       "      <td>4939.573242</td>\n",
       "      <td>19.780001</td>\n",
       "      <td>14447</td>\n",
       "      <td>5</td>\n",
       "    </tr>\n",
       "    <tr>\n",
       "      <th>4</th>\n",
       "      <td>4</td>\n",
       "      <td>All Circulatory</td>\n",
       "      <td>2009</td>\n",
       "      <td>E01015276</td>\n",
       "      <td>15.0</td>\n",
       "      <td>1460.698853</td>\n",
       "      <td>791.767883</td>\n",
       "      <td>2447.211182</td>\n",
       "      <td>26.400000</td>\n",
       "      <td>10063</td>\n",
       "      <td>4</td>\n",
       "    </tr>\n",
       "  </tbody>\n",
       "</table>\n",
       "</div>"
      ],
      "text/plain": [
       "   Unnamed: 0          Disease  year     lsoa11     n          DSR  \\\n",
       "0           0  All Circulatory  2009  E01015272  29.0  1379.819824   \n",
       "1           1  All Circulatory  2009  E01015273  24.0  2712.837646   \n",
       "2           2  All Circulatory  2009  E01015274  30.0  2070.800049   \n",
       "3           3  All Circulatory  2009  E01015275  37.0  3559.793457   \n",
       "4           4  All Circulatory  2009  E01015276  15.0  1460.698853   \n",
       "\n",
       "           lcl          ucl      score   rank  decile  \n",
       "0   907.973938  2002.930054  11.430000  22492       7  \n",
       "1  1679.499756  4116.159180  33.619999   6665       3  \n",
       "2  1386.778442  2969.841064  20.290001  13991       5  \n",
       "3  2480.718994  4939.573242  19.780001  14447       5  \n",
       "4   791.767883  2447.211182  26.400000  10063       4  "
      ]
     },
     "execution_count": 3,
     "metadata": {},
     "output_type": "execute_result"
    }
   ],
   "source": [
    "Circ_Yearly[:5]"
   ]
  },
  {
   "cell_type": "markdown",
   "metadata": {},
   "source": [
    "### Calculate the weights"
   ]
  },
  {
   "cell_type": "code",
   "execution_count": 4,
   "metadata": {
    "collapsed": true
   },
   "outputs": [],
   "source": [
    "#calculate the uncertainty for the DSR's\n",
    "Circ_Yearly['uncertainty'] = Circ_Yearly['ucl'] - Circ_Yearly['lcl']"
   ]
  },
  {
   "cell_type": "code",
   "execution_count": 5,
   "metadata": {
    "collapsed": false
   },
   "outputs": [],
   "source": [
    "# Calculate the inverse of the uncertainty\n",
    "Circ_Yearly['inverse_uncertainty'] = 1 / Circ_Yearly['uncertainty']"
   ]
  },
  {
   "cell_type": "code",
   "execution_count": 6,
   "metadata": {
    "collapsed": true
   },
   "outputs": [],
   "source": [
    "# keep the columns needed\n",
    "Circ_Yearly = Circ_Yearly[['Disease', 'lsoa11', 'n', 'year', 'DSR', 'lcl', \n",
    "                           'ucl', 'score', 'rank', 'decile', 'uncertainty', 'inverse_uncertainty']].dropna()"
   ]
  },
  {
   "cell_type": "markdown",
   "metadata": {},
   "source": [
    "### repeat steps for respiratory disease"
   ]
  },
  {
   "cell_type": "code",
   "execution_count": 10,
   "metadata": {
    "collapsed": true
   },
   "outputs": [],
   "source": [
    "Resp_Yearly = pd.read_csv(r'D:\\Annies_Dissertation\\Analysis\\Regression\\HES\\AllRespiratory_yearly_all.csv')"
   ]
  },
  {
   "cell_type": "code",
   "execution_count": 11,
   "metadata": {
    "collapsed": false
   },
   "outputs": [
    {
     "data": {
      "text/html": [
       "<div>\n",
       "<table border=\"1\" class=\"dataframe\">\n",
       "  <thead>\n",
       "    <tr style=\"text-align: right;\">\n",
       "      <th></th>\n",
       "      <th>Unnamed: 0</th>\n",
       "      <th>Disease</th>\n",
       "      <th>year</th>\n",
       "      <th>lsoa11</th>\n",
       "      <th>n</th>\n",
       "      <th>DSR</th>\n",
       "      <th>lcl</th>\n",
       "      <th>ucl</th>\n",
       "      <th>score</th>\n",
       "      <th>rank</th>\n",
       "      <th>decile</th>\n",
       "    </tr>\n",
       "  </thead>\n",
       "  <tbody>\n",
       "    <tr>\n",
       "      <th>0</th>\n",
       "      <td>0</td>\n",
       "      <td>All Respiratory</td>\n",
       "      <td>2009</td>\n",
       "      <td>E01015272</td>\n",
       "      <td>12.0</td>\n",
       "      <td>738.839172</td>\n",
       "      <td>367.731018</td>\n",
       "      <td>1312.295532</td>\n",
       "      <td>11.430000</td>\n",
       "      <td>22492</td>\n",
       "      <td>7</td>\n",
       "    </tr>\n",
       "    <tr>\n",
       "      <th>1</th>\n",
       "      <td>1</td>\n",
       "      <td>All Respiratory</td>\n",
       "      <td>2009</td>\n",
       "      <td>E01015273</td>\n",
       "      <td>25.0</td>\n",
       "      <td>1500.134521</td>\n",
       "      <td>896.891479</td>\n",
       "      <td>2314.249512</td>\n",
       "      <td>33.619999</td>\n",
       "      <td>6665</td>\n",
       "      <td>3</td>\n",
       "    </tr>\n",
       "    <tr>\n",
       "      <th>2</th>\n",
       "      <td>2</td>\n",
       "      <td>All Respiratory</td>\n",
       "      <td>2009</td>\n",
       "      <td>E01015274</td>\n",
       "      <td>20.0</td>\n",
       "      <td>1518.648193</td>\n",
       "      <td>919.455261</td>\n",
       "      <td>2356.864258</td>\n",
       "      <td>20.290001</td>\n",
       "      <td>13991</td>\n",
       "      <td>5</td>\n",
       "    </tr>\n",
       "    <tr>\n",
       "      <th>3</th>\n",
       "      <td>3</td>\n",
       "      <td>All Respiratory</td>\n",
       "      <td>2009</td>\n",
       "      <td>E01015275</td>\n",
       "      <td>28.0</td>\n",
       "      <td>2429.869873</td>\n",
       "      <td>1573.156006</td>\n",
       "      <td>3566.883301</td>\n",
       "      <td>19.780001</td>\n",
       "      <td>14447</td>\n",
       "      <td>5</td>\n",
       "    </tr>\n",
       "    <tr>\n",
       "      <th>4</th>\n",
       "      <td>4</td>\n",
       "      <td>All Respiratory</td>\n",
       "      <td>2009</td>\n",
       "      <td>E01015276</td>\n",
       "      <td>32.0</td>\n",
       "      <td>2487.559082</td>\n",
       "      <td>1609.623413</td>\n",
       "      <td>3631.377686</td>\n",
       "      <td>26.400000</td>\n",
       "      <td>10063</td>\n",
       "      <td>4</td>\n",
       "    </tr>\n",
       "  </tbody>\n",
       "</table>\n",
       "</div>"
      ],
      "text/plain": [
       "   Unnamed: 0          Disease  year     lsoa11     n          DSR  \\\n",
       "0           0  All Respiratory  2009  E01015272  12.0   738.839172   \n",
       "1           1  All Respiratory  2009  E01015273  25.0  1500.134521   \n",
       "2           2  All Respiratory  2009  E01015274  20.0  1518.648193   \n",
       "3           3  All Respiratory  2009  E01015275  28.0  2429.869873   \n",
       "4           4  All Respiratory  2009  E01015276  32.0  2487.559082   \n",
       "\n",
       "           lcl          ucl      score   rank  decile  \n",
       "0   367.731018  1312.295532  11.430000  22492       7  \n",
       "1   896.891479  2314.249512  33.619999   6665       3  \n",
       "2   919.455261  2356.864258  20.290001  13991       5  \n",
       "3  1573.156006  3566.883301  19.780001  14447       5  \n",
       "4  1609.623413  3631.377686  26.400000  10063       4  "
      ]
     },
     "execution_count": 11,
     "metadata": {},
     "output_type": "execute_result"
    }
   ],
   "source": [
    "Resp_Yearly[:5]"
   ]
  },
  {
   "cell_type": "code",
   "execution_count": 12,
   "metadata": {
    "collapsed": true
   },
   "outputs": [],
   "source": [
    "Resp_Yearly['uncertainty'] = Resp_Yearly['ucl'] - Resp_Yearly['lcl']"
   ]
  },
  {
   "cell_type": "code",
   "execution_count": 13,
   "metadata": {
    "collapsed": true
   },
   "outputs": [],
   "source": [
    "Resp_Yearly['inverse_uncertainty'] = 1 / Resp_Yearly['uncertainty']"
   ]
  },
  {
   "cell_type": "code",
   "execution_count": 14,
   "metadata": {
    "collapsed": true
   },
   "outputs": [],
   "source": [
    "Resp_Yearly = Resp_Yearly[['Disease', 'lsoa11', 'n', 'year', 'DSR', 'lcl', \n",
    "                           'ucl', 'score', 'rank', 'decile', 'uncertainty', 'inverse_uncertainty']].dropna()"
   ]
  },
  {
   "cell_type": "markdown",
   "metadata": {},
   "source": [
    "## Read in PM2.5 data "
   ]
  },
  {
   "cell_type": "code",
   "execution_count": 15,
   "metadata": {
    "collapsed": true
   },
   "outputs": [],
   "source": [
    "AP_Yearly = pd.read_csv('D:\\Annies_Dissertation\\Analysis\\Regression\\Yearly_PM25_LSOA.csv')"
   ]
  },
  {
   "cell_type": "code",
   "execution_count": 16,
   "metadata": {
    "collapsed": true
   },
   "outputs": [],
   "source": [
    "AP_Yearly = AP_Yearly.rename(columns={'LSOA':'lsoa11', 'value':'PM25'})"
   ]
  },
  {
   "cell_type": "code",
   "execution_count": 17,
   "metadata": {
    "collapsed": false,
    "scrolled": true
   },
   "outputs": [
    {
     "data": {
      "text/html": [
       "<div>\n",
       "<table border=\"1\" class=\"dataframe\">\n",
       "  <thead>\n",
       "    <tr style=\"text-align: right;\">\n",
       "      <th></th>\n",
       "      <th>Unnamed: 0</th>\n",
       "      <th>time</th>\n",
       "      <th>lsoa11</th>\n",
       "      <th>PM25</th>\n",
       "      <th>year</th>\n",
       "    </tr>\n",
       "  </thead>\n",
       "  <tbody>\n",
       "    <tr>\n",
       "      <th>0</th>\n",
       "      <td>0</td>\n",
       "      <td>2009-12-31</td>\n",
       "      <td>E01014869</td>\n",
       "      <td>11.056740</td>\n",
       "      <td>2009</td>\n",
       "    </tr>\n",
       "    <tr>\n",
       "      <th>1</th>\n",
       "      <td>1</td>\n",
       "      <td>2010-12-31</td>\n",
       "      <td>E01014869</td>\n",
       "      <td>9.198227</td>\n",
       "      <td>2010</td>\n",
       "    </tr>\n",
       "    <tr>\n",
       "      <th>2</th>\n",
       "      <td>2</td>\n",
       "      <td>2011-12-31</td>\n",
       "      <td>E01014869</td>\n",
       "      <td>9.872396</td>\n",
       "      <td>2011</td>\n",
       "    </tr>\n",
       "    <tr>\n",
       "      <th>3</th>\n",
       "      <td>3</td>\n",
       "      <td>2012-12-31</td>\n",
       "      <td>E01014869</td>\n",
       "      <td>9.418056</td>\n",
       "      <td>2012</td>\n",
       "    </tr>\n",
       "    <tr>\n",
       "      <th>4</th>\n",
       "      <td>4</td>\n",
       "      <td>2013-12-31</td>\n",
       "      <td>E01014869</td>\n",
       "      <td>9.172091</td>\n",
       "      <td>2013</td>\n",
       "    </tr>\n",
       "  </tbody>\n",
       "</table>\n",
       "</div>"
      ],
      "text/plain": [
       "   Unnamed: 0        time     lsoa11       PM25  year\n",
       "0           0  2009-12-31  E01014869  11.056740  2009\n",
       "1           1  2010-12-31  E01014869   9.198227  2010\n",
       "2           2  2011-12-31  E01014869   9.872396  2011\n",
       "3           3  2012-12-31  E01014869   9.418056  2012\n",
       "4           4  2013-12-31  E01014869   9.172091  2013"
      ]
     },
     "execution_count": 17,
     "metadata": {},
     "output_type": "execute_result"
    }
   ],
   "source": [
    "AP_Yearly[:5]"
   ]
  },
  {
   "cell_type": "code",
   "execution_count": 18,
   "metadata": {
    "collapsed": true
   },
   "outputs": [],
   "source": [
    "AP_Yearly = AP_Yearly[['time', 'lsoa11', 'PM25', 'year']].dropna()"
   ]
  },
  {
   "cell_type": "markdown",
   "metadata": {},
   "source": [
    "## Merge PM2.5 and hospital admissions data"
   ]
  },
  {
   "cell_type": "code",
   "execution_count": 22,
   "metadata": {
    "collapsed": false
   },
   "outputs": [],
   "source": [
    "Circul_AP_Y = pd.merge(Circ_Yearly, AP_Yearly, on=['year','lsoa11'], how='inner')"
   ]
  },
  {
   "cell_type": "code",
   "execution_count": 23,
   "metadata": {
    "collapsed": false
   },
   "outputs": [
    {
     "data": {
      "text/html": [
       "<div>\n",
       "<table border=\"1\" class=\"dataframe\">\n",
       "  <thead>\n",
       "    <tr style=\"text-align: right;\">\n",
       "      <th></th>\n",
       "      <th>Disease</th>\n",
       "      <th>lsoa11</th>\n",
       "      <th>n</th>\n",
       "      <th>year</th>\n",
       "      <th>DSR</th>\n",
       "      <th>lcl</th>\n",
       "      <th>ucl</th>\n",
       "      <th>score</th>\n",
       "      <th>rank</th>\n",
       "      <th>decile</th>\n",
       "      <th>uncertainty</th>\n",
       "      <th>inverse_uncertainty</th>\n",
       "      <th>time</th>\n",
       "      <th>PM25</th>\n",
       "    </tr>\n",
       "  </thead>\n",
       "  <tbody>\n",
       "    <tr>\n",
       "      <th>0</th>\n",
       "      <td>All Circulatory</td>\n",
       "      <td>E01015272</td>\n",
       "      <td>29.0</td>\n",
       "      <td>2009</td>\n",
       "      <td>1379.819824</td>\n",
       "      <td>907.973938</td>\n",
       "      <td>2002.930054</td>\n",
       "      <td>11.430000</td>\n",
       "      <td>22492</td>\n",
       "      <td>7</td>\n",
       "      <td>1094.956116</td>\n",
       "      <td>0.000913</td>\n",
       "      <td>2009-12-31</td>\n",
       "      <td>15.233035</td>\n",
       "    </tr>\n",
       "    <tr>\n",
       "      <th>1</th>\n",
       "      <td>All Circulatory</td>\n",
       "      <td>E01015273</td>\n",
       "      <td>24.0</td>\n",
       "      <td>2009</td>\n",
       "      <td>2712.837646</td>\n",
       "      <td>1679.499756</td>\n",
       "      <td>4116.159180</td>\n",
       "      <td>33.619999</td>\n",
       "      <td>6665</td>\n",
       "      <td>3</td>\n",
       "      <td>2436.659424</td>\n",
       "      <td>0.000410</td>\n",
       "      <td>2009-12-31</td>\n",
       "      <td>15.614657</td>\n",
       "    </tr>\n",
       "    <tr>\n",
       "      <th>2</th>\n",
       "      <td>All Circulatory</td>\n",
       "      <td>E01015274</td>\n",
       "      <td>30.0</td>\n",
       "      <td>2009</td>\n",
       "      <td>2070.800049</td>\n",
       "      <td>1386.778442</td>\n",
       "      <td>2969.841064</td>\n",
       "      <td>20.290001</td>\n",
       "      <td>13991</td>\n",
       "      <td>5</td>\n",
       "      <td>1583.062622</td>\n",
       "      <td>0.000632</td>\n",
       "      <td>2009-12-31</td>\n",
       "      <td>15.820494</td>\n",
       "    </tr>\n",
       "    <tr>\n",
       "      <th>3</th>\n",
       "      <td>All Circulatory</td>\n",
       "      <td>E01015275</td>\n",
       "      <td>37.0</td>\n",
       "      <td>2009</td>\n",
       "      <td>3559.793457</td>\n",
       "      <td>2480.718994</td>\n",
       "      <td>4939.573242</td>\n",
       "      <td>19.780001</td>\n",
       "      <td>14447</td>\n",
       "      <td>5</td>\n",
       "      <td>2458.854248</td>\n",
       "      <td>0.000407</td>\n",
       "      <td>2009-12-31</td>\n",
       "      <td>15.245512</td>\n",
       "    </tr>\n",
       "    <tr>\n",
       "      <th>4</th>\n",
       "      <td>All Circulatory</td>\n",
       "      <td>E01015276</td>\n",
       "      <td>15.0</td>\n",
       "      <td>2009</td>\n",
       "      <td>1460.698853</td>\n",
       "      <td>791.767883</td>\n",
       "      <td>2447.211182</td>\n",
       "      <td>26.400000</td>\n",
       "      <td>10063</td>\n",
       "      <td>4</td>\n",
       "      <td>1655.443299</td>\n",
       "      <td>0.000604</td>\n",
       "      <td>2009-12-31</td>\n",
       "      <td>15.811707</td>\n",
       "    </tr>\n",
       "  </tbody>\n",
       "</table>\n",
       "</div>"
      ],
      "text/plain": [
       "           Disease     lsoa11     n  year          DSR          lcl  \\\n",
       "0  All Circulatory  E01015272  29.0  2009  1379.819824   907.973938   \n",
       "1  All Circulatory  E01015273  24.0  2009  2712.837646  1679.499756   \n",
       "2  All Circulatory  E01015274  30.0  2009  2070.800049  1386.778442   \n",
       "3  All Circulatory  E01015275  37.0  2009  3559.793457  2480.718994   \n",
       "4  All Circulatory  E01015276  15.0  2009  1460.698853   791.767883   \n",
       "\n",
       "           ucl      score   rank  decile  uncertainty  inverse_uncertainty  \\\n",
       "0  2002.930054  11.430000  22492       7  1094.956116             0.000913   \n",
       "1  4116.159180  33.619999   6665       3  2436.659424             0.000410   \n",
       "2  2969.841064  20.290001  13991       5  1583.062622             0.000632   \n",
       "3  4939.573242  19.780001  14447       5  2458.854248             0.000407   \n",
       "4  2447.211182  26.400000  10063       4  1655.443299             0.000604   \n",
       "\n",
       "         time       PM25  \n",
       "0  2009-12-31  15.233035  \n",
       "1  2009-12-31  15.614657  \n",
       "2  2009-12-31  15.820494  \n",
       "3  2009-12-31  15.245512  \n",
       "4  2009-12-31  15.811707  "
      ]
     },
     "execution_count": 23,
     "metadata": {},
     "output_type": "execute_result"
    }
   ],
   "source": [
    "Circul_AP_Y[:5]"
   ]
  },
  {
   "cell_type": "code",
   "execution_count": 19,
   "metadata": {
    "collapsed": true
   },
   "outputs": [],
   "source": [
    "Respir_AP_Y = pd.merge(Resp_Yearly, AP_Yearly, on=['year','lsoa11'], how='inner')"
   ]
  },
  {
   "cell_type": "code",
   "execution_count": 20,
   "metadata": {
    "collapsed": false
   },
   "outputs": [
    {
     "data": {
      "text/html": [
       "<div>\n",
       "<table border=\"1\" class=\"dataframe\">\n",
       "  <thead>\n",
       "    <tr style=\"text-align: right;\">\n",
       "      <th></th>\n",
       "      <th>Disease</th>\n",
       "      <th>lsoa11</th>\n",
       "      <th>n</th>\n",
       "      <th>year</th>\n",
       "      <th>DSR</th>\n",
       "      <th>lcl</th>\n",
       "      <th>ucl</th>\n",
       "      <th>score</th>\n",
       "      <th>rank</th>\n",
       "      <th>decile</th>\n",
       "      <th>uncertainty</th>\n",
       "      <th>inverse_uncertainty</th>\n",
       "      <th>time</th>\n",
       "      <th>PM25</th>\n",
       "    </tr>\n",
       "  </thead>\n",
       "  <tbody>\n",
       "    <tr>\n",
       "      <th>0</th>\n",
       "      <td>All Respiratory</td>\n",
       "      <td>E01015272</td>\n",
       "      <td>12.0</td>\n",
       "      <td>2009</td>\n",
       "      <td>738.839172</td>\n",
       "      <td>367.731018</td>\n",
       "      <td>1312.295532</td>\n",
       "      <td>11.430000</td>\n",
       "      <td>22492</td>\n",
       "      <td>7</td>\n",
       "      <td>944.564514</td>\n",
       "      <td>0.001059</td>\n",
       "      <td>2009-12-31</td>\n",
       "      <td>15.233035</td>\n",
       "    </tr>\n",
       "    <tr>\n",
       "      <th>1</th>\n",
       "      <td>All Respiratory</td>\n",
       "      <td>E01015273</td>\n",
       "      <td>25.0</td>\n",
       "      <td>2009</td>\n",
       "      <td>1500.134521</td>\n",
       "      <td>896.891479</td>\n",
       "      <td>2314.249512</td>\n",
       "      <td>33.619999</td>\n",
       "      <td>6665</td>\n",
       "      <td>3</td>\n",
       "      <td>1417.358033</td>\n",
       "      <td>0.000706</td>\n",
       "      <td>2009-12-31</td>\n",
       "      <td>15.614657</td>\n",
       "    </tr>\n",
       "    <tr>\n",
       "      <th>2</th>\n",
       "      <td>All Respiratory</td>\n",
       "      <td>E01015274</td>\n",
       "      <td>20.0</td>\n",
       "      <td>2009</td>\n",
       "      <td>1518.648193</td>\n",
       "      <td>919.455261</td>\n",
       "      <td>2356.864258</td>\n",
       "      <td>20.290001</td>\n",
       "      <td>13991</td>\n",
       "      <td>5</td>\n",
       "      <td>1437.408997</td>\n",
       "      <td>0.000696</td>\n",
       "      <td>2009-12-31</td>\n",
       "      <td>15.820494</td>\n",
       "    </tr>\n",
       "    <tr>\n",
       "      <th>3</th>\n",
       "      <td>All Respiratory</td>\n",
       "      <td>E01015275</td>\n",
       "      <td>28.0</td>\n",
       "      <td>2009</td>\n",
       "      <td>2429.869873</td>\n",
       "      <td>1573.156006</td>\n",
       "      <td>3566.883301</td>\n",
       "      <td>19.780001</td>\n",
       "      <td>14447</td>\n",
       "      <td>5</td>\n",
       "      <td>1993.727295</td>\n",
       "      <td>0.000502</td>\n",
       "      <td>2009-12-31</td>\n",
       "      <td>15.245512</td>\n",
       "    </tr>\n",
       "    <tr>\n",
       "      <th>4</th>\n",
       "      <td>All Respiratory</td>\n",
       "      <td>E01015276</td>\n",
       "      <td>32.0</td>\n",
       "      <td>2009</td>\n",
       "      <td>2487.559082</td>\n",
       "      <td>1609.623413</td>\n",
       "      <td>3631.377686</td>\n",
       "      <td>26.400000</td>\n",
       "      <td>10063</td>\n",
       "      <td>4</td>\n",
       "      <td>2021.754273</td>\n",
       "      <td>0.000495</td>\n",
       "      <td>2009-12-31</td>\n",
       "      <td>15.811707</td>\n",
       "    </tr>\n",
       "  </tbody>\n",
       "</table>\n",
       "</div>"
      ],
      "text/plain": [
       "           Disease     lsoa11     n  year          DSR          lcl  \\\n",
       "0  All Respiratory  E01015272  12.0  2009   738.839172   367.731018   \n",
       "1  All Respiratory  E01015273  25.0  2009  1500.134521   896.891479   \n",
       "2  All Respiratory  E01015274  20.0  2009  1518.648193   919.455261   \n",
       "3  All Respiratory  E01015275  28.0  2009  2429.869873  1573.156006   \n",
       "4  All Respiratory  E01015276  32.0  2009  2487.559082  1609.623413   \n",
       "\n",
       "           ucl      score   rank  decile  uncertainty  inverse_uncertainty  \\\n",
       "0  1312.295532  11.430000  22492       7   944.564514             0.001059   \n",
       "1  2314.249512  33.619999   6665       3  1417.358033             0.000706   \n",
       "2  2356.864258  20.290001  13991       5  1437.408997             0.000696   \n",
       "3  3566.883301  19.780001  14447       5  1993.727295             0.000502   \n",
       "4  3631.377686  26.400000  10063       4  2021.754273             0.000495   \n",
       "\n",
       "         time       PM25  \n",
       "0  2009-12-31  15.233035  \n",
       "1  2009-12-31  15.614657  \n",
       "2  2009-12-31  15.820494  \n",
       "3  2009-12-31  15.245512  \n",
       "4  2009-12-31  15.811707  "
      ]
     },
     "execution_count": 20,
     "metadata": {},
     "output_type": "execute_result"
    }
   ],
   "source": [
    "Respir_AP_Y[:5]"
   ]
  },
  {
   "cell_type": "code",
   "execution_count": null,
   "metadata": {
    "collapsed": false
   },
   "outputs": [],
   "source": [
    "# Conduct WLS regression on the data, specifying the weights as a numpy array\n",
    "model = sm.wls(\"DSR ~ PM25\", data=Circul_AP_Y, weights=np.array(Circul_AP_Y.inverse_uncertainty))"
   ]
  },
  {
   "cell_type": "code",
   "execution_count": 30,
   "metadata": {
    "collapsed": false
   },
   "outputs": [
    {
     "data": {
      "text/html": [
       "<table class=\"simpletable\">\n",
       "<caption>WLS Regression Results</caption>\n",
       "<tr>\n",
       "  <th>Dep. Variable:</th>           <td>DSR</td>       <th>  R-squared:         </th> <td>   0.007</td> \n",
       "</tr>\n",
       "<tr>\n",
       "  <th>Model:</th>                   <td>WLS</td>       <th>  Adj. R-squared:    </th> <td>   0.006</td> \n",
       "</tr>\n",
       "<tr>\n",
       "  <th>Method:</th>             <td>Least Squares</td>  <th>  F-statistic:       </th> <td>   53.63</td> \n",
       "</tr>\n",
       "<tr>\n",
       "  <th>Date:</th>             <td>Mon, 29 Aug 2016</td> <th>  Prob (F-statistic):</th> <td>2.65e-13</td> \n",
       "</tr>\n",
       "<tr>\n",
       "  <th>Time:</th>                 <td>20:22:33</td>     <th>  Log-Likelihood:    </th> <td> -64207.</td> \n",
       "</tr>\n",
       "<tr>\n",
       "  <th>No. Observations:</th>      <td>  8160</td>      <th>  AIC:               </th> <td>1.284e+05</td>\n",
       "</tr>\n",
       "<tr>\n",
       "  <th>Df Residuals:</th>          <td>  8158</td>      <th>  BIC:               </th> <td>1.284e+05</td>\n",
       "</tr>\n",
       "<tr>\n",
       "  <th>Df Model:</th>              <td>     1</td>      <th>                     </th>     <td> </td>    \n",
       "</tr>\n",
       "<tr>\n",
       "  <th>Covariance Type:</th>      <td>nonrobust</td>    <th>                     </th>     <td> </td>    \n",
       "</tr>\n",
       "</table>\n",
       "<table class=\"simpletable\">\n",
       "<tr>\n",
       "      <td></td>         <th>coef</th>     <th>std err</th>      <th>t</th>      <th>P>|t|</th> <th>[95.0% Conf. Int.]</th> \n",
       "</tr>\n",
       "<tr>\n",
       "  <th>Intercept</th> <td> 1376.4600</td> <td>   45.467</td> <td>   30.274</td> <td> 0.000</td> <td> 1287.333  1465.587</td>\n",
       "</tr>\n",
       "<tr>\n",
       "  <th>PM25</th>      <td>   25.3192</td> <td>    3.457</td> <td>    7.323</td> <td> 0.000</td> <td>   18.542    32.096</td>\n",
       "</tr>\n",
       "</table>\n",
       "<table class=\"simpletable\">\n",
       "<tr>\n",
       "  <th>Omnibus:</th>       <td>260.001</td> <th>  Durbin-Watson:     </th> <td>   1.512</td>\n",
       "</tr>\n",
       "<tr>\n",
       "  <th>Prob(Omnibus):</th> <td> 0.000</td>  <th>  Jarque-Bera (JB):  </th> <td> 422.032</td>\n",
       "</tr>\n",
       "<tr>\n",
       "  <th>Skew:</th>          <td> 0.293</td>  <th>  Prob(JB):          </th> <td>2.28e-92</td>\n",
       "</tr>\n",
       "<tr>\n",
       "  <th>Kurtosis:</th>      <td> 3.947</td>  <th>  Cond. No.          </th> <td>    87.9</td>\n",
       "</tr>\n",
       "</table>"
      ],
      "text/plain": [
       "<class 'statsmodels.iolib.summary.Summary'>\n",
       "\"\"\"\n",
       "                            WLS Regression Results                            \n",
       "==============================================================================\n",
       "Dep. Variable:                    DSR   R-squared:                       0.007\n",
       "Model:                            WLS   Adj. R-squared:                  0.006\n",
       "Method:                 Least Squares   F-statistic:                     53.63\n",
       "Date:                Mon, 29 Aug 2016   Prob (F-statistic):           2.65e-13\n",
       "Time:                        20:22:33   Log-Likelihood:                -64207.\n",
       "No. Observations:                8160   AIC:                         1.284e+05\n",
       "Df Residuals:                    8158   BIC:                         1.284e+05\n",
       "Df Model:                           1                                         \n",
       "Covariance Type:            nonrobust                                         \n",
       "==============================================================================\n",
       "                 coef    std err          t      P>|t|      [95.0% Conf. Int.]\n",
       "------------------------------------------------------------------------------\n",
       "Intercept   1376.4600     45.467     30.274      0.000      1287.333  1465.587\n",
       "PM25          25.3192      3.457      7.323      0.000        18.542    32.096\n",
       "==============================================================================\n",
       "Omnibus:                      260.001   Durbin-Watson:                   1.512\n",
       "Prob(Omnibus):                  0.000   Jarque-Bera (JB):              422.032\n",
       "Skew:                           0.293   Prob(JB):                     2.28e-92\n",
       "Kurtosis:                       3.947   Cond. No.                         87.9\n",
       "==============================================================================\n",
       "\n",
       "Warnings:\n",
       "[1] Standard Errors assume that the covariance matrix of the errors is correctly specified.\n",
       "\"\"\""
      ]
     },
     "execution_count": 30,
     "metadata": {},
     "output_type": "execute_result"
    }
   ],
   "source": [
    "Circ_results = model.fit()\n",
    "Circ_results.summary()"
   ]
  },
  {
   "cell_type": "code",
   "execution_count": 24,
   "metadata": {
    "collapsed": true
   },
   "outputs": [],
   "source": [
    "model = sm.wls(\"DSR ~ PM25\", data=Respir_AP_Y, weights=np.array(Respir_AP_Y.inverse_uncertainty))"
   ]
  },
  {
   "cell_type": "code",
   "execution_count": 25,
   "metadata": {
    "collapsed": false
   },
   "outputs": [
    {
     "data": {
      "text/html": [
       "<table class=\"simpletable\">\n",
       "<caption>WLS Regression Results</caption>\n",
       "<tr>\n",
       "  <th>Dep. Variable:</th>           <td>DSR</td>       <th>  R-squared:         </th> <td>   0.002</td> \n",
       "</tr>\n",
       "<tr>\n",
       "  <th>Model:</th>                   <td>WLS</td>       <th>  Adj. R-squared:    </th> <td>   0.002</td> \n",
       "</tr>\n",
       "<tr>\n",
       "  <th>Method:</th>             <td>Least Squares</td>  <th>  F-statistic:       </th> <td>   17.92</td> \n",
       "</tr>\n",
       "<tr>\n",
       "  <th>Date:</th>             <td>Sat, 10 Sep 2016</td> <th>  Prob (F-statistic):</th> <td>2.33e-05</td> \n",
       "</tr>\n",
       "<tr>\n",
       "  <th>Time:</th>                 <td>22:37:25</td>     <th>  Log-Likelihood:    </th> <td> -64870.</td> \n",
       "</tr>\n",
       "<tr>\n",
       "  <th>No. Observations:</th>      <td>  8184</td>      <th>  AIC:               </th> <td>1.297e+05</td>\n",
       "</tr>\n",
       "<tr>\n",
       "  <th>Df Residuals:</th>          <td>  8182</td>      <th>  BIC:               </th> <td>1.298e+05</td>\n",
       "</tr>\n",
       "<tr>\n",
       "  <th>Df Model:</th>              <td>     1</td>      <th>                     </th>     <td> </td>    \n",
       "</tr>\n",
       "<tr>\n",
       "  <th>Covariance Type:</th>      <td>nonrobust</td>    <th>                     </th>     <td> </td>    \n",
       "</tr>\n",
       "</table>\n",
       "<table class=\"simpletable\">\n",
       "<tr>\n",
       "      <td></td>         <th>coef</th>     <th>std err</th>      <th>t</th>      <th>P>|t|</th> <th>[95.0% Conf. Int.]</th> \n",
       "</tr>\n",
       "<tr>\n",
       "  <th>Intercept</th> <td> 1182.1285</td> <td>   47.796</td> <td>   24.733</td> <td> 0.000</td> <td> 1088.436  1275.821</td>\n",
       "</tr>\n",
       "<tr>\n",
       "  <th>PM25</th>      <td>   15.3855</td> <td>    3.635</td> <td>    4.233</td> <td> 0.000</td> <td>    8.260    22.511</td>\n",
       "</tr>\n",
       "</table>\n",
       "<table class=\"simpletable\">\n",
       "<tr>\n",
       "  <th>Omnibus:</th>       <td>564.564</td> <th>  Durbin-Watson:     </th> <td>   1.433</td> \n",
       "</tr>\n",
       "<tr>\n",
       "  <th>Prob(Omnibus):</th> <td> 0.000</td>  <th>  Jarque-Bera (JB):  </th> <td> 824.487</td> \n",
       "</tr>\n",
       "<tr>\n",
       "  <th>Skew:</th>          <td> 0.578</td>  <th>  Prob(JB):          </th> <td>9.22e-180</td>\n",
       "</tr>\n",
       "<tr>\n",
       "  <th>Kurtosis:</th>      <td> 4.040</td>  <th>  Cond. No.          </th> <td>    87.5</td> \n",
       "</tr>\n",
       "</table>"
      ],
      "text/plain": [
       "<class 'statsmodels.iolib.summary.Summary'>\n",
       "\"\"\"\n",
       "                            WLS Regression Results                            \n",
       "==============================================================================\n",
       "Dep. Variable:                    DSR   R-squared:                       0.002\n",
       "Model:                            WLS   Adj. R-squared:                  0.002\n",
       "Method:                 Least Squares   F-statistic:                     17.92\n",
       "Date:                Sat, 10 Sep 2016   Prob (F-statistic):           2.33e-05\n",
       "Time:                        22:37:25   Log-Likelihood:                -64870.\n",
       "No. Observations:                8184   AIC:                         1.297e+05\n",
       "Df Residuals:                    8182   BIC:                         1.298e+05\n",
       "Df Model:                           1                                         \n",
       "Covariance Type:            nonrobust                                         \n",
       "==============================================================================\n",
       "                 coef    std err          t      P>|t|      [95.0% Conf. Int.]\n",
       "------------------------------------------------------------------------------\n",
       "Intercept   1182.1285     47.796     24.733      0.000      1088.436  1275.821\n",
       "PM25          15.3855      3.635      4.233      0.000         8.260    22.511\n",
       "==============================================================================\n",
       "Omnibus:                      564.564   Durbin-Watson:                   1.433\n",
       "Prob(Omnibus):                  0.000   Jarque-Bera (JB):              824.487\n",
       "Skew:                           0.578   Prob(JB):                    9.22e-180\n",
       "Kurtosis:                       4.040   Cond. No.                         87.5\n",
       "==============================================================================\n",
       "\n",
       "Warnings:\n",
       "[1] Standard Errors assume that the covariance matrix of the errors is correctly specified.\n",
       "\"\"\""
      ]
     },
     "execution_count": 25,
     "metadata": {},
     "output_type": "execute_result"
    }
   ],
   "source": [
    "Resp_results = model.fit()\n",
    "Resp_results.summary()"
   ]
  },
  {
   "cell_type": "code",
   "execution_count": null,
   "metadata": {
    "collapsed": true
   },
   "outputs": [],
   "source": []
  }
 ],
 "metadata": {
  "kernelspec": {
   "display_name": "Python 3",
   "language": "python",
   "name": "python3"
  },
  "language_info": {
   "codemirror_mode": {
    "name": "ipython",
    "version": 3
   },
   "file_extension": ".py",
   "mimetype": "text/x-python",
   "name": "python",
   "nbconvert_exporter": "python",
   "pygments_lexer": "ipython3",
   "version": "3.5.1"
  }
 },
 "nbformat": 4,
 "nbformat_minor": 0
}
