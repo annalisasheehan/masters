{
 "cells": [
  {
   "cell_type": "code",
   "execution_count": 4,
   "metadata": {
    "collapsed": true
   },
   "outputs": [],
   "source": [
    "import pandas as pd\n",
    "from statsmodels.formula.api import ols\n",
    "import statsmodels.api as sm\n",
    "from scipy import stats"
   ]
  },
  {
   "cell_type": "code",
   "execution_count": 2,
   "metadata": {
    "collapsed": true
   },
   "outputs": [],
   "source": [
    "Circulatory_AP = pd.read_csv(r'D:\\Annies_Dissertation\\Analysis\\Regression\\HES\\Circul_AP_monthly.csv')"
   ]
  },
  {
   "cell_type": "code",
   "execution_count": 3,
   "metadata": {
    "collapsed": true
   },
   "outputs": [],
   "source": [
    "Respiratory_AP = pd.read_csv(r'D:\\Annies_Dissertation\\Analysis\\Regression\\HES\\Respir_AP_monthly.csv')"
   ]
  },
  {
   "cell_type": "code",
   "execution_count": 6,
   "metadata": {
    "collapsed": false
   },
   "outputs": [
    {
     "data": {
      "text/html": [
       "<div>\n",
       "<table border=\"1\" class=\"dataframe\">\n",
       "  <thead>\n",
       "    <tr style=\"text-align: right;\">\n",
       "      <th></th>\n",
       "      <th>Unnamed: 0</th>\n",
       "      <th>Disease</th>\n",
       "      <th>year</th>\n",
       "      <th>month</th>\n",
       "      <th>lsoa11</th>\n",
       "      <th>n</th>\n",
       "      <th>DSR</th>\n",
       "      <th>lcl</th>\n",
       "      <th>ucl</th>\n",
       "      <th>score</th>\n",
       "      <th>rank</th>\n",
       "      <th>decile</th>\n",
       "      <th>time</th>\n",
       "      <th>PM25</th>\n",
       "    </tr>\n",
       "  </thead>\n",
       "  <tbody>\n",
       "    <tr>\n",
       "      <th>0</th>\n",
       "      <td>0</td>\n",
       "      <td>All Circulatory</td>\n",
       "      <td>2009</td>\n",
       "      <td>1</td>\n",
       "      <td>E01015272</td>\n",
       "      <td>NaN</td>\n",
       "      <td>69.247604</td>\n",
       "      <td>8.247776</td>\n",
       "      <td>250.557617</td>\n",
       "      <td>11.430000</td>\n",
       "      <td>22492</td>\n",
       "      <td>7</td>\n",
       "      <td>2009-01-31</td>\n",
       "      <td>11.609479</td>\n",
       "    </tr>\n",
       "    <tr>\n",
       "      <th>1</th>\n",
       "      <td>1</td>\n",
       "      <td>All Circulatory</td>\n",
       "      <td>2009</td>\n",
       "      <td>1</td>\n",
       "      <td>E01015273</td>\n",
       "      <td>NaN</td>\n",
       "      <td>147.841522</td>\n",
       "      <td>3.743035</td>\n",
       "      <td>823.720154</td>\n",
       "      <td>33.619999</td>\n",
       "      <td>6665</td>\n",
       "      <td>3</td>\n",
       "      <td>2009-01-31</td>\n",
       "      <td>11.410336</td>\n",
       "    </tr>\n",
       "    <tr>\n",
       "      <th>2</th>\n",
       "      <td>2</td>\n",
       "      <td>All Circulatory</td>\n",
       "      <td>2009</td>\n",
       "      <td>1</td>\n",
       "      <td>E01015274</td>\n",
       "      <td>NaN</td>\n",
       "      <td>187.446503</td>\n",
       "      <td>38.159660</td>\n",
       "      <td>549.000244</td>\n",
       "      <td>20.290001</td>\n",
       "      <td>13991</td>\n",
       "      <td>5</td>\n",
       "      <td>2009-01-31</td>\n",
       "      <td>11.650494</td>\n",
       "    </tr>\n",
       "  </tbody>\n",
       "</table>\n",
       "</div>"
      ],
      "text/plain": [
       "   Unnamed: 0          Disease  year  month     lsoa11   n         DSR  \\\n",
       "0           0  All Circulatory  2009      1  E01015272 NaN   69.247604   \n",
       "1           1  All Circulatory  2009      1  E01015273 NaN  147.841522   \n",
       "2           2  All Circulatory  2009      1  E01015274 NaN  187.446503   \n",
       "\n",
       "         lcl         ucl      score   rank  decile        time       PM25  \n",
       "0   8.247776  250.557617  11.430000  22492       7  2009-01-31  11.609479  \n",
       "1   3.743035  823.720154  33.619999   6665       3  2009-01-31  11.410336  \n",
       "2  38.159660  549.000244  20.290001  13991       5  2009-01-31  11.650494  "
      ]
     },
     "execution_count": 6,
     "metadata": {},
     "output_type": "execute_result"
    }
   ],
   "source": [
    "Circulatory_AP[:3]"
   ]
  },
  {
   "cell_type": "code",
   "execution_count": 7,
   "metadata": {
    "collapsed": false
   },
   "outputs": [
    {
     "data": {
      "text/html": [
       "<div>\n",
       "<table border=\"1\" class=\"dataframe\">\n",
       "  <thead>\n",
       "    <tr style=\"text-align: right;\">\n",
       "      <th></th>\n",
       "      <th>Unnamed: 0</th>\n",
       "      <th>Disease</th>\n",
       "      <th>year</th>\n",
       "      <th>month</th>\n",
       "      <th>lsoa11</th>\n",
       "      <th>n</th>\n",
       "      <th>DSR</th>\n",
       "      <th>lcl</th>\n",
       "      <th>ucl</th>\n",
       "      <th>score</th>\n",
       "      <th>rank</th>\n",
       "      <th>decile</th>\n",
       "      <th>time</th>\n",
       "      <th>PM25</th>\n",
       "    </tr>\n",
       "  </thead>\n",
       "  <tbody>\n",
       "    <tr>\n",
       "      <th>0</th>\n",
       "      <td>0</td>\n",
       "      <td>All Respiratory</td>\n",
       "      <td>2009</td>\n",
       "      <td>1</td>\n",
       "      <td>E01015274</td>\n",
       "      <td>NaN</td>\n",
       "      <td>78.530869</td>\n",
       "      <td>1.988227</td>\n",
       "      <td>437.546020</td>\n",
       "      <td>20.290001</td>\n",
       "      <td>13991</td>\n",
       "      <td>5</td>\n",
       "      <td>2009-01-31</td>\n",
       "      <td>11.650494</td>\n",
       "    </tr>\n",
       "    <tr>\n",
       "      <th>1</th>\n",
       "      <td>1</td>\n",
       "      <td>All Respiratory</td>\n",
       "      <td>2009</td>\n",
       "      <td>1</td>\n",
       "      <td>E01015275</td>\n",
       "      <td>NaN</td>\n",
       "      <td>198.915909</td>\n",
       "      <td>20.564419</td>\n",
       "      <td>729.030701</td>\n",
       "      <td>19.780001</td>\n",
       "      <td>14447</td>\n",
       "      <td>5</td>\n",
       "      <td>2009-01-31</td>\n",
       "      <td>11.682238</td>\n",
       "    </tr>\n",
       "    <tr>\n",
       "      <th>2</th>\n",
       "      <td>2</td>\n",
       "      <td>All Respiratory</td>\n",
       "      <td>2009</td>\n",
       "      <td>1</td>\n",
       "      <td>E01015276</td>\n",
       "      <td>8.0</td>\n",
       "      <td>519.371643</td>\n",
       "      <td>196.146973</td>\n",
       "      <td>1071.320923</td>\n",
       "      <td>26.400000</td>\n",
       "      <td>10063</td>\n",
       "      <td>4</td>\n",
       "      <td>2009-01-31</td>\n",
       "      <td>11.347145</td>\n",
       "    </tr>\n",
       "  </tbody>\n",
       "</table>\n",
       "</div>"
      ],
      "text/plain": [
       "   Unnamed: 0          Disease  year  month     lsoa11    n         DSR  \\\n",
       "0           0  All Respiratory  2009      1  E01015274  NaN   78.530869   \n",
       "1           1  All Respiratory  2009      1  E01015275  NaN  198.915909   \n",
       "2           2  All Respiratory  2009      1  E01015276  8.0  519.371643   \n",
       "\n",
       "          lcl          ucl      score   rank  decile        time       PM25  \n",
       "0    1.988227   437.546020  20.290001  13991       5  2009-01-31  11.650494  \n",
       "1   20.564419   729.030701  19.780001  14447       5  2009-01-31  11.682238  \n",
       "2  196.146973  1071.320923  26.400000  10063       4  2009-01-31  11.347145  "
      ]
     },
     "execution_count": 7,
     "metadata": {},
     "output_type": "execute_result"
    }
   ],
   "source": [
    "Respiratory_AP[:3]"
   ]
  },
  {
   "cell_type": "code",
   "execution_count": 8,
   "metadata": {
    "collapsed": false
   },
   "outputs": [
    {
     "data": {
      "text/html": [
       "<table class=\"simpletable\">\n",
       "<caption>OLS Regression Results</caption>\n",
       "<tr>\n",
       "  <th>Dep. Variable:</th>           <td>DSR</td>       <th>  R-squared:         </th>  <td>   0.567</td>  \n",
       "</tr>\n",
       "<tr>\n",
       "  <th>Model:</th>                   <td>OLS</td>       <th>  Adj. R-squared:    </th>  <td>   0.567</td>  \n",
       "</tr>\n",
       "<tr>\n",
       "  <th>Method:</th>             <td>Least Squares</td>  <th>  F-statistic:       </th>  <td>1.170e+05</td> \n",
       "</tr>\n",
       "<tr>\n",
       "  <th>Date:</th>             <td>Wed, 24 Aug 2016</td> <th>  Prob (F-statistic):</th>   <td>  0.00</td>   \n",
       "</tr>\n",
       "<tr>\n",
       "  <th>Time:</th>                 <td>13:12:38</td>     <th>  Log-Likelihood:    </th> <td>-5.7634e+05</td>\n",
       "</tr>\n",
       "<tr>\n",
       "  <th>No. Observations:</th>      <td> 89376</td>      <th>  AIC:               </th>  <td>1.153e+06</td> \n",
       "</tr>\n",
       "<tr>\n",
       "  <th>Df Residuals:</th>          <td> 89375</td>      <th>  BIC:               </th>  <td>1.153e+06</td> \n",
       "</tr>\n",
       "<tr>\n",
       "  <th>Df Model:</th>              <td>     1</td>      <th>                     </th>      <td> </td>     \n",
       "</tr>\n",
       "<tr>\n",
       "  <th>Covariance Type:</th>      <td>nonrobust</td>    <th>                     </th>      <td> </td>     \n",
       "</tr>\n",
       "</table>\n",
       "<table class=\"simpletable\">\n",
       "<tr>\n",
       "    <td></td>      <th>coef</th>     <th>std err</th>      <th>t</th>      <th>P>|t|</th> <th>[95.0% Conf. Int.]</th> \n",
       "</tr>\n",
       "<tr>\n",
       "  <th>PM25</th> <td>   12.9400</td> <td>    0.038</td> <td>  342.022</td> <td> 0.000</td> <td>   12.866    13.014</td>\n",
       "</tr>\n",
       "</table>\n",
       "<table class=\"simpletable\">\n",
       "<tr>\n",
       "  <th>Omnibus:</th>       <td>99085.228</td> <th>  Durbin-Watson:     </th>   <td>   1.619</td>  \n",
       "</tr>\n",
       "<tr>\n",
       "  <th>Prob(Omnibus):</th>  <td> 0.000</td>   <th>  Jarque-Bera (JB):  </th> <td>80016455.627</td>\n",
       "</tr>\n",
       "<tr>\n",
       "  <th>Skew:</th>           <td> 4.901</td>   <th>  Prob(JB):          </th>   <td>    0.00</td>  \n",
       "</tr>\n",
       "<tr>\n",
       "  <th>Kurtosis:</th>       <td>149.255</td>  <th>  Cond. No.          </th>   <td>    1.00</td>  \n",
       "</tr>\n",
       "</table>"
      ],
      "text/plain": [
       "<class 'statsmodels.iolib.summary.Summary'>\n",
       "\"\"\"\n",
       "                            OLS Regression Results                            \n",
       "==============================================================================\n",
       "Dep. Variable:                    DSR   R-squared:                       0.567\n",
       "Model:                            OLS   Adj. R-squared:                  0.567\n",
       "Method:                 Least Squares   F-statistic:                 1.170e+05\n",
       "Date:                Wed, 24 Aug 2016   Prob (F-statistic):               0.00\n",
       "Time:                        13:12:38   Log-Likelihood:            -5.7634e+05\n",
       "No. Observations:               89376   AIC:                         1.153e+06\n",
       "Df Residuals:                   89375   BIC:                         1.153e+06\n",
       "Df Model:                           1                                         \n",
       "Covariance Type:            nonrobust                                         \n",
       "==============================================================================\n",
       "                 coef    std err          t      P>|t|      [95.0% Conf. Int.]\n",
       "------------------------------------------------------------------------------\n",
       "PM25          12.9400      0.038    342.022      0.000        12.866    13.014\n",
       "==============================================================================\n",
       "Omnibus:                    99085.228   Durbin-Watson:                   1.619\n",
       "Prob(Omnibus):                  0.000   Jarque-Bera (JB):         80016455.627\n",
       "Skew:                           4.901   Prob(JB):                         0.00\n",
       "Kurtosis:                     149.255   Cond. No.                         1.00\n",
       "==============================================================================\n",
       "\n",
       "Warnings:\n",
       "[1] Standard Errors assume that the covariance matrix of the errors is correctly specified.\n",
       "\"\"\""
      ]
     },
     "execution_count": 8,
     "metadata": {},
     "output_type": "execute_result"
    }
   ],
   "source": [
    "model = sm.OLS(Circulatory_AP.DSR, Circulatory_AP.PM25)\n",
    "results = model.fit()\n",
    "results.summary()"
   ]
  },
  {
   "cell_type": "code",
   "execution_count": 10,
   "metadata": {
    "collapsed": false
   },
   "outputs": [
    {
     "data": {
      "text/html": [
       "<table class=\"simpletable\">\n",
       "<caption>OLS Regression Results</caption>\n",
       "<tr>\n",
       "  <th>Dep. Variable:</th>           <td>DSR</td>       <th>  R-squared:         </th>  <td>   0.000</td>  \n",
       "</tr>\n",
       "<tr>\n",
       "  <th>Model:</th>                   <td>OLS</td>       <th>  Adj. R-squared:    </th>  <td>  -0.000</td>  \n",
       "</tr>\n",
       "<tr>\n",
       "  <th>Method:</th>             <td>Least Squares</td>  <th>  F-statistic:       </th>  <td> 0.03883</td>  \n",
       "</tr>\n",
       "<tr>\n",
       "  <th>Date:</th>             <td>Wed, 24 Aug 2016</td> <th>  Prob (F-statistic):</th>   <td> 0.844</td>   \n",
       "</tr>\n",
       "<tr>\n",
       "  <th>Time:</th>                 <td>13:14:02</td>     <th>  Log-Likelihood:    </th> <td>-5.6826e+05</td>\n",
       "</tr>\n",
       "<tr>\n",
       "  <th>No. Observations:</th>      <td> 89376</td>      <th>  AIC:               </th>  <td>1.137e+06</td> \n",
       "</tr>\n",
       "<tr>\n",
       "  <th>Df Residuals:</th>          <td> 89374</td>      <th>  BIC:               </th>  <td>1.137e+06</td> \n",
       "</tr>\n",
       "<tr>\n",
       "  <th>Df Model:</th>              <td>     1</td>      <th>                     </th>      <td> </td>     \n",
       "</tr>\n",
       "<tr>\n",
       "  <th>Covariance Type:</th>      <td>nonrobust</td>    <th>                     </th>      <td> </td>     \n",
       "</tr>\n",
       "</table>\n",
       "<table class=\"simpletable\">\n",
       "<tr>\n",
       "      <td></td>         <th>coef</th>     <th>std err</th>      <th>t</th>      <th>P>|t|</th> <th>[95.0% Conf. Int.]</th> \n",
       "</tr>\n",
       "<tr>\n",
       "  <th>Intercept</th> <td>  185.3637</td> <td>    1.392</td> <td>  133.141</td> <td> 0.000</td> <td>  182.635   188.092</td>\n",
       "</tr>\n",
       "<tr>\n",
       "  <th>PM25</th>      <td>    0.0203</td> <td>    0.103</td> <td>    0.197</td> <td> 0.844</td> <td>   -0.182     0.222</td>\n",
       "</tr>\n",
       "</table>\n",
       "<table class=\"simpletable\">\n",
       "<tr>\n",
       "  <th>Omnibus:</th>       <td>113392.242</td> <th>  Durbin-Watson:     </th>   <td>   1.912</td>   \n",
       "</tr>\n",
       "<tr>\n",
       "  <th>Prob(Omnibus):</th>   <td> 0.000</td>   <th>  Jarque-Bera (JB):  </th> <td>148179541.660</td>\n",
       "</tr>\n",
       "<tr>\n",
       "  <th>Skew:</th>            <td> 6.238</td>   <th>  Prob(JB):          </th>   <td>    0.00</td>   \n",
       "</tr>\n",
       "<tr>\n",
       "  <th>Kurtosis:</th>        <td>202.085</td>  <th>  Cond. No.          </th>   <td>    40.5</td>   \n",
       "</tr>\n",
       "</table>"
      ],
      "text/plain": [
       "<class 'statsmodels.iolib.summary.Summary'>\n",
       "\"\"\"\n",
       "                            OLS Regression Results                            \n",
       "==============================================================================\n",
       "Dep. Variable:                    DSR   R-squared:                       0.000\n",
       "Model:                            OLS   Adj. R-squared:                 -0.000\n",
       "Method:                 Least Squares   F-statistic:                   0.03883\n",
       "Date:                Wed, 24 Aug 2016   Prob (F-statistic):              0.844\n",
       "Time:                        13:14:02   Log-Likelihood:            -5.6826e+05\n",
       "No. Observations:               89376   AIC:                         1.137e+06\n",
       "Df Residuals:                   89374   BIC:                         1.137e+06\n",
       "Df Model:                           1                                         \n",
       "Covariance Type:            nonrobust                                         \n",
       "==============================================================================\n",
       "                 coef    std err          t      P>|t|      [95.0% Conf. Int.]\n",
       "------------------------------------------------------------------------------\n",
       "Intercept    185.3637      1.392    133.141      0.000       182.635   188.092\n",
       "PM25           0.0203      0.103      0.197      0.844        -0.182     0.222\n",
       "==============================================================================\n",
       "Omnibus:                   113392.242   Durbin-Watson:                   1.912\n",
       "Prob(Omnibus):                  0.000   Jarque-Bera (JB):        148179541.660\n",
       "Skew:                           6.238   Prob(JB):                         0.00\n",
       "Kurtosis:                     202.085   Cond. No.                         40.5\n",
       "==============================================================================\n",
       "\n",
       "Warnings:\n",
       "[1] Standard Errors assume that the covariance matrix of the errors is correctly specified.\n",
       "\"\"\""
      ]
     },
     "execution_count": 10,
     "metadata": {},
     "output_type": "execute_result"
    }
   ],
   "source": [
    "model = ols(\"DSR ~ PM25\", data=Circulatory_AP)\n",
    "Ols_Results = model.fit()\n",
    "Ols_Results.summary()"
   ]
  },
  {
   "cell_type": "code",
   "execution_count": 5,
   "metadata": {
    "collapsed": true
   },
   "outputs": [],
   "source": [
    "slope, intercept, r_value, p_value, std_err = stats.linregress(Circulatory_AP.DSR, Circulatory_AP.PM25)"
   ]
  },
  {
   "cell_type": "code",
   "execution_count": 7,
   "metadata": {
    "collapsed": false
   },
   "outputs": [
    {
     "name": "stdout",
     "output_type": "stream",
     "text": [
      "r-squared: 4.34438836289e-07\n"
     ]
    }
   ],
   "source": [
    "print('r-squared:', r_value**2)"
   ]
  },
  {
   "cell_type": "code",
   "execution_count": null,
   "metadata": {
    "collapsed": true
   },
   "outputs": [],
   "source": []
  }
 ],
 "metadata": {
  "kernelspec": {
   "display_name": "Python 3",
   "language": "python",
   "name": "python3"
  },
  "language_info": {
   "codemirror_mode": {
    "name": "ipython",
    "version": 3
   },
   "file_extension": ".py",
   "mimetype": "text/x-python",
   "name": "python",
   "nbconvert_exporter": "python",
   "pygments_lexer": "ipython3",
   "version": "3.5.1"
  }
 },
 "nbformat": 4,
 "nbformat_minor": 0
}
