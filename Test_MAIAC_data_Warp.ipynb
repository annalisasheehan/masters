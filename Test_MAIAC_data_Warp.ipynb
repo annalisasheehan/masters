{
 "cells": [
  {
   "cell_type": "markdown",
   "metadata": {},
   "source": [
    "# Import relevant libraries"
   ]
  },
  {
   "cell_type": "code",
   "execution_count": 1,
   "metadata": {
    "collapsed": true
   },
   "outputs": [],
   "source": [
    "import os\n",
    "import gdal\n",
    "import glob"
   ]
  },
  {
   "cell_type": "markdown",
   "metadata": {},
   "source": [
    "# Translate Lat and Lon files\n",
    "- Find out information about the lat lon file\n",
    "- Using the gdal_translate tool convert the lat and lon hdr files into vrt format"
   ]
  },
  {
   "cell_type": "code",
   "execution_count": 17,
   "metadata": {
    "collapsed": false
   },
   "outputs": [
    {
     "name": "stdout",
     "output_type": "stream",
     "text": [
      "Driver: HDF4/Hierarchical Data Format Release 4\n",
      "Files: D:\\Annies_Dissertation\\MAIAC_Test\\2014\\MAIACLatlon.h00v01.hdf\n",
      "Size is 512, 512\n",
      "Coordinate System is `'\n",
      "Metadata:\n",
      "  HDFEOSVersion=HDFEOS_V2.12\n",
      "Subdatasets:\n",
      "  SUBDATASET_1_NAME=HDF4_EOS:EOS_GRID:\"D:\\Annies_Dissertation\\MAIAC_Test\\2014\\MAIACLatlon.h00v01.hdf\":latlon:lat\n",
      "  SUBDATASET_1_DESC=[1200x1200] lat latlon (32-bit floating-point)\n",
      "  SUBDATASET_2_NAME=HDF4_EOS:EOS_GRID:\"D:\\Annies_Dissertation\\MAIAC_Test\\2014\\MAIACLatlon.h00v01.hdf\":latlon:lon\n",
      "  SUBDATASET_2_DESC=[1200x1200] lon latlon (32-bit floating-point)\n",
      "Corner Coordinates:\n",
      "Upper Left  (    0.0,    0.0)\n",
      "Lower Left  (    0.0,  512.0)\n",
      "Upper Right (  512.0,    0.0)\n",
      "Lower Right (  512.0,  512.0)\n",
      "Center      (  256.0,  256.0)\n",
      "\n"
     ]
    }
   ],
   "source": [
    "latlon_info = gdal.Info(r'D:\\Annies_Dissertation\\MAIAC_Test\\2014\\MAIACLatlon.h00v01.hdf')\n",
    "print(latlon_info)"
   ]
  },
  {
   "cell_type": "code",
   "execution_count": 18,
   "metadata": {
    "collapsed": false
   },
   "outputs": [
    {
     "data": {
      "text/plain": [
       "<osgeo.gdal.Dataset; proxy of <Swig Object of type 'GDALDatasetShadow *' at 0x00000099A37B0D80> >"
      ]
     },
     "execution_count": 18,
     "metadata": {},
     "output_type": "execute_result"
    }
   ],
   "source": [
    "gdal.Translate(r\"D:\\Annies_Dissertation\\MAIAC_Test\\2014\\h00v01_lat.vrt\", \n",
    "               r'HDF4_EOS:EOS_GRID:\"D:\\Annies_Dissertation\\MAIAC_Test\\2014\\MAIACLatlon.h00v01.hdf\":latlon:lat', format = 'VRT' )"
   ]
  },
  {
   "cell_type": "code",
   "execution_count": 19,
   "metadata": {
    "collapsed": false
   },
   "outputs": [
    {
     "data": {
      "text/plain": [
       "<osgeo.gdal.Dataset; proxy of <Swig Object of type 'GDALDatasetShadow *' at 0x00000099A37B0CF0> >"
      ]
     },
     "execution_count": 19,
     "metadata": {},
     "output_type": "execute_result"
    }
   ],
   "source": [
    "gdal.Translate(r\"D:\\Annies_Dissertation\\MAIAC_Test\\2014\\h00v01_lon.vrt\", \n",
    "               r'HDF4_EOS:EOS_GRID:\"D:\\Annies_Dissertation\\MAIAC_Test\\2014\\MAIACLatlon.h00v01.hdf\":latlon:lon', format = 'VRT' )"
   ]
  },
  {
   "cell_type": "markdown",
   "metadata": {},
   "source": [
    "# Warp the AOT images\n",
    "- get a list of names of HDF files\n",
    "- for each file name in list write data.vrt (change file name in data.vrt for each of the files)\n",
    "    - use os.system or os.path to write a 'data.vrt' text file in xml language \n",
    "    - open(\"data.vrt\")\n",
    "- run gdal_warp and rename projected*.tif"
   ]
  },
  {
   "cell_type": "markdown",
   "metadata": {},
   "source": [
    "# Get a list of files"
   ]
  },
  {
   "cell_type": "code",
   "execution_count": 2,
   "metadata": {
    "collapsed": false
   },
   "outputs": [
    {
     "name": "stdout",
     "output_type": "stream",
     "text": [
      "['D:\\\\Annies_Dissertation\\\\MAIAC_Test\\\\2014\\\\MAIACAAOT.h00v01.20140011255.hdf', 'D:\\\\Annies_Dissertation\\\\MAIAC_Test\\\\2014\\\\MAIACAAOT.h00v01.20140011430.hdf', 'D:\\\\Annies_Dissertation\\\\MAIAC_Test\\\\2014\\\\MAIACAAOT.h00v01.20140021200.hdf', 'D:\\\\Annies_Dissertation\\\\MAIAC_Test\\\\2014\\\\MAIACAAOT.h00v01.20140021335.hdf', 'D:\\\\Annies_Dissertation\\\\MAIAC_Test\\\\2014\\\\MAIACAAOT.h00v01.20140031240.hdf', 'D:\\\\Annies_Dissertation\\\\MAIAC_Test\\\\2014\\\\MAIACAAOT.h00v01.20140031420.hdf', 'D:\\\\Annies_Dissertation\\\\MAIAC_Test\\\\2014\\\\MAIACAAOT.h00v01.20140041145.hdf', 'D:\\\\Annies_Dissertation\\\\MAIAC_Test\\\\2014\\\\MAIACAAOT.h00v01.20140041325.hdf', 'D:\\\\Annies_Dissertation\\\\MAIAC_Test\\\\2014\\\\MAIACAAOT.h00v01.20140041505.hdf', 'D:\\\\Annies_Dissertation\\\\MAIAC_Test\\\\2014\\\\MAIACAAOT.h00v01.20140051230.hdf', 'D:\\\\Annies_Dissertation\\\\MAIAC_Test\\\\2014\\\\MAIACAAOT.h00v01.20140051410.hdf', 'D:\\\\Annies_Dissertation\\\\MAIAC_Test\\\\2014\\\\MAIACAAOT.h00v01.20140061135.hdf', 'D:\\\\Annies_Dissertation\\\\MAIAC_Test\\\\2014\\\\MAIACAAOT.h00v01.20140061310.hdf', 'D:\\\\Annies_Dissertation\\\\MAIAC_Test\\\\2014\\\\MAIACAAOT.h00v01.20140061450.hdf', 'D:\\\\Annies_Dissertation\\\\MAIAC_Test\\\\2014\\\\MAIACAAOT.h00v01.20140071215.hdf', 'D:\\\\Annies_Dissertation\\\\MAIAC_Test\\\\2014\\\\MAIACAAOT.h00v01.20140071355.hdf', 'D:\\\\Annies_Dissertation\\\\MAIAC_Test\\\\2014\\\\MAIACAAOT.h00v01.20140081300.hdf', 'D:\\\\Annies_Dissertation\\\\MAIAC_Test\\\\2014\\\\MAIACAAOT.h00v01.20140081440.hdf', 'D:\\\\Annies_Dissertation\\\\MAIAC_Test\\\\2014\\\\MAIACAAOT.h00v01.20140091205.hdf', 'D:\\\\Annies_Dissertation\\\\MAIAC_Test\\\\2014\\\\MAIACAAOT.h00v01.20140091345.hdf', 'D:\\\\Annies_Dissertation\\\\MAIAC_Test\\\\2014\\\\MAIACAAOT.h00v01.20140101245.hdf', 'D:\\\\Annies_Dissertation\\\\MAIAC_Test\\\\2014\\\\MAIACAAOT.h00v01.20140101425.hdf', 'D:\\\\Annies_Dissertation\\\\MAIAC_Test\\\\2014\\\\MAIACAAOT.h00v01.20140111150.hdf', 'D:\\\\Annies_Dissertation\\\\MAIAC_Test\\\\2014\\\\MAIACAAOT.h00v01.20140111330.hdf', 'D:\\\\Annies_Dissertation\\\\MAIAC_Test\\\\2014\\\\MAIACAAOT.h00v01.20140111510.hdf', 'D:\\\\Annies_Dissertation\\\\MAIAC_Test\\\\2014\\\\MAIACAAOT.h00v01.20140121235.hdf', 'D:\\\\Annies_Dissertation\\\\MAIAC_Test\\\\2014\\\\MAIACAAOT.h00v01.20140121415.hdf', 'D:\\\\Annies_Dissertation\\\\MAIAC_Test\\\\2014\\\\MAIACAAOT.h00v01.20140131140.hdf', 'D:\\\\Annies_Dissertation\\\\MAIAC_Test\\\\2014\\\\MAIACAAOT.h00v01.20140131320.hdf', 'D:\\\\Annies_Dissertation\\\\MAIAC_Test\\\\2014\\\\MAIACAAOT.h00v01.20140131455.hdf', 'D:\\\\Annies_Dissertation\\\\MAIAC_Test\\\\2014\\\\MAIACAAOT.h00v01.20140141225.hdf', 'D:\\\\Annies_Dissertation\\\\MAIAC_Test\\\\2014\\\\MAIACAAOT.h00v01.20140141400.hdf', 'D:\\\\Annies_Dissertation\\\\MAIAC_Test\\\\2014\\\\MAIACAAOT.h00v01.20140151305.hdf', 'D:\\\\Annies_Dissertation\\\\MAIAC_Test\\\\2014\\\\MAIACAAOT.h00v01.20140151445.hdf', 'D:\\\\Annies_Dissertation\\\\MAIAC_Test\\\\2014\\\\MAIACAAOT.h00v01.20140161210.hdf', 'D:\\\\Annies_Dissertation\\\\MAIAC_Test\\\\2014\\\\MAIACAAOT.h00v01.20140161350.hdf', 'D:\\\\Annies_Dissertation\\\\MAIAC_Test\\\\2014\\\\MAIACAAOT.h00v01.20140171255.hdf', 'D:\\\\Annies_Dissertation\\\\MAIAC_Test\\\\2014\\\\MAIACAAOT.h00v01.20140171435.hdf', 'D:\\\\Annies_Dissertation\\\\MAIAC_Test\\\\2014\\\\MAIACAAOT.h00v01.20140181200.hdf', 'D:\\\\Annies_Dissertation\\\\MAIAC_Test\\\\2014\\\\MAIACAAOT.h00v01.20140181335.hdf', 'D:\\\\Annies_Dissertation\\\\MAIAC_Test\\\\2014\\\\MAIACAAOT.h00v01.20140181515.hdf', 'D:\\\\Annies_Dissertation\\\\MAIAC_Test\\\\2014\\\\MAIACAAOT.h00v01.20140191240.hdf', 'D:\\\\Annies_Dissertation\\\\MAIAC_Test\\\\2014\\\\MAIACAAOT.h00v01.20140191420.hdf', 'D:\\\\Annies_Dissertation\\\\MAIAC_Test\\\\2014\\\\MAIACAAOT.h00v01.20140201145.hdf', 'D:\\\\Annies_Dissertation\\\\MAIAC_Test\\\\2014\\\\MAIACAAOT.h00v01.20140201325.hdf', 'D:\\\\Annies_Dissertation\\\\MAIAC_Test\\\\2014\\\\MAIACAAOT.h00v01.20140201505.hdf', 'D:\\\\Annies_Dissertation\\\\MAIAC_Test\\\\2014\\\\MAIACAAOT.h00v01.20140211230.hdf', 'D:\\\\Annies_Dissertation\\\\MAIAC_Test\\\\2014\\\\MAIACAAOT.h00v01.20140211410.hdf', 'D:\\\\Annies_Dissertation\\\\MAIAC_Test\\\\2014\\\\MAIACAAOT.h00v01.20140221135.hdf', 'D:\\\\Annies_Dissertation\\\\MAIAC_Test\\\\2014\\\\MAIACAAOT.h00v01.20140221315.hdf', 'D:\\\\Annies_Dissertation\\\\MAIAC_Test\\\\2014\\\\MAIACAAOT.h00v01.20140221450.hdf', 'D:\\\\Annies_Dissertation\\\\MAIAC_Test\\\\2014\\\\MAIACAAOT.h00v01.20140231215.hdf', 'D:\\\\Annies_Dissertation\\\\MAIAC_Test\\\\2014\\\\MAIACAAOT.h00v01.20140231355.hdf', 'D:\\\\Annies_Dissertation\\\\MAIAC_Test\\\\2014\\\\MAIACAAOT.h00v01.20140241300.hdf', 'D:\\\\Annies_Dissertation\\\\MAIAC_Test\\\\2014\\\\MAIACAAOT.h00v01.20140241440.hdf', 'D:\\\\Annies_Dissertation\\\\MAIAC_Test\\\\2014\\\\MAIACAAOT.h00v01.20140251205.hdf', 'D:\\\\Annies_Dissertation\\\\MAIAC_Test\\\\2014\\\\MAIACAAOT.h00v01.20140251345.hdf', 'D:\\\\Annies_Dissertation\\\\MAIAC_Test\\\\2014\\\\MAIACAAOT.h00v01.20140251525.hdf', 'D:\\\\Annies_Dissertation\\\\MAIAC_Test\\\\2014\\\\MAIACAAOT.h00v01.20140261250.hdf', 'D:\\\\Annies_Dissertation\\\\MAIAC_Test\\\\2014\\\\MAIACAAOT.h00v01.20140261425.hdf', 'D:\\\\Annies_Dissertation\\\\MAIAC_Test\\\\2014\\\\MAIACAAOT.h00v01.20140271155.hdf', 'D:\\\\Annies_Dissertation\\\\MAIAC_Test\\\\2014\\\\MAIACAAOT.h00v01.20140271330.hdf', 'D:\\\\Annies_Dissertation\\\\MAIAC_Test\\\\2014\\\\MAIACAAOT.h00v01.20140271510.hdf', 'D:\\\\Annies_Dissertation\\\\MAIAC_Test\\\\2014\\\\MAIACAAOT.h00v01.20140281235.hdf', 'D:\\\\Annies_Dissertation\\\\MAIAC_Test\\\\2014\\\\MAIACAAOT.h00v01.20140281415.hdf', 'D:\\\\Annies_Dissertation\\\\MAIAC_Test\\\\2014\\\\MAIACAAOT.h00v01.20140291140.hdf', 'D:\\\\Annies_Dissertation\\\\MAIAC_Test\\\\2014\\\\MAIACAAOT.h00v01.20140291320.hdf', 'D:\\\\Annies_Dissertation\\\\MAIAC_Test\\\\2014\\\\MAIACAAOT.h00v01.20140291500.hdf', 'D:\\\\Annies_Dissertation\\\\MAIAC_Test\\\\2014\\\\MAIACAAOT.h00v01.20140301225.hdf', 'D:\\\\Annies_Dissertation\\\\MAIAC_Test\\\\2014\\\\MAIACAAOT.h00v01.20140301405.hdf', 'D:\\\\Annies_Dissertation\\\\MAIAC_Test\\\\2014\\\\MAIACAAOT.h00v01.20140311130.hdf', 'D:\\\\Annies_Dissertation\\\\MAIAC_Test\\\\2014\\\\MAIACAAOT.h00v01.20140311305.hdf', 'D:\\\\Annies_Dissertation\\\\MAIAC_Test\\\\2014\\\\MAIACAAOT.h00v01.20140311445.hdf', 'D:\\\\Annies_Dissertation\\\\MAIAC_Test\\\\2014\\\\MAIACAAOT.h00v01.20140321210.hdf', 'D:\\\\Annies_Dissertation\\\\MAIAC_Test\\\\2014\\\\MAIACAAOT.h00v01.20140321350.hdf', 'D:\\\\Annies_Dissertation\\\\MAIAC_Test\\\\2014\\\\MAIACAAOT.h00v01.20140321530.hdf', 'D:\\\\Annies_Dissertation\\\\MAIAC_Test\\\\2014\\\\MAIACAAOT.h00v01.20140331255.hdf', 'D:\\\\Annies_Dissertation\\\\MAIAC_Test\\\\2014\\\\MAIACAAOT.h00v01.20140331435.hdf', 'D:\\\\Annies_Dissertation\\\\MAIAC_Test\\\\2014\\\\MAIACAAOT.h00v01.20140341200.hdf', 'D:\\\\Annies_Dissertation\\\\MAIAC_Test\\\\2014\\\\MAIACAAOT.h00v01.20140341340.hdf', 'D:\\\\Annies_Dissertation\\\\MAIAC_Test\\\\2014\\\\MAIACAAOT.h00v01.20140341520.hdf', 'D:\\\\Annies_Dissertation\\\\MAIAC_Test\\\\2014\\\\MAIACAAOT.h00v01.20140351245.hdf', 'D:\\\\Annies_Dissertation\\\\MAIAC_Test\\\\2014\\\\MAIACAAOT.h00v01.20140351420.hdf', 'D:\\\\Annies_Dissertation\\\\MAIAC_Test\\\\2014\\\\MAIACAAOT.h00v01.20140361150.hdf', 'D:\\\\Annies_Dissertation\\\\MAIAC_Test\\\\2014\\\\MAIACAAOT.h00v01.20140361325.hdf', 'D:\\\\Annies_Dissertation\\\\MAIAC_Test\\\\2014\\\\MAIACAAOT.h00v01.20140361505.hdf', 'D:\\\\Annies_Dissertation\\\\MAIAC_Test\\\\2014\\\\MAIACAAOT.h00v01.20140371230.hdf', 'D:\\\\Annies_Dissertation\\\\MAIAC_Test\\\\2014\\\\MAIACAAOT.h00v01.20140371410.hdf', 'D:\\\\Annies_Dissertation\\\\MAIAC_Test\\\\2014\\\\MAIACAAOT.h00v01.20140381135.hdf', 'D:\\\\Annies_Dissertation\\\\MAIAC_Test\\\\2014\\\\MAIACAAOT.h00v01.20140381315.hdf', 'D:\\\\Annies_Dissertation\\\\MAIAC_Test\\\\2014\\\\MAIACAAOT.h00v01.20140381455.hdf', 'D:\\\\Annies_Dissertation\\\\MAIAC_Test\\\\2014\\\\MAIACAAOT.h00v01.20140391220.hdf', 'D:\\\\Annies_Dissertation\\\\MAIAC_Test\\\\2014\\\\MAIACAAOT.h00v01.20140391400.hdf', 'D:\\\\Annies_Dissertation\\\\MAIAC_Test\\\\2014\\\\MAIACAAOT.h00v01.20140391535.hdf', 'D:\\\\Annies_Dissertation\\\\MAIAC_Test\\\\2014\\\\MAIACAAOT.h00v01.20140401125.hdf', 'D:\\\\Annies_Dissertation\\\\MAIAC_Test\\\\2014\\\\MAIACAAOT.h00v01.20140401300.hdf', 'D:\\\\Annies_Dissertation\\\\MAIAC_Test\\\\2014\\\\MAIACAAOT.h00v01.20140401440.hdf', 'D:\\\\Annies_Dissertation\\\\MAIAC_Test\\\\2014\\\\MAIACAAOT.h00v01.20140411205.hdf', 'D:\\\\Annies_Dissertation\\\\MAIAC_Test\\\\2014\\\\MAIACAAOT.h00v01.20140411345.hdf', 'D:\\\\Annies_Dissertation\\\\MAIAC_Test\\\\2014\\\\MAIACAAOT.h00v01.20140411525.hdf', 'D:\\\\Annies_Dissertation\\\\MAIAC_Test\\\\2014\\\\MAIACAAOT.h00v01.20140421250.hdf', 'D:\\\\Annies_Dissertation\\\\MAIAC_Test\\\\2014\\\\MAIACAAOT.h00v01.20140421430.hdf', 'D:\\\\Annies_Dissertation\\\\MAIAC_Test\\\\2014\\\\MAIACAAOT.h00v01.20140431155.hdf', 'D:\\\\Annies_Dissertation\\\\MAIAC_Test\\\\2014\\\\MAIACAAOT.h00v01.20140431335.hdf', 'D:\\\\Annies_Dissertation\\\\MAIAC_Test\\\\2014\\\\MAIACAAOT.h00v01.20140431510.hdf', 'D:\\\\Annies_Dissertation\\\\MAIAC_Test\\\\2014\\\\MAIACAAOT.h00v01.20140441240.hdf', 'D:\\\\Annies_Dissertation\\\\MAIAC_Test\\\\2014\\\\MAIACAAOT.h00v01.20140441415.hdf', 'D:\\\\Annies_Dissertation\\\\MAIAC_Test\\\\2014\\\\MAIACAAOT.h00v01.20140451140.hdf', 'D:\\\\Annies_Dissertation\\\\MAIAC_Test\\\\2014\\\\MAIACAAOT.h00v01.20140451320.hdf', 'D:\\\\Annies_Dissertation\\\\MAIAC_Test\\\\2014\\\\MAIACAAOT.h00v01.20140451500.hdf', 'D:\\\\Annies_Dissertation\\\\MAIAC_Test\\\\2014\\\\MAIACAAOT.h00v01.20140461225.hdf', 'D:\\\\Annies_Dissertation\\\\MAIAC_Test\\\\2014\\\\MAIACAAOT.h00v01.20140461405.hdf', 'D:\\\\Annies_Dissertation\\\\MAIAC_Test\\\\2014\\\\MAIACAAOT.h00v01.20140461545.hdf', 'D:\\\\Annies_Dissertation\\\\MAIAC_Test\\\\2014\\\\MAIACAAOT.h00v01.20140471130.hdf', 'D:\\\\Annies_Dissertation\\\\MAIAC_Test\\\\2014\\\\MAIACAAOT.h00v01.20140471310.hdf', 'D:\\\\Annies_Dissertation\\\\MAIAC_Test\\\\2014\\\\MAIACAAOT.h00v01.20140471450.hdf', 'D:\\\\Annies_Dissertation\\\\MAIAC_Test\\\\2014\\\\MAIACAAOT.h00v01.20140481215.hdf', 'D:\\\\Annies_Dissertation\\\\MAIAC_Test\\\\2014\\\\MAIACAAOT.h00v01.20140481355.hdf', 'D:\\\\Annies_Dissertation\\\\MAIAC_Test\\\\2014\\\\MAIACAAOT.h00v01.20140481530.hdf', 'D:\\\\Annies_Dissertation\\\\MAIAC_Test\\\\2014\\\\MAIACAAOT.h00v01.20140491120.hdf', 'D:\\\\Annies_Dissertation\\\\MAIAC_Test\\\\2014\\\\MAIACAAOT.h00v01.20140491255.hdf', 'D:\\\\Annies_Dissertation\\\\MAIAC_Test\\\\2014\\\\MAIACAAOT.h00v01.20140491435.hdf', 'D:\\\\Annies_Dissertation\\\\MAIAC_Test\\\\2014\\\\MAIACAAOT.h00v01.20140501200.hdf', 'D:\\\\Annies_Dissertation\\\\MAIAC_Test\\\\2014\\\\MAIACAAOT.h00v01.20140501340.hdf', 'D:\\\\Annies_Dissertation\\\\MAIAC_Test\\\\2014\\\\MAIACAAOT.h00v01.20140501520.hdf', 'D:\\\\Annies_Dissertation\\\\MAIAC_Test\\\\2014\\\\MAIACAAOT.h00v01.20140511245.hdf', 'D:\\\\Annies_Dissertation\\\\MAIAC_Test\\\\2014\\\\MAIACAAOT.h00v01.20140511425.hdf', 'D:\\\\Annies_Dissertation\\\\MAIAC_Test\\\\2014\\\\MAIACAAOT.h00v01.20140521150.hdf', 'D:\\\\Annies_Dissertation\\\\MAIAC_Test\\\\2014\\\\MAIACAAOT.h00v01.20140521330.hdf', 'D:\\\\Annies_Dissertation\\\\MAIAC_Test\\\\2014\\\\MAIACAAOT.h00v01.20140521505.hdf', 'D:\\\\Annies_Dissertation\\\\MAIAC_Test\\\\2014\\\\MAIACAAOT.h00v01.20140531235.hdf', 'D:\\\\Annies_Dissertation\\\\MAIAC_Test\\\\2014\\\\MAIACAAOT.h00v01.20140531410.hdf', 'D:\\\\Annies_Dissertation\\\\MAIAC_Test\\\\2014\\\\MAIACAAOT.h00v01.20140541135.hdf', 'D:\\\\Annies_Dissertation\\\\MAIAC_Test\\\\2014\\\\MAIACAAOT.h00v01.20140541315.hdf', 'D:\\\\Annies_Dissertation\\\\MAIAC_Test\\\\2014\\\\MAIACAAOT.h00v01.20140541455.hdf', 'D:\\\\Annies_Dissertation\\\\MAIAC_Test\\\\2014\\\\MAIACAAOT.h00v01.20140551220.hdf', 'D:\\\\Annies_Dissertation\\\\MAIAC_Test\\\\2014\\\\MAIACAAOT.h00v01.20140551400.hdf', 'D:\\\\Annies_Dissertation\\\\MAIAC_Test\\\\2014\\\\MAIACAAOT.h00v01.20140551535.hdf', 'D:\\\\Annies_Dissertation\\\\MAIAC_Test\\\\2014\\\\MAIACAAOT.h00v01.20140561125.hdf', 'D:\\\\Annies_Dissertation\\\\MAIAC_Test\\\\2014\\\\MAIACAAOT.h00v01.20140561305.hdf', 'D:\\\\Annies_Dissertation\\\\MAIAC_Test\\\\2014\\\\MAIACAAOT.h00v01.20140561440.hdf', 'D:\\\\Annies_Dissertation\\\\MAIAC_Test\\\\2014\\\\MAIACAAOT.h00v01.20140571210.hdf', 'D:\\\\Annies_Dissertation\\\\MAIAC_Test\\\\2014\\\\MAIACAAOT.h00v01.20140571345.hdf', 'D:\\\\Annies_Dissertation\\\\MAIAC_Test\\\\2014\\\\MAIACAAOT.h00v01.20140571525.hdf', 'D:\\\\Annies_Dissertation\\\\MAIAC_Test\\\\2014\\\\MAIACAAOT.h00v01.20140581250.hdf', 'D:\\\\Annies_Dissertation\\\\MAIAC_Test\\\\2014\\\\MAIACAAOT.h00v01.20140581430.hdf', 'D:\\\\Annies_Dissertation\\\\MAIAC_Test\\\\2014\\\\MAIACAAOT.h00v01.20140591155.hdf', 'D:\\\\Annies_Dissertation\\\\MAIAC_Test\\\\2014\\\\MAIACAAOT.h00v01.20140591335.hdf', 'D:\\\\Annies_Dissertation\\\\MAIAC_Test\\\\2014\\\\MAIACAAOT.h00v01.20140591510.hdf', 'D:\\\\Annies_Dissertation\\\\MAIAC_Test\\\\2014\\\\MAIACAAOT.h00v01.20140601240.hdf', 'D:\\\\Annies_Dissertation\\\\MAIAC_Test\\\\2014\\\\MAIACAAOT.h00v01.20140601415.hdf', 'D:\\\\Annies_Dissertation\\\\MAIAC_Test\\\\2014\\\\MAIACAAOT.h00v01.20140611145.hdf', 'D:\\\\Annies_Dissertation\\\\MAIAC_Test\\\\2014\\\\MAIACAAOT.h00v01.20140611320.hdf', 'D:\\\\Annies_Dissertation\\\\MAIAC_Test\\\\2014\\\\MAIACAAOT.h00v01.20140611500.hdf', 'D:\\\\Annies_Dissertation\\\\MAIAC_Test\\\\2014\\\\MAIACAAOT.h00v01.20140621225.hdf', 'D:\\\\Annies_Dissertation\\\\MAIAC_Test\\\\2014\\\\MAIACAAOT.h00v01.20140621405.hdf', 'D:\\\\Annies_Dissertation\\\\MAIAC_Test\\\\2014\\\\MAIACAAOT.h00v01.20140621545.hdf', 'D:\\\\Annies_Dissertation\\\\MAIAC_Test\\\\2014\\\\MAIACAAOT.h00v01.20140631130.hdf', 'D:\\\\Annies_Dissertation\\\\MAIAC_Test\\\\2014\\\\MAIACAAOT.h00v01.20140631310.hdf', 'D:\\\\Annies_Dissertation\\\\MAIAC_Test\\\\2014\\\\MAIACAAOT.h00v01.20140631450.hdf', 'D:\\\\Annies_Dissertation\\\\MAIAC_Test\\\\2014\\\\MAIACAAOT.h00v01.20140641215.hdf', 'D:\\\\Annies_Dissertation\\\\MAIAC_Test\\\\2014\\\\MAIACAAOT.h00v01.20140641350.hdf', 'D:\\\\Annies_Dissertation\\\\MAIAC_Test\\\\2014\\\\MAIACAAOT.h00v01.20140641530.hdf', 'D:\\\\Annies_Dissertation\\\\MAIAC_Test\\\\2014\\\\MAIACAAOT.h00v01.20140651120.hdf', 'D:\\\\Annies_Dissertation\\\\MAIAC_Test\\\\2014\\\\MAIACAAOT.h00v01.20140651300.hdf', 'D:\\\\Annies_Dissertation\\\\MAIAC_Test\\\\2014\\\\MAIACAAOT.h00v01.20140651435.hdf', 'D:\\\\Annies_Dissertation\\\\MAIAC_Test\\\\2014\\\\MAIACAAOT.h00v01.20140661200.hdf', 'D:\\\\Annies_Dissertation\\\\MAIAC_Test\\\\2014\\\\MAIACAAOT.h00v01.20140661340.hdf', 'D:\\\\Annies_Dissertation\\\\MAIAC_Test\\\\2014\\\\MAIACAAOT.h00v01.20140661520.hdf', 'D:\\\\Annies_Dissertation\\\\MAIAC_Test\\\\2014\\\\MAIACAAOT.h00v01.20140671245.hdf', 'D:\\\\Annies_Dissertation\\\\MAIAC_Test\\\\2014\\\\MAIACAAOT.h00v01.20140671425.hdf', 'D:\\\\Annies_Dissertation\\\\MAIAC_Test\\\\2014\\\\MAIACAAOT.h00v01.20140681150.hdf', 'D:\\\\Annies_Dissertation\\\\MAIAC_Test\\\\2014\\\\MAIACAAOT.h00v01.20140681330.hdf', 'D:\\\\Annies_Dissertation\\\\MAIAC_Test\\\\2014\\\\MAIACAAOT.h00v01.20140681505.hdf', 'D:\\\\Annies_Dissertation\\\\MAIAC_Test\\\\2014\\\\MAIACAAOT.h00v01.20140691235.hdf', 'D:\\\\Annies_Dissertation\\\\MAIAC_Test\\\\2014\\\\MAIACAAOT.h00v01.20140691410.hdf', 'D:\\\\Annies_Dissertation\\\\MAIAC_Test\\\\2014\\\\MAIACAAOT.h00v01.20140691550.hdf', 'D:\\\\Annies_Dissertation\\\\MAIAC_Test\\\\2014\\\\MAIACAAOT.h00v01.20140701140.hdf', 'D:\\\\Annies_Dissertation\\\\MAIAC_Test\\\\2014\\\\MAIACAAOT.h00v01.20140701315.hdf', 'D:\\\\Annies_Dissertation\\\\MAIAC_Test\\\\2014\\\\MAIACAAOT.h00v01.20140701455.hdf', 'D:\\\\Annies_Dissertation\\\\MAIAC_Test\\\\2014\\\\MAIACAAOT.h00v01.20140711220.hdf', 'D:\\\\Annies_Dissertation\\\\MAIAC_Test\\\\2014\\\\MAIACAAOT.h00v01.20140711400.hdf', 'D:\\\\Annies_Dissertation\\\\MAIAC_Test\\\\2014\\\\MAIACAAOT.h00v01.20140711535.hdf', 'D:\\\\Annies_Dissertation\\\\MAIAC_Test\\\\2014\\\\MAIACAAOT.h00v01.20140721125.hdf', 'D:\\\\Annies_Dissertation\\\\MAIAC_Test\\\\2014\\\\MAIACAAOT.h00v01.20140721305.hdf', 'D:\\\\Annies_Dissertation\\\\MAIAC_Test\\\\2014\\\\MAIACAAOT.h00v01.20140721440.hdf', 'D:\\\\Annies_Dissertation\\\\MAIAC_Test\\\\2014\\\\MAIACAAOT.h00v01.20140731210.hdf', 'D:\\\\Annies_Dissertation\\\\MAIAC_Test\\\\2014\\\\MAIACAAOT.h00v01.20140731345.hdf', 'D:\\\\Annies_Dissertation\\\\MAIAC_Test\\\\2014\\\\MAIACAAOT.h00v01.20140731525.hdf', 'D:\\\\Annies_Dissertation\\\\MAIAC_Test\\\\2014\\\\MAIACAAOT.h00v01.20140741250.hdf', 'D:\\\\Annies_Dissertation\\\\MAIAC_Test\\\\2014\\\\MAIACAAOT.h00v01.20140741430.hdf', 'D:\\\\Annies_Dissertation\\\\MAIAC_Test\\\\2014\\\\MAIACAAOT.h00v01.20140751155.hdf', 'D:\\\\Annies_Dissertation\\\\MAIAC_Test\\\\2014\\\\MAIACAAOT.h00v01.20140751335.hdf', 'D:\\\\Annies_Dissertation\\\\MAIAC_Test\\\\2014\\\\MAIACAAOT.h00v01.20140751510.hdf', 'D:\\\\Annies_Dissertation\\\\MAIAC_Test\\\\2014\\\\MAIACAAOT.h00v01.20140761240.hdf', 'D:\\\\Annies_Dissertation\\\\MAIAC_Test\\\\2014\\\\MAIACAAOT.h00v01.20140761415.hdf', 'D:\\\\Annies_Dissertation\\\\MAIAC_Test\\\\2014\\\\MAIACAAOT.h00v01.20140771145.hdf', 'D:\\\\Annies_Dissertation\\\\MAIAC_Test\\\\2014\\\\MAIACAAOT.h00v01.20140771320.hdf', 'D:\\\\Annies_Dissertation\\\\MAIAC_Test\\\\2014\\\\MAIACAAOT.h00v01.20140771500.hdf', 'D:\\\\Annies_Dissertation\\\\MAIAC_Test\\\\2014\\\\MAIACAAOT.h00v01.20140781225.hdf', 'D:\\\\Annies_Dissertation\\\\MAIAC_Test\\\\2014\\\\MAIACAAOT.h00v01.20140781405.hdf', 'D:\\\\Annies_Dissertation\\\\MAIAC_Test\\\\2014\\\\MAIACAAOT.h00v01.20140781545.hdf', 'D:\\\\Annies_Dissertation\\\\MAIAC_Test\\\\2014\\\\MAIACAAOT.h00v01.20140791130.hdf', 'D:\\\\Annies_Dissertation\\\\MAIAC_Test\\\\2014\\\\MAIACAAOT.h00v01.20140791310.hdf', 'D:\\\\Annies_Dissertation\\\\MAIAC_Test\\\\2014\\\\MAIACAAOT.h00v01.20140791450.hdf', 'D:\\\\Annies_Dissertation\\\\MAIAC_Test\\\\2014\\\\MAIACAAOT.h00v01.20140801215.hdf', 'D:\\\\Annies_Dissertation\\\\MAIAC_Test\\\\2014\\\\MAIACAAOT.h00v01.20140801355.hdf', 'D:\\\\Annies_Dissertation\\\\MAIAC_Test\\\\2014\\\\MAIACAAOT.h00v01.20140801530.hdf', 'D:\\\\Annies_Dissertation\\\\MAIAC_Test\\\\2014\\\\MAIACAAOT.h00v01.20140811120.hdf', 'D:\\\\Annies_Dissertation\\\\MAIAC_Test\\\\2014\\\\MAIACAAOT.h00v01.20140811300.hdf', 'D:\\\\Annies_Dissertation\\\\MAIAC_Test\\\\2014\\\\MAIACAAOT.h00v01.20140811435.hdf', 'D:\\\\Annies_Dissertation\\\\MAIAC_Test\\\\2014\\\\MAIACAAOT.h00v01.20140821205.hdf', 'D:\\\\Annies_Dissertation\\\\MAIAC_Test\\\\2014\\\\MAIACAAOT.h00v01.20140821340.hdf', 'D:\\\\Annies_Dissertation\\\\MAIAC_Test\\\\2014\\\\MAIACAAOT.h00v01.20140821520.hdf', 'D:\\\\Annies_Dissertation\\\\MAIAC_Test\\\\2014\\\\MAIACAAOT.h00v01.20140831245.hdf', 'D:\\\\Annies_Dissertation\\\\MAIAC_Test\\\\2014\\\\MAIACAAOT.h00v01.20140831425.hdf', 'D:\\\\Annies_Dissertation\\\\MAIAC_Test\\\\2014\\\\MAIACAAOT.h00v01.20140841150.hdf', 'D:\\\\Annies_Dissertation\\\\MAIAC_Test\\\\2014\\\\MAIACAAOT.h00v01.20140841330.hdf', 'D:\\\\Annies_Dissertation\\\\MAIAC_Test\\\\2014\\\\MAIACAAOT.h00v01.20140841505.hdf', 'D:\\\\Annies_Dissertation\\\\MAIAC_Test\\\\2014\\\\MAIACAAOT.h00v01.20140851235.hdf', 'D:\\\\Annies_Dissertation\\\\MAIAC_Test\\\\2014\\\\MAIACAAOT.h00v01.20140851410.hdf', 'D:\\\\Annies_Dissertation\\\\MAIAC_Test\\\\2014\\\\MAIACAAOT.h00v01.20140861140.hdf', 'D:\\\\Annies_Dissertation\\\\MAIAC_Test\\\\2014\\\\MAIACAAOT.h00v01.20140861315.hdf', 'D:\\\\Annies_Dissertation\\\\MAIAC_Test\\\\2014\\\\MAIACAAOT.h00v01.20140861455.hdf', 'D:\\\\Annies_Dissertation\\\\MAIAC_Test\\\\2014\\\\MAIACAAOT.h00v01.20140871220.hdf', 'D:\\\\Annies_Dissertation\\\\MAIAC_Test\\\\2014\\\\MAIACAAOT.h00v01.20140871400.hdf', 'D:\\\\Annies_Dissertation\\\\MAIAC_Test\\\\2014\\\\MAIACAAOT.h00v01.20140871535.hdf', 'D:\\\\Annies_Dissertation\\\\MAIAC_Test\\\\2014\\\\MAIACAAOT.h00v01.20140881125.hdf', 'D:\\\\Annies_Dissertation\\\\MAIAC_Test\\\\2014\\\\MAIACAAOT.h00v01.20140881305.hdf', 'D:\\\\Annies_Dissertation\\\\MAIAC_Test\\\\2014\\\\MAIACAAOT.h00v01.20140881440.hdf', 'D:\\\\Annies_Dissertation\\\\MAIAC_Test\\\\2014\\\\MAIACAAOT.h00v01.20140891210.hdf', 'D:\\\\Annies_Dissertation\\\\MAIAC_Test\\\\2014\\\\MAIACAAOT.h00v01.20140891345.hdf', 'D:\\\\Annies_Dissertation\\\\MAIAC_Test\\\\2014\\\\MAIACAAOT.h00v01.20140891525.hdf', 'D:\\\\Annies_Dissertation\\\\MAIAC_Test\\\\2014\\\\MAIACAAOT.h00v01.20140901250.hdf', 'D:\\\\Annies_Dissertation\\\\MAIAC_Test\\\\2014\\\\MAIACAAOT.h00v01.20140901430.hdf', 'D:\\\\Annies_Dissertation\\\\MAIAC_Test\\\\2014\\\\MAIACAAOT.h00v01.20140911155.hdf', 'D:\\\\Annies_Dissertation\\\\MAIAC_Test\\\\2014\\\\MAIACAAOT.h00v01.20140911335.hdf', 'D:\\\\Annies_Dissertation\\\\MAIAC_Test\\\\2014\\\\MAIACAAOT.h00v01.20140911515.hdf', 'D:\\\\Annies_Dissertation\\\\MAIAC_Test\\\\2014\\\\MAIACAAOT.h00v01.20140921240.hdf', 'D:\\\\Annies_Dissertation\\\\MAIAC_Test\\\\2014\\\\MAIACAAOT.h00v01.20140921415.hdf', 'D:\\\\Annies_Dissertation\\\\MAIAC_Test\\\\2014\\\\MAIACAAOT.h00v01.20140931145.hdf', 'D:\\\\Annies_Dissertation\\\\MAIAC_Test\\\\2014\\\\MAIACAAOT.h00v01.20140931320.hdf', 'D:\\\\Annies_Dissertation\\\\MAIAC_Test\\\\2014\\\\MAIACAAOT.h00v01.20140931500.hdf', 'D:\\\\Annies_Dissertation\\\\MAIAC_Test\\\\2014\\\\MAIACAAOT.h00v01.20140941230.hdf', 'D:\\\\Annies_Dissertation\\\\MAIAC_Test\\\\2014\\\\MAIACAAOT.h00v01.20140941405.hdf', 'D:\\\\Annies_Dissertation\\\\MAIAC_Test\\\\2014\\\\MAIACAAOT.h00v01.20140941545.hdf', 'D:\\\\Annies_Dissertation\\\\MAIAC_Test\\\\2014\\\\MAIACAAOT.h00v01.20140951130.hdf', 'D:\\\\Annies_Dissertation\\\\MAIAC_Test\\\\2014\\\\MAIACAAOT.h00v01.20140951310.hdf', 'D:\\\\Annies_Dissertation\\\\MAIAC_Test\\\\2014\\\\MAIACAAOT.h00v01.20140951450.hdf', 'D:\\\\Annies_Dissertation\\\\MAIAC_Test\\\\2014\\\\MAIACAAOT.h00v01.20140961215.hdf', 'D:\\\\Annies_Dissertation\\\\MAIAC_Test\\\\2014\\\\MAIACAAOT.h00v01.20140961355.hdf', 'D:\\\\Annies_Dissertation\\\\MAIAC_Test\\\\2014\\\\MAIACAAOT.h00v01.20140961530.hdf', 'D:\\\\Annies_Dissertation\\\\MAIAC_Test\\\\2014\\\\MAIACAAOT.h00v01.20140971120.hdf', 'D:\\\\Annies_Dissertation\\\\MAIAC_Test\\\\2014\\\\MAIACAAOT.h00v01.20140971300.hdf', 'D:\\\\Annies_Dissertation\\\\MAIAC_Test\\\\2014\\\\MAIACAAOT.h00v01.20140971435.hdf', 'D:\\\\Annies_Dissertation\\\\MAIAC_Test\\\\2014\\\\MAIACAAOT.h00v01.20140981205.hdf', 'D:\\\\Annies_Dissertation\\\\MAIAC_Test\\\\2014\\\\MAIACAAOT.h00v01.20140981340.hdf', 'D:\\\\Annies_Dissertation\\\\MAIAC_Test\\\\2014\\\\MAIACAAOT.h00v01.20140981520.hdf', 'D:\\\\Annies_Dissertation\\\\MAIAC_Test\\\\2014\\\\MAIACAAOT.h00v01.20140991245.hdf', 'D:\\\\Annies_Dissertation\\\\MAIAC_Test\\\\2014\\\\MAIACAAOT.h00v01.20141001150.hdf', 'D:\\\\Annies_Dissertation\\\\MAIAC_Test\\\\2014\\\\MAIACAAOT.h00v01.20141001330.hdf', 'D:\\\\Annies_Dissertation\\\\MAIAC_Test\\\\2014\\\\MAIACAAOT.h00v01.20141001505.hdf', 'D:\\\\Annies_Dissertation\\\\MAIAC_Test\\\\2014\\\\MAIACAAOT.h00v01.20141011235.hdf', 'D:\\\\Annies_Dissertation\\\\MAIAC_Test\\\\2014\\\\MAIACAAOT.h00v01.20141011410.hdf', 'D:\\\\Annies_Dissertation\\\\MAIAC_Test\\\\2014\\\\MAIACAAOT.h00v01.20141011550.hdf', 'D:\\\\Annies_Dissertation\\\\MAIAC_Test\\\\2014\\\\MAIACAAOT.h00v01.20141021140.hdf', 'D:\\\\Annies_Dissertation\\\\MAIAC_Test\\\\2014\\\\MAIACAAOT.h00v01.20141021315.hdf', 'D:\\\\Annies_Dissertation\\\\MAIAC_Test\\\\2014\\\\MAIACAAOT.h00v01.20141021455.hdf', 'D:\\\\Annies_Dissertation\\\\MAIAC_Test\\\\2014\\\\MAIACAAOT.h00v01.20141031220.hdf', 'D:\\\\Annies_Dissertation\\\\MAIAC_Test\\\\2014\\\\MAIACAAOT.h00v01.20141031400.hdf', 'D:\\\\Annies_Dissertation\\\\MAIAC_Test\\\\2014\\\\MAIACAAOT.h00v01.20141031535.hdf', 'D:\\\\Annies_Dissertation\\\\MAIAC_Test\\\\2014\\\\MAIACAAOT.h00v01.20141041125.hdf', 'D:\\\\Annies_Dissertation\\\\MAIAC_Test\\\\2014\\\\MAIACAAOT.h00v01.20141041305.hdf', 'D:\\\\Annies_Dissertation\\\\MAIAC_Test\\\\2014\\\\MAIACAAOT.h00v01.20141041440.hdf', 'D:\\\\Annies_Dissertation\\\\MAIAC_Test\\\\2014\\\\MAIACAAOT.h00v01.20141051210.hdf', 'D:\\\\Annies_Dissertation\\\\MAIAC_Test\\\\2014\\\\MAIACAAOT.h00v01.20141051345.hdf', 'D:\\\\Annies_Dissertation\\\\MAIAC_Test\\\\2014\\\\MAIACAAOT.h00v01.20141051525.hdf', 'D:\\\\Annies_Dissertation\\\\MAIAC_Test\\\\2014\\\\MAIACAAOT.h00v01.20141061250.hdf', 'D:\\\\Annies_Dissertation\\\\MAIAC_Test\\\\2014\\\\MAIACAAOT.h00v01.20141061430.hdf', 'D:\\\\Annies_Dissertation\\\\MAIAC_Test\\\\2014\\\\MAIACAAOT.h00v01.20141071155.hdf', 'D:\\\\Annies_Dissertation\\\\MAIAC_Test\\\\2014\\\\MAIACAAOT.h00v01.20141071335.hdf', 'D:\\\\Annies_Dissertation\\\\MAIAC_Test\\\\2014\\\\MAIACAAOT.h00v01.20141071510.hdf', 'D:\\\\Annies_Dissertation\\\\MAIAC_Test\\\\2014\\\\MAIACAAOT.h00v01.20141081240.hdf', 'D:\\\\Annies_Dissertation\\\\MAIAC_Test\\\\2014\\\\MAIACAAOT.h00v01.20141081415.hdf', 'D:\\\\Annies_Dissertation\\\\MAIAC_Test\\\\2014\\\\MAIACAAOT.h00v01.20141091145.hdf', 'D:\\\\Annies_Dissertation\\\\MAIAC_Test\\\\2014\\\\MAIACAAOT.h00v01.20141091320.hdf', 'D:\\\\Annies_Dissertation\\\\MAIAC_Test\\\\2014\\\\MAIACAAOT.h00v01.20141091500.hdf', 'D:\\\\Annies_Dissertation\\\\MAIAC_Test\\\\2014\\\\MAIACAAOT.h00v01.20141101225.hdf', 'D:\\\\Annies_Dissertation\\\\MAIAC_Test\\\\2014\\\\MAIACAAOT.h00v01.20141101405.hdf', 'D:\\\\Annies_Dissertation\\\\MAIAC_Test\\\\2014\\\\MAIACAAOT.h00v01.20141101545.hdf', 'D:\\\\Annies_Dissertation\\\\MAIAC_Test\\\\2014\\\\MAIACAAOT.h00v01.20141111130.hdf', 'D:\\\\Annies_Dissertation\\\\MAIAC_Test\\\\2014\\\\MAIACAAOT.h00v01.20141111310.hdf', 'D:\\\\Annies_Dissertation\\\\MAIAC_Test\\\\2014\\\\MAIACAAOT.h00v01.20141111450.hdf', 'D:\\\\Annies_Dissertation\\\\MAIAC_Test\\\\2014\\\\MAIACAAOT.h00v01.20141121215.hdf', 'D:\\\\Annies_Dissertation\\\\MAIAC_Test\\\\2014\\\\MAIACAAOT.h00v01.20141121355.hdf', 'D:\\\\Annies_Dissertation\\\\MAIAC_Test\\\\2014\\\\MAIACAAOT.h00v01.20141121530.hdf', 'D:\\\\Annies_Dissertation\\\\MAIAC_Test\\\\2014\\\\MAIACAAOT.h00v01.20141131120.hdf', 'D:\\\\Annies_Dissertation\\\\MAIAC_Test\\\\2014\\\\MAIACAAOT.h00v01.20141131300.hdf', 'D:\\\\Annies_Dissertation\\\\MAIAC_Test\\\\2014\\\\MAIACAAOT.h00v01.20141131435.hdf', 'D:\\\\Annies_Dissertation\\\\MAIAC_Test\\\\2014\\\\MAIACAAOT.h00v01.20141141205.hdf', 'D:\\\\Annies_Dissertation\\\\MAIAC_Test\\\\2014\\\\MAIACAAOT.h00v01.20141141340.hdf', 'D:\\\\Annies_Dissertation\\\\MAIAC_Test\\\\2014\\\\MAIACAAOT.h00v01.20141141520.hdf', 'D:\\\\Annies_Dissertation\\\\MAIAC_Test\\\\2014\\\\MAIACAAOT.h00v01.20141151245.hdf', 'D:\\\\Annies_Dissertation\\\\MAIAC_Test\\\\2014\\\\MAIACAAOT.h00v01.20141151425.hdf', 'D:\\\\Annies_Dissertation\\\\MAIAC_Test\\\\2014\\\\MAIACAAOT.h00v01.20141161150.hdf', 'D:\\\\Annies_Dissertation\\\\MAIAC_Test\\\\2014\\\\MAIACAAOT.h00v01.20141161330.hdf', 'D:\\\\Annies_Dissertation\\\\MAIAC_Test\\\\2014\\\\MAIACAAOT.h00v01.20141161505.hdf', 'D:\\\\Annies_Dissertation\\\\MAIAC_Test\\\\2014\\\\MAIACAAOT.h00v01.20141171235.hdf', 'D:\\\\Annies_Dissertation\\\\MAIAC_Test\\\\2014\\\\MAIACAAOT.h00v01.20141171410.hdf', 'D:\\\\Annies_Dissertation\\\\MAIAC_Test\\\\2014\\\\MAIACAAOT.h00v01.20141171550.hdf', 'D:\\\\Annies_Dissertation\\\\MAIAC_Test\\\\2014\\\\MAIACAAOT.h00v01.20141181140.hdf', 'D:\\\\Annies_Dissertation\\\\MAIAC_Test\\\\2014\\\\MAIACAAOT.h00v01.20141181315.hdf', 'D:\\\\Annies_Dissertation\\\\MAIAC_Test\\\\2014\\\\MAIACAAOT.h00v01.20141181455.hdf', 'D:\\\\Annies_Dissertation\\\\MAIAC_Test\\\\2014\\\\MAIACAAOT.h00v01.20141191220.hdf', 'D:\\\\Annies_Dissertation\\\\MAIAC_Test\\\\2014\\\\MAIACAAOT.h00v01.20141191400.hdf', 'D:\\\\Annies_Dissertation\\\\MAIAC_Test\\\\2014\\\\MAIACAAOT.h00v01.20141191535.hdf', 'D:\\\\Annies_Dissertation\\\\MAIAC_Test\\\\2014\\\\MAIACAAOT.h00v01.20141201125.hdf', 'D:\\\\Annies_Dissertation\\\\MAIAC_Test\\\\2014\\\\MAIACAAOT.h00v01.20141201305.hdf', 'D:\\\\Annies_Dissertation\\\\MAIAC_Test\\\\2014\\\\MAIACAAOT.h00v01.20141201440.hdf', 'D:\\\\Annies_Dissertation\\\\MAIAC_Test\\\\2014\\\\MAIACAAOT.h00v01.20141211210.hdf', 'D:\\\\Annies_Dissertation\\\\MAIAC_Test\\\\2014\\\\MAIACAAOT.h00v01.20141211345.hdf', 'D:\\\\Annies_Dissertation\\\\MAIAC_Test\\\\2014\\\\MAIACAAOT.h00v01.20141211525.hdf', 'D:\\\\Annies_Dissertation\\\\MAIAC_Test\\\\2014\\\\MAIACAAOT.h00v01.20141221250.hdf', 'D:\\\\Annies_Dissertation\\\\MAIAC_Test\\\\2014\\\\MAIACAAOT.h00v01.20141221430.hdf', 'D:\\\\Annies_Dissertation\\\\MAIAC_Test\\\\2014\\\\MAIACAAOT.h00v01.20141231155.hdf', 'D:\\\\Annies_Dissertation\\\\MAIAC_Test\\\\2014\\\\MAIACAAOT.h00v01.20141231335.hdf', 'D:\\\\Annies_Dissertation\\\\MAIAC_Test\\\\2014\\\\MAIACAAOT.h00v01.20141231510.hdf', 'D:\\\\Annies_Dissertation\\\\MAIAC_Test\\\\2014\\\\MAIACAAOT.h00v01.20141241240.hdf', 'D:\\\\Annies_Dissertation\\\\MAIAC_Test\\\\2014\\\\MAIACAAOT.h00v01.20141241415.hdf', 'D:\\\\Annies_Dissertation\\\\MAIAC_Test\\\\2014\\\\MAIACAAOT.h00v01.20141251145.hdf', 'D:\\\\Annies_Dissertation\\\\MAIAC_Test\\\\2014\\\\MAIACAAOT.h00v01.20141251320.hdf', 'D:\\\\Annies_Dissertation\\\\MAIAC_Test\\\\2014\\\\MAIACAAOT.h00v01.20141251500.hdf', 'D:\\\\Annies_Dissertation\\\\MAIAC_Test\\\\2014\\\\MAIACAAOT.h00v01.20141261225.hdf', 'D:\\\\Annies_Dissertation\\\\MAIAC_Test\\\\2014\\\\MAIACAAOT.h00v01.20141261405.hdf', 'D:\\\\Annies_Dissertation\\\\MAIAC_Test\\\\2014\\\\MAIACAAOT.h00v01.20141261545.hdf', 'D:\\\\Annies_Dissertation\\\\MAIAC_Test\\\\2014\\\\MAIACAAOT.h00v01.20141271130.hdf', 'D:\\\\Annies_Dissertation\\\\MAIAC_Test\\\\2014\\\\MAIACAAOT.h00v01.20141271310.hdf', 'D:\\\\Annies_Dissertation\\\\MAIAC_Test\\\\2014\\\\MAIACAAOT.h00v01.20141271450.hdf', 'D:\\\\Annies_Dissertation\\\\MAIAC_Test\\\\2014\\\\MAIACAAOT.h00v01.20141281215.hdf', 'D:\\\\Annies_Dissertation\\\\MAIAC_Test\\\\2014\\\\MAIACAAOT.h00v01.20141281355.hdf', 'D:\\\\Annies_Dissertation\\\\MAIAC_Test\\\\2014\\\\MAIACAAOT.h00v01.20141281530.hdf', 'D:\\\\Annies_Dissertation\\\\MAIAC_Test\\\\2014\\\\MAIACAAOT.h00v01.20141291120.hdf', 'D:\\\\Annies_Dissertation\\\\MAIAC_Test\\\\2014\\\\MAIACAAOT.h00v01.20141291300.hdf', 'D:\\\\Annies_Dissertation\\\\MAIAC_Test\\\\2014\\\\MAIACAAOT.h00v01.20141291435.hdf', 'D:\\\\Annies_Dissertation\\\\MAIAC_Test\\\\2014\\\\MAIACAAOT.h00v01.20141301205.hdf', 'D:\\\\Annies_Dissertation\\\\MAIAC_Test\\\\2014\\\\MAIACAAOT.h00v01.20141301340.hdf', 'D:\\\\Annies_Dissertation\\\\MAIAC_Test\\\\2014\\\\MAIACAAOT.h00v01.20141301520.hdf', 'D:\\\\Annies_Dissertation\\\\MAIAC_Test\\\\2014\\\\MAIACAAOT.h00v01.20141311245.hdf', 'D:\\\\Annies_Dissertation\\\\MAIAC_Test\\\\2014\\\\MAIACAAOT.h00v01.20141311425.hdf', 'D:\\\\Annies_Dissertation\\\\MAIAC_Test\\\\2014\\\\MAIACAAOT.h00v01.20141321150.hdf', 'D:\\\\Annies_Dissertation\\\\MAIAC_Test\\\\2014\\\\MAIACAAOT.h00v01.20141321330.hdf', 'D:\\\\Annies_Dissertation\\\\MAIAC_Test\\\\2014\\\\MAIACAAOT.h00v01.20141321505.hdf', 'D:\\\\Annies_Dissertation\\\\MAIAC_Test\\\\2014\\\\MAIACAAOT.h00v01.20141331235.hdf', 'D:\\\\Annies_Dissertation\\\\MAIAC_Test\\\\2014\\\\MAIACAAOT.h00v01.20141331410.hdf', 'D:\\\\Annies_Dissertation\\\\MAIAC_Test\\\\2014\\\\MAIACAAOT.h00v01.20141341140.hdf', 'D:\\\\Annies_Dissertation\\\\MAIAC_Test\\\\2014\\\\MAIACAAOT.h00v01.20141341315.hdf', 'D:\\\\Annies_Dissertation\\\\MAIAC_Test\\\\2014\\\\MAIACAAOT.h00v01.20141341455.hdf', 'D:\\\\Annies_Dissertation\\\\MAIAC_Test\\\\2014\\\\MAIACAAOT.h00v01.20141351220.hdf', 'D:\\\\Annies_Dissertation\\\\MAIAC_Test\\\\2014\\\\MAIACAAOT.h00v01.20141351400.hdf', 'D:\\\\Annies_Dissertation\\\\MAIAC_Test\\\\2014\\\\MAIACAAOT.h00v01.20141351535.hdf', 'D:\\\\Annies_Dissertation\\\\MAIAC_Test\\\\2014\\\\MAIACAAOT.h00v01.20141361125.hdf', 'D:\\\\Annies_Dissertation\\\\MAIAC_Test\\\\2014\\\\MAIACAAOT.h00v01.20141361305.hdf', 'D:\\\\Annies_Dissertation\\\\MAIAC_Test\\\\2014\\\\MAIACAAOT.h00v01.20141361440.hdf', 'D:\\\\Annies_Dissertation\\\\MAIAC_Test\\\\2014\\\\MAIACAAOT.h00v01.20141371210.hdf', 'D:\\\\Annies_Dissertation\\\\MAIAC_Test\\\\2014\\\\MAIACAAOT.h00v01.20141371345.hdf', 'D:\\\\Annies_Dissertation\\\\MAIAC_Test\\\\2014\\\\MAIACAAOT.h00v01.20141371525.hdf', 'D:\\\\Annies_Dissertation\\\\MAIAC_Test\\\\2014\\\\MAIACAAOT.h00v01.20141381250.hdf', 'D:\\\\Annies_Dissertation\\\\MAIAC_Test\\\\2014\\\\MAIACAAOT.h00v01.20141381430.hdf', 'D:\\\\Annies_Dissertation\\\\MAIAC_Test\\\\2014\\\\MAIACAAOT.h00v01.20141391155.hdf', 'D:\\\\Annies_Dissertation\\\\MAIAC_Test\\\\2014\\\\MAIACAAOT.h00v01.20141391335.hdf', 'D:\\\\Annies_Dissertation\\\\MAIAC_Test\\\\2014\\\\MAIACAAOT.h00v01.20141391510.hdf', 'D:\\\\Annies_Dissertation\\\\MAIAC_Test\\\\2014\\\\MAIACAAOT.h00v01.20141401240.hdf', 'D:\\\\Annies_Dissertation\\\\MAIAC_Test\\\\2014\\\\MAIACAAOT.h00v01.20141401415.hdf', 'D:\\\\Annies_Dissertation\\\\MAIAC_Test\\\\2014\\\\MAIACAAOT.h00v01.20141411145.hdf', 'D:\\\\Annies_Dissertation\\\\MAIAC_Test\\\\2014\\\\MAIACAAOT.h00v01.20141411320.hdf', 'D:\\\\Annies_Dissertation\\\\MAIAC_Test\\\\2014\\\\MAIACAAOT.h00v01.20141411500.hdf', 'D:\\\\Annies_Dissertation\\\\MAIAC_Test\\\\2014\\\\MAIACAAOT.h00v01.20141421225.hdf', 'D:\\\\Annies_Dissertation\\\\MAIAC_Test\\\\2014\\\\MAIACAAOT.h00v01.20141421405.hdf', 'D:\\\\Annies_Dissertation\\\\MAIAC_Test\\\\2014\\\\MAIACAAOT.h00v01.20141421545.hdf', 'D:\\\\Annies_Dissertation\\\\MAIAC_Test\\\\2014\\\\MAIACAAOT.h00v01.20141431130.hdf', 'D:\\\\Annies_Dissertation\\\\MAIAC_Test\\\\2014\\\\MAIACAAOT.h00v01.20141431310.hdf', 'D:\\\\Annies_Dissertation\\\\MAIAC_Test\\\\2014\\\\MAIACAAOT.h00v01.20141431450.hdf', 'D:\\\\Annies_Dissertation\\\\MAIAC_Test\\\\2014\\\\MAIACAAOT.h00v01.20141441215.hdf', 'D:\\\\Annies_Dissertation\\\\MAIAC_Test\\\\2014\\\\MAIACAAOT.h00v01.20141441355.hdf', 'D:\\\\Annies_Dissertation\\\\MAIAC_Test\\\\2014\\\\MAIACAAOT.h00v01.20141441530.hdf', 'D:\\\\Annies_Dissertation\\\\MAIAC_Test\\\\2014\\\\MAIACAAOT.h00v01.20141451120.hdf', 'D:\\\\Annies_Dissertation\\\\MAIAC_Test\\\\2014\\\\MAIACAAOT.h00v01.20141451300.hdf', 'D:\\\\Annies_Dissertation\\\\MAIAC_Test\\\\2014\\\\MAIACAAOT.h00v01.20141451435.hdf', 'D:\\\\Annies_Dissertation\\\\MAIAC_Test\\\\2014\\\\MAIACAAOT.h00v01.20141461200.hdf', 'D:\\\\Annies_Dissertation\\\\MAIAC_Test\\\\2014\\\\MAIACAAOT.h00v01.20141461340.hdf', 'D:\\\\Annies_Dissertation\\\\MAIAC_Test\\\\2014\\\\MAIACAAOT.h00v01.20141461520.hdf', 'D:\\\\Annies_Dissertation\\\\MAIAC_Test\\\\2014\\\\MAIACAAOT.h00v01.20141471245.hdf', 'D:\\\\Annies_Dissertation\\\\MAIAC_Test\\\\2014\\\\MAIACAAOT.h00v01.20141471425.hdf', 'D:\\\\Annies_Dissertation\\\\MAIAC_Test\\\\2014\\\\MAIACAAOT.h00v01.20141481150.hdf', 'D:\\\\Annies_Dissertation\\\\MAIAC_Test\\\\2014\\\\MAIACAAOT.h00v01.20141481330.hdf', 'D:\\\\Annies_Dissertation\\\\MAIAC_Test\\\\2014\\\\MAIACAAOT.h00v01.20141481505.hdf', 'D:\\\\Annies_Dissertation\\\\MAIAC_Test\\\\2014\\\\MAIACAAOT.h00v01.20141491235.hdf', 'D:\\\\Annies_Dissertation\\\\MAIAC_Test\\\\2014\\\\MAIACAAOT.h00v01.20141491410.hdf', 'D:\\\\Annies_Dissertation\\\\MAIAC_Test\\\\2014\\\\MAIACAAOT.h00v01.20141501140.hdf', 'D:\\\\Annies_Dissertation\\\\MAIAC_Test\\\\2014\\\\MAIACAAOT.h00v01.20141501315.hdf', 'D:\\\\Annies_Dissertation\\\\MAIAC_Test\\\\2014\\\\MAIACAAOT.h00v01.20141501455.hdf', 'D:\\\\Annies_Dissertation\\\\MAIAC_Test\\\\2014\\\\MAIACAAOT.h00v01.20141511220.hdf', 'D:\\\\Annies_Dissertation\\\\MAIAC_Test\\\\2014\\\\MAIACAAOT.h00v01.20141511400.hdf', 'D:\\\\Annies_Dissertation\\\\MAIAC_Test\\\\2014\\\\MAIACAAOT.h00v01.20141511535.hdf', 'D:\\\\Annies_Dissertation\\\\MAIAC_Test\\\\2014\\\\MAIACAAOT.h00v01.20141521125.hdf', 'D:\\\\Annies_Dissertation\\\\MAIAC_Test\\\\2014\\\\MAIACAAOT.h00v01.20141521305.hdf', 'D:\\\\Annies_Dissertation\\\\MAIAC_Test\\\\2014\\\\MAIACAAOT.h00v01.20141521440.hdf', 'D:\\\\Annies_Dissertation\\\\MAIAC_Test\\\\2014\\\\MAIACAAOT.h00v01.20141531210.hdf', 'D:\\\\Annies_Dissertation\\\\MAIAC_Test\\\\2014\\\\MAIACAAOT.h00v01.20141531345.hdf', 'D:\\\\Annies_Dissertation\\\\MAIAC_Test\\\\2014\\\\MAIACAAOT.h00v01.20141531525.hdf', 'D:\\\\Annies_Dissertation\\\\MAIAC_Test\\\\2014\\\\MAIACAAOT.h00v01.20141541250.hdf', 'D:\\\\Annies_Dissertation\\\\MAIAC_Test\\\\2014\\\\MAIACAAOT.h00v01.20141541430.hdf', 'D:\\\\Annies_Dissertation\\\\MAIAC_Test\\\\2014\\\\MAIACAAOT.h00v01.20141551155.hdf', 'D:\\\\Annies_Dissertation\\\\MAIAC_Test\\\\2014\\\\MAIACAAOT.h00v01.20141551335.hdf', 'D:\\\\Annies_Dissertation\\\\MAIAC_Test\\\\2014\\\\MAIACAAOT.h00v01.20141551510.hdf', 'D:\\\\Annies_Dissertation\\\\MAIAC_Test\\\\2014\\\\MAIACAAOT.h00v01.20141561240.hdf', 'D:\\\\Annies_Dissertation\\\\MAIAC_Test\\\\2014\\\\MAIACAAOT.h00v01.20141561415.hdf', 'D:\\\\Annies_Dissertation\\\\MAIAC_Test\\\\2014\\\\MAIACAAOT.h00v01.20141571145.hdf', 'D:\\\\Annies_Dissertation\\\\MAIAC_Test\\\\2014\\\\MAIACAAOT.h00v01.20141571320.hdf', 'D:\\\\Annies_Dissertation\\\\MAIAC_Test\\\\2014\\\\MAIACAAOT.h00v01.20141571500.hdf', 'D:\\\\Annies_Dissertation\\\\MAIAC_Test\\\\2014\\\\MAIACAAOT.h00v01.20141581225.hdf', 'D:\\\\Annies_Dissertation\\\\MAIAC_Test\\\\2014\\\\MAIACAAOT.h00v01.20141581405.hdf', 'D:\\\\Annies_Dissertation\\\\MAIAC_Test\\\\2014\\\\MAIACAAOT.h00v01.20141581545.hdf', 'D:\\\\Annies_Dissertation\\\\MAIAC_Test\\\\2014\\\\MAIACAAOT.h00v01.20141591130.hdf', 'D:\\\\Annies_Dissertation\\\\MAIAC_Test\\\\2014\\\\MAIACAAOT.h00v01.20141591310.hdf', 'D:\\\\Annies_Dissertation\\\\MAIAC_Test\\\\2014\\\\MAIACAAOT.h00v01.20141591450.hdf', 'D:\\\\Annies_Dissertation\\\\MAIAC_Test\\\\2014\\\\MAIACAAOT.h00v01.20141601215.hdf', 'D:\\\\Annies_Dissertation\\\\MAIAC_Test\\\\2014\\\\MAIACAAOT.h00v01.20141601355.hdf', 'D:\\\\Annies_Dissertation\\\\MAIAC_Test\\\\2014\\\\MAIACAAOT.h00v01.20141601530.hdf', 'D:\\\\Annies_Dissertation\\\\MAIAC_Test\\\\2014\\\\MAIACAAOT.h00v01.20141611120.hdf', 'D:\\\\Annies_Dissertation\\\\MAIAC_Test\\\\2014\\\\MAIACAAOT.h00v01.20141611300.hdf', 'D:\\\\Annies_Dissertation\\\\MAIAC_Test\\\\2014\\\\MAIACAAOT.h00v01.20141611435.hdf', 'D:\\\\Annies_Dissertation\\\\MAIAC_Test\\\\2014\\\\MAIACAAOT.h00v01.20141621200.hdf', 'D:\\\\Annies_Dissertation\\\\MAIAC_Test\\\\2014\\\\MAIACAAOT.h00v01.20141621340.hdf', 'D:\\\\Annies_Dissertation\\\\MAIAC_Test\\\\2014\\\\MAIACAAOT.h00v01.20141621520.hdf', 'D:\\\\Annies_Dissertation\\\\MAIAC_Test\\\\2014\\\\MAIACAAOT.h00v01.20141631245.hdf', 'D:\\\\Annies_Dissertation\\\\MAIAC_Test\\\\2014\\\\MAIACAAOT.h00v01.20141631425.hdf', 'D:\\\\Annies_Dissertation\\\\MAIAC_Test\\\\2014\\\\MAIACAAOT.h00v01.20141641150.hdf', 'D:\\\\Annies_Dissertation\\\\MAIAC_Test\\\\2014\\\\MAIACAAOT.h00v01.20141641330.hdf', 'D:\\\\Annies_Dissertation\\\\MAIAC_Test\\\\2014\\\\MAIACAAOT.h00v01.20141641505.hdf', 'D:\\\\Annies_Dissertation\\\\MAIAC_Test\\\\2014\\\\MAIACAAOT.h00v01.20141651235.hdf', 'D:\\\\Annies_Dissertation\\\\MAIAC_Test\\\\2014\\\\MAIACAAOT.h00v01.20141651410.hdf', 'D:\\\\Annies_Dissertation\\\\MAIAC_Test\\\\2014\\\\MAIACAAOT.h00v01.20141661140.hdf', 'D:\\\\Annies_Dissertation\\\\MAIAC_Test\\\\2014\\\\MAIACAAOT.h00v01.20141661315.hdf', 'D:\\\\Annies_Dissertation\\\\MAIAC_Test\\\\2014\\\\MAIACAAOT.h00v01.20141661455.hdf', 'D:\\\\Annies_Dissertation\\\\MAIAC_Test\\\\2014\\\\MAIACAAOT.h00v01.20141671220.hdf', 'D:\\\\Annies_Dissertation\\\\MAIAC_Test\\\\2014\\\\MAIACAAOT.h00v01.20141671400.hdf', 'D:\\\\Annies_Dissertation\\\\MAIAC_Test\\\\2014\\\\MAIACAAOT.h00v01.20141671535.hdf', 'D:\\\\Annies_Dissertation\\\\MAIAC_Test\\\\2014\\\\MAIACAAOT.h00v01.20141681125.hdf', 'D:\\\\Annies_Dissertation\\\\MAIAC_Test\\\\2014\\\\MAIACAAOT.h00v01.20141681305.hdf', 'D:\\\\Annies_Dissertation\\\\MAIAC_Test\\\\2014\\\\MAIACAAOT.h00v01.20141681440.hdf', 'D:\\\\Annies_Dissertation\\\\MAIAC_Test\\\\2014\\\\MAIACAAOT.h00v01.20141691210.hdf', 'D:\\\\Annies_Dissertation\\\\MAIAC_Test\\\\2014\\\\MAIACAAOT.h00v01.20141691345.hdf', 'D:\\\\Annies_Dissertation\\\\MAIAC_Test\\\\2014\\\\MAIACAAOT.h00v01.20141691525.hdf', 'D:\\\\Annies_Dissertation\\\\MAIAC_Test\\\\2014\\\\MAIACAAOT.h00v01.20141701250.hdf', 'D:\\\\Annies_Dissertation\\\\MAIAC_Test\\\\2014\\\\MAIACAAOT.h00v01.20141701430.hdf', 'D:\\\\Annies_Dissertation\\\\MAIAC_Test\\\\2014\\\\MAIACAAOT.h00v01.20141711155.hdf', 'D:\\\\Annies_Dissertation\\\\MAIAC_Test\\\\2014\\\\MAIACAAOT.h00v01.20141711335.hdf', 'D:\\\\Annies_Dissertation\\\\MAIAC_Test\\\\2014\\\\MAIACAAOT.h00v01.20141711510.hdf', 'D:\\\\Annies_Dissertation\\\\MAIAC_Test\\\\2014\\\\MAIACAAOT.h00v01.20141721240.hdf', 'D:\\\\Annies_Dissertation\\\\MAIAC_Test\\\\2014\\\\MAIACAAOT.h00v01.20141721415.hdf', 'D:\\\\Annies_Dissertation\\\\MAIAC_Test\\\\2014\\\\MAIACAAOT.h00v01.20141731145.hdf', 'D:\\\\Annies_Dissertation\\\\MAIAC_Test\\\\2014\\\\MAIACAAOT.h00v01.20141731320.hdf', 'D:\\\\Annies_Dissertation\\\\MAIAC_Test\\\\2014\\\\MAIACAAOT.h00v01.20141731500.hdf', 'D:\\\\Annies_Dissertation\\\\MAIAC_Test\\\\2014\\\\MAIACAAOT.h00v01.20141741225.hdf', 'D:\\\\Annies_Dissertation\\\\MAIAC_Test\\\\2014\\\\MAIACAAOT.h00v01.20141741405.hdf', 'D:\\\\Annies_Dissertation\\\\MAIAC_Test\\\\2014\\\\MAIACAAOT.h00v01.20141741545.hdf', 'D:\\\\Annies_Dissertation\\\\MAIAC_Test\\\\2014\\\\MAIACAAOT.h00v01.20141751130.hdf', 'D:\\\\Annies_Dissertation\\\\MAIAC_Test\\\\2014\\\\MAIACAAOT.h00v01.20141751310.hdf', 'D:\\\\Annies_Dissertation\\\\MAIAC_Test\\\\2014\\\\MAIACAAOT.h00v01.20141751445.hdf', 'D:\\\\Annies_Dissertation\\\\MAIAC_Test\\\\2014\\\\MAIACAAOT.h00v01.20141761215.hdf', 'D:\\\\Annies_Dissertation\\\\MAIAC_Test\\\\2014\\\\MAIACAAOT.h00v01.20141761350.hdf', 'D:\\\\Annies_Dissertation\\\\MAIAC_Test\\\\2014\\\\MAIACAAOT.h00v01.20141761530.hdf', 'D:\\\\Annies_Dissertation\\\\MAIAC_Test\\\\2014\\\\MAIACAAOT.h00v01.20141771120.hdf', 'D:\\\\Annies_Dissertation\\\\MAIAC_Test\\\\2014\\\\MAIACAAOT.h00v01.20141771300.hdf', 'D:\\\\Annies_Dissertation\\\\MAIAC_Test\\\\2014\\\\MAIACAAOT.h00v01.20141771435.hdf', 'D:\\\\Annies_Dissertation\\\\MAIAC_Test\\\\2014\\\\MAIACAAOT.h00v01.20141781200.hdf', 'D:\\\\Annies_Dissertation\\\\MAIAC_Test\\\\2014\\\\MAIACAAOT.h00v01.20141781340.hdf', 'D:\\\\Annies_Dissertation\\\\MAIAC_Test\\\\2014\\\\MAIACAAOT.h00v01.20141781520.hdf', 'D:\\\\Annies_Dissertation\\\\MAIAC_Test\\\\2014\\\\MAIACAAOT.h00v01.20141791245.hdf', 'D:\\\\Annies_Dissertation\\\\MAIAC_Test\\\\2014\\\\MAIACAAOT.h00v01.20141791425.hdf', 'D:\\\\Annies_Dissertation\\\\MAIAC_Test\\\\2014\\\\MAIACAAOT.h00v01.20141801150.hdf', 'D:\\\\Annies_Dissertation\\\\MAIAC_Test\\\\2014\\\\MAIACAAOT.h00v01.20141801330.hdf', 'D:\\\\Annies_Dissertation\\\\MAIAC_Test\\\\2014\\\\MAIACAAOT.h00v01.20141801505.hdf', 'D:\\\\Annies_Dissertation\\\\MAIAC_Test\\\\2014\\\\MAIACAAOT.h00v01.20141811235.hdf', 'D:\\\\Annies_Dissertation\\\\MAIAC_Test\\\\2014\\\\MAIACAAOT.h00v01.20141811410.hdf', 'D:\\\\Annies_Dissertation\\\\MAIAC_Test\\\\2014\\\\MAIACAAOT.h00v01.20141811550.hdf']\n"
     ]
    }
   ],
   "source": [
    "# Arguments of the function\n",
    "input_folder= r'D:\\Annies_Dissertation\\MAIAC_Test'\n",
    "output_folder = r'D:\\Annies_Dissertation\\MAIAC_Test\\Projected'\n",
    "glob_string = '????\\MAIACAAOT*.hdf'\n",
    "\n",
    "filenames = glob.glob(os.path.join(input_folder, glob_string))\n",
    "print(filenames)"
   ]
  },
  {
   "cell_type": "markdown",
   "metadata": {},
   "source": [
    "# Create geoloc.vrt"
   ]
  },
  {
   "cell_type": "code",
   "execution_count": 3,
   "metadata": {
    "collapsed": true
   },
   "outputs": [],
   "source": [
    "xml = \"\"\"<VRTDataset rasterXSize=\"1200\" rasterYSize=\"1200\">\n",
    "  <Metadata domain=\"GEOLOCATION\">\n",
    "     <mdi key=\"X_DATASET\">h00v01_lon.vrt</mdi>\n",
    "     <mdi key=\"X_BAND\">1</mdi>\n",
    "     <mdi key=\"Y_DATASET\">h00v01_lat.vrt</mdi>\n",
    "     <mdi key=\"Y_BAND\">1</mdi>\n",
    "     <mdi key=\"PIXEL_OFFSET\">0</mdi>\n",
    "     <mdi key=\"LINE_OFFSET\">0</mdi>\n",
    "     <mdi key=\"PIXEL_STEP\">1</mdi>\n",
    "     <mdi key=\"LINE_STEP\">1</mdi>\n",
    "  </Metadata>\n",
    "  <VRTRasterBand dataType=\"Float32\" band=\"1\">\n",
    "    <ColorInterp>Gray</ColorInterp>\n",
    "    <SimpleSource>\n",
    "      <SourceFilename relativeToVRT=\"0\">HDF4_EOS:EOS_GRID:\"{fname}\":grid1km:Optical_Depth_Land</SourceFilename>\n",
    "      <SourceBand>1</SourceBand>\n",
    "      <SourceProperties RasterXSize=\"1200\" RasterYSize=\"1200\" DataType=\"Float32\" BlockXSize=\"1200\" BlockYSize=\"1200\" />\n",
    "      <SrcRect xOff=\"0\" yOff=\"0\" xSize=\"1200\" ySize=\"1200\" />\n",
    "      <DstRect xOff=\"0\" yOff=\"0\" xSize=\"1200\" ySize=\"1200\" />\n",
    "    </SimpleSource>\n",
    "  </VRTRasterBand>\n",
    "</VRTDataset>\n",
    "\"\"\""
   ]
  },
  {
   "cell_type": "markdown",
   "metadata": {},
   "source": [
    "# Function which writes geoloc.vrt for each filename"
   ]
  },
  {
   "cell_type": "code",
   "execution_count": 4,
   "metadata": {
    "collapsed": true
   },
   "outputs": [],
   "source": [
    "def geoloc(fname):\n",
    "    with open(r'D:\\Annies_Dissertation\\MAIAC_Test\\2014\\geoloc_test.vrt', 'w') as myfile:\n",
    "        myfile.write(xml.format(fname=fname))"
   ]
  },
  {
   "cell_type": "markdown",
   "metadata": {},
   "source": [
    "# Funcrion that warps each image and produces a projected image"
   ]
  },
  {
   "cell_type": "code",
   "execution_count": 25,
   "metadata": {
    "collapsed": true
   },
   "outputs": [],
   "source": [
    "def warp(fname):\n",
    "    (gdal.Warp(r'{fname}_proj.tif'.format(fname=fname),\n",
    "               r'D:\\Annies_Dissertation\\MAIAC_Test\\2014\\geoloc_test.vrt',\n",
    "               geoloc = True, srcSRS = 'EPSG:4326', dstSRS = 'EPSG:27700', srcNodata = -28672, dstNodata = -28672))"
   ]
  },
  {
   "cell_type": "markdown",
   "metadata": {},
   "source": [
    "# For statement which loops over each file and produces the geoloc.vrt and projects the image"
   ]
  },
  {
   "cell_type": "code",
   "execution_count": 26,
   "metadata": {
    "collapsed": false,
    "scrolled": true
   },
   "outputs": [
    {
     "name": "stdout",
     "output_type": "stream",
     "text": [
      "Geolocating D:\\Annies_Dissertation\\MAIAC_Test\\2014\\MAIACAAOT.h00v01.20140011255.hdf\n",
      "Warping D:\\Annies_Dissertation\\MAIAC_Test\\2014\\MAIACAAOT.h00v01.20140011255.hdf\n",
      "Geolocating D:\\Annies_Dissertation\\MAIAC_Test\\2014\\MAIACAAOT.h00v01.20140011430.hdf\n",
      "Warping D:\\Annies_Dissertation\\MAIAC_Test\\2014\\MAIACAAOT.h00v01.20140011430.hdf\n",
      "Geolocating D:\\Annies_Dissertation\\MAIAC_Test\\2014\\MAIACAAOT.h00v01.20140021200.hdf\n",
      "Warping D:\\Annies_Dissertation\\MAIAC_Test\\2014\\MAIACAAOT.h00v01.20140021200.hdf\n",
      "Geolocating D:\\Annies_Dissertation\\MAIAC_Test\\2014\\MAIACAAOT.h00v01.20140021335.hdf\n",
      "Warping D:\\Annies_Dissertation\\MAIAC_Test\\2014\\MAIACAAOT.h00v01.20140021335.hdf\n",
      "Geolocating D:\\Annies_Dissertation\\MAIAC_Test\\2014\\MAIACAAOT.h00v01.20140031240.hdf\n",
      "Warping D:\\Annies_Dissertation\\MAIAC_Test\\2014\\MAIACAAOT.h00v01.20140031240.hdf\n",
      "Geolocating D:\\Annies_Dissertation\\MAIAC_Test\\2014\\MAIACAAOT.h00v01.20140031420.hdf\n",
      "Warping D:\\Annies_Dissertation\\MAIAC_Test\\2014\\MAIACAAOT.h00v01.20140031420.hdf\n",
      "Geolocating D:\\Annies_Dissertation\\MAIAC_Test\\2014\\MAIACAAOT.h00v01.20140041145.hdf\n",
      "Warping D:\\Annies_Dissertation\\MAIAC_Test\\2014\\MAIACAAOT.h00v01.20140041145.hdf\n",
      "Geolocating D:\\Annies_Dissertation\\MAIAC_Test\\2014\\MAIACAAOT.h00v01.20140041325.hdf\n",
      "Warping D:\\Annies_Dissertation\\MAIAC_Test\\2014\\MAIACAAOT.h00v01.20140041325.hdf\n"
     ]
    },
    {
     "ename": "SystemError",
     "evalue": "<built-in function wrapper_GDALWarpDestName> returned a result with an error set",
     "output_type": "error",
     "traceback": [
      "\u001b[1;31m---------------------------------------------------------------------------\u001b[0m",
      "\u001b[1;31mKeyboardInterrupt\u001b[0m                         Traceback (most recent call last)",
      "\u001b[1;31mKeyboardInterrupt\u001b[0m: ",
      "\nDuring handling of the above exception, another exception occurred:\n",
      "\u001b[1;31mSystemError\u001b[0m                               Traceback (most recent call last)",
      "\u001b[1;32m<ipython-input-26-03db1be028cb>\u001b[0m in \u001b[0;36m<module>\u001b[1;34m()\u001b[0m\n\u001b[0;32m     12\u001b[0m \u001b[1;33m\u001b[0m\u001b[0m\n\u001b[0;32m     13\u001b[0m     \u001b[0mprint\u001b[0m\u001b[1;33m(\u001b[0m\u001b[1;34m'Warping {fname}'\u001b[0m\u001b[1;33m.\u001b[0m\u001b[0mformat\u001b[0m\u001b[1;33m(\u001b[0m\u001b[0mfname\u001b[0m\u001b[1;33m=\u001b[0m\u001b[0mfilename\u001b[0m\u001b[1;33m)\u001b[0m\u001b[1;33m)\u001b[0m\u001b[1;33m\u001b[0m\u001b[0m\n\u001b[1;32m---> 14\u001b[1;33m     \u001b[0mwarp\u001b[0m\u001b[1;33m(\u001b[0m\u001b[0moutput_filename\u001b[0m\u001b[1;33m)\u001b[0m\u001b[1;33m\u001b[0m\u001b[0m\n\u001b[0m\u001b[0;32m     15\u001b[0m \u001b[1;33m\u001b[0m\u001b[0m\n",
      "\u001b[1;32m<ipython-input-25-10440e817d57>\u001b[0m in \u001b[0;36mwarp\u001b[1;34m(fname)\u001b[0m\n\u001b[0;32m      2\u001b[0m     (gdal.Warp(r'{fname}_proj.tif'.format(fname=fname),\n\u001b[0;32m      3\u001b[0m                \u001b[1;34mr'D:\\Annies_Dissertation\\MAIAC_Test\\2014\\geoloc_test.vrt'\u001b[0m\u001b[1;33m,\u001b[0m\u001b[1;33m\u001b[0m\u001b[0m\n\u001b[1;32m----> 4\u001b[1;33m                geoloc = True, srcSRS = 'EPSG:4326', dstSRS = 'EPSG:27700'))\n\u001b[0m",
      "\u001b[1;32mD:\\Anaconda3\\lib\\site-packages\\osgeo\\gdal.py\u001b[0m in \u001b[0;36mWarp\u001b[1;34m(destNameOrDestDS, srcDSOrSrcDSTab, **kwargs)\u001b[0m\n\u001b[0;32m    547\u001b[0m \u001b[1;33m\u001b[0m\u001b[0m\n\u001b[0;32m    548\u001b[0m     \u001b[1;32mif\u001b[0m \u001b[0m_is_str_or_unicode\u001b[0m\u001b[1;33m(\u001b[0m\u001b[0mdestNameOrDestDS\u001b[0m\u001b[1;33m)\u001b[0m\u001b[1;33m:\u001b[0m\u001b[1;33m\u001b[0m\u001b[0m\n\u001b[1;32m--> 549\u001b[1;33m         \u001b[1;32mreturn\u001b[0m \u001b[0mwrapper_GDALWarpDestName\u001b[0m\u001b[1;33m(\u001b[0m\u001b[0mdestNameOrDestDS\u001b[0m\u001b[1;33m,\u001b[0m \u001b[0msrcDSTab\u001b[0m\u001b[1;33m,\u001b[0m \u001b[0mopts\u001b[0m\u001b[1;33m,\u001b[0m \u001b[0mcallback\u001b[0m\u001b[1;33m,\u001b[0m \u001b[0mcallback_data\u001b[0m\u001b[1;33m)\u001b[0m\u001b[1;33m\u001b[0m\u001b[0m\n\u001b[0m\u001b[0;32m    550\u001b[0m     \u001b[1;32melse\u001b[0m\u001b[1;33m:\u001b[0m\u001b[1;33m\u001b[0m\u001b[0m\n\u001b[0;32m    551\u001b[0m         \u001b[1;32mreturn\u001b[0m \u001b[0mwrapper_GDALWarpDestDS\u001b[0m\u001b[1;33m(\u001b[0m\u001b[0mdestNameOrDestDS\u001b[0m\u001b[1;33m,\u001b[0m \u001b[0msrcDSTab\u001b[0m\u001b[1;33m,\u001b[0m \u001b[0mopts\u001b[0m\u001b[1;33m,\u001b[0m \u001b[0mcallback\u001b[0m\u001b[1;33m,\u001b[0m \u001b[0mcallback_data\u001b[0m\u001b[1;33m)\u001b[0m\u001b[1;33m\u001b[0m\u001b[0m\n",
      "\u001b[1;31mSystemError\u001b[0m: <built-in function wrapper_GDALWarpDestName> returned a result with an error set"
     ]
    }
   ],
   "source": [
    "for filename in filenames:\n",
    "    print('Geolocating {fname}'.format(fname=filename))\n",
    "    geoloc(filename)\n",
    "    \n",
    "    \n",
    "    output_filename = os.path.join(output_folder, os.path.relpath(filename, start=input_folder))\n",
    "    output_dir = os.path.dirname(output_filename)\n",
    "    \n",
    "    if not os.path.exists(output_dir):\n",
    "        os.makedirs(output_dir)\n",
    "        \n",
    "        \n",
    "    print('Warping {fname}'.format(fname=filename))\n",
    "    warp(output_filename)\n",
    "    "
   ]
  },
  {
   "cell_type": "code",
   "execution_count": 8,
   "metadata": {
    "collapsed": true
   },
   "outputs": [],
   "source": [
    "gdal.Warp?"
   ]
  },
  {
   "cell_type": "code",
   "execution_count": null,
   "metadata": {
    "collapsed": true
   },
   "outputs": [],
   "source": []
  }
 ],
 "metadata": {
  "kernelspec": {
   "display_name": "Python 3",
   "language": "python",
   "name": "python3"
  },
  "language_info": {
   "codemirror_mode": {
    "name": "ipython",
    "version": 3
   },
   "file_extension": ".py",
   "mimetype": "text/x-python",
   "name": "python",
   "nbconvert_exporter": "python",
   "pygments_lexer": "ipython3",
   "version": "3.5.1"
  }
 },
 "nbformat": 4,
 "nbformat_minor": 0
}
