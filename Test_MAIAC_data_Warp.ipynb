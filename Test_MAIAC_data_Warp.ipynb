{
 "cells": [
  {
   "cell_type": "markdown",
   "metadata": {},
   "source": [
    "# Import relevant libraries"
   ]
  },
  {
   "cell_type": "code",
   "execution_count": 1,
   "metadata": {
    "collapsed": true
   },
   "outputs": [],
   "source": [
    "import os\n",
    "import gdal\n",
    "import glob"
   ]
  },
  {
   "cell_type": "markdown",
   "metadata": {},
   "source": [
    "# Translate Lat and Lon files\n",
    "- Find out information about the lat lon file\n",
    "- Using the gdal_translate tool convert the lat and lon hdr files into vrt format"
   ]
  },
  {
   "cell_type": "code",
   "execution_count": 2,
   "metadata": {
    "collapsed": false
   },
   "outputs": [
    {
     "name": "stdout",
     "output_type": "stream",
     "text": [
      "Driver: HDF4/Hierarchical Data Format Release 4\n",
      "Files: D:\\Annies_Dissertation\\MAIAC_Test\\subset\\MAIACLatlon.h00v01.hdf\n",
      "Size is 512, 512\n",
      "Coordinate System is `'\n",
      "Metadata:\n",
      "  HDFEOSVersion=HDFEOS_V2.12\n",
      "Subdatasets:\n",
      "  SUBDATASET_1_NAME=HDF4_EOS:EOS_GRID:\"D:\\Annies_Dissertation\\MAIAC_Test\\subset\\MAIACLatlon.h00v01.hdf\":latlon:lat\n",
      "  SUBDATASET_1_DESC=[1200x1200] lat latlon (32-bit floating-point)\n",
      "  SUBDATASET_2_NAME=HDF4_EOS:EOS_GRID:\"D:\\Annies_Dissertation\\MAIAC_Test\\subset\\MAIACLatlon.h00v01.hdf\":latlon:lon\n",
      "  SUBDATASET_2_DESC=[1200x1200] lon latlon (32-bit floating-point)\n",
      "Corner Coordinates:\n",
      "Upper Left  (    0.0,    0.0)\n",
      "Lower Left  (    0.0,  512.0)\n",
      "Upper Right (  512.0,    0.0)\n",
      "Lower Right (  512.0,  512.0)\n",
      "Center      (  256.0,  256.0)\n",
      "\n"
     ]
    }
   ],
   "source": [
    "latlon_info = gdal.Info(r'D:\\Annies_Dissertation\\MAIAC_Test\\subset\\MAIACLatlon.h00v01.hdf')\n",
    "print(latlon_info)"
   ]
  },
  {
   "cell_type": "code",
   "execution_count": 3,
   "metadata": {
    "collapsed": false
   },
   "outputs": [
    {
     "data": {
      "text/plain": [
       "<osgeo.gdal.Dataset; proxy of <Swig Object of type 'GDALDatasetShadow *' at 0x000000A371161570> >"
      ]
     },
     "execution_count": 3,
     "metadata": {},
     "output_type": "execute_result"
    }
   ],
   "source": [
    "gdal.Translate(r\"D:\\Annies_Dissertation\\MAIAC_Test\\subset\\h00v01_lat.vrt\", r'HDF4_EOS:EOS_GRID:\"D:\\Annies_Dissertation\\MAIAC_Test\\subset\\MAIACLatlon.h00v01.hdf\":latlon:lat', format = 'VRT' )"
   ]
  },
  {
   "cell_type": "code",
   "execution_count": 4,
   "metadata": {
    "collapsed": false
   },
   "outputs": [
    {
     "data": {
      "text/plain": [
       "<osgeo.gdal.Dataset; proxy of <Swig Object of type 'GDALDatasetShadow *' at 0x000000A3711614E0> >"
      ]
     },
     "execution_count": 4,
     "metadata": {},
     "output_type": "execute_result"
    }
   ],
   "source": [
    "gdal.Translate(r\"D:\\Annies_Dissertation\\MAIAC_Test\\subset\\h00v01_lon.vrt\", r'HDF4_EOS:EOS_GRID:\"D:\\Annies_Dissertation\\MAIAC_Test\\subset\\MAIACLatlon.h00v01.hdf\":latlon:lon', format = 'VRT' )"
   ]
  },
  {
   "cell_type": "markdown",
   "metadata": {},
   "source": [
    "# Warp the AOT images\n",
    "- get a list of names of HDF files\n",
    "- for each file name in list write data.vrt (change file name in data.vrt for each of the files)\n",
    "    - use os.system or os.path to write a 'data.vrt' text file in xml language \n",
    "    - open(\"data.vrt\")\n",
    "- run gdal_warp and rename projected*.tif"
   ]
  },
  {
   "cell_type": "markdown",
   "metadata": {},
   "source": [
    "# Get a list of files"
   ]
  },
  {
   "cell_type": "code",
   "execution_count": 5,
   "metadata": {
    "collapsed": false
   },
   "outputs": [
    {
     "name": "stdout",
     "output_type": "stream",
     "text": [
      "['D:\\\\Annies_Dissertation\\\\MAIAC_Test\\\\subset\\\\2012\\\\MAIACAAOT.h00v01.20120011310.hdf', 'D:\\\\Annies_Dissertation\\\\MAIAC_Test\\\\subset\\\\2012\\\\MAIACAAOT.h00v01.20120011450.hdf', 'D:\\\\Annies_Dissertation\\\\MAIAC_Test\\\\subset\\\\2012\\\\MAIACAAOT.h00v01.20120021215.hdf', 'D:\\\\Annies_Dissertation\\\\MAIAC_Test\\\\subset\\\\2012\\\\MAIACAAOT.h00v01.20120021355.hdf', 'D:\\\\Annies_Dissertation\\\\MAIAC_Test\\\\subset\\\\2012\\\\MAIACAAOT.h00v01.20120031300.hdf', 'D:\\\\Annies_Dissertation\\\\MAIAC_Test\\\\subset\\\\2012\\\\MAIACAAOT.h00v01.20120031440.hdf', 'D:\\\\Annies_Dissertation\\\\MAIAC_Test\\\\subset\\\\2012\\\\MAIACAAOT.h00v01.20120041340.hdf', 'D:\\\\Annies_Dissertation\\\\MAIAC_Test\\\\subset\\\\2012\\\\MAIACAAOT.h00v01.20120051245.hdf', 'D:\\\\Annies_Dissertation\\\\MAIAC_Test\\\\subset\\\\2012\\\\MAIACAAOT.h00v01.20120051425.hdf', 'D:\\\\Annies_Dissertation\\\\MAIAC_Test\\\\subset\\\\2012\\\\MAIACAAOT.h00v01.20120061150.hdf', 'D:\\\\Annies_Dissertation\\\\MAIAC_Test\\\\subset\\\\2013\\\\MAIACAAOT.h00v01.20130011145.hdf', 'D:\\\\Annies_Dissertation\\\\MAIAC_Test\\\\subset\\\\2013\\\\MAIACAAOT.h00v01.20130011325.hdf', 'D:\\\\Annies_Dissertation\\\\MAIAC_Test\\\\subset\\\\2013\\\\MAIACAAOT.h00v01.20130011505.hdf', 'D:\\\\Annies_Dissertation\\\\MAIAC_Test\\\\subset\\\\2013\\\\MAIACAAOT.h00v01.20130021230.hdf', 'D:\\\\Annies_Dissertation\\\\MAIAC_Test\\\\subset\\\\2013\\\\MAIACAAOT.h00v01.20130021405.hdf', 'D:\\\\Annies_Dissertation\\\\MAIAC_Test\\\\subset\\\\2013\\\\MAIACAAOT.h00v01.20130031135.hdf', 'D:\\\\Annies_Dissertation\\\\MAIAC_Test\\\\subset\\\\2013\\\\MAIACAAOT.h00v01.20130031310.hdf', 'D:\\\\Annies_Dissertation\\\\MAIAC_Test\\\\subset\\\\2013\\\\MAIACAAOT.h00v01.20130031450.hdf', 'D:\\\\Annies_Dissertation\\\\MAIAC_Test\\\\subset\\\\2013\\\\MAIACAAOT.h00v01.20130041215.hdf', 'D:\\\\Annies_Dissertation\\\\MAIAC_Test\\\\subset\\\\2013\\\\MAIACAAOT.h00v01.20130041355.hdf', 'D:\\\\Annies_Dissertation\\\\MAIAC_Test\\\\subset\\\\2014\\\\MAIACAAOT.h00v01.20140011255.hdf', 'D:\\\\Annies_Dissertation\\\\MAIAC_Test\\\\subset\\\\2014\\\\MAIACAAOT.h00v01.20140011430.hdf', 'D:\\\\Annies_Dissertation\\\\MAIAC_Test\\\\subset\\\\2014\\\\MAIACAAOT.h00v01.20140021200.hdf', 'D:\\\\Annies_Dissertation\\\\MAIAC_Test\\\\subset\\\\2014\\\\MAIACAAOT.h00v01.20140021335.hdf', 'D:\\\\Annies_Dissertation\\\\MAIAC_Test\\\\subset\\\\2014\\\\MAIACAAOT.h00v01.20140031240.hdf', 'D:\\\\Annies_Dissertation\\\\MAIAC_Test\\\\subset\\\\2014\\\\MAIACAAOT.h00v01.20140031420.hdf', 'D:\\\\Annies_Dissertation\\\\MAIAC_Test\\\\subset\\\\2014\\\\MAIACAAOT.h00v01.20140041145.hdf', 'D:\\\\Annies_Dissertation\\\\MAIAC_Test\\\\subset\\\\2014\\\\MAIACAAOT.h00v01.20140041325.hdf', 'D:\\\\Annies_Dissertation\\\\MAIAC_Test\\\\subset\\\\2014\\\\MAIACAAOT.h00v01.20140041505.hdf', 'D:\\\\Annies_Dissertation\\\\MAIAC_Test\\\\subset\\\\2014\\\\MAIACAAOT.h00v01.20140051230.hdf']\n"
     ]
    }
   ],
   "source": [
    "filenames = glob.glob(r'D:\\Annies_Dissertation\\MAIAC_Test\\subset\\????\\MAIACAAOT*.hdf')\n",
    "print(filenames)"
   ]
  },
  {
   "cell_type": "markdown",
   "metadata": {},
   "source": [
    "# Create geoloc.vrt"
   ]
  },
  {
   "cell_type": "code",
   "execution_count": 6,
   "metadata": {
    "collapsed": true
   },
   "outputs": [],
   "source": [
    "xml = \"\"\"<VRTDataset rasterXSize=\"1200\" rasterYSize=\"1200\">\n",
    "  <Metadata domain=\"GEOLOCATION\">\n",
    "     <mdi key=\"X_DATASET\">h00v01_lon.vrt</mdi>\n",
    "     <mdi key=\"X_BAND\">1</mdi>\n",
    "     <mdi key=\"Y_DATASET\">h00v01_lat.vrt</mdi>\n",
    "     <mdi key=\"Y_BAND\">1</mdi>\n",
    "     <mdi key=\"PIXEL_OFFSET\">0</mdi>\n",
    "     <mdi key=\"LINE_OFFSET\">0</mdi>\n",
    "     <mdi key=\"PIXEL_STEP\">1</mdi>\n",
    "     <mdi key=\"LINE_STEP\">1</mdi>\n",
    "  </Metadata>\n",
    "  <VRTRasterBand dataType=\"Float32\" band=\"1\">\n",
    "    <ColorInterp>Gray</ColorInterp>\n",
    "    <SimpleSource>\n",
    "      <SourceFilename relativeToVRT=\"0\">HDF4_EOS:EOS_GRID:\"{fname}\":grid1km:Optical_Depth_Land</SourceFilename>\n",
    "      <SourceBand>1</SourceBand>\n",
    "      <SourceProperties RasterXSize=\"1200\" RasterYSize=\"1200\" DataType=\"Float32\" BlockXSize=\"1200\" BlockYSize=\"1200\" />\n",
    "      <SrcRect xOff=\"0\" yOff=\"0\" xSize=\"1200\" ySize=\"1200\" />\n",
    "      <DstRect xOff=\"0\" yOff=\"0\" xSize=\"1200\" ySize=\"1200\" />\n",
    "    </SimpleSource>\n",
    "  </VRTRasterBand>\n",
    "</VRTDataset>\n",
    "\"\"\""
   ]
  },
  {
   "cell_type": "markdown",
   "metadata": {},
   "source": [
    "# Function which writes geoloc.vrt for each filename"
   ]
  },
  {
   "cell_type": "code",
   "execution_count": 7,
   "metadata": {
    "collapsed": true
   },
   "outputs": [],
   "source": [
    "def geoloc(fname):\n",
    "    with open(r'D:\\Annies_Dissertation\\MAIAC_Test\\subset\\geoloc_test.vrt', 'w') as myfile:\n",
    "        myfile.write(xml.format(fname=fname))"
   ]
  },
  {
   "cell_type": "markdown",
   "metadata": {},
   "source": [
    "# Funcrion that warps each image and produces a projected image"
   ]
  },
  {
   "cell_type": "code",
   "execution_count": 8,
   "metadata": {
    "collapsed": true
   },
   "outputs": [],
   "source": [
    "def warp(fname):\n",
    "    (gdal.Warp(r'{fname}_proj.tif'.format(fname=fname),\n",
    "               r'D:\\Annies_Dissertation\\MAIAC_Test\\subset\\geoloc_test.vrt',\n",
    "               geoloc = True, srcSRS = 'EPSG:4326', dstSRS = 'EPSG:27700'))"
   ]
  },
  {
   "cell_type": "markdown",
   "metadata": {},
   "source": [
    "# For statement which loops over each file and produces the geoloc.vrt and projects the image"
   ]
  },
  {
   "cell_type": "code",
   "execution_count": 9,
   "metadata": {
    "collapsed": false,
    "scrolled": true
   },
   "outputs": [
    {
     "name": "stdout",
     "output_type": "stream",
     "text": [
      "Geolocating D:\\Annies_Dissertation\\MAIAC_Test\\subset\\2012\\MAIACAAOT.h00v01.20120011310.hdf\n",
      "Warping D:\\Annies_Dissertation\\MAIAC_Test\\subset\\2012\\MAIACAAOT.h00v01.20120011310.hdf\n",
      "Geolocating D:\\Annies_Dissertation\\MAIAC_Test\\subset\\2012\\MAIACAAOT.h00v01.20120011450.hdf\n",
      "Warping D:\\Annies_Dissertation\\MAIAC_Test\\subset\\2012\\MAIACAAOT.h00v01.20120011450.hdf\n",
      "Geolocating D:\\Annies_Dissertation\\MAIAC_Test\\subset\\2012\\MAIACAAOT.h00v01.20120021215.hdf\n",
      "Warping D:\\Annies_Dissertation\\MAIAC_Test\\subset\\2012\\MAIACAAOT.h00v01.20120021215.hdf\n",
      "Geolocating D:\\Annies_Dissertation\\MAIAC_Test\\subset\\2012\\MAIACAAOT.h00v01.20120021355.hdf\n",
      "Warping D:\\Annies_Dissertation\\MAIAC_Test\\subset\\2012\\MAIACAAOT.h00v01.20120021355.hdf\n",
      "Geolocating D:\\Annies_Dissertation\\MAIAC_Test\\subset\\2012\\MAIACAAOT.h00v01.20120031300.hdf\n",
      "Warping D:\\Annies_Dissertation\\MAIAC_Test\\subset\\2012\\MAIACAAOT.h00v01.20120031300.hdf\n",
      "Geolocating D:\\Annies_Dissertation\\MAIAC_Test\\subset\\2012\\MAIACAAOT.h00v01.20120031440.hdf\n",
      "Warping D:\\Annies_Dissertation\\MAIAC_Test\\subset\\2012\\MAIACAAOT.h00v01.20120031440.hdf\n",
      "Geolocating D:\\Annies_Dissertation\\MAIAC_Test\\subset\\2012\\MAIACAAOT.h00v01.20120041340.hdf\n",
      "Warping D:\\Annies_Dissertation\\MAIAC_Test\\subset\\2012\\MAIACAAOT.h00v01.20120041340.hdf\n",
      "Geolocating D:\\Annies_Dissertation\\MAIAC_Test\\subset\\2012\\MAIACAAOT.h00v01.20120051245.hdf\n",
      "Warping D:\\Annies_Dissertation\\MAIAC_Test\\subset\\2012\\MAIACAAOT.h00v01.20120051245.hdf\n",
      "Geolocating D:\\Annies_Dissertation\\MAIAC_Test\\subset\\2012\\MAIACAAOT.h00v01.20120051425.hdf\n",
      "Warping D:\\Annies_Dissertation\\MAIAC_Test\\subset\\2012\\MAIACAAOT.h00v01.20120051425.hdf\n",
      "Geolocating D:\\Annies_Dissertation\\MAIAC_Test\\subset\\2012\\MAIACAAOT.h00v01.20120061150.hdf\n",
      "Warping D:\\Annies_Dissertation\\MAIAC_Test\\subset\\2012\\MAIACAAOT.h00v01.20120061150.hdf\n",
      "Geolocating D:\\Annies_Dissertation\\MAIAC_Test\\subset\\2013\\MAIACAAOT.h00v01.20130011145.hdf\n",
      "Warping D:\\Annies_Dissertation\\MAIAC_Test\\subset\\2013\\MAIACAAOT.h00v01.20130011145.hdf\n",
      "Geolocating D:\\Annies_Dissertation\\MAIAC_Test\\subset\\2013\\MAIACAAOT.h00v01.20130011325.hdf\n",
      "Warping D:\\Annies_Dissertation\\MAIAC_Test\\subset\\2013\\MAIACAAOT.h00v01.20130011325.hdf\n",
      "Geolocating D:\\Annies_Dissertation\\MAIAC_Test\\subset\\2013\\MAIACAAOT.h00v01.20130011505.hdf\n",
      "Warping D:\\Annies_Dissertation\\MAIAC_Test\\subset\\2013\\MAIACAAOT.h00v01.20130011505.hdf\n",
      "Geolocating D:\\Annies_Dissertation\\MAIAC_Test\\subset\\2013\\MAIACAAOT.h00v01.20130021230.hdf\n",
      "Warping D:\\Annies_Dissertation\\MAIAC_Test\\subset\\2013\\MAIACAAOT.h00v01.20130021230.hdf\n",
      "Geolocating D:\\Annies_Dissertation\\MAIAC_Test\\subset\\2013\\MAIACAAOT.h00v01.20130021405.hdf\n",
      "Warping D:\\Annies_Dissertation\\MAIAC_Test\\subset\\2013\\MAIACAAOT.h00v01.20130021405.hdf\n",
      "Geolocating D:\\Annies_Dissertation\\MAIAC_Test\\subset\\2013\\MAIACAAOT.h00v01.20130031135.hdf\n",
      "Warping D:\\Annies_Dissertation\\MAIAC_Test\\subset\\2013\\MAIACAAOT.h00v01.20130031135.hdf\n",
      "Geolocating D:\\Annies_Dissertation\\MAIAC_Test\\subset\\2013\\MAIACAAOT.h00v01.20130031310.hdf\n",
      "Warping D:\\Annies_Dissertation\\MAIAC_Test\\subset\\2013\\MAIACAAOT.h00v01.20130031310.hdf\n",
      "Geolocating D:\\Annies_Dissertation\\MAIAC_Test\\subset\\2013\\MAIACAAOT.h00v01.20130031450.hdf\n",
      "Warping D:\\Annies_Dissertation\\MAIAC_Test\\subset\\2013\\MAIACAAOT.h00v01.20130031450.hdf\n",
      "Geolocating D:\\Annies_Dissertation\\MAIAC_Test\\subset\\2013\\MAIACAAOT.h00v01.20130041215.hdf\n",
      "Warping D:\\Annies_Dissertation\\MAIAC_Test\\subset\\2013\\MAIACAAOT.h00v01.20130041215.hdf\n",
      "Geolocating D:\\Annies_Dissertation\\MAIAC_Test\\subset\\2013\\MAIACAAOT.h00v01.20130041355.hdf\n",
      "Warping D:\\Annies_Dissertation\\MAIAC_Test\\subset\\2013\\MAIACAAOT.h00v01.20130041355.hdf\n",
      "Geolocating D:\\Annies_Dissertation\\MAIAC_Test\\subset\\2014\\MAIACAAOT.h00v01.20140011255.hdf\n",
      "Warping D:\\Annies_Dissertation\\MAIAC_Test\\subset\\2014\\MAIACAAOT.h00v01.20140011255.hdf\n",
      "Geolocating D:\\Annies_Dissertation\\MAIAC_Test\\subset\\2014\\MAIACAAOT.h00v01.20140011430.hdf\n",
      "Warping D:\\Annies_Dissertation\\MAIAC_Test\\subset\\2014\\MAIACAAOT.h00v01.20140011430.hdf\n",
      "Geolocating D:\\Annies_Dissertation\\MAIAC_Test\\subset\\2014\\MAIACAAOT.h00v01.20140021200.hdf\n",
      "Warping D:\\Annies_Dissertation\\MAIAC_Test\\subset\\2014\\MAIACAAOT.h00v01.20140021200.hdf\n",
      "Geolocating D:\\Annies_Dissertation\\MAIAC_Test\\subset\\2014\\MAIACAAOT.h00v01.20140021335.hdf\n",
      "Warping D:\\Annies_Dissertation\\MAIAC_Test\\subset\\2014\\MAIACAAOT.h00v01.20140021335.hdf\n",
      "Geolocating D:\\Annies_Dissertation\\MAIAC_Test\\subset\\2014\\MAIACAAOT.h00v01.20140031240.hdf\n",
      "Warping D:\\Annies_Dissertation\\MAIAC_Test\\subset\\2014\\MAIACAAOT.h00v01.20140031240.hdf\n",
      "Geolocating D:\\Annies_Dissertation\\MAIAC_Test\\subset\\2014\\MAIACAAOT.h00v01.20140031420.hdf\n",
      "Warping D:\\Annies_Dissertation\\MAIAC_Test\\subset\\2014\\MAIACAAOT.h00v01.20140031420.hdf\n",
      "Geolocating D:\\Annies_Dissertation\\MAIAC_Test\\subset\\2014\\MAIACAAOT.h00v01.20140041145.hdf\n",
      "Warping D:\\Annies_Dissertation\\MAIAC_Test\\subset\\2014\\MAIACAAOT.h00v01.20140041145.hdf\n",
      "Geolocating D:\\Annies_Dissertation\\MAIAC_Test\\subset\\2014\\MAIACAAOT.h00v01.20140041325.hdf\n",
      "Warping D:\\Annies_Dissertation\\MAIAC_Test\\subset\\2014\\MAIACAAOT.h00v01.20140041325.hdf\n",
      "Geolocating D:\\Annies_Dissertation\\MAIAC_Test\\subset\\2014\\MAIACAAOT.h00v01.20140041505.hdf\n",
      "Warping D:\\Annies_Dissertation\\MAIAC_Test\\subset\\2014\\MAIACAAOT.h00v01.20140041505.hdf\n",
      "Geolocating D:\\Annies_Dissertation\\MAIAC_Test\\subset\\2014\\MAIACAAOT.h00v01.20140051230.hdf\n",
      "Warping D:\\Annies_Dissertation\\MAIAC_Test\\subset\\2014\\MAIACAAOT.h00v01.20140051230.hdf\n"
     ]
    }
   ],
   "source": [
    "for filename in filenames:\n",
    "    print('Geolocating {fname}'.format(fname=filename))\n",
    "    geoloc(filename)\n",
    "    print('Warping {fname}'.format(fname=filename))\n",
    "    warp(filename)\n",
    "    "
   ]
  },
  {
   "cell_type": "code",
   "execution_count": null,
   "metadata": {
    "collapsed": true
   },
   "outputs": [],
   "source": []
  }
 ],
 "metadata": {
  "kernelspec": {
   "display_name": "Python 3",
   "language": "python",
   "name": "python3"
  },
  "language_info": {
   "codemirror_mode": {
    "name": "ipython",
    "version": 3
   },
   "file_extension": ".py",
   "mimetype": "text/x-python",
   "name": "python",
   "nbconvert_exporter": "python",
   "pygments_lexer": "ipython3",
   "version": "3.5.1"
  }
 },
 "nbformat": 4,
 "nbformat_minor": 0
}
