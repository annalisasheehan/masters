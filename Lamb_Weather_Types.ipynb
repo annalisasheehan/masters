{
 "cells": [
  {
   "cell_type": "code",
   "execution_count": 1,
   "metadata": {
    "collapsed": true
   },
   "outputs": [],
   "source": [
    "import pandas as pd"
   ]
  },
  {
   "cell_type": "code",
   "execution_count": 16,
   "metadata": {
    "collapsed": true
   },
   "outputs": [],
   "source": [
    "%matplotlib inline\n",
    "from matplotlib.pyplot import *"
   ]
  },
  {
   "cell_type": "code",
   "execution_count": 2,
   "metadata": {
    "collapsed": true
   },
   "outputs": [],
   "source": [
    "lwt = pd.read_csv(r\"D:\\Annies_Dissertation\\Analysis\\Regression\\Lamb\\Lamb_weather_types.csv\")"
   ]
  },
  {
   "cell_type": "code",
   "execution_count": 6,
   "metadata": {
    "collapsed": true
   },
   "outputs": [],
   "source": [
    "lwt = lwt[lwt.year > 2000]"
   ]
  },
  {
   "cell_type": "code",
   "execution_count": 20,
   "metadata": {
    "collapsed": false
   },
   "outputs": [
    {
     "data": {
      "text/plain": [
       "<matplotlib.figure.Figure at 0x66bf8d1978>"
      ]
     },
     "metadata": {},
     "output_type": "display_data"
    }
   ],
   "source": [
    "figure(figsize=(20,8))\n",
    "g = lwt.groupby('LWT')"
   ]
  },
  {
   "cell_type": "code",
   "execution_count": 27,
   "metadata": {
    "collapsed": false
   },
   "outputs": [
    {
     "name": "stderr",
     "output_type": "stream",
     "text": [
      "D:\\Anaconda3\\lib\\site-packages\\pandas\\tools\\plotting.py:3082: FutureWarning: \n",
      "The default value for 'return_type' will change to 'axes' in a future release.\n",
      " To use the future behavior now, set return_type='axes'.\n",
      " To keep the previous behavior and silence this warning, set return_type='dict'.\n",
      "  rot=rot, grid=grid, **kwds)\n"
     ]
    },
    {
     "data": {
      "text/plain": [
       "OrderedDict([(-1,\n",
       "              {'boxes': [<matplotlib.lines.Line2D at 0x66d1648e48>],\n",
       "               'caps': [<matplotlib.lines.Line2D at 0x66d1611cc0>,\n",
       "                <matplotlib.lines.Line2D at 0x66d1746f60>],\n",
       "               'fliers': [<matplotlib.lines.Line2D at 0x66d179fa58>],\n",
       "               'means': [],\n",
       "               'medians': [<matplotlib.lines.Line2D at 0x66d179f240>],\n",
       "               'whiskers': [<matplotlib.lines.Line2D at 0x66d1798940>,\n",
       "                <matplotlib.lines.Line2D at 0x66d1796940>]}),\n",
       "             (0,\n",
       "              {'boxes': [<matplotlib.lines.Line2D at 0x66d17a2a90>],\n",
       "               'caps': [<matplotlib.lines.Line2D at 0x66d17a6fd0>,\n",
       "                <matplotlib.lines.Line2D at 0x66d17ab908>],\n",
       "               'fliers': [<matplotlib.lines.Line2D at 0x66d17b0978>],\n",
       "               'means': [],\n",
       "               'medians': [<matplotlib.lines.Line2D at 0x66d17aba20>],\n",
       "               'whiskers': [<matplotlib.lines.Line2D at 0x66d17a2ba8>,\n",
       "                <matplotlib.lines.Line2D at 0x66d16ba470>]}),\n",
       "             (1,\n",
       "              {'boxes': [<matplotlib.lines.Line2D at 0x66d17b62b0>],\n",
       "               'caps': [<matplotlib.lines.Line2D at 0x66d17bb9b0>,\n",
       "                <matplotlib.lines.Line2D at 0x66d17bbac8>],\n",
       "               'fliers': [<matplotlib.lines.Line2D at 0x66d17c1b38>],\n",
       "               'means': [],\n",
       "               'medians': [<matplotlib.lines.Line2D at 0x66d17c1320>],\n",
       "               'whiskers': [<matplotlib.lines.Line2D at 0x66d17b6940>,\n",
       "                <matplotlib.lines.Line2D at 0x66d17b6a58>]}),\n",
       "             (2,\n",
       "              {'boxes': [<matplotlib.lines.Line2D at 0x66d17c6a90>],\n",
       "               'caps': [<matplotlib.lines.Line2D at 0x66d17cca90>,\n",
       "                <matplotlib.lines.Line2D at 0x66d17a2b00>],\n",
       "               'fliers': [<matplotlib.lines.Line2D at 0x66d17d6978>],\n",
       "               'means': [],\n",
       "               'medians': [<matplotlib.lines.Line2D at 0x66d17d2a20>],\n",
       "               'whiskers': [<matplotlib.lines.Line2D at 0x66d17c6ba8>,\n",
       "                <matplotlib.lines.Line2D at 0x66d17cc978>]}),\n",
       "             (3,\n",
       "              {'boxes': [<matplotlib.lines.Line2D at 0x66d17dc2b0>],\n",
       "               'caps': [<matplotlib.lines.Line2D at 0x66d17e28d0>,\n",
       "                <matplotlib.lines.Line2D at 0x66d17e29e8>],\n",
       "               'fliers': [<matplotlib.lines.Line2D at 0x66d17e5a58>],\n",
       "               'means': [],\n",
       "               'medians': [<matplotlib.lines.Line2D at 0x66d17e5240>],\n",
       "               'whiskers': [<matplotlib.lines.Line2D at 0x66d17dc940>,\n",
       "                <matplotlib.lines.Line2D at 0x66d17dca58>]}),\n",
       "             (4,\n",
       "              {'boxes': [<matplotlib.lines.Line2D at 0x66d17eba90>],\n",
       "               'caps': [<matplotlib.lines.Line2D at 0x66d17f0c50>,\n",
       "                <matplotlib.lines.Line2D at 0x66d17f6ba8>],\n",
       "               'fliers': [<matplotlib.lines.Line2D at 0x66d17fcc18>],\n",
       "               'means': [],\n",
       "               'medians': [<matplotlib.lines.Line2D at 0x66d17f6cc0>],\n",
       "               'whiskers': [<matplotlib.lines.Line2D at 0x66d17dc208>,\n",
       "                <matplotlib.lines.Line2D at 0x66d17f0b38>]}),\n",
       "             (5,\n",
       "              {'boxes': [<matplotlib.lines.Line2D at 0x66d1800550>],\n",
       "               'caps': [<matplotlib.lines.Line2D at 0x66d1806c50>,\n",
       "                <matplotlib.lines.Line2D at 0x66d1806d68>],\n",
       "               'fliers': [<matplotlib.lines.Line2D at 0x66d180add8>],\n",
       "               'means': [],\n",
       "               'medians': [<matplotlib.lines.Line2D at 0x66d180a5c0>],\n",
       "               'whiskers': [<matplotlib.lines.Line2D at 0x66d1800be0>,\n",
       "                <matplotlib.lines.Line2D at 0x66d1800cf8>]}),\n",
       "             (6,\n",
       "              {'boxes': [<matplotlib.lines.Line2D at 0x66d180fd30>],\n",
       "               'caps': [<matplotlib.lines.Line2D at 0x66d1816d30>,\n",
       "                <matplotlib.lines.Line2D at 0x66d17ebb00>],\n",
       "               'fliers': [<matplotlib.lines.Line2D at 0x66d1765048>],\n",
       "               'means': [],\n",
       "               'medians': [<matplotlib.lines.Line2D at 0x66cf51f8d0>],\n",
       "               'whiskers': [<matplotlib.lines.Line2D at 0x66d180fe48>,\n",
       "                <matplotlib.lines.Line2D at 0x66d1816c18>]}),\n",
       "             (7,\n",
       "              {'boxes': [<matplotlib.lines.Line2D at 0x66d1820ac8>],\n",
       "               'caps': [<matplotlib.lines.Line2D at 0x66d1827ac8>,\n",
       "                <matplotlib.lines.Line2D at 0x66cc4f8710>],\n",
       "               'fliers': [<matplotlib.lines.Line2D at 0x66cf40d198>],\n",
       "               'means': [],\n",
       "               'medians': [<matplotlib.lines.Line2D at 0x66cd180f28>],\n",
       "               'whiskers': [<matplotlib.lines.Line2D at 0x66d1820be0>,\n",
       "                <matplotlib.lines.Line2D at 0x66d18279b0>]}),\n",
       "             (8,\n",
       "              {'boxes': [<matplotlib.lines.Line2D at 0x66d15ceba8>],\n",
       "               'caps': [<matplotlib.lines.Line2D at 0x66d169bb70>,\n",
       "                <matplotlib.lines.Line2D at 0x66d16a0550>],\n",
       "               'fliers': [<matplotlib.lines.Line2D at 0x66d16153c8>],\n",
       "               'means': [],\n",
       "               'medians': [<matplotlib.lines.Line2D at 0x66d1691c18>],\n",
       "               'whiskers': [<matplotlib.lines.Line2D at 0x66d17624e0>,\n",
       "                <matplotlib.lines.Line2D at 0x66d15efe80>]}),\n",
       "             (11,\n",
       "              {'boxes': [<matplotlib.lines.Line2D at 0x66d0575470>],\n",
       "               'caps': [<matplotlib.lines.Line2D at 0x66d049bba8>,\n",
       "                <matplotlib.lines.Line2D at 0x66d04576d8>],\n",
       "               'fliers': [<matplotlib.lines.Line2D at 0x66d03c86d8>],\n",
       "               'means': [],\n",
       "               'medians': [<matplotlib.lines.Line2D at 0x66d0410d68>],\n",
       "               'whiskers': [<matplotlib.lines.Line2D at 0x66d0530470>,\n",
       "                <matplotlib.lines.Line2D at 0x66d04f90f0>]}),\n",
       "             (12,\n",
       "              {'boxes': [<matplotlib.lines.Line2D at 0x66d0575d68>],\n",
       "               'caps': [<matplotlib.lines.Line2D at 0x66cf4a1f60>,\n",
       "                <matplotlib.lines.Line2D at 0x66cf4e3f28>],\n",
       "               'fliers': [<matplotlib.lines.Line2D at 0x66cf41a710>],\n",
       "               'means': [],\n",
       "               'medians': [<matplotlib.lines.Line2D at 0x66cf4eb940>],\n",
       "               'whiskers': [<matplotlib.lines.Line2D at 0x66cf57fef0>,\n",
       "                <matplotlib.lines.Line2D at 0x66cf528f60>]}),\n",
       "             (13,\n",
       "              {'boxes': [<matplotlib.lines.Line2D at 0x66cf38c860>],\n",
       "               'caps': [<matplotlib.lines.Line2D at 0x66cf2c0438>,\n",
       "                <matplotlib.lines.Line2D at 0x66cf28f710>],\n",
       "               'fliers': [<matplotlib.lines.Line2D at 0x66cf24e4e0>],\n",
       "               'means': [],\n",
       "               'medians': [<matplotlib.lines.Line2D at 0x66cf284b38>],\n",
       "               'whiskers': [<matplotlib.lines.Line2D at 0x66cf396710>,\n",
       "                <matplotlib.lines.Line2D at 0x66cf3147b8>]}),\n",
       "             (14,\n",
       "              {'boxes': [<matplotlib.lines.Line2D at 0x66ce85ab38>],\n",
       "               'caps': [<matplotlib.lines.Line2D at 0x66ce7cc8d0>,\n",
       "                <matplotlib.lines.Line2D at 0x66ce782eb8>],\n",
       "               'fliers': [<matplotlib.lines.Line2D at 0x66ce6bd898>],\n",
       "               'means': [],\n",
       "               'medians': [<matplotlib.lines.Line2D at 0x66ce6fcba8>],\n",
       "               'whiskers': [<matplotlib.lines.Line2D at 0x66ce85a240>,\n",
       "                <matplotlib.lines.Line2D at 0x66ce7c4eb8>]}),\n",
       "             (15,\n",
       "              {'boxes': [<matplotlib.lines.Line2D at 0x66ce62def0>],\n",
       "               'caps': [<matplotlib.lines.Line2D at 0x66ce508da0>,\n",
       "                <matplotlib.lines.Line2D at 0x66ce562be0>],\n",
       "               'fliers': [<matplotlib.lines.Line2D at 0x66ce4d6f60>],\n",
       "               'means': [],\n",
       "               'medians': [<matplotlib.lines.Line2D at 0x66ce512e48>],\n",
       "               'whiskers': [<matplotlib.lines.Line2D at 0x66ce5e8240>,\n",
       "                <matplotlib.lines.Line2D at 0x66ce5edef0>]}),\n",
       "             (16,\n",
       "              {'boxes': [<matplotlib.lines.Line2D at 0x66cd4298d0>],\n",
       "               'caps': [<matplotlib.lines.Line2D at 0x66cd358438>,\n",
       "                <matplotlib.lines.Line2D at 0x66cd367b00>],\n",
       "               'fliers': [<matplotlib.lines.Line2D at 0x66cd2e6470>],\n",
       "               'means': [],\n",
       "               'medians': [<matplotlib.lines.Line2D at 0x66cd31c438>],\n",
       "               'whiskers': [<matplotlib.lines.Line2D at 0x66cd431c18>,\n",
       "                <matplotlib.lines.Line2D at 0x66cd3a25c0>]}),\n",
       "             (17,\n",
       "              {'boxes': [<matplotlib.lines.Line2D at 0x66cd2561d0>],\n",
       "               'caps': [<matplotlib.lines.Line2D at 0x66cd186828>,\n",
       "                <matplotlib.lines.Line2D at 0x66cd12dc88>],\n",
       "               'fliers': [<matplotlib.lines.Line2D at 0x66cd0c2128>],\n",
       "               'means': [],\n",
       "               'medians': [<matplotlib.lines.Line2D at 0x66cd0ecda0>],\n",
       "               'whiskers': [<matplotlib.lines.Line2D at 0x66cd207588>,\n",
       "                <matplotlib.lines.Line2D at 0x66cd1d3ac8>]}),\n",
       "             (18,\n",
       "              {'boxes': [<matplotlib.lines.Line2D at 0x66cd059400>],\n",
       "               'caps': [<matplotlib.lines.Line2D at 0x66cd0147f0>,\n",
       "                <matplotlib.lines.Line2D at 0x66cca71470>],\n",
       "               'fliers': [<matplotlib.lines.Line2D at 0x66cc66a6a0>],\n",
       "               'means': [],\n",
       "               'medians': [<matplotlib.lines.Line2D at 0x66cc914668>],\n",
       "               'whiskers': [<matplotlib.lines.Line2D at 0x66d03bd4a8>,\n",
       "                <matplotlib.lines.Line2D at 0x66ceaddcc0>]}),\n",
       "             (20,\n",
       "              {'boxes': [<matplotlib.lines.Line2D at 0x66cc33f080>],\n",
       "               'caps': [<matplotlib.lines.Line2D at 0x66ceb0da58>,\n",
       "                <matplotlib.lines.Line2D at 0x66ceb0db70>],\n",
       "               'fliers': [<matplotlib.lines.Line2D at 0x66ceb11be0>],\n",
       "               'means': [],\n",
       "               'medians': [<matplotlib.lines.Line2D at 0x66ceb113c8>],\n",
       "               'whiskers': [<matplotlib.lines.Line2D at 0x66d182c9e8>,\n",
       "                <matplotlib.lines.Line2D at 0x66d182cb00>]}),\n",
       "             (21,\n",
       "              {'boxes': [<matplotlib.lines.Line2D at 0x66ceb16b38>],\n",
       "               'caps': [<matplotlib.lines.Line2D at 0x66ceb1cb38>,\n",
       "                <matplotlib.lines.Line2D at 0x66cc3ab780>],\n",
       "               'fliers': [<matplotlib.lines.Line2D at 0x66ceb28a20>],\n",
       "               'means': [],\n",
       "               'medians': [<matplotlib.lines.Line2D at 0x66ceb22ac8>],\n",
       "               'whiskers': [<matplotlib.lines.Line2D at 0x66ceb16c50>,\n",
       "                <matplotlib.lines.Line2D at 0x66ceb1ca20>]}),\n",
       "             (22,\n",
       "              {'boxes': [<matplotlib.lines.Line2D at 0x66ceb2d358>],\n",
       "               'caps': [<matplotlib.lines.Line2D at 0x66ceb34c18>,\n",
       "                <matplotlib.lines.Line2D at 0x66ceb34d30>],\n",
       "               'fliers': [<matplotlib.lines.Line2D at 0x66ceb38da0>],\n",
       "               'means': [],\n",
       "               'medians': [<matplotlib.lines.Line2D at 0x66ceb38588>],\n",
       "               'whiskers': [<matplotlib.lines.Line2D at 0x66ceb2dc88>,\n",
       "                <matplotlib.lines.Line2D at 0x66ceb2dda0>]}),\n",
       "             (23,\n",
       "              {'boxes': [<matplotlib.lines.Line2D at 0x66ceb3edd8>],\n",
       "               'caps': [<matplotlib.lines.Line2D at 0x66ceb45cf8>,\n",
       "                <matplotlib.lines.Line2D at 0x66ceb4ac50>],\n",
       "               'fliers': [<matplotlib.lines.Line2D at 0x66ceb50cc0>],\n",
       "               'means': [],\n",
       "               'medians': [<matplotlib.lines.Line2D at 0x66ceb4ad68>],\n",
       "               'whiskers': [<matplotlib.lines.Line2D at 0x66ceb2d2b0>,\n",
       "                <matplotlib.lines.Line2D at 0x66ceb45be0>]}),\n",
       "             (24,\n",
       "              {'boxes': [<matplotlib.lines.Line2D at 0x66ceb545f8>],\n",
       "               'caps': [<matplotlib.lines.Line2D at 0x66ceb5bcf8>,\n",
       "                <matplotlib.lines.Line2D at 0x66ceb5be10>],\n",
       "               'fliers': [<matplotlib.lines.Line2D at 0x66ceb61e80>],\n",
       "               'means': [],\n",
       "               'medians': [<matplotlib.lines.Line2D at 0x66ceb61668>],\n",
       "               'whiskers': [<matplotlib.lines.Line2D at 0x66ceb54c88>,\n",
       "                <matplotlib.lines.Line2D at 0x66ceb54da0>]}),\n",
       "             (25,\n",
       "              {'boxes': [<matplotlib.lines.Line2D at 0x66ceb66dd8>],\n",
       "               'caps': [<matplotlib.lines.Line2D at 0x66ceb6edd8>,\n",
       "                <matplotlib.lines.Line2D at 0x66ceb3ee48>],\n",
       "               'fliers': [<matplotlib.lines.Line2D at 0x66ceb78cc0>],\n",
       "               'means': [],\n",
       "               'medians': [<matplotlib.lines.Line2D at 0x66ceb73d68>],\n",
       "               'whiskers': [<matplotlib.lines.Line2D at 0x66ceb66ef0>,\n",
       "                <matplotlib.lines.Line2D at 0x66ceb6ecc0>]}),\n",
       "             (26,\n",
       "              {'boxes': [<matplotlib.lines.Line2D at 0x66ceb7e5f8>],\n",
       "               'caps': [<matplotlib.lines.Line2D at 0x66ceb84c18>,\n",
       "                <matplotlib.lines.Line2D at 0x66ceb84d30>],\n",
       "               'fliers': [<matplotlib.lines.Line2D at 0x66ceb89da0>],\n",
       "               'means': [],\n",
       "               'medians': [<matplotlib.lines.Line2D at 0x66ceb89588>],\n",
       "               'whiskers': [<matplotlib.lines.Line2D at 0x66ceb7ec88>,\n",
       "                <matplotlib.lines.Line2D at 0x66ceb7eda0>]}),\n",
       "             (27,\n",
       "              {'boxes': [<matplotlib.lines.Line2D at 0x66ceb8edd8>],\n",
       "               'caps': [<matplotlib.lines.Line2D at 0x66ceb96f98>,\n",
       "                <matplotlib.lines.Line2D at 0x66ceb9bef0>],\n",
       "               'fliers': [<matplotlib.lines.Line2D at 0x66ceba0f60>],\n",
       "               'means': [],\n",
       "               'medians': [<matplotlib.lines.Line2D at 0x66ceba0048>],\n",
       "               'whiskers': [<matplotlib.lines.Line2D at 0x66ceb7e550>,\n",
       "                <matplotlib.lines.Line2D at 0x66ceb96e80>]}),\n",
       "             (28,\n",
       "              {'boxes': [<matplotlib.lines.Line2D at 0x66ceba5898>],\n",
       "               'caps': [<matplotlib.lines.Line2D at 0x66cebacf98>,\n",
       "                <matplotlib.lines.Line2D at 0x66cebb17f0>],\n",
       "               'fliers': [<matplotlib.lines.Line2D at 0x66cebb7780>],\n",
       "               'means': [],\n",
       "               'medians': [<matplotlib.lines.Line2D at 0x66cebb1908>],\n",
       "               'whiskers': [<matplotlib.lines.Line2D at 0x66ceba5f28>,\n",
       "                <matplotlib.lines.Line2D at 0x66cebac780>]})])"
      ]
     },
     "execution_count": 27,
     "metadata": {},
     "output_type": "execute_result"
    },
    {
     "data": {
      "text/plain": [
       "<matplotlib.figure.Figure at 0x66cef66470>"
      ]
     },
     "metadata": {},
     "output_type": "display_data"
    },
    {
     "data": {
      "image/png": "[encoded data removed]",
      "text/plain": [
       "<matplotlib.figure.Figure at 0x66cef66898>"
      ]
     },
     "metadata": {},
     "output_type": "display_data"
    }
   ],
   "source": [
    "figure()\n",
    "g.boxplot(subplots=True, column=['PM_1000'], figsize=(20,8))"
   ]
  },
  {
   "cell_type": "code",
   "execution_count": 11,
   "metadata": {
    "collapsed": false
   },
   "outputs": [
    {
     "data": {
      "text/plain": [
       "year  month\n",
       "2001  1        20\n",
       "      2         0\n",
       "      3        20\n",
       "      4        20\n",
       "      5         0\n",
       "      6        17\n",
       "      7         0\n",
       "      8        20\n",
       "      9         0\n",
       "      10       20\n",
       "      11        0\n",
       "      12        0\n",
       "2002  1        15\n",
       "      2        16\n",
       "      3        16\n",
       "      4         0\n",
       "      5        20\n",
       "      6        20\n",
       "      7         0\n",
       "      8         0\n",
       "      9         0\n",
       "      10        0\n",
       "      11       20\n",
       "      12       20\n",
       "2003  1        16\n",
       "      2         0\n",
       "      3         0\n",
       "      4         0\n",
       "      5        20\n",
       "      6         0\n",
       "               ..\n",
       "2014  3        15\n",
       "      4        13\n",
       "      5        20\n",
       "      6         0\n",
       "      7         0\n",
       "      8        20\n",
       "      9         0\n",
       "      10       15\n",
       "      11       20\n",
       "      12       16\n",
       "2015  1        16\n",
       "      2         0\n",
       "      3         0\n",
       "      4         0\n",
       "      5        17\n",
       "      6         0\n",
       "      7         0\n",
       "      8        20\n",
       "      9         0\n",
       "      10        0\n",
       "      11       16\n",
       "      12       15\n",
       "2016  1        20\n",
       "      2        16\n",
       "      3         0\n",
       "      4        20\n",
       "      5        15\n",
       "      6        20\n",
       "      7        17\n",
       "      8        16\n",
       "dtype: int64"
      ]
     },
     "execution_count": 11,
     "metadata": {},
     "output_type": "execute_result"
    }
   ],
   "source": [
    "lwt.groupby(['year', 'month']).apply(lambda x:x.LWT.value_counts().index[0])"
   ]
  },
  {
   "cell_type": "code",
   "execution_count": null,
   "metadata": {
    "collapsed": true
   },
   "outputs": [],
   "source": []
  }
 ],
 "metadata": {
  "kernelspec": {
   "display_name": "Python 3",
   "language": "python",
   "name": "python3"
  },
  "language_info": {
   "codemirror_mode": {
    "name": "ipython",
    "version": 3
   },
   "file_extension": ".py",
   "mimetype": "text/x-python",
   "name": "python",
   "nbconvert_exporter": "python",
   "pygments_lexer": "ipython3",
   "version": "3.5.1"
  }
 },
 "nbformat": 4,
 "nbformat_minor": 0
}
