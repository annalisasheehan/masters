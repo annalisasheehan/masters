{
 "cells": [
  {
   "cell_type": "code",
   "execution_count": 2,
   "metadata": {
    "collapsed": true
   },
   "outputs": [],
   "source": [
    "import pandas as pd\n",
    "from scipy.stats import kstest"
   ]
  },
  {
   "cell_type": "code",
   "execution_count": 3,
   "metadata": {
    "collapsed": true
   },
   "outputs": [],
   "source": [
    "%matplotlib inline\n",
    "from matplotlib.pyplot import *"
   ]
  },
  {
   "cell_type": "code",
   "execution_count": 4,
   "metadata": {
    "collapsed": true
   },
   "outputs": [],
   "source": [
    "lwt = pd.read_csv(r\"D:\\Annies_Dissertation\\Analysis\\Regression\\Lamb\\Lamb_weather_types.csv\")"
   ]
  },
  {
   "cell_type": "code",
   "execution_count": 5,
   "metadata": {
    "collapsed": true
   },
   "outputs": [],
   "source": [
    "lwt = lwt[lwt.year > 2000]"
   ]
  },
  {
   "cell_type": "code",
   "execution_count": 6,
   "metadata": {
    "collapsed": false
   },
   "outputs": [
    {
     "data": {
      "text/html": [
       "<div>\n",
       "<table border=\"1\" class=\"dataframe\">\n",
       "  <thead>\n",
       "    <tr style=\"text-align: right;\">\n",
       "      <th></th>\n",
       "      <th>day</th>\n",
       "      <th>month</th>\n",
       "      <th>year</th>\n",
       "      <th>PM_1000</th>\n",
       "      <th>W</th>\n",
       "      <th>S</th>\n",
       "      <th>F</th>\n",
       "      <th>Z</th>\n",
       "      <th>G</th>\n",
       "      <th>Dir</th>\n",
       "      <th>LWT</th>\n",
       "    </tr>\n",
       "  </thead>\n",
       "  <tbody>\n",
       "    <tr>\n",
       "      <th>47482</th>\n",
       "      <td>1</td>\n",
       "      <td>1</td>\n",
       "      <td>2001</td>\n",
       "      <td>-14.1</td>\n",
       "      <td>6.4</td>\n",
       "      <td>24.4</td>\n",
       "      <td>25.3</td>\n",
       "      <td>68.6</td>\n",
       "      <td>42.6</td>\n",
       "      <td>194.7</td>\n",
       "      <td>20</td>\n",
       "    </tr>\n",
       "    <tr>\n",
       "      <th>47483</th>\n",
       "      <td>2</td>\n",
       "      <td>1</td>\n",
       "      <td>2001</td>\n",
       "      <td>-9.2</td>\n",
       "      <td>9.5</td>\n",
       "      <td>2.4</td>\n",
       "      <td>9.8</td>\n",
       "      <td>81.6</td>\n",
       "      <td>42.0</td>\n",
       "      <td>255.6</td>\n",
       "      <td>20</td>\n",
       "    </tr>\n",
       "    <tr>\n",
       "      <th>47484</th>\n",
       "      <td>3</td>\n",
       "      <td>1</td>\n",
       "      <td>2001</td>\n",
       "      <td>-7.7</td>\n",
       "      <td>15.6</td>\n",
       "      <td>20.6</td>\n",
       "      <td>25.9</td>\n",
       "      <td>36.6</td>\n",
       "      <td>31.7</td>\n",
       "      <td>217.3</td>\n",
       "      <td>25</td>\n",
       "    </tr>\n",
       "    <tr>\n",
       "      <th>47485</th>\n",
       "      <td>4</td>\n",
       "      <td>1</td>\n",
       "      <td>2001</td>\n",
       "      <td>-6.6</td>\n",
       "      <td>8.4</td>\n",
       "      <td>2.3</td>\n",
       "      <td>8.7</td>\n",
       "      <td>53.4</td>\n",
       "      <td>28.1</td>\n",
       "      <td>254.4</td>\n",
       "      <td>20</td>\n",
       "    </tr>\n",
       "    <tr>\n",
       "      <th>47486</th>\n",
       "      <td>5</td>\n",
       "      <td>1</td>\n",
       "      <td>2001</td>\n",
       "      <td>-9.1</td>\n",
       "      <td>5.3</td>\n",
       "      <td>-3.0</td>\n",
       "      <td>6.1</td>\n",
       "      <td>52.7</td>\n",
       "      <td>27.0</td>\n",
       "      <td>299.9</td>\n",
       "      <td>20</td>\n",
       "    </tr>\n",
       "  </tbody>\n",
       "</table>\n",
       "</div>"
      ],
      "text/plain": [
       "       day  month  year  PM_1000     W     S     F     Z     G    Dir  LWT\n",
       "47482    1      1  2001    -14.1   6.4  24.4  25.3  68.6  42.6  194.7   20\n",
       "47483    2      1  2001     -9.2   9.5   2.4   9.8  81.6  42.0  255.6   20\n",
       "47484    3      1  2001     -7.7  15.6  20.6  25.9  36.6  31.7  217.3   25\n",
       "47485    4      1  2001     -6.6   8.4   2.3   8.7  53.4  28.1  254.4   20\n",
       "47486    5      1  2001     -9.1   5.3  -3.0   6.1  52.7  27.0  299.9   20"
      ]
     },
     "execution_count": 6,
     "metadata": {},
     "output_type": "execute_result"
    }
   ],
   "source": [
    "lwt[:5]"
   ]
  },
  {
   "cell_type": "code",
   "execution_count": 7,
   "metadata": {
    "collapsed": true
   },
   "outputs": [],
   "source": [
    "AP = pd.read_csv(r'D:\\Annies_Dissertation\\Analysis\\Regression\\Lamb\\AP_Cities.csv')"
   ]
  },
  {
   "cell_type": "code",
   "execution_count": 8,
   "metadata": {
    "collapsed": true
   },
   "outputs": [],
   "source": [
    "AP = AP.rename(columns={'value': 'PM25'})"
   ]
  },
  {
   "cell_type": "code",
   "execution_count": 9,
   "metadata": {
    "collapsed": true
   },
   "outputs": [],
   "source": [
    "Soton_AP = AP.loc[AP['City'] == 'E06000045']"
   ]
  },
  {
   "cell_type": "code",
   "execution_count": 10,
   "metadata": {
    "collapsed": false
   },
   "outputs": [
    {
     "data": {
      "text/html": [
       "<div>\n",
       "<table border=\"1\" class=\"dataframe\">\n",
       "  <thead>\n",
       "    <tr style=\"text-align: right;\">\n",
       "      <th></th>\n",
       "      <th>Unnamed: 0</th>\n",
       "      <th>time</th>\n",
       "      <th>City</th>\n",
       "      <th>PM25</th>\n",
       "      <th>month</th>\n",
       "      <th>year</th>\n",
       "      <th>day</th>\n",
       "    </tr>\n",
       "  </thead>\n",
       "  <tbody>\n",
       "    <tr>\n",
       "      <th>2396</th>\n",
       "      <td>2692</td>\n",
       "      <td>2000-02-25</td>\n",
       "      <td>E06000045</td>\n",
       "      <td>14.118634</td>\n",
       "      <td>2</td>\n",
       "      <td>2000</td>\n",
       "      <td>25</td>\n",
       "    </tr>\n",
       "    <tr>\n",
       "      <th>2397</th>\n",
       "      <td>2693</td>\n",
       "      <td>2000-02-26</td>\n",
       "      <td>E06000045</td>\n",
       "      <td>20.691448</td>\n",
       "      <td>2</td>\n",
       "      <td>2000</td>\n",
       "      <td>26</td>\n",
       "    </tr>\n",
       "    <tr>\n",
       "      <th>2398</th>\n",
       "      <td>2694</td>\n",
       "      <td>2000-02-28</td>\n",
       "      <td>E06000045</td>\n",
       "      <td>20.323462</td>\n",
       "      <td>2</td>\n",
       "      <td>2000</td>\n",
       "      <td>28</td>\n",
       "    </tr>\n",
       "    <tr>\n",
       "      <th>2399</th>\n",
       "      <td>2696</td>\n",
       "      <td>2000-03-03</td>\n",
       "      <td>E06000045</td>\n",
       "      <td>17.397324</td>\n",
       "      <td>3</td>\n",
       "      <td>2000</td>\n",
       "      <td>3</td>\n",
       "    </tr>\n",
       "    <tr>\n",
       "      <th>2400</th>\n",
       "      <td>2697</td>\n",
       "      <td>2000-03-04</td>\n",
       "      <td>E06000045</td>\n",
       "      <td>16.998253</td>\n",
       "      <td>3</td>\n",
       "      <td>2000</td>\n",
       "      <td>4</td>\n",
       "    </tr>\n",
       "  </tbody>\n",
       "</table>\n",
       "</div>"
      ],
      "text/plain": [
       "      Unnamed: 0        time       City       PM25  month  year  day\n",
       "2396        2692  2000-02-25  E06000045  14.118634      2  2000   25\n",
       "2397        2693  2000-02-26  E06000045  20.691448      2  2000   26\n",
       "2398        2694  2000-02-28  E06000045  20.323462      2  2000   28\n",
       "2399        2696  2000-03-03  E06000045  17.397324      3  2000    3\n",
       "2400        2697  2000-03-04  E06000045  16.998253      3  2000    4"
      ]
     },
     "execution_count": 10,
     "metadata": {},
     "output_type": "execute_result"
    }
   ],
   "source": [
    "Soton_AP[:5]"
   ]
  },
  {
   "cell_type": "code",
   "execution_count": 11,
   "metadata": {
    "collapsed": true
   },
   "outputs": [],
   "source": [
    "Soton_lwt_AP = pd.merge(lwt, Soton_AP, on=['year', 'month', 'day'])"
   ]
  },
  {
   "cell_type": "code",
   "execution_count": 13,
   "metadata": {
    "collapsed": false
   },
   "outputs": [
    {
     "data": {
      "text/plain": [
       "<matplotlib.figure.Figure at 0xb58ef17898>"
      ]
     },
     "metadata": {},
     "output_type": "display_data"
    }
   ],
   "source": [
    "figure(figsize=(24,14))\n",
    "soton = Soton_lwt_AP.groupby('LWT')"
   ]
  },
  {
   "cell_type": "code",
   "execution_count": 17,
   "metadata": {
    "collapsed": false
   },
   "outputs": [
    {
     "data": {
      "text/plain": [
       "KstestResult(statistic=0.98559972767235449, pvalue=0.0)"
      ]
     },
     "execution_count": 17,
     "metadata": {},
     "output_type": "execute_result"
    }
   ],
   "source": [
    "kstest(Soton_AP.PM25, 'norm')"
   ]
  },
  {
   "cell_type": "code",
   "execution_count": 23,
   "metadata": {
    "collapsed": false
   },
   "outputs": [
    {
     "name": "stderr",
     "output_type": "stream",
     "text": [
      "D:\\Anaconda3\\lib\\site-packages\\pandas\\tools\\plotting.py:3082: FutureWarning: \n",
      "The default value for 'return_type' will change to 'axes' in a future release.\n",
      " To use the future behavior now, set return_type='axes'.\n",
      " To keep the previous behavior and silence this warning, set return_type='dict'.\n",
      "  rot=rot, grid=grid, **kwds)\n"
     ]
    },
    {
     "data": {
      "text/plain": [
       "<matplotlib.figure.Figure at 0xb58fa3f198>"
      ]
     },
     "metadata": {},
     "output_type": "display_data"
    },
    {
     "data": {
      "image/png": "[encoded data removed]",
      "text/plain": [
       "<matplotlib.figure.Figure at 0xb58fa3f390>"
      ]
     },
     "metadata": {},
     "output_type": "display_data"
    }
   ],
   "source": [
    "figure()\n",
    "soton.boxplot(subplots=True, column=['PM25'], figsize=(24,24), showfliers=False, fontsize = 12)\n",
    "savefig(r'D:\\Annies_Dissertation\\Analysis\\Regression\\Lamb\\Boxplot_soton.png')"
   ]
  },
  {
   "cell_type": "code",
   "execution_count": 11,
   "metadata": {
    "collapsed": false,
    "scrolled": true
   },
   "outputs": [
    {
     "data": {
      "text/plain": [
       "year  month\n",
       "2001  1        20\n",
       "      2         0\n",
       "      3        20\n",
       "      4        20\n",
       "      5         0\n",
       "      6        17\n",
       "      7         0\n",
       "      8        20\n",
       "      9         0\n",
       "      10       20\n",
       "      11        0\n",
       "      12        0\n",
       "2002  1        15\n",
       "      2        16\n",
       "      3        16\n",
       "      4         0\n",
       "      5        20\n",
       "      6        20\n",
       "      7         0\n",
       "      8         0\n",
       "      9         0\n",
       "      10        0\n",
       "      11       20\n",
       "      12       20\n",
       "2003  1        16\n",
       "      2         0\n",
       "      3         0\n",
       "      4         0\n",
       "      5        20\n",
       "      6         0\n",
       "               ..\n",
       "2014  3        15\n",
       "      4        13\n",
       "      5        20\n",
       "      6         0\n",
       "      7         0\n",
       "      8        20\n",
       "      9         0\n",
       "      10       15\n",
       "      11       20\n",
       "      12       16\n",
       "2015  1        16\n",
       "      2         0\n",
       "      3         0\n",
       "      4         0\n",
       "      5        17\n",
       "      6         0\n",
       "      7         0\n",
       "      8        20\n",
       "      9         0\n",
       "      10        0\n",
       "      11       16\n",
       "      12       15\n",
       "2016  1        20\n",
       "      2        16\n",
       "      3         0\n",
       "      4        20\n",
       "      5        15\n",
       "      6        20\n",
       "      7        17\n",
       "      8        16\n",
       "dtype: int64"
      ]
     },
     "execution_count": 11,
     "metadata": {},
     "output_type": "execute_result"
    }
   ],
   "source": [
    "lwt.groupby(['year', 'month']).apply(lambda x:x.LWT.value_counts().index[0])"
   ]
  },
  {
   "cell_type": "code",
   "execution_count": 18,
   "metadata": {
    "collapsed": true
   },
   "outputs": [],
   "source": [
    "Bmth_AP = AP.loc[AP['City'] == 'E06000028']"
   ]
  },
  {
   "cell_type": "code",
   "execution_count": 19,
   "metadata": {
    "collapsed": true
   },
   "outputs": [],
   "source": [
    "Bmth_lwt_AP = pd.merge(lwt, Bmth_AP, on=['year', 'month', 'day'])"
   ]
  },
  {
   "cell_type": "code",
   "execution_count": 20,
   "metadata": {
    "collapsed": false
   },
   "outputs": [
    {
     "data": {
      "text/html": [
       "<div>\n",
       "<table border=\"1\" class=\"dataframe\">\n",
       "  <thead>\n",
       "    <tr style=\"text-align: right;\">\n",
       "      <th></th>\n",
       "      <th>day</th>\n",
       "      <th>month</th>\n",
       "      <th>year</th>\n",
       "      <th>PM_1000</th>\n",
       "      <th>W</th>\n",
       "      <th>S</th>\n",
       "      <th>F</th>\n",
       "      <th>Z</th>\n",
       "      <th>G</th>\n",
       "      <th>Dir</th>\n",
       "      <th>LWT</th>\n",
       "      <th>Unnamed: 0</th>\n",
       "      <th>time</th>\n",
       "      <th>City</th>\n",
       "      <th>PM25</th>\n",
       "    </tr>\n",
       "  </thead>\n",
       "  <tbody>\n",
       "    <tr>\n",
       "      <th>0</th>\n",
       "      <td>1</td>\n",
       "      <td>1</td>\n",
       "      <td>2001</td>\n",
       "      <td>-14.1</td>\n",
       "      <td>6.4</td>\n",
       "      <td>24.4</td>\n",
       "      <td>25.3</td>\n",
       "      <td>68.6</td>\n",
       "      <td>42.6</td>\n",
       "      <td>194.7</td>\n",
       "      <td>20</td>\n",
       "      <td>128</td>\n",
       "      <td>2001-01-01</td>\n",
       "      <td>E06000028</td>\n",
       "      <td>17.488951</td>\n",
       "    </tr>\n",
       "    <tr>\n",
       "      <th>1</th>\n",
       "      <td>7</td>\n",
       "      <td>1</td>\n",
       "      <td>2001</td>\n",
       "      <td>7.9</td>\n",
       "      <td>17.3</td>\n",
       "      <td>-11.2</td>\n",
       "      <td>20.6</td>\n",
       "      <td>38.0</td>\n",
       "      <td>28.0</td>\n",
       "      <td>303.0</td>\n",
       "      <td>27</td>\n",
       "      <td>131</td>\n",
       "      <td>2001-01-07</td>\n",
       "      <td>E06000028</td>\n",
       "      <td>6.870576</td>\n",
       "    </tr>\n",
       "    <tr>\n",
       "      <th>2</th>\n",
       "      <td>12</td>\n",
       "      <td>1</td>\n",
       "      <td>2001</td>\n",
       "      <td>22.1</td>\n",
       "      <td>-9.7</td>\n",
       "      <td>9.7</td>\n",
       "      <td>13.7</td>\n",
       "      <td>-44.2</td>\n",
       "      <td>26.0</td>\n",
       "      <td>135.1</td>\n",
       "      <td>0</td>\n",
       "      <td>133</td>\n",
       "      <td>2001-01-12</td>\n",
       "      <td>E06000028</td>\n",
       "      <td>3.535006</td>\n",
       "    </tr>\n",
       "    <tr>\n",
       "      <th>3</th>\n",
       "      <td>13</td>\n",
       "      <td>1</td>\n",
       "      <td>2001</td>\n",
       "      <td>25.9</td>\n",
       "      <td>-0.7</td>\n",
       "      <td>12.9</td>\n",
       "      <td>12.9</td>\n",
       "      <td>-38.2</td>\n",
       "      <td>23.0</td>\n",
       "      <td>176.9</td>\n",
       "      <td>0</td>\n",
       "      <td>134</td>\n",
       "      <td>2001-01-13</td>\n",
       "      <td>E06000028</td>\n",
       "      <td>8.494726</td>\n",
       "    </tr>\n",
       "    <tr>\n",
       "      <th>4</th>\n",
       "      <td>14</td>\n",
       "      <td>1</td>\n",
       "      <td>2001</td>\n",
       "      <td>25.1</td>\n",
       "      <td>0.0</td>\n",
       "      <td>11.9</td>\n",
       "      <td>11.9</td>\n",
       "      <td>-56.0</td>\n",
       "      <td>30.4</td>\n",
       "      <td>179.8</td>\n",
       "      <td>0</td>\n",
       "      <td>135</td>\n",
       "      <td>2001-01-14</td>\n",
       "      <td>E06000028</td>\n",
       "      <td>3.992900</td>\n",
       "    </tr>\n",
       "  </tbody>\n",
       "</table>\n",
       "</div>"
      ],
      "text/plain": [
       "   day  month  year  PM_1000     W     S     F     Z     G    Dir  LWT  \\\n",
       "0    1      1  2001    -14.1   6.4  24.4  25.3  68.6  42.6  194.7   20   \n",
       "1    7      1  2001      7.9  17.3 -11.2  20.6  38.0  28.0  303.0   27   \n",
       "2   12      1  2001     22.1  -9.7   9.7  13.7 -44.2  26.0  135.1    0   \n",
       "3   13      1  2001     25.9  -0.7  12.9  12.9 -38.2  23.0  176.9    0   \n",
       "4   14      1  2001     25.1   0.0  11.9  11.9 -56.0  30.4  179.8    0   \n",
       "\n",
       "   Unnamed: 0        time       City       PM25  \n",
       "0         128  2001-01-01  E06000028  17.488951  \n",
       "1         131  2001-01-07  E06000028   6.870576  \n",
       "2         133  2001-01-12  E06000028   3.535006  \n",
       "3         134  2001-01-13  E06000028   8.494726  \n",
       "4         135  2001-01-14  E06000028   3.992900  "
      ]
     },
     "execution_count": 20,
     "metadata": {},
     "output_type": "execute_result"
    }
   ],
   "source": [
    "Bmth_lwt_AP[:5]"
   ]
  },
  {
   "cell_type": "code",
   "execution_count": 21,
   "metadata": {
    "collapsed": false
   },
   "outputs": [
    {
     "data": {
      "text/plain": [
       "<matplotlib.figure.Figure at 0xb58f422470>"
      ]
     },
     "metadata": {},
     "output_type": "display_data"
    }
   ],
   "source": [
    "figure(figsize=(24,14))\n",
    "bmth = Bmth_lwt_AP.groupby('LWT')"
   ]
  },
  {
   "cell_type": "code",
   "execution_count": 22,
   "metadata": {
    "collapsed": false
   },
   "outputs": [
    {
     "name": "stderr",
     "output_type": "stream",
     "text": [
      "D:\\Anaconda3\\lib\\site-packages\\pandas\\tools\\plotting.py:3082: FutureWarning: \n",
      "The default value for 'return_type' will change to 'axes' in a future release.\n",
      " To use the future behavior now, set return_type='axes'.\n",
      " To keep the previous behavior and silence this warning, set return_type='dict'.\n",
      "  rot=rot, grid=grid, **kwds)\n"
     ]
    },
    {
     "data": {
      "text/plain": [
       "<matplotlib.figure.Figure at 0xb58f40eb38>"
      ]
     },
     "metadata": {},
     "output_type": "display_data"
    },
    {
     "data": {
      "image/png": "[encoded data removed]",
      "text/plain": [
       "<matplotlib.figure.Figure at 0xb58f7f35f8>"
      ]
     },
     "metadata": {},
     "output_type": "display_data"
    }
   ],
   "source": [
    "figure()\n",
    "bmth.boxplot(subplots=True, column=['PM25'], figsize=(24,24), showfliers=False, fontsize = 12)\n",
    "savefig(r'D:\\Annies_Dissertation\\Analysis\\Regression\\Lamb\\Boxplot_bmth.png')"
   ]
  },
  {
   "cell_type": "code",
   "execution_count": null,
   "metadata": {
    "collapsed": true
   },
   "outputs": [],
   "source": []
  }
 ],
 "metadata": {
  "kernelspec": {
   "display_name": "Python 3",
   "language": "python",
   "name": "python3"
  },
  "language_info": {
   "codemirror_mode": {
    "name": "ipython",
    "version": 3
   },
   "file_extension": ".py",
   "mimetype": "text/x-python",
   "name": "python",
   "nbconvert_exporter": "python",
   "pygments_lexer": "ipython3",
   "version": "3.5.1"
  }
 },
 "nbformat": 4,
 "nbformat_minor": 0
}
